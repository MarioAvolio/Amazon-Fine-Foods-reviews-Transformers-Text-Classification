{
  "cells": [
    {
      "cell_type": "markdown",
      "metadata": {
        "id": "view-in-github",
        "colab_type": "text"
      },
      "source": [
        "<a href=\"https://colab.research.google.com/github/MarioAvolio/Amazon-Fine-Foods-reviews-Transformers-Text-Classification/blob/main/Amazon_Fine_Food_Review_Text_Classification_with_Standard_approaches.ipynb\" target=\"_parent\"><img src=\"https://colab.research.google.com/assets/colab-badge.svg\" alt=\"Open In Colab\"/></a>"
      ]
    },
    {
      "cell_type": "markdown",
      "metadata": {
        "id": "owaHBQRxPfPD"
      },
      "source": [
        "# Text Classification: a \"standard\" approach\n",
        "\n",
        "\n",
        "**Mario Avolio: 880995 - https://marioavolio.netlify.app/**\n",
        "\n",
        "Credits: \n",
        "- https://www.oreilly.com/library/view/practical-natural-language/9781492054047/\n",
        "\n",
        "Dataset:\n",
        "- https://snap.stanford.edu/data/web-FineFoods.html\n",
        "\n"
      ]
    },
    {
      "cell_type": "code",
      "execution_count": 1,
      "metadata": {
        "id": "GsRizD7zFJ3V"
      },
      "outputs": [],
      "source": [
        "import pandas as pd\n",
        "import os\n",
        "import matplotlib.pyplot as plt # plotting\n",
        "import numpy as np"
      ]
    },
    {
      "cell_type": "code",
      "execution_count": 2,
      "metadata": {
        "colab": {
          "base_uri": "https://localhost:8080/"
        },
        "id": "fJ6-kXG-0p7V",
        "outputId": "39bb17af-3c08-45eb-f744-d6e497a6eeba"
      },
      "outputs": [
        {
          "output_type": "stream",
          "name": "stdout",
          "text": [
            "Mounted at /content/drive\n"
          ]
        }
      ],
      "source": [
        "from google.colab import drive\n",
        "drive.mount('/content/drive', force_remount=True)"
      ]
    },
    {
      "cell_type": "markdown",
      "metadata": {
        "id": "MfUllriJXH6V"
      },
      "source": [
        "# Constants and Methods"
      ]
    },
    {
      "cell_type": "code",
      "execution_count": 3,
      "metadata": {
        "id": "_hhFPP6_GZvC"
      },
      "outputs": [],
      "source": [
        "PATH_PROJ = \"/content/drive/MyDrive/data-proj/\"\n",
        "# if not os.path.exists(PATH_PROJ):\n",
        "#   PATH_PROJ = \"/content/drive/MyDrive/shared/data-proj/\"\n",
        "\n",
        "PATH_DATASET = PATH_PROJ+\"preprocessed.csv\"\n",
        "NUM_CLASSES=3"
      ]
    },
    {
      "cell_type": "markdown",
      "metadata": {
        "id": "bcr0tZ5tKrtb"
      },
      "source": [
        "\n",
        "# Data "
      ]
    },
    {
      "cell_type": "code",
      "execution_count": 4,
      "metadata": {
        "colab": {
          "base_uri": "https://localhost:8080/",
          "height": 49
        },
        "id": "IJar8wRnGxx5",
        "outputId": "a41f3464-3a01-4a99-dc2e-bd7bd217bb01"
      },
      "outputs": [
        {
          "output_type": "execute_result",
          "data": {
            "text/plain": [
              "Empty DataFrame\n",
              "Columns: [text, score]\n",
              "Index: []"
            ],
            "text/html": [
              "\n",
              "  <div id=\"df-2a73b799-b9c4-4d7a-b11a-06bac8bd9ffd\">\n",
              "    <div class=\"colab-df-container\">\n",
              "      <div>\n",
              "<style scoped>\n",
              "    .dataframe tbody tr th:only-of-type {\n",
              "        vertical-align: middle;\n",
              "    }\n",
              "\n",
              "    .dataframe tbody tr th {\n",
              "        vertical-align: top;\n",
              "    }\n",
              "\n",
              "    .dataframe thead th {\n",
              "        text-align: right;\n",
              "    }\n",
              "</style>\n",
              "<table border=\"1\" class=\"dataframe\">\n",
              "  <thead>\n",
              "    <tr style=\"text-align: right;\">\n",
              "      <th></th>\n",
              "      <th>text</th>\n",
              "      <th>score</th>\n",
              "    </tr>\n",
              "  </thead>\n",
              "  <tbody>\n",
              "  </tbody>\n",
              "</table>\n",
              "</div>\n",
              "      <button class=\"colab-df-convert\" onclick=\"convertToInteractive('df-2a73b799-b9c4-4d7a-b11a-06bac8bd9ffd')\"\n",
              "              title=\"Convert this dataframe to an interactive table.\"\n",
              "              style=\"display:none;\">\n",
              "        \n",
              "  <svg xmlns=\"http://www.w3.org/2000/svg\" height=\"24px\"viewBox=\"0 0 24 24\"\n",
              "       width=\"24px\">\n",
              "    <path d=\"M0 0h24v24H0V0z\" fill=\"none\"/>\n",
              "    <path d=\"M18.56 5.44l.94 2.06.94-2.06 2.06-.94-2.06-.94-.94-2.06-.94 2.06-2.06.94zm-11 1L8.5 8.5l.94-2.06 2.06-.94-2.06-.94L8.5 2.5l-.94 2.06-2.06.94zm10 10l.94 2.06.94-2.06 2.06-.94-2.06-.94-.94-2.06-.94 2.06-2.06.94z\"/><path d=\"M17.41 7.96l-1.37-1.37c-.4-.4-.92-.59-1.43-.59-.52 0-1.04.2-1.43.59L10.3 9.45l-7.72 7.72c-.78.78-.78 2.05 0 2.83L4 21.41c.39.39.9.59 1.41.59.51 0 1.02-.2 1.41-.59l7.78-7.78 2.81-2.81c.8-.78.8-2.07 0-2.86zM5.41 20L4 18.59l7.72-7.72 1.47 1.35L5.41 20z\"/>\n",
              "  </svg>\n",
              "      </button>\n",
              "      \n",
              "  <style>\n",
              "    .colab-df-container {\n",
              "      display:flex;\n",
              "      flex-wrap:wrap;\n",
              "      gap: 12px;\n",
              "    }\n",
              "\n",
              "    .colab-df-convert {\n",
              "      background-color: #E8F0FE;\n",
              "      border: none;\n",
              "      border-radius: 50%;\n",
              "      cursor: pointer;\n",
              "      display: none;\n",
              "      fill: #1967D2;\n",
              "      height: 32px;\n",
              "      padding: 0 0 0 0;\n",
              "      width: 32px;\n",
              "    }\n",
              "\n",
              "    .colab-df-convert:hover {\n",
              "      background-color: #E2EBFA;\n",
              "      box-shadow: 0px 1px 2px rgba(60, 64, 67, 0.3), 0px 1px 3px 1px rgba(60, 64, 67, 0.15);\n",
              "      fill: #174EA6;\n",
              "    }\n",
              "\n",
              "    [theme=dark] .colab-df-convert {\n",
              "      background-color: #3B4455;\n",
              "      fill: #D2E3FC;\n",
              "    }\n",
              "\n",
              "    [theme=dark] .colab-df-convert:hover {\n",
              "      background-color: #434B5C;\n",
              "      box-shadow: 0px 1px 3px 1px rgba(0, 0, 0, 0.15);\n",
              "      filter: drop-shadow(0px 1px 2px rgba(0, 0, 0, 0.3));\n",
              "      fill: #FFFFFF;\n",
              "    }\n",
              "  </style>\n",
              "\n",
              "      <script>\n",
              "        const buttonEl =\n",
              "          document.querySelector('#df-2a73b799-b9c4-4d7a-b11a-06bac8bd9ffd button.colab-df-convert');\n",
              "        buttonEl.style.display =\n",
              "          google.colab.kernel.accessAllowed ? 'block' : 'none';\n",
              "\n",
              "        async function convertToInteractive(key) {\n",
              "          const element = document.querySelector('#df-2a73b799-b9c4-4d7a-b11a-06bac8bd9ffd');\n",
              "          const dataTable =\n",
              "            await google.colab.kernel.invokeFunction('convertToInteractive',\n",
              "                                                     [key], {});\n",
              "          if (!dataTable) return;\n",
              "\n",
              "          const docLinkHtml = 'Like what you see? Visit the ' +\n",
              "            '<a target=\"_blank\" href=https://colab.research.google.com/notebooks/data_table.ipynb>data table notebook</a>'\n",
              "            + ' to learn more about interactive tables.';\n",
              "          element.innerHTML = '';\n",
              "          dataTable['output_type'] = 'display_data';\n",
              "          await google.colab.output.renderOutput(dataTable, element);\n",
              "          const docLink = document.createElement('div');\n",
              "          docLink.innerHTML = docLinkHtml;\n",
              "          element.appendChild(docLink);\n",
              "        }\n",
              "      </script>\n",
              "    </div>\n",
              "  </div>\n",
              "  "
            ]
          },
          "metadata": {},
          "execution_count": 4
        }
      ],
      "source": [
        "f1_data = pd.DataFrame(columns=['negative', 'neutral', 'positive'])\n",
        "df = pd.read_csv(PATH_DATASET)\n",
        "df[df['text'].isnull()]"
      ]
    },
    {
      "cell_type": "code",
      "execution_count": 5,
      "metadata": {
        "colab": {
          "base_uri": "https://localhost:8080/",
          "height": 424
        },
        "id": "YDOfSPGvqYRO",
        "outputId": "d6703bea-fdf7-4531-e01d-1b088bdefa06"
      },
      "outputs": [
        {
          "output_type": "execute_result",
          "data": {
            "text/plain": [
              "                                                    text  score\n",
              "0      [bought, several, vitality, canned, dog, food,...      2\n",
              "1      [product, arrived, labeled, jumbo, salted, pea...      0\n",
              "2      [this, confection, around, centuries, light, p...      2\n",
              "3      [if, looking, secret, ingredient, robitussin, ...      0\n",
              "4      [great, taffy, great, price, there, wide, asso...      2\n",
              "...                                                  ...    ...\n",
              "35072  [once, tasted, hazelnut, coffee, hooked, now, ...      2\n",
              "35073  [has, maxwell, house, quit, making, coffee, ca...      2\n",
              "35074  [nutty, smooth, subtle, wonderful, aroma, love...      2\n",
              "35075  [price, right, taste, good, we, buying, harmon...      2\n",
              "35076  [this, sauce, gives, authentic, tonkatsu, flav...      2\n",
              "\n",
              "[35077 rows x 2 columns]"
            ],
            "text/html": [
              "\n",
              "  <div id=\"df-ffb24526-6438-4e08-8cc3-584afab8f5a1\">\n",
              "    <div class=\"colab-df-container\">\n",
              "      <div>\n",
              "<style scoped>\n",
              "    .dataframe tbody tr th:only-of-type {\n",
              "        vertical-align: middle;\n",
              "    }\n",
              "\n",
              "    .dataframe tbody tr th {\n",
              "        vertical-align: top;\n",
              "    }\n",
              "\n",
              "    .dataframe thead th {\n",
              "        text-align: right;\n",
              "    }\n",
              "</style>\n",
              "<table border=\"1\" class=\"dataframe\">\n",
              "  <thead>\n",
              "    <tr style=\"text-align: right;\">\n",
              "      <th></th>\n",
              "      <th>text</th>\n",
              "      <th>score</th>\n",
              "    </tr>\n",
              "  </thead>\n",
              "  <tbody>\n",
              "    <tr>\n",
              "      <th>0</th>\n",
              "      <td>[bought, several, vitality, canned, dog, food,...</td>\n",
              "      <td>2</td>\n",
              "    </tr>\n",
              "    <tr>\n",
              "      <th>1</th>\n",
              "      <td>[product, arrived, labeled, jumbo, salted, pea...</td>\n",
              "      <td>0</td>\n",
              "    </tr>\n",
              "    <tr>\n",
              "      <th>2</th>\n",
              "      <td>[this, confection, around, centuries, light, p...</td>\n",
              "      <td>2</td>\n",
              "    </tr>\n",
              "    <tr>\n",
              "      <th>3</th>\n",
              "      <td>[if, looking, secret, ingredient, robitussin, ...</td>\n",
              "      <td>0</td>\n",
              "    </tr>\n",
              "    <tr>\n",
              "      <th>4</th>\n",
              "      <td>[great, taffy, great, price, there, wide, asso...</td>\n",
              "      <td>2</td>\n",
              "    </tr>\n",
              "    <tr>\n",
              "      <th>...</th>\n",
              "      <td>...</td>\n",
              "      <td>...</td>\n",
              "    </tr>\n",
              "    <tr>\n",
              "      <th>35072</th>\n",
              "      <td>[once, tasted, hazelnut, coffee, hooked, now, ...</td>\n",
              "      <td>2</td>\n",
              "    </tr>\n",
              "    <tr>\n",
              "      <th>35073</th>\n",
              "      <td>[has, maxwell, house, quit, making, coffee, ca...</td>\n",
              "      <td>2</td>\n",
              "    </tr>\n",
              "    <tr>\n",
              "      <th>35074</th>\n",
              "      <td>[nutty, smooth, subtle, wonderful, aroma, love...</td>\n",
              "      <td>2</td>\n",
              "    </tr>\n",
              "    <tr>\n",
              "      <th>35075</th>\n",
              "      <td>[price, right, taste, good, we, buying, harmon...</td>\n",
              "      <td>2</td>\n",
              "    </tr>\n",
              "    <tr>\n",
              "      <th>35076</th>\n",
              "      <td>[this, sauce, gives, authentic, tonkatsu, flav...</td>\n",
              "      <td>2</td>\n",
              "    </tr>\n",
              "  </tbody>\n",
              "</table>\n",
              "<p>35077 rows × 2 columns</p>\n",
              "</div>\n",
              "      <button class=\"colab-df-convert\" onclick=\"convertToInteractive('df-ffb24526-6438-4e08-8cc3-584afab8f5a1')\"\n",
              "              title=\"Convert this dataframe to an interactive table.\"\n",
              "              style=\"display:none;\">\n",
              "        \n",
              "  <svg xmlns=\"http://www.w3.org/2000/svg\" height=\"24px\"viewBox=\"0 0 24 24\"\n",
              "       width=\"24px\">\n",
              "    <path d=\"M0 0h24v24H0V0z\" fill=\"none\"/>\n",
              "    <path d=\"M18.56 5.44l.94 2.06.94-2.06 2.06-.94-2.06-.94-.94-2.06-.94 2.06-2.06.94zm-11 1L8.5 8.5l.94-2.06 2.06-.94-2.06-.94L8.5 2.5l-.94 2.06-2.06.94zm10 10l.94 2.06.94-2.06 2.06-.94-2.06-.94-.94-2.06-.94 2.06-2.06.94z\"/><path d=\"M17.41 7.96l-1.37-1.37c-.4-.4-.92-.59-1.43-.59-.52 0-1.04.2-1.43.59L10.3 9.45l-7.72 7.72c-.78.78-.78 2.05 0 2.83L4 21.41c.39.39.9.59 1.41.59.51 0 1.02-.2 1.41-.59l7.78-7.78 2.81-2.81c.8-.78.8-2.07 0-2.86zM5.41 20L4 18.59l7.72-7.72 1.47 1.35L5.41 20z\"/>\n",
              "  </svg>\n",
              "      </button>\n",
              "      \n",
              "  <style>\n",
              "    .colab-df-container {\n",
              "      display:flex;\n",
              "      flex-wrap:wrap;\n",
              "      gap: 12px;\n",
              "    }\n",
              "\n",
              "    .colab-df-convert {\n",
              "      background-color: #E8F0FE;\n",
              "      border: none;\n",
              "      border-radius: 50%;\n",
              "      cursor: pointer;\n",
              "      display: none;\n",
              "      fill: #1967D2;\n",
              "      height: 32px;\n",
              "      padding: 0 0 0 0;\n",
              "      width: 32px;\n",
              "    }\n",
              "\n",
              "    .colab-df-convert:hover {\n",
              "      background-color: #E2EBFA;\n",
              "      box-shadow: 0px 1px 2px rgba(60, 64, 67, 0.3), 0px 1px 3px 1px rgba(60, 64, 67, 0.15);\n",
              "      fill: #174EA6;\n",
              "    }\n",
              "\n",
              "    [theme=dark] .colab-df-convert {\n",
              "      background-color: #3B4455;\n",
              "      fill: #D2E3FC;\n",
              "    }\n",
              "\n",
              "    [theme=dark] .colab-df-convert:hover {\n",
              "      background-color: #434B5C;\n",
              "      box-shadow: 0px 1px 3px 1px rgba(0, 0, 0, 0.15);\n",
              "      filter: drop-shadow(0px 1px 2px rgba(0, 0, 0, 0.3));\n",
              "      fill: #FFFFFF;\n",
              "    }\n",
              "  </style>\n",
              "\n",
              "      <script>\n",
              "        const buttonEl =\n",
              "          document.querySelector('#df-ffb24526-6438-4e08-8cc3-584afab8f5a1 button.colab-df-convert');\n",
              "        buttonEl.style.display =\n",
              "          google.colab.kernel.accessAllowed ? 'block' : 'none';\n",
              "\n",
              "        async function convertToInteractive(key) {\n",
              "          const element = document.querySelector('#df-ffb24526-6438-4e08-8cc3-584afab8f5a1');\n",
              "          const dataTable =\n",
              "            await google.colab.kernel.invokeFunction('convertToInteractive',\n",
              "                                                     [key], {});\n",
              "          if (!dataTable) return;\n",
              "\n",
              "          const docLinkHtml = 'Like what you see? Visit the ' +\n",
              "            '<a target=\"_blank\" href=https://colab.research.google.com/notebooks/data_table.ipynb>data table notebook</a>'\n",
              "            + ' to learn more about interactive tables.';\n",
              "          element.innerHTML = '';\n",
              "          dataTable['output_type'] = 'display_data';\n",
              "          await google.colab.output.renderOutput(dataTable, element);\n",
              "          const docLink = document.createElement('div');\n",
              "          docLink.innerHTML = docLinkHtml;\n",
              "          element.appendChild(docLink);\n",
              "        }\n",
              "      </script>\n",
              "    </div>\n",
              "  </div>\n",
              "  "
            ]
          },
          "metadata": {},
          "execution_count": 5
        }
      ],
      "source": [
        "def convert_to_list(row):\n",
        "  try:\n",
        "    return list(row.split(\",\"))\n",
        "  except:\n",
        "    print(row)\n",
        "\n",
        "df.text = df.text.apply(convert_to_list)\n",
        "df"
      ]
    },
    {
      "cell_type": "code",
      "execution_count": 6,
      "metadata": {
        "colab": {
          "base_uri": "https://localhost:8080/"
        },
        "id": "FNqUethGgqcb",
        "outputId": "6b7373d8-622c-4782-b17a-d405c04c06ae"
      },
      "outputs": [
        {
          "output_type": "execute_result",
          "data": {
            "text/plain": [
              "['product',\n",
              " 'arrived',\n",
              " 'labeled',\n",
              " 'jumbo',\n",
              " 'salted',\n",
              " 'peanuts',\n",
              " 'peanuts',\n",
              " 'actually',\n",
              " 'small',\n",
              " 'sized',\n",
              " 'unsalted',\n",
              " 'not',\n",
              " 'sure',\n",
              " 'error',\n",
              " 'vendor',\n",
              " 'intended',\n",
              " 'represent',\n",
              " 'product',\n",
              " 'jumbo']"
            ]
          },
          "metadata": {},
          "execution_count": 6
        }
      ],
      "source": [
        "df.text.iloc[1]"
      ]
    },
    {
      "cell_type": "markdown",
      "metadata": {
        "id": "yGtVCXZW1PVM"
      },
      "source": [
        "# Model - Text Classification and Sentiment Analysis\n",
        "\n",
        "The challenge of text classification is to “learn” this categorization from a\n",
        "collection of examples for each of these categories and predict the categories for new,\n",
        "unseen products and new customer reviews.\n"
      ]
    },
    {
      "cell_type": "markdown",
      "metadata": {
        "id": "5ylG1eR-ebSl"
      },
      "source": [
        "## A Simple Classifier Without the Text Classification Pipeline: lexicon-based sentiment analysis\n",
        "\n",
        "The **AFINN** lexicon is a list of **English terms** manually rated for valence with an integer between -5 (negative) and +5 (positive) by Finn Årup Nielsen between 2009 and 2011.\n",
        "\n",
        "https://arxiv.org/pdf/1103.2903.pdf\n"
      ]
    },
    {
      "cell_type": "code",
      "execution_count": 7,
      "metadata": {
        "id": "XxpueRQ-y2Np",
        "colab": {
          "base_uri": "https://localhost:8080/"
        },
        "outputId": "855261dc-f8e0-4a9e-d322-d8954725d7bd"
      },
      "outputs": [
        {
          "output_type": "stream",
          "name": "stdout",
          "text": [
            "Looking in indexes: https://pypi.org/simple, https://us-python.pkg.dev/colab-wheels/public/simple/\n",
            "Requirement already satisfied: afinn in /usr/local/lib/python3.10/dist-packages (0.1)\n"
          ]
        }
      ],
      "source": [
        "!pip install afinn\n",
        "from afinn import Afinn\n",
        "afinn = Afinn(emoticons=True)"
      ]
    },
    {
      "cell_type": "code",
      "execution_count": 8,
      "metadata": {
        "id": "20-GwoObheKJ"
      },
      "outputs": [],
      "source": [
        "def apply_afinn(row):\n",
        "  score = 0\n",
        "  try:\n",
        "    for word in row:\n",
        "      score += afinn.score(word)\n",
        "  except:\n",
        "    print(row)\n",
        "    \n",
        "  return score"
      ]
    },
    {
      "cell_type": "code",
      "execution_count": 9,
      "metadata": {
        "id": "lw3kpat0fHJf",
        "colab": {
          "base_uri": "https://localhost:8080/"
        },
        "outputId": "ae4ad1a3-4913-4f26-df95-a78011db92e9"
      },
      "outputs": [
        {
          "output_type": "execute_result",
          "data": {
            "text/plain": [
              "68"
            ]
          },
          "metadata": {},
          "execution_count": 9
        }
      ],
      "source": [
        "len(df.text.iloc[10])"
      ]
    },
    {
      "cell_type": "code",
      "execution_count": 10,
      "metadata": {
        "id": "V-254rMId8oE",
        "colab": {
          "base_uri": "https://localhost:8080/"
        },
        "outputId": "14e5a7a6-8db6-43f2-b01a-b247c76e28dc"
      },
      "outputs": [
        {
          "output_type": "execute_result",
          "data": {
            "text/plain": [
              "16.0"
            ]
          },
          "metadata": {},
          "execution_count": 10
        }
      ],
      "source": [
        "apply_afinn(df.text.iloc[10])"
      ]
    },
    {
      "cell_type": "code",
      "execution_count": 11,
      "metadata": {
        "id": "MgtA4r4_nsDg",
        "colab": {
          "base_uri": "https://localhost:8080/",
          "height": 363
        },
        "outputId": "2138ea31-f06a-4168-baa2-ff33d348bd62"
      },
      "outputs": [
        {
          "output_type": "execute_result",
          "data": {
            "text/plain": [
              "   score  afinn                                               text\n",
              "0      2   16.0  [bought, several, vitality, canned, dog, food,...\n",
              "1      0   -2.0  [product, arrived, labeled, jumbo, salted, pea...\n",
              "2      2    3.0  [this, confection, around, centuries, light, p...\n",
              "3      0    3.0  [if, looking, secret, ingredient, robitussin, ...\n",
              "4      2    9.0  [great, taffy, great, price, there, wide, asso...\n",
              "5      2    2.0  [got, wild, hair, taffy, ordered, five, pound,...\n",
              "6      2    6.0  [this, saltwater, taffy, great, flavors, soft,...\n",
              "7      2    9.0  [this, taffy, good, soft, chewy, flavors, amaz...\n",
              "8      2    3.0  [right, mostly, sprouting, cats, eat, grass, t...\n",
              "9      2    8.0  [this, healthy, dog, food, good, digestion, al..."
            ],
            "text/html": [
              "\n",
              "  <div id=\"df-8a6f8134-2c49-49f2-936b-5923d8472b83\">\n",
              "    <div class=\"colab-df-container\">\n",
              "      <div>\n",
              "<style scoped>\n",
              "    .dataframe tbody tr th:only-of-type {\n",
              "        vertical-align: middle;\n",
              "    }\n",
              "\n",
              "    .dataframe tbody tr th {\n",
              "        vertical-align: top;\n",
              "    }\n",
              "\n",
              "    .dataframe thead th {\n",
              "        text-align: right;\n",
              "    }\n",
              "</style>\n",
              "<table border=\"1\" class=\"dataframe\">\n",
              "  <thead>\n",
              "    <tr style=\"text-align: right;\">\n",
              "      <th></th>\n",
              "      <th>score</th>\n",
              "      <th>afinn</th>\n",
              "      <th>text</th>\n",
              "    </tr>\n",
              "  </thead>\n",
              "  <tbody>\n",
              "    <tr>\n",
              "      <th>0</th>\n",
              "      <td>2</td>\n",
              "      <td>16.0</td>\n",
              "      <td>[bought, several, vitality, canned, dog, food,...</td>\n",
              "    </tr>\n",
              "    <tr>\n",
              "      <th>1</th>\n",
              "      <td>0</td>\n",
              "      <td>-2.0</td>\n",
              "      <td>[product, arrived, labeled, jumbo, salted, pea...</td>\n",
              "    </tr>\n",
              "    <tr>\n",
              "      <th>2</th>\n",
              "      <td>2</td>\n",
              "      <td>3.0</td>\n",
              "      <td>[this, confection, around, centuries, light, p...</td>\n",
              "    </tr>\n",
              "    <tr>\n",
              "      <th>3</th>\n",
              "      <td>0</td>\n",
              "      <td>3.0</td>\n",
              "      <td>[if, looking, secret, ingredient, robitussin, ...</td>\n",
              "    </tr>\n",
              "    <tr>\n",
              "      <th>4</th>\n",
              "      <td>2</td>\n",
              "      <td>9.0</td>\n",
              "      <td>[great, taffy, great, price, there, wide, asso...</td>\n",
              "    </tr>\n",
              "    <tr>\n",
              "      <th>5</th>\n",
              "      <td>2</td>\n",
              "      <td>2.0</td>\n",
              "      <td>[got, wild, hair, taffy, ordered, five, pound,...</td>\n",
              "    </tr>\n",
              "    <tr>\n",
              "      <th>6</th>\n",
              "      <td>2</td>\n",
              "      <td>6.0</td>\n",
              "      <td>[this, saltwater, taffy, great, flavors, soft,...</td>\n",
              "    </tr>\n",
              "    <tr>\n",
              "      <th>7</th>\n",
              "      <td>2</td>\n",
              "      <td>9.0</td>\n",
              "      <td>[this, taffy, good, soft, chewy, flavors, amaz...</td>\n",
              "    </tr>\n",
              "    <tr>\n",
              "      <th>8</th>\n",
              "      <td>2</td>\n",
              "      <td>3.0</td>\n",
              "      <td>[right, mostly, sprouting, cats, eat, grass, t...</td>\n",
              "    </tr>\n",
              "    <tr>\n",
              "      <th>9</th>\n",
              "      <td>2</td>\n",
              "      <td>8.0</td>\n",
              "      <td>[this, healthy, dog, food, good, digestion, al...</td>\n",
              "    </tr>\n",
              "  </tbody>\n",
              "</table>\n",
              "</div>\n",
              "      <button class=\"colab-df-convert\" onclick=\"convertToInteractive('df-8a6f8134-2c49-49f2-936b-5923d8472b83')\"\n",
              "              title=\"Convert this dataframe to an interactive table.\"\n",
              "              style=\"display:none;\">\n",
              "        \n",
              "  <svg xmlns=\"http://www.w3.org/2000/svg\" height=\"24px\"viewBox=\"0 0 24 24\"\n",
              "       width=\"24px\">\n",
              "    <path d=\"M0 0h24v24H0V0z\" fill=\"none\"/>\n",
              "    <path d=\"M18.56 5.44l.94 2.06.94-2.06 2.06-.94-2.06-.94-.94-2.06-.94 2.06-2.06.94zm-11 1L8.5 8.5l.94-2.06 2.06-.94-2.06-.94L8.5 2.5l-.94 2.06-2.06.94zm10 10l.94 2.06.94-2.06 2.06-.94-2.06-.94-.94-2.06-.94 2.06-2.06.94z\"/><path d=\"M17.41 7.96l-1.37-1.37c-.4-.4-.92-.59-1.43-.59-.52 0-1.04.2-1.43.59L10.3 9.45l-7.72 7.72c-.78.78-.78 2.05 0 2.83L4 21.41c.39.39.9.59 1.41.59.51 0 1.02-.2 1.41-.59l7.78-7.78 2.81-2.81c.8-.78.8-2.07 0-2.86zM5.41 20L4 18.59l7.72-7.72 1.47 1.35L5.41 20z\"/>\n",
              "  </svg>\n",
              "      </button>\n",
              "      \n",
              "  <style>\n",
              "    .colab-df-container {\n",
              "      display:flex;\n",
              "      flex-wrap:wrap;\n",
              "      gap: 12px;\n",
              "    }\n",
              "\n",
              "    .colab-df-convert {\n",
              "      background-color: #E8F0FE;\n",
              "      border: none;\n",
              "      border-radius: 50%;\n",
              "      cursor: pointer;\n",
              "      display: none;\n",
              "      fill: #1967D2;\n",
              "      height: 32px;\n",
              "      padding: 0 0 0 0;\n",
              "      width: 32px;\n",
              "    }\n",
              "\n",
              "    .colab-df-convert:hover {\n",
              "      background-color: #E2EBFA;\n",
              "      box-shadow: 0px 1px 2px rgba(60, 64, 67, 0.3), 0px 1px 3px 1px rgba(60, 64, 67, 0.15);\n",
              "      fill: #174EA6;\n",
              "    }\n",
              "\n",
              "    [theme=dark] .colab-df-convert {\n",
              "      background-color: #3B4455;\n",
              "      fill: #D2E3FC;\n",
              "    }\n",
              "\n",
              "    [theme=dark] .colab-df-convert:hover {\n",
              "      background-color: #434B5C;\n",
              "      box-shadow: 0px 1px 3px 1px rgba(0, 0, 0, 0.15);\n",
              "      filter: drop-shadow(0px 1px 2px rgba(0, 0, 0, 0.3));\n",
              "      fill: #FFFFFF;\n",
              "    }\n",
              "  </style>\n",
              "\n",
              "      <script>\n",
              "        const buttonEl =\n",
              "          document.querySelector('#df-8a6f8134-2c49-49f2-936b-5923d8472b83 button.colab-df-convert');\n",
              "        buttonEl.style.display =\n",
              "          google.colab.kernel.accessAllowed ? 'block' : 'none';\n",
              "\n",
              "        async function convertToInteractive(key) {\n",
              "          const element = document.querySelector('#df-8a6f8134-2c49-49f2-936b-5923d8472b83');\n",
              "          const dataTable =\n",
              "            await google.colab.kernel.invokeFunction('convertToInteractive',\n",
              "                                                     [key], {});\n",
              "          if (!dataTable) return;\n",
              "\n",
              "          const docLinkHtml = 'Like what you see? Visit the ' +\n",
              "            '<a target=\"_blank\" href=https://colab.research.google.com/notebooks/data_table.ipynb>data table notebook</a>'\n",
              "            + ' to learn more about interactive tables.';\n",
              "          element.innerHTML = '';\n",
              "          dataTable['output_type'] = 'display_data';\n",
              "          await google.colab.output.renderOutput(dataTable, element);\n",
              "          const docLink = document.createElement('div');\n",
              "          docLink.innerHTML = docLinkHtml;\n",
              "          element.appendChild(docLink);\n",
              "        }\n",
              "      </script>\n",
              "    </div>\n",
              "  </div>\n",
              "  "
            ]
          },
          "metadata": {},
          "execution_count": 11
        }
      ],
      "source": [
        "df['afinn'] = df[\"text\"].apply(apply_afinn) #new attribute/column \n",
        "#check out how apply works\n",
        "\n",
        "df[['score', 'afinn', 'text']].head(10)"
      ]
    },
    {
      "cell_type": "code",
      "execution_count": 12,
      "metadata": {
        "id": "APU_kpMKNcbj",
        "colab": {
          "base_uri": "https://localhost:8080/"
        },
        "outputId": "b090b119-f681-4167-9861-eb353d245d19"
      },
      "outputs": [
        {
          "output_type": "execute_result",
          "data": {
            "text/plain": [
              "text     [bought, several, vitality, canned, dog, food,...\n",
              "score                                                    2\n",
              "afinn                                                 16.0\n",
              "Name: 0, dtype: object"
            ]
          },
          "metadata": {},
          "execution_count": 12
        }
      ],
      "source": [
        "df.iloc[0]"
      ]
    },
    {
      "cell_type": "code",
      "execution_count": 13,
      "metadata": {
        "id": "Kc-TWJwTqKno",
        "colab": {
          "base_uri": "https://localhost:8080/"
        },
        "outputId": "3329e40e-ffc4-49ac-89bf-a53b9b052019"
      },
      "outputs": [
        {
          "output_type": "execute_result",
          "data": {
            "text/plain": [
              " 6.0     2776\n",
              " 5.0     2671\n",
              " 3.0     2510\n",
              " 8.0     2369\n",
              " 7.0     2267\n",
              "         ... \n",
              " 59.0       1\n",
              " 66.0       1\n",
              " 46.0       1\n",
              "-28.0       1\n",
              "-24.0       1\n",
              "Name: afinn, Length: 93, dtype: int64"
            ]
          },
          "metadata": {},
          "execution_count": 13
        }
      ],
      "source": [
        "df.afinn.value_counts() # df. column_name .value_counts()"
      ]
    },
    {
      "cell_type": "code",
      "execution_count": 14,
      "metadata": {
        "id": "5VGnyF500brV"
      },
      "outputs": [],
      "source": [
        "#let's compute the range of afinn scores in this dataset"
      ]
    },
    {
      "cell_type": "code",
      "execution_count": 15,
      "metadata": {
        "id": "1ApyIWfZhJuE",
        "colab": {
          "base_uri": "https://localhost:8080/"
        },
        "outputId": "c88a82c7-62c6-455c-9b0a-071cac5ee715"
      },
      "outputs": [
        {
          "output_type": "execute_result",
          "data": {
            "text/plain": [
              "138"
            ]
          },
          "metadata": {},
          "execution_count": 15
        }
      ],
      "source": [
        "abs(min(df.afinn.value_counts().index.astype(int)) - max(df.afinn.value_counts().index.astype(int)))"
      ]
    },
    {
      "cell_type": "code",
      "execution_count": 16,
      "metadata": {
        "id": "hJZYRjCXwnuG"
      },
      "outputs": [],
      "source": [
        "#let's visualize the histogram of frequencies"
      ]
    },
    {
      "cell_type": "code",
      "execution_count": 17,
      "metadata": {
        "id": "orPvcK1IwrbI",
        "colab": {
          "base_uri": "https://localhost:8080/",
          "height": 742
        },
        "outputId": "267bd291-9893-4503-caa3-9d5a107e18c5"
      },
      "outputs": [
        {
          "output_type": "display_data",
          "data": {
            "text/plain": [
              "<Figure size 1200x800 with 1 Axes>"
            ],
            "image/png": "[encoded data removed]"
          },
          "metadata": {}
        }
      ],
      "source": [
        "df.afinn.plot(kind='hist', #takes the column name as input\n",
        "        alpha=0.7,\n",
        "        bins = abs(min(df.afinn.value_counts().index.astype(int)) - max(df.afinn.value_counts().index.astype(int)))-1,\n",
        "        title='Histogram Of Afinn scores',\n",
        "        rot=45,\n",
        "        grid=True,\n",
        "        figsize=(12,8),\n",
        "        fontsize=12, \n",
        "        color=['#364F6B'])\n",
        "plt.xlabel('Afinn Scores')\n",
        "plt.ylabel(\"Number of Sentences\");"
      ]
    },
    {
      "cell_type": "code",
      "execution_count": 18,
      "metadata": {
        "id": "6_e6JBqW03Hd"
      },
      "outputs": [],
      "source": [
        "#let's check the distribution of sentiment values"
      ]
    },
    {
      "cell_type": "code",
      "execution_count": 19,
      "metadata": {
        "id": "4XMrnzDAflOh",
        "colab": {
          "base_uri": "https://localhost:8080/"
        },
        "outputId": "1565b002-8081-4e58-c1b6-2573a2b485ff"
      },
      "outputs": [
        {
          "output_type": "execute_result",
          "data": {
            "text/plain": [
              "2    27004\n",
              "0     5218\n",
              "1     2855\n",
              "Name: score, dtype: int64"
            ]
          },
          "metadata": {},
          "execution_count": 19
        }
      ],
      "source": [
        "df.score.value_counts() #df. column_name .value_counts()"
      ]
    },
    {
      "cell_type": "code",
      "execution_count": 20,
      "metadata": {
        "id": "QKtIvTlep4J0",
        "colab": {
          "base_uri": "https://localhost:8080/",
          "height": 204
        },
        "outputId": "920423c0-6b4e-455d-9e79-2bd748f69461"
      },
      "outputs": [
        {
          "output_type": "execute_result",
          "data": {
            "text/plain": [
              "afinn  -39.0  -28.0  -26.0  -25.0  -24.0  -23.0  -22.0  -21.0  -20.0  -19.0  \\\n",
              "score                                                                         \n",
              "0          1      1      1      1      1      2      2      2      2      4   \n",
              "1          0      0      0      0      0      0      0      0      0      0   \n",
              "2          0      0      0      0      0      0      0      0      0      1   \n",
              "\n",
              "afinn  ...   55.0   57.0   59.0   61.0   62.0   63.0   66.0   69.0   97.0  \\\n",
              "score  ...                                                                  \n",
              "0      ...      0      0      0      0      0      0      0      0      0   \n",
              "1      ...      0      0      0      1      0      1      0      0      0   \n",
              "2      ...      1      2      1      0      1      0      1      1      1   \n",
              "\n",
              "afinn   99.0  \n",
              "score         \n",
              "0          0  \n",
              "1          0  \n",
              "2          1  \n",
              "\n",
              "[3 rows x 93 columns]"
            ],
            "text/html": [
              "\n",
              "  <div id=\"df-1b39a6ba-265d-4890-8b0e-c79a9c4e2a7d\">\n",
              "    <div class=\"colab-df-container\">\n",
              "      <div>\n",
              "<style scoped>\n",
              "    .dataframe tbody tr th:only-of-type {\n",
              "        vertical-align: middle;\n",
              "    }\n",
              "\n",
              "    .dataframe tbody tr th {\n",
              "        vertical-align: top;\n",
              "    }\n",
              "\n",
              "    .dataframe thead th {\n",
              "        text-align: right;\n",
              "    }\n",
              "</style>\n",
              "<table border=\"1\" class=\"dataframe\">\n",
              "  <thead>\n",
              "    <tr style=\"text-align: right;\">\n",
              "      <th>afinn</th>\n",
              "      <th>-39.0</th>\n",
              "      <th>-28.0</th>\n",
              "      <th>-26.0</th>\n",
              "      <th>-25.0</th>\n",
              "      <th>-24.0</th>\n",
              "      <th>-23.0</th>\n",
              "      <th>-22.0</th>\n",
              "      <th>-21.0</th>\n",
              "      <th>-20.0</th>\n",
              "      <th>-19.0</th>\n",
              "      <th>...</th>\n",
              "      <th>55.0</th>\n",
              "      <th>57.0</th>\n",
              "      <th>59.0</th>\n",
              "      <th>61.0</th>\n",
              "      <th>62.0</th>\n",
              "      <th>63.0</th>\n",
              "      <th>66.0</th>\n",
              "      <th>69.0</th>\n",
              "      <th>97.0</th>\n",
              "      <th>99.0</th>\n",
              "    </tr>\n",
              "    <tr>\n",
              "      <th>score</th>\n",
              "      <th></th>\n",
              "      <th></th>\n",
              "      <th></th>\n",
              "      <th></th>\n",
              "      <th></th>\n",
              "      <th></th>\n",
              "      <th></th>\n",
              "      <th></th>\n",
              "      <th></th>\n",
              "      <th></th>\n",
              "      <th></th>\n",
              "      <th></th>\n",
              "      <th></th>\n",
              "      <th></th>\n",
              "      <th></th>\n",
              "      <th></th>\n",
              "      <th></th>\n",
              "      <th></th>\n",
              "      <th></th>\n",
              "      <th></th>\n",
              "      <th></th>\n",
              "    </tr>\n",
              "  </thead>\n",
              "  <tbody>\n",
              "    <tr>\n",
              "      <th>0</th>\n",
              "      <td>1</td>\n",
              "      <td>1</td>\n",
              "      <td>1</td>\n",
              "      <td>1</td>\n",
              "      <td>1</td>\n",
              "      <td>2</td>\n",
              "      <td>2</td>\n",
              "      <td>2</td>\n",
              "      <td>2</td>\n",
              "      <td>4</td>\n",
              "      <td>...</td>\n",
              "      <td>0</td>\n",
              "      <td>0</td>\n",
              "      <td>0</td>\n",
              "      <td>0</td>\n",
              "      <td>0</td>\n",
              "      <td>0</td>\n",
              "      <td>0</td>\n",
              "      <td>0</td>\n",
              "      <td>0</td>\n",
              "      <td>0</td>\n",
              "    </tr>\n",
              "    <tr>\n",
              "      <th>1</th>\n",
              "      <td>0</td>\n",
              "      <td>0</td>\n",
              "      <td>0</td>\n",
              "      <td>0</td>\n",
              "      <td>0</td>\n",
              "      <td>0</td>\n",
              "      <td>0</td>\n",
              "      <td>0</td>\n",
              "      <td>0</td>\n",
              "      <td>0</td>\n",
              "      <td>...</td>\n",
              "      <td>0</td>\n",
              "      <td>0</td>\n",
              "      <td>0</td>\n",
              "      <td>1</td>\n",
              "      <td>0</td>\n",
              "      <td>1</td>\n",
              "      <td>0</td>\n",
              "      <td>0</td>\n",
              "      <td>0</td>\n",
              "      <td>0</td>\n",
              "    </tr>\n",
              "    <tr>\n",
              "      <th>2</th>\n",
              "      <td>0</td>\n",
              "      <td>0</td>\n",
              "      <td>0</td>\n",
              "      <td>0</td>\n",
              "      <td>0</td>\n",
              "      <td>0</td>\n",
              "      <td>0</td>\n",
              "      <td>0</td>\n",
              "      <td>0</td>\n",
              "      <td>1</td>\n",
              "      <td>...</td>\n",
              "      <td>1</td>\n",
              "      <td>2</td>\n",
              "      <td>1</td>\n",
              "      <td>0</td>\n",
              "      <td>1</td>\n",
              "      <td>0</td>\n",
              "      <td>1</td>\n",
              "      <td>1</td>\n",
              "      <td>1</td>\n",
              "      <td>1</td>\n",
              "    </tr>\n",
              "  </tbody>\n",
              "</table>\n",
              "<p>3 rows × 93 columns</p>\n",
              "</div>\n",
              "      <button class=\"colab-df-convert\" onclick=\"convertToInteractive('df-1b39a6ba-265d-4890-8b0e-c79a9c4e2a7d')\"\n",
              "              title=\"Convert this dataframe to an interactive table.\"\n",
              "              style=\"display:none;\">\n",
              "        \n",
              "  <svg xmlns=\"http://www.w3.org/2000/svg\" height=\"24px\"viewBox=\"0 0 24 24\"\n",
              "       width=\"24px\">\n",
              "    <path d=\"M0 0h24v24H0V0z\" fill=\"none\"/>\n",
              "    <path d=\"M18.56 5.44l.94 2.06.94-2.06 2.06-.94-2.06-.94-.94-2.06-.94 2.06-2.06.94zm-11 1L8.5 8.5l.94-2.06 2.06-.94-2.06-.94L8.5 2.5l-.94 2.06-2.06.94zm10 10l.94 2.06.94-2.06 2.06-.94-2.06-.94-.94-2.06-.94 2.06-2.06.94z\"/><path d=\"M17.41 7.96l-1.37-1.37c-.4-.4-.92-.59-1.43-.59-.52 0-1.04.2-1.43.59L10.3 9.45l-7.72 7.72c-.78.78-.78 2.05 0 2.83L4 21.41c.39.39.9.59 1.41.59.51 0 1.02-.2 1.41-.59l7.78-7.78 2.81-2.81c.8-.78.8-2.07 0-2.86zM5.41 20L4 18.59l7.72-7.72 1.47 1.35L5.41 20z\"/>\n",
              "  </svg>\n",
              "      </button>\n",
              "      \n",
              "  <style>\n",
              "    .colab-df-container {\n",
              "      display:flex;\n",
              "      flex-wrap:wrap;\n",
              "      gap: 12px;\n",
              "    }\n",
              "\n",
              "    .colab-df-convert {\n",
              "      background-color: #E8F0FE;\n",
              "      border: none;\n",
              "      border-radius: 50%;\n",
              "      cursor: pointer;\n",
              "      display: none;\n",
              "      fill: #1967D2;\n",
              "      height: 32px;\n",
              "      padding: 0 0 0 0;\n",
              "      width: 32px;\n",
              "    }\n",
              "\n",
              "    .colab-df-convert:hover {\n",
              "      background-color: #E2EBFA;\n",
              "      box-shadow: 0px 1px 2px rgba(60, 64, 67, 0.3), 0px 1px 3px 1px rgba(60, 64, 67, 0.15);\n",
              "      fill: #174EA6;\n",
              "    }\n",
              "\n",
              "    [theme=dark] .colab-df-convert {\n",
              "      background-color: #3B4455;\n",
              "      fill: #D2E3FC;\n",
              "    }\n",
              "\n",
              "    [theme=dark] .colab-df-convert:hover {\n",
              "      background-color: #434B5C;\n",
              "      box-shadow: 0px 1px 3px 1px rgba(0, 0, 0, 0.15);\n",
              "      filter: drop-shadow(0px 1px 2px rgba(0, 0, 0, 0.3));\n",
              "      fill: #FFFFFF;\n",
              "    }\n",
              "  </style>\n",
              "\n",
              "      <script>\n",
              "        const buttonEl =\n",
              "          document.querySelector('#df-1b39a6ba-265d-4890-8b0e-c79a9c4e2a7d button.colab-df-convert');\n",
              "        buttonEl.style.display =\n",
              "          google.colab.kernel.accessAllowed ? 'block' : 'none';\n",
              "\n",
              "        async function convertToInteractive(key) {\n",
              "          const element = document.querySelector('#df-1b39a6ba-265d-4890-8b0e-c79a9c4e2a7d');\n",
              "          const dataTable =\n",
              "            await google.colab.kernel.invokeFunction('convertToInteractive',\n",
              "                                                     [key], {});\n",
              "          if (!dataTable) return;\n",
              "\n",
              "          const docLinkHtml = 'Like what you see? Visit the ' +\n",
              "            '<a target=\"_blank\" href=https://colab.research.google.com/notebooks/data_table.ipynb>data table notebook</a>'\n",
              "            + ' to learn more about interactive tables.';\n",
              "          element.innerHTML = '';\n",
              "          dataTable['output_type'] = 'display_data';\n",
              "          await google.colab.output.renderOutput(dataTable, element);\n",
              "          const docLink = document.createElement('div');\n",
              "          docLink.innerHTML = docLinkHtml;\n",
              "          element.appendChild(docLink);\n",
              "        }\n",
              "      </script>\n",
              "    </div>\n",
              "  </div>\n",
              "  "
            ]
          },
          "metadata": {},
          "execution_count": 20
        }
      ],
      "source": [
        "confusion = pd.crosstab(df.score, df.afinn) #confusion matrix\n",
        "confusion"
      ]
    },
    {
      "cell_type": "markdown",
      "metadata": {
        "id": "yFuA0zI0jHpy"
      },
      "source": [
        "compute a 3-class confusion matrix \n",
        "- positive (+1) \n",
        "- neutral (0) \n",
        "- negative (-1)"
      ]
    },
    {
      "cell_type": "code",
      "execution_count": 21,
      "metadata": {
        "id": "YsPqlljUrEEw",
        "colab": {
          "base_uri": "https://localhost:8080/",
          "height": 175
        },
        "outputId": "cca0630c-bff3-42ee-cee6-bc3548c3e5bf"
      },
      "outputs": [
        {
          "output_type": "execute_result",
          "data": {
            "text/plain": [
              "afinn  -1.0   0.0    1.0\n",
              "score                   \n",
              "-1     1504   582   3132\n",
              " 0      303   247   2305\n",
              " 1      962  1062  24980"
            ],
            "text/html": [
              "\n",
              "  <div id=\"df-bb58e9a5-ed30-4bf0-bf68-0493aa1a9100\">\n",
              "    <div class=\"colab-df-container\">\n",
              "      <div>\n",
              "<style scoped>\n",
              "    .dataframe tbody tr th:only-of-type {\n",
              "        vertical-align: middle;\n",
              "    }\n",
              "\n",
              "    .dataframe tbody tr th {\n",
              "        vertical-align: top;\n",
              "    }\n",
              "\n",
              "    .dataframe thead th {\n",
              "        text-align: right;\n",
              "    }\n",
              "</style>\n",
              "<table border=\"1\" class=\"dataframe\">\n",
              "  <thead>\n",
              "    <tr style=\"text-align: right;\">\n",
              "      <th>afinn</th>\n",
              "      <th>-1.0</th>\n",
              "      <th>0.0</th>\n",
              "      <th>1.0</th>\n",
              "    </tr>\n",
              "    <tr>\n",
              "      <th>score</th>\n",
              "      <th></th>\n",
              "      <th></th>\n",
              "      <th></th>\n",
              "    </tr>\n",
              "  </thead>\n",
              "  <tbody>\n",
              "    <tr>\n",
              "      <th>-1</th>\n",
              "      <td>1504</td>\n",
              "      <td>582</td>\n",
              "      <td>3132</td>\n",
              "    </tr>\n",
              "    <tr>\n",
              "      <th>0</th>\n",
              "      <td>303</td>\n",
              "      <td>247</td>\n",
              "      <td>2305</td>\n",
              "    </tr>\n",
              "    <tr>\n",
              "      <th>1</th>\n",
              "      <td>962</td>\n",
              "      <td>1062</td>\n",
              "      <td>24980</td>\n",
              "    </tr>\n",
              "  </tbody>\n",
              "</table>\n",
              "</div>\n",
              "      <button class=\"colab-df-convert\" onclick=\"convertToInteractive('df-bb58e9a5-ed30-4bf0-bf68-0493aa1a9100')\"\n",
              "              title=\"Convert this dataframe to an interactive table.\"\n",
              "              style=\"display:none;\">\n",
              "        \n",
              "  <svg xmlns=\"http://www.w3.org/2000/svg\" height=\"24px\"viewBox=\"0 0 24 24\"\n",
              "       width=\"24px\">\n",
              "    <path d=\"M0 0h24v24H0V0z\" fill=\"none\"/>\n",
              "    <path d=\"M18.56 5.44l.94 2.06.94-2.06 2.06-.94-2.06-.94-.94-2.06-.94 2.06-2.06.94zm-11 1L8.5 8.5l.94-2.06 2.06-.94-2.06-.94L8.5 2.5l-.94 2.06-2.06.94zm10 10l.94 2.06.94-2.06 2.06-.94-2.06-.94-.94-2.06-.94 2.06-2.06.94z\"/><path d=\"M17.41 7.96l-1.37-1.37c-.4-.4-.92-.59-1.43-.59-.52 0-1.04.2-1.43.59L10.3 9.45l-7.72 7.72c-.78.78-.78 2.05 0 2.83L4 21.41c.39.39.9.59 1.41.59.51 0 1.02-.2 1.41-.59l7.78-7.78 2.81-2.81c.8-.78.8-2.07 0-2.86zM5.41 20L4 18.59l7.72-7.72 1.47 1.35L5.41 20z\"/>\n",
              "  </svg>\n",
              "      </button>\n",
              "      \n",
              "  <style>\n",
              "    .colab-df-container {\n",
              "      display:flex;\n",
              "      flex-wrap:wrap;\n",
              "      gap: 12px;\n",
              "    }\n",
              "\n",
              "    .colab-df-convert {\n",
              "      background-color: #E8F0FE;\n",
              "      border: none;\n",
              "      border-radius: 50%;\n",
              "      cursor: pointer;\n",
              "      display: none;\n",
              "      fill: #1967D2;\n",
              "      height: 32px;\n",
              "      padding: 0 0 0 0;\n",
              "      width: 32px;\n",
              "    }\n",
              "\n",
              "    .colab-df-convert:hover {\n",
              "      background-color: #E2EBFA;\n",
              "      box-shadow: 0px 1px 2px rgba(60, 64, 67, 0.3), 0px 1px 3px 1px rgba(60, 64, 67, 0.15);\n",
              "      fill: #174EA6;\n",
              "    }\n",
              "\n",
              "    [theme=dark] .colab-df-convert {\n",
              "      background-color: #3B4455;\n",
              "      fill: #D2E3FC;\n",
              "    }\n",
              "\n",
              "    [theme=dark] .colab-df-convert:hover {\n",
              "      background-color: #434B5C;\n",
              "      box-shadow: 0px 1px 3px 1px rgba(0, 0, 0, 0.15);\n",
              "      filter: drop-shadow(0px 1px 2px rgba(0, 0, 0, 0.3));\n",
              "      fill: #FFFFFF;\n",
              "    }\n",
              "  </style>\n",
              "\n",
              "      <script>\n",
              "        const buttonEl =\n",
              "          document.querySelector('#df-bb58e9a5-ed30-4bf0-bf68-0493aa1a9100 button.colab-df-convert');\n",
              "        buttonEl.style.display =\n",
              "          google.colab.kernel.accessAllowed ? 'block' : 'none';\n",
              "\n",
              "        async function convertToInteractive(key) {\n",
              "          const element = document.querySelector('#df-bb58e9a5-ed30-4bf0-bf68-0493aa1a9100');\n",
              "          const dataTable =\n",
              "            await google.colab.kernel.invokeFunction('convertToInteractive',\n",
              "                                                     [key], {});\n",
              "          if (!dataTable) return;\n",
              "\n",
              "          const docLinkHtml = 'Like what you see? Visit the ' +\n",
              "            '<a target=\"_blank\" href=https://colab.research.google.com/notebooks/data_table.ipynb>data table notebook</a>'\n",
              "            + ' to learn more about interactive tables.';\n",
              "          element.innerHTML = '';\n",
              "          dataTable['output_type'] = 'display_data';\n",
              "          await google.colab.output.renderOutput(dataTable, element);\n",
              "          const docLink = document.createElement('div');\n",
              "          docLink.innerHTML = docLinkHtml;\n",
              "          element.appendChild(docLink);\n",
              "        }\n",
              "      </script>\n",
              "    </div>\n",
              "  </div>\n",
              "  "
            ]
          },
          "metadata": {},
          "execution_count": 21
        }
      ],
      "source": [
        "# Compute 3-class confusion matrix\n",
        "confusion = pd.crosstab(np.sign(df.score - 1), \n",
        "                        np.sign(df.afinn))\n",
        "confusion"
      ]
    },
    {
      "cell_type": "code",
      "execution_count": 22,
      "metadata": {
        "id": "U7SisYdJrSzc",
        "colab": {
          "base_uri": "https://localhost:8080/",
          "height": 435
        },
        "outputId": "a081be57-fe64-4e63-998e-c5e41e81c2ef"
      },
      "outputs": [
        {
          "output_type": "display_data",
          "data": {
            "text/plain": [
              "<Figure size 640x480 with 2 Axes>"
            ],
            "image/png": "[encoded data removed]"
          },
          "metadata": {}
        }
      ],
      "source": [
        "shw = plt.imshow(confusion)\n",
        "bar = plt.colorbar(shw)"
      ]
    },
    {
      "cell_type": "code",
      "execution_count": 23,
      "metadata": {
        "id": "oi4hM95-rzXu",
        "colab": {
          "base_uri": "https://localhost:8080/"
        },
        "outputId": "48250189-1f55-4d6f-d077-bb2b809aef01"
      },
      "outputs": [
        {
          "output_type": "execute_result",
          "data": {
            "text/plain": [
              "0.7620663112580893"
            ]
          },
          "metadata": {},
          "execution_count": 23
        }
      ],
      "source": [
        "accuracy_3_class = np.sum(np.diag(confusion)) / np.sum(confusion.values)\n",
        "accuracy_3_class"
      ]
    },
    {
      "cell_type": "markdown",
      "metadata": {
        "id": "t3tAD6YvqHLy"
      },
      "source": [
        "## Feature Engeneering and standard ML classifiers\n"
      ]
    },
    {
      "cell_type": "code",
      "source": [
        "df.score.value_counts()"
      ],
      "metadata": {
        "colab": {
          "base_uri": "https://localhost:8080/"
        },
        "id": "ImnxseH5-LQP",
        "outputId": "a5f27791-8989-44f0-8a97-77269ddafc7c"
      },
      "execution_count": 24,
      "outputs": [
        {
          "output_type": "execute_result",
          "data": {
            "text/plain": [
              "2    27004\n",
              "0     5218\n",
              "1     2855\n",
              "Name: score, dtype: int64"
            ]
          },
          "metadata": {},
          "execution_count": 24
        }
      ]
    },
    {
      "cell_type": "code",
      "source": [
        "def balance_by_score(score_value, number_of_instances, data):\n",
        "  return data[data == score_value].sample(number_of_instances, random_state=1).index.to_list()"
      ],
      "metadata": {
        "id": "ALZDkfA2mKHT"
      },
      "execution_count": 25,
      "outputs": []
    },
    {
      "cell_type": "code",
      "execution_count": 26,
      "metadata": {
        "id": "nZXHf8YSwKQw",
        "colab": {
          "base_uri": "https://localhost:8080/",
          "height": 424
        },
        "outputId": "a6e9cbfc-59af-41bd-f8e9-d4d31c4e7fc2"
      },
      "outputs": [
        {
          "output_type": "execute_result",
          "data": {
            "text/plain": [
              "                                                    text  score  afinn\n",
              "9968   [switched, similac, advanced, organic, daughte...      2    2.0\n",
              "1999   [we, use, farmhouse, pancake, waffle, mix, mak...      2    3.0\n",
              "13161  [love, good, cup, coffee, amp, scent, one, bes...      1   49.0\n",
              "30709  [pop, chips, delicious, light, tasty, bought, ...      2    5.0\n",
              "26114  [addicted, salty, tangy, flavors, opened, firs...      2   19.0\n",
              "...                                                  ...    ...    ...\n",
              "7813   [went, gourmet, store, asked, chocolate, exper...      2    4.0\n",
              "32511  [ordered, decorations, lemon, lavendar, cupcak...      2    5.0\n",
              "5192   [yuban, makes, best, cup, coffee, either, roas...      2   21.0\n",
              "12172  [happy, found, product, amazon, my, dog, loves...      2   15.0\n",
              "33003  [this, first, time, trying, tomato, powder, ha...      2    7.0\n",
              "\n",
              "[28061 rows x 3 columns]"
            ],
            "text/html": [
              "\n",
              "  <div id=\"df-01aa4672-4733-4661-a84c-94c7a3ec3db4\">\n",
              "    <div class=\"colab-df-container\">\n",
              "      <div>\n",
              "<style scoped>\n",
              "    .dataframe tbody tr th:only-of-type {\n",
              "        vertical-align: middle;\n",
              "    }\n",
              "\n",
              "    .dataframe tbody tr th {\n",
              "        vertical-align: top;\n",
              "    }\n",
              "\n",
              "    .dataframe thead th {\n",
              "        text-align: right;\n",
              "    }\n",
              "</style>\n",
              "<table border=\"1\" class=\"dataframe\">\n",
              "  <thead>\n",
              "    <tr style=\"text-align: right;\">\n",
              "      <th></th>\n",
              "      <th>text</th>\n",
              "      <th>score</th>\n",
              "      <th>afinn</th>\n",
              "    </tr>\n",
              "  </thead>\n",
              "  <tbody>\n",
              "    <tr>\n",
              "      <th>9968</th>\n",
              "      <td>[switched, similac, advanced, organic, daughte...</td>\n",
              "      <td>2</td>\n",
              "      <td>2.0</td>\n",
              "    </tr>\n",
              "    <tr>\n",
              "      <th>1999</th>\n",
              "      <td>[we, use, farmhouse, pancake, waffle, mix, mak...</td>\n",
              "      <td>2</td>\n",
              "      <td>3.0</td>\n",
              "    </tr>\n",
              "    <tr>\n",
              "      <th>13161</th>\n",
              "      <td>[love, good, cup, coffee, amp, scent, one, bes...</td>\n",
              "      <td>1</td>\n",
              "      <td>49.0</td>\n",
              "    </tr>\n",
              "    <tr>\n",
              "      <th>30709</th>\n",
              "      <td>[pop, chips, delicious, light, tasty, bought, ...</td>\n",
              "      <td>2</td>\n",
              "      <td>5.0</td>\n",
              "    </tr>\n",
              "    <tr>\n",
              "      <th>26114</th>\n",
              "      <td>[addicted, salty, tangy, flavors, opened, firs...</td>\n",
              "      <td>2</td>\n",
              "      <td>19.0</td>\n",
              "    </tr>\n",
              "    <tr>\n",
              "      <th>...</th>\n",
              "      <td>...</td>\n",
              "      <td>...</td>\n",
              "      <td>...</td>\n",
              "    </tr>\n",
              "    <tr>\n",
              "      <th>7813</th>\n",
              "      <td>[went, gourmet, store, asked, chocolate, exper...</td>\n",
              "      <td>2</td>\n",
              "      <td>4.0</td>\n",
              "    </tr>\n",
              "    <tr>\n",
              "      <th>32511</th>\n",
              "      <td>[ordered, decorations, lemon, lavendar, cupcak...</td>\n",
              "      <td>2</td>\n",
              "      <td>5.0</td>\n",
              "    </tr>\n",
              "    <tr>\n",
              "      <th>5192</th>\n",
              "      <td>[yuban, makes, best, cup, coffee, either, roas...</td>\n",
              "      <td>2</td>\n",
              "      <td>21.0</td>\n",
              "    </tr>\n",
              "    <tr>\n",
              "      <th>12172</th>\n",
              "      <td>[happy, found, product, amazon, my, dog, loves...</td>\n",
              "      <td>2</td>\n",
              "      <td>15.0</td>\n",
              "    </tr>\n",
              "    <tr>\n",
              "      <th>33003</th>\n",
              "      <td>[this, first, time, trying, tomato, powder, ha...</td>\n",
              "      <td>2</td>\n",
              "      <td>7.0</td>\n",
              "    </tr>\n",
              "  </tbody>\n",
              "</table>\n",
              "<p>28061 rows × 3 columns</p>\n",
              "</div>\n",
              "      <button class=\"colab-df-convert\" onclick=\"convertToInteractive('df-01aa4672-4733-4661-a84c-94c7a3ec3db4')\"\n",
              "              title=\"Convert this dataframe to an interactive table.\"\n",
              "              style=\"display:none;\">\n",
              "        \n",
              "  <svg xmlns=\"http://www.w3.org/2000/svg\" height=\"24px\"viewBox=\"0 0 24 24\"\n",
              "       width=\"24px\">\n",
              "    <path d=\"M0 0h24v24H0V0z\" fill=\"none\"/>\n",
              "    <path d=\"M18.56 5.44l.94 2.06.94-2.06 2.06-.94-2.06-.94-.94-2.06-.94 2.06-2.06.94zm-11 1L8.5 8.5l.94-2.06 2.06-.94-2.06-.94L8.5 2.5l-.94 2.06-2.06.94zm10 10l.94 2.06.94-2.06 2.06-.94-2.06-.94-.94-2.06-.94 2.06-2.06.94z\"/><path d=\"M17.41 7.96l-1.37-1.37c-.4-.4-.92-.59-1.43-.59-.52 0-1.04.2-1.43.59L10.3 9.45l-7.72 7.72c-.78.78-.78 2.05 0 2.83L4 21.41c.39.39.9.59 1.41.59.51 0 1.02-.2 1.41-.59l7.78-7.78 2.81-2.81c.8-.78.8-2.07 0-2.86zM5.41 20L4 18.59l7.72-7.72 1.47 1.35L5.41 20z\"/>\n",
              "  </svg>\n",
              "      </button>\n",
              "      \n",
              "  <style>\n",
              "    .colab-df-container {\n",
              "      display:flex;\n",
              "      flex-wrap:wrap;\n",
              "      gap: 12px;\n",
              "    }\n",
              "\n",
              "    .colab-df-convert {\n",
              "      background-color: #E8F0FE;\n",
              "      border: none;\n",
              "      border-radius: 50%;\n",
              "      cursor: pointer;\n",
              "      display: none;\n",
              "      fill: #1967D2;\n",
              "      height: 32px;\n",
              "      padding: 0 0 0 0;\n",
              "      width: 32px;\n",
              "    }\n",
              "\n",
              "    .colab-df-convert:hover {\n",
              "      background-color: #E2EBFA;\n",
              "      box-shadow: 0px 1px 2px rgba(60, 64, 67, 0.3), 0px 1px 3px 1px rgba(60, 64, 67, 0.15);\n",
              "      fill: #174EA6;\n",
              "    }\n",
              "\n",
              "    [theme=dark] .colab-df-convert {\n",
              "      background-color: #3B4455;\n",
              "      fill: #D2E3FC;\n",
              "    }\n",
              "\n",
              "    [theme=dark] .colab-df-convert:hover {\n",
              "      background-color: #434B5C;\n",
              "      box-shadow: 0px 1px 3px 1px rgba(0, 0, 0, 0.15);\n",
              "      filter: drop-shadow(0px 1px 2px rgba(0, 0, 0, 0.3));\n",
              "      fill: #FFFFFF;\n",
              "    }\n",
              "  </style>\n",
              "\n",
              "      <script>\n",
              "        const buttonEl =\n",
              "          document.querySelector('#df-01aa4672-4733-4661-a84c-94c7a3ec3db4 button.colab-df-convert');\n",
              "        buttonEl.style.display =\n",
              "          google.colab.kernel.accessAllowed ? 'block' : 'none';\n",
              "\n",
              "        async function convertToInteractive(key) {\n",
              "          const element = document.querySelector('#df-01aa4672-4733-4661-a84c-94c7a3ec3db4');\n",
              "          const dataTable =\n",
              "            await google.colab.kernel.invokeFunction('convertToInteractive',\n",
              "                                                     [key], {});\n",
              "          if (!dataTable) return;\n",
              "\n",
              "          const docLinkHtml = 'Like what you see? Visit the ' +\n",
              "            '<a target=\"_blank\" href=https://colab.research.google.com/notebooks/data_table.ipynb>data table notebook</a>'\n",
              "            + ' to learn more about interactive tables.';\n",
              "          element.innerHTML = '';\n",
              "          dataTable['output_type'] = 'display_data';\n",
              "          await google.colab.output.renderOutput(dataTable, element);\n",
              "          const docLink = document.createElement('div');\n",
              "          docLink.innerHTML = docLinkHtml;\n",
              "          element.appendChild(docLink);\n",
              "        }\n",
              "      </script>\n",
              "    </div>\n",
              "  </div>\n",
              "  "
            ]
          },
          "metadata": {},
          "execution_count": 26
        }
      ],
      "source": [
        "from sklearn.model_selection import train_test_split\n",
        "train_df, test_df = train_test_split(df, random_state=1, test_size=0.2)\n",
        "train_df"
      ]
    },
    {
      "cell_type": "markdown",
      "source": [
        "### Balancing"
      ],
      "metadata": {
        "id": "_X2Kr3GYSlsv"
      }
    },
    {
      "cell_type": "code",
      "source": [
        "b_plot = train_df.score.value_counts().plot.box() \n",
        "b_plot.plot()"
      ],
      "metadata": {
        "colab": {
          "base_uri": "https://localhost:8080/",
          "height": 450
        },
        "id": "9-lkqOOl1JPL",
        "outputId": "2b645164-5cf5-4b41-8820-46fe5c158c42"
      },
      "execution_count": 27,
      "outputs": [
        {
          "output_type": "execute_result",
          "data": {
            "text/plain": [
              "[]"
            ]
          },
          "metadata": {},
          "execution_count": 27
        },
        {
          "output_type": "display_data",
          "data": {
            "text/plain": [
              "<Figure size 640x480 with 1 Axes>"
            ],
            "image/png": "[encoded data removed]"
          },
          "metadata": {}
        }
      ]
    },
    {
      "cell_type": "code",
      "source": [
        "train_df.score.value_counts()"
      ],
      "metadata": {
        "colab": {
          "base_uri": "https://localhost:8080/"
        },
        "id": "0nIXyf6314zn",
        "outputId": "34124b72-87cf-4290-a70a-db9e6fdb1f9c"
      },
      "execution_count": 28,
      "outputs": [
        {
          "output_type": "execute_result",
          "data": {
            "text/plain": [
              "2    21671\n",
              "0     4105\n",
              "1     2285\n",
              "Name: score, dtype: int64"
            ]
          },
          "metadata": {},
          "execution_count": 28
        }
      ]
    },
    {
      "cell_type": "code",
      "source": [
        "train_df.score.value_counts().describe()"
      ],
      "metadata": {
        "colab": {
          "base_uri": "https://localhost:8080/"
        },
        "id": "ynaHXhMG2e8n",
        "outputId": "2227e050-ae7b-4408-ce59-b28486706756"
      },
      "execution_count": 29,
      "outputs": [
        {
          "output_type": "execute_result",
          "data": {
            "text/plain": [
              "count        3.000000\n",
              "mean      9353.666667\n",
              "std      10705.868733\n",
              "min       2285.000000\n",
              "25%       3195.000000\n",
              "50%       4105.000000\n",
              "75%      12888.000000\n",
              "max      21671.000000\n",
              "Name: score, dtype: float64"
            ]
          },
          "metadata": {},
          "execution_count": 29
        }
      ]
    },
    {
      "cell_type": "code",
      "source": [
        "def balance_by_label(label_value, number_of_instances, data):\n",
        "  l = data[data.score == label_value].score.value_counts().to_numpy()[0]\n",
        "  if l >= number_of_instances:\n",
        "    return data[data.score == label_value].sample(number_of_instances, random_state=1)#.index.to_list()\n",
        "  else:\n",
        "    return data[data.score == label_value].sample(number_of_instances, random_state=1, replace=True)#.index.to_list()\n"
      ],
      "metadata": {
        "id": "kUw5LS_ITDbS"
      },
      "execution_count": 30,
      "outputs": []
    },
    {
      "cell_type": "code",
      "source": [
        "sampling_value = int(train_df.score.value_counts().describe(include='all').loc['50%']) # 50th percentiles"
      ],
      "metadata": {
        "id": "qEJCm02kSq4q"
      },
      "execution_count": 31,
      "outputs": []
    },
    {
      "cell_type": "code",
      "source": [
        "new_train_df = balance_by_label(0, sampling_value,train_df)\n",
        "\n",
        "for i in range(1,NUM_CLASSES):\n",
        "  output = balance_by_label(i, sampling_value,train_df)  \n",
        "  new_train_df = pd.concat([new_train_df, output])\n",
        "\n",
        "new_train_df.score.value_counts()\n"
      ],
      "metadata": {
        "colab": {
          "base_uri": "https://localhost:8080/"
        },
        "id": "8kcNIkBFUHfy",
        "outputId": "c8adcbae-4c82-4c03-81bd-d8ee9767acd7"
      },
      "execution_count": 32,
      "outputs": [
        {
          "output_type": "execute_result",
          "data": {
            "text/plain": [
              "0    4105\n",
              "1    4105\n",
              "2    4105\n",
              "Name: score, dtype: int64"
            ]
          },
          "metadata": {},
          "execution_count": 32
        }
      ]
    },
    {
      "cell_type": "code",
      "source": [
        "train_df = new_train_df"
      ],
      "metadata": {
        "id": "4ArjlVjd7WQ7"
      },
      "execution_count": 33,
      "outputs": []
    },
    {
      "cell_type": "code",
      "source": [
        "train_df = train_df[[\"text\", \"score\"]].reset_index(drop=True)\n",
        "train_df"
      ],
      "metadata": {
        "colab": {
          "base_uri": "https://localhost:8080/",
          "height": 424
        },
        "id": "nKcqQIHOJBGw",
        "outputId": "c51b842a-784d-48fc-99e8-05fca5e8367d"
      },
      "execution_count": 34,
      "outputs": [
        {
          "output_type": "execute_result",
          "data": {
            "text/plain": [
              "                                                    text  score\n",
              "0      [must, say, bummed, bought, pack, artificially...      0\n",
              "1      [we, year, old, pug, eat, anything, unfortunat...      0\n",
              "2      [got, drink, expecting, carbonated, taste, com...      0\n",
              "3      [so, soon, delivery, guy, gave, package, opene...      0\n",
              "4      [really, like, coffee, i'll, dammed, going, pa...      0\n",
              "...                                                  ...    ...\n",
              "12310  [really, enjoy, coffee, used, variety, k-cups,...      2\n",
              "12311  [we, always, drink, timmothy's, emeril's, thou...      2\n",
              "12312  [yummy, mild, delicious, my, new, favorite, mi...      2\n",
              "12313  [my, foster, dog, rex, came, severely, underwe...      2\n",
              "12314  [out, snacks, ones, daughter, tried, time, fav...      2\n",
              "\n",
              "[12315 rows x 2 columns]"
            ],
            "text/html": [
              "\n",
              "  <div id=\"df-2573eb6b-45a0-461e-b64f-1e1ddefed703\">\n",
              "    <div class=\"colab-df-container\">\n",
              "      <div>\n",
              "<style scoped>\n",
              "    .dataframe tbody tr th:only-of-type {\n",
              "        vertical-align: middle;\n",
              "    }\n",
              "\n",
              "    .dataframe tbody tr th {\n",
              "        vertical-align: top;\n",
              "    }\n",
              "\n",
              "    .dataframe thead th {\n",
              "        text-align: right;\n",
              "    }\n",
              "</style>\n",
              "<table border=\"1\" class=\"dataframe\">\n",
              "  <thead>\n",
              "    <tr style=\"text-align: right;\">\n",
              "      <th></th>\n",
              "      <th>text</th>\n",
              "      <th>score</th>\n",
              "    </tr>\n",
              "  </thead>\n",
              "  <tbody>\n",
              "    <tr>\n",
              "      <th>0</th>\n",
              "      <td>[must, say, bummed, bought, pack, artificially...</td>\n",
              "      <td>0</td>\n",
              "    </tr>\n",
              "    <tr>\n",
              "      <th>1</th>\n",
              "      <td>[we, year, old, pug, eat, anything, unfortunat...</td>\n",
              "      <td>0</td>\n",
              "    </tr>\n",
              "    <tr>\n",
              "      <th>2</th>\n",
              "      <td>[got, drink, expecting, carbonated, taste, com...</td>\n",
              "      <td>0</td>\n",
              "    </tr>\n",
              "    <tr>\n",
              "      <th>3</th>\n",
              "      <td>[so, soon, delivery, guy, gave, package, opene...</td>\n",
              "      <td>0</td>\n",
              "    </tr>\n",
              "    <tr>\n",
              "      <th>4</th>\n",
              "      <td>[really, like, coffee, i'll, dammed, going, pa...</td>\n",
              "      <td>0</td>\n",
              "    </tr>\n",
              "    <tr>\n",
              "      <th>...</th>\n",
              "      <td>...</td>\n",
              "      <td>...</td>\n",
              "    </tr>\n",
              "    <tr>\n",
              "      <th>12310</th>\n",
              "      <td>[really, enjoy, coffee, used, variety, k-cups,...</td>\n",
              "      <td>2</td>\n",
              "    </tr>\n",
              "    <tr>\n",
              "      <th>12311</th>\n",
              "      <td>[we, always, drink, timmothy's, emeril's, thou...</td>\n",
              "      <td>2</td>\n",
              "    </tr>\n",
              "    <tr>\n",
              "      <th>12312</th>\n",
              "      <td>[yummy, mild, delicious, my, new, favorite, mi...</td>\n",
              "      <td>2</td>\n",
              "    </tr>\n",
              "    <tr>\n",
              "      <th>12313</th>\n",
              "      <td>[my, foster, dog, rex, came, severely, underwe...</td>\n",
              "      <td>2</td>\n",
              "    </tr>\n",
              "    <tr>\n",
              "      <th>12314</th>\n",
              "      <td>[out, snacks, ones, daughter, tried, time, fav...</td>\n",
              "      <td>2</td>\n",
              "    </tr>\n",
              "  </tbody>\n",
              "</table>\n",
              "<p>12315 rows × 2 columns</p>\n",
              "</div>\n",
              "      <button class=\"colab-df-convert\" onclick=\"convertToInteractive('df-2573eb6b-45a0-461e-b64f-1e1ddefed703')\"\n",
              "              title=\"Convert this dataframe to an interactive table.\"\n",
              "              style=\"display:none;\">\n",
              "        \n",
              "  <svg xmlns=\"http://www.w3.org/2000/svg\" height=\"24px\"viewBox=\"0 0 24 24\"\n",
              "       width=\"24px\">\n",
              "    <path d=\"M0 0h24v24H0V0z\" fill=\"none\"/>\n",
              "    <path d=\"M18.56 5.44l.94 2.06.94-2.06 2.06-.94-2.06-.94-.94-2.06-.94 2.06-2.06.94zm-11 1L8.5 8.5l.94-2.06 2.06-.94-2.06-.94L8.5 2.5l-.94 2.06-2.06.94zm10 10l.94 2.06.94-2.06 2.06-.94-2.06-.94-.94-2.06-.94 2.06-2.06.94z\"/><path d=\"M17.41 7.96l-1.37-1.37c-.4-.4-.92-.59-1.43-.59-.52 0-1.04.2-1.43.59L10.3 9.45l-7.72 7.72c-.78.78-.78 2.05 0 2.83L4 21.41c.39.39.9.59 1.41.59.51 0 1.02-.2 1.41-.59l7.78-7.78 2.81-2.81c.8-.78.8-2.07 0-2.86zM5.41 20L4 18.59l7.72-7.72 1.47 1.35L5.41 20z\"/>\n",
              "  </svg>\n",
              "      </button>\n",
              "      \n",
              "  <style>\n",
              "    .colab-df-container {\n",
              "      display:flex;\n",
              "      flex-wrap:wrap;\n",
              "      gap: 12px;\n",
              "    }\n",
              "\n",
              "    .colab-df-convert {\n",
              "      background-color: #E8F0FE;\n",
              "      border: none;\n",
              "      border-radius: 50%;\n",
              "      cursor: pointer;\n",
              "      display: none;\n",
              "      fill: #1967D2;\n",
              "      height: 32px;\n",
              "      padding: 0 0 0 0;\n",
              "      width: 32px;\n",
              "    }\n",
              "\n",
              "    .colab-df-convert:hover {\n",
              "      background-color: #E2EBFA;\n",
              "      box-shadow: 0px 1px 2px rgba(60, 64, 67, 0.3), 0px 1px 3px 1px rgba(60, 64, 67, 0.15);\n",
              "      fill: #174EA6;\n",
              "    }\n",
              "\n",
              "    [theme=dark] .colab-df-convert {\n",
              "      background-color: #3B4455;\n",
              "      fill: #D2E3FC;\n",
              "    }\n",
              "\n",
              "    [theme=dark] .colab-df-convert:hover {\n",
              "      background-color: #434B5C;\n",
              "      box-shadow: 0px 1px 3px 1px rgba(0, 0, 0, 0.15);\n",
              "      filter: drop-shadow(0px 1px 2px rgba(0, 0, 0, 0.3));\n",
              "      fill: #FFFFFF;\n",
              "    }\n",
              "  </style>\n",
              "\n",
              "      <script>\n",
              "        const buttonEl =\n",
              "          document.querySelector('#df-2573eb6b-45a0-461e-b64f-1e1ddefed703 button.colab-df-convert');\n",
              "        buttonEl.style.display =\n",
              "          google.colab.kernel.accessAllowed ? 'block' : 'none';\n",
              "\n",
              "        async function convertToInteractive(key) {\n",
              "          const element = document.querySelector('#df-2573eb6b-45a0-461e-b64f-1e1ddefed703');\n",
              "          const dataTable =\n",
              "            await google.colab.kernel.invokeFunction('convertToInteractive',\n",
              "                                                     [key], {});\n",
              "          if (!dataTable) return;\n",
              "\n",
              "          const docLinkHtml = 'Like what you see? Visit the ' +\n",
              "            '<a target=\"_blank\" href=https://colab.research.google.com/notebooks/data_table.ipynb>data table notebook</a>'\n",
              "            + ' to learn more about interactive tables.';\n",
              "          element.innerHTML = '';\n",
              "          dataTable['output_type'] = 'display_data';\n",
              "          await google.colab.output.renderOutput(dataTable, element);\n",
              "          const docLink = document.createElement('div');\n",
              "          docLink.innerHTML = docLinkHtml;\n",
              "          element.appendChild(docLink);\n",
              "        }\n",
              "      </script>\n",
              "    </div>\n",
              "  </div>\n",
              "  "
            ]
          },
          "metadata": {},
          "execution_count": 34
        }
      ]
    },
    {
      "cell_type": "code",
      "source": [
        "X_train = train_df.text\n",
        "y_train = train_df.score\n",
        "X_test = test_df.text\n",
        "y_test = test_df.score\n",
        "\n",
        "y_train, y_test"
      ],
      "metadata": {
        "colab": {
          "base_uri": "https://localhost:8080/"
        },
        "id": "-Ry4CEiGUtT1",
        "outputId": "5fdc5f8f-a9dd-4786-9d2b-314458b28bc0"
      },
      "execution_count": 35,
      "outputs": [
        {
          "output_type": "execute_result",
          "data": {
            "text/plain": [
              "(0        0\n",
              " 1        0\n",
              " 2        0\n",
              " 3        0\n",
              " 4        0\n",
              "         ..\n",
              " 12310    2\n",
              " 12311    2\n",
              " 12312    2\n",
              " 12313    2\n",
              " 12314    2\n",
              " Name: score, Length: 12315, dtype: int64,\n",
              " 5109     2\n",
              " 15653    2\n",
              " 1390     2\n",
              " 24565    2\n",
              " 4613     2\n",
              "         ..\n",
              " 24589    2\n",
              " 4069     0\n",
              " 4576     0\n",
              " 28054    2\n",
              " 12329    1\n",
              " Name: score, Length: 7016, dtype: int64)"
            ]
          },
          "metadata": {},
          "execution_count": 35
        }
      ]
    },
    {
      "cell_type": "code",
      "source": [
        "cond = train_df['text'].str.contains(r'^\\s*$', na=False)\n",
        "cond[cond==True].index.to_list()"
      ],
      "metadata": {
        "colab": {
          "base_uri": "https://localhost:8080/"
        },
        "id": "PTdGZRxpW91K",
        "outputId": "94737913-725e-4b5b-fa9e-2312bbdd0fd7"
      },
      "execution_count": 36,
      "outputs": [
        {
          "output_type": "execute_result",
          "data": {
            "text/plain": [
              "[]"
            ]
          },
          "metadata": {},
          "execution_count": 36
        }
      ]
    },
    {
      "cell_type": "markdown",
      "source": [
        "### BoW"
      ],
      "metadata": {
        "id": "Z2TouAezUt-i"
      }
    },
    {
      "cell_type": "code",
      "execution_count": 37,
      "metadata": {
        "colab": {
          "base_uri": "https://localhost:8080/"
        },
        "id": "7aflChzvwuk7",
        "outputId": "8919c6c1-51a5-4718-822e-576d8b8c875f"
      },
      "outputs": [
        {
          "output_type": "stream",
          "name": "stdout",
          "text": [
            "(12315, 5000) (7016, 5000)\n"
          ]
        }
      ],
      "source": [
        "from sklearn.feature_extraction.text import CountVectorizer\n",
        "\n",
        "#Step 2-3: Pre-process and Vectorize train and test data\n",
        "vect = CountVectorizer(stop_words=None, lowercase=True, max_features=5000)\n",
        "#clean is a function we defined for pre-processing, seen in the notebook.\n",
        "X_train_dtm = vect.fit_transform(X_train.apply(lambda x: \" \".join(x)))\n",
        "X_test_dtm = vect.transform(X_test.apply(lambda x: \" \".join(x)))\n",
        "print(X_train_dtm.shape, X_test_dtm.shape)"
      ]
    },
    {
      "cell_type": "code",
      "execution_count": 38,
      "metadata": {
        "id": "x-WR2fNeKF2r"
      },
      "outputs": [],
      "source": [
        "from sklearn.metrics import f1_score\n",
        "def analisys(y_test, y_pred_class):\n",
        "  print(\"\\n Accuracy: \", accuracy_score(y_test, y_pred_class))\n",
        "  print(\"Report: \\n\",classification_report(y_test, y_pred_class))\n",
        "\n",
        "  cm = confusion_matrix(y_test, y_pred_class)\n",
        "\n",
        "  disp = ConfusionMatrixDisplay(confusion_matrix=cm,\n",
        "                                display_labels=[x for x in range(NUM_CLASSES)])\n",
        "\n",
        "  disp.plot()\n",
        "\n",
        "  plt.show()"
      ]
    },
    {
      "cell_type": "code",
      "execution_count": 39,
      "metadata": {
        "id": "5apqRgrK2WOG"
      },
      "outputs": [],
      "source": [
        "from sklearn.svm import LinearSVC\n",
        "from sklearn.naive_bayes import MultinomialNB\n",
        "from sklearn.linear_model import LogisticRegression\n",
        "\n",
        "def svm_classifier(X_train_balanced, y_train_balanced, X_ts, y_ts):\n",
        "  classifier = LinearSVC() \n",
        "  classifier.fit(X_train_balanced, y_train_balanced) #fit the model with training data\n",
        "  y_pred_class = classifier.predict(X_ts)\n",
        "  analisys(y_ts, y_pred_class)\n",
        "\n",
        "def mnb_classifier(X_train_balanced, y_train_balanced, X_ts, y_ts):\n",
        "  nb = MultinomialNB() #instantiate a Multinomial Naive Bayes classifier\n",
        "  nb.fit(X_train_balanced, y_train_balanced)#train the mode\n",
        "  y_pred_class = nb.predict(X_ts)#make class predictions for test data\n",
        "  analisys(y_ts, y_pred_class)\n",
        "\n",
        "def lr_classifier(X_train_balanced, y_train_balanced, X_ts, y_ts):\n",
        "  logreg = LogisticRegression(max_iter=10000)\n",
        "  logreg.fit(X_train_balanced, y_train_balanced)\n",
        "  y_pred_class = logreg.predict(X_ts)\n",
        "  analisys(y_ts, y_pred_class)\n"
      ]
    },
    {
      "cell_type": "markdown",
      "metadata": {
        "id": "XLTrH--Q5OaM"
      },
      "source": [
        "### Balancig Data"
      ]
    },
    {
      "cell_type": "markdown",
      "metadata": {
        "id": "mkIu1-Ua5QtX"
      },
      "source": [
        "https://imbalanced-learn.org/stable/"
      ]
    },
    {
      "cell_type": "code",
      "execution_count": 40,
      "metadata": {
        "colab": {
          "base_uri": "https://localhost:8080/"
        },
        "id": "QWCcoswS5TYB",
        "outputId": "f4065e35-b133-4869-e898-86d27d131f48"
      },
      "outputs": [
        {
          "output_type": "stream",
          "name": "stdout",
          "text": [
            "Looking in indexes: https://pypi.org/simple, https://us-python.pkg.dev/colab-wheels/public/simple/\n",
            "Requirement already satisfied: imbalanced-learn in /usr/local/lib/python3.10/dist-packages (0.10.1)\n",
            "Requirement already satisfied: numpy>=1.17.3 in /usr/local/lib/python3.10/dist-packages (from imbalanced-learn) (1.22.4)\n",
            "Requirement already satisfied: scipy>=1.3.2 in /usr/local/lib/python3.10/dist-packages (from imbalanced-learn) (1.10.1)\n",
            "Requirement already satisfied: scikit-learn>=1.0.2 in /usr/local/lib/python3.10/dist-packages (from imbalanced-learn) (1.2.2)\n",
            "Requirement already satisfied: joblib>=1.1.1 in /usr/local/lib/python3.10/dist-packages (from imbalanced-learn) (1.2.0)\n",
            "Requirement already satisfied: threadpoolctl>=2.0.0 in /usr/local/lib/python3.10/dist-packages (from imbalanced-learn) (3.1.0)\n"
          ]
        }
      ],
      "source": [
        "!pip install imbalanced-learn\n",
        "from imblearn.over_sampling import *\n",
        "from imblearn.under_sampling import *\n",
        "from imblearn.combine import *\n",
        "import matplotlib.pyplot as plt\n",
        "from sklearn.metrics import confusion_matrix, ConfusionMatrixDisplay, accuracy_score, classification_report\n",
        "\n"
      ]
    },
    {
      "cell_type": "code",
      "execution_count": 41,
      "metadata": {
        "id": "wDozweRxNu3X"
      },
      "outputs": [],
      "source": [
        "def balancing_data(method, X_train_not_balanced, y_train_not_balanced):\n",
        "  autopct = \"%.2f\"\n",
        "  fig, axs = plt.subplots(ncols=2, figsize=(10, 5))\n",
        "  y_train_not_balanced.value_counts().plot.pie(autopct=autopct, ax=axs[0])\n",
        "  axs[0].set_title(\"Original\")\n",
        "  X_train_balanced, y_train_balanced = method.fit_resample(X_train_not_balanced, y_train_not_balanced)\n",
        "  y_train_balanced.value_counts().plot.pie(autopct=autopct, ax=axs[1])\n",
        "  axs[1].set_title(\"Balanced\")\n",
        "  fig.tight_layout()\n",
        "  print(y_train_balanced.value_counts())\n",
        "  return X_train_balanced, y_train_balanced"
      ]
    },
    {
      "cell_type": "code",
      "source": [
        "# X_train_balanced, y_train_balanced = balancing_data(BorderlineSMOTE(random_state=42), X_train_dtm, y_train)"
      ],
      "metadata": {
        "id": "5cqdROJDeJDX"
      },
      "execution_count": 42,
      "outputs": []
    },
    {
      "cell_type": "markdown",
      "metadata": {
        "id": "v8Ly1fJ-vHil"
      },
      "source": [
        "### Naive Bayes Classifier\n"
      ]
    },
    {
      "cell_type": "code",
      "execution_count": 43,
      "metadata": {
        "id": "iFi8iND_mVO8",
        "colab": {
          "base_uri": "https://localhost:8080/",
          "height": 678
        },
        "outputId": "429a0296-a09b-4d2e-b207-1f15f0ba5dff"
      },
      "outputs": [
        {
          "output_type": "stream",
          "name": "stdout",
          "text": [
            "\n",
            " Accuracy:  0.7165051311288484\n",
            "Report: \n",
            "               precision    recall  f1-score   support\n",
            "\n",
            "           0       0.50      0.68      0.58      1113\n",
            "           1       0.20      0.42      0.27       570\n",
            "           2       0.94      0.75      0.84      5333\n",
            "\n",
            "    accuracy                           0.72      7016\n",
            "   macro avg       0.55      0.62      0.56      7016\n",
            "weighted avg       0.81      0.72      0.75      7016\n",
            "\n"
          ]
        },
        {
          "output_type": "display_data",
          "data": {
            "text/plain": [
              "<Figure size 640x480 with 2 Axes>"
            ],
            "image/png": "[encoded data removed]"
          },
          "metadata": {}
        }
      ],
      "source": [
        "mnb_classifier(X_train_dtm, y_train, X_test_dtm, y_test)"
      ]
    },
    {
      "cell_type": "markdown",
      "metadata": {
        "id": "C3upTXRZCede"
      },
      "source": [
        "### Logistic Regression\n"
      ]
    },
    {
      "cell_type": "code",
      "execution_count": 44,
      "metadata": {
        "id": "LTKq6yDB3NQV",
        "colab": {
          "base_uri": "https://localhost:8080/",
          "height": 675
        },
        "outputId": "436e1912-3516-45e2-e565-07fb7006f5cc"
      },
      "outputs": [
        {
          "output_type": "stream",
          "name": "stdout",
          "text": [
            "\n",
            " Accuracy:  0.7229190421892816\n",
            "Report: \n",
            "               precision    recall  f1-score   support\n",
            "\n",
            "           0       0.50      0.69      0.58      1113\n",
            "           1       0.20      0.40      0.27       570\n",
            "           2       0.94      0.76      0.84      5333\n",
            "\n",
            "    accuracy                           0.72      7016\n",
            "   macro avg       0.55      0.62      0.56      7016\n",
            "weighted avg       0.81      0.72      0.75      7016\n",
            "\n"
          ]
        },
        {
          "output_type": "display_data",
          "data": {
            "text/plain": [
              "<Figure size 640x480 with 2 Axes>"
            ],
            "image/png": "[encoded data removed]"
          },
          "metadata": {}
        }
      ],
      "source": [
        "lr_classifier(X_train_dtm, y_train, X_test_dtm, y_test)"
      ]
    },
    {
      "cell_type": "markdown",
      "metadata": {
        "id": "uTT1qgNTL9-3"
      },
      "source": [
        "### Support Vector Machine\n"
      ]
    },
    {
      "cell_type": "code",
      "execution_count": 45,
      "metadata": {
        "id": "DBL4gCA1L-eg",
        "colab": {
          "base_uri": "https://localhost:8080/",
          "height": 709
        },
        "outputId": "ea3ea7f5-4236-4bd6-c081-e590b88c4dc7"
      },
      "outputs": [
        {
          "output_type": "stream",
          "name": "stdout",
          "text": [
            "\n",
            " Accuracy:  0.7066704675028507\n",
            "Report: \n",
            "               precision    recall  f1-score   support\n",
            "\n",
            "           0       0.47      0.68      0.55      1113\n",
            "           1       0.19      0.37      0.25       570\n",
            "           2       0.93      0.75      0.83      5333\n",
            "\n",
            "    accuracy                           0.71      7016\n",
            "   macro avg       0.53      0.60      0.54      7016\n",
            "weighted avg       0.79      0.71      0.74      7016\n",
            "\n"
          ]
        },
        {
          "output_type": "stream",
          "name": "stderr",
          "text": [
            "/usr/local/lib/python3.10/dist-packages/sklearn/svm/_base.py:1244: ConvergenceWarning: Liblinear failed to converge, increase the number of iterations.\n",
            "  warnings.warn(\n"
          ]
        },
        {
          "output_type": "display_data",
          "data": {
            "text/plain": [
              "<Figure size 640x480 with 2 Axes>"
            ],
            "image/png": "[encoded data removed]"
          },
          "metadata": {}
        }
      ],
      "source": [
        "svm_classifier(X_train_dtm, y_train, X_test_dtm, y_test)"
      ]
    },
    {
      "cell_type": "markdown",
      "metadata": {
        "id": "lMwlVXWEab0G"
      },
      "source": [
        "## Using Neural Embeddings in Text Classification\n"
      ]
    },
    {
      "cell_type": "markdown",
      "metadata": {
        "id": "aiky-wImhRWd"
      },
      "source": [
        "### Word Embeddings\n",
        "We use [GoogleNews-vectors-negative300](https://drive.google.com/file/d/0B7XkCwpI5KDYNlNUTTlSS21pQmM/view?resourcekey=0-wjGZdNAUop6WykTtMip30g). This is a large model that can be seen as a dictionary where the keys are words in the\n",
        "vocabulary and the values are their learned embedding representations. Given a\n",
        "query word, if the word’s embedding is present in the dictionary, it will return the\n",
        "same"
      ]
    },
    {
      "cell_type": "code",
      "execution_count": 46,
      "metadata": {
        "id": "J305tpX0jbZ1"
      },
      "outputs": [],
      "source": [
        "data_path= PATH_PROJ + \"GoogleNews-vectors-negative300.bin\" # from https://drive.google.com/file/d/0B7XkCwpI5KDYNlNUTTlSS21pQmM/view?resourcekey=0-wjGZdNAUop6WykTtMip30g\n",
        "# !cp $data_path \"/content/GoogleNews-vectors-negative300.bin\""
      ]
    },
    {
      "cell_type": "code",
      "execution_count": 47,
      "metadata": {
        "colab": {
          "base_uri": "https://localhost:8080/"
        },
        "id": "2yiURyGoXHdC",
        "outputId": "4a3304b4-1a74-4282-adcc-c6318b727122"
      },
      "outputs": [
        {
          "output_type": "stream",
          "name": "stdout",
          "text": [
            "done loading Word2Vec\n"
          ]
        }
      ],
      "source": [
        "from gensim.models import KeyedVectors\n",
        "\n",
        "#Load W2V model. This will take some time.\n",
        "w2v_model = KeyedVectors.load_word2vec_format(data_path, binary=True)\n",
        "print('done loading Word2Vec')"
      ]
    },
    {
      "cell_type": "markdown",
      "metadata": {
        "id": "1BNSQZ7zuP6g"
      },
      "source": [
        "How do we use this pre-learned embedding to represent features? A simple approach is just\n",
        "to average the embeddings for individual words in text."
      ]
    },
    {
      "cell_type": "code",
      "execution_count": 48,
      "metadata": {
        "id": "JBLPKwSfuQF-"
      },
      "outputs": [],
      "source": [
        "import math\n",
        "# Creating a feature vector by averaging all embeddings for all sentences\n",
        "def embedding_feats(list_of_lists, w2v_model):\n",
        "  DIMENSION = 300\n",
        "  zero_vector = np.zeros(DIMENSION)\n",
        "  feats = []\n",
        "  for tokens in list_of_lists:\n",
        "    feat_for_this = np.zeros(DIMENSION)\n",
        "    count_for_this = 0\n",
        "    \n",
        "    for token in tokens:\n",
        "      if token in w2v_model:\n",
        "        feat_for_this += w2v_model[token]\n",
        "        count_for_this +=1\n",
        "    \n",
        "    \n",
        "    if count_for_this != 0:\n",
        "      feats.append(feat_for_this/count_for_this)\n",
        "    else:\n",
        "      feats.append(np.zeros(DIMENSION))\n",
        "    \n",
        "  return feats"
      ]
    },
    {
      "cell_type": "code",
      "execution_count": 49,
      "metadata": {
        "colab": {
          "base_uri": "https://localhost:8080/"
        },
        "id": "kFCZHGKGvcNQ",
        "outputId": "a4454e8a-d752-48ee-f838-ff8d702c0a23"
      },
      "outputs": [
        {
          "output_type": "stream",
          "name": "stdout",
          "text": [
            "12315\n",
            "7016\n"
          ]
        }
      ],
      "source": [
        "train_vectors = embedding_feats(X_train, w2v_model)\n",
        "print(len(train_vectors))\n",
        "test_vectors = embedding_feats(X_test, w2v_model)\n",
        "print(len(test_vectors))"
      ]
    },
    {
      "cell_type": "code",
      "execution_count": 50,
      "metadata": {
        "id": "LmDMJUg__Ebe"
      },
      "outputs": [],
      "source": [
        "# X_train_balanced, y_train_balanced = balancing_data(BorderlineSMOTE(random_state=42), train_vectors, y_train)"
      ]
    },
    {
      "cell_type": "code",
      "execution_count": 51,
      "metadata": {
        "colab": {
          "base_uri": "https://localhost:8080/"
        },
        "id": "NCI8q143vn23",
        "outputId": "4588c63f-8011-49fa-bcae-107dce3a31cd"
      },
      "outputs": [
        {
          "output_type": "execute_result",
          "data": {
            "text/plain": [
              "array([], shape=(0, 2), dtype=int64)"
            ]
          },
          "metadata": {},
          "execution_count": 51
        }
      ],
      "source": [
        "np.argwhere(np.isnan(np.array(train_vectors)))"
      ]
    },
    {
      "cell_type": "markdown",
      "metadata": {
        "id": "vgYmPgvG8GD2"
      },
      "source": [
        "We treat the resulting\n",
        "embedding vector as the feature vector that represents the entire text. Once this feature engineering is done, the final step is similar to what we did in the previous section: use these features and train a classifier. \n"
      ]
    },
    {
      "cell_type": "markdown",
      "metadata": {
        "id": "G9QOPJ8D40yu"
      },
      "source": [
        "### Naive Bayes Classifier\n",
        "\n",
        "Naive bayes classifier does not allow for negative values in the document vectors. But when we use document+word vectors, Z will have some negatives. It should be possible to translate/scale all vectors uniformly to avoid negatives, but we do not bother as we have enough simulations to run anyway. So basically naive bayes classifier is used ONLY with pure document vectors here.\n",
        "\n",
        "credits: https://towardsdatascience.com/word-embeddings-and-document-vectors-when-in-doubt-simplify-8c9aaeec244e"
      ]
    },
    {
      "cell_type": "code",
      "execution_count": 52,
      "metadata": {
        "id": "isUhz_3M40yv",
        "colab": {
          "base_uri": "https://localhost:8080/",
          "height": 675
        },
        "outputId": "948ef640-a3a0-421a-f4dc-8e1c8b582183"
      },
      "outputs": [
        {
          "output_type": "stream",
          "name": "stdout",
          "text": [
            "\n",
            " Accuracy:  0.5587229190421893\n",
            "Report: \n",
            "               precision    recall  f1-score   support\n",
            "\n",
            "           0       0.32      0.62      0.42      1113\n",
            "           1       0.16      0.45      0.23       570\n",
            "           2       0.93      0.56      0.70      5333\n",
            "\n",
            "    accuracy                           0.56      7016\n",
            "   macro avg       0.47      0.54      0.45      7016\n",
            "weighted avg       0.77      0.56      0.62      7016\n",
            "\n"
          ]
        },
        {
          "output_type": "display_data",
          "data": {
            "text/plain": [
              "<Figure size 640x480 with 2 Axes>"
            ],
            "image/png": "[encoded data removed]"
          },
          "metadata": {}
        }
      ],
      "source": [
        "from sklearn.preprocessing import MinMaxScaler\n",
        "\n",
        "scaler = MinMaxScaler()\n",
        "X_train_balanced_for_mnb = scaler.fit_transform(train_vectors)\n",
        "X_ts_for_mnb = scaler.transform(test_vectors)\n",
        "\n",
        "\n",
        "mnb_classifier(X_train_balanced_for_mnb, y_train, X_ts_for_mnb, y_test)"
      ]
    },
    {
      "cell_type": "markdown",
      "metadata": {
        "id": "Fj-deP1g40yv"
      },
      "source": [
        "### Logistic Regression\n"
      ]
    },
    {
      "cell_type": "code",
      "execution_count": 53,
      "metadata": {
        "id": "QAF46G9N40yv",
        "colab": {
          "base_uri": "https://localhost:8080/",
          "height": 675
        },
        "outputId": "7df814dd-716c-4497-83e3-9e12e723f58c"
      },
      "outputs": [
        {
          "output_type": "stream",
          "name": "stdout",
          "text": [
            "\n",
            " Accuracy:  0.6697548460661346\n",
            "Report: \n",
            "               precision    recall  f1-score   support\n",
            "\n",
            "           0       0.47      0.66      0.55      1113\n",
            "           1       0.17      0.46      0.25       570\n",
            "           2       0.94      0.69      0.80      5333\n",
            "\n",
            "    accuracy                           0.67      7016\n",
            "   macro avg       0.53      0.61      0.53      7016\n",
            "weighted avg       0.80      0.67      0.71      7016\n",
            "\n"
          ]
        },
        {
          "output_type": "display_data",
          "data": {
            "text/plain": [
              "<Figure size 640x480 with 2 Axes>"
            ],
            "image/png": "[encoded data removed]"
          },
          "metadata": {}
        }
      ],
      "source": [
        "lr_classifier(train_vectors, y_train, test_vectors, y_test)"
      ]
    },
    {
      "cell_type": "markdown",
      "metadata": {
        "id": "rLMqCcJT40yw"
      },
      "source": [
        "### Support Vector Machine\n"
      ]
    },
    {
      "cell_type": "code",
      "execution_count": 54,
      "metadata": {
        "id": "dXfviWUK40yw",
        "colab": {
          "base_uri": "https://localhost:8080/",
          "height": 675
        },
        "outputId": "0d661cf1-b55a-4d2e-fabd-98e195a51b59"
      },
      "outputs": [
        {
          "output_type": "stream",
          "name": "stdout",
          "text": [
            "\n",
            " Accuracy:  0.6815849486887116\n",
            "Report: \n",
            "               precision    recall  f1-score   support\n",
            "\n",
            "           0       0.48      0.66      0.55      1113\n",
            "           1       0.18      0.45      0.26       570\n",
            "           2       0.93      0.71      0.81      5333\n",
            "\n",
            "    accuracy                           0.68      7016\n",
            "   macro avg       0.53      0.61      0.54      7016\n",
            "weighted avg       0.80      0.68      0.72      7016\n",
            "\n"
          ]
        },
        {
          "output_type": "display_data",
          "data": {
            "text/plain": [
              "<Figure size 640x480 with 2 Axes>"
            ],
            "image/png": "[encoded data removed]"
          },
          "metadata": {}
        }
      ],
      "source": [
        "svm_classifier(train_vectors, y_train, test_vectors, y_test)"
      ]
    },
    {
      "cell_type": "markdown",
      "source": [
        "### Subword Embeddings and fastText\n",
        "\n",
        "FastText embeddings are based on the idea of\n",
        "enriching word embeddings with subword-level information. Thus, the embedding\n",
        "representation for each word is represented as a sum of the representations of individual character n-grams. While fastText is a general-purpose library to learn the embeddings, it also supports\n",
        "off-the-shelf text classification by providing end-to-end classifier training and testing;\n",
        "i.e., we don’t have to handle feature extraction separately. \n",
        "\n",
        "https://en.wikipedia.org/wiki/FastText\n"
      ],
      "metadata": {
        "id": "bTmD2hRNN4Q_"
      }
    },
    {
      "cell_type": "code",
      "source": [
        "PATH_DATASET = PATH_PROJ+\"food.csv\""
      ],
      "metadata": {
        "id": "xwoYXtCBSOj_"
      },
      "execution_count": 55,
      "outputs": []
    },
    {
      "cell_type": "code",
      "source": [
        "df = pd.read_csv(PATH_DATASET)"
      ],
      "metadata": {
        "id": "jACNNx1qSTiq"
      },
      "execution_count": 56,
      "outputs": []
    },
    {
      "cell_type": "code",
      "source": [
        "!pip install fasttext==0.9.2\n"
      ],
      "metadata": {
        "id": "js3vcuLSN8mp",
        "colab": {
          "base_uri": "https://localhost:8080/"
        },
        "outputId": "dea97477-2f60-4541-d9d2-9b91f09803b3"
      },
      "execution_count": 57,
      "outputs": [
        {
          "output_type": "stream",
          "name": "stdout",
          "text": [
            "Looking in indexes: https://pypi.org/simple, https://us-python.pkg.dev/colab-wheels/public/simple/\n",
            "Requirement already satisfied: fasttext==0.9.2 in /usr/local/lib/python3.10/dist-packages (0.9.2)\n",
            "Requirement already satisfied: pybind11>=2.2 in /usr/local/lib/python3.10/dist-packages (from fasttext==0.9.2) (2.10.4)\n",
            "Requirement already satisfied: setuptools>=0.7.0 in /usr/local/lib/python3.10/dist-packages (from fasttext==0.9.2) (67.7.2)\n",
            "Requirement already satisfied: numpy in /usr/local/lib/python3.10/dist-packages (from fasttext==0.9.2) (1.22.4)\n"
          ]
        }
      ]
    },
    {
      "cell_type": "markdown",
      "source": [
        "So, the first step\n",
        "involves cleaning the text to\n",
        "remove extraneous characters, similar to what we did in the pre-processing steps for\n",
        "the other classifier examples we’ve seen so far."
      ],
      "metadata": {
        "id": "IXuX_LWWRkiK"
      }
    },
    {
      "cell_type": "code",
      "source": [
        "# Lets do some cleaning of this text\n",
        "def clean_it(text,normalize=True):\n",
        "    # Replacing possible issues with data. We can add or reduce the replacemtent in this chain\n",
        "    s = str(text).replace(',',' ').replace('\"','').replace('\\'',' \\' ').replace('.',' . ').replace('(',' ( ').\\\n",
        "            replace(')',' ) ').replace('!',' ! ').replace('?',' ? ').replace(':',' ').replace(';',' ').lower()\n",
        "    \n",
        "    # normalizing / encoding the text\n",
        "    if normalize:\n",
        "        s = s.normalize('NFKD').str.encode('ascii','ignore').str.decode('utf-8')\n",
        "    \n",
        "    return s\n",
        "\n",
        "# Now lets define a small function where we can use above cleaning on datasets\n",
        "def clean_df(data, cleanit= False, shuffleit=False, encodeit=False, label_prefix='__class__'):\n",
        "    # Defining the new data\n",
        "    df = data[['text']].copy(deep=True)\n",
        "    df['score'] = label_prefix + data['score'].astype(str) + ' '\n",
        "    \n",
        "    # cleaning it\n",
        "    if cleanit:\n",
        "        df['text'] = df['text'].apply(lambda x: clean_it(x,encodeit))\n",
        "    \n",
        "    # shuffling it\n",
        "    if shuffleit:\n",
        "        df.sample(frac=1).reset_index(drop=True)\n",
        "            \n",
        "    return df"
      ],
      "metadata": {
        "id": "mognZtM4RPPI"
      },
      "execution_count": 58,
      "outputs": []
    },
    {
      "cell_type": "code",
      "source": [
        "df_train_cleaned = clean_df(train_df, True, True)\n",
        "df_train_cleaned"
      ],
      "metadata": {
        "colab": {
          "base_uri": "https://localhost:8080/",
          "height": 424
        },
        "id": "W7EG39zoS8As",
        "outputId": "9676fd72-dbd4-4ac1-ee10-1a62eb17be9e"
      },
      "execution_count": 59,
      "outputs": [
        {
          "output_type": "execute_result",
          "data": {
            "text/plain": [
              "                                                    text        score\n",
              "0      [ ' must '    ' say '    ' bummed '    ' bough...  __class__0 \n",
              "1      [ ' we '    ' year '    ' old '    ' pug '    ...  __class__0 \n",
              "2      [ ' got '    ' drink '    ' expecting '    ' c...  __class__0 \n",
              "3      [ ' so '    ' soon '    ' delivery '    ' guy ...  __class__0 \n",
              "4      [ ' really '    ' like '    ' coffee '   i ' l...  __class__0 \n",
              "...                                                  ...          ...\n",
              "12310  [ ' really '    ' enjoy '    ' coffee '    ' u...  __class__2 \n",
              "12311  [ ' we '    ' always '    ' drink '   timmothy...  __class__2 \n",
              "12312  [ ' yummy '    ' mild '    ' delicious '    ' ...  __class__2 \n",
              "12313  [ ' my '    ' foster '    ' dog '    ' rex '  ...  __class__2 \n",
              "12314  [ ' out '    ' snacks '    ' ones '    ' daugh...  __class__2 \n",
              "\n",
              "[12315 rows x 2 columns]"
            ],
            "text/html": [
              "\n",
              "  <div id=\"df-5e27e610-8b01-4e69-8971-5e2b1dd6d37f\">\n",
              "    <div class=\"colab-df-container\">\n",
              "      <div>\n",
              "<style scoped>\n",
              "    .dataframe tbody tr th:only-of-type {\n",
              "        vertical-align: middle;\n",
              "    }\n",
              "\n",
              "    .dataframe tbody tr th {\n",
              "        vertical-align: top;\n",
              "    }\n",
              "\n",
              "    .dataframe thead th {\n",
              "        text-align: right;\n",
              "    }\n",
              "</style>\n",
              "<table border=\"1\" class=\"dataframe\">\n",
              "  <thead>\n",
              "    <tr style=\"text-align: right;\">\n",
              "      <th></th>\n",
              "      <th>text</th>\n",
              "      <th>score</th>\n",
              "    </tr>\n",
              "  </thead>\n",
              "  <tbody>\n",
              "    <tr>\n",
              "      <th>0</th>\n",
              "      <td>[ ' must '    ' say '    ' bummed '    ' bough...</td>\n",
              "      <td>__class__0</td>\n",
              "    </tr>\n",
              "    <tr>\n",
              "      <th>1</th>\n",
              "      <td>[ ' we '    ' year '    ' old '    ' pug '    ...</td>\n",
              "      <td>__class__0</td>\n",
              "    </tr>\n",
              "    <tr>\n",
              "      <th>2</th>\n",
              "      <td>[ ' got '    ' drink '    ' expecting '    ' c...</td>\n",
              "      <td>__class__0</td>\n",
              "    </tr>\n",
              "    <tr>\n",
              "      <th>3</th>\n",
              "      <td>[ ' so '    ' soon '    ' delivery '    ' guy ...</td>\n",
              "      <td>__class__0</td>\n",
              "    </tr>\n",
              "    <tr>\n",
              "      <th>4</th>\n",
              "      <td>[ ' really '    ' like '    ' coffee '   i ' l...</td>\n",
              "      <td>__class__0</td>\n",
              "    </tr>\n",
              "    <tr>\n",
              "      <th>...</th>\n",
              "      <td>...</td>\n",
              "      <td>...</td>\n",
              "    </tr>\n",
              "    <tr>\n",
              "      <th>12310</th>\n",
              "      <td>[ ' really '    ' enjoy '    ' coffee '    ' u...</td>\n",
              "      <td>__class__2</td>\n",
              "    </tr>\n",
              "    <tr>\n",
              "      <th>12311</th>\n",
              "      <td>[ ' we '    ' always '    ' drink '   timmothy...</td>\n",
              "      <td>__class__2</td>\n",
              "    </tr>\n",
              "    <tr>\n",
              "      <th>12312</th>\n",
              "      <td>[ ' yummy '    ' mild '    ' delicious '    ' ...</td>\n",
              "      <td>__class__2</td>\n",
              "    </tr>\n",
              "    <tr>\n",
              "      <th>12313</th>\n",
              "      <td>[ ' my '    ' foster '    ' dog '    ' rex '  ...</td>\n",
              "      <td>__class__2</td>\n",
              "    </tr>\n",
              "    <tr>\n",
              "      <th>12314</th>\n",
              "      <td>[ ' out '    ' snacks '    ' ones '    ' daugh...</td>\n",
              "      <td>__class__2</td>\n",
              "    </tr>\n",
              "  </tbody>\n",
              "</table>\n",
              "<p>12315 rows × 2 columns</p>\n",
              "</div>\n",
              "      <button class=\"colab-df-convert\" onclick=\"convertToInteractive('df-5e27e610-8b01-4e69-8971-5e2b1dd6d37f')\"\n",
              "              title=\"Convert this dataframe to an interactive table.\"\n",
              "              style=\"display:none;\">\n",
              "        \n",
              "  <svg xmlns=\"http://www.w3.org/2000/svg\" height=\"24px\"viewBox=\"0 0 24 24\"\n",
              "       width=\"24px\">\n",
              "    <path d=\"M0 0h24v24H0V0z\" fill=\"none\"/>\n",
              "    <path d=\"M18.56 5.44l.94 2.06.94-2.06 2.06-.94-2.06-.94-.94-2.06-.94 2.06-2.06.94zm-11 1L8.5 8.5l.94-2.06 2.06-.94-2.06-.94L8.5 2.5l-.94 2.06-2.06.94zm10 10l.94 2.06.94-2.06 2.06-.94-2.06-.94-.94-2.06-.94 2.06-2.06.94z\"/><path d=\"M17.41 7.96l-1.37-1.37c-.4-.4-.92-.59-1.43-.59-.52 0-1.04.2-1.43.59L10.3 9.45l-7.72 7.72c-.78.78-.78 2.05 0 2.83L4 21.41c.39.39.9.59 1.41.59.51 0 1.02-.2 1.41-.59l7.78-7.78 2.81-2.81c.8-.78.8-2.07 0-2.86zM5.41 20L4 18.59l7.72-7.72 1.47 1.35L5.41 20z\"/>\n",
              "  </svg>\n",
              "      </button>\n",
              "      \n",
              "  <style>\n",
              "    .colab-df-container {\n",
              "      display:flex;\n",
              "      flex-wrap:wrap;\n",
              "      gap: 12px;\n",
              "    }\n",
              "\n",
              "    .colab-df-convert {\n",
              "      background-color: #E8F0FE;\n",
              "      border: none;\n",
              "      border-radius: 50%;\n",
              "      cursor: pointer;\n",
              "      display: none;\n",
              "      fill: #1967D2;\n",
              "      height: 32px;\n",
              "      padding: 0 0 0 0;\n",
              "      width: 32px;\n",
              "    }\n",
              "\n",
              "    .colab-df-convert:hover {\n",
              "      background-color: #E2EBFA;\n",
              "      box-shadow: 0px 1px 2px rgba(60, 64, 67, 0.3), 0px 1px 3px 1px rgba(60, 64, 67, 0.15);\n",
              "      fill: #174EA6;\n",
              "    }\n",
              "\n",
              "    [theme=dark] .colab-df-convert {\n",
              "      background-color: #3B4455;\n",
              "      fill: #D2E3FC;\n",
              "    }\n",
              "\n",
              "    [theme=dark] .colab-df-convert:hover {\n",
              "      background-color: #434B5C;\n",
              "      box-shadow: 0px 1px 3px 1px rgba(0, 0, 0, 0.15);\n",
              "      filter: drop-shadow(0px 1px 2px rgba(0, 0, 0, 0.3));\n",
              "      fill: #FFFFFF;\n",
              "    }\n",
              "  </style>\n",
              "\n",
              "      <script>\n",
              "        const buttonEl =\n",
              "          document.querySelector('#df-5e27e610-8b01-4e69-8971-5e2b1dd6d37f button.colab-df-convert');\n",
              "        buttonEl.style.display =\n",
              "          google.colab.kernel.accessAllowed ? 'block' : 'none';\n",
              "\n",
              "        async function convertToInteractive(key) {\n",
              "          const element = document.querySelector('#df-5e27e610-8b01-4e69-8971-5e2b1dd6d37f');\n",
              "          const dataTable =\n",
              "            await google.colab.kernel.invokeFunction('convertToInteractive',\n",
              "                                                     [key], {});\n",
              "          if (!dataTable) return;\n",
              "\n",
              "          const docLinkHtml = 'Like what you see? Visit the ' +\n",
              "            '<a target=\"_blank\" href=https://colab.research.google.com/notebooks/data_table.ipynb>data table notebook</a>'\n",
              "            + ' to learn more about interactive tables.';\n",
              "          element.innerHTML = '';\n",
              "          dataTable['output_type'] = 'display_data';\n",
              "          await google.colab.output.renderOutput(dataTable, element);\n",
              "          const docLink = document.createElement('div');\n",
              "          docLink.innerHTML = docLinkHtml;\n",
              "          element.appendChild(docLink);\n",
              "        }\n",
              "      </script>\n",
              "    </div>\n",
              "  </div>\n",
              "  "
            ]
          },
          "metadata": {},
          "execution_count": 59
        }
      ]
    },
    {
      "cell_type": "code",
      "source": [
        "df_test_cleaned = clean_df(test_df, True, True)\n",
        "df_test_cleaned"
      ],
      "metadata": {
        "colab": {
          "base_uri": "https://localhost:8080/",
          "height": 424
        },
        "id": "_MGBCGbPTe6S",
        "outputId": "9a7bf117-e1aa-4b47-819d-eaa431fe50cc"
      },
      "execution_count": 60,
      "outputs": [
        {
          "output_type": "execute_result",
          "data": {
            "text/plain": [
              "                                                    text        score\n",
              "5109   [ ' you '    ' exchange '    ' baking '    ' m...  __class__2 \n",
              "15653  [ ' absolutely '    ' wonderful '    ' coffee ...  __class__2 \n",
              "1390   [ ' we '    ' love '    ' use '    ' sugar '  ...  __class__2 \n",
              "24565  [ ' my '    ' dog '    ' lucy '    ' suffers '...  __class__2 \n",
              "4613   [ ' these '    ' ok '    ' like '    ' sweet '...  __class__2 \n",
              "...                                                  ...          ...\n",
              "24589  [ ' two '    ' spoiled '    ' finicky '    ' d...  __class__2 \n",
              "4069   [ ' find '    ' even '    ' gain '    ' maximu...  __class__0 \n",
              "4576   [i ' ve   ' read '    ' lots '    ' reviews ' ...  __class__0 \n",
              "28054  [ ' eat '    ' lot '    ' oatmeal '    ' grano...  __class__2 \n",
              "12329  [ ' bought '    ' many '    ' brands '    ' pe...  __class__1 \n",
              "\n",
              "[7016 rows x 2 columns]"
            ],
            "text/html": [
              "\n",
              "  <div id=\"df-aae392a7-7c50-450c-bc7a-9ae58f8f6ef2\">\n",
              "    <div class=\"colab-df-container\">\n",
              "      <div>\n",
              "<style scoped>\n",
              "    .dataframe tbody tr th:only-of-type {\n",
              "        vertical-align: middle;\n",
              "    }\n",
              "\n",
              "    .dataframe tbody tr th {\n",
              "        vertical-align: top;\n",
              "    }\n",
              "\n",
              "    .dataframe thead th {\n",
              "        text-align: right;\n",
              "    }\n",
              "</style>\n",
              "<table border=\"1\" class=\"dataframe\">\n",
              "  <thead>\n",
              "    <tr style=\"text-align: right;\">\n",
              "      <th></th>\n",
              "      <th>text</th>\n",
              "      <th>score</th>\n",
              "    </tr>\n",
              "  </thead>\n",
              "  <tbody>\n",
              "    <tr>\n",
              "      <th>5109</th>\n",
              "      <td>[ ' you '    ' exchange '    ' baking '    ' m...</td>\n",
              "      <td>__class__2</td>\n",
              "    </tr>\n",
              "    <tr>\n",
              "      <th>15653</th>\n",
              "      <td>[ ' absolutely '    ' wonderful '    ' coffee ...</td>\n",
              "      <td>__class__2</td>\n",
              "    </tr>\n",
              "    <tr>\n",
              "      <th>1390</th>\n",
              "      <td>[ ' we '    ' love '    ' use '    ' sugar '  ...</td>\n",
              "      <td>__class__2</td>\n",
              "    </tr>\n",
              "    <tr>\n",
              "      <th>24565</th>\n",
              "      <td>[ ' my '    ' dog '    ' lucy '    ' suffers '...</td>\n",
              "      <td>__class__2</td>\n",
              "    </tr>\n",
              "    <tr>\n",
              "      <th>4613</th>\n",
              "      <td>[ ' these '    ' ok '    ' like '    ' sweet '...</td>\n",
              "      <td>__class__2</td>\n",
              "    </tr>\n",
              "    <tr>\n",
              "      <th>...</th>\n",
              "      <td>...</td>\n",
              "      <td>...</td>\n",
              "    </tr>\n",
              "    <tr>\n",
              "      <th>24589</th>\n",
              "      <td>[ ' two '    ' spoiled '    ' finicky '    ' d...</td>\n",
              "      <td>__class__2</td>\n",
              "    </tr>\n",
              "    <tr>\n",
              "      <th>4069</th>\n",
              "      <td>[ ' find '    ' even '    ' gain '    ' maximu...</td>\n",
              "      <td>__class__0</td>\n",
              "    </tr>\n",
              "    <tr>\n",
              "      <th>4576</th>\n",
              "      <td>[i ' ve   ' read '    ' lots '    ' reviews ' ...</td>\n",
              "      <td>__class__0</td>\n",
              "    </tr>\n",
              "    <tr>\n",
              "      <th>28054</th>\n",
              "      <td>[ ' eat '    ' lot '    ' oatmeal '    ' grano...</td>\n",
              "      <td>__class__2</td>\n",
              "    </tr>\n",
              "    <tr>\n",
              "      <th>12329</th>\n",
              "      <td>[ ' bought '    ' many '    ' brands '    ' pe...</td>\n",
              "      <td>__class__1</td>\n",
              "    </tr>\n",
              "  </tbody>\n",
              "</table>\n",
              "<p>7016 rows × 2 columns</p>\n",
              "</div>\n",
              "      <button class=\"colab-df-convert\" onclick=\"convertToInteractive('df-aae392a7-7c50-450c-bc7a-9ae58f8f6ef2')\"\n",
              "              title=\"Convert this dataframe to an interactive table.\"\n",
              "              style=\"display:none;\">\n",
              "        \n",
              "  <svg xmlns=\"http://www.w3.org/2000/svg\" height=\"24px\"viewBox=\"0 0 24 24\"\n",
              "       width=\"24px\">\n",
              "    <path d=\"M0 0h24v24H0V0z\" fill=\"none\"/>\n",
              "    <path d=\"M18.56 5.44l.94 2.06.94-2.06 2.06-.94-2.06-.94-.94-2.06-.94 2.06-2.06.94zm-11 1L8.5 8.5l.94-2.06 2.06-.94-2.06-.94L8.5 2.5l-.94 2.06-2.06.94zm10 10l.94 2.06.94-2.06 2.06-.94-2.06-.94-.94-2.06-.94 2.06-2.06.94z\"/><path d=\"M17.41 7.96l-1.37-1.37c-.4-.4-.92-.59-1.43-.59-.52 0-1.04.2-1.43.59L10.3 9.45l-7.72 7.72c-.78.78-.78 2.05 0 2.83L4 21.41c.39.39.9.59 1.41.59.51 0 1.02-.2 1.41-.59l7.78-7.78 2.81-2.81c.8-.78.8-2.07 0-2.86zM5.41 20L4 18.59l7.72-7.72 1.47 1.35L5.41 20z\"/>\n",
              "  </svg>\n",
              "      </button>\n",
              "      \n",
              "  <style>\n",
              "    .colab-df-container {\n",
              "      display:flex;\n",
              "      flex-wrap:wrap;\n",
              "      gap: 12px;\n",
              "    }\n",
              "\n",
              "    .colab-df-convert {\n",
              "      background-color: #E8F0FE;\n",
              "      border: none;\n",
              "      border-radius: 50%;\n",
              "      cursor: pointer;\n",
              "      display: none;\n",
              "      fill: #1967D2;\n",
              "      height: 32px;\n",
              "      padding: 0 0 0 0;\n",
              "      width: 32px;\n",
              "    }\n",
              "\n",
              "    .colab-df-convert:hover {\n",
              "      background-color: #E2EBFA;\n",
              "      box-shadow: 0px 1px 2px rgba(60, 64, 67, 0.3), 0px 1px 3px 1px rgba(60, 64, 67, 0.15);\n",
              "      fill: #174EA6;\n",
              "    }\n",
              "\n",
              "    [theme=dark] .colab-df-convert {\n",
              "      background-color: #3B4455;\n",
              "      fill: #D2E3FC;\n",
              "    }\n",
              "\n",
              "    [theme=dark] .colab-df-convert:hover {\n",
              "      background-color: #434B5C;\n",
              "      box-shadow: 0px 1px 3px 1px rgba(0, 0, 0, 0.15);\n",
              "      filter: drop-shadow(0px 1px 2px rgba(0, 0, 0, 0.3));\n",
              "      fill: #FFFFFF;\n",
              "    }\n",
              "  </style>\n",
              "\n",
              "      <script>\n",
              "        const buttonEl =\n",
              "          document.querySelector('#df-aae392a7-7c50-450c-bc7a-9ae58f8f6ef2 button.colab-df-convert');\n",
              "        buttonEl.style.display =\n",
              "          google.colab.kernel.accessAllowed ? 'block' : 'none';\n",
              "\n",
              "        async function convertToInteractive(key) {\n",
              "          const element = document.querySelector('#df-aae392a7-7c50-450c-bc7a-9ae58f8f6ef2');\n",
              "          const dataTable =\n",
              "            await google.colab.kernel.invokeFunction('convertToInteractive',\n",
              "                                                     [key], {});\n",
              "          if (!dataTable) return;\n",
              "\n",
              "          const docLinkHtml = 'Like what you see? Visit the ' +\n",
              "            '<a target=\"_blank\" href=https://colab.research.google.com/notebooks/data_table.ipynb>data table notebook</a>'\n",
              "            + ' to learn more about interactive tables.';\n",
              "          element.innerHTML = '';\n",
              "          dataTable['output_type'] = 'display_data';\n",
              "          await google.colab.output.renderOutput(dataTable, element);\n",
              "          const docLink = document.createElement('div');\n",
              "          docLink.innerHTML = docLinkHtml;\n",
              "          element.appendChild(docLink);\n",
              "        }\n",
              "      </script>\n",
              "    </div>\n",
              "  </div>\n",
              "  "
            ]
          },
          "metadata": {},
          "execution_count": 60
        }
      ]
    },
    {
      "cell_type": "code",
      "source": [
        "# Write files to disk as fastText classifier API reads files from disk.\n",
        "train_file = PATH_PROJ + '/fasttext_train.csv'\n",
        "df_train_cleaned.to_csv(train_file, header=None, index=False, columns=['score','text'] )\n",
        "\n",
        "test_file = PATH_PROJ + '/fasttext_test.csv'\n",
        "df_test_cleaned.to_csv(test_file, header=None, index=False, columns=['score','text'])"
      ],
      "metadata": {
        "id": "q6983g0xUjrp"
      },
      "execution_count": 61,
      "outputs": []
    },
    {
      "cell_type": "markdown",
      "source": [
        "Now that we have the train and test files written into disk in a format fastText wants, we are ready to use it for text classification!"
      ],
      "metadata": {
        "id": "dPUV0l7CU0n_"
      }
    },
    {
      "cell_type": "code",
      "source": [
        "%%time\n",
        "## Using fastText for feature extraction and training\n",
        "from fasttext import train_supervised \n",
        "\"\"\"fastText expects and training file (csv), a model name as input arguments.\n",
        "label_prefix refers to the prefix before label string in the dataset.\n",
        "default is __label__. In our dataset, it is __class__. \n",
        "There are several other parameters which can be seen in: \n",
        "https://pypi.org/project/fasttext/\n",
        "\"\"\"\n",
        "\n",
        "model = train_supervised(input=train_file, label=\"__class__\", lr=1.0, epoch=75, loss='ova', wordNgrams=2, dim=200, thread=2, verbose=100)"
      ],
      "metadata": {
        "colab": {
          "base_uri": "https://localhost:8080/"
        },
        "id": "91pA8NlwUpsJ",
        "outputId": "3763305a-7498-4a67-8fdd-d56d61852f3e"
      },
      "execution_count": 62,
      "outputs": [
        {
          "output_type": "stream",
          "name": "stdout",
          "text": [
            "CPU times: user 3min 10s, sys: 2.73 s, total: 3min 13s\n",
            "Wall time: 2min 35s\n"
          ]
        }
      ]
    },
    {
      "cell_type": "code",
      "source": [
        "def f1_score_compute(precision, recall):\n",
        "  return 2 * (precision * recall) / (precision + recall)\n",
        "\n",
        "# Precision = True Positive / (True Positive + False Positive) \n",
        "# Recall = True Positive / (True Positive + False Negative) \n",
        "# F1 Score = 2 * (Precision * Recall) / (Precision + Recall)\n",
        "\n",
        "results = model.test(test_file,k=1) # you should specify k parameter to get the top-k predicted classes. DOC: https://fasttext.cc/docs/en/supervised-tutorial.html#advanced-readers-precision-and-recall\n",
        "recall = results[2]*100\n",
        "precision = results[1]*100\n",
        "f1 = f1_score_compute(precision, recall)\n",
        "print(f\"Test Samples: {results[0]} Precision@{k} : {results[1]*100:2.4f} Recall@{k} : {results[2]*100:2.4f}  --- F1_score@{k}: {f1}\")"
      ],
      "metadata": {
        "colab": {
          "base_uri": "https://localhost:8080/"
        },
        "id": "LN9JK9-SU-to",
        "outputId": "6e87852e-d08a-4c1a-dd02-7260f7a735e1"
      },
      "execution_count": 64,
      "outputs": [
        {
          "output_type": "stream",
          "name": "stdout",
          "text": [
            "Test Samples: 7016 Precision@5 : 68.5861 Recall@5 : 68.5861  --- F1_score@5: 68.58608893956671\n"
          ]
        }
      ]
    },
    {
      "cell_type": "code",
      "source": [],
      "metadata": {
        "id": "KkmHrsqWaRwU"
      },
      "execution_count": 63,
      "outputs": []
    }
  ],
  "metadata": {
    "colab": {
      "toc_visible": true,
      "provenance": [],
      "authorship_tag": "ABX9TyOUuKY0xoaOReVSAE72R579",
      "include_colab_link": true
    },
    "kernelspec": {
      "display_name": "Python 3",
      "name": "python3"
    },
    "language_info": {
      "name": "python"
    }
  },
  "nbformat": 4,
  "nbformat_minor": 0
}