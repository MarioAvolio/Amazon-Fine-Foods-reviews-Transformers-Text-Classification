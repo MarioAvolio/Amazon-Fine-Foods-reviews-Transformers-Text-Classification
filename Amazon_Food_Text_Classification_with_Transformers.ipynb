{
  "cells": [
    {
      "cell_type": "markdown",
      "metadata": {
        "id": "view-in-github",
        "colab_type": "text"
      },
      "source": [
        "<a href=\"https://colab.research.google.com/github/MarioAvolio/proj-data-an/blob/main/Amazon_Food_Text_Classification_with_Transformers.ipynb\" target=\"_parent\"><img src=\"https://colab.research.google.com/assets/colab-badge.svg\" alt=\"Open In Colab\"/></a>"
      ]
    },
    {
      "cell_type": "markdown",
      "metadata": {
        "id": "kQ9HQ_azu2sh"
      },
      "source": [
        "# *So, in the spirit of Optimus Prime, let’s dive in, \"transform, and roll out!\"* 🤖\n",
        "\n",
        "**Mario Avolio: 880995 - https://marioavolio.netlify.app/**\n",
        "\n",
        "Credits: \n",
        "- https://www.oreilly.com/library/view/natural-language-processing/9781098136789/\n",
        "\n",
        "\n"
      ]
    },
    {
      "cell_type": "markdown",
      "metadata": {
        "id": "pTouuWPhgtdr"
      },
      "source": [
        "# Data"
      ]
    },
    {
      "cell_type": "code",
      "execution_count": 1,
      "metadata": {
        "id": "GsRizD7zFJ3V"
      },
      "outputs": [],
      "source": [
        "import pandas as pd\n",
        "import os\n",
        "import matplotlib.pyplot as plt # plotting\n",
        "import numpy as np"
      ]
    },
    {
      "cell_type": "code",
      "execution_count": 2,
      "metadata": {
        "colab": {
          "base_uri": "https://localhost:8080/"
        },
        "id": "fJ6-kXG-0p7V",
        "outputId": "2341db21-772b-4ddc-f578-717f6d31e5f1"
      },
      "outputs": [
        {
          "output_type": "stream",
          "name": "stdout",
          "text": [
            "Mounted at /content/drive\n"
          ]
        }
      ],
      "source": [
        "from google.colab import drive\n",
        "drive.mount('/content/drive', force_remount=True)"
      ]
    },
    {
      "cell_type": "code",
      "execution_count": 3,
      "metadata": {
        "id": "_hhFPP6_GZvC"
      },
      "outputs": [],
      "source": [
        "PATH_PROJ = \"/content/drive/MyDrive/data-proj/\"\n",
        "# if not os.path.exists(PATH_PROJ):\n",
        "#   PATH_PROJ = \"/content/drive/MyDrive/shared/data-proj/\"\n",
        "\n",
        "PATH_PREPROCESSED_DATASET = PATH_PROJ+\"preprocessed.csv\""
      ]
    },
    {
      "cell_type": "code",
      "execution_count": 4,
      "metadata": {
        "colab": {
          "base_uri": "https://localhost:8080/",
          "height": 424
        },
        "id": "IJar8wRnGxx5",
        "outputId": "6ec507b0-4ce5-4e52-c882-0e1fb1316210"
      },
      "outputs": [
        {
          "output_type": "execute_result",
          "data": {
            "text/plain": [
              "                                                   text  score\n",
              "0     My puppy loves them. She burns through them li...    4.0\n",
              "1     This particular brand and type of food was rec...    5.0\n",
              "2     I got this in my Christmas stocking from my st...    5.0\n",
              "3     Item arrived promptly but was not as described...    1.0\n",
              "4     This is the perfect gift with a southwestern f...    5.0\n",
              "...                                                 ...    ...\n",
              "7029  There aren't a lot of grab and go types of foo...    4.0\n",
              "7030  The nose evokes the earthiness of white truffl...    1.0\n",
              "7031  I like these bars because they are all natural...    5.0\n",
              "7032  Seriously, get this marinade for all yer pork ...    5.0\n",
              "7033  I have made potato bread before with great res...    1.0\n",
              "\n",
              "[7034 rows x 2 columns]"
            ],
            "text/html": [
              "\n",
              "  <div id=\"df-3894c4bf-4229-41f9-a739-3ca054e76801\">\n",
              "    <div class=\"colab-df-container\">\n",
              "      <div>\n",
              "<style scoped>\n",
              "    .dataframe tbody tr th:only-of-type {\n",
              "        vertical-align: middle;\n",
              "    }\n",
              "\n",
              "    .dataframe tbody tr th {\n",
              "        vertical-align: top;\n",
              "    }\n",
              "\n",
              "    .dataframe thead th {\n",
              "        text-align: right;\n",
              "    }\n",
              "</style>\n",
              "<table border=\"1\" class=\"dataframe\">\n",
              "  <thead>\n",
              "    <tr style=\"text-align: right;\">\n",
              "      <th></th>\n",
              "      <th>text</th>\n",
              "      <th>score</th>\n",
              "    </tr>\n",
              "  </thead>\n",
              "  <tbody>\n",
              "    <tr>\n",
              "      <th>0</th>\n",
              "      <td>My puppy loves them. She burns through them li...</td>\n",
              "      <td>4.0</td>\n",
              "    </tr>\n",
              "    <tr>\n",
              "      <th>1</th>\n",
              "      <td>This particular brand and type of food was rec...</td>\n",
              "      <td>5.0</td>\n",
              "    </tr>\n",
              "    <tr>\n",
              "      <th>2</th>\n",
              "      <td>I got this in my Christmas stocking from my st...</td>\n",
              "      <td>5.0</td>\n",
              "    </tr>\n",
              "    <tr>\n",
              "      <th>3</th>\n",
              "      <td>Item arrived promptly but was not as described...</td>\n",
              "      <td>1.0</td>\n",
              "    </tr>\n",
              "    <tr>\n",
              "      <th>4</th>\n",
              "      <td>This is the perfect gift with a southwestern f...</td>\n",
              "      <td>5.0</td>\n",
              "    </tr>\n",
              "    <tr>\n",
              "      <th>...</th>\n",
              "      <td>...</td>\n",
              "      <td>...</td>\n",
              "    </tr>\n",
              "    <tr>\n",
              "      <th>7029</th>\n",
              "      <td>There aren't a lot of grab and go types of foo...</td>\n",
              "      <td>4.0</td>\n",
              "    </tr>\n",
              "    <tr>\n",
              "      <th>7030</th>\n",
              "      <td>The nose evokes the earthiness of white truffl...</td>\n",
              "      <td>1.0</td>\n",
              "    </tr>\n",
              "    <tr>\n",
              "      <th>7031</th>\n",
              "      <td>I like these bars because they are all natural...</td>\n",
              "      <td>5.0</td>\n",
              "    </tr>\n",
              "    <tr>\n",
              "      <th>7032</th>\n",
              "      <td>Seriously, get this marinade for all yer pork ...</td>\n",
              "      <td>5.0</td>\n",
              "    </tr>\n",
              "    <tr>\n",
              "      <th>7033</th>\n",
              "      <td>I have made potato bread before with great res...</td>\n",
              "      <td>1.0</td>\n",
              "    </tr>\n",
              "  </tbody>\n",
              "</table>\n",
              "<p>7034 rows × 2 columns</p>\n",
              "</div>\n",
              "      <button class=\"colab-df-convert\" onclick=\"convertToInteractive('df-3894c4bf-4229-41f9-a739-3ca054e76801')\"\n",
              "              title=\"Convert this dataframe to an interactive table.\"\n",
              "              style=\"display:none;\">\n",
              "        \n",
              "  <svg xmlns=\"http://www.w3.org/2000/svg\" height=\"24px\"viewBox=\"0 0 24 24\"\n",
              "       width=\"24px\">\n",
              "    <path d=\"M0 0h24v24H0V0z\" fill=\"none\"/>\n",
              "    <path d=\"M18.56 5.44l.94 2.06.94-2.06 2.06-.94-2.06-.94-.94-2.06-.94 2.06-2.06.94zm-11 1L8.5 8.5l.94-2.06 2.06-.94-2.06-.94L8.5 2.5l-.94 2.06-2.06.94zm10 10l.94 2.06.94-2.06 2.06-.94-2.06-.94-.94-2.06-.94 2.06-2.06.94z\"/><path d=\"M17.41 7.96l-1.37-1.37c-.4-.4-.92-.59-1.43-.59-.52 0-1.04.2-1.43.59L10.3 9.45l-7.72 7.72c-.78.78-.78 2.05 0 2.83L4 21.41c.39.39.9.59 1.41.59.51 0 1.02-.2 1.41-.59l7.78-7.78 2.81-2.81c.8-.78.8-2.07 0-2.86zM5.41 20L4 18.59l7.72-7.72 1.47 1.35L5.41 20z\"/>\n",
              "  </svg>\n",
              "      </button>\n",
              "      \n",
              "  <style>\n",
              "    .colab-df-container {\n",
              "      display:flex;\n",
              "      flex-wrap:wrap;\n",
              "      gap: 12px;\n",
              "    }\n",
              "\n",
              "    .colab-df-convert {\n",
              "      background-color: #E8F0FE;\n",
              "      border: none;\n",
              "      border-radius: 50%;\n",
              "      cursor: pointer;\n",
              "      display: none;\n",
              "      fill: #1967D2;\n",
              "      height: 32px;\n",
              "      padding: 0 0 0 0;\n",
              "      width: 32px;\n",
              "    }\n",
              "\n",
              "    .colab-df-convert:hover {\n",
              "      background-color: #E2EBFA;\n",
              "      box-shadow: 0px 1px 2px rgba(60, 64, 67, 0.3), 0px 1px 3px 1px rgba(60, 64, 67, 0.15);\n",
              "      fill: #174EA6;\n",
              "    }\n",
              "\n",
              "    [theme=dark] .colab-df-convert {\n",
              "      background-color: #3B4455;\n",
              "      fill: #D2E3FC;\n",
              "    }\n",
              "\n",
              "    [theme=dark] .colab-df-convert:hover {\n",
              "      background-color: #434B5C;\n",
              "      box-shadow: 0px 1px 3px 1px rgba(0, 0, 0, 0.15);\n",
              "      filter: drop-shadow(0px 1px 2px rgba(0, 0, 0, 0.3));\n",
              "      fill: #FFFFFF;\n",
              "    }\n",
              "  </style>\n",
              "\n",
              "      <script>\n",
              "        const buttonEl =\n",
              "          document.querySelector('#df-3894c4bf-4229-41f9-a739-3ca054e76801 button.colab-df-convert');\n",
              "        buttonEl.style.display =\n",
              "          google.colab.kernel.accessAllowed ? 'block' : 'none';\n",
              "\n",
              "        async function convertToInteractive(key) {\n",
              "          const element = document.querySelector('#df-3894c4bf-4229-41f9-a739-3ca054e76801');\n",
              "          const dataTable =\n",
              "            await google.colab.kernel.invokeFunction('convertToInteractive',\n",
              "                                                     [key], {});\n",
              "          if (!dataTable) return;\n",
              "\n",
              "          const docLinkHtml = 'Like what you see? Visit the ' +\n",
              "            '<a target=\"_blank\" href=https://colab.research.google.com/notebooks/data_table.ipynb>data table notebook</a>'\n",
              "            + ' to learn more about interactive tables.';\n",
              "          element.innerHTML = '';\n",
              "          dataTable['output_type'] = 'display_data';\n",
              "          await google.colab.output.renderOutput(dataTable, element);\n",
              "          const docLink = document.createElement('div');\n",
              "          docLink.innerHTML = docLinkHtml;\n",
              "          element.appendChild(docLink);\n",
              "        }\n",
              "      </script>\n",
              "    </div>\n",
              "  </div>\n",
              "  "
            ]
          },
          "metadata": {},
          "execution_count": 4
        }
      ],
      "source": [
        "df = pd.read_csv(PATH_PREPROCESSED_DATASET).sample(frac=0.2).reset_index(drop=True) # sampling a fraction of 20% to speed process\n",
        "df"
      ]
    },
    {
      "cell_type": "markdown",
      "metadata": {
        "id": "PVTkildyp3dh"
      },
      "source": [
        "## Split"
      ]
    },
    {
      "cell_type": "code",
      "execution_count": 5,
      "metadata": {
        "id": "wOmys3Rog18v"
      },
      "outputs": [],
      "source": [
        "from sklearn.model_selection import train_test_split\n",
        "\n",
        "train, test = train_test_split(df, test_size=0.2)"
      ]
    },
    {
      "cell_type": "code",
      "execution_count": 6,
      "metadata": {
        "id": "FD-z1MCXhErl"
      },
      "outputs": [],
      "source": [
        "train, validation = train_test_split(train, test_size=0.2)"
      ]
    },
    {
      "cell_type": "code",
      "execution_count": 7,
      "metadata": {
        "colab": {
          "base_uri": "https://localhost:8080/",
          "height": 424
        },
        "id": "q0lavmB6hF4z",
        "outputId": "9817ef69-7941-43a6-8c8f-83eb72b76ed7"
      },
      "outputs": [
        {
          "output_type": "execute_result",
          "data": {
            "text/plain": [
              "                                                   text  score\n",
              "0     I agree with many of these reviews.  The produ...    3.0\n",
              "1     I love light crispy salty snacks, and Soy Cris...    5.0\n",
              "2     Newman's Own Organics - New Zealand Ranch Styl...    5.0\n",
              "3     This is an excellent tea - subtle pear taste i...    5.0\n",
              "4     as i expected its a great taste and healthy an...    5.0\n",
              "...                                                 ...    ...\n",
              "4496  I first encountered this product at COSTCO.  W...    5.0\n",
              "4497  When I first got these, all 4 of my cats FREAK...    3.0\n",
              "4498  My husband and I took a vacation to Costa Rica...    5.0\n",
              "4499  In the past I was able to make so many differe...    1.0\n",
              "4500  I really enjoy Wolfgang Puck's K-Cups, so far ...    5.0\n",
              "\n",
              "[4501 rows x 2 columns]"
            ],
            "text/html": [
              "\n",
              "  <div id=\"df-c7816881-9c61-45ea-b92f-6f0e3777ad87\">\n",
              "    <div class=\"colab-df-container\">\n",
              "      <div>\n",
              "<style scoped>\n",
              "    .dataframe tbody tr th:only-of-type {\n",
              "        vertical-align: middle;\n",
              "    }\n",
              "\n",
              "    .dataframe tbody tr th {\n",
              "        vertical-align: top;\n",
              "    }\n",
              "\n",
              "    .dataframe thead th {\n",
              "        text-align: right;\n",
              "    }\n",
              "</style>\n",
              "<table border=\"1\" class=\"dataframe\">\n",
              "  <thead>\n",
              "    <tr style=\"text-align: right;\">\n",
              "      <th></th>\n",
              "      <th>text</th>\n",
              "      <th>score</th>\n",
              "    </tr>\n",
              "  </thead>\n",
              "  <tbody>\n",
              "    <tr>\n",
              "      <th>0</th>\n",
              "      <td>I agree with many of these reviews.  The produ...</td>\n",
              "      <td>3.0</td>\n",
              "    </tr>\n",
              "    <tr>\n",
              "      <th>1</th>\n",
              "      <td>I love light crispy salty snacks, and Soy Cris...</td>\n",
              "      <td>5.0</td>\n",
              "    </tr>\n",
              "    <tr>\n",
              "      <th>2</th>\n",
              "      <td>Newman's Own Organics - New Zealand Ranch Styl...</td>\n",
              "      <td>5.0</td>\n",
              "    </tr>\n",
              "    <tr>\n",
              "      <th>3</th>\n",
              "      <td>This is an excellent tea - subtle pear taste i...</td>\n",
              "      <td>5.0</td>\n",
              "    </tr>\n",
              "    <tr>\n",
              "      <th>4</th>\n",
              "      <td>as i expected its a great taste and healthy an...</td>\n",
              "      <td>5.0</td>\n",
              "    </tr>\n",
              "    <tr>\n",
              "      <th>...</th>\n",
              "      <td>...</td>\n",
              "      <td>...</td>\n",
              "    </tr>\n",
              "    <tr>\n",
              "      <th>4496</th>\n",
              "      <td>I first encountered this product at COSTCO.  W...</td>\n",
              "      <td>5.0</td>\n",
              "    </tr>\n",
              "    <tr>\n",
              "      <th>4497</th>\n",
              "      <td>When I first got these, all 4 of my cats FREAK...</td>\n",
              "      <td>3.0</td>\n",
              "    </tr>\n",
              "    <tr>\n",
              "      <th>4498</th>\n",
              "      <td>My husband and I took a vacation to Costa Rica...</td>\n",
              "      <td>5.0</td>\n",
              "    </tr>\n",
              "    <tr>\n",
              "      <th>4499</th>\n",
              "      <td>In the past I was able to make so many differe...</td>\n",
              "      <td>1.0</td>\n",
              "    </tr>\n",
              "    <tr>\n",
              "      <th>4500</th>\n",
              "      <td>I really enjoy Wolfgang Puck's K-Cups, so far ...</td>\n",
              "      <td>5.0</td>\n",
              "    </tr>\n",
              "  </tbody>\n",
              "</table>\n",
              "<p>4501 rows × 2 columns</p>\n",
              "</div>\n",
              "      <button class=\"colab-df-convert\" onclick=\"convertToInteractive('df-c7816881-9c61-45ea-b92f-6f0e3777ad87')\"\n",
              "              title=\"Convert this dataframe to an interactive table.\"\n",
              "              style=\"display:none;\">\n",
              "        \n",
              "  <svg xmlns=\"http://www.w3.org/2000/svg\" height=\"24px\"viewBox=\"0 0 24 24\"\n",
              "       width=\"24px\">\n",
              "    <path d=\"M0 0h24v24H0V0z\" fill=\"none\"/>\n",
              "    <path d=\"M18.56 5.44l.94 2.06.94-2.06 2.06-.94-2.06-.94-.94-2.06-.94 2.06-2.06.94zm-11 1L8.5 8.5l.94-2.06 2.06-.94-2.06-.94L8.5 2.5l-.94 2.06-2.06.94zm10 10l.94 2.06.94-2.06 2.06-.94-2.06-.94-.94-2.06-.94 2.06-2.06.94z\"/><path d=\"M17.41 7.96l-1.37-1.37c-.4-.4-.92-.59-1.43-.59-.52 0-1.04.2-1.43.59L10.3 9.45l-7.72 7.72c-.78.78-.78 2.05 0 2.83L4 21.41c.39.39.9.59 1.41.59.51 0 1.02-.2 1.41-.59l7.78-7.78 2.81-2.81c.8-.78.8-2.07 0-2.86zM5.41 20L4 18.59l7.72-7.72 1.47 1.35L5.41 20z\"/>\n",
              "  </svg>\n",
              "      </button>\n",
              "      \n",
              "  <style>\n",
              "    .colab-df-container {\n",
              "      display:flex;\n",
              "      flex-wrap:wrap;\n",
              "      gap: 12px;\n",
              "    }\n",
              "\n",
              "    .colab-df-convert {\n",
              "      background-color: #E8F0FE;\n",
              "      border: none;\n",
              "      border-radius: 50%;\n",
              "      cursor: pointer;\n",
              "      display: none;\n",
              "      fill: #1967D2;\n",
              "      height: 32px;\n",
              "      padding: 0 0 0 0;\n",
              "      width: 32px;\n",
              "    }\n",
              "\n",
              "    .colab-df-convert:hover {\n",
              "      background-color: #E2EBFA;\n",
              "      box-shadow: 0px 1px 2px rgba(60, 64, 67, 0.3), 0px 1px 3px 1px rgba(60, 64, 67, 0.15);\n",
              "      fill: #174EA6;\n",
              "    }\n",
              "\n",
              "    [theme=dark] .colab-df-convert {\n",
              "      background-color: #3B4455;\n",
              "      fill: #D2E3FC;\n",
              "    }\n",
              "\n",
              "    [theme=dark] .colab-df-convert:hover {\n",
              "      background-color: #434B5C;\n",
              "      box-shadow: 0px 1px 3px 1px rgba(0, 0, 0, 0.15);\n",
              "      filter: drop-shadow(0px 1px 2px rgba(0, 0, 0, 0.3));\n",
              "      fill: #FFFFFF;\n",
              "    }\n",
              "  </style>\n",
              "\n",
              "      <script>\n",
              "        const buttonEl =\n",
              "          document.querySelector('#df-c7816881-9c61-45ea-b92f-6f0e3777ad87 button.colab-df-convert');\n",
              "        buttonEl.style.display =\n",
              "          google.colab.kernel.accessAllowed ? 'block' : 'none';\n",
              "\n",
              "        async function convertToInteractive(key) {\n",
              "          const element = document.querySelector('#df-c7816881-9c61-45ea-b92f-6f0e3777ad87');\n",
              "          const dataTable =\n",
              "            await google.colab.kernel.invokeFunction('convertToInteractive',\n",
              "                                                     [key], {});\n",
              "          if (!dataTable) return;\n",
              "\n",
              "          const docLinkHtml = 'Like what you see? Visit the ' +\n",
              "            '<a target=\"_blank\" href=https://colab.research.google.com/notebooks/data_table.ipynb>data table notebook</a>'\n",
              "            + ' to learn more about interactive tables.';\n",
              "          element.innerHTML = '';\n",
              "          dataTable['output_type'] = 'display_data';\n",
              "          await google.colab.output.renderOutput(dataTable, element);\n",
              "          const docLink = document.createElement('div');\n",
              "          docLink.innerHTML = docLinkHtml;\n",
              "          element.appendChild(docLink);\n",
              "        }\n",
              "      </script>\n",
              "    </div>\n",
              "  </div>\n",
              "  "
            ]
          },
          "metadata": {},
          "execution_count": 7
        }
      ],
      "source": [
        "train = train.reset_index(drop=True)\n",
        "train"
      ]
    },
    {
      "cell_type": "code",
      "execution_count": 8,
      "metadata": {
        "colab": {
          "base_uri": "https://localhost:8080/",
          "height": 424
        },
        "id": "002aOKelhMl3",
        "outputId": "e5eba28e-feeb-4480-ef8d-6c86610fe71c"
      },
      "outputs": [
        {
          "output_type": "execute_result",
          "data": {
            "text/plain": [
              "                                                   text  score\n",
              "0     i have tried many brands of the hot chocolates...    5.0\n",
              "1     I was surprised at how well the rinds \"popped,...    4.0\n",
              "2     Greenies are a great product that dogs love an...    5.0\n",
              "3     I had to give up real coffee a few years ago b...    4.0\n",
              "4     i know the new version is supposed to be bette...    1.0\n",
              "...                                                 ...    ...\n",
              "1121  I have been searching for a natural lemonade d...    2.0\n",
              "1122  or really my dog loves them.  When I have a bu...    5.0\n",
              "1123  The AmeriColor AmeriMist Edible Paint and Airb...    5.0\n",
              "1124  Tried this for the first time this week and it...    5.0\n",
              "1125  This tastes great. At first it tastes a bit st...    5.0\n",
              "\n",
              "[1126 rows x 2 columns]"
            ],
            "text/html": [
              "\n",
              "  <div id=\"df-a7804d91-d298-4741-9160-11f66e8e2460\">\n",
              "    <div class=\"colab-df-container\">\n",
              "      <div>\n",
              "<style scoped>\n",
              "    .dataframe tbody tr th:only-of-type {\n",
              "        vertical-align: middle;\n",
              "    }\n",
              "\n",
              "    .dataframe tbody tr th {\n",
              "        vertical-align: top;\n",
              "    }\n",
              "\n",
              "    .dataframe thead th {\n",
              "        text-align: right;\n",
              "    }\n",
              "</style>\n",
              "<table border=\"1\" class=\"dataframe\">\n",
              "  <thead>\n",
              "    <tr style=\"text-align: right;\">\n",
              "      <th></th>\n",
              "      <th>text</th>\n",
              "      <th>score</th>\n",
              "    </tr>\n",
              "  </thead>\n",
              "  <tbody>\n",
              "    <tr>\n",
              "      <th>0</th>\n",
              "      <td>i have tried many brands of the hot chocolates...</td>\n",
              "      <td>5.0</td>\n",
              "    </tr>\n",
              "    <tr>\n",
              "      <th>1</th>\n",
              "      <td>I was surprised at how well the rinds \"popped,...</td>\n",
              "      <td>4.0</td>\n",
              "    </tr>\n",
              "    <tr>\n",
              "      <th>2</th>\n",
              "      <td>Greenies are a great product that dogs love an...</td>\n",
              "      <td>5.0</td>\n",
              "    </tr>\n",
              "    <tr>\n",
              "      <th>3</th>\n",
              "      <td>I had to give up real coffee a few years ago b...</td>\n",
              "      <td>4.0</td>\n",
              "    </tr>\n",
              "    <tr>\n",
              "      <th>4</th>\n",
              "      <td>i know the new version is supposed to be bette...</td>\n",
              "      <td>1.0</td>\n",
              "    </tr>\n",
              "    <tr>\n",
              "      <th>...</th>\n",
              "      <td>...</td>\n",
              "      <td>...</td>\n",
              "    </tr>\n",
              "    <tr>\n",
              "      <th>1121</th>\n",
              "      <td>I have been searching for a natural lemonade d...</td>\n",
              "      <td>2.0</td>\n",
              "    </tr>\n",
              "    <tr>\n",
              "      <th>1122</th>\n",
              "      <td>or really my dog loves them.  When I have a bu...</td>\n",
              "      <td>5.0</td>\n",
              "    </tr>\n",
              "    <tr>\n",
              "      <th>1123</th>\n",
              "      <td>The AmeriColor AmeriMist Edible Paint and Airb...</td>\n",
              "      <td>5.0</td>\n",
              "    </tr>\n",
              "    <tr>\n",
              "      <th>1124</th>\n",
              "      <td>Tried this for the first time this week and it...</td>\n",
              "      <td>5.0</td>\n",
              "    </tr>\n",
              "    <tr>\n",
              "      <th>1125</th>\n",
              "      <td>This tastes great. At first it tastes a bit st...</td>\n",
              "      <td>5.0</td>\n",
              "    </tr>\n",
              "  </tbody>\n",
              "</table>\n",
              "<p>1126 rows × 2 columns</p>\n",
              "</div>\n",
              "      <button class=\"colab-df-convert\" onclick=\"convertToInteractive('df-a7804d91-d298-4741-9160-11f66e8e2460')\"\n",
              "              title=\"Convert this dataframe to an interactive table.\"\n",
              "              style=\"display:none;\">\n",
              "        \n",
              "  <svg xmlns=\"http://www.w3.org/2000/svg\" height=\"24px\"viewBox=\"0 0 24 24\"\n",
              "       width=\"24px\">\n",
              "    <path d=\"M0 0h24v24H0V0z\" fill=\"none\"/>\n",
              "    <path d=\"M18.56 5.44l.94 2.06.94-2.06 2.06-.94-2.06-.94-.94-2.06-.94 2.06-2.06.94zm-11 1L8.5 8.5l.94-2.06 2.06-.94-2.06-.94L8.5 2.5l-.94 2.06-2.06.94zm10 10l.94 2.06.94-2.06 2.06-.94-2.06-.94-.94-2.06-.94 2.06-2.06.94z\"/><path d=\"M17.41 7.96l-1.37-1.37c-.4-.4-.92-.59-1.43-.59-.52 0-1.04.2-1.43.59L10.3 9.45l-7.72 7.72c-.78.78-.78 2.05 0 2.83L4 21.41c.39.39.9.59 1.41.59.51 0 1.02-.2 1.41-.59l7.78-7.78 2.81-2.81c.8-.78.8-2.07 0-2.86zM5.41 20L4 18.59l7.72-7.72 1.47 1.35L5.41 20z\"/>\n",
              "  </svg>\n",
              "      </button>\n",
              "      \n",
              "  <style>\n",
              "    .colab-df-container {\n",
              "      display:flex;\n",
              "      flex-wrap:wrap;\n",
              "      gap: 12px;\n",
              "    }\n",
              "\n",
              "    .colab-df-convert {\n",
              "      background-color: #E8F0FE;\n",
              "      border: none;\n",
              "      border-radius: 50%;\n",
              "      cursor: pointer;\n",
              "      display: none;\n",
              "      fill: #1967D2;\n",
              "      height: 32px;\n",
              "      padding: 0 0 0 0;\n",
              "      width: 32px;\n",
              "    }\n",
              "\n",
              "    .colab-df-convert:hover {\n",
              "      background-color: #E2EBFA;\n",
              "      box-shadow: 0px 1px 2px rgba(60, 64, 67, 0.3), 0px 1px 3px 1px rgba(60, 64, 67, 0.15);\n",
              "      fill: #174EA6;\n",
              "    }\n",
              "\n",
              "    [theme=dark] .colab-df-convert {\n",
              "      background-color: #3B4455;\n",
              "      fill: #D2E3FC;\n",
              "    }\n",
              "\n",
              "    [theme=dark] .colab-df-convert:hover {\n",
              "      background-color: #434B5C;\n",
              "      box-shadow: 0px 1px 3px 1px rgba(0, 0, 0, 0.15);\n",
              "      filter: drop-shadow(0px 1px 2px rgba(0, 0, 0, 0.3));\n",
              "      fill: #FFFFFF;\n",
              "    }\n",
              "  </style>\n",
              "\n",
              "      <script>\n",
              "        const buttonEl =\n",
              "          document.querySelector('#df-a7804d91-d298-4741-9160-11f66e8e2460 button.colab-df-convert');\n",
              "        buttonEl.style.display =\n",
              "          google.colab.kernel.accessAllowed ? 'block' : 'none';\n",
              "\n",
              "        async function convertToInteractive(key) {\n",
              "          const element = document.querySelector('#df-a7804d91-d298-4741-9160-11f66e8e2460');\n",
              "          const dataTable =\n",
              "            await google.colab.kernel.invokeFunction('convertToInteractive',\n",
              "                                                     [key], {});\n",
              "          if (!dataTable) return;\n",
              "\n",
              "          const docLinkHtml = 'Like what you see? Visit the ' +\n",
              "            '<a target=\"_blank\" href=https://colab.research.google.com/notebooks/data_table.ipynb>data table notebook</a>'\n",
              "            + ' to learn more about interactive tables.';\n",
              "          element.innerHTML = '';\n",
              "          dataTable['output_type'] = 'display_data';\n",
              "          await google.colab.output.renderOutput(dataTable, element);\n",
              "          const docLink = document.createElement('div');\n",
              "          docLink.innerHTML = docLinkHtml;\n",
              "          element.appendChild(docLink);\n",
              "        }\n",
              "      </script>\n",
              "    </div>\n",
              "  </div>\n",
              "  "
            ]
          },
          "metadata": {},
          "execution_count": 8
        }
      ],
      "source": [
        "validation = validation.reset_index(drop=True)\n",
        "validation"
      ]
    },
    {
      "cell_type": "code",
      "execution_count": 9,
      "metadata": {
        "colab": {
          "base_uri": "https://localhost:8080/",
          "height": 424
        },
        "id": "FlXZu-rdhPi2",
        "outputId": "6d5e0f54-bb91-461a-b407-23590ad20bad"
      },
      "outputs": [
        {
          "output_type": "execute_result",
          "data": {
            "text/plain": [
              "                                                   text  score\n",
              "0     I love Drostes cocoa. We have many food allerg...    5.0\n",
              "1     First, I found this product for about $80-90 t...    5.0\n",
              "2     Arrived well packaged and just as described.  ...    5.0\n",
              "3     Vanilla caramel flavored Coffee-mate makes for...    5.0\n",
              "4     Everyone here who's tried Exclusive Energy has...    5.0\n",
              "...                                                 ...    ...\n",
              "1402  Tastes good, but according to most websites th...    3.0\n",
              "1403  We tried this product, a bunch of us. And we a...    1.0\n",
              "1404  As any dieter knows, it is difficult to give u...    5.0\n",
              "1405  We love Hazelnut coffee, but this just didn't ...    3.0\n",
              "1406  I purchased these to give to children who come...    1.0\n",
              "\n",
              "[1407 rows x 2 columns]"
            ],
            "text/html": [
              "\n",
              "  <div id=\"df-1bb1b2f7-3159-482b-93a3-a5b9fa8e749e\">\n",
              "    <div class=\"colab-df-container\">\n",
              "      <div>\n",
              "<style scoped>\n",
              "    .dataframe tbody tr th:only-of-type {\n",
              "        vertical-align: middle;\n",
              "    }\n",
              "\n",
              "    .dataframe tbody tr th {\n",
              "        vertical-align: top;\n",
              "    }\n",
              "\n",
              "    .dataframe thead th {\n",
              "        text-align: right;\n",
              "    }\n",
              "</style>\n",
              "<table border=\"1\" class=\"dataframe\">\n",
              "  <thead>\n",
              "    <tr style=\"text-align: right;\">\n",
              "      <th></th>\n",
              "      <th>text</th>\n",
              "      <th>score</th>\n",
              "    </tr>\n",
              "  </thead>\n",
              "  <tbody>\n",
              "    <tr>\n",
              "      <th>0</th>\n",
              "      <td>I love Drostes cocoa. We have many food allerg...</td>\n",
              "      <td>5.0</td>\n",
              "    </tr>\n",
              "    <tr>\n",
              "      <th>1</th>\n",
              "      <td>First, I found this product for about $80-90 t...</td>\n",
              "      <td>5.0</td>\n",
              "    </tr>\n",
              "    <tr>\n",
              "      <th>2</th>\n",
              "      <td>Arrived well packaged and just as described.  ...</td>\n",
              "      <td>5.0</td>\n",
              "    </tr>\n",
              "    <tr>\n",
              "      <th>3</th>\n",
              "      <td>Vanilla caramel flavored Coffee-mate makes for...</td>\n",
              "      <td>5.0</td>\n",
              "    </tr>\n",
              "    <tr>\n",
              "      <th>4</th>\n",
              "      <td>Everyone here who's tried Exclusive Energy has...</td>\n",
              "      <td>5.0</td>\n",
              "    </tr>\n",
              "    <tr>\n",
              "      <th>...</th>\n",
              "      <td>...</td>\n",
              "      <td>...</td>\n",
              "    </tr>\n",
              "    <tr>\n",
              "      <th>1402</th>\n",
              "      <td>Tastes good, but according to most websites th...</td>\n",
              "      <td>3.0</td>\n",
              "    </tr>\n",
              "    <tr>\n",
              "      <th>1403</th>\n",
              "      <td>We tried this product, a bunch of us. And we a...</td>\n",
              "      <td>1.0</td>\n",
              "    </tr>\n",
              "    <tr>\n",
              "      <th>1404</th>\n",
              "      <td>As any dieter knows, it is difficult to give u...</td>\n",
              "      <td>5.0</td>\n",
              "    </tr>\n",
              "    <tr>\n",
              "      <th>1405</th>\n",
              "      <td>We love Hazelnut coffee, but this just didn't ...</td>\n",
              "      <td>3.0</td>\n",
              "    </tr>\n",
              "    <tr>\n",
              "      <th>1406</th>\n",
              "      <td>I purchased these to give to children who come...</td>\n",
              "      <td>1.0</td>\n",
              "    </tr>\n",
              "  </tbody>\n",
              "</table>\n",
              "<p>1407 rows × 2 columns</p>\n",
              "</div>\n",
              "      <button class=\"colab-df-convert\" onclick=\"convertToInteractive('df-1bb1b2f7-3159-482b-93a3-a5b9fa8e749e')\"\n",
              "              title=\"Convert this dataframe to an interactive table.\"\n",
              "              style=\"display:none;\">\n",
              "        \n",
              "  <svg xmlns=\"http://www.w3.org/2000/svg\" height=\"24px\"viewBox=\"0 0 24 24\"\n",
              "       width=\"24px\">\n",
              "    <path d=\"M0 0h24v24H0V0z\" fill=\"none\"/>\n",
              "    <path d=\"M18.56 5.44l.94 2.06.94-2.06 2.06-.94-2.06-.94-.94-2.06-.94 2.06-2.06.94zm-11 1L8.5 8.5l.94-2.06 2.06-.94-2.06-.94L8.5 2.5l-.94 2.06-2.06.94zm10 10l.94 2.06.94-2.06 2.06-.94-2.06-.94-.94-2.06-.94 2.06-2.06.94z\"/><path d=\"M17.41 7.96l-1.37-1.37c-.4-.4-.92-.59-1.43-.59-.52 0-1.04.2-1.43.59L10.3 9.45l-7.72 7.72c-.78.78-.78 2.05 0 2.83L4 21.41c.39.39.9.59 1.41.59.51 0 1.02-.2 1.41-.59l7.78-7.78 2.81-2.81c.8-.78.8-2.07 0-2.86zM5.41 20L4 18.59l7.72-7.72 1.47 1.35L5.41 20z\"/>\n",
              "  </svg>\n",
              "      </button>\n",
              "      \n",
              "  <style>\n",
              "    .colab-df-container {\n",
              "      display:flex;\n",
              "      flex-wrap:wrap;\n",
              "      gap: 12px;\n",
              "    }\n",
              "\n",
              "    .colab-df-convert {\n",
              "      background-color: #E8F0FE;\n",
              "      border: none;\n",
              "      border-radius: 50%;\n",
              "      cursor: pointer;\n",
              "      display: none;\n",
              "      fill: #1967D2;\n",
              "      height: 32px;\n",
              "      padding: 0 0 0 0;\n",
              "      width: 32px;\n",
              "    }\n",
              "\n",
              "    .colab-df-convert:hover {\n",
              "      background-color: #E2EBFA;\n",
              "      box-shadow: 0px 1px 2px rgba(60, 64, 67, 0.3), 0px 1px 3px 1px rgba(60, 64, 67, 0.15);\n",
              "      fill: #174EA6;\n",
              "    }\n",
              "\n",
              "    [theme=dark] .colab-df-convert {\n",
              "      background-color: #3B4455;\n",
              "      fill: #D2E3FC;\n",
              "    }\n",
              "\n",
              "    [theme=dark] .colab-df-convert:hover {\n",
              "      background-color: #434B5C;\n",
              "      box-shadow: 0px 1px 3px 1px rgba(0, 0, 0, 0.15);\n",
              "      filter: drop-shadow(0px 1px 2px rgba(0, 0, 0, 0.3));\n",
              "      fill: #FFFFFF;\n",
              "    }\n",
              "  </style>\n",
              "\n",
              "      <script>\n",
              "        const buttonEl =\n",
              "          document.querySelector('#df-1bb1b2f7-3159-482b-93a3-a5b9fa8e749e button.colab-df-convert');\n",
              "        buttonEl.style.display =\n",
              "          google.colab.kernel.accessAllowed ? 'block' : 'none';\n",
              "\n",
              "        async function convertToInteractive(key) {\n",
              "          const element = document.querySelector('#df-1bb1b2f7-3159-482b-93a3-a5b9fa8e749e');\n",
              "          const dataTable =\n",
              "            await google.colab.kernel.invokeFunction('convertToInteractive',\n",
              "                                                     [key], {});\n",
              "          if (!dataTable) return;\n",
              "\n",
              "          const docLinkHtml = 'Like what you see? Visit the ' +\n",
              "            '<a target=\"_blank\" href=https://colab.research.google.com/notebooks/data_table.ipynb>data table notebook</a>'\n",
              "            + ' to learn more about interactive tables.';\n",
              "          element.innerHTML = '';\n",
              "          dataTable['output_type'] = 'display_data';\n",
              "          await google.colab.output.renderOutput(dataTable, element);\n",
              "          const docLink = document.createElement('div');\n",
              "          docLink.innerHTML = docLinkHtml;\n",
              "          element.appendChild(docLink);\n",
              "        }\n",
              "      </script>\n",
              "    </div>\n",
              "  </div>\n",
              "  "
            ]
          },
          "metadata": {},
          "execution_count": 9
        }
      ],
      "source": [
        "test = test.reset_index(drop=True)\n",
        "test"
      ]
    },
    {
      "cell_type": "code",
      "execution_count": 10,
      "metadata": {
        "colab": {
          "base_uri": "https://localhost:8080/"
        },
        "id": "cI3r9LKH92Qo",
        "outputId": "98e21667-14fb-4a50-fa0e-540e6c1016c3"
      },
      "outputs": [
        {
          "output_type": "stream",
          "name": "stdout",
          "text": [
            "Looking in indexes: https://pypi.org/simple, https://us-python.pkg.dev/colab-wheels/public/simple/\n",
            "Collecting datasets\n",
            "  Downloading datasets-2.12.0-py3-none-any.whl (474 kB)\n",
            "\u001b[?25l     \u001b[90m━━━━━━━━━━━━━━━━━━━━━━━━━━━━━━━━━━━━━━━━\u001b[0m \u001b[32m0.0/474.6 kB\u001b[0m \u001b[31m?\u001b[0m eta \u001b[36m-:--:--\u001b[0m\r\u001b[2K     \u001b[90m━━━━━━━━━━━━━━━━━━━━━━━━━━━━━━━━━━━━━━\u001b[0m \u001b[32m474.6/474.6 kB\u001b[0m \u001b[31m14.1 MB/s\u001b[0m eta \u001b[36m0:00:00\u001b[0m\n",
            "\u001b[?25hRequirement already satisfied: numpy>=1.17 in /usr/local/lib/python3.10/dist-packages (from datasets) (1.22.4)\n",
            "Requirement already satisfied: pyarrow>=8.0.0 in /usr/local/lib/python3.10/dist-packages (from datasets) (9.0.0)\n",
            "Collecting dill<0.3.7,>=0.3.0 (from datasets)\n",
            "  Downloading dill-0.3.6-py3-none-any.whl (110 kB)\n",
            "\u001b[?25l     \u001b[90m━━━━━━━━━━━━━━━━━━━━━━━━━━━━━━━━━━━━━━━━\u001b[0m \u001b[32m0.0/110.5 kB\u001b[0m \u001b[31m?\u001b[0m eta \u001b[36m-:--:--\u001b[0m\r\u001b[2K     \u001b[90m━━━━━━━━━━━━━━━━━━━━━━━━━━━━━━━━━━━━━━\u001b[0m \u001b[32m110.5/110.5 kB\u001b[0m \u001b[31m11.3 MB/s\u001b[0m eta \u001b[36m0:00:00\u001b[0m\n",
            "\u001b[?25hRequirement already satisfied: pandas in /usr/local/lib/python3.10/dist-packages (from datasets) (1.5.3)\n",
            "Requirement already satisfied: requests>=2.19.0 in /usr/local/lib/python3.10/dist-packages (from datasets) (2.27.1)\n",
            "Requirement already satisfied: tqdm>=4.62.1 in /usr/local/lib/python3.10/dist-packages (from datasets) (4.65.0)\n",
            "Collecting xxhash (from datasets)\n",
            "  Downloading xxhash-3.2.0-cp310-cp310-manylinux_2_17_x86_64.manylinux2014_x86_64.whl (212 kB)\n",
            "\u001b[2K     \u001b[90m━━━━━━━━━━━━━━━━━━━━━━━━━━━━━━━━━━━━━━\u001b[0m \u001b[32m212.5/212.5 kB\u001b[0m \u001b[31m21.7 MB/s\u001b[0m eta \u001b[36m0:00:00\u001b[0m\n",
            "\u001b[?25hCollecting multiprocess (from datasets)\n",
            "  Downloading multiprocess-0.70.14-py310-none-any.whl (134 kB)\n",
            "\u001b[2K     \u001b[90m━━━━━━━━━━━━━━━━━━━━━━━━━━━━━━━━━━━━━━\u001b[0m \u001b[32m134.3/134.3 kB\u001b[0m \u001b[31m14.2 MB/s\u001b[0m eta \u001b[36m0:00:00\u001b[0m\n",
            "\u001b[?25hRequirement already satisfied: fsspec[http]>=2021.11.1 in /usr/local/lib/python3.10/dist-packages (from datasets) (2023.4.0)\n",
            "Collecting aiohttp (from datasets)\n",
            "  Downloading aiohttp-3.8.4-cp310-cp310-manylinux_2_17_x86_64.manylinux2014_x86_64.whl (1.0 MB)\n",
            "\u001b[2K     \u001b[90m━━━━━━━━━━━━━━━━━━━━━━━━━━━━━━━━━━━━━━━━\u001b[0m \u001b[32m1.0/1.0 MB\u001b[0m \u001b[31m25.5 MB/s\u001b[0m eta \u001b[36m0:00:00\u001b[0m\n",
            "\u001b[?25hCollecting huggingface-hub<1.0.0,>=0.11.0 (from datasets)\n",
            "  Downloading huggingface_hub-0.14.1-py3-none-any.whl (224 kB)\n",
            "\u001b[2K     \u001b[90m━━━━━━━━━━━━━━━━━━━━━━━━━━━━━━━━━━━━━━\u001b[0m \u001b[32m224.5/224.5 kB\u001b[0m \u001b[31m22.3 MB/s\u001b[0m eta \u001b[36m0:00:00\u001b[0m\n",
            "\u001b[?25hRequirement already satisfied: packaging in /usr/local/lib/python3.10/dist-packages (from datasets) (23.1)\n",
            "Collecting responses<0.19 (from datasets)\n",
            "  Downloading responses-0.18.0-py3-none-any.whl (38 kB)\n",
            "Requirement already satisfied: pyyaml>=5.1 in /usr/local/lib/python3.10/dist-packages (from datasets) (6.0)\n",
            "Requirement already satisfied: attrs>=17.3.0 in /usr/local/lib/python3.10/dist-packages (from aiohttp->datasets) (23.1.0)\n",
            "Requirement already satisfied: charset-normalizer<4.0,>=2.0 in /usr/local/lib/python3.10/dist-packages (from aiohttp->datasets) (2.0.12)\n",
            "Collecting multidict<7.0,>=4.5 (from aiohttp->datasets)\n",
            "  Downloading multidict-6.0.4-cp310-cp310-manylinux_2_17_x86_64.manylinux2014_x86_64.whl (114 kB)\n",
            "\u001b[2K     \u001b[90m━━━━━━━━━━━━━━━━━━━━━━━━━━━━━━━━━━━━━━\u001b[0m \u001b[32m114.5/114.5 kB\u001b[0m \u001b[31m11.1 MB/s\u001b[0m eta \u001b[36m0:00:00\u001b[0m\n",
            "\u001b[?25hCollecting async-timeout<5.0,>=4.0.0a3 (from aiohttp->datasets)\n",
            "  Downloading async_timeout-4.0.2-py3-none-any.whl (5.8 kB)\n",
            "Collecting yarl<2.0,>=1.0 (from aiohttp->datasets)\n",
            "  Downloading yarl-1.9.2-cp310-cp310-manylinux_2_17_x86_64.manylinux2014_x86_64.whl (268 kB)\n",
            "\u001b[2K     \u001b[90m━━━━━━━━━━━━━━━━━━━━━━━━━━━━━━━━━━━━━━\u001b[0m \u001b[32m268.8/268.8 kB\u001b[0m \u001b[31m22.3 MB/s\u001b[0m eta \u001b[36m0:00:00\u001b[0m\n",
            "\u001b[?25hCollecting frozenlist>=1.1.1 (from aiohttp->datasets)\n",
            "  Downloading frozenlist-1.3.3-cp310-cp310-manylinux_2_5_x86_64.manylinux1_x86_64.manylinux_2_17_x86_64.manylinux2014_x86_64.whl (149 kB)\n",
            "\u001b[2K     \u001b[90m━━━━━━━━━━━━━━━━━━━━━━━━━━━━━━━━━━━━━━\u001b[0m \u001b[32m149.6/149.6 kB\u001b[0m \u001b[31m15.4 MB/s\u001b[0m eta \u001b[36m0:00:00\u001b[0m\n",
            "\u001b[?25hCollecting aiosignal>=1.1.2 (from aiohttp->datasets)\n",
            "  Downloading aiosignal-1.3.1-py3-none-any.whl (7.6 kB)\n",
            "Requirement already satisfied: filelock in /usr/local/lib/python3.10/dist-packages (from huggingface-hub<1.0.0,>=0.11.0->datasets) (3.12.0)\n",
            "Requirement already satisfied: typing-extensions>=3.7.4.3 in /usr/local/lib/python3.10/dist-packages (from huggingface-hub<1.0.0,>=0.11.0->datasets) (4.5.0)\n",
            "Requirement already satisfied: urllib3<1.27,>=1.21.1 in /usr/local/lib/python3.10/dist-packages (from requests>=2.19.0->datasets) (1.26.15)\n",
            "Requirement already satisfied: certifi>=2017.4.17 in /usr/local/lib/python3.10/dist-packages (from requests>=2.19.0->datasets) (2022.12.7)\n",
            "Requirement already satisfied: idna<4,>=2.5 in /usr/local/lib/python3.10/dist-packages (from requests>=2.19.0->datasets) (3.4)\n",
            "Requirement already satisfied: python-dateutil>=2.8.1 in /usr/local/lib/python3.10/dist-packages (from pandas->datasets) (2.8.2)\n",
            "Requirement already satisfied: pytz>=2020.1 in /usr/local/lib/python3.10/dist-packages (from pandas->datasets) (2022.7.1)\n",
            "Requirement already satisfied: six>=1.5 in /usr/local/lib/python3.10/dist-packages (from python-dateutil>=2.8.1->pandas->datasets) (1.16.0)\n",
            "Installing collected packages: xxhash, multidict, frozenlist, dill, async-timeout, yarl, responses, multiprocess, huggingface-hub, aiosignal, aiohttp, datasets\n",
            "Successfully installed aiohttp-3.8.4 aiosignal-1.3.1 async-timeout-4.0.2 datasets-2.12.0 dill-0.3.6 frozenlist-1.3.3 huggingface-hub-0.14.1 multidict-6.0.4 multiprocess-0.70.14 responses-0.18.0 xxhash-3.2.0 yarl-1.9.2\n"
          ]
        },
        {
          "output_type": "execute_result",
          "data": {
            "text/plain": [
              "Dataset({\n",
              "    features: ['text', 'score'],\n",
              "    num_rows: 4501\n",
              "})"
            ]
          },
          "metadata": {},
          "execution_count": 10
        }
      ],
      "source": [
        "!pip install datasets # https://github.com/huggingface/datasets\n",
        "\n",
        "from datasets import Dataset\n",
        "\n",
        "train = Dataset.from_pandas(train)\n",
        "train"
      ]
    },
    {
      "cell_type": "code",
      "execution_count": 11,
      "metadata": {
        "colab": {
          "base_uri": "https://localhost:8080/"
        },
        "id": "wwXCbkmwhzxS",
        "outputId": "3cc1fe5e-1b05-4014-aff1-8c74c7793db2"
      },
      "outputs": [
        {
          "output_type": "execute_result",
          "data": {
            "text/plain": [
              "Dataset({\n",
              "    features: ['text', 'score'],\n",
              "    num_rows: 1126\n",
              "})"
            ]
          },
          "metadata": {},
          "execution_count": 11
        }
      ],
      "source": [
        "validation = Dataset.from_pandas(validation)\n",
        "validation"
      ]
    },
    {
      "cell_type": "code",
      "execution_count": 12,
      "metadata": {
        "colab": {
          "base_uri": "https://localhost:8080/"
        },
        "id": "sU3o3Bk1h8DI",
        "outputId": "c2abdf88-faf5-4fe2-8354-d41a55fa5e85"
      },
      "outputs": [
        {
          "output_type": "execute_result",
          "data": {
            "text/plain": [
              "Dataset({\n",
              "    features: ['text', 'score'],\n",
              "    num_rows: 1407\n",
              "})"
            ]
          },
          "metadata": {},
          "execution_count": 12
        }
      ],
      "source": [
        "test = Dataset.from_pandas(test)\n",
        "test"
      ]
    },
    {
      "cell_type": "markdown",
      "metadata": {
        "id": "dnLD62LKpEBg"
      },
      "source": [
        "## Looking at the Class Distribution\n"
      ]
    },
    {
      "cell_type": "code",
      "execution_count": 13,
      "metadata": {
        "colab": {
          "base_uri": "https://localhost:8080/",
          "height": 452
        },
        "id": "FJH7CXZhpFHD",
        "outputId": "e7b755f6-e495-4fe6-c4db-73318c0e5df9"
      },
      "outputs": [
        {
          "output_type": "display_data",
          "data": {
            "text/plain": [
              "<Figure size 640x480 with 1 Axes>"
            ],
            "image/png": "[encoded data removed]"
          },
          "metadata": {}
        }
      ],
      "source": [
        "import matplotlib.pyplot as plt\n",
        "df[\"score\"].value_counts(ascending=True).plot.barh()\n",
        "plt.title(\"Frequency of Classes\")\n",
        "plt.show()"
      ]
    },
    {
      "cell_type": "markdown",
      "metadata": {
        "id": "myBZ7TWDpsMS"
      },
      "source": [
        "In this case, we can see that the dataset is heavily imbalanced; There are several ways to deal with imbalanced data, including:\n",
        "- Randomly oversample the minority class.\n",
        "- Randomly undersample the majority class.\n",
        "- Gather more labeled data from the underrepresented classes."
      ]
    },
    {
      "cell_type": "markdown",
      "metadata": {
        "id": "T5fkmgYirZVn"
      },
      "source": [
        "## How Long Are Our Review?\n",
        "Transformer models have a maximum input sequence length that is referred to as the\n",
        "maximum context size. For applications using DistilBERT, the maximum context size\n",
        "is 512 tokens, which amounts to a few paragraphs of text. "
      ]
    },
    {
      "cell_type": "code",
      "execution_count": 14,
      "metadata": {
        "colab": {
          "base_uri": "https://localhost:8080/",
          "height": 443
        },
        "id": "GIFpYQlpraj8",
        "outputId": "4c251ee4-bdb0-4b9b-c51b-5943362e0a4f"
      },
      "outputs": [
        {
          "output_type": "display_data",
          "data": {
            "text/plain": [
              "<Figure size 640x480 with 1 Axes>"
            ],
            "image/png": "[encoded data removed]"
          },
          "metadata": {}
        }
      ],
      "source": [
        "df[\"Words Per Review\"] = df[\"text\"].str.split().apply(len)\n",
        "df.boxplot(\"Words Per Review\", by=\"score\", grid=False,\n",
        "showfliers=False, color=\"black\")\n",
        "plt.suptitle(\"\")\n",
        "plt.xlabel(\"\")\n",
        "plt.show()"
      ]
    },
    {
      "cell_type": "markdown",
      "metadata": {
        "id": "B4I5bRyRsUUE"
      },
      "source": [
        "From the plot we see that for each emotion, most tweets are around 60 words long\n",
        "and the longest tweets are well below DistilBERT’s maximum context size. Texts that\n",
        "are longer than a model’s context size need to be truncated, which can lead to a loss in\n",
        "performance if the truncated text contains crucial information; in this case, it looks\n",
        "like that won’t be an issue."
      ]
    },
    {
      "cell_type": "markdown",
      "metadata": {
        "id": "a_5j94dWJLSc"
      },
      "source": [
        "Map target label to String\n",
        "1. VERY NEGATIVE\n",
        "2. NEGATIVE\n",
        "3. NEUTRAL\n",
        "4. POSITIVE\n",
        "5. EXCELLENT\n"
      ]
    },
    {
      "cell_type": "markdown",
      "metadata": {
        "id": "l7uFF9QBp8mq"
      },
      "source": [
        "# First form of classification"
      ]
    },
    {
      "cell_type": "markdown",
      "metadata": {
        "id": "yEQwypiAoclh"
      },
      "source": [
        "Transformers has a layered API that allows you to\n",
        "interact with the library at various levels of abstraction. In this chapter we’ll start with\n",
        "pipelines, which abstract away all the steps needed to convert raw text into a set of\n",
        "predictions from a fine-tuned model."
      ]
    },
    {
      "cell_type": "code",
      "execution_count": 15,
      "metadata": {
        "colab": {
          "base_uri": "https://localhost:8080/",
          "height": 614,
          "referenced_widgets": [
            "28f9299d4d8e43f5a533bfc146a6fe08",
            "bda22daa7055465e889daed41b66491a",
            "238426831ff24c2ab5942e3410700609",
            "2c4cc59da6ef45ca92b88c1ca2e8e4b4",
            "5fd354417d9c453ca943dad971ef78f6",
            "5b9e2e709afa479aa5e5b8693786bccd",
            "19c410f7135e4cfb82621e68c23a6a11",
            "2b5bac5407c44bf4a5529c2da592753a",
            "a3cd2eefd0764c53bd5bb16e4ebea69e",
            "6d7bf87eb5ae4d7ba744c7b86412a7f1",
            "722a0caf848047dba71dd11d2a0612c7",
            "bc9a62b1f8534495877ad59dd2cdcc21",
            "f7277644224f4b908d7ce813e718be50",
            "1866f384420146cb8de952fa2a993a2e",
            "35c9ee4105594f3dad8ead2cfd3965f7",
            "a90b1ed7ec834222a1ab5c72e8160825",
            "e4ece794cd83472d82daa343e3600ec7",
            "ff43218075e64b5389aec94ece88e824",
            "933b730ae30c4e219353b4fc6e350e65",
            "c20a8bdbce9440c18e4a529a675edbfa",
            "b83881d9a4cf4b15ae64bd35d47a20ba",
            "42c66e1696c843a5a1748474a8850d1d",
            "3e594bf532c54900a8b3818aa07510fa",
            "44005878536d41db83e1a1cecef199ec",
            "e8f6e0ebea794619803d50353d3c8442",
            "fd6032d1bf6043cf88076558bcc68106",
            "d1e108e8f92b49b8a4f1b447bb0a91e5",
            "b16dc44f7b214fe691689a6819775fbd",
            "0daf56ee5c7b45429acbaa38ca6c8353",
            "d8fbb20de12d4d1ea88a3e02c02a0a51",
            "24c91671c8d24731a049e4d081e406af",
            "58ea1f3291a940feb5e7316ff27c56be",
            "7a501203b74a4cc2ab0e3ab799c34a96",
            "fbfc7f29ee9c48139c1357c1f18fc525",
            "337ba67225c24944aa92af9b4235cebe",
            "1026ccf208084c70815b48b876dfa887",
            "5cbda2ef9db9419f8a0e4fcbe5677588",
            "f5f5bb630f1a4fa3b8e30e6ab14950d3",
            "9a98d169770c4b429a551dff66c7955a",
            "0e17a19fa25f4f68846024b487ccbd5a",
            "751041ae68da42848ee8c03f9106421f",
            "db832745b93e4f0b894ab1f1093374e7",
            "375d6db1df5d4d5abc5c031bbc598b21",
            "de5c6e05be3f474383251fca6000b7d6"
          ]
        },
        "id": "3BA8-NuVudyc",
        "outputId": "bebedee8-db54-49bc-9314-8976b582eaad"
      },
      "outputs": [
        {
          "output_type": "stream",
          "name": "stdout",
          "text": [
            "Looking in indexes: https://pypi.org/simple, https://us-python.pkg.dev/colab-wheels/public/simple/\n",
            "Collecting transformers\n",
            "  Downloading transformers-4.29.1-py3-none-any.whl (7.1 MB)\n",
            "\u001b[?25l     \u001b[90m━━━━━━━━━━━━━━━━━━━━━━━━━━━━━━━━━━━━━━━━\u001b[0m \u001b[32m0.0/7.1 MB\u001b[0m \u001b[31m?\u001b[0m eta \u001b[36m-:--:--\u001b[0m\r\u001b[2K     \u001b[91m━━━━━━\u001b[0m\u001b[90m╺\u001b[0m\u001b[90m━━━━━━━━━━━━━━━━━━━━━━━━━━━━━━━━━\u001b[0m \u001b[32m1.1/7.1 MB\u001b[0m \u001b[31m31.6 MB/s\u001b[0m eta \u001b[36m0:00:01\u001b[0m\r\u001b[2K     \u001b[91m━━━━━━━━━━━━━━━━━━━━━\u001b[0m\u001b[91m╸\u001b[0m\u001b[90m━━━━━━━━━━━━━━━━━━\u001b[0m \u001b[32m3.8/7.1 MB\u001b[0m \u001b[31m52.0 MB/s\u001b[0m eta \u001b[36m0:00:01\u001b[0m\r\u001b[2K     \u001b[91m━━━━━━━━━━━━━━━━━━━━━━━━━━━━━━━━━━━━━━━\u001b[0m\u001b[91m╸\u001b[0m \u001b[32m7.1/7.1 MB\u001b[0m \u001b[31m68.7 MB/s\u001b[0m eta \u001b[36m0:00:01\u001b[0m\r\u001b[2K     \u001b[91m━━━━━━━━━━━━━━━━━━━━━━━━━━━━━━━━━━━━━━━\u001b[0m\u001b[91m╸\u001b[0m \u001b[32m7.1/7.1 MB\u001b[0m \u001b[31m68.7 MB/s\u001b[0m eta \u001b[36m0:00:01\u001b[0m\r\u001b[2K     \u001b[90m━━━━━━━━━━━━━━━━━━━━━━━━━━━━━━━━━━━━━━━━\u001b[0m \u001b[32m7.1/7.1 MB\u001b[0m \u001b[31m44.9 MB/s\u001b[0m eta \u001b[36m0:00:00\u001b[0m\n",
            "\u001b[?25hRequirement already satisfied: filelock in /usr/local/lib/python3.10/dist-packages (from transformers) (3.12.0)\n",
            "Requirement already satisfied: huggingface-hub<1.0,>=0.14.1 in /usr/local/lib/python3.10/dist-packages (from transformers) (0.14.1)\n",
            "Requirement already satisfied: numpy>=1.17 in /usr/local/lib/python3.10/dist-packages (from transformers) (1.22.4)\n",
            "Requirement already satisfied: packaging>=20.0 in /usr/local/lib/python3.10/dist-packages (from transformers) (23.1)\n",
            "Requirement already satisfied: pyyaml>=5.1 in /usr/local/lib/python3.10/dist-packages (from transformers) (6.0)\n",
            "Requirement already satisfied: regex!=2019.12.17 in /usr/local/lib/python3.10/dist-packages (from transformers) (2022.10.31)\n",
            "Requirement already satisfied: requests in /usr/local/lib/python3.10/dist-packages (from transformers) (2.27.1)\n",
            "Collecting tokenizers!=0.11.3,<0.14,>=0.11.1 (from transformers)\n",
            "  Downloading tokenizers-0.13.3-cp310-cp310-manylinux_2_17_x86_64.manylinux2014_x86_64.whl (7.8 MB)\n",
            "\u001b[2K     \u001b[90m━━━━━━━━━━━━━━━━━━━━━━━━━━━━━━━━━━━━━━━━\u001b[0m \u001b[32m7.8/7.8 MB\u001b[0m \u001b[31m39.4 MB/s\u001b[0m eta \u001b[36m0:00:00\u001b[0m\n",
            "\u001b[?25hRequirement already satisfied: tqdm>=4.27 in /usr/local/lib/python3.10/dist-packages (from transformers) (4.65.0)\n",
            "Requirement already satisfied: fsspec in /usr/local/lib/python3.10/dist-packages (from huggingface-hub<1.0,>=0.14.1->transformers) (2023.4.0)\n",
            "Requirement already satisfied: typing-extensions>=3.7.4.3 in /usr/local/lib/python3.10/dist-packages (from huggingface-hub<1.0,>=0.14.1->transformers) (4.5.0)\n",
            "Requirement already satisfied: urllib3<1.27,>=1.21.1 in /usr/local/lib/python3.10/dist-packages (from requests->transformers) (1.26.15)\n",
            "Requirement already satisfied: certifi>=2017.4.17 in /usr/local/lib/python3.10/dist-packages (from requests->transformers) (2022.12.7)\n",
            "Requirement already satisfied: charset-normalizer~=2.0.0 in /usr/local/lib/python3.10/dist-packages (from requests->transformers) (2.0.12)\n",
            "Requirement already satisfied: idna<4,>=2.5 in /usr/local/lib/python3.10/dist-packages (from requests->transformers) (3.4)\n",
            "Installing collected packages: tokenizers, transformers\n",
            "Successfully installed tokenizers-0.13.3 transformers-4.29.1\n"
          ]
        },
        {
          "output_type": "stream",
          "name": "stderr",
          "text": [
            "No model was supplied, defaulted to distilbert-base-uncased-finetuned-sst-2-english and revision af0f99b (https://huggingface.co/distilbert-base-uncased-finetuned-sst-2-english).\n",
            "Using a pipeline without specifying a model name and revision in production is not recommended.\n"
          ]
        },
        {
          "output_type": "display_data",
          "data": {
            "text/plain": [
              "Downloading (…)lve/main/config.json:   0%|          | 0.00/629 [00:00<?, ?B/s]"
            ],
            "application/vnd.jupyter.widget-view+json": {
              "version_major": 2,
              "version_minor": 0,
              "model_id": "28f9299d4d8e43f5a533bfc146a6fe08"
            }
          },
          "metadata": {}
        },
        {
          "output_type": "display_data",
          "data": {
            "text/plain": [
              "Downloading pytorch_model.bin:   0%|          | 0.00/268M [00:00<?, ?B/s]"
            ],
            "application/vnd.jupyter.widget-view+json": {
              "version_major": 2,
              "version_minor": 0,
              "model_id": "bc9a62b1f8534495877ad59dd2cdcc21"
            }
          },
          "metadata": {}
        },
        {
          "output_type": "display_data",
          "data": {
            "text/plain": [
              "Downloading (…)okenizer_config.json:   0%|          | 0.00/48.0 [00:00<?, ?B/s]"
            ],
            "application/vnd.jupyter.widget-view+json": {
              "version_major": 2,
              "version_minor": 0,
              "model_id": "3e594bf532c54900a8b3818aa07510fa"
            }
          },
          "metadata": {}
        },
        {
          "output_type": "display_data",
          "data": {
            "text/plain": [
              "Downloading (…)solve/main/vocab.txt:   0%|          | 0.00/232k [00:00<?, ?B/s]"
            ],
            "application/vnd.jupyter.widget-view+json": {
              "version_major": 2,
              "version_minor": 0,
              "model_id": "fbfc7f29ee9c48139c1357c1f18fc525"
            }
          },
          "metadata": {}
        },
        {
          "output_type": "stream",
          "name": "stderr",
          "text": [
            "Xformers is not installed correctly. If you want to use memorry_efficient_attention to accelerate training use the following command to install Xformers\n",
            "pip install xformers.\n"
          ]
        }
      ],
      "source": [
        "!pip install transformers\n",
        "from transformers import pipeline\n",
        "classifier = pipeline(\"text-classification\") \n",
        "# . By default, the text-classification pipeline uses a model\n",
        "# that’s designed for sentiment analysis, but it also supports multiclass and multilabel classification.\n"
      ]
    },
    {
      "cell_type": "markdown",
      "metadata": {
        "id": "RGUTsbq0pUOr"
      },
      "source": [
        "Now that we have our pipeline, let’s generate some predictions! Each pipeline takes a\n",
        "string of text (or a list of strings) as input and returns a list of predictions. Each pre‐\n",
        "diction is a Python dictionary, so we can use Pandas to display them nicely as a\n",
        "DataFrame:"
      ]
    },
    {
      "cell_type": "code",
      "execution_count": 16,
      "metadata": {
        "colab": {
          "base_uri": "https://localhost:8080/",
          "height": 98
        },
        "id": "NIfsluLqbguK",
        "outputId": "91838397-6f16-4c29-daee-36d0b6f977b4"
      },
      "outputs": [
        {
          "output_type": "stream",
          "name": "stdout",
          "text": [
            "My puppy loves them. She burns through them like nobody's business and they give her a softer stool but she really goes nuts for them. She has no tartar and nice breath though\n"
          ]
        },
        {
          "output_type": "execute_result",
          "data": {
            "text/plain": [
              "      label     score\n",
              "0  POSITIVE  0.996376"
            ],
            "text/html": [
              "\n",
              "  <div id=\"df-ebfa58b1-43ea-4fe5-aca9-7d05190e8e4a\">\n",
              "    <div class=\"colab-df-container\">\n",
              "      <div>\n",
              "<style scoped>\n",
              "    .dataframe tbody tr th:only-of-type {\n",
              "        vertical-align: middle;\n",
              "    }\n",
              "\n",
              "    .dataframe tbody tr th {\n",
              "        vertical-align: top;\n",
              "    }\n",
              "\n",
              "    .dataframe thead th {\n",
              "        text-align: right;\n",
              "    }\n",
              "</style>\n",
              "<table border=\"1\" class=\"dataframe\">\n",
              "  <thead>\n",
              "    <tr style=\"text-align: right;\">\n",
              "      <th></th>\n",
              "      <th>label</th>\n",
              "      <th>score</th>\n",
              "    </tr>\n",
              "  </thead>\n",
              "  <tbody>\n",
              "    <tr>\n",
              "      <th>0</th>\n",
              "      <td>POSITIVE</td>\n",
              "      <td>0.996376</td>\n",
              "    </tr>\n",
              "  </tbody>\n",
              "</table>\n",
              "</div>\n",
              "      <button class=\"colab-df-convert\" onclick=\"convertToInteractive('df-ebfa58b1-43ea-4fe5-aca9-7d05190e8e4a')\"\n",
              "              title=\"Convert this dataframe to an interactive table.\"\n",
              "              style=\"display:none;\">\n",
              "        \n",
              "  <svg xmlns=\"http://www.w3.org/2000/svg\" height=\"24px\"viewBox=\"0 0 24 24\"\n",
              "       width=\"24px\">\n",
              "    <path d=\"M0 0h24v24H0V0z\" fill=\"none\"/>\n",
              "    <path d=\"M18.56 5.44l.94 2.06.94-2.06 2.06-.94-2.06-.94-.94-2.06-.94 2.06-2.06.94zm-11 1L8.5 8.5l.94-2.06 2.06-.94-2.06-.94L8.5 2.5l-.94 2.06-2.06.94zm10 10l.94 2.06.94-2.06 2.06-.94-2.06-.94-.94-2.06-.94 2.06-2.06.94z\"/><path d=\"M17.41 7.96l-1.37-1.37c-.4-.4-.92-.59-1.43-.59-.52 0-1.04.2-1.43.59L10.3 9.45l-7.72 7.72c-.78.78-.78 2.05 0 2.83L4 21.41c.39.39.9.59 1.41.59.51 0 1.02-.2 1.41-.59l7.78-7.78 2.81-2.81c.8-.78.8-2.07 0-2.86zM5.41 20L4 18.59l7.72-7.72 1.47 1.35L5.41 20z\"/>\n",
              "  </svg>\n",
              "      </button>\n",
              "      \n",
              "  <style>\n",
              "    .colab-df-container {\n",
              "      display:flex;\n",
              "      flex-wrap:wrap;\n",
              "      gap: 12px;\n",
              "    }\n",
              "\n",
              "    .colab-df-convert {\n",
              "      background-color: #E8F0FE;\n",
              "      border: none;\n",
              "      border-radius: 50%;\n",
              "      cursor: pointer;\n",
              "      display: none;\n",
              "      fill: #1967D2;\n",
              "      height: 32px;\n",
              "      padding: 0 0 0 0;\n",
              "      width: 32px;\n",
              "    }\n",
              "\n",
              "    .colab-df-convert:hover {\n",
              "      background-color: #E2EBFA;\n",
              "      box-shadow: 0px 1px 2px rgba(60, 64, 67, 0.3), 0px 1px 3px 1px rgba(60, 64, 67, 0.15);\n",
              "      fill: #174EA6;\n",
              "    }\n",
              "\n",
              "    [theme=dark] .colab-df-convert {\n",
              "      background-color: #3B4455;\n",
              "      fill: #D2E3FC;\n",
              "    }\n",
              "\n",
              "    [theme=dark] .colab-df-convert:hover {\n",
              "      background-color: #434B5C;\n",
              "      box-shadow: 0px 1px 3px 1px rgba(0, 0, 0, 0.15);\n",
              "      filter: drop-shadow(0px 1px 2px rgba(0, 0, 0, 0.3));\n",
              "      fill: #FFFFFF;\n",
              "    }\n",
              "  </style>\n",
              "\n",
              "      <script>\n",
              "        const buttonEl =\n",
              "          document.querySelector('#df-ebfa58b1-43ea-4fe5-aca9-7d05190e8e4a button.colab-df-convert');\n",
              "        buttonEl.style.display =\n",
              "          google.colab.kernel.accessAllowed ? 'block' : 'none';\n",
              "\n",
              "        async function convertToInteractive(key) {\n",
              "          const element = document.querySelector('#df-ebfa58b1-43ea-4fe5-aca9-7d05190e8e4a');\n",
              "          const dataTable =\n",
              "            await google.colab.kernel.invokeFunction('convertToInteractive',\n",
              "                                                     [key], {});\n",
              "          if (!dataTable) return;\n",
              "\n",
              "          const docLinkHtml = 'Like what you see? Visit the ' +\n",
              "            '<a target=\"_blank\" href=https://colab.research.google.com/notebooks/data_table.ipynb>data table notebook</a>'\n",
              "            + ' to learn more about interactive tables.';\n",
              "          element.innerHTML = '';\n",
              "          dataTable['output_type'] = 'display_data';\n",
              "          await google.colab.output.renderOutput(dataTable, element);\n",
              "          const docLink = document.createElement('div');\n",
              "          docLink.innerHTML = docLinkHtml;\n",
              "          element.appendChild(docLink);\n",
              "        }\n",
              "      </script>\n",
              "    </div>\n",
              "  </div>\n",
              "  "
            ]
          },
          "metadata": {},
          "execution_count": 16
        }
      ],
      "source": [
        "import pandas as pd\n",
        "print(df.text.iloc[0])\n",
        "outputs = classifier(df.text.iloc[0])\n",
        "pd.DataFrame(outputs)"
      ]
    },
    {
      "cell_type": "code",
      "execution_count": 16,
      "metadata": {
        "id": "a9QVC7j0de0U"
      },
      "outputs": [],
      "source": []
    },
    {
      "cell_type": "markdown",
      "metadata": {
        "id": "WxntrtEg29qC"
      },
      "source": [
        "# From Text to Token"
      ]
    },
    {
      "cell_type": "markdown",
      "metadata": {
        "id": "4Hijbp8n3fEG"
      },
      "source": [
        "## Subword Tokenization"
      ]
    },
    {
      "cell_type": "code",
      "execution_count": 17,
      "metadata": {
        "id": "tqp-DM4epWzk",
        "colab": {
          "base_uri": "https://localhost:8080/",
          "height": 145,
          "referenced_widgets": [
            "6bc7415e891941dca8b1379ff4d22cbc",
            "94646777b6a1469b919be1c519658241",
            "c97bca1ae80640368b846608c498e449",
            "3e7683c24ef64a8986ad39a104f193fa",
            "6914bced050f45eb98c8a2d70d0d1e0c",
            "17428bddca074c2cae866c42746f71ff",
            "7112fc217c5c47e287d7ee54ee96f254",
            "a4df9d0749994362b154aa4df234ead5",
            "01feb580986348258d0bc129d35b4ebe",
            "5529865f8037405388f073d666543f48",
            "f50c0f99398f4e0eab7af8a18e848412",
            "2f46fd38e8914b9fab0a42dcdca8eaaf",
            "0147c8db05e44b368ba0d56ad3ed11c4",
            "2b6a31dbea714438b71c2c046722df33",
            "cfb67aa9258448379ccb7a81d6552be4",
            "c44dec5f9d1547ff970c99bc3912ff60",
            "246222e101e2427d86eef6f24f5726d5",
            "b529659cf0e04ccea542cb6e747de91f",
            "0542a414657a4fa7a52b3068103ec179",
            "b71d039d10ab41cca7be068bc74f1321",
            "9adffe9ad239412ba92d61454ee7469f",
            "e2d54d79d27e407a8f4f03ed3bc3cf42",
            "29c22d80b2b04115a3305ffc0d68ff93",
            "e0be709dcace4399a8c232c543c93925",
            "ea1a4d13314144d4b73acb3818954a85",
            "0ca593a5513244c58b58d420fe8b608d",
            "905720c4994e46938906e3de1a9a4171",
            "fbdb22bac535441caa229ca43399ec76",
            "0624d5fdbcc5459a80f3692484b28ca3",
            "3366c1fb125c4d76aff089d1c9d299c6",
            "a4a6c43237754337bb478c246381161f",
            "28eb4e8b0699432c94e2a2a8113cd9cf",
            "cb428846dc38444dad0241c8856073d8",
            "3f43cd7de482449ab767b2118f16224e",
            "9c72f9bd5a2d48b9b557364fddb247ab",
            "bd99a1d696574d4087dc21887e8e8764",
            "2c64b85d5223408a90a45a56ddd70ccb",
            "ab4a91bac55b4c03a8fbb8bce3d68f40",
            "a2f4d6074c1447dc938dce7fc999030a",
            "b28dd766ac064e47898da9630a91c683",
            "84ddf7d82316477da6b69cc702b9bad8",
            "495312d116af4bef8155639d94d976e3",
            "21c59a6d36424ed59cd2619dd8e06eff",
            "a9bb6751889b42f29809dd083c9c5875"
          ]
        },
        "outputId": "d7e0112f-7a1d-4bd9-c659-bd09394beb87"
      },
      "outputs": [
        {
          "output_type": "display_data",
          "data": {
            "text/plain": [
              "Downloading (…)okenizer_config.json:   0%|          | 0.00/28.0 [00:00<?, ?B/s]"
            ],
            "application/vnd.jupyter.widget-view+json": {
              "version_major": 2,
              "version_minor": 0,
              "model_id": "6bc7415e891941dca8b1379ff4d22cbc"
            }
          },
          "metadata": {}
        },
        {
          "output_type": "display_data",
          "data": {
            "text/plain": [
              "Downloading (…)lve/main/config.json:   0%|          | 0.00/483 [00:00<?, ?B/s]"
            ],
            "application/vnd.jupyter.widget-view+json": {
              "version_major": 2,
              "version_minor": 0,
              "model_id": "2f46fd38e8914b9fab0a42dcdca8eaaf"
            }
          },
          "metadata": {}
        },
        {
          "output_type": "display_data",
          "data": {
            "text/plain": [
              "Downloading (…)solve/main/vocab.txt:   0%|          | 0.00/232k [00:00<?, ?B/s]"
            ],
            "application/vnd.jupyter.widget-view+json": {
              "version_major": 2,
              "version_minor": 0,
              "model_id": "29c22d80b2b04115a3305ffc0d68ff93"
            }
          },
          "metadata": {}
        },
        {
          "output_type": "display_data",
          "data": {
            "text/plain": [
              "Downloading (…)/main/tokenizer.json:   0%|          | 0.00/466k [00:00<?, ?B/s]"
            ],
            "application/vnd.jupyter.widget-view+json": {
              "version_major": 2,
              "version_minor": 0,
              "model_id": "3f43cd7de482449ab767b2118f16224e"
            }
          },
          "metadata": {}
        }
      ],
      "source": [
        "from transformers import AutoTokenizer\n",
        "model_ckpt = \"distilbert-base-uncased\"\n",
        "tokenizer = AutoTokenizer.from_pretrained(model_ckpt)"
      ]
    },
    {
      "cell_type": "code",
      "execution_count": 18,
      "metadata": {
        "id": "p-6MmpJm9PK0",
        "colab": {
          "base_uri": "https://localhost:8080/"
        },
        "outputId": "bb7b78f0-c223-4ee8-880e-a37be19323ac"
      },
      "outputs": [
        {
          "output_type": "stream",
          "name": "stdout",
          "text": [
            "{'input_ids': [101, 1045, 5993, 2007, 2116, 1997, 2122, 4391, 1012, 1996, 4031, 16958, 2204, 1011, 2025, 10392, 2021, 2204, 1012, 1045, 2123, 1005, 1056, 2066, 2613, 1010, 26484, 14557, 11772, 1998, 9544, 17776, 19764, 1012, 2174, 2065, 2017, 2079, 5959, 2613, 1010, 26484, 14557, 11772, 1010, 3531, 2156, 1996, 3319, 28789, 26927, 3070, 4244, 1998, 7112, 10970, 1012, 2200, 6057, 1012, 2079, 4965, 2122, 2065, 2017, 2066, 2019, 1051, 15671, 10992, 2389, 23592, 19782, 2021, 2123, 1005, 1056, 2215, 2000, 16475, 8162, 1037, 2312, 4524, 1997, 6638, 1011, 3561, 11772, 1012, 2123, 1005, 1056, 4965, 2122, 2065, 2017, 2024, 2559, 2005, 1037, 7965, 4522, 2000, 11772, 1011, 4521, 1037, 15212, 2030, 6207, 2612, 1006, 1998, 2025, 2216, 6207, 11772, 2030, 15212, 11772, 2138, 2027, 2024, 2152, 1999, 5699, 1007, 1012, 2065, 2017, 2079, 2131, 1996, 2502, 3482, 1011, 2074, 2404, 2009, 2070, 2173, 4297, 2239, 8159, 11638, 2066, 1996, 8102, 2073, 2017, 2097, 2031, 2000, 4654, 8743, 2070, 2943, 1999, 2344, 2000, 2131, 2068, 1011, 1998, 2065, 2017, 2079, 1010, 6781, 999, 2017, 2074, 4654, 28728, 2943, 1998, 2672, 3687, 1037, 9090, 2030, 2048, 1012, 102], 'attention_mask': [1, 1, 1, 1, 1, 1, 1, 1, 1, 1, 1, 1, 1, 1, 1, 1, 1, 1, 1, 1, 1, 1, 1, 1, 1, 1, 1, 1, 1, 1, 1, 1, 1, 1, 1, 1, 1, 1, 1, 1, 1, 1, 1, 1, 1, 1, 1, 1, 1, 1, 1, 1, 1, 1, 1, 1, 1, 1, 1, 1, 1, 1, 1, 1, 1, 1, 1, 1, 1, 1, 1, 1, 1, 1, 1, 1, 1, 1, 1, 1, 1, 1, 1, 1, 1, 1, 1, 1, 1, 1, 1, 1, 1, 1, 1, 1, 1, 1, 1, 1, 1, 1, 1, 1, 1, 1, 1, 1, 1, 1, 1, 1, 1, 1, 1, 1, 1, 1, 1, 1, 1, 1, 1, 1, 1, 1, 1, 1, 1, 1, 1, 1, 1, 1, 1, 1, 1, 1, 1, 1, 1, 1, 1, 1, 1, 1, 1, 1, 1, 1, 1, 1, 1, 1, 1, 1, 1, 1, 1, 1, 1, 1, 1, 1, 1, 1, 1, 1, 1, 1, 1, 1, 1, 1, 1, 1, 1, 1, 1, 1, 1, 1, 1, 1, 1]}\n"
          ]
        }
      ],
      "source": [
        "encoded_text = tokenizer(train[\"text\"][0])\n",
        "print(encoded_text)"
      ]
    },
    {
      "cell_type": "markdown",
      "metadata": {
        "id": "f5C05mkC1qGo"
      },
      "source": [
        "We can observe three things here. First, some special [CLS] and [SEP] tokens have\n",
        "been added to the start and end of the sequence. These tokens differ from model to\n",
        "model, but their main role is to indicate the start and end of a sequence. Second, the\n",
        "tokens have each been lowercased, which is a feature of this particular checkpoint.\n",
        "\n",
        "Finally, we can see that some words have been split into two tokens,\n",
        "which makes sense since they are not common words. In particular The ## prefix means that the preceding string is not whitespace; any token with this prefix\n",
        "should be merged with the previous token when you convert the tokens back to a\n",
        "string. "
      ]
    },
    {
      "cell_type": "code",
      "execution_count": 19,
      "metadata": {
        "id": "MZQbPnnS9Ugh",
        "colab": {
          "base_uri": "https://localhost:8080/"
        },
        "outputId": "7c580dbf-c0f9-42ec-d252-6d2abfc1c0c1"
      },
      "outputs": [
        {
          "output_type": "stream",
          "name": "stdout",
          "text": [
            "['[CLS]', 'i', 'agree', 'with', 'many', 'of', 'these', 'reviews', '.', 'the', 'product', 'tastes', 'good', '-', 'not', 'fantastic', 'but', 'good', '.', 'i', 'don', \"'\", 't', 'like', 'real', ',', 'greasy', 'potato', 'chips', 'and', 'prefer', 'baked', 'lays', '.', 'however', 'if', 'you', 'do', 'enjoy', 'real', ',', 'greasy', 'potato', 'chips', ',', 'please', 'see', 'the', 'review', 'referencing', 'pri', '##ng', '##les', 'and', 'steven', 'baldwin', '.', 'very', 'funny', '.', 'do', 'buy', 'these', 'if', 'you', 'like', 'an', 'o', '##cas', '##sion', '##al', 'salty', 'snack', 'but', 'don', \"'\", 't', 'want', 'to', 'dev', '##our', 'a', 'large', 'bag', 'of', 'fat', '-', 'filled', 'chips', '.', 'don', \"'\", 't', 'buy', 'these', 'if', 'you', 'are', 'looking', 'for', 'a', 'healthy', 'alternative', 'to', 'chips', '-', 'eat', 'a', 'banana', 'or', 'apple', 'instead', '(', 'and', 'not', 'those', 'apple', 'chips', 'or', 'banana', 'chips', 'because', 'they', 'are', 'high', 'in', 'sugar', ')', '.', 'if', 'you', 'do', 'get', 'the', 'big', 'box', '-', 'just', 'put', 'it', 'some', 'place', 'inc', '##on', '##ven', '##ient', 'like', 'the', 'basement', 'where', 'you', 'will', 'have', 'to', 'ex', '##ert', 'some', 'energy', 'in', 'order', 'to', 'get', 'them', '-', 'and', 'if', 'you', 'do', ',', 'bonus', '!', 'you', 'just', 'ex', '##erted', 'energy', 'and', 'maybe', 'earned', 'a', 'chip', 'or', 'two', '.', '[SEP]']\n"
          ]
        }
      ],
      "source": [
        "tokens = tokenizer.convert_ids_to_tokens(encoded_text.input_ids)\n",
        "print(tokens)"
      ]
    },
    {
      "cell_type": "code",
      "execution_count": 20,
      "metadata": {
        "id": "msWi2kxV9W_J",
        "colab": {
          "base_uri": "https://localhost:8080/"
        },
        "outputId": "361060d4-ec79-4806-9326-65a9b27633e5"
      },
      "outputs": [
        {
          "output_type": "stream",
          "name": "stdout",
          "text": [
            "[CLS] i agree with many of these reviews. the product tastes good - not fantastic but good. i don ' t like real, greasy potato chips and prefer baked lays. however if you do enjoy real, greasy potato chips, please see the review referencing pringles and steven baldwin. very funny. do buy these if you like an ocassional salty snack but don ' t want to devour a large bag of fat - filled chips. don ' t buy these if you are looking for a healthy alternative to chips - eat a banana or apple instead ( and not those apple chips or banana chips because they are high in sugar ). if you do get the big box - just put it some place inconvenient like the basement where you will have to exert some energy in order to get them - and if you do, bonus! you just exerted energy and maybe earned a chip or two. [SEP]\n"
          ]
        }
      ],
      "source": [
        "print(tokenizer.convert_tokens_to_string(tokens))"
      ]
    },
    {
      "cell_type": "markdown",
      "metadata": {
        "id": "Gko9hsUx2IiL"
      },
      "source": [
        "The AutoTokenizer class also has several attributes that provide information about\n",
        "the tokenizer. For example, we can inspect the vocabulary size:"
      ]
    },
    {
      "cell_type": "code",
      "execution_count": 21,
      "metadata": {
        "id": "ykyRMI2W9bwz",
        "colab": {
          "base_uri": "https://localhost:8080/"
        },
        "outputId": "acbdb8bb-3fdd-4617-b80c-3aa5c434d721"
      },
      "outputs": [
        {
          "output_type": "execute_result",
          "data": {
            "text/plain": [
              "30522"
            ]
          },
          "metadata": {},
          "execution_count": 21
        }
      ],
      "source": [
        "tokenizer.vocab_size"
      ]
    },
    {
      "cell_type": "markdown",
      "metadata": {
        "id": "bQVkSlvm2Lly"
      },
      "source": [
        "and the corresponding model’s maximum context size:\n"
      ]
    },
    {
      "cell_type": "code",
      "execution_count": 22,
      "metadata": {
        "id": "SBV-hJid9pfX",
        "colab": {
          "base_uri": "https://localhost:8080/"
        },
        "outputId": "2606ef32-92eb-4c8b-b8e5-268f1cd833a1"
      },
      "outputs": [
        {
          "output_type": "execute_result",
          "data": {
            "text/plain": [
              "512"
            ]
          },
          "metadata": {},
          "execution_count": 22
        }
      ],
      "source": [
        "tokenizer.model_max_length"
      ]
    },
    {
      "cell_type": "markdown",
      "metadata": {
        "id": "1GJAC3s02tKg"
      },
      "source": [
        "Another interesting attribute to know about is the names of the fields that the model\n",
        "expects in its forward pass:"
      ]
    },
    {
      "cell_type": "code",
      "execution_count": 23,
      "metadata": {
        "id": "HMyS8qa79rGM",
        "colab": {
          "base_uri": "https://localhost:8080/"
        },
        "outputId": "a73d7dcd-b7a0-453a-9b21-bdd77f95f3fa"
      },
      "outputs": [
        {
          "output_type": "execute_result",
          "data": {
            "text/plain": [
              "['input_ids', 'attention_mask']"
            ]
          },
          "metadata": {},
          "execution_count": 23
        }
      ],
      "source": [
        "tokenizer.model_input_names"
      ]
    },
    {
      "cell_type": "markdown",
      "metadata": {
        "id": "EGVVsiEs3iI7"
      },
      "source": [
        "## Tokenizing the Whole Dataset\n",
        "To tokenize the whole corpus, we’ll use the map() method of our DatasetDict object.\n",
        "\n",
        "To get started, the first thing we need is a processing function to tokenize our examples with:"
      ]
    },
    {
      "cell_type": "code",
      "execution_count": 24,
      "metadata": {
        "id": "3nfCrxmb3lfv"
      },
      "outputs": [],
      "source": [
        "def tokenize(batch):\n",
        "  '''\n",
        "  This function applies the tokenizer to a batch of examples; padding=True will pad the\n",
        "  examples with zeros to the size of the longest one in a batch, and truncation=True\n",
        "  will truncate the examples to the model’s maximum context size.\n",
        "  '''\n",
        "  return tokenizer(batch[\"text\"], padding=True, truncation=True)"
      ]
    },
    {
      "cell_type": "code",
      "execution_count": 25,
      "metadata": {
        "id": "CdGjrNvg4Lag",
        "colab": {
          "base_uri": "https://localhost:8080/"
        },
        "outputId": "739b48c2-962f-4676-eef9-30b2f4a79faa"
      },
      "outputs": [
        {
          "output_type": "execute_result",
          "data": {
            "text/plain": [
              "{'input_ids': [[101, 1045, 5993, 2007, 2116, 1997, 2122, 4391, 1012, 1996, 4031, 16958, 2204, 1011, 2025, 10392, 2021, 2204, 1012, 1045, 2123, 1005, 1056, 2066, 2613, 1010, 26484, 14557, 11772, 1998, 9544, 17776, 19764, 1012, 2174, 2065, 2017, 2079, 5959, 2613, 1010, 26484, 14557, 11772, 1010, 3531, 2156, 1996, 3319, 28789, 26927, 3070, 4244, 1998, 7112, 10970, 1012, 2200, 6057, 1012, 2079, 4965, 2122, 2065, 2017, 2066, 2019, 1051, 15671, 10992, 2389, 23592, 19782, 2021, 2123, 1005, 1056, 2215, 2000, 16475, 8162, 1037, 2312, 4524, 1997, 6638, 1011, 3561, 11772, 1012, 2123, 1005, 1056, 4965, 2122, 2065, 2017, 2024, 2559, 2005, 1037, 7965, 4522, 2000, 11772, 1011, 4521, 1037, 15212, 2030, 6207, 2612, 1006, 1998, 2025, 2216, 6207, 11772, 2030, 15212, 11772, 2138, 2027, 2024, 2152, 1999, 5699, 1007, 1012, 2065, 2017, 2079, 2131, 1996, 2502, 3482, 1011, 2074, 2404, 2009, 2070, 2173, 4297, 2239, 8159, 11638, 2066, 1996, 8102, 2073, 2017, 2097, 2031, 2000, 4654, 8743, 2070, 2943, 1999, 2344, 2000, 2131, 2068, 1011, 1998, 2065, 2017, 2079, 1010, 6781, 999, 2017, 2074, 4654, 28728, 2943, 1998, 2672, 3687, 1037, 9090, 2030, 2048, 1012, 102], [101, 1045, 2293, 2422, 15594, 2100, 23592, 27962, 1010, 1998, 25176, 15594, 2015, 2003, 1996, 2190, 2028, 1997, 2216, 1045, 1005, 2310, 2179, 1012, 2012, 2069, 2531, 10250, 18909, 2566, 3529, 1013, 8698, 10250, 18909, 2005, 1996, 4524, 1010, 2017, 2071, 6719, 4521, 1996, 2972, 4524, 1006, 2029, 1045, 2079, 2006, 1037, 3180, 3978, 1007, 1998, 2025, 2514, 2919, 2055, 2009, 1012, 2045, 2024, 2195, 26389, 2021, 2784, 2712, 5474, 2003, 2026, 5440, 2138, 2009, 2003, 11259, 1998, 2074, 11598, 2015, 1996, 3019, 14894, 1997, 1996, 5785, 1998, 25176, 1012, 2061, 3972, 4509, 999, 12057, 3435, 2007, 2035, 15594, 2015, 1999, 11937, 6593, 1012, 2307, 5309, 1010, 2128, 1011, 13063, 1012, 102, 0, 0, 0, 0, 0, 0, 0, 0, 0, 0, 0, 0, 0, 0, 0, 0, 0, 0, 0, 0, 0, 0, 0, 0, 0, 0, 0, 0, 0, 0, 0, 0, 0, 0, 0, 0, 0, 0, 0, 0, 0, 0, 0, 0, 0, 0, 0, 0, 0, 0, 0, 0, 0, 0, 0, 0, 0, 0, 0, 0, 0, 0, 0, 0, 0, 0, 0, 0, 0, 0, 0, 0, 0]], 'attention_mask': [[1, 1, 1, 1, 1, 1, 1, 1, 1, 1, 1, 1, 1, 1, 1, 1, 1, 1, 1, 1, 1, 1, 1, 1, 1, 1, 1, 1, 1, 1, 1, 1, 1, 1, 1, 1, 1, 1, 1, 1, 1, 1, 1, 1, 1, 1, 1, 1, 1, 1, 1, 1, 1, 1, 1, 1, 1, 1, 1, 1, 1, 1, 1, 1, 1, 1, 1, 1, 1, 1, 1, 1, 1, 1, 1, 1, 1, 1, 1, 1, 1, 1, 1, 1, 1, 1, 1, 1, 1, 1, 1, 1, 1, 1, 1, 1, 1, 1, 1, 1, 1, 1, 1, 1, 1, 1, 1, 1, 1, 1, 1, 1, 1, 1, 1, 1, 1, 1, 1, 1, 1, 1, 1, 1, 1, 1, 1, 1, 1, 1, 1, 1, 1, 1, 1, 1, 1, 1, 1, 1, 1, 1, 1, 1, 1, 1, 1, 1, 1, 1, 1, 1, 1, 1, 1, 1, 1, 1, 1, 1, 1, 1, 1, 1, 1, 1, 1, 1, 1, 1, 1, 1, 1, 1, 1, 1, 1, 1, 1, 1, 1, 1, 1, 1, 1], [1, 1, 1, 1, 1, 1, 1, 1, 1, 1, 1, 1, 1, 1, 1, 1, 1, 1, 1, 1, 1, 1, 1, 1, 1, 1, 1, 1, 1, 1, 1, 1, 1, 1, 1, 1, 1, 1, 1, 1, 1, 1, 1, 1, 1, 1, 1, 1, 1, 1, 1, 1, 1, 1, 1, 1, 1, 1, 1, 1, 1, 1, 1, 1, 1, 1, 1, 1, 1, 1, 1, 1, 1, 1, 1, 1, 1, 1, 1, 1, 1, 1, 1, 1, 1, 1, 1, 1, 1, 1, 1, 1, 1, 1, 1, 1, 1, 1, 1, 1, 1, 1, 1, 1, 1, 1, 1, 1, 1, 1, 1, 1, 0, 0, 0, 0, 0, 0, 0, 0, 0, 0, 0, 0, 0, 0, 0, 0, 0, 0, 0, 0, 0, 0, 0, 0, 0, 0, 0, 0, 0, 0, 0, 0, 0, 0, 0, 0, 0, 0, 0, 0, 0, 0, 0, 0, 0, 0, 0, 0, 0, 0, 0, 0, 0, 0, 0, 0, 0, 0, 0, 0, 0, 0, 0, 0, 0, 0, 0, 0, 0, 0, 0, 0, 0]]}"
            ]
          },
          "metadata": {},
          "execution_count": 25
        }
      ],
      "source": [
        "encoded_text = tokenize(train[:2])\n",
        "encoded_text"
      ]
    },
    {
      "cell_type": "markdown",
      "metadata": {
        "id": "bku-pHMr-osE"
      },
      "source": [
        "the first element of input_ids is longer than\n",
        "the second, so zeros have been added to that element to make them the same length.\n",
        "These zeros have a corresponding [PAD] token in the vocabulary, and the set of special tokens also includes the [CLS] and [SEP] tokens that we encountered earlier:"
      ]
    },
    {
      "cell_type": "code",
      "execution_count": 26,
      "metadata": {
        "id": "Q7FWyrMx4w7H",
        "colab": {
          "base_uri": "https://localhost:8080/"
        },
        "outputId": "064425c8-14a8-44f5-9d46-efe8cab0922f"
      },
      "outputs": [
        {
          "output_type": "execute_result",
          "data": {
            "text/plain": [
              "['[CLS]',\n",
              " 'i',\n",
              " 'love',\n",
              " 'light',\n",
              " 'crisp',\n",
              " '##y',\n",
              " 'salty',\n",
              " 'snacks',\n",
              " ',',\n",
              " 'and',\n",
              " 'soy',\n",
              " 'crisp',\n",
              " '##s',\n",
              " 'is',\n",
              " 'the',\n",
              " 'best',\n",
              " 'one',\n",
              " 'of',\n",
              " 'those',\n",
              " 'i',\n",
              " \"'\",\n",
              " 've',\n",
              " 'found',\n",
              " '.',\n",
              " 'at',\n",
              " 'only',\n",
              " '100',\n",
              " 'cal',\n",
              " '##ories',\n",
              " 'per',\n",
              " 'serving',\n",
              " '/',\n",
              " '350',\n",
              " 'cal',\n",
              " '##ories',\n",
              " 'for',\n",
              " 'the',\n",
              " 'bag',\n",
              " ',',\n",
              " 'you',\n",
              " 'could',\n",
              " 'literally',\n",
              " 'eat',\n",
              " 'the',\n",
              " 'entire',\n",
              " 'bag',\n",
              " '(',\n",
              " 'which',\n",
              " 'i',\n",
              " 'do',\n",
              " 'on',\n",
              " 'a',\n",
              " 'regular',\n",
              " 'basis',\n",
              " ')',\n",
              " 'and',\n",
              " 'not',\n",
              " 'feel',\n",
              " 'bad',\n",
              " 'about',\n",
              " 'it',\n",
              " '.',\n",
              " 'there',\n",
              " 'are',\n",
              " 'several',\n",
              " 'flavors',\n",
              " 'but',\n",
              " 'deep',\n",
              " 'sea',\n",
              " 'salt',\n",
              " 'is',\n",
              " 'my',\n",
              " 'favorite',\n",
              " 'because',\n",
              " 'it',\n",
              " 'is',\n",
              " 'subtle',\n",
              " 'and',\n",
              " 'just',\n",
              " 'enhance',\n",
              " '##s',\n",
              " 'the',\n",
              " 'natural',\n",
              " 'flavor',\n",
              " 'of',\n",
              " 'the',\n",
              " 'rice',\n",
              " 'and',\n",
              " 'soy',\n",
              " '.',\n",
              " 'so',\n",
              " 'del',\n",
              " '##ish',\n",
              " '!',\n",
              " 'shipped',\n",
              " 'fast',\n",
              " 'with',\n",
              " 'all',\n",
              " 'crisp',\n",
              " '##s',\n",
              " 'in',\n",
              " 'ta',\n",
              " '##ct',\n",
              " '.',\n",
              " 'great',\n",
              " 'purchase',\n",
              " ',',\n",
              " 're',\n",
              " '-',\n",
              " 'ordering',\n",
              " '.',\n",
              " '[SEP]',\n",
              " '[PAD]',\n",
              " '[PAD]',\n",
              " '[PAD]',\n",
              " '[PAD]',\n",
              " '[PAD]',\n",
              " '[PAD]',\n",
              " '[PAD]',\n",
              " '[PAD]',\n",
              " '[PAD]',\n",
              " '[PAD]',\n",
              " '[PAD]',\n",
              " '[PAD]',\n",
              " '[PAD]',\n",
              " '[PAD]',\n",
              " '[PAD]',\n",
              " '[PAD]',\n",
              " '[PAD]',\n",
              " '[PAD]',\n",
              " '[PAD]',\n",
              " '[PAD]',\n",
              " '[PAD]',\n",
              " '[PAD]',\n",
              " '[PAD]',\n",
              " '[PAD]',\n",
              " '[PAD]',\n",
              " '[PAD]',\n",
              " '[PAD]',\n",
              " '[PAD]',\n",
              " '[PAD]',\n",
              " '[PAD]',\n",
              " '[PAD]',\n",
              " '[PAD]',\n",
              " '[PAD]',\n",
              " '[PAD]',\n",
              " '[PAD]',\n",
              " '[PAD]',\n",
              " '[PAD]',\n",
              " '[PAD]',\n",
              " '[PAD]',\n",
              " '[PAD]',\n",
              " '[PAD]',\n",
              " '[PAD]',\n",
              " '[PAD]',\n",
              " '[PAD]',\n",
              " '[PAD]',\n",
              " '[PAD]',\n",
              " '[PAD]',\n",
              " '[PAD]',\n",
              " '[PAD]',\n",
              " '[PAD]',\n",
              " '[PAD]',\n",
              " '[PAD]',\n",
              " '[PAD]',\n",
              " '[PAD]',\n",
              " '[PAD]',\n",
              " '[PAD]',\n",
              " '[PAD]',\n",
              " '[PAD]',\n",
              " '[PAD]',\n",
              " '[PAD]',\n",
              " '[PAD]',\n",
              " '[PAD]',\n",
              " '[PAD]',\n",
              " '[PAD]',\n",
              " '[PAD]',\n",
              " '[PAD]',\n",
              " '[PAD]',\n",
              " '[PAD]',\n",
              " '[PAD]',\n",
              " '[PAD]',\n",
              " '[PAD]',\n",
              " '[PAD]',\n",
              " '[PAD]']"
            ]
          },
          "metadata": {},
          "execution_count": 26
        }
      ],
      "source": [
        "tokenizer.convert_ids_to_tokens(encoded_text.input_ids[1])"
      ]
    },
    {
      "cell_type": "markdown",
      "metadata": {
        "id": "MiAxFDaY-4vS"
      },
      "source": [
        "Also note that in addition to returning the encoded tweets as input_ids, the tokenizer returns a list of attention_mask arrays. This is because we do not want the\n",
        "model to get confused by the additional padding tokens: the attention mask allows\n",
        "the model to ignore the padded parts of the input.\n",
        "\n",
        "![image.png](data:image/png;base64,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)"
      ]
    },
    {
      "cell_type": "markdown",
      "metadata": {
        "id": "H2fDitDE_L08"
      },
      "source": [
        "Once we’ve defined a processing function, we can apply it across all the splits in the\n",
        "corpus in a single line of code:"
      ]
    },
    {
      "cell_type": "code",
      "execution_count": 27,
      "metadata": {
        "id": "KiNOz0Cf_RBs",
        "colab": {
          "base_uri": "https://localhost:8080/",
          "height": 17,
          "referenced_widgets": [
            "5535acb8e50849f0b99a9f1e7a0e01b3",
            "f6f881b50ccc436996792affa13ee4e7",
            "eceb3d9849ce4e888b6041092330de30",
            "f1878d44454347a1b7bc31dcdf141921",
            "c12fe15981864edfa35f2cc11badb759",
            "74ba1305b6b44f6d9c75e67f4b68268c",
            "f65bc15cc96f46e3b9707164bf287e49",
            "496c42dd1d0e4de8b5a29d2a726d1ff9",
            "058b03ab82a44c77badc99278f391ecd",
            "be558414d0c545fca27de7fed3cd414a",
            "228bc742f3674f3c874edc07a585582f",
            "5c3e2dba90e5474ea0afb0e66ffe02d4",
            "39b58a84458d4b03be75c5ad1614dbed",
            "a60bb3e83a104709b5540bed94ac77ff",
            "db4333d78f524ed5995ceca3506c5cb4",
            "d68314729acb4154ac436e579f7b5b1c",
            "28e3bb13a84a45a492ae07a999b8f391",
            "4e7edced928241189e556ebd778c92b9",
            "7d4203c6ec5f4309b751c67434dffb0e",
            "8bc5cd59664c449fa4f4c35bc4ec1a3b",
            "cb7892c2154447ee9057df9c898e8510",
            "4c3a6f62f6cb45a289d9408074ccbc5c"
          ]
        },
        "outputId": "1c8e7232-5137-400c-fe30-b49470f303a0"
      },
      "outputs": [
        {
          "output_type": "display_data",
          "data": {
            "text/plain": [
              "Map:   0%|          | 0/4501 [00:00<?, ? examples/s]"
            ],
            "application/vnd.jupyter.widget-view+json": {
              "version_major": 2,
              "version_minor": 0,
              "model_id": "5535acb8e50849f0b99a9f1e7a0e01b3"
            }
          },
          "metadata": {}
        },
        {
          "output_type": "display_data",
          "data": {
            "text/plain": [
              "Map:   0%|          | 0/1126 [00:00<?, ? examples/s]"
            ],
            "application/vnd.jupyter.widget-view+json": {
              "version_major": 2,
              "version_minor": 0,
              "model_id": "5c3e2dba90e5474ea0afb0e66ffe02d4"
            }
          },
          "metadata": {}
        }
      ],
      "source": [
        "train = train.map(tokenize, batched=True, batch_size=None)\n",
        "validation = validation.map(tokenize, batched=True, batch_size=None)"
      ]
    },
    {
      "cell_type": "markdown",
      "metadata": {
        "id": "WFfi6FpfIPgU"
      },
      "source": [
        "By default, the map() method operates individually on every example in the corpus,\n",
        "so setting batched=True will encode the tweets in batches. Because we’ve set\n",
        "batch_size=None, our tokenize() function will be applied on the full dataset as a\n",
        "single batch. This ensures that the input tensors and attention masks have the same\n",
        "shape globally, and we can see that this operation has added new input_ids and\n",
        "attention_mask columns to the dataset"
      ]
    },
    {
      "cell_type": "code",
      "execution_count": 28,
      "metadata": {
        "id": "qwRQkl0LG0R-",
        "colab": {
          "base_uri": "https://localhost:8080/"
        },
        "outputId": "78046557-0f86-499f-be93-3608035b6644"
      },
      "outputs": [
        {
          "output_type": "execute_result",
          "data": {
            "text/plain": [
              "['text', 'score', 'input_ids', 'attention_mask']"
            ]
          },
          "metadata": {},
          "execution_count": 28
        }
      ],
      "source": [
        "train.column_names"
      ]
    },
    {
      "cell_type": "markdown",
      "metadata": {
        "id": "0kVoPVIzIbbP"
      },
      "source": [
        "# Training a Text Classifier\n",
        "First, the text is tokenized and represented as one-hot vectors called token encodings.\n",
        "The size of the tokenizer vocabulary determines the dimension of the token encodings, and it usually consists of 20k–200k unique tokens. Next, these token encodings\n",
        "are converted to token embeddings, which are vectors living in a lower-dimensional\n",
        "space. The token embeddings are then passed through the encoder block layers to\n",
        "yield a hidden state for each input token. For the pretraining objective of language\n",
        "modeling, each hidden state is fed to a layer that predicts the masked input tokens.\n",
        "For the classification task, we replace the language modeling layer with a classification layer"
      ]
    },
    {
      "cell_type": "markdown",
      "metadata": {
        "id": "X6K0aS7MIsSL"
      },
      "source": [
        "![image.png](data:image/png;base64,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)"
      ]
    },
    {
      "cell_type": "markdown",
      "metadata": {
        "id": "TUmr_itGsfRp"
      },
      "source": [
        "## Transformers as Feature Extractors\n",
        "Using a transformer as a feature extractor is fairly simple. Freeze the body’s weights during training and use the hidden states as features for the\n",
        "classifier. The advantage of this approach is that we can quickly train a small or shallow model.\n",
        "\n",
        "![image.png](data:image/png;base64,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)"
      ]
    },
    {
      "cell_type": "markdown",
      "metadata": {
        "id": "Cl3EiOystCpU"
      },
      "source": [
        "### Using pretrained models\n"
      ]
    },
    {
      "cell_type": "code",
      "execution_count": 29,
      "metadata": {
        "id": "m9fux-a0HzQO",
        "colab": {
          "base_uri": "https://localhost:8080/",
          "height": 121,
          "referenced_widgets": [
            "2fece90c5e014ebeb75e9da766bcad05",
            "a831dd6f27834cc880c96a86db44cfce",
            "e17da21e337740ecbaf10be36347740c",
            "24b51643454e450fb2c02a21e11256b7",
            "069a0983279c483d86ed55c4accd730a",
            "c8a9fc9e49c2472e9b5debc338ba79e6",
            "81c35b2201bb4df3b1f0edb4a3ca489a",
            "1de10fdd2f0049e7b88296f0031a60b2",
            "9dc6448583974c14aaa02b581f326029",
            "79232010879c40f6950167d085c5f80f",
            "e2af2c3227d74d1f869e155d24f508a0"
          ]
        },
        "outputId": "a4a010a4-8267-4040-da35-ca1374eb40a2"
      },
      "outputs": [
        {
          "output_type": "display_data",
          "data": {
            "text/plain": [
              "Downloading pytorch_model.bin:   0%|          | 0.00/268M [00:00<?, ?B/s]"
            ],
            "application/vnd.jupyter.widget-view+json": {
              "version_major": 2,
              "version_minor": 0,
              "model_id": "2fece90c5e014ebeb75e9da766bcad05"
            }
          },
          "metadata": {}
        },
        {
          "output_type": "stream",
          "name": "stderr",
          "text": [
            "Some weights of the model checkpoint at distilbert-base-uncased were not used when initializing DistilBertModel: ['vocab_layer_norm.bias', 'vocab_projector.bias', 'vocab_transform.weight', 'vocab_projector.weight', 'vocab_layer_norm.weight', 'vocab_transform.bias']\n",
            "- This IS expected if you are initializing DistilBertModel from the checkpoint of a model trained on another task or with another architecture (e.g. initializing a BertForSequenceClassification model from a BertForPreTraining model).\n",
            "- This IS NOT expected if you are initializing DistilBertModel from the checkpoint of a model that you expect to be exactly identical (initializing a BertForSequenceClassification model from a BertForSequenceClassification model).\n"
          ]
        }
      ],
      "source": [
        "import torch\n",
        "from transformers import AutoModel\n",
        "\n",
        "model_ckpt = \"distilbert-base-uncased\"\n",
        "device = torch.device(\"cuda\" if torch.cuda.is_available() else \"cpu\")\n",
        "model = AutoModel.from_pretrained(model_ckpt).to(device)"
      ]
    },
    {
      "cell_type": "markdown",
      "metadata": {
        "id": "HzT0A6zTuWld"
      },
      "source": [
        "The AutoModel class converts the token encodings to embeddings, and then feeds\n",
        "them through the encoder stack to return the hidden states. Let’s take a look at how\n",
        "we can extract these states from our corpus.\n",
        "\n",
        "### Extracting the last hidden states\n",
        "\n",
        "To warm up, let’s retrieve the last hidden states for a single string. The first thing we\n",
        "need to do is encode the string and convert the tokens to PyTorch tensors. This can\n",
        "be done by providing the return_tensors=\"pt\" argument to the tokenizer as follows:"
      ]
    },
    {
      "cell_type": "code",
      "execution_count": 30,
      "metadata": {
        "id": "s9sjgdYstj1Y",
        "colab": {
          "base_uri": "https://localhost:8080/"
        },
        "outputId": "e85cc87a-f072-4300-e629-9bd804540c90"
      },
      "outputs": [
        {
          "output_type": "stream",
          "name": "stdout",
          "text": [
            "[\"I agree with many of these reviews.  The product tastes good - not fantastic but good.  I don't like real, greasy potato chips and prefer Baked Lays.  However if you do enjoy real, greasy potato chips, please see the review referencing Pringles and Steven Baldwin.  very funny. Do buy these if you like an ocassional salty snack but don't want to devour a large bag of fat-filled chips.  Don't buy these if you are looking for a healthy alternative to chips - eat a banana or apple instead (and not those apple chips or banana chips because they are high in sugar). If you do get the big box - just put it some place inconvenient like the basement where you will have to exert some energy in order to get them - and if you do, BONUS! you just exerted energy and maybe earned a chip or two.\"]\n",
            "Input tensor shape: torch.Size([1, 185])\n"
          ]
        },
        {
          "output_type": "execute_result",
          "data": {
            "text/plain": [
              "dict_items([('input_ids', tensor([[  101,  1045,  5993,  2007,  2116,  1997,  2122,  4391,  1012,  1996,\n",
              "          4031, 16958,  2204,  1011,  2025, 10392,  2021,  2204,  1012,  1045,\n",
              "          2123,  1005,  1056,  2066,  2613,  1010, 26484, 14557, 11772,  1998,\n",
              "          9544, 17776, 19764,  1012,  2174,  2065,  2017,  2079,  5959,  2613,\n",
              "          1010, 26484, 14557, 11772,  1010,  3531,  2156,  1996,  3319, 28789,\n",
              "         26927,  3070,  4244,  1998,  7112, 10970,  1012,  2200,  6057,  1012,\n",
              "          2079,  4965,  2122,  2065,  2017,  2066,  2019,  1051, 15671, 10992,\n",
              "          2389, 23592, 19782,  2021,  2123,  1005,  1056,  2215,  2000, 16475,\n",
              "          8162,  1037,  2312,  4524,  1997,  6638,  1011,  3561, 11772,  1012,\n",
              "          2123,  1005,  1056,  4965,  2122,  2065,  2017,  2024,  2559,  2005,\n",
              "          1037,  7965,  4522,  2000, 11772,  1011,  4521,  1037, 15212,  2030,\n",
              "          6207,  2612,  1006,  1998,  2025,  2216,  6207, 11772,  2030, 15212,\n",
              "         11772,  2138,  2027,  2024,  2152,  1999,  5699,  1007,  1012,  2065,\n",
              "          2017,  2079,  2131,  1996,  2502,  3482,  1011,  2074,  2404,  2009,\n",
              "          2070,  2173,  4297,  2239,  8159, 11638,  2066,  1996,  8102,  2073,\n",
              "          2017,  2097,  2031,  2000,  4654,  8743,  2070,  2943,  1999,  2344,\n",
              "          2000,  2131,  2068,  1011,  1998,  2065,  2017,  2079,  1010,  6781,\n",
              "           999,  2017,  2074,  4654, 28728,  2943,  1998,  2672,  3687,  1037,\n",
              "          9090,  2030,  2048,  1012,   102]])), ('attention_mask', tensor([[1, 1, 1, 1, 1, 1, 1, 1, 1, 1, 1, 1, 1, 1, 1, 1, 1, 1, 1, 1, 1, 1, 1, 1,\n",
              "         1, 1, 1, 1, 1, 1, 1, 1, 1, 1, 1, 1, 1, 1, 1, 1, 1, 1, 1, 1, 1, 1, 1, 1,\n",
              "         1, 1, 1, 1, 1, 1, 1, 1, 1, 1, 1, 1, 1, 1, 1, 1, 1, 1, 1, 1, 1, 1, 1, 1,\n",
              "         1, 1, 1, 1, 1, 1, 1, 1, 1, 1, 1, 1, 1, 1, 1, 1, 1, 1, 1, 1, 1, 1, 1, 1,\n",
              "         1, 1, 1, 1, 1, 1, 1, 1, 1, 1, 1, 1, 1, 1, 1, 1, 1, 1, 1, 1, 1, 1, 1, 1,\n",
              "         1, 1, 1, 1, 1, 1, 1, 1, 1, 1, 1, 1, 1, 1, 1, 1, 1, 1, 1, 1, 1, 1, 1, 1,\n",
              "         1, 1, 1, 1, 1, 1, 1, 1, 1, 1, 1, 1, 1, 1, 1, 1, 1, 1, 1, 1, 1, 1, 1, 1,\n",
              "         1, 1, 1, 1, 1, 1, 1, 1, 1, 1, 1, 1, 1, 1, 1, 1, 1]]))])"
            ]
          },
          "metadata": {},
          "execution_count": 30
        }
      ],
      "source": [
        "text = train[\"text\"][:1]\n",
        "print(text)\n",
        "inputs = tokenizer(text, return_tensors=\"pt\")\n",
        "print(f\"Input tensor shape: {inputs['input_ids'].size()}\")\n",
        "inputs.items()"
      ]
    },
    {
      "cell_type": "markdown",
      "metadata": {
        "id": "RU0KfB56z8fL"
      },
      "source": [
        "As we can see, the resulting tensor has the shape [batch_size, n_tokens]. Now that\n",
        "we have the encodings as a tensor, the final step is to place them on the same device\n",
        "as the model and pass the inputs as follows"
      ]
    },
    {
      "cell_type": "code",
      "execution_count": 31,
      "metadata": {
        "id": "dqABNdtOxihR",
        "colab": {
          "base_uri": "https://localhost:8080/"
        },
        "outputId": "1295785e-7bc5-432a-8974-b4ee0104db25"
      },
      "outputs": [
        {
          "output_type": "stream",
          "name": "stdout",
          "text": [
            "BaseModelOutput(last_hidden_state=tensor([[[-5.5595e-02,  2.7239e-02,  3.7924e-02,  ...,  7.1666e-02,\n",
            "           4.7708e-01,  3.7521e-01],\n",
            "         [ 3.0634e-01,  1.6644e-01, -7.0139e-02,  ...,  2.0043e-01,\n",
            "           1.1409e+00,  7.0726e-02],\n",
            "         [ 1.5341e-01,  3.6005e-01,  5.1233e-01,  ...,  9.8923e-02,\n",
            "           4.2157e-01,  3.1390e-01],\n",
            "         ...,\n",
            "         [-1.2242e-01, -7.4488e-01, -4.0640e-01,  ..., -1.2414e-01,\n",
            "           4.4906e-01, -3.3694e-01],\n",
            "         [-2.6068e-01, -7.4102e-01, -9.6663e-02,  ...,  5.7333e-01,\n",
            "           1.8706e-01, -3.1601e-01],\n",
            "         [ 3.2105e-04,  1.9202e-01,  3.8353e-01,  ...,  5.5017e-01,\n",
            "           4.3595e-01, -1.2949e-01]]]), hidden_states=None, attentions=None)\n"
          ]
        }
      ],
      "source": [
        "inputs = {k:v.to(device) for k,v in inputs.items()}\n",
        "\n",
        "# Here we’ve used the torch.no_grad() context manager to disable the automatic calculation of the gradient.\n",
        "# This is useful for inference since it reduces the memory foot print of the computations. \n",
        "with torch.no_grad(): \n",
        "  outputs = model(**inputs) # ** pass a variable number keyword arguments (keys and values.)\n",
        "print(outputs)"
      ]
    },
    {
      "cell_type": "code",
      "execution_count": 32,
      "metadata": {
        "id": "qWs4tMUk0Wzx",
        "colab": {
          "base_uri": "https://localhost:8080/"
        },
        "outputId": "2de95a5f-410e-4e3a-9298-2221b5ae174d"
      },
      "outputs": [
        {
          "output_type": "execute_result",
          "data": {
            "text/plain": [
              "torch.Size([1, 185, 768])"
            ]
          },
          "metadata": {},
          "execution_count": 32
        }
      ],
      "source": [
        "outputs.last_hidden_state.size()"
      ]
    },
    {
      "cell_type": "markdown",
      "metadata": {
        "id": "bZFHIIXI1fLR"
      },
      "source": [
        "Looking at the hidden state tensor, we see that it has the shape [batch_size,\n",
        "n_tokens, hidden_dim]. In other words, a 768-dimensional vector is returned for\n",
        "each of the input tokens.\n",
        "\n",
        "For classification tasks, it is common practice to just use\n",
        "the hidden state associated with the [CLS] token as the input feature. Since this token\n",
        "appears at the start of each sequence, we can extract it by simply indexing into\n",
        "outputs.last_hidden_state as follows"
      ]
    },
    {
      "cell_type": "code",
      "execution_count": 33,
      "metadata": {
        "id": "lYVR2cWO1ajO",
        "colab": {
          "base_uri": "https://localhost:8080/"
        },
        "outputId": "8eac898a-911f-45ae-bea0-5017ed06edca"
      },
      "outputs": [
        {
          "output_type": "execute_result",
          "data": {
            "text/plain": [
              "torch.Size([1, 768])"
            ]
          },
          "metadata": {},
          "execution_count": 33
        }
      ],
      "source": [
        "outputs.last_hidden_state[:,0].size()"
      ]
    },
    {
      "cell_type": "markdown",
      "metadata": {
        "id": "LCqA5VZI233W"
      },
      "source": [
        "Now we know how to get the last hidden state for a single string; let’s do the same for\n",
        "the whole dataset by creating a new hidden_state column that stores all these vectors"
      ]
    },
    {
      "cell_type": "code",
      "execution_count": 34,
      "metadata": {
        "id": "-k5J0n9s23Jl"
      },
      "outputs": [],
      "source": [
        "def extract_hidden_states(batch):\n",
        "  # Place model inputs on the GPU\n",
        "  inputs = {k:v.to(device) for k,v in batch.items() if k in tokenizer.model_input_names}\n",
        "\n",
        "  # Extract last hidden states\n",
        "  with torch.no_grad():\n",
        "    last_hidden_state = model(**inputs).last_hidden_state\n",
        "\n",
        "  # Return vector for [CLS] token\n",
        "  return {\"hidden_state\": last_hidden_state[:,0].cpu().numpy()} # we place the final hidden state back on the CPU as a NumPy array\n",
        "  # The map() method requires the processing function to return Python or NumPy objects when\n",
        "  # we’re using batched inputs."
      ]
    },
    {
      "cell_type": "markdown",
      "metadata": {
        "id": "HskdtYja4b1A"
      },
      "source": [
        "Since our model expects tensors as inputs, the next thing to do is convert the\n",
        "input_ids and attention_mask columns to the \"torch\" format, as follows:"
      ]
    },
    {
      "cell_type": "code",
      "execution_count": 35,
      "metadata": {
        "id": "6cenzzm82Bza",
        "colab": {
          "base_uri": "https://localhost:8080/"
        },
        "outputId": "15e22d0d-7d63-45dd-97e5-6186527f475a"
      },
      "outputs": [
        {
          "output_type": "execute_result",
          "data": {
            "text/plain": [
              "(Dataset({\n",
              "     features: ['text', 'score', 'input_ids', 'attention_mask'],\n",
              "     num_rows: 4501\n",
              " }),\n",
              " Dataset({\n",
              "     features: ['text', 'score', 'input_ids', 'attention_mask'],\n",
              "     num_rows: 1126\n",
              " }))"
            ]
          },
          "metadata": {},
          "execution_count": 35
        }
      ],
      "source": [
        "train.set_format(\"torch\", columns=[\"input_ids\", \"attention_mask\", \"score\"])\n",
        "validation.set_format(\"torch\", columns=[\"input_ids\", \"attention_mask\", \"score\"])\n",
        "\n",
        "train, validation"
      ]
    },
    {
      "cell_type": "markdown",
      "metadata": {
        "id": "IKZhI4_e43qI"
      },
      "source": [
        "We can then go ahead and extract the hidden states across all splits in one go:\n"
      ]
    },
    {
      "cell_type": "code",
      "execution_count": 36,
      "metadata": {
        "id": "ig8G2g3k4eDf",
        "colab": {
          "base_uri": "https://localhost:8080/",
          "height": 343,
          "referenced_widgets": [
            "adb4468fd7b44fc8baf3c306e7df6b6c",
            "615406be793d44c0a4311f2c21cfd27d",
            "a6dc21abb1b644998cd13e2f87f35eeb",
            "e3fc89bbf394486c80c62aeaa95ebb8c",
            "c1b04f9c92514a20ab4999c432778b63",
            "d9553eb7755c4267817758182fdda35a",
            "1b9a3451d4ae4c828cd65d2f07508474",
            "fee394d20bef449aacf714539deac5ed",
            "30a92fb4d6c242c5b658dcc68a3995e9",
            "65f3c8684d1f41c88f093f89b616959c",
            "988e8cda22a0411faf02726d2a593ca4"
          ]
        },
        "outputId": "6d88801e-27da-4301-ccd8-df1f645194bf"
      },
      "outputs": [
        {
          "output_type": "display_data",
          "data": {
            "text/plain": [
              "Map:   0%|          | 0/4501 [00:00<?, ? examples/s]"
            ],
            "application/vnd.jupyter.widget-view+json": {
              "version_major": 2,
              "version_minor": 0,
              "model_id": "adb4468fd7b44fc8baf3c306e7df6b6c"
            }
          },
          "metadata": {}
        },
        {
          "output_type": "error",
          "ename": "KeyboardInterrupt",
          "evalue": "ignored",
          "traceback": [
            "\u001b[0;31m---------------------------------------------------------------------------\u001b[0m",
            "\u001b[0;31mKeyboardInterrupt\u001b[0m                         Traceback (most recent call last)",
            "\u001b[0;32m<ipython-input-36-49dd78354662>\u001b[0m in \u001b[0;36m<cell line: 1>\u001b[0;34m()\u001b[0m\n\u001b[0;32m----> 1\u001b[0;31m \u001b[0mtrain\u001b[0m \u001b[0;34m=\u001b[0m \u001b[0mtrain\u001b[0m\u001b[0;34m.\u001b[0m\u001b[0mmap\u001b[0m\u001b[0;34m(\u001b[0m\u001b[0mextract_hidden_states\u001b[0m\u001b[0;34m,\u001b[0m \u001b[0mbatched\u001b[0m\u001b[0;34m=\u001b[0m\u001b[0;32mTrue\u001b[0m\u001b[0;34m,\u001b[0m \u001b[0mbatch_size\u001b[0m\u001b[0;34m=\u001b[0m\u001b[0;36m256\u001b[0m\u001b[0;34m)\u001b[0m\u001b[0;34m\u001b[0m\u001b[0;34m\u001b[0m\u001b[0m\n\u001b[0m",
            "\u001b[0;32m/usr/local/lib/python3.10/dist-packages/datasets/arrow_dataset.py\u001b[0m in \u001b[0;36mwrapper\u001b[0;34m(*args, **kwargs)\u001b[0m\n\u001b[1;32m    576\u001b[0m             \u001b[0mself\u001b[0m\u001b[0;34m:\u001b[0m \u001b[0;34m\"Dataset\"\u001b[0m \u001b[0;34m=\u001b[0m \u001b[0mkwargs\u001b[0m\u001b[0;34m.\u001b[0m\u001b[0mpop\u001b[0m\u001b[0;34m(\u001b[0m\u001b[0;34m\"self\"\u001b[0m\u001b[0;34m)\u001b[0m\u001b[0;34m\u001b[0m\u001b[0;34m\u001b[0m\u001b[0m\n\u001b[1;32m    577\u001b[0m         \u001b[0;31m# apply actual function\u001b[0m\u001b[0;34m\u001b[0m\u001b[0;34m\u001b[0m\u001b[0m\n\u001b[0;32m--> 578\u001b[0;31m         \u001b[0mout\u001b[0m\u001b[0;34m:\u001b[0m \u001b[0mUnion\u001b[0m\u001b[0;34m[\u001b[0m\u001b[0;34m\"Dataset\"\u001b[0m\u001b[0;34m,\u001b[0m \u001b[0;34m\"DatasetDict\"\u001b[0m\u001b[0;34m]\u001b[0m \u001b[0;34m=\u001b[0m \u001b[0mfunc\u001b[0m\u001b[0;34m(\u001b[0m\u001b[0mself\u001b[0m\u001b[0;34m,\u001b[0m \u001b[0;34m*\u001b[0m\u001b[0margs\u001b[0m\u001b[0;34m,\u001b[0m \u001b[0;34m**\u001b[0m\u001b[0mkwargs\u001b[0m\u001b[0;34m)\u001b[0m\u001b[0;34m\u001b[0m\u001b[0;34m\u001b[0m\u001b[0m\n\u001b[0m\u001b[1;32m    579\u001b[0m         \u001b[0mdatasets\u001b[0m\u001b[0;34m:\u001b[0m \u001b[0mList\u001b[0m\u001b[0;34m[\u001b[0m\u001b[0;34m\"Dataset\"\u001b[0m\u001b[0;34m]\u001b[0m \u001b[0;34m=\u001b[0m \u001b[0mlist\u001b[0m\u001b[0;34m(\u001b[0m\u001b[0mout\u001b[0m\u001b[0;34m.\u001b[0m\u001b[0mvalues\u001b[0m\u001b[0;34m(\u001b[0m\u001b[0;34m)\u001b[0m\u001b[0;34m)\u001b[0m \u001b[0;32mif\u001b[0m \u001b[0misinstance\u001b[0m\u001b[0;34m(\u001b[0m\u001b[0mout\u001b[0m\u001b[0;34m,\u001b[0m \u001b[0mdict\u001b[0m\u001b[0;34m)\u001b[0m \u001b[0;32melse\u001b[0m \u001b[0;34m[\u001b[0m\u001b[0mout\u001b[0m\u001b[0;34m]\u001b[0m\u001b[0;34m\u001b[0m\u001b[0;34m\u001b[0m\u001b[0m\n\u001b[1;32m    580\u001b[0m         \u001b[0;32mfor\u001b[0m \u001b[0mdataset\u001b[0m \u001b[0;32min\u001b[0m \u001b[0mdatasets\u001b[0m\u001b[0;34m:\u001b[0m\u001b[0;34m\u001b[0m\u001b[0;34m\u001b[0m\u001b[0m\n",
            "\u001b[0;32m/usr/local/lib/python3.10/dist-packages/datasets/arrow_dataset.py\u001b[0m in \u001b[0;36mwrapper\u001b[0;34m(*args, **kwargs)\u001b[0m\n\u001b[1;32m    541\u001b[0m         }\n\u001b[1;32m    542\u001b[0m         \u001b[0;31m# apply actual function\u001b[0m\u001b[0;34m\u001b[0m\u001b[0;34m\u001b[0m\u001b[0m\n\u001b[0;32m--> 543\u001b[0;31m         \u001b[0mout\u001b[0m\u001b[0;34m:\u001b[0m \u001b[0mUnion\u001b[0m\u001b[0;34m[\u001b[0m\u001b[0;34m\"Dataset\"\u001b[0m\u001b[0;34m,\u001b[0m \u001b[0;34m\"DatasetDict\"\u001b[0m\u001b[0;34m]\u001b[0m \u001b[0;34m=\u001b[0m \u001b[0mfunc\u001b[0m\u001b[0;34m(\u001b[0m\u001b[0mself\u001b[0m\u001b[0;34m,\u001b[0m \u001b[0;34m*\u001b[0m\u001b[0margs\u001b[0m\u001b[0;34m,\u001b[0m \u001b[0;34m**\u001b[0m\u001b[0mkwargs\u001b[0m\u001b[0;34m)\u001b[0m\u001b[0;34m\u001b[0m\u001b[0;34m\u001b[0m\u001b[0m\n\u001b[0m\u001b[1;32m    544\u001b[0m         \u001b[0mdatasets\u001b[0m\u001b[0;34m:\u001b[0m \u001b[0mList\u001b[0m\u001b[0;34m[\u001b[0m\u001b[0;34m\"Dataset\"\u001b[0m\u001b[0;34m]\u001b[0m \u001b[0;34m=\u001b[0m \u001b[0mlist\u001b[0m\u001b[0;34m(\u001b[0m\u001b[0mout\u001b[0m\u001b[0;34m.\u001b[0m\u001b[0mvalues\u001b[0m\u001b[0;34m(\u001b[0m\u001b[0;34m)\u001b[0m\u001b[0;34m)\u001b[0m \u001b[0;32mif\u001b[0m \u001b[0misinstance\u001b[0m\u001b[0;34m(\u001b[0m\u001b[0mout\u001b[0m\u001b[0;34m,\u001b[0m \u001b[0mdict\u001b[0m\u001b[0;34m)\u001b[0m \u001b[0;32melse\u001b[0m \u001b[0;34m[\u001b[0m\u001b[0mout\u001b[0m\u001b[0;34m]\u001b[0m\u001b[0;34m\u001b[0m\u001b[0;34m\u001b[0m\u001b[0m\n\u001b[1;32m    545\u001b[0m         \u001b[0;31m# re-apply format to the output\u001b[0m\u001b[0;34m\u001b[0m\u001b[0;34m\u001b[0m\u001b[0m\n",
            "\u001b[0;32m/usr/local/lib/python3.10/dist-packages/datasets/arrow_dataset.py\u001b[0m in \u001b[0;36mmap\u001b[0;34m(self, function, with_indices, with_rank, input_columns, batched, batch_size, drop_last_batch, remove_columns, keep_in_memory, load_from_cache_file, cache_file_name, writer_batch_size, features, disable_nullable, fn_kwargs, num_proc, suffix_template, new_fingerprint, desc)\u001b[0m\n\u001b[1;32m   3071\u001b[0m                     \u001b[0mdesc\u001b[0m\u001b[0;34m=\u001b[0m\u001b[0mdesc\u001b[0m \u001b[0;32mor\u001b[0m \u001b[0;34m\"Map\"\u001b[0m\u001b[0;34m,\u001b[0m\u001b[0;34m\u001b[0m\u001b[0;34m\u001b[0m\u001b[0m\n\u001b[1;32m   3072\u001b[0m                 ) as pbar:\n\u001b[0;32m-> 3073\u001b[0;31m                     \u001b[0;32mfor\u001b[0m \u001b[0mrank\u001b[0m\u001b[0;34m,\u001b[0m \u001b[0mdone\u001b[0m\u001b[0;34m,\u001b[0m \u001b[0mcontent\u001b[0m \u001b[0;32min\u001b[0m \u001b[0mDataset\u001b[0m\u001b[0;34m.\u001b[0m\u001b[0m_map_single\u001b[0m\u001b[0;34m(\u001b[0m\u001b[0;34m**\u001b[0m\u001b[0mdataset_kwargs\u001b[0m\u001b[0;34m)\u001b[0m\u001b[0;34m:\u001b[0m\u001b[0;34m\u001b[0m\u001b[0;34m\u001b[0m\u001b[0m\n\u001b[0m\u001b[1;32m   3074\u001b[0m                         \u001b[0;32mif\u001b[0m \u001b[0mdone\u001b[0m\u001b[0;34m:\u001b[0m\u001b[0;34m\u001b[0m\u001b[0;34m\u001b[0m\u001b[0m\n\u001b[1;32m   3075\u001b[0m                             \u001b[0mshards_done\u001b[0m \u001b[0;34m+=\u001b[0m \u001b[0;36m1\u001b[0m\u001b[0;34m\u001b[0m\u001b[0;34m\u001b[0m\u001b[0m\n",
            "\u001b[0;32m/usr/local/lib/python3.10/dist-packages/datasets/arrow_dataset.py\u001b[0m in \u001b[0;36m_map_single\u001b[0;34m(shard, function, with_indices, with_rank, input_columns, batched, batch_size, drop_last_batch, remove_columns, keep_in_memory, cache_file_name, writer_batch_size, features, disable_nullable, fn_kwargs, new_fingerprint, rank, offset)\u001b[0m\n\u001b[1;32m   3447\u001b[0m                         )  # Something simpler?\n\u001b[1;32m   3448\u001b[0m                         \u001b[0;32mtry\u001b[0m\u001b[0;34m:\u001b[0m\u001b[0;34m\u001b[0m\u001b[0;34m\u001b[0m\u001b[0m\n\u001b[0;32m-> 3449\u001b[0;31m                             batch = apply_function_on_filtered_inputs(\n\u001b[0m\u001b[1;32m   3450\u001b[0m                                 \u001b[0mbatch\u001b[0m\u001b[0;34m,\u001b[0m\u001b[0;34m\u001b[0m\u001b[0;34m\u001b[0m\u001b[0m\n\u001b[1;32m   3451\u001b[0m                                 \u001b[0mindices\u001b[0m\u001b[0;34m,\u001b[0m\u001b[0;34m\u001b[0m\u001b[0;34m\u001b[0m\u001b[0m\n",
            "\u001b[0;32m/usr/local/lib/python3.10/dist-packages/datasets/arrow_dataset.py\u001b[0m in \u001b[0;36mapply_function_on_filtered_inputs\u001b[0;34m(pa_inputs, indices, check_same_num_examples, offset)\u001b[0m\n\u001b[1;32m   3328\u001b[0m             \u001b[0;32mif\u001b[0m \u001b[0mwith_rank\u001b[0m\u001b[0;34m:\u001b[0m\u001b[0;34m\u001b[0m\u001b[0;34m\u001b[0m\u001b[0m\n\u001b[1;32m   3329\u001b[0m                 \u001b[0madditional_args\u001b[0m \u001b[0;34m+=\u001b[0m \u001b[0;34m(\u001b[0m\u001b[0mrank\u001b[0m\u001b[0;34m,\u001b[0m\u001b[0;34m)\u001b[0m\u001b[0;34m\u001b[0m\u001b[0;34m\u001b[0m\u001b[0m\n\u001b[0;32m-> 3330\u001b[0;31m             \u001b[0mprocessed_inputs\u001b[0m \u001b[0;34m=\u001b[0m \u001b[0mfunction\u001b[0m\u001b[0;34m(\u001b[0m\u001b[0;34m*\u001b[0m\u001b[0mfn_args\u001b[0m\u001b[0;34m,\u001b[0m \u001b[0;34m*\u001b[0m\u001b[0madditional_args\u001b[0m\u001b[0;34m,\u001b[0m \u001b[0;34m**\u001b[0m\u001b[0mfn_kwargs\u001b[0m\u001b[0;34m)\u001b[0m\u001b[0;34m\u001b[0m\u001b[0;34m\u001b[0m\u001b[0m\n\u001b[0m\u001b[1;32m   3331\u001b[0m             \u001b[0;32mif\u001b[0m \u001b[0misinstance\u001b[0m\u001b[0;34m(\u001b[0m\u001b[0mprocessed_inputs\u001b[0m\u001b[0;34m,\u001b[0m \u001b[0mLazyDict\u001b[0m\u001b[0;34m)\u001b[0m\u001b[0;34m:\u001b[0m\u001b[0;34m\u001b[0m\u001b[0;34m\u001b[0m\u001b[0m\n\u001b[1;32m   3332\u001b[0m                 processed_inputs = {\n",
            "\u001b[0;32m<ipython-input-34-805dc6823531>\u001b[0m in \u001b[0;36mextract_hidden_states\u001b[0;34m(batch)\u001b[0m\n\u001b[1;32m      5\u001b[0m   \u001b[0;31m# Extract last hidden states\u001b[0m\u001b[0;34m\u001b[0m\u001b[0;34m\u001b[0m\u001b[0m\n\u001b[1;32m      6\u001b[0m   \u001b[0;32mwith\u001b[0m \u001b[0mtorch\u001b[0m\u001b[0;34m.\u001b[0m\u001b[0mno_grad\u001b[0m\u001b[0;34m(\u001b[0m\u001b[0;34m)\u001b[0m\u001b[0;34m:\u001b[0m\u001b[0;34m\u001b[0m\u001b[0;34m\u001b[0m\u001b[0m\n\u001b[0;32m----> 7\u001b[0;31m     \u001b[0mlast_hidden_state\u001b[0m \u001b[0;34m=\u001b[0m \u001b[0mmodel\u001b[0m\u001b[0;34m(\u001b[0m\u001b[0;34m**\u001b[0m\u001b[0minputs\u001b[0m\u001b[0;34m)\u001b[0m\u001b[0;34m.\u001b[0m\u001b[0mlast_hidden_state\u001b[0m\u001b[0;34m\u001b[0m\u001b[0;34m\u001b[0m\u001b[0m\n\u001b[0m\u001b[1;32m      8\u001b[0m \u001b[0;34m\u001b[0m\u001b[0m\n\u001b[1;32m      9\u001b[0m   \u001b[0;31m# Return vector for [CLS] token\u001b[0m\u001b[0;34m\u001b[0m\u001b[0;34m\u001b[0m\u001b[0m\n",
            "\u001b[0;32m/usr/local/lib/python3.10/dist-packages/torch/nn/modules/module.py\u001b[0m in \u001b[0;36m_call_impl\u001b[0;34m(self, *args, **kwargs)\u001b[0m\n\u001b[1;32m   1499\u001b[0m                 \u001b[0;32mor\u001b[0m \u001b[0m_global_backward_pre_hooks\u001b[0m \u001b[0;32mor\u001b[0m \u001b[0m_global_backward_hooks\u001b[0m\u001b[0;34m\u001b[0m\u001b[0;34m\u001b[0m\u001b[0m\n\u001b[1;32m   1500\u001b[0m                 or _global_forward_hooks or _global_forward_pre_hooks):\n\u001b[0;32m-> 1501\u001b[0;31m             \u001b[0;32mreturn\u001b[0m \u001b[0mforward_call\u001b[0m\u001b[0;34m(\u001b[0m\u001b[0;34m*\u001b[0m\u001b[0margs\u001b[0m\u001b[0;34m,\u001b[0m \u001b[0;34m**\u001b[0m\u001b[0mkwargs\u001b[0m\u001b[0;34m)\u001b[0m\u001b[0;34m\u001b[0m\u001b[0;34m\u001b[0m\u001b[0m\n\u001b[0m\u001b[1;32m   1502\u001b[0m         \u001b[0;31m# Do not call functions when jit is used\u001b[0m\u001b[0;34m\u001b[0m\u001b[0;34m\u001b[0m\u001b[0m\n\u001b[1;32m   1503\u001b[0m         \u001b[0mfull_backward_hooks\u001b[0m\u001b[0;34m,\u001b[0m \u001b[0mnon_full_backward_hooks\u001b[0m \u001b[0;34m=\u001b[0m \u001b[0;34m[\u001b[0m\u001b[0;34m]\u001b[0m\u001b[0;34m,\u001b[0m \u001b[0;34m[\u001b[0m\u001b[0;34m]\u001b[0m\u001b[0;34m\u001b[0m\u001b[0;34m\u001b[0m\u001b[0m\n",
            "\u001b[0;32m/usr/local/lib/python3.10/dist-packages/transformers/models/distilbert/modeling_distilbert.py\u001b[0m in \u001b[0;36mforward\u001b[0;34m(self, input_ids, attention_mask, head_mask, inputs_embeds, output_attentions, output_hidden_states, return_dict)\u001b[0m\n\u001b[1;32m    581\u001b[0m         \u001b[0membeddings\u001b[0m \u001b[0;34m=\u001b[0m \u001b[0mself\u001b[0m\u001b[0;34m.\u001b[0m\u001b[0membeddings\u001b[0m\u001b[0;34m(\u001b[0m\u001b[0minput_ids\u001b[0m\u001b[0;34m,\u001b[0m \u001b[0minputs_embeds\u001b[0m\u001b[0;34m)\u001b[0m  \u001b[0;31m# (bs, seq_length, dim)\u001b[0m\u001b[0;34m\u001b[0m\u001b[0;34m\u001b[0m\u001b[0m\n\u001b[1;32m    582\u001b[0m \u001b[0;34m\u001b[0m\u001b[0m\n\u001b[0;32m--> 583\u001b[0;31m         return self.transformer(\n\u001b[0m\u001b[1;32m    584\u001b[0m             \u001b[0mx\u001b[0m\u001b[0;34m=\u001b[0m\u001b[0membeddings\u001b[0m\u001b[0;34m,\u001b[0m\u001b[0;34m\u001b[0m\u001b[0;34m\u001b[0m\u001b[0m\n\u001b[1;32m    585\u001b[0m             \u001b[0mattn_mask\u001b[0m\u001b[0;34m=\u001b[0m\u001b[0mattention_mask\u001b[0m\u001b[0;34m,\u001b[0m\u001b[0;34m\u001b[0m\u001b[0;34m\u001b[0m\u001b[0m\n",
            "\u001b[0;32m/usr/local/lib/python3.10/dist-packages/torch/nn/modules/module.py\u001b[0m in \u001b[0;36m_call_impl\u001b[0;34m(self, *args, **kwargs)\u001b[0m\n\u001b[1;32m   1499\u001b[0m                 \u001b[0;32mor\u001b[0m \u001b[0m_global_backward_pre_hooks\u001b[0m \u001b[0;32mor\u001b[0m \u001b[0m_global_backward_hooks\u001b[0m\u001b[0;34m\u001b[0m\u001b[0;34m\u001b[0m\u001b[0m\n\u001b[1;32m   1500\u001b[0m                 or _global_forward_hooks or _global_forward_pre_hooks):\n\u001b[0;32m-> 1501\u001b[0;31m             \u001b[0;32mreturn\u001b[0m \u001b[0mforward_call\u001b[0m\u001b[0;34m(\u001b[0m\u001b[0;34m*\u001b[0m\u001b[0margs\u001b[0m\u001b[0;34m,\u001b[0m \u001b[0;34m**\u001b[0m\u001b[0mkwargs\u001b[0m\u001b[0;34m)\u001b[0m\u001b[0;34m\u001b[0m\u001b[0;34m\u001b[0m\u001b[0m\n\u001b[0m\u001b[1;32m   1502\u001b[0m         \u001b[0;31m# Do not call functions when jit is used\u001b[0m\u001b[0;34m\u001b[0m\u001b[0;34m\u001b[0m\u001b[0m\n\u001b[1;32m   1503\u001b[0m         \u001b[0mfull_backward_hooks\u001b[0m\u001b[0;34m,\u001b[0m \u001b[0mnon_full_backward_hooks\u001b[0m \u001b[0;34m=\u001b[0m \u001b[0;34m[\u001b[0m\u001b[0;34m]\u001b[0m\u001b[0;34m,\u001b[0m \u001b[0;34m[\u001b[0m\u001b[0;34m]\u001b[0m\u001b[0;34m\u001b[0m\u001b[0;34m\u001b[0m\u001b[0m\n",
            "\u001b[0;32m/usr/local/lib/python3.10/dist-packages/transformers/models/distilbert/modeling_distilbert.py\u001b[0m in \u001b[0;36mforward\u001b[0;34m(self, x, attn_mask, head_mask, output_attentions, output_hidden_states, return_dict)\u001b[0m\n\u001b[1;32m    357\u001b[0m                 \u001b[0mall_hidden_states\u001b[0m \u001b[0;34m=\u001b[0m \u001b[0mall_hidden_states\u001b[0m \u001b[0;34m+\u001b[0m \u001b[0;34m(\u001b[0m\u001b[0mhidden_state\u001b[0m\u001b[0;34m,\u001b[0m\u001b[0;34m)\u001b[0m\u001b[0;34m\u001b[0m\u001b[0;34m\u001b[0m\u001b[0m\n\u001b[1;32m    358\u001b[0m \u001b[0;34m\u001b[0m\u001b[0m\n\u001b[0;32m--> 359\u001b[0;31m             layer_outputs = layer_module(\n\u001b[0m\u001b[1;32m    360\u001b[0m                 \u001b[0mx\u001b[0m\u001b[0;34m=\u001b[0m\u001b[0mhidden_state\u001b[0m\u001b[0;34m,\u001b[0m \u001b[0mattn_mask\u001b[0m\u001b[0;34m=\u001b[0m\u001b[0mattn_mask\u001b[0m\u001b[0;34m,\u001b[0m \u001b[0mhead_mask\u001b[0m\u001b[0;34m=\u001b[0m\u001b[0mhead_mask\u001b[0m\u001b[0;34m[\u001b[0m\u001b[0mi\u001b[0m\u001b[0;34m]\u001b[0m\u001b[0;34m,\u001b[0m \u001b[0moutput_attentions\u001b[0m\u001b[0;34m=\u001b[0m\u001b[0moutput_attentions\u001b[0m\u001b[0;34m\u001b[0m\u001b[0;34m\u001b[0m\u001b[0m\n\u001b[1;32m    361\u001b[0m             )\n",
            "\u001b[0;32m/usr/local/lib/python3.10/dist-packages/torch/nn/modules/module.py\u001b[0m in \u001b[0;36m_call_impl\u001b[0;34m(self, *args, **kwargs)\u001b[0m\n\u001b[1;32m   1499\u001b[0m                 \u001b[0;32mor\u001b[0m \u001b[0m_global_backward_pre_hooks\u001b[0m \u001b[0;32mor\u001b[0m \u001b[0m_global_backward_hooks\u001b[0m\u001b[0;34m\u001b[0m\u001b[0;34m\u001b[0m\u001b[0m\n\u001b[1;32m   1500\u001b[0m                 or _global_forward_hooks or _global_forward_pre_hooks):\n\u001b[0;32m-> 1501\u001b[0;31m             \u001b[0;32mreturn\u001b[0m \u001b[0mforward_call\u001b[0m\u001b[0;34m(\u001b[0m\u001b[0;34m*\u001b[0m\u001b[0margs\u001b[0m\u001b[0;34m,\u001b[0m \u001b[0;34m**\u001b[0m\u001b[0mkwargs\u001b[0m\u001b[0;34m)\u001b[0m\u001b[0;34m\u001b[0m\u001b[0;34m\u001b[0m\u001b[0m\n\u001b[0m\u001b[1;32m   1502\u001b[0m         \u001b[0;31m# Do not call functions when jit is used\u001b[0m\u001b[0;34m\u001b[0m\u001b[0;34m\u001b[0m\u001b[0m\n\u001b[1;32m   1503\u001b[0m         \u001b[0mfull_backward_hooks\u001b[0m\u001b[0;34m,\u001b[0m \u001b[0mnon_full_backward_hooks\u001b[0m \u001b[0;34m=\u001b[0m \u001b[0;34m[\u001b[0m\u001b[0;34m]\u001b[0m\u001b[0;34m,\u001b[0m \u001b[0;34m[\u001b[0m\u001b[0;34m]\u001b[0m\u001b[0;34m\u001b[0m\u001b[0;34m\u001b[0m\u001b[0m\n",
            "\u001b[0;32m/usr/local/lib/python3.10/dist-packages/transformers/models/distilbert/modeling_distilbert.py\u001b[0m in \u001b[0;36mforward\u001b[0;34m(self, x, attn_mask, head_mask, output_attentions)\u001b[0m\n\u001b[1;32m    311\u001b[0m \u001b[0;34m\u001b[0m\u001b[0m\n\u001b[1;32m    312\u001b[0m         \u001b[0;31m# Feed Forward Network\u001b[0m\u001b[0;34m\u001b[0m\u001b[0;34m\u001b[0m\u001b[0m\n\u001b[0;32m--> 313\u001b[0;31m         \u001b[0mffn_output\u001b[0m \u001b[0;34m=\u001b[0m \u001b[0mself\u001b[0m\u001b[0;34m.\u001b[0m\u001b[0mffn\u001b[0m\u001b[0;34m(\u001b[0m\u001b[0msa_output\u001b[0m\u001b[0;34m)\u001b[0m  \u001b[0;31m# (bs, seq_length, dim)\u001b[0m\u001b[0;34m\u001b[0m\u001b[0;34m\u001b[0m\u001b[0m\n\u001b[0m\u001b[1;32m    314\u001b[0m         \u001b[0mffn_output\u001b[0m\u001b[0;34m:\u001b[0m \u001b[0mtorch\u001b[0m\u001b[0;34m.\u001b[0m\u001b[0mTensor\u001b[0m \u001b[0;34m=\u001b[0m \u001b[0mself\u001b[0m\u001b[0;34m.\u001b[0m\u001b[0moutput_layer_norm\u001b[0m\u001b[0;34m(\u001b[0m\u001b[0mffn_output\u001b[0m \u001b[0;34m+\u001b[0m \u001b[0msa_output\u001b[0m\u001b[0;34m)\u001b[0m  \u001b[0;31m# (bs, seq_length, dim)\u001b[0m\u001b[0;34m\u001b[0m\u001b[0;34m\u001b[0m\u001b[0m\n\u001b[1;32m    315\u001b[0m \u001b[0;34m\u001b[0m\u001b[0m\n",
            "\u001b[0;32m/usr/local/lib/python3.10/dist-packages/torch/nn/modules/module.py\u001b[0m in \u001b[0;36m_call_impl\u001b[0;34m(self, *args, **kwargs)\u001b[0m\n\u001b[1;32m   1499\u001b[0m                 \u001b[0;32mor\u001b[0m \u001b[0m_global_backward_pre_hooks\u001b[0m \u001b[0;32mor\u001b[0m \u001b[0m_global_backward_hooks\u001b[0m\u001b[0;34m\u001b[0m\u001b[0;34m\u001b[0m\u001b[0m\n\u001b[1;32m   1500\u001b[0m                 or _global_forward_hooks or _global_forward_pre_hooks):\n\u001b[0;32m-> 1501\u001b[0;31m             \u001b[0;32mreturn\u001b[0m \u001b[0mforward_call\u001b[0m\u001b[0;34m(\u001b[0m\u001b[0;34m*\u001b[0m\u001b[0margs\u001b[0m\u001b[0;34m,\u001b[0m \u001b[0;34m**\u001b[0m\u001b[0mkwargs\u001b[0m\u001b[0;34m)\u001b[0m\u001b[0;34m\u001b[0m\u001b[0;34m\u001b[0m\u001b[0m\n\u001b[0m\u001b[1;32m   1502\u001b[0m         \u001b[0;31m# Do not call functions when jit is used\u001b[0m\u001b[0;34m\u001b[0m\u001b[0;34m\u001b[0m\u001b[0m\n\u001b[1;32m   1503\u001b[0m         \u001b[0mfull_backward_hooks\u001b[0m\u001b[0;34m,\u001b[0m \u001b[0mnon_full_backward_hooks\u001b[0m \u001b[0;34m=\u001b[0m \u001b[0;34m[\u001b[0m\u001b[0;34m]\u001b[0m\u001b[0;34m,\u001b[0m \u001b[0;34m[\u001b[0m\u001b[0;34m]\u001b[0m\u001b[0;34m\u001b[0m\u001b[0;34m\u001b[0m\u001b[0m\n",
            "\u001b[0;32m/usr/local/lib/python3.10/dist-packages/transformers/models/distilbert/modeling_distilbert.py\u001b[0m in \u001b[0;36mforward\u001b[0;34m(self, input)\u001b[0m\n\u001b[1;32m    252\u001b[0m \u001b[0;34m\u001b[0m\u001b[0m\n\u001b[1;32m    253\u001b[0m     \u001b[0;32mdef\u001b[0m \u001b[0mforward\u001b[0m\u001b[0;34m(\u001b[0m\u001b[0mself\u001b[0m\u001b[0;34m,\u001b[0m \u001b[0minput\u001b[0m\u001b[0;34m:\u001b[0m \u001b[0mtorch\u001b[0m\u001b[0;34m.\u001b[0m\u001b[0mTensor\u001b[0m\u001b[0;34m)\u001b[0m \u001b[0;34m->\u001b[0m \u001b[0mtorch\u001b[0m\u001b[0;34m.\u001b[0m\u001b[0mTensor\u001b[0m\u001b[0;34m:\u001b[0m\u001b[0;34m\u001b[0m\u001b[0;34m\u001b[0m\u001b[0m\n\u001b[0;32m--> 254\u001b[0;31m         \u001b[0;32mreturn\u001b[0m \u001b[0mapply_chunking_to_forward\u001b[0m\u001b[0;34m(\u001b[0m\u001b[0mself\u001b[0m\u001b[0;34m.\u001b[0m\u001b[0mff_chunk\u001b[0m\u001b[0;34m,\u001b[0m \u001b[0mself\u001b[0m\u001b[0;34m.\u001b[0m\u001b[0mchunk_size_feed_forward\u001b[0m\u001b[0;34m,\u001b[0m \u001b[0mself\u001b[0m\u001b[0;34m.\u001b[0m\u001b[0mseq_len_dim\u001b[0m\u001b[0;34m,\u001b[0m \u001b[0minput\u001b[0m\u001b[0;34m)\u001b[0m\u001b[0;34m\u001b[0m\u001b[0;34m\u001b[0m\u001b[0m\n\u001b[0m\u001b[1;32m    255\u001b[0m \u001b[0;34m\u001b[0m\u001b[0m\n\u001b[1;32m    256\u001b[0m     \u001b[0;32mdef\u001b[0m \u001b[0mff_chunk\u001b[0m\u001b[0;34m(\u001b[0m\u001b[0mself\u001b[0m\u001b[0;34m,\u001b[0m \u001b[0minput\u001b[0m\u001b[0;34m:\u001b[0m \u001b[0mtorch\u001b[0m\u001b[0;34m.\u001b[0m\u001b[0mTensor\u001b[0m\u001b[0;34m)\u001b[0m \u001b[0;34m->\u001b[0m \u001b[0mtorch\u001b[0m\u001b[0;34m.\u001b[0m\u001b[0mTensor\u001b[0m\u001b[0;34m:\u001b[0m\u001b[0;34m\u001b[0m\u001b[0;34m\u001b[0m\u001b[0m\n",
            "\u001b[0;32m/usr/local/lib/python3.10/dist-packages/transformers/pytorch_utils.py\u001b[0m in \u001b[0;36mapply_chunking_to_forward\u001b[0;34m(forward_fn, chunk_size, chunk_dim, *input_tensors)\u001b[0m\n\u001b[1;32m    234\u001b[0m         \u001b[0;32mreturn\u001b[0m \u001b[0mtorch\u001b[0m\u001b[0;34m.\u001b[0m\u001b[0mcat\u001b[0m\u001b[0;34m(\u001b[0m\u001b[0moutput_chunks\u001b[0m\u001b[0;34m,\u001b[0m \u001b[0mdim\u001b[0m\u001b[0;34m=\u001b[0m\u001b[0mchunk_dim\u001b[0m\u001b[0;34m)\u001b[0m\u001b[0;34m\u001b[0m\u001b[0;34m\u001b[0m\u001b[0m\n\u001b[1;32m    235\u001b[0m \u001b[0;34m\u001b[0m\u001b[0m\n\u001b[0;32m--> 236\u001b[0;31m     \u001b[0;32mreturn\u001b[0m \u001b[0mforward_fn\u001b[0m\u001b[0;34m(\u001b[0m\u001b[0;34m*\u001b[0m\u001b[0minput_tensors\u001b[0m\u001b[0;34m)\u001b[0m\u001b[0;34m\u001b[0m\u001b[0;34m\u001b[0m\u001b[0m\n\u001b[0m\u001b[1;32m    237\u001b[0m \u001b[0;34m\u001b[0m\u001b[0m\n\u001b[1;32m    238\u001b[0m \u001b[0;34m\u001b[0m\u001b[0m\n",
            "\u001b[0;32m/usr/local/lib/python3.10/dist-packages/transformers/models/distilbert/modeling_distilbert.py\u001b[0m in \u001b[0;36mff_chunk\u001b[0;34m(self, input)\u001b[0m\n\u001b[1;32m    257\u001b[0m         \u001b[0mx\u001b[0m \u001b[0;34m=\u001b[0m \u001b[0mself\u001b[0m\u001b[0;34m.\u001b[0m\u001b[0mlin1\u001b[0m\u001b[0;34m(\u001b[0m\u001b[0minput\u001b[0m\u001b[0;34m)\u001b[0m\u001b[0;34m\u001b[0m\u001b[0;34m\u001b[0m\u001b[0m\n\u001b[1;32m    258\u001b[0m         \u001b[0mx\u001b[0m \u001b[0;34m=\u001b[0m \u001b[0mself\u001b[0m\u001b[0;34m.\u001b[0m\u001b[0mactivation\u001b[0m\u001b[0;34m(\u001b[0m\u001b[0mx\u001b[0m\u001b[0;34m)\u001b[0m\u001b[0;34m\u001b[0m\u001b[0;34m\u001b[0m\u001b[0m\n\u001b[0;32m--> 259\u001b[0;31m         \u001b[0mx\u001b[0m \u001b[0;34m=\u001b[0m \u001b[0mself\u001b[0m\u001b[0;34m.\u001b[0m\u001b[0mlin2\u001b[0m\u001b[0;34m(\u001b[0m\u001b[0mx\u001b[0m\u001b[0;34m)\u001b[0m\u001b[0;34m\u001b[0m\u001b[0;34m\u001b[0m\u001b[0m\n\u001b[0m\u001b[1;32m    260\u001b[0m         \u001b[0mx\u001b[0m \u001b[0;34m=\u001b[0m \u001b[0mself\u001b[0m\u001b[0;34m.\u001b[0m\u001b[0mdropout\u001b[0m\u001b[0;34m(\u001b[0m\u001b[0mx\u001b[0m\u001b[0;34m)\u001b[0m\u001b[0;34m\u001b[0m\u001b[0;34m\u001b[0m\u001b[0m\n\u001b[1;32m    261\u001b[0m         \u001b[0;32mreturn\u001b[0m \u001b[0mx\u001b[0m\u001b[0;34m\u001b[0m\u001b[0;34m\u001b[0m\u001b[0m\n",
            "\u001b[0;32m/usr/local/lib/python3.10/dist-packages/torch/nn/modules/module.py\u001b[0m in \u001b[0;36m_call_impl\u001b[0;34m(self, *args, **kwargs)\u001b[0m\n\u001b[1;32m   1499\u001b[0m                 \u001b[0;32mor\u001b[0m \u001b[0m_global_backward_pre_hooks\u001b[0m \u001b[0;32mor\u001b[0m \u001b[0m_global_backward_hooks\u001b[0m\u001b[0;34m\u001b[0m\u001b[0;34m\u001b[0m\u001b[0m\n\u001b[1;32m   1500\u001b[0m                 or _global_forward_hooks or _global_forward_pre_hooks):\n\u001b[0;32m-> 1501\u001b[0;31m             \u001b[0;32mreturn\u001b[0m \u001b[0mforward_call\u001b[0m\u001b[0;34m(\u001b[0m\u001b[0;34m*\u001b[0m\u001b[0margs\u001b[0m\u001b[0;34m,\u001b[0m \u001b[0;34m**\u001b[0m\u001b[0mkwargs\u001b[0m\u001b[0;34m)\u001b[0m\u001b[0;34m\u001b[0m\u001b[0;34m\u001b[0m\u001b[0m\n\u001b[0m\u001b[1;32m   1502\u001b[0m         \u001b[0;31m# Do not call functions when jit is used\u001b[0m\u001b[0;34m\u001b[0m\u001b[0;34m\u001b[0m\u001b[0m\n\u001b[1;32m   1503\u001b[0m         \u001b[0mfull_backward_hooks\u001b[0m\u001b[0;34m,\u001b[0m \u001b[0mnon_full_backward_hooks\u001b[0m \u001b[0;34m=\u001b[0m \u001b[0;34m[\u001b[0m\u001b[0;34m]\u001b[0m\u001b[0;34m,\u001b[0m \u001b[0;34m[\u001b[0m\u001b[0;34m]\u001b[0m\u001b[0;34m\u001b[0m\u001b[0;34m\u001b[0m\u001b[0m\n",
            "\u001b[0;32m/usr/local/lib/python3.10/dist-packages/torch/nn/modules/linear.py\u001b[0m in \u001b[0;36mforward\u001b[0;34m(self, input)\u001b[0m\n\u001b[1;32m    112\u001b[0m \u001b[0;34m\u001b[0m\u001b[0m\n\u001b[1;32m    113\u001b[0m     \u001b[0;32mdef\u001b[0m \u001b[0mforward\u001b[0m\u001b[0;34m(\u001b[0m\u001b[0mself\u001b[0m\u001b[0;34m,\u001b[0m \u001b[0minput\u001b[0m\u001b[0;34m:\u001b[0m \u001b[0mTensor\u001b[0m\u001b[0;34m)\u001b[0m \u001b[0;34m->\u001b[0m \u001b[0mTensor\u001b[0m\u001b[0;34m:\u001b[0m\u001b[0;34m\u001b[0m\u001b[0;34m\u001b[0m\u001b[0m\n\u001b[0;32m--> 114\u001b[0;31m         \u001b[0;32mreturn\u001b[0m \u001b[0mF\u001b[0m\u001b[0;34m.\u001b[0m\u001b[0mlinear\u001b[0m\u001b[0;34m(\u001b[0m\u001b[0minput\u001b[0m\u001b[0;34m,\u001b[0m \u001b[0mself\u001b[0m\u001b[0;34m.\u001b[0m\u001b[0mweight\u001b[0m\u001b[0;34m,\u001b[0m \u001b[0mself\u001b[0m\u001b[0;34m.\u001b[0m\u001b[0mbias\u001b[0m\u001b[0;34m)\u001b[0m\u001b[0;34m\u001b[0m\u001b[0;34m\u001b[0m\u001b[0m\n\u001b[0m\u001b[1;32m    115\u001b[0m \u001b[0;34m\u001b[0m\u001b[0m\n\u001b[1;32m    116\u001b[0m     \u001b[0;32mdef\u001b[0m \u001b[0mextra_repr\u001b[0m\u001b[0;34m(\u001b[0m\u001b[0mself\u001b[0m\u001b[0;34m)\u001b[0m \u001b[0;34m->\u001b[0m \u001b[0mstr\u001b[0m\u001b[0;34m:\u001b[0m\u001b[0;34m\u001b[0m\u001b[0;34m\u001b[0m\u001b[0m\n",
            "\u001b[0;31mKeyboardInterrupt\u001b[0m: "
          ]
        }
      ],
      "source": [
        "train = train.map(extract_hidden_states, batched=True, batch_size=256)"
      ]
    },
    {
      "cell_type": "code",
      "execution_count": null,
      "metadata": {
        "id": "l1OdHv2d48ex"
      },
      "outputs": [],
      "source": [
        "train.column_names"
      ]
    },
    {
      "cell_type": "markdown",
      "metadata": {
        "id": "YX396nVXerZi"
      },
      "source": [
        "Now we can execute the same process to the validation set"
      ]
    },
    {
      "cell_type": "code",
      "execution_count": null,
      "metadata": {
        "id": "y2UJzfDjewhY"
      },
      "outputs": [],
      "source": [
        "validation = validation.map(extract_hidden_states, batched=True, batch_size=256)\n",
        "validation.column_names"
      ]
    },
    {
      "cell_type": "markdown",
      "metadata": {
        "id": "AWrdO_zqM2Zv"
      },
      "source": [
        "Now that we have the hidden states associated with each review, the next step is to\n",
        "train a classifier on them. To do that, we’ll need a feature matrix let’s take a look.\n",
        "\n",
        "### Creating a feature matrix\n",
        "The preprocessed dataset now contains all the information we need to train a classifier on it. We will use the hidden states as input features and the labels as targets. We\n",
        "can easily create the corresponding arrays in the well-known Scikit-learn format as\n",
        "follows:\n"
      ]
    },
    {
      "cell_type": "code",
      "execution_count": null,
      "metadata": {
        "id": "CfdouRCX-bBf"
      },
      "outputs": [],
      "source": [
        "import numpy as np\n",
        "X_train = np.array(train[\"hidden_state\"])\n",
        "X_valid = np.array(validation[\"hidden_state\"])\n",
        "y_train = np.array(train[\"score\"])\n",
        "y_valid = np.array(validation[\"score\"])\n",
        "X_train.shape, X_valid.shape"
      ]
    },
    {
      "cell_type": "markdown",
      "metadata": {
        "id": "c2wB4HqUNGrg"
      },
      "source": [
        "### Visualizing the training set\n",
        "Before we train a model on the hidden states, it’s good practice to perform a quick\n",
        "check to ensure that they provide a useful representation of the emotions we want to classify. Since visualizing the hidden states in 768 dimensions is tricky to say the least, we’ll\n",
        "use the powerful UMAP algorithm to project the vectors down to 2D (https://arxiv.org/abs/1802.03426) . Since UMAP\n",
        "works best when the features are scaled to lie in the [0,1] interval, we’ll first apply a\n",
        "MinMaxScaler and then use the UMAP implementation from the umap-learn library\n",
        "to reduce the hidden states:"
      ]
    },
    {
      "cell_type": "code",
      "execution_count": null,
      "metadata": {
        "id": "ed1XSI5xNE6C"
      },
      "outputs": [],
      "source": [
        "!pip uninstall umap\n",
        "!pip install umap-learn \n",
        "# # https://umap-learn.readthedocs.io/en/latest/\n",
        "# !pip install umap-learn[plot]\n",
        "# !pip install holoviews\n",
        "# !pip install -U ipykernel\n"
      ]
    },
    {
      "cell_type": "code",
      "source": [
        "# # https://umap-learn.readthedocs.io/en/latest/\n",
        "\n",
        "# for any problem you can consult this link https://github.com/lmcinnes/umap/issues/828\n",
        "import umap.umap_ as umap\n",
        "from umap.umap_ import UMAP\n",
        "from sklearn.preprocessing import MinMaxScaler"
      ],
      "metadata": {
        "id": "Z7ACDCWRoqRr"
      },
      "execution_count": null,
      "outputs": []
    },
    {
      "cell_type": "code",
      "source": [
        "# Scale features to [0,1] range\n",
        "X_scaled = MinMaxScaler().fit_transform(X_train)\n",
        "\n",
        "# Initialize and fit UMAP\n",
        "mapper = UMAP(n_components=2, metric=\"cosine\").fit(X_scaled)\n",
        "\n",
        "# Create a DataFrame of 2D embeddings\n",
        "df_emb = pd.DataFrame(mapper.embedding_, columns=[\"X\", \"Y\"])\n",
        "df_emb[\"label\"] = y_train\n",
        "df_emb.head()"
      ],
      "metadata": {
        "id": "b2uRmCDaoX2G"
      },
      "execution_count": null,
      "outputs": []
    },
    {
      "cell_type": "markdown",
      "source": [
        "The result is an array with the same number of training samples, but with only 2 features instead of the 768 we started with! Let’s investigate the compressed data a little\n",
        "bit further and plot the density of points for each category separately:"
      ],
      "metadata": {
        "id": "jckDPq3bphds"
      }
    },
    {
      "cell_type": "code",
      "source": [
        " df_emb.query(f\"label == {1.0}\")"
      ],
      "metadata": {
        "id": "7QVcBc7yrQCc"
      },
      "execution_count": null,
      "outputs": []
    },
    {
      "cell_type": "code",
      "execution_count": null,
      "metadata": {
        "id": "m2mRGMzkNFWi"
      },
      "outputs": [],
      "source": [
        "fig, axes = plt.subplots(2, 3, figsize=(7,5))\n",
        "axes = axes.flatten()\n",
        "cmaps = [\"Greens\", \"Blues\", \"Oranges\", \"Reds\", \"Purples\"]\n",
        "labels = [1,2,3,4,5] \n",
        "\n",
        "for i, (label, cmap) in enumerate(zip(labels, cmaps)):\n",
        "  df_emb_sub = df_emb.query(f\"label == {label}\")\n",
        "  axes[i].hexbin(df_emb_sub[\"X\"], df_emb_sub[\"Y\"], cmap=cmap, gridsize=20, linewidths=(0,))\n",
        "  axes[i].set_title(f\"Score: {label}\")\n",
        "  axes[i].set_xticks([]), axes[i].set_yticks([])\n",
        "plt.tight_layout()  \n",
        "plt.show()"
      ]
    },
    {
      "cell_type": "markdown",
      "source": [
        "These are only projections onto a lower-dimensional space. Just\n",
        "because some categories overlap does not mean that they are not\n",
        "separable in the original space. Conversely, if they are separable in\n",
        "the projected space they will be separable in the original space.\n",
        "\n",
        "From this plot we can see some clear patterns: the hight scores such as 4 and 5 are well separated from the other scores and also\n",
        "share a similar space. On the other hand lower scores such as 1 and 2 all occupy different regions and has different distribution, for example score 2 scattered all over the place.Finally, the neutral score (3) occupies similar regions occupied by the highs but has a distribution more similar to those of the lower scores.\n",
        "\n",
        "Although we\n",
        "may have hoped for some separation, this is in no way guaranteed since the model\n",
        "was not trained to know the difference between these scores. It only learned them\n",
        "implicitly by guessing the masked words in texts."
      ],
      "metadata": {
        "id": "FXjq54O0O1sL"
      }
    },
    {
      "cell_type": "markdown",
      "source": [
        "### Training a simple classifier\n",
        "\n",
        "We’ve seen that the hidden states are somewhat different between the scores,\n",
        "although for several of them there is no obvious boundary. Let’s use these hidden\n",
        "states to train a logistic regression model with Scikit-learn. "
      ],
      "metadata": {
        "id": "PcG9bp96ZCG0"
      }
    },
    {
      "cell_type": "code",
      "source": [
        "from sklearn.linear_model import LogisticRegression\n",
        "# We increase `max_iter` to guarantee convergence\n",
        "lr_clf = LogisticRegression(max_iter=3000)\n",
        "lr_clf.fit(X_train, y_train)\n",
        "lr_clf.score(X_valid, y_valid)"
      ],
      "metadata": {
        "id": "pYz1YmFup5fr"
      },
      "execution_count": null,
      "outputs": []
    },
    {
      "cell_type": "markdown",
      "source": [
        "Looking at the accuracy, it might appear that our model is just a bit better than random. We can examine whether our model is any good by comparing it\n",
        "against a simple baseline. In Scikit-learn there is a DummyClassifier that can be used\n",
        "to build a classifier with simple heuristics such as always choosing the majority class\n",
        "or always drawing a random class. In this case the best-performing heuristic is to\n",
        "always choose the most frequent class, which yields an accuracy of about 62%:"
      ],
      "metadata": {
        "id": "LEoMWBHDZxsk"
      }
    },
    {
      "cell_type": "code",
      "source": [
        "from sklearn.dummy import DummyClassifier\n",
        "dummy_clf = DummyClassifier(strategy=\"most_frequent\")\n",
        "dummy_clf.fit(X_train, y_train)\n",
        "dummy_clf.score(X_valid, y_valid)"
      ],
      "metadata": {
        "id": "U3cZu4CiZcVL"
      },
      "execution_count": null,
      "outputs": []
    },
    {
      "cell_type": "markdown",
      "source": [
        "So, our simple classifier with DistilBERT embeddings is not much better than our\n",
        "baseline. We can further investigate the performance of the model by looking at the\n",
        "confusion matrix of the classifier, which tells us the relationship between the true and\n",
        "predicted labels:"
      ],
      "metadata": {
        "id": "OvGPw-s4dNHh"
      }
    },
    {
      "cell_type": "code",
      "source": [
        "from sklearn.metrics import ConfusionMatrixDisplay, confusion_matrix\n",
        "\n",
        "def plot_confusion_matrix(y_preds, y_true, labels):\n",
        "  cm = confusion_matrix(y_true, y_preds, normalize=\"true\")\n",
        "  fig, ax = plt.subplots(figsize=(6, 6))\n",
        "  disp = ConfusionMatrixDisplay(confusion_matrix=cm, display_labels=labels)\n",
        "  disp.plot(cmap=\"Blues\", values_format=\".2f\", ax=ax, colorbar=False)\n",
        "  plt.title(\"Normalized confusion matrix\")\n",
        "  plt.show()\n",
        "\n",
        "y_preds = lr_clf.predict(X_valid)\n",
        "plot_confusion_matrix(y_preds, y_valid, labels)"
      ],
      "metadata": {
        "id": "vLWrNBdiZztJ"
      },
      "execution_count": null,
      "outputs": []
    },
    {
      "cell_type": "markdown",
      "source": [
        "We can see that our model tends to overstimate the class of 5 score. As we seen in the observation we made when visualizing the embeddings, the classes 4 and 5 occupies similar regions, infact class 4 is confused with class 5.\n",
        "\n",
        "At the same time class 2 is sometimes confused with class 1. "
      ],
      "metadata": {
        "id": "Dr4hhA0rfLgG"
      }
    },
    {
      "cell_type": "markdown",
      "source": [
        "## Fine-Tuning Transformers\n",
        "Let’s now explore what it takes to fine-tune a transformer end-to-end. With the finetuning approach we do not use the hidden states as fixed features, but instead train them.\n",
        "![image.png](data:image/png;base64,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)"
      ],
      "metadata": {
        "id": "yzKi1Uzghmno"
      }
    },
    {
      "cell_type": "markdown",
      "source": [
        "### Loading a pretrained model\n",
        "The first thing we need is a pretrained DistilBERT model like the one we used in the\n",
        "feature-based approach. The only slight modification is that we use the AutoModelFor\n",
        "SequenceClassification model instead of AutoModel. The difference is that the\n",
        "AutoModelForSequenceClassification model has a classification head on top of the\n",
        "pretrained model outputs, which can be easily trained with the base model. We just\n",
        "need to specify how many labels the model has to predict (five in our case), since this\n",
        "dictates the number of outputs the classification head has:"
      ],
      "metadata": {
        "id": "3nM_ApeFmjSu"
      }
    },
    {
      "cell_type": "code",
      "source": [
        "from transformers import AutoModelForSequenceClassification\n",
        "num_labels = 5\n",
        "model = (AutoModelForSequenceClassification.from_pretrained(model_ckpt, num_labels=num_labels).to(device))"
      ],
      "metadata": {
        "id": "t1wlTBCTfIKZ"
      },
      "execution_count": null,
      "outputs": []
    },
    {
      "cell_type": "markdown",
      "source": [
        "### Defining the performance metrics\n",
        "\n",
        "To monitor metrics during training, we need to define a compute_metrics() function\n",
        "for the Trainer. This function receives an EvalPrediction object (which is a named\n",
        "tuple with predictions and label_ids attributes) and needs to return a dictionary\n",
        "that maps each metric’s name to its value. For our application, we’ll compute the\n",
        "F\n",
        "1-score and the accuracy of the model as follows:"
      ],
      "metadata": {
        "id": "1wV3-oQv8VvL"
      }
    },
    {
      "cell_type": "code",
      "source": [
        "from sklearn.metrics import accuracy_score, f1_score\n",
        "def compute_metrics(pred):\n",
        "  labels = pred.label_ids\n",
        "  preds = pred.predictions.argmax(-1)\n",
        "  f1 = f1_score(labels, preds, average=\"weighted\")\n",
        "  acc = accuracy_score(labels, preds)\n",
        "  return {\"accuracy\": acc, \"f1\": f1}"
      ],
      "metadata": {
        "id": "zEqo_NLWdTW6"
      },
      "execution_count": null,
      "outputs": []
    }
  ],
  "metadata": {
    "accelerator": "GPU",
    "colab": {
      "toc_visible": true,
      "provenance": [],
      "authorship_tag": "ABX9TyPH9Rsh2q85D8eCGH0om9Dg",
      "include_colab_link": true
    },
    "gpuClass": "standard",
    "kernelspec": {
      "display_name": "Python 3",
      "name": "python3"
    },
    "language_info": {
      "name": "python"
    },
    "widgets": {
      "application/vnd.jupyter.widget-state+json": {
        "28f9299d4d8e43f5a533bfc146a6fe08": {
          "model_module": "@jupyter-widgets/controls",
          "model_name": "HBoxModel",
          "model_module_version": "1.5.0",
          "state": {
            "_dom_classes": [],
            "_model_module": "@jupyter-widgets/controls",
            "_model_module_version": "1.5.0",
            "_model_name": "HBoxModel",
            "_view_count": null,
            "_view_module": "@jupyter-widgets/controls",
            "_view_module_version": "1.5.0",
            "_view_name": "HBoxView",
            "box_style": "",
            "children": [
              "IPY_MODEL_bda22daa7055465e889daed41b66491a",
              "IPY_MODEL_238426831ff24c2ab5942e3410700609",
              "IPY_MODEL_2c4cc59da6ef45ca92b88c1ca2e8e4b4"
            ],
            "layout": "IPY_MODEL_5fd354417d9c453ca943dad971ef78f6"
          }
        },
        "bda22daa7055465e889daed41b66491a": {
          "model_module": "@jupyter-widgets/controls",
          "model_name": "HTMLModel",
          "model_module_version": "1.5.0",
          "state": {
            "_dom_classes": [],
            "_model_module": "@jupyter-widgets/controls",
            "_model_module_version": "1.5.0",
            "_model_name": "HTMLModel",
            "_view_count": null,
            "_view_module": "@jupyter-widgets/controls",
            "_view_module_version": "1.5.0",
            "_view_name": "HTMLView",
            "description": "",
            "description_tooltip": null,
            "layout": "IPY_MODEL_5b9e2e709afa479aa5e5b8693786bccd",
            "placeholder": "​",
            "style": "IPY_MODEL_19c410f7135e4cfb82621e68c23a6a11",
            "value": "Downloading (…)lve/main/config.json: 100%"
          }
        },
        "238426831ff24c2ab5942e3410700609": {
          "model_module": "@jupyter-widgets/controls",
          "model_name": "FloatProgressModel",
          "model_module_version": "1.5.0",
          "state": {
            "_dom_classes": [],
            "_model_module": "@jupyter-widgets/controls",
            "_model_module_version": "1.5.0",
            "_model_name": "FloatProgressModel",
            "_view_count": null,
            "_view_module": "@jupyter-widgets/controls",
            "_view_module_version": "1.5.0",
            "_view_name": "ProgressView",
            "bar_style": "success",
            "description": "",
            "description_tooltip": null,
            "layout": "IPY_MODEL_2b5bac5407c44bf4a5529c2da592753a",
            "max": 629,
            "min": 0,
            "orientation": "horizontal",
            "style": "IPY_MODEL_a3cd2eefd0764c53bd5bb16e4ebea69e",
            "value": 629
          }
        },
        "2c4cc59da6ef45ca92b88c1ca2e8e4b4": {
          "model_module": "@jupyter-widgets/controls",
          "model_name": "HTMLModel",
          "model_module_version": "1.5.0",
          "state": {
            "_dom_classes": [],
            "_model_module": "@jupyter-widgets/controls",
            "_model_module_version": "1.5.0",
            "_model_name": "HTMLModel",
            "_view_count": null,
            "_view_module": "@jupyter-widgets/controls",
            "_view_module_version": "1.5.0",
            "_view_name": "HTMLView",
            "description": "",
            "description_tooltip": null,
            "layout": "IPY_MODEL_6d7bf87eb5ae4d7ba744c7b86412a7f1",
            "placeholder": "​",
            "style": "IPY_MODEL_722a0caf848047dba71dd11d2a0612c7",
            "value": " 629/629 [00:00&lt;00:00, 813B/s]"
          }
        },
        "5fd354417d9c453ca943dad971ef78f6": {
          "model_module": "@jupyter-widgets/base",
          "model_name": "LayoutModel",
          "model_module_version": "1.2.0",
          "state": {
            "_model_module": "@jupyter-widgets/base",
            "_model_module_version": "1.2.0",
            "_model_name": "LayoutModel",
            "_view_count": null,
            "_view_module": "@jupyter-widgets/base",
            "_view_module_version": "1.2.0",
            "_view_name": "LayoutView",
            "align_content": null,
            "align_items": null,
            "align_self": null,
            "border": null,
            "bottom": null,
            "display": null,
            "flex": null,
            "flex_flow": null,
            "grid_area": null,
            "grid_auto_columns": null,
            "grid_auto_flow": null,
            "grid_auto_rows": null,
            "grid_column": null,
            "grid_gap": null,
            "grid_row": null,
            "grid_template_areas": null,
            "grid_template_columns": null,
            "grid_template_rows": null,
            "height": null,
            "justify_content": null,
            "justify_items": null,
            "left": null,
            "margin": null,
            "max_height": null,
            "max_width": null,
            "min_height": null,
            "min_width": null,
            "object_fit": null,
            "object_position": null,
            "order": null,
            "overflow": null,
            "overflow_x": null,
            "overflow_y": null,
            "padding": null,
            "right": null,
            "top": null,
            "visibility": null,
            "width": null
          }
        },
        "5b9e2e709afa479aa5e5b8693786bccd": {
          "model_module": "@jupyter-widgets/base",
          "model_name": "LayoutModel",
          "model_module_version": "1.2.0",
          "state": {
            "_model_module": "@jupyter-widgets/base",
            "_model_module_version": "1.2.0",
            "_model_name": "LayoutModel",
            "_view_count": null,
            "_view_module": "@jupyter-widgets/base",
            "_view_module_version": "1.2.0",
            "_view_name": "LayoutView",
            "align_content": null,
            "align_items": null,
            "align_self": null,
            "border": null,
            "bottom": null,
            "display": null,
            "flex": null,
            "flex_flow": null,
            "grid_area": null,
            "grid_auto_columns": null,
            "grid_auto_flow": null,
            "grid_auto_rows": null,
            "grid_column": null,
            "grid_gap": null,
            "grid_row": null,
            "grid_template_areas": null,
            "grid_template_columns": null,
            "grid_template_rows": null,
            "height": null,
            "justify_content": null,
            "justify_items": null,
            "left": null,
            "margin": null,
            "max_height": null,
            "max_width": null,
            "min_height": null,
            "min_width": null,
            "object_fit": null,
            "object_position": null,
            "order": null,
            "overflow": null,
            "overflow_x": null,
            "overflow_y": null,
            "padding": null,
            "right": null,
            "top": null,
            "visibility": null,
            "width": null
          }
        },
        "19c410f7135e4cfb82621e68c23a6a11": {
          "model_module": "@jupyter-widgets/controls",
          "model_name": "DescriptionStyleModel",
          "model_module_version": "1.5.0",
          "state": {
            "_model_module": "@jupyter-widgets/controls",
            "_model_module_version": "1.5.0",
            "_model_name": "DescriptionStyleModel",
            "_view_count": null,
            "_view_module": "@jupyter-widgets/base",
            "_view_module_version": "1.2.0",
            "_view_name": "StyleView",
            "description_width": ""
          }
        },
        "2b5bac5407c44bf4a5529c2da592753a": {
          "model_module": "@jupyter-widgets/base",
          "model_name": "LayoutModel",
          "model_module_version": "1.2.0",
          "state": {
            "_model_module": "@jupyter-widgets/base",
            "_model_module_version": "1.2.0",
            "_model_name": "LayoutModel",
            "_view_count": null,
            "_view_module": "@jupyter-widgets/base",
            "_view_module_version": "1.2.0",
            "_view_name": "LayoutView",
            "align_content": null,
            "align_items": null,
            "align_self": null,
            "border": null,
            "bottom": null,
            "display": null,
            "flex": null,
            "flex_flow": null,
            "grid_area": null,
            "grid_auto_columns": null,
            "grid_auto_flow": null,
            "grid_auto_rows": null,
            "grid_column": null,
            "grid_gap": null,
            "grid_row": null,
            "grid_template_areas": null,
            "grid_template_columns": null,
            "grid_template_rows": null,
            "height": null,
            "justify_content": null,
            "justify_items": null,
            "left": null,
            "margin": null,
            "max_height": null,
            "max_width": null,
            "min_height": null,
            "min_width": null,
            "object_fit": null,
            "object_position": null,
            "order": null,
            "overflow": null,
            "overflow_x": null,
            "overflow_y": null,
            "padding": null,
            "right": null,
            "top": null,
            "visibility": null,
            "width": null
          }
        },
        "a3cd2eefd0764c53bd5bb16e4ebea69e": {
          "model_module": "@jupyter-widgets/controls",
          "model_name": "ProgressStyleModel",
          "model_module_version": "1.5.0",
          "state": {
            "_model_module": "@jupyter-widgets/controls",
            "_model_module_version": "1.5.0",
            "_model_name": "ProgressStyleModel",
            "_view_count": null,
            "_view_module": "@jupyter-widgets/base",
            "_view_module_version": "1.2.0",
            "_view_name": "StyleView",
            "bar_color": null,
            "description_width": ""
          }
        },
        "6d7bf87eb5ae4d7ba744c7b86412a7f1": {
          "model_module": "@jupyter-widgets/base",
          "model_name": "LayoutModel",
          "model_module_version": "1.2.0",
          "state": {
            "_model_module": "@jupyter-widgets/base",
            "_model_module_version": "1.2.0",
            "_model_name": "LayoutModel",
            "_view_count": null,
            "_view_module": "@jupyter-widgets/base",
            "_view_module_version": "1.2.0",
            "_view_name": "LayoutView",
            "align_content": null,
            "align_items": null,
            "align_self": null,
            "border": null,
            "bottom": null,
            "display": null,
            "flex": null,
            "flex_flow": null,
            "grid_area": null,
            "grid_auto_columns": null,
            "grid_auto_flow": null,
            "grid_auto_rows": null,
            "grid_column": null,
            "grid_gap": null,
            "grid_row": null,
            "grid_template_areas": null,
            "grid_template_columns": null,
            "grid_template_rows": null,
            "height": null,
            "justify_content": null,
            "justify_items": null,
            "left": null,
            "margin": null,
            "max_height": null,
            "max_width": null,
            "min_height": null,
            "min_width": null,
            "object_fit": null,
            "object_position": null,
            "order": null,
            "overflow": null,
            "overflow_x": null,
            "overflow_y": null,
            "padding": null,
            "right": null,
            "top": null,
            "visibility": null,
            "width": null
          }
        },
        "722a0caf848047dba71dd11d2a0612c7": {
          "model_module": "@jupyter-widgets/controls",
          "model_name": "DescriptionStyleModel",
          "model_module_version": "1.5.0",
          "state": {
            "_model_module": "@jupyter-widgets/controls",
            "_model_module_version": "1.5.0",
            "_model_name": "DescriptionStyleModel",
            "_view_count": null,
            "_view_module": "@jupyter-widgets/base",
            "_view_module_version": "1.2.0",
            "_view_name": "StyleView",
            "description_width": ""
          }
        },
        "bc9a62b1f8534495877ad59dd2cdcc21": {
          "model_module": "@jupyter-widgets/controls",
          "model_name": "HBoxModel",
          "model_module_version": "1.5.0",
          "state": {
            "_dom_classes": [],
            "_model_module": "@jupyter-widgets/controls",
            "_model_module_version": "1.5.0",
            "_model_name": "HBoxModel",
            "_view_count": null,
            "_view_module": "@jupyter-widgets/controls",
            "_view_module_version": "1.5.0",
            "_view_name": "HBoxView",
            "box_style": "",
            "children": [
              "IPY_MODEL_f7277644224f4b908d7ce813e718be50",
              "IPY_MODEL_1866f384420146cb8de952fa2a993a2e",
              "IPY_MODEL_35c9ee4105594f3dad8ead2cfd3965f7"
            ],
            "layout": "IPY_MODEL_a90b1ed7ec834222a1ab5c72e8160825"
          }
        },
        "f7277644224f4b908d7ce813e718be50": {
          "model_module": "@jupyter-widgets/controls",
          "model_name": "HTMLModel",
          "model_module_version": "1.5.0",
          "state": {
            "_dom_classes": [],
            "_model_module": "@jupyter-widgets/controls",
            "_model_module_version": "1.5.0",
            "_model_name": "HTMLModel",
            "_view_count": null,
            "_view_module": "@jupyter-widgets/controls",
            "_view_module_version": "1.5.0",
            "_view_name": "HTMLView",
            "description": "",
            "description_tooltip": null,
            "layout": "IPY_MODEL_e4ece794cd83472d82daa343e3600ec7",
            "placeholder": "​",
            "style": "IPY_MODEL_ff43218075e64b5389aec94ece88e824",
            "value": "Downloading pytorch_model.bin: 100%"
          }
        },
        "1866f384420146cb8de952fa2a993a2e": {
          "model_module": "@jupyter-widgets/controls",
          "model_name": "FloatProgressModel",
          "model_module_version": "1.5.0",
          "state": {
            "_dom_classes": [],
            "_model_module": "@jupyter-widgets/controls",
            "_model_module_version": "1.5.0",
            "_model_name": "FloatProgressModel",
            "_view_count": null,
            "_view_module": "@jupyter-widgets/controls",
            "_view_module_version": "1.5.0",
            "_view_name": "ProgressView",
            "bar_style": "success",
            "description": "",
            "description_tooltip": null,
            "layout": "IPY_MODEL_933b730ae30c4e219353b4fc6e350e65",
            "max": 267844284,
            "min": 0,
            "orientation": "horizontal",
            "style": "IPY_MODEL_c20a8bdbce9440c18e4a529a675edbfa",
            "value": 267844284
          }
        },
        "35c9ee4105594f3dad8ead2cfd3965f7": {
          "model_module": "@jupyter-widgets/controls",
          "model_name": "HTMLModel",
          "model_module_version": "1.5.0",
          "state": {
            "_dom_classes": [],
            "_model_module": "@jupyter-widgets/controls",
            "_model_module_version": "1.5.0",
            "_model_name": "HTMLModel",
            "_view_count": null,
            "_view_module": "@jupyter-widgets/controls",
            "_view_module_version": "1.5.0",
            "_view_name": "HTMLView",
            "description": "",
            "description_tooltip": null,
            "layout": "IPY_MODEL_b83881d9a4cf4b15ae64bd35d47a20ba",
            "placeholder": "​",
            "style": "IPY_MODEL_42c66e1696c843a5a1748474a8850d1d",
            "value": " 268M/268M [00:02&lt;00:00, 193MB/s]"
          }
        },
        "a90b1ed7ec834222a1ab5c72e8160825": {
          "model_module": "@jupyter-widgets/base",
          "model_name": "LayoutModel",
          "model_module_version": "1.2.0",
          "state": {
            "_model_module": "@jupyter-widgets/base",
            "_model_module_version": "1.2.0",
            "_model_name": "LayoutModel",
            "_view_count": null,
            "_view_module": "@jupyter-widgets/base",
            "_view_module_version": "1.2.0",
            "_view_name": "LayoutView",
            "align_content": null,
            "align_items": null,
            "align_self": null,
            "border": null,
            "bottom": null,
            "display": null,
            "flex": null,
            "flex_flow": null,
            "grid_area": null,
            "grid_auto_columns": null,
            "grid_auto_flow": null,
            "grid_auto_rows": null,
            "grid_column": null,
            "grid_gap": null,
            "grid_row": null,
            "grid_template_areas": null,
            "grid_template_columns": null,
            "grid_template_rows": null,
            "height": null,
            "justify_content": null,
            "justify_items": null,
            "left": null,
            "margin": null,
            "max_height": null,
            "max_width": null,
            "min_height": null,
            "min_width": null,
            "object_fit": null,
            "object_position": null,
            "order": null,
            "overflow": null,
            "overflow_x": null,
            "overflow_y": null,
            "padding": null,
            "right": null,
            "top": null,
            "visibility": null,
            "width": null
          }
        },
        "e4ece794cd83472d82daa343e3600ec7": {
          "model_module": "@jupyter-widgets/base",
          "model_name": "LayoutModel",
          "model_module_version": "1.2.0",
          "state": {
            "_model_module": "@jupyter-widgets/base",
            "_model_module_version": "1.2.0",
            "_model_name": "LayoutModel",
            "_view_count": null,
            "_view_module": "@jupyter-widgets/base",
            "_view_module_version": "1.2.0",
            "_view_name": "LayoutView",
            "align_content": null,
            "align_items": null,
            "align_self": null,
            "border": null,
            "bottom": null,
            "display": null,
            "flex": null,
            "flex_flow": null,
            "grid_area": null,
            "grid_auto_columns": null,
            "grid_auto_flow": null,
            "grid_auto_rows": null,
            "grid_column": null,
            "grid_gap": null,
            "grid_row": null,
            "grid_template_areas": null,
            "grid_template_columns": null,
            "grid_template_rows": null,
            "height": null,
            "justify_content": null,
            "justify_items": null,
            "left": null,
            "margin": null,
            "max_height": null,
            "max_width": null,
            "min_height": null,
            "min_width": null,
            "object_fit": null,
            "object_position": null,
            "order": null,
            "overflow": null,
            "overflow_x": null,
            "overflow_y": null,
            "padding": null,
            "right": null,
            "top": null,
            "visibility": null,
            "width": null
          }
        },
        "ff43218075e64b5389aec94ece88e824": {
          "model_module": "@jupyter-widgets/controls",
          "model_name": "DescriptionStyleModel",
          "model_module_version": "1.5.0",
          "state": {
            "_model_module": "@jupyter-widgets/controls",
            "_model_module_version": "1.5.0",
            "_model_name": "DescriptionStyleModel",
            "_view_count": null,
            "_view_module": "@jupyter-widgets/base",
            "_view_module_version": "1.2.0",
            "_view_name": "StyleView",
            "description_width": ""
          }
        },
        "933b730ae30c4e219353b4fc6e350e65": {
          "model_module": "@jupyter-widgets/base",
          "model_name": "LayoutModel",
          "model_module_version": "1.2.0",
          "state": {
            "_model_module": "@jupyter-widgets/base",
            "_model_module_version": "1.2.0",
            "_model_name": "LayoutModel",
            "_view_count": null,
            "_view_module": "@jupyter-widgets/base",
            "_view_module_version": "1.2.0",
            "_view_name": "LayoutView",
            "align_content": null,
            "align_items": null,
            "align_self": null,
            "border": null,
            "bottom": null,
            "display": null,
            "flex": null,
            "flex_flow": null,
            "grid_area": null,
            "grid_auto_columns": null,
            "grid_auto_flow": null,
            "grid_auto_rows": null,
            "grid_column": null,
            "grid_gap": null,
            "grid_row": null,
            "grid_template_areas": null,
            "grid_template_columns": null,
            "grid_template_rows": null,
            "height": null,
            "justify_content": null,
            "justify_items": null,
            "left": null,
            "margin": null,
            "max_height": null,
            "max_width": null,
            "min_height": null,
            "min_width": null,
            "object_fit": null,
            "object_position": null,
            "order": null,
            "overflow": null,
            "overflow_x": null,
            "overflow_y": null,
            "padding": null,
            "right": null,
            "top": null,
            "visibility": null,
            "width": null
          }
        },
        "c20a8bdbce9440c18e4a529a675edbfa": {
          "model_module": "@jupyter-widgets/controls",
          "model_name": "ProgressStyleModel",
          "model_module_version": "1.5.0",
          "state": {
            "_model_module": "@jupyter-widgets/controls",
            "_model_module_version": "1.5.0",
            "_model_name": "ProgressStyleModel",
            "_view_count": null,
            "_view_module": "@jupyter-widgets/base",
            "_view_module_version": "1.2.0",
            "_view_name": "StyleView",
            "bar_color": null,
            "description_width": ""
          }
        },
        "b83881d9a4cf4b15ae64bd35d47a20ba": {
          "model_module": "@jupyter-widgets/base",
          "model_name": "LayoutModel",
          "model_module_version": "1.2.0",
          "state": {
            "_model_module": "@jupyter-widgets/base",
            "_model_module_version": "1.2.0",
            "_model_name": "LayoutModel",
            "_view_count": null,
            "_view_module": "@jupyter-widgets/base",
            "_view_module_version": "1.2.0",
            "_view_name": "LayoutView",
            "align_content": null,
            "align_items": null,
            "align_self": null,
            "border": null,
            "bottom": null,
            "display": null,
            "flex": null,
            "flex_flow": null,
            "grid_area": null,
            "grid_auto_columns": null,
            "grid_auto_flow": null,
            "grid_auto_rows": null,
            "grid_column": null,
            "grid_gap": null,
            "grid_row": null,
            "grid_template_areas": null,
            "grid_template_columns": null,
            "grid_template_rows": null,
            "height": null,
            "justify_content": null,
            "justify_items": null,
            "left": null,
            "margin": null,
            "max_height": null,
            "max_width": null,
            "min_height": null,
            "min_width": null,
            "object_fit": null,
            "object_position": null,
            "order": null,
            "overflow": null,
            "overflow_x": null,
            "overflow_y": null,
            "padding": null,
            "right": null,
            "top": null,
            "visibility": null,
            "width": null
          }
        },
        "42c66e1696c843a5a1748474a8850d1d": {
          "model_module": "@jupyter-widgets/controls",
          "model_name": "DescriptionStyleModel",
          "model_module_version": "1.5.0",
          "state": {
            "_model_module": "@jupyter-widgets/controls",
            "_model_module_version": "1.5.0",
            "_model_name": "DescriptionStyleModel",
            "_view_count": null,
            "_view_module": "@jupyter-widgets/base",
            "_view_module_version": "1.2.0",
            "_view_name": "StyleView",
            "description_width": ""
          }
        },
        "3e594bf532c54900a8b3818aa07510fa": {
          "model_module": "@jupyter-widgets/controls",
          "model_name": "HBoxModel",
          "model_module_version": "1.5.0",
          "state": {
            "_dom_classes": [],
            "_model_module": "@jupyter-widgets/controls",
            "_model_module_version": "1.5.0",
            "_model_name": "HBoxModel",
            "_view_count": null,
            "_view_module": "@jupyter-widgets/controls",
            "_view_module_version": "1.5.0",
            "_view_name": "HBoxView",
            "box_style": "",
            "children": [
              "IPY_MODEL_44005878536d41db83e1a1cecef199ec",
              "IPY_MODEL_e8f6e0ebea794619803d50353d3c8442",
              "IPY_MODEL_fd6032d1bf6043cf88076558bcc68106"
            ],
            "layout": "IPY_MODEL_d1e108e8f92b49b8a4f1b447bb0a91e5"
          }
        },
        "44005878536d41db83e1a1cecef199ec": {
          "model_module": "@jupyter-widgets/controls",
          "model_name": "HTMLModel",
          "model_module_version": "1.5.0",
          "state": {
            "_dom_classes": [],
            "_model_module": "@jupyter-widgets/controls",
            "_model_module_version": "1.5.0",
            "_model_name": "HTMLModel",
            "_view_count": null,
            "_view_module": "@jupyter-widgets/controls",
            "_view_module_version": "1.5.0",
            "_view_name": "HTMLView",
            "description": "",
            "description_tooltip": null,
            "layout": "IPY_MODEL_b16dc44f7b214fe691689a6819775fbd",
            "placeholder": "​",
            "style": "IPY_MODEL_0daf56ee5c7b45429acbaa38ca6c8353",
            "value": "Downloading (…)okenizer_config.json: 100%"
          }
        },
        "e8f6e0ebea794619803d50353d3c8442": {
          "model_module": "@jupyter-widgets/controls",
          "model_name": "FloatProgressModel",
          "model_module_version": "1.5.0",
          "state": {
            "_dom_classes": [],
            "_model_module": "@jupyter-widgets/controls",
            "_model_module_version": "1.5.0",
            "_model_name": "FloatProgressModel",
            "_view_count": null,
            "_view_module": "@jupyter-widgets/controls",
            "_view_module_version": "1.5.0",
            "_view_name": "ProgressView",
            "bar_style": "success",
            "description": "",
            "description_tooltip": null,
            "layout": "IPY_MODEL_d8fbb20de12d4d1ea88a3e02c02a0a51",
            "max": 48,
            "min": 0,
            "orientation": "horizontal",
            "style": "IPY_MODEL_24c91671c8d24731a049e4d081e406af",
            "value": 48
          }
        },
        "fd6032d1bf6043cf88076558bcc68106": {
          "model_module": "@jupyter-widgets/controls",
          "model_name": "HTMLModel",
          "model_module_version": "1.5.0",
          "state": {
            "_dom_classes": [],
            "_model_module": "@jupyter-widgets/controls",
            "_model_module_version": "1.5.0",
            "_model_name": "HTMLModel",
            "_view_count": null,
            "_view_module": "@jupyter-widgets/controls",
            "_view_module_version": "1.5.0",
            "_view_name": "HTMLView",
            "description": "",
            "description_tooltip": null,
            "layout": "IPY_MODEL_58ea1f3291a940feb5e7316ff27c56be",
            "placeholder": "​",
            "style": "IPY_MODEL_7a501203b74a4cc2ab0e3ab799c34a96",
            "value": " 48.0/48.0 [00:00&lt;00:00, 165B/s]"
          }
        },
        "d1e108e8f92b49b8a4f1b447bb0a91e5": {
          "model_module": "@jupyter-widgets/base",
          "model_name": "LayoutModel",
          "model_module_version": "1.2.0",
          "state": {
            "_model_module": "@jupyter-widgets/base",
            "_model_module_version": "1.2.0",
            "_model_name": "LayoutModel",
            "_view_count": null,
            "_view_module": "@jupyter-widgets/base",
            "_view_module_version": "1.2.0",
            "_view_name": "LayoutView",
            "align_content": null,
            "align_items": null,
            "align_self": null,
            "border": null,
            "bottom": null,
            "display": null,
            "flex": null,
            "flex_flow": null,
            "grid_area": null,
            "grid_auto_columns": null,
            "grid_auto_flow": null,
            "grid_auto_rows": null,
            "grid_column": null,
            "grid_gap": null,
            "grid_row": null,
            "grid_template_areas": null,
            "grid_template_columns": null,
            "grid_template_rows": null,
            "height": null,
            "justify_content": null,
            "justify_items": null,
            "left": null,
            "margin": null,
            "max_height": null,
            "max_width": null,
            "min_height": null,
            "min_width": null,
            "object_fit": null,
            "object_position": null,
            "order": null,
            "overflow": null,
            "overflow_x": null,
            "overflow_y": null,
            "padding": null,
            "right": null,
            "top": null,
            "visibility": null,
            "width": null
          }
        },
        "b16dc44f7b214fe691689a6819775fbd": {
          "model_module": "@jupyter-widgets/base",
          "model_name": "LayoutModel",
          "model_module_version": "1.2.0",
          "state": {
            "_model_module": "@jupyter-widgets/base",
            "_model_module_version": "1.2.0",
            "_model_name": "LayoutModel",
            "_view_count": null,
            "_view_module": "@jupyter-widgets/base",
            "_view_module_version": "1.2.0",
            "_view_name": "LayoutView",
            "align_content": null,
            "align_items": null,
            "align_self": null,
            "border": null,
            "bottom": null,
            "display": null,
            "flex": null,
            "flex_flow": null,
            "grid_area": null,
            "grid_auto_columns": null,
            "grid_auto_flow": null,
            "grid_auto_rows": null,
            "grid_column": null,
            "grid_gap": null,
            "grid_row": null,
            "grid_template_areas": null,
            "grid_template_columns": null,
            "grid_template_rows": null,
            "height": null,
            "justify_content": null,
            "justify_items": null,
            "left": null,
            "margin": null,
            "max_height": null,
            "max_width": null,
            "min_height": null,
            "min_width": null,
            "object_fit": null,
            "object_position": null,
            "order": null,
            "overflow": null,
            "overflow_x": null,
            "overflow_y": null,
            "padding": null,
            "right": null,
            "top": null,
            "visibility": null,
            "width": null
          }
        },
        "0daf56ee5c7b45429acbaa38ca6c8353": {
          "model_module": "@jupyter-widgets/controls",
          "model_name": "DescriptionStyleModel",
          "model_module_version": "1.5.0",
          "state": {
            "_model_module": "@jupyter-widgets/controls",
            "_model_module_version": "1.5.0",
            "_model_name": "DescriptionStyleModel",
            "_view_count": null,
            "_view_module": "@jupyter-widgets/base",
            "_view_module_version": "1.2.0",
            "_view_name": "StyleView",
            "description_width": ""
          }
        },
        "d8fbb20de12d4d1ea88a3e02c02a0a51": {
          "model_module": "@jupyter-widgets/base",
          "model_name": "LayoutModel",
          "model_module_version": "1.2.0",
          "state": {
            "_model_module": "@jupyter-widgets/base",
            "_model_module_version": "1.2.0",
            "_model_name": "LayoutModel",
            "_view_count": null,
            "_view_module": "@jupyter-widgets/base",
            "_view_module_version": "1.2.0",
            "_view_name": "LayoutView",
            "align_content": null,
            "align_items": null,
            "align_self": null,
            "border": null,
            "bottom": null,
            "display": null,
            "flex": null,
            "flex_flow": null,
            "grid_area": null,
            "grid_auto_columns": null,
            "grid_auto_flow": null,
            "grid_auto_rows": null,
            "grid_column": null,
            "grid_gap": null,
            "grid_row": null,
            "grid_template_areas": null,
            "grid_template_columns": null,
            "grid_template_rows": null,
            "height": null,
            "justify_content": null,
            "justify_items": null,
            "left": null,
            "margin": null,
            "max_height": null,
            "max_width": null,
            "min_height": null,
            "min_width": null,
            "object_fit": null,
            "object_position": null,
            "order": null,
            "overflow": null,
            "overflow_x": null,
            "overflow_y": null,
            "padding": null,
            "right": null,
            "top": null,
            "visibility": null,
            "width": null
          }
        },
        "24c91671c8d24731a049e4d081e406af": {
          "model_module": "@jupyter-widgets/controls",
          "model_name": "ProgressStyleModel",
          "model_module_version": "1.5.0",
          "state": {
            "_model_module": "@jupyter-widgets/controls",
            "_model_module_version": "1.5.0",
            "_model_name": "ProgressStyleModel",
            "_view_count": null,
            "_view_module": "@jupyter-widgets/base",
            "_view_module_version": "1.2.0",
            "_view_name": "StyleView",
            "bar_color": null,
            "description_width": ""
          }
        },
        "58ea1f3291a940feb5e7316ff27c56be": {
          "model_module": "@jupyter-widgets/base",
          "model_name": "LayoutModel",
          "model_module_version": "1.2.0",
          "state": {
            "_model_module": "@jupyter-widgets/base",
            "_model_module_version": "1.2.0",
            "_model_name": "LayoutModel",
            "_view_count": null,
            "_view_module": "@jupyter-widgets/base",
            "_view_module_version": "1.2.0",
            "_view_name": "LayoutView",
            "align_content": null,
            "align_items": null,
            "align_self": null,
            "border": null,
            "bottom": null,
            "display": null,
            "flex": null,
            "flex_flow": null,
            "grid_area": null,
            "grid_auto_columns": null,
            "grid_auto_flow": null,
            "grid_auto_rows": null,
            "grid_column": null,
            "grid_gap": null,
            "grid_row": null,
            "grid_template_areas": null,
            "grid_template_columns": null,
            "grid_template_rows": null,
            "height": null,
            "justify_content": null,
            "justify_items": null,
            "left": null,
            "margin": null,
            "max_height": null,
            "max_width": null,
            "min_height": null,
            "min_width": null,
            "object_fit": null,
            "object_position": null,
            "order": null,
            "overflow": null,
            "overflow_x": null,
            "overflow_y": null,
            "padding": null,
            "right": null,
            "top": null,
            "visibility": null,
            "width": null
          }
        },
        "7a501203b74a4cc2ab0e3ab799c34a96": {
          "model_module": "@jupyter-widgets/controls",
          "model_name": "DescriptionStyleModel",
          "model_module_version": "1.5.0",
          "state": {
            "_model_module": "@jupyter-widgets/controls",
            "_model_module_version": "1.5.0",
            "_model_name": "DescriptionStyleModel",
            "_view_count": null,
            "_view_module": "@jupyter-widgets/base",
            "_view_module_version": "1.2.0",
            "_view_name": "StyleView",
            "description_width": ""
          }
        },
        "fbfc7f29ee9c48139c1357c1f18fc525": {
          "model_module": "@jupyter-widgets/controls",
          "model_name": "HBoxModel",
          "model_module_version": "1.5.0",
          "state": {
            "_dom_classes": [],
            "_model_module": "@jupyter-widgets/controls",
            "_model_module_version": "1.5.0",
            "_model_name": "HBoxModel",
            "_view_count": null,
            "_view_module": "@jupyter-widgets/controls",
            "_view_module_version": "1.5.0",
            "_view_name": "HBoxView",
            "box_style": "",
            "children": [
              "IPY_MODEL_337ba67225c24944aa92af9b4235cebe",
              "IPY_MODEL_1026ccf208084c70815b48b876dfa887",
              "IPY_MODEL_5cbda2ef9db9419f8a0e4fcbe5677588"
            ],
            "layout": "IPY_MODEL_f5f5bb630f1a4fa3b8e30e6ab14950d3"
          }
        },
        "337ba67225c24944aa92af9b4235cebe": {
          "model_module": "@jupyter-widgets/controls",
          "model_name": "HTMLModel",
          "model_module_version": "1.5.0",
          "state": {
            "_dom_classes": [],
            "_model_module": "@jupyter-widgets/controls",
            "_model_module_version": "1.5.0",
            "_model_name": "HTMLModel",
            "_view_count": null,
            "_view_module": "@jupyter-widgets/controls",
            "_view_module_version": "1.5.0",
            "_view_name": "HTMLView",
            "description": "",
            "description_tooltip": null,
            "layout": "IPY_MODEL_9a98d169770c4b429a551dff66c7955a",
            "placeholder": "​",
            "style": "IPY_MODEL_0e17a19fa25f4f68846024b487ccbd5a",
            "value": "Downloading (…)solve/main/vocab.txt: 100%"
          }
        },
        "1026ccf208084c70815b48b876dfa887": {
          "model_module": "@jupyter-widgets/controls",
          "model_name": "FloatProgressModel",
          "model_module_version": "1.5.0",
          "state": {
            "_dom_classes": [],
            "_model_module": "@jupyter-widgets/controls",
            "_model_module_version": "1.5.0",
            "_model_name": "FloatProgressModel",
            "_view_count": null,
            "_view_module": "@jupyter-widgets/controls",
            "_view_module_version": "1.5.0",
            "_view_name": "ProgressView",
            "bar_style": "success",
            "description": "",
            "description_tooltip": null,
            "layout": "IPY_MODEL_751041ae68da42848ee8c03f9106421f",
            "max": 231508,
            "min": 0,
            "orientation": "horizontal",
            "style": "IPY_MODEL_db832745b93e4f0b894ab1f1093374e7",
            "value": 231508
          }
        },
        "5cbda2ef9db9419f8a0e4fcbe5677588": {
          "model_module": "@jupyter-widgets/controls",
          "model_name": "HTMLModel",
          "model_module_version": "1.5.0",
          "state": {
            "_dom_classes": [],
            "_model_module": "@jupyter-widgets/controls",
            "_model_module_version": "1.5.0",
            "_model_name": "HTMLModel",
            "_view_count": null,
            "_view_module": "@jupyter-widgets/controls",
            "_view_module_version": "1.5.0",
            "_view_name": "HTMLView",
            "description": "",
            "description_tooltip": null,
            "layout": "IPY_MODEL_375d6db1df5d4d5abc5c031bbc598b21",
            "placeholder": "​",
            "style": "IPY_MODEL_de5c6e05be3f474383251fca6000b7d6",
            "value": " 232k/232k [00:00&lt;00:00, 277kB/s]"
          }
        },
        "f5f5bb630f1a4fa3b8e30e6ab14950d3": {
          "model_module": "@jupyter-widgets/base",
          "model_name": "LayoutModel",
          "model_module_version": "1.2.0",
          "state": {
            "_model_module": "@jupyter-widgets/base",
            "_model_module_version": "1.2.0",
            "_model_name": "LayoutModel",
            "_view_count": null,
            "_view_module": "@jupyter-widgets/base",
            "_view_module_version": "1.2.0",
            "_view_name": "LayoutView",
            "align_content": null,
            "align_items": null,
            "align_self": null,
            "border": null,
            "bottom": null,
            "display": null,
            "flex": null,
            "flex_flow": null,
            "grid_area": null,
            "grid_auto_columns": null,
            "grid_auto_flow": null,
            "grid_auto_rows": null,
            "grid_column": null,
            "grid_gap": null,
            "grid_row": null,
            "grid_template_areas": null,
            "grid_template_columns": null,
            "grid_template_rows": null,
            "height": null,
            "justify_content": null,
            "justify_items": null,
            "left": null,
            "margin": null,
            "max_height": null,
            "max_width": null,
            "min_height": null,
            "min_width": null,
            "object_fit": null,
            "object_position": null,
            "order": null,
            "overflow": null,
            "overflow_x": null,
            "overflow_y": null,
            "padding": null,
            "right": null,
            "top": null,
            "visibility": null,
            "width": null
          }
        },
        "9a98d169770c4b429a551dff66c7955a": {
          "model_module": "@jupyter-widgets/base",
          "model_name": "LayoutModel",
          "model_module_version": "1.2.0",
          "state": {
            "_model_module": "@jupyter-widgets/base",
            "_model_module_version": "1.2.0",
            "_model_name": "LayoutModel",
            "_view_count": null,
            "_view_module": "@jupyter-widgets/base",
            "_view_module_version": "1.2.0",
            "_view_name": "LayoutView",
            "align_content": null,
            "align_items": null,
            "align_self": null,
            "border": null,
            "bottom": null,
            "display": null,
            "flex": null,
            "flex_flow": null,
            "grid_area": null,
            "grid_auto_columns": null,
            "grid_auto_flow": null,
            "grid_auto_rows": null,
            "grid_column": null,
            "grid_gap": null,
            "grid_row": null,
            "grid_template_areas": null,
            "grid_template_columns": null,
            "grid_template_rows": null,
            "height": null,
            "justify_content": null,
            "justify_items": null,
            "left": null,
            "margin": null,
            "max_height": null,
            "max_width": null,
            "min_height": null,
            "min_width": null,
            "object_fit": null,
            "object_position": null,
            "order": null,
            "overflow": null,
            "overflow_x": null,
            "overflow_y": null,
            "padding": null,
            "right": null,
            "top": null,
            "visibility": null,
            "width": null
          }
        },
        "0e17a19fa25f4f68846024b487ccbd5a": {
          "model_module": "@jupyter-widgets/controls",
          "model_name": "DescriptionStyleModel",
          "model_module_version": "1.5.0",
          "state": {
            "_model_module": "@jupyter-widgets/controls",
            "_model_module_version": "1.5.0",
            "_model_name": "DescriptionStyleModel",
            "_view_count": null,
            "_view_module": "@jupyter-widgets/base",
            "_view_module_version": "1.2.0",
            "_view_name": "StyleView",
            "description_width": ""
          }
        },
        "751041ae68da42848ee8c03f9106421f": {
          "model_module": "@jupyter-widgets/base",
          "model_name": "LayoutModel",
          "model_module_version": "1.2.0",
          "state": {
            "_model_module": "@jupyter-widgets/base",
            "_model_module_version": "1.2.0",
            "_model_name": "LayoutModel",
            "_view_count": null,
            "_view_module": "@jupyter-widgets/base",
            "_view_module_version": "1.2.0",
            "_view_name": "LayoutView",
            "align_content": null,
            "align_items": null,
            "align_self": null,
            "border": null,
            "bottom": null,
            "display": null,
            "flex": null,
            "flex_flow": null,
            "grid_area": null,
            "grid_auto_columns": null,
            "grid_auto_flow": null,
            "grid_auto_rows": null,
            "grid_column": null,
            "grid_gap": null,
            "grid_row": null,
            "grid_template_areas": null,
            "grid_template_columns": null,
            "grid_template_rows": null,
            "height": null,
            "justify_content": null,
            "justify_items": null,
            "left": null,
            "margin": null,
            "max_height": null,
            "max_width": null,
            "min_height": null,
            "min_width": null,
            "object_fit": null,
            "object_position": null,
            "order": null,
            "overflow": null,
            "overflow_x": null,
            "overflow_y": null,
            "padding": null,
            "right": null,
            "top": null,
            "visibility": null,
            "width": null
          }
        },
        "db832745b93e4f0b894ab1f1093374e7": {
          "model_module": "@jupyter-widgets/controls",
          "model_name": "ProgressStyleModel",
          "model_module_version": "1.5.0",
          "state": {
            "_model_module": "@jupyter-widgets/controls",
            "_model_module_version": "1.5.0",
            "_model_name": "ProgressStyleModel",
            "_view_count": null,
            "_view_module": "@jupyter-widgets/base",
            "_view_module_version": "1.2.0",
            "_view_name": "StyleView",
            "bar_color": null,
            "description_width": ""
          }
        },
        "375d6db1df5d4d5abc5c031bbc598b21": {
          "model_module": "@jupyter-widgets/base",
          "model_name": "LayoutModel",
          "model_module_version": "1.2.0",
          "state": {
            "_model_module": "@jupyter-widgets/base",
            "_model_module_version": "1.2.0",
            "_model_name": "LayoutModel",
            "_view_count": null,
            "_view_module": "@jupyter-widgets/base",
            "_view_module_version": "1.2.0",
            "_view_name": "LayoutView",
            "align_content": null,
            "align_items": null,
            "align_self": null,
            "border": null,
            "bottom": null,
            "display": null,
            "flex": null,
            "flex_flow": null,
            "grid_area": null,
            "grid_auto_columns": null,
            "grid_auto_flow": null,
            "grid_auto_rows": null,
            "grid_column": null,
            "grid_gap": null,
            "grid_row": null,
            "grid_template_areas": null,
            "grid_template_columns": null,
            "grid_template_rows": null,
            "height": null,
            "justify_content": null,
            "justify_items": null,
            "left": null,
            "margin": null,
            "max_height": null,
            "max_width": null,
            "min_height": null,
            "min_width": null,
            "object_fit": null,
            "object_position": null,
            "order": null,
            "overflow": null,
            "overflow_x": null,
            "overflow_y": null,
            "padding": null,
            "right": null,
            "top": null,
            "visibility": null,
            "width": null
          }
        },
        "de5c6e05be3f474383251fca6000b7d6": {
          "model_module": "@jupyter-widgets/controls",
          "model_name": "DescriptionStyleModel",
          "model_module_version": "1.5.0",
          "state": {
            "_model_module": "@jupyter-widgets/controls",
            "_model_module_version": "1.5.0",
            "_model_name": "DescriptionStyleModel",
            "_view_count": null,
            "_view_module": "@jupyter-widgets/base",
            "_view_module_version": "1.2.0",
            "_view_name": "StyleView",
            "description_width": ""
          }
        },
        "6bc7415e891941dca8b1379ff4d22cbc": {
          "model_module": "@jupyter-widgets/controls",
          "model_name": "HBoxModel",
          "model_module_version": "1.5.0",
          "state": {
            "_dom_classes": [],
            "_model_module": "@jupyter-widgets/controls",
            "_model_module_version": "1.5.0",
            "_model_name": "HBoxModel",
            "_view_count": null,
            "_view_module": "@jupyter-widgets/controls",
            "_view_module_version": "1.5.0",
            "_view_name": "HBoxView",
            "box_style": "",
            "children": [
              "IPY_MODEL_94646777b6a1469b919be1c519658241",
              "IPY_MODEL_c97bca1ae80640368b846608c498e449",
              "IPY_MODEL_3e7683c24ef64a8986ad39a104f193fa"
            ],
            "layout": "IPY_MODEL_6914bced050f45eb98c8a2d70d0d1e0c"
          }
        },
        "94646777b6a1469b919be1c519658241": {
          "model_module": "@jupyter-widgets/controls",
          "model_name": "HTMLModel",
          "model_module_version": "1.5.0",
          "state": {
            "_dom_classes": [],
            "_model_module": "@jupyter-widgets/controls",
            "_model_module_version": "1.5.0",
            "_model_name": "HTMLModel",
            "_view_count": null,
            "_view_module": "@jupyter-widgets/controls",
            "_view_module_version": "1.5.0",
            "_view_name": "HTMLView",
            "description": "",
            "description_tooltip": null,
            "layout": "IPY_MODEL_17428bddca074c2cae866c42746f71ff",
            "placeholder": "​",
            "style": "IPY_MODEL_7112fc217c5c47e287d7ee54ee96f254",
            "value": "Downloading (…)okenizer_config.json: 100%"
          }
        },
        "c97bca1ae80640368b846608c498e449": {
          "model_module": "@jupyter-widgets/controls",
          "model_name": "FloatProgressModel",
          "model_module_version": "1.5.0",
          "state": {
            "_dom_classes": [],
            "_model_module": "@jupyter-widgets/controls",
            "_model_module_version": "1.5.0",
            "_model_name": "FloatProgressModel",
            "_view_count": null,
            "_view_module": "@jupyter-widgets/controls",
            "_view_module_version": "1.5.0",
            "_view_name": "ProgressView",
            "bar_style": "success",
            "description": "",
            "description_tooltip": null,
            "layout": "IPY_MODEL_a4df9d0749994362b154aa4df234ead5",
            "max": 28,
            "min": 0,
            "orientation": "horizontal",
            "style": "IPY_MODEL_01feb580986348258d0bc129d35b4ebe",
            "value": 28
          }
        },
        "3e7683c24ef64a8986ad39a104f193fa": {
          "model_module": "@jupyter-widgets/controls",
          "model_name": "HTMLModel",
          "model_module_version": "1.5.0",
          "state": {
            "_dom_classes": [],
            "_model_module": "@jupyter-widgets/controls",
            "_model_module_version": "1.5.0",
            "_model_name": "HTMLModel",
            "_view_count": null,
            "_view_module": "@jupyter-widgets/controls",
            "_view_module_version": "1.5.0",
            "_view_name": "HTMLView",
            "description": "",
            "description_tooltip": null,
            "layout": "IPY_MODEL_5529865f8037405388f073d666543f48",
            "placeholder": "​",
            "style": "IPY_MODEL_f50c0f99398f4e0eab7af8a18e848412",
            "value": " 28.0/28.0 [00:00&lt;00:00, 34.5B/s]"
          }
        },
        "6914bced050f45eb98c8a2d70d0d1e0c": {
          "model_module": "@jupyter-widgets/base",
          "model_name": "LayoutModel",
          "model_module_version": "1.2.0",
          "state": {
            "_model_module": "@jupyter-widgets/base",
            "_model_module_version": "1.2.0",
            "_model_name": "LayoutModel",
            "_view_count": null,
            "_view_module": "@jupyter-widgets/base",
            "_view_module_version": "1.2.0",
            "_view_name": "LayoutView",
            "align_content": null,
            "align_items": null,
            "align_self": null,
            "border": null,
            "bottom": null,
            "display": null,
            "flex": null,
            "flex_flow": null,
            "grid_area": null,
            "grid_auto_columns": null,
            "grid_auto_flow": null,
            "grid_auto_rows": null,
            "grid_column": null,
            "grid_gap": null,
            "grid_row": null,
            "grid_template_areas": null,
            "grid_template_columns": null,
            "grid_template_rows": null,
            "height": null,
            "justify_content": null,
            "justify_items": null,
            "left": null,
            "margin": null,
            "max_height": null,
            "max_width": null,
            "min_height": null,
            "min_width": null,
            "object_fit": null,
            "object_position": null,
            "order": null,
            "overflow": null,
            "overflow_x": null,
            "overflow_y": null,
            "padding": null,
            "right": null,
            "top": null,
            "visibility": null,
            "width": null
          }
        },
        "17428bddca074c2cae866c42746f71ff": {
          "model_module": "@jupyter-widgets/base",
          "model_name": "LayoutModel",
          "model_module_version": "1.2.0",
          "state": {
            "_model_module": "@jupyter-widgets/base",
            "_model_module_version": "1.2.0",
            "_model_name": "LayoutModel",
            "_view_count": null,
            "_view_module": "@jupyter-widgets/base",
            "_view_module_version": "1.2.0",
            "_view_name": "LayoutView",
            "align_content": null,
            "align_items": null,
            "align_self": null,
            "border": null,
            "bottom": null,
            "display": null,
            "flex": null,
            "flex_flow": null,
            "grid_area": null,
            "grid_auto_columns": null,
            "grid_auto_flow": null,
            "grid_auto_rows": null,
            "grid_column": null,
            "grid_gap": null,
            "grid_row": null,
            "grid_template_areas": null,
            "grid_template_columns": null,
            "grid_template_rows": null,
            "height": null,
            "justify_content": null,
            "justify_items": null,
            "left": null,
            "margin": null,
            "max_height": null,
            "max_width": null,
            "min_height": null,
            "min_width": null,
            "object_fit": null,
            "object_position": null,
            "order": null,
            "overflow": null,
            "overflow_x": null,
            "overflow_y": null,
            "padding": null,
            "right": null,
            "top": null,
            "visibility": null,
            "width": null
          }
        },
        "7112fc217c5c47e287d7ee54ee96f254": {
          "model_module": "@jupyter-widgets/controls",
          "model_name": "DescriptionStyleModel",
          "model_module_version": "1.5.0",
          "state": {
            "_model_module": "@jupyter-widgets/controls",
            "_model_module_version": "1.5.0",
            "_model_name": "DescriptionStyleModel",
            "_view_count": null,
            "_view_module": "@jupyter-widgets/base",
            "_view_module_version": "1.2.0",
            "_view_name": "StyleView",
            "description_width": ""
          }
        },
        "a4df9d0749994362b154aa4df234ead5": {
          "model_module": "@jupyter-widgets/base",
          "model_name": "LayoutModel",
          "model_module_version": "1.2.0",
          "state": {
            "_model_module": "@jupyter-widgets/base",
            "_model_module_version": "1.2.0",
            "_model_name": "LayoutModel",
            "_view_count": null,
            "_view_module": "@jupyter-widgets/base",
            "_view_module_version": "1.2.0",
            "_view_name": "LayoutView",
            "align_content": null,
            "align_items": null,
            "align_self": null,
            "border": null,
            "bottom": null,
            "display": null,
            "flex": null,
            "flex_flow": null,
            "grid_area": null,
            "grid_auto_columns": null,
            "grid_auto_flow": null,
            "grid_auto_rows": null,
            "grid_column": null,
            "grid_gap": null,
            "grid_row": null,
            "grid_template_areas": null,
            "grid_template_columns": null,
            "grid_template_rows": null,
            "height": null,
            "justify_content": null,
            "justify_items": null,
            "left": null,
            "margin": null,
            "max_height": null,
            "max_width": null,
            "min_height": null,
            "min_width": null,
            "object_fit": null,
            "object_position": null,
            "order": null,
            "overflow": null,
            "overflow_x": null,
            "overflow_y": null,
            "padding": null,
            "right": null,
            "top": null,
            "visibility": null,
            "width": null
          }
        },
        "01feb580986348258d0bc129d35b4ebe": {
          "model_module": "@jupyter-widgets/controls",
          "model_name": "ProgressStyleModel",
          "model_module_version": "1.5.0",
          "state": {
            "_model_module": "@jupyter-widgets/controls",
            "_model_module_version": "1.5.0",
            "_model_name": "ProgressStyleModel",
            "_view_count": null,
            "_view_module": "@jupyter-widgets/base",
            "_view_module_version": "1.2.0",
            "_view_name": "StyleView",
            "bar_color": null,
            "description_width": ""
          }
        },
        "5529865f8037405388f073d666543f48": {
          "model_module": "@jupyter-widgets/base",
          "model_name": "LayoutModel",
          "model_module_version": "1.2.0",
          "state": {
            "_model_module": "@jupyter-widgets/base",
            "_model_module_version": "1.2.0",
            "_model_name": "LayoutModel",
            "_view_count": null,
            "_view_module": "@jupyter-widgets/base",
            "_view_module_version": "1.2.0",
            "_view_name": "LayoutView",
            "align_content": null,
            "align_items": null,
            "align_self": null,
            "border": null,
            "bottom": null,
            "display": null,
            "flex": null,
            "flex_flow": null,
            "grid_area": null,
            "grid_auto_columns": null,
            "grid_auto_flow": null,
            "grid_auto_rows": null,
            "grid_column": null,
            "grid_gap": null,
            "grid_row": null,
            "grid_template_areas": null,
            "grid_template_columns": null,
            "grid_template_rows": null,
            "height": null,
            "justify_content": null,
            "justify_items": null,
            "left": null,
            "margin": null,
            "max_height": null,
            "max_width": null,
            "min_height": null,
            "min_width": null,
            "object_fit": null,
            "object_position": null,
            "order": null,
            "overflow": null,
            "overflow_x": null,
            "overflow_y": null,
            "padding": null,
            "right": null,
            "top": null,
            "visibility": null,
            "width": null
          }
        },
        "f50c0f99398f4e0eab7af8a18e848412": {
          "model_module": "@jupyter-widgets/controls",
          "model_name": "DescriptionStyleModel",
          "model_module_version": "1.5.0",
          "state": {
            "_model_module": "@jupyter-widgets/controls",
            "_model_module_version": "1.5.0",
            "_model_name": "DescriptionStyleModel",
            "_view_count": null,
            "_view_module": "@jupyter-widgets/base",
            "_view_module_version": "1.2.0",
            "_view_name": "StyleView",
            "description_width": ""
          }
        },
        "2f46fd38e8914b9fab0a42dcdca8eaaf": {
          "model_module": "@jupyter-widgets/controls",
          "model_name": "HBoxModel",
          "model_module_version": "1.5.0",
          "state": {
            "_dom_classes": [],
            "_model_module": "@jupyter-widgets/controls",
            "_model_module_version": "1.5.0",
            "_model_name": "HBoxModel",
            "_view_count": null,
            "_view_module": "@jupyter-widgets/controls",
            "_view_module_version": "1.5.0",
            "_view_name": "HBoxView",
            "box_style": "",
            "children": [
              "IPY_MODEL_0147c8db05e44b368ba0d56ad3ed11c4",
              "IPY_MODEL_2b6a31dbea714438b71c2c046722df33",
              "IPY_MODEL_cfb67aa9258448379ccb7a81d6552be4"
            ],
            "layout": "IPY_MODEL_c44dec5f9d1547ff970c99bc3912ff60"
          }
        },
        "0147c8db05e44b368ba0d56ad3ed11c4": {
          "model_module": "@jupyter-widgets/controls",
          "model_name": "HTMLModel",
          "model_module_version": "1.5.0",
          "state": {
            "_dom_classes": [],
            "_model_module": "@jupyter-widgets/controls",
            "_model_module_version": "1.5.0",
            "_model_name": "HTMLModel",
            "_view_count": null,
            "_view_module": "@jupyter-widgets/controls",
            "_view_module_version": "1.5.0",
            "_view_name": "HTMLView",
            "description": "",
            "description_tooltip": null,
            "layout": "IPY_MODEL_246222e101e2427d86eef6f24f5726d5",
            "placeholder": "​",
            "style": "IPY_MODEL_b529659cf0e04ccea542cb6e747de91f",
            "value": "Downloading (…)lve/main/config.json: 100%"
          }
        },
        "2b6a31dbea714438b71c2c046722df33": {
          "model_module": "@jupyter-widgets/controls",
          "model_name": "FloatProgressModel",
          "model_module_version": "1.5.0",
          "state": {
            "_dom_classes": [],
            "_model_module": "@jupyter-widgets/controls",
            "_model_module_version": "1.5.0",
            "_model_name": "FloatProgressModel",
            "_view_count": null,
            "_view_module": "@jupyter-widgets/controls",
            "_view_module_version": "1.5.0",
            "_view_name": "ProgressView",
            "bar_style": "success",
            "description": "",
            "description_tooltip": null,
            "layout": "IPY_MODEL_0542a414657a4fa7a52b3068103ec179",
            "max": 483,
            "min": 0,
            "orientation": "horizontal",
            "style": "IPY_MODEL_b71d039d10ab41cca7be068bc74f1321",
            "value": 483
          }
        },
        "cfb67aa9258448379ccb7a81d6552be4": {
          "model_module": "@jupyter-widgets/controls",
          "model_name": "HTMLModel",
          "model_module_version": "1.5.0",
          "state": {
            "_dom_classes": [],
            "_model_module": "@jupyter-widgets/controls",
            "_model_module_version": "1.5.0",
            "_model_name": "HTMLModel",
            "_view_count": null,
            "_view_module": "@jupyter-widgets/controls",
            "_view_module_version": "1.5.0",
            "_view_name": "HTMLView",
            "description": "",
            "description_tooltip": null,
            "layout": "IPY_MODEL_9adffe9ad239412ba92d61454ee7469f",
            "placeholder": "​",
            "style": "IPY_MODEL_e2d54d79d27e407a8f4f03ed3bc3cf42",
            "value": " 483/483 [00:00&lt;00:00, 509B/s]"
          }
        },
        "c44dec5f9d1547ff970c99bc3912ff60": {
          "model_module": "@jupyter-widgets/base",
          "model_name": "LayoutModel",
          "model_module_version": "1.2.0",
          "state": {
            "_model_module": "@jupyter-widgets/base",
            "_model_module_version": "1.2.0",
            "_model_name": "LayoutModel",
            "_view_count": null,
            "_view_module": "@jupyter-widgets/base",
            "_view_module_version": "1.2.0",
            "_view_name": "LayoutView",
            "align_content": null,
            "align_items": null,
            "align_self": null,
            "border": null,
            "bottom": null,
            "display": null,
            "flex": null,
            "flex_flow": null,
            "grid_area": null,
            "grid_auto_columns": null,
            "grid_auto_flow": null,
            "grid_auto_rows": null,
            "grid_column": null,
            "grid_gap": null,
            "grid_row": null,
            "grid_template_areas": null,
            "grid_template_columns": null,
            "grid_template_rows": null,
            "height": null,
            "justify_content": null,
            "justify_items": null,
            "left": null,
            "margin": null,
            "max_height": null,
            "max_width": null,
            "min_height": null,
            "min_width": null,
            "object_fit": null,
            "object_position": null,
            "order": null,
            "overflow": null,
            "overflow_x": null,
            "overflow_y": null,
            "padding": null,
            "right": null,
            "top": null,
            "visibility": null,
            "width": null
          }
        },
        "246222e101e2427d86eef6f24f5726d5": {
          "model_module": "@jupyter-widgets/base",
          "model_name": "LayoutModel",
          "model_module_version": "1.2.0",
          "state": {
            "_model_module": "@jupyter-widgets/base",
            "_model_module_version": "1.2.0",
            "_model_name": "LayoutModel",
            "_view_count": null,
            "_view_module": "@jupyter-widgets/base",
            "_view_module_version": "1.2.0",
            "_view_name": "LayoutView",
            "align_content": null,
            "align_items": null,
            "align_self": null,
            "border": null,
            "bottom": null,
            "display": null,
            "flex": null,
            "flex_flow": null,
            "grid_area": null,
            "grid_auto_columns": null,
            "grid_auto_flow": null,
            "grid_auto_rows": null,
            "grid_column": null,
            "grid_gap": null,
            "grid_row": null,
            "grid_template_areas": null,
            "grid_template_columns": null,
            "grid_template_rows": null,
            "height": null,
            "justify_content": null,
            "justify_items": null,
            "left": null,
            "margin": null,
            "max_height": null,
            "max_width": null,
            "min_height": null,
            "min_width": null,
            "object_fit": null,
            "object_position": null,
            "order": null,
            "overflow": null,
            "overflow_x": null,
            "overflow_y": null,
            "padding": null,
            "right": null,
            "top": null,
            "visibility": null,
            "width": null
          }
        },
        "b529659cf0e04ccea542cb6e747de91f": {
          "model_module": "@jupyter-widgets/controls",
          "model_name": "DescriptionStyleModel",
          "model_module_version": "1.5.0",
          "state": {
            "_model_module": "@jupyter-widgets/controls",
            "_model_module_version": "1.5.0",
            "_model_name": "DescriptionStyleModel",
            "_view_count": null,
            "_view_module": "@jupyter-widgets/base",
            "_view_module_version": "1.2.0",
            "_view_name": "StyleView",
            "description_width": ""
          }
        },
        "0542a414657a4fa7a52b3068103ec179": {
          "model_module": "@jupyter-widgets/base",
          "model_name": "LayoutModel",
          "model_module_version": "1.2.0",
          "state": {
            "_model_module": "@jupyter-widgets/base",
            "_model_module_version": "1.2.0",
            "_model_name": "LayoutModel",
            "_view_count": null,
            "_view_module": "@jupyter-widgets/base",
            "_view_module_version": "1.2.0",
            "_view_name": "LayoutView",
            "align_content": null,
            "align_items": null,
            "align_self": null,
            "border": null,
            "bottom": null,
            "display": null,
            "flex": null,
            "flex_flow": null,
            "grid_area": null,
            "grid_auto_columns": null,
            "grid_auto_flow": null,
            "grid_auto_rows": null,
            "grid_column": null,
            "grid_gap": null,
            "grid_row": null,
            "grid_template_areas": null,
            "grid_template_columns": null,
            "grid_template_rows": null,
            "height": null,
            "justify_content": null,
            "justify_items": null,
            "left": null,
            "margin": null,
            "max_height": null,
            "max_width": null,
            "min_height": null,
            "min_width": null,
            "object_fit": null,
            "object_position": null,
            "order": null,
            "overflow": null,
            "overflow_x": null,
            "overflow_y": null,
            "padding": null,
            "right": null,
            "top": null,
            "visibility": null,
            "width": null
          }
        },
        "b71d039d10ab41cca7be068bc74f1321": {
          "model_module": "@jupyter-widgets/controls",
          "model_name": "ProgressStyleModel",
          "model_module_version": "1.5.0",
          "state": {
            "_model_module": "@jupyter-widgets/controls",
            "_model_module_version": "1.5.0",
            "_model_name": "ProgressStyleModel",
            "_view_count": null,
            "_view_module": "@jupyter-widgets/base",
            "_view_module_version": "1.2.0",
            "_view_name": "StyleView",
            "bar_color": null,
            "description_width": ""
          }
        },
        "9adffe9ad239412ba92d61454ee7469f": {
          "model_module": "@jupyter-widgets/base",
          "model_name": "LayoutModel",
          "model_module_version": "1.2.0",
          "state": {
            "_model_module": "@jupyter-widgets/base",
            "_model_module_version": "1.2.0",
            "_model_name": "LayoutModel",
            "_view_count": null,
            "_view_module": "@jupyter-widgets/base",
            "_view_module_version": "1.2.0",
            "_view_name": "LayoutView",
            "align_content": null,
            "align_items": null,
            "align_self": null,
            "border": null,
            "bottom": null,
            "display": null,
            "flex": null,
            "flex_flow": null,
            "grid_area": null,
            "grid_auto_columns": null,
            "grid_auto_flow": null,
            "grid_auto_rows": null,
            "grid_column": null,
            "grid_gap": null,
            "grid_row": null,
            "grid_template_areas": null,
            "grid_template_columns": null,
            "grid_template_rows": null,
            "height": null,
            "justify_content": null,
            "justify_items": null,
            "left": null,
            "margin": null,
            "max_height": null,
            "max_width": null,
            "min_height": null,
            "min_width": null,
            "object_fit": null,
            "object_position": null,
            "order": null,
            "overflow": null,
            "overflow_x": null,
            "overflow_y": null,
            "padding": null,
            "right": null,
            "top": null,
            "visibility": null,
            "width": null
          }
        },
        "e2d54d79d27e407a8f4f03ed3bc3cf42": {
          "model_module": "@jupyter-widgets/controls",
          "model_name": "DescriptionStyleModel",
          "model_module_version": "1.5.0",
          "state": {
            "_model_module": "@jupyter-widgets/controls",
            "_model_module_version": "1.5.0",
            "_model_name": "DescriptionStyleModel",
            "_view_count": null,
            "_view_module": "@jupyter-widgets/base",
            "_view_module_version": "1.2.0",
            "_view_name": "StyleView",
            "description_width": ""
          }
        },
        "29c22d80b2b04115a3305ffc0d68ff93": {
          "model_module": "@jupyter-widgets/controls",
          "model_name": "HBoxModel",
          "model_module_version": "1.5.0",
          "state": {
            "_dom_classes": [],
            "_model_module": "@jupyter-widgets/controls",
            "_model_module_version": "1.5.0",
            "_model_name": "HBoxModel",
            "_view_count": null,
            "_view_module": "@jupyter-widgets/controls",
            "_view_module_version": "1.5.0",
            "_view_name": "HBoxView",
            "box_style": "",
            "children": [
              "IPY_MODEL_e0be709dcace4399a8c232c543c93925",
              "IPY_MODEL_ea1a4d13314144d4b73acb3818954a85",
              "IPY_MODEL_0ca593a5513244c58b58d420fe8b608d"
            ],
            "layout": "IPY_MODEL_905720c4994e46938906e3de1a9a4171"
          }
        },
        "e0be709dcace4399a8c232c543c93925": {
          "model_module": "@jupyter-widgets/controls",
          "model_name": "HTMLModel",
          "model_module_version": "1.5.0",
          "state": {
            "_dom_classes": [],
            "_model_module": "@jupyter-widgets/controls",
            "_model_module_version": "1.5.0",
            "_model_name": "HTMLModel",
            "_view_count": null,
            "_view_module": "@jupyter-widgets/controls",
            "_view_module_version": "1.5.0",
            "_view_name": "HTMLView",
            "description": "",
            "description_tooltip": null,
            "layout": "IPY_MODEL_fbdb22bac535441caa229ca43399ec76",
            "placeholder": "​",
            "style": "IPY_MODEL_0624d5fdbcc5459a80f3692484b28ca3",
            "value": "Downloading (…)solve/main/vocab.txt: 100%"
          }
        },
        "ea1a4d13314144d4b73acb3818954a85": {
          "model_module": "@jupyter-widgets/controls",
          "model_name": "FloatProgressModel",
          "model_module_version": "1.5.0",
          "state": {
            "_dom_classes": [],
            "_model_module": "@jupyter-widgets/controls",
            "_model_module_version": "1.5.0",
            "_model_name": "FloatProgressModel",
            "_view_count": null,
            "_view_module": "@jupyter-widgets/controls",
            "_view_module_version": "1.5.0",
            "_view_name": "ProgressView",
            "bar_style": "success",
            "description": "",
            "description_tooltip": null,
            "layout": "IPY_MODEL_3366c1fb125c4d76aff089d1c9d299c6",
            "max": 231508,
            "min": 0,
            "orientation": "horizontal",
            "style": "IPY_MODEL_a4a6c43237754337bb478c246381161f",
            "value": 231508
          }
        },
        "0ca593a5513244c58b58d420fe8b608d": {
          "model_module": "@jupyter-widgets/controls",
          "model_name": "HTMLModel",
          "model_module_version": "1.5.0",
          "state": {
            "_dom_classes": [],
            "_model_module": "@jupyter-widgets/controls",
            "_model_module_version": "1.5.0",
            "_model_name": "HTMLModel",
            "_view_count": null,
            "_view_module": "@jupyter-widgets/controls",
            "_view_module_version": "1.5.0",
            "_view_name": "HTMLView",
            "description": "",
            "description_tooltip": null,
            "layout": "IPY_MODEL_28eb4e8b0699432c94e2a2a8113cd9cf",
            "placeholder": "​",
            "style": "IPY_MODEL_cb428846dc38444dad0241c8856073d8",
            "value": " 232k/232k [00:02&lt;00:00, 99.3kB/s]"
          }
        },
        "905720c4994e46938906e3de1a9a4171": {
          "model_module": "@jupyter-widgets/base",
          "model_name": "LayoutModel",
          "model_module_version": "1.2.0",
          "state": {
            "_model_module": "@jupyter-widgets/base",
            "_model_module_version": "1.2.0",
            "_model_name": "LayoutModel",
            "_view_count": null,
            "_view_module": "@jupyter-widgets/base",
            "_view_module_version": "1.2.0",
            "_view_name": "LayoutView",
            "align_content": null,
            "align_items": null,
            "align_self": null,
            "border": null,
            "bottom": null,
            "display": null,
            "flex": null,
            "flex_flow": null,
            "grid_area": null,
            "grid_auto_columns": null,
            "grid_auto_flow": null,
            "grid_auto_rows": null,
            "grid_column": null,
            "grid_gap": null,
            "grid_row": null,
            "grid_template_areas": null,
            "grid_template_columns": null,
            "grid_template_rows": null,
            "height": null,
            "justify_content": null,
            "justify_items": null,
            "left": null,
            "margin": null,
            "max_height": null,
            "max_width": null,
            "min_height": null,
            "min_width": null,
            "object_fit": null,
            "object_position": null,
            "order": null,
            "overflow": null,
            "overflow_x": null,
            "overflow_y": null,
            "padding": null,
            "right": null,
            "top": null,
            "visibility": null,
            "width": null
          }
        },
        "fbdb22bac535441caa229ca43399ec76": {
          "model_module": "@jupyter-widgets/base",
          "model_name": "LayoutModel",
          "model_module_version": "1.2.0",
          "state": {
            "_model_module": "@jupyter-widgets/base",
            "_model_module_version": "1.2.0",
            "_model_name": "LayoutModel",
            "_view_count": null,
            "_view_module": "@jupyter-widgets/base",
            "_view_module_version": "1.2.0",
            "_view_name": "LayoutView",
            "align_content": null,
            "align_items": null,
            "align_self": null,
            "border": null,
            "bottom": null,
            "display": null,
            "flex": null,
            "flex_flow": null,
            "grid_area": null,
            "grid_auto_columns": null,
            "grid_auto_flow": null,
            "grid_auto_rows": null,
            "grid_column": null,
            "grid_gap": null,
            "grid_row": null,
            "grid_template_areas": null,
            "grid_template_columns": null,
            "grid_template_rows": null,
            "height": null,
            "justify_content": null,
            "justify_items": null,
            "left": null,
            "margin": null,
            "max_height": null,
            "max_width": null,
            "min_height": null,
            "min_width": null,
            "object_fit": null,
            "object_position": null,
            "order": null,
            "overflow": null,
            "overflow_x": null,
            "overflow_y": null,
            "padding": null,
            "right": null,
            "top": null,
            "visibility": null,
            "width": null
          }
        },
        "0624d5fdbcc5459a80f3692484b28ca3": {
          "model_module": "@jupyter-widgets/controls",
          "model_name": "DescriptionStyleModel",
          "model_module_version": "1.5.0",
          "state": {
            "_model_module": "@jupyter-widgets/controls",
            "_model_module_version": "1.5.0",
            "_model_name": "DescriptionStyleModel",
            "_view_count": null,
            "_view_module": "@jupyter-widgets/base",
            "_view_module_version": "1.2.0",
            "_view_name": "StyleView",
            "description_width": ""
          }
        },
        "3366c1fb125c4d76aff089d1c9d299c6": {
          "model_module": "@jupyter-widgets/base",
          "model_name": "LayoutModel",
          "model_module_version": "1.2.0",
          "state": {
            "_model_module": "@jupyter-widgets/base",
            "_model_module_version": "1.2.0",
            "_model_name": "LayoutModel",
            "_view_count": null,
            "_view_module": "@jupyter-widgets/base",
            "_view_module_version": "1.2.0",
            "_view_name": "LayoutView",
            "align_content": null,
            "align_items": null,
            "align_self": null,
            "border": null,
            "bottom": null,
            "display": null,
            "flex": null,
            "flex_flow": null,
            "grid_area": null,
            "grid_auto_columns": null,
            "grid_auto_flow": null,
            "grid_auto_rows": null,
            "grid_column": null,
            "grid_gap": null,
            "grid_row": null,
            "grid_template_areas": null,
            "grid_template_columns": null,
            "grid_template_rows": null,
            "height": null,
            "justify_content": null,
            "justify_items": null,
            "left": null,
            "margin": null,
            "max_height": null,
            "max_width": null,
            "min_height": null,
            "min_width": null,
            "object_fit": null,
            "object_position": null,
            "order": null,
            "overflow": null,
            "overflow_x": null,
            "overflow_y": null,
            "padding": null,
            "right": null,
            "top": null,
            "visibility": null,
            "width": null
          }
        },
        "a4a6c43237754337bb478c246381161f": {
          "model_module": "@jupyter-widgets/controls",
          "model_name": "ProgressStyleModel",
          "model_module_version": "1.5.0",
          "state": {
            "_model_module": "@jupyter-widgets/controls",
            "_model_module_version": "1.5.0",
            "_model_name": "ProgressStyleModel",
            "_view_count": null,
            "_view_module": "@jupyter-widgets/base",
            "_view_module_version": "1.2.0",
            "_view_name": "StyleView",
            "bar_color": null,
            "description_width": ""
          }
        },
        "28eb4e8b0699432c94e2a2a8113cd9cf": {
          "model_module": "@jupyter-widgets/base",
          "model_name": "LayoutModel",
          "model_module_version": "1.2.0",
          "state": {
            "_model_module": "@jupyter-widgets/base",
            "_model_module_version": "1.2.0",
            "_model_name": "LayoutModel",
            "_view_count": null,
            "_view_module": "@jupyter-widgets/base",
            "_view_module_version": "1.2.0",
            "_view_name": "LayoutView",
            "align_content": null,
            "align_items": null,
            "align_self": null,
            "border": null,
            "bottom": null,
            "display": null,
            "flex": null,
            "flex_flow": null,
            "grid_area": null,
            "grid_auto_columns": null,
            "grid_auto_flow": null,
            "grid_auto_rows": null,
            "grid_column": null,
            "grid_gap": null,
            "grid_row": null,
            "grid_template_areas": null,
            "grid_template_columns": null,
            "grid_template_rows": null,
            "height": null,
            "justify_content": null,
            "justify_items": null,
            "left": null,
            "margin": null,
            "max_height": null,
            "max_width": null,
            "min_height": null,
            "min_width": null,
            "object_fit": null,
            "object_position": null,
            "order": null,
            "overflow": null,
            "overflow_x": null,
            "overflow_y": null,
            "padding": null,
            "right": null,
            "top": null,
            "visibility": null,
            "width": null
          }
        },
        "cb428846dc38444dad0241c8856073d8": {
          "model_module": "@jupyter-widgets/controls",
          "model_name": "DescriptionStyleModel",
          "model_module_version": "1.5.0",
          "state": {
            "_model_module": "@jupyter-widgets/controls",
            "_model_module_version": "1.5.0",
            "_model_name": "DescriptionStyleModel",
            "_view_count": null,
            "_view_module": "@jupyter-widgets/base",
            "_view_module_version": "1.2.0",
            "_view_name": "StyleView",
            "description_width": ""
          }
        },
        "3f43cd7de482449ab767b2118f16224e": {
          "model_module": "@jupyter-widgets/controls",
          "model_name": "HBoxModel",
          "model_module_version": "1.5.0",
          "state": {
            "_dom_classes": [],
            "_model_module": "@jupyter-widgets/controls",
            "_model_module_version": "1.5.0",
            "_model_name": "HBoxModel",
            "_view_count": null,
            "_view_module": "@jupyter-widgets/controls",
            "_view_module_version": "1.5.0",
            "_view_name": "HBoxView",
            "box_style": "",
            "children": [
              "IPY_MODEL_9c72f9bd5a2d48b9b557364fddb247ab",
              "IPY_MODEL_bd99a1d696574d4087dc21887e8e8764",
              "IPY_MODEL_2c64b85d5223408a90a45a56ddd70ccb"
            ],
            "layout": "IPY_MODEL_ab4a91bac55b4c03a8fbb8bce3d68f40"
          }
        },
        "9c72f9bd5a2d48b9b557364fddb247ab": {
          "model_module": "@jupyter-widgets/controls",
          "model_name": "HTMLModel",
          "model_module_version": "1.5.0",
          "state": {
            "_dom_classes": [],
            "_model_module": "@jupyter-widgets/controls",
            "_model_module_version": "1.5.0",
            "_model_name": "HTMLModel",
            "_view_count": null,
            "_view_module": "@jupyter-widgets/controls",
            "_view_module_version": "1.5.0",
            "_view_name": "HTMLView",
            "description": "",
            "description_tooltip": null,
            "layout": "IPY_MODEL_a2f4d6074c1447dc938dce7fc999030a",
            "placeholder": "​",
            "style": "IPY_MODEL_b28dd766ac064e47898da9630a91c683",
            "value": "Downloading (…)/main/tokenizer.json: 100%"
          }
        },
        "bd99a1d696574d4087dc21887e8e8764": {
          "model_module": "@jupyter-widgets/controls",
          "model_name": "FloatProgressModel",
          "model_module_version": "1.5.0",
          "state": {
            "_dom_classes": [],
            "_model_module": "@jupyter-widgets/controls",
            "_model_module_version": "1.5.0",
            "_model_name": "FloatProgressModel",
            "_view_count": null,
            "_view_module": "@jupyter-widgets/controls",
            "_view_module_version": "1.5.0",
            "_view_name": "ProgressView",
            "bar_style": "success",
            "description": "",
            "description_tooltip": null,
            "layout": "IPY_MODEL_84ddf7d82316477da6b69cc702b9bad8",
            "max": 466062,
            "min": 0,
            "orientation": "horizontal",
            "style": "IPY_MODEL_495312d116af4bef8155639d94d976e3",
            "value": 466062
          }
        },
        "2c64b85d5223408a90a45a56ddd70ccb": {
          "model_module": "@jupyter-widgets/controls",
          "model_name": "HTMLModel",
          "model_module_version": "1.5.0",
          "state": {
            "_dom_classes": [],
            "_model_module": "@jupyter-widgets/controls",
            "_model_module_version": "1.5.0",
            "_model_name": "HTMLModel",
            "_view_count": null,
            "_view_module": "@jupyter-widgets/controls",
            "_view_module_version": "1.5.0",
            "_view_name": "HTMLView",
            "description": "",
            "description_tooltip": null,
            "layout": "IPY_MODEL_21c59a6d36424ed59cd2619dd8e06eff",
            "placeholder": "​",
            "style": "IPY_MODEL_a9bb6751889b42f29809dd083c9c5875",
            "value": " 466k/466k [00:00&lt;00:00, 9.40MB/s]"
          }
        },
        "ab4a91bac55b4c03a8fbb8bce3d68f40": {
          "model_module": "@jupyter-widgets/base",
          "model_name": "LayoutModel",
          "model_module_version": "1.2.0",
          "state": {
            "_model_module": "@jupyter-widgets/base",
            "_model_module_version": "1.2.0",
            "_model_name": "LayoutModel",
            "_view_count": null,
            "_view_module": "@jupyter-widgets/base",
            "_view_module_version": "1.2.0",
            "_view_name": "LayoutView",
            "align_content": null,
            "align_items": null,
            "align_self": null,
            "border": null,
            "bottom": null,
            "display": null,
            "flex": null,
            "flex_flow": null,
            "grid_area": null,
            "grid_auto_columns": null,
            "grid_auto_flow": null,
            "grid_auto_rows": null,
            "grid_column": null,
            "grid_gap": null,
            "grid_row": null,
            "grid_template_areas": null,
            "grid_template_columns": null,
            "grid_template_rows": null,
            "height": null,
            "justify_content": null,
            "justify_items": null,
            "left": null,
            "margin": null,
            "max_height": null,
            "max_width": null,
            "min_height": null,
            "min_width": null,
            "object_fit": null,
            "object_position": null,
            "order": null,
            "overflow": null,
            "overflow_x": null,
            "overflow_y": null,
            "padding": null,
            "right": null,
            "top": null,
            "visibility": null,
            "width": null
          }
        },
        "a2f4d6074c1447dc938dce7fc999030a": {
          "model_module": "@jupyter-widgets/base",
          "model_name": "LayoutModel",
          "model_module_version": "1.2.0",
          "state": {
            "_model_module": "@jupyter-widgets/base",
            "_model_module_version": "1.2.0",
            "_model_name": "LayoutModel",
            "_view_count": null,
            "_view_module": "@jupyter-widgets/base",
            "_view_module_version": "1.2.0",
            "_view_name": "LayoutView",
            "align_content": null,
            "align_items": null,
            "align_self": null,
            "border": null,
            "bottom": null,
            "display": null,
            "flex": null,
            "flex_flow": null,
            "grid_area": null,
            "grid_auto_columns": null,
            "grid_auto_flow": null,
            "grid_auto_rows": null,
            "grid_column": null,
            "grid_gap": null,
            "grid_row": null,
            "grid_template_areas": null,
            "grid_template_columns": null,
            "grid_template_rows": null,
            "height": null,
            "justify_content": null,
            "justify_items": null,
            "left": null,
            "margin": null,
            "max_height": null,
            "max_width": null,
            "min_height": null,
            "min_width": null,
            "object_fit": null,
            "object_position": null,
            "order": null,
            "overflow": null,
            "overflow_x": null,
            "overflow_y": null,
            "padding": null,
            "right": null,
            "top": null,
            "visibility": null,
            "width": null
          }
        },
        "b28dd766ac064e47898da9630a91c683": {
          "model_module": "@jupyter-widgets/controls",
          "model_name": "DescriptionStyleModel",
          "model_module_version": "1.5.0",
          "state": {
            "_model_module": "@jupyter-widgets/controls",
            "_model_module_version": "1.5.0",
            "_model_name": "DescriptionStyleModel",
            "_view_count": null,
            "_view_module": "@jupyter-widgets/base",
            "_view_module_version": "1.2.0",
            "_view_name": "StyleView",
            "description_width": ""
          }
        },
        "84ddf7d82316477da6b69cc702b9bad8": {
          "model_module": "@jupyter-widgets/base",
          "model_name": "LayoutModel",
          "model_module_version": "1.2.0",
          "state": {
            "_model_module": "@jupyter-widgets/base",
            "_model_module_version": "1.2.0",
            "_model_name": "LayoutModel",
            "_view_count": null,
            "_view_module": "@jupyter-widgets/base",
            "_view_module_version": "1.2.0",
            "_view_name": "LayoutView",
            "align_content": null,
            "align_items": null,
            "align_self": null,
            "border": null,
            "bottom": null,
            "display": null,
            "flex": null,
            "flex_flow": null,
            "grid_area": null,
            "grid_auto_columns": null,
            "grid_auto_flow": null,
            "grid_auto_rows": null,
            "grid_column": null,
            "grid_gap": null,
            "grid_row": null,
            "grid_template_areas": null,
            "grid_template_columns": null,
            "grid_template_rows": null,
            "height": null,
            "justify_content": null,
            "justify_items": null,
            "left": null,
            "margin": null,
            "max_height": null,
            "max_width": null,
            "min_height": null,
            "min_width": null,
            "object_fit": null,
            "object_position": null,
            "order": null,
            "overflow": null,
            "overflow_x": null,
            "overflow_y": null,
            "padding": null,
            "right": null,
            "top": null,
            "visibility": null,
            "width": null
          }
        },
        "495312d116af4bef8155639d94d976e3": {
          "model_module": "@jupyter-widgets/controls",
          "model_name": "ProgressStyleModel",
          "model_module_version": "1.5.0",
          "state": {
            "_model_module": "@jupyter-widgets/controls",
            "_model_module_version": "1.5.0",
            "_model_name": "ProgressStyleModel",
            "_view_count": null,
            "_view_module": "@jupyter-widgets/base",
            "_view_module_version": "1.2.0",
            "_view_name": "StyleView",
            "bar_color": null,
            "description_width": ""
          }
        },
        "21c59a6d36424ed59cd2619dd8e06eff": {
          "model_module": "@jupyter-widgets/base",
          "model_name": "LayoutModel",
          "model_module_version": "1.2.0",
          "state": {
            "_model_module": "@jupyter-widgets/base",
            "_model_module_version": "1.2.0",
            "_model_name": "LayoutModel",
            "_view_count": null,
            "_view_module": "@jupyter-widgets/base",
            "_view_module_version": "1.2.0",
            "_view_name": "LayoutView",
            "align_content": null,
            "align_items": null,
            "align_self": null,
            "border": null,
            "bottom": null,
            "display": null,
            "flex": null,
            "flex_flow": null,
            "grid_area": null,
            "grid_auto_columns": null,
            "grid_auto_flow": null,
            "grid_auto_rows": null,
            "grid_column": null,
            "grid_gap": null,
            "grid_row": null,
            "grid_template_areas": null,
            "grid_template_columns": null,
            "grid_template_rows": null,
            "height": null,
            "justify_content": null,
            "justify_items": null,
            "left": null,
            "margin": null,
            "max_height": null,
            "max_width": null,
            "min_height": null,
            "min_width": null,
            "object_fit": null,
            "object_position": null,
            "order": null,
            "overflow": null,
            "overflow_x": null,
            "overflow_y": null,
            "padding": null,
            "right": null,
            "top": null,
            "visibility": null,
            "width": null
          }
        },
        "a9bb6751889b42f29809dd083c9c5875": {
          "model_module": "@jupyter-widgets/controls",
          "model_name": "DescriptionStyleModel",
          "model_module_version": "1.5.0",
          "state": {
            "_model_module": "@jupyter-widgets/controls",
            "_model_module_version": "1.5.0",
            "_model_name": "DescriptionStyleModel",
            "_view_count": null,
            "_view_module": "@jupyter-widgets/base",
            "_view_module_version": "1.2.0",
            "_view_name": "StyleView",
            "description_width": ""
          }
        },
        "5535acb8e50849f0b99a9f1e7a0e01b3": {
          "model_module": "@jupyter-widgets/controls",
          "model_name": "HBoxModel",
          "model_module_version": "1.5.0",
          "state": {
            "_dom_classes": [],
            "_model_module": "@jupyter-widgets/controls",
            "_model_module_version": "1.5.0",
            "_model_name": "HBoxModel",
            "_view_count": null,
            "_view_module": "@jupyter-widgets/controls",
            "_view_module_version": "1.5.0",
            "_view_name": "HBoxView",
            "box_style": "",
            "children": [
              "IPY_MODEL_f6f881b50ccc436996792affa13ee4e7",
              "IPY_MODEL_eceb3d9849ce4e888b6041092330de30",
              "IPY_MODEL_f1878d44454347a1b7bc31dcdf141921"
            ],
            "layout": "IPY_MODEL_c12fe15981864edfa35f2cc11badb759"
          }
        },
        "f6f881b50ccc436996792affa13ee4e7": {
          "model_module": "@jupyter-widgets/controls",
          "model_name": "HTMLModel",
          "model_module_version": "1.5.0",
          "state": {
            "_dom_classes": [],
            "_model_module": "@jupyter-widgets/controls",
            "_model_module_version": "1.5.0",
            "_model_name": "HTMLModel",
            "_view_count": null,
            "_view_module": "@jupyter-widgets/controls",
            "_view_module_version": "1.5.0",
            "_view_name": "HTMLView",
            "description": "",
            "description_tooltip": null,
            "layout": "IPY_MODEL_74ba1305b6b44f6d9c75e67f4b68268c",
            "placeholder": "​",
            "style": "IPY_MODEL_f65bc15cc96f46e3b9707164bf287e49",
            "value": "Map: 100%"
          }
        },
        "eceb3d9849ce4e888b6041092330de30": {
          "model_module": "@jupyter-widgets/controls",
          "model_name": "FloatProgressModel",
          "model_module_version": "1.5.0",
          "state": {
            "_dom_classes": [],
            "_model_module": "@jupyter-widgets/controls",
            "_model_module_version": "1.5.0",
            "_model_name": "FloatProgressModel",
            "_view_count": null,
            "_view_module": "@jupyter-widgets/controls",
            "_view_module_version": "1.5.0",
            "_view_name": "ProgressView",
            "bar_style": "",
            "description": "",
            "description_tooltip": null,
            "layout": "IPY_MODEL_496c42dd1d0e4de8b5a29d2a726d1ff9",
            "max": 4501,
            "min": 0,
            "orientation": "horizontal",
            "style": "IPY_MODEL_058b03ab82a44c77badc99278f391ecd",
            "value": 4501
          }
        },
        "f1878d44454347a1b7bc31dcdf141921": {
          "model_module": "@jupyter-widgets/controls",
          "model_name": "HTMLModel",
          "model_module_version": "1.5.0",
          "state": {
            "_dom_classes": [],
            "_model_module": "@jupyter-widgets/controls",
            "_model_module_version": "1.5.0",
            "_model_name": "HTMLModel",
            "_view_count": null,
            "_view_module": "@jupyter-widgets/controls",
            "_view_module_version": "1.5.0",
            "_view_name": "HTMLView",
            "description": "",
            "description_tooltip": null,
            "layout": "IPY_MODEL_be558414d0c545fca27de7fed3cd414a",
            "placeholder": "​",
            "style": "IPY_MODEL_228bc742f3674f3c874edc07a585582f",
            "value": " 4501/4501 [00:02&lt;00:00, 1695.35 examples/s]"
          }
        },
        "c12fe15981864edfa35f2cc11badb759": {
          "model_module": "@jupyter-widgets/base",
          "model_name": "LayoutModel",
          "model_module_version": "1.2.0",
          "state": {
            "_model_module": "@jupyter-widgets/base",
            "_model_module_version": "1.2.0",
            "_model_name": "LayoutModel",
            "_view_count": null,
            "_view_module": "@jupyter-widgets/base",
            "_view_module_version": "1.2.0",
            "_view_name": "LayoutView",
            "align_content": null,
            "align_items": null,
            "align_self": null,
            "border": null,
            "bottom": null,
            "display": null,
            "flex": null,
            "flex_flow": null,
            "grid_area": null,
            "grid_auto_columns": null,
            "grid_auto_flow": null,
            "grid_auto_rows": null,
            "grid_column": null,
            "grid_gap": null,
            "grid_row": null,
            "grid_template_areas": null,
            "grid_template_columns": null,
            "grid_template_rows": null,
            "height": null,
            "justify_content": null,
            "justify_items": null,
            "left": null,
            "margin": null,
            "max_height": null,
            "max_width": null,
            "min_height": null,
            "min_width": null,
            "object_fit": null,
            "object_position": null,
            "order": null,
            "overflow": null,
            "overflow_x": null,
            "overflow_y": null,
            "padding": null,
            "right": null,
            "top": null,
            "visibility": "hidden",
            "width": null
          }
        },
        "74ba1305b6b44f6d9c75e67f4b68268c": {
          "model_module": "@jupyter-widgets/base",
          "model_name": "LayoutModel",
          "model_module_version": "1.2.0",
          "state": {
            "_model_module": "@jupyter-widgets/base",
            "_model_module_version": "1.2.0",
            "_model_name": "LayoutModel",
            "_view_count": null,
            "_view_module": "@jupyter-widgets/base",
            "_view_module_version": "1.2.0",
            "_view_name": "LayoutView",
            "align_content": null,
            "align_items": null,
            "align_self": null,
            "border": null,
            "bottom": null,
            "display": null,
            "flex": null,
            "flex_flow": null,
            "grid_area": null,
            "grid_auto_columns": null,
            "grid_auto_flow": null,
            "grid_auto_rows": null,
            "grid_column": null,
            "grid_gap": null,
            "grid_row": null,
            "grid_template_areas": null,
            "grid_template_columns": null,
            "grid_template_rows": null,
            "height": null,
            "justify_content": null,
            "justify_items": null,
            "left": null,
            "margin": null,
            "max_height": null,
            "max_width": null,
            "min_height": null,
            "min_width": null,
            "object_fit": null,
            "object_position": null,
            "order": null,
            "overflow": null,
            "overflow_x": null,
            "overflow_y": null,
            "padding": null,
            "right": null,
            "top": null,
            "visibility": null,
            "width": null
          }
        },
        "f65bc15cc96f46e3b9707164bf287e49": {
          "model_module": "@jupyter-widgets/controls",
          "model_name": "DescriptionStyleModel",
          "model_module_version": "1.5.0",
          "state": {
            "_model_module": "@jupyter-widgets/controls",
            "_model_module_version": "1.5.0",
            "_model_name": "DescriptionStyleModel",
            "_view_count": null,
            "_view_module": "@jupyter-widgets/base",
            "_view_module_version": "1.2.0",
            "_view_name": "StyleView",
            "description_width": ""
          }
        },
        "496c42dd1d0e4de8b5a29d2a726d1ff9": {
          "model_module": "@jupyter-widgets/base",
          "model_name": "LayoutModel",
          "model_module_version": "1.2.0",
          "state": {
            "_model_module": "@jupyter-widgets/base",
            "_model_module_version": "1.2.0",
            "_model_name": "LayoutModel",
            "_view_count": null,
            "_view_module": "@jupyter-widgets/base",
            "_view_module_version": "1.2.0",
            "_view_name": "LayoutView",
            "align_content": null,
            "align_items": null,
            "align_self": null,
            "border": null,
            "bottom": null,
            "display": null,
            "flex": null,
            "flex_flow": null,
            "grid_area": null,
            "grid_auto_columns": null,
            "grid_auto_flow": null,
            "grid_auto_rows": null,
            "grid_column": null,
            "grid_gap": null,
            "grid_row": null,
            "grid_template_areas": null,
            "grid_template_columns": null,
            "grid_template_rows": null,
            "height": null,
            "justify_content": null,
            "justify_items": null,
            "left": null,
            "margin": null,
            "max_height": null,
            "max_width": null,
            "min_height": null,
            "min_width": null,
            "object_fit": null,
            "object_position": null,
            "order": null,
            "overflow": null,
            "overflow_x": null,
            "overflow_y": null,
            "padding": null,
            "right": null,
            "top": null,
            "visibility": null,
            "width": null
          }
        },
        "058b03ab82a44c77badc99278f391ecd": {
          "model_module": "@jupyter-widgets/controls",
          "model_name": "ProgressStyleModel",
          "model_module_version": "1.5.0",
          "state": {
            "_model_module": "@jupyter-widgets/controls",
            "_model_module_version": "1.5.0",
            "_model_name": "ProgressStyleModel",
            "_view_count": null,
            "_view_module": "@jupyter-widgets/base",
            "_view_module_version": "1.2.0",
            "_view_name": "StyleView",
            "bar_color": null,
            "description_width": ""
          }
        },
        "be558414d0c545fca27de7fed3cd414a": {
          "model_module": "@jupyter-widgets/base",
          "model_name": "LayoutModel",
          "model_module_version": "1.2.0",
          "state": {
            "_model_module": "@jupyter-widgets/base",
            "_model_module_version": "1.2.0",
            "_model_name": "LayoutModel",
            "_view_count": null,
            "_view_module": "@jupyter-widgets/base",
            "_view_module_version": "1.2.0",
            "_view_name": "LayoutView",
            "align_content": null,
            "align_items": null,
            "align_self": null,
            "border": null,
            "bottom": null,
            "display": null,
            "flex": null,
            "flex_flow": null,
            "grid_area": null,
            "grid_auto_columns": null,
            "grid_auto_flow": null,
            "grid_auto_rows": null,
            "grid_column": null,
            "grid_gap": null,
            "grid_row": null,
            "grid_template_areas": null,
            "grid_template_columns": null,
            "grid_template_rows": null,
            "height": null,
            "justify_content": null,
            "justify_items": null,
            "left": null,
            "margin": null,
            "max_height": null,
            "max_width": null,
            "min_height": null,
            "min_width": null,
            "object_fit": null,
            "object_position": null,
            "order": null,
            "overflow": null,
            "overflow_x": null,
            "overflow_y": null,
            "padding": null,
            "right": null,
            "top": null,
            "visibility": null,
            "width": null
          }
        },
        "228bc742f3674f3c874edc07a585582f": {
          "model_module": "@jupyter-widgets/controls",
          "model_name": "DescriptionStyleModel",
          "model_module_version": "1.5.0",
          "state": {
            "_model_module": "@jupyter-widgets/controls",
            "_model_module_version": "1.5.0",
            "_model_name": "DescriptionStyleModel",
            "_view_count": null,
            "_view_module": "@jupyter-widgets/base",
            "_view_module_version": "1.2.0",
            "_view_name": "StyleView",
            "description_width": ""
          }
        },
        "5c3e2dba90e5474ea0afb0e66ffe02d4": {
          "model_module": "@jupyter-widgets/controls",
          "model_name": "HBoxModel",
          "model_module_version": "1.5.0",
          "state": {
            "_dom_classes": [],
            "_model_module": "@jupyter-widgets/controls",
            "_model_module_version": "1.5.0",
            "_model_name": "HBoxModel",
            "_view_count": null,
            "_view_module": "@jupyter-widgets/controls",
            "_view_module_version": "1.5.0",
            "_view_name": "HBoxView",
            "box_style": "",
            "children": [
              "IPY_MODEL_39b58a84458d4b03be75c5ad1614dbed",
              "IPY_MODEL_a60bb3e83a104709b5540bed94ac77ff",
              "IPY_MODEL_db4333d78f524ed5995ceca3506c5cb4"
            ],
            "layout": "IPY_MODEL_d68314729acb4154ac436e579f7b5b1c"
          }
        },
        "39b58a84458d4b03be75c5ad1614dbed": {
          "model_module": "@jupyter-widgets/controls",
          "model_name": "HTMLModel",
          "model_module_version": "1.5.0",
          "state": {
            "_dom_classes": [],
            "_model_module": "@jupyter-widgets/controls",
            "_model_module_version": "1.5.0",
            "_model_name": "HTMLModel",
            "_view_count": null,
            "_view_module": "@jupyter-widgets/controls",
            "_view_module_version": "1.5.0",
            "_view_name": "HTMLView",
            "description": "",
            "description_tooltip": null,
            "layout": "IPY_MODEL_28e3bb13a84a45a492ae07a999b8f391",
            "placeholder": "​",
            "style": "IPY_MODEL_4e7edced928241189e556ebd778c92b9",
            "value": "Map: 100%"
          }
        },
        "a60bb3e83a104709b5540bed94ac77ff": {
          "model_module": "@jupyter-widgets/controls",
          "model_name": "FloatProgressModel",
          "model_module_version": "1.5.0",
          "state": {
            "_dom_classes": [],
            "_model_module": "@jupyter-widgets/controls",
            "_model_module_version": "1.5.0",
            "_model_name": "FloatProgressModel",
            "_view_count": null,
            "_view_module": "@jupyter-widgets/controls",
            "_view_module_version": "1.5.0",
            "_view_name": "ProgressView",
            "bar_style": "",
            "description": "",
            "description_tooltip": null,
            "layout": "IPY_MODEL_7d4203c6ec5f4309b751c67434dffb0e",
            "max": 1126,
            "min": 0,
            "orientation": "horizontal",
            "style": "IPY_MODEL_8bc5cd59664c449fa4f4c35bc4ec1a3b",
            "value": 1126
          }
        },
        "db4333d78f524ed5995ceca3506c5cb4": {
          "model_module": "@jupyter-widgets/controls",
          "model_name": "HTMLModel",
          "model_module_version": "1.5.0",
          "state": {
            "_dom_classes": [],
            "_model_module": "@jupyter-widgets/controls",
            "_model_module_version": "1.5.0",
            "_model_name": "HTMLModel",
            "_view_count": null,
            "_view_module": "@jupyter-widgets/controls",
            "_view_module_version": "1.5.0",
            "_view_name": "HTMLView",
            "description": "",
            "description_tooltip": null,
            "layout": "IPY_MODEL_cb7892c2154447ee9057df9c898e8510",
            "placeholder": "​",
            "style": "IPY_MODEL_4c3a6f62f6cb45a289d9408074ccbc5c",
            "value": " 1126/1126 [00:00&lt;00:00, 2254.40 examples/s]"
          }
        },
        "d68314729acb4154ac436e579f7b5b1c": {
          "model_module": "@jupyter-widgets/base",
          "model_name": "LayoutModel",
          "model_module_version": "1.2.0",
          "state": {
            "_model_module": "@jupyter-widgets/base",
            "_model_module_version": "1.2.0",
            "_model_name": "LayoutModel",
            "_view_count": null,
            "_view_module": "@jupyter-widgets/base",
            "_view_module_version": "1.2.0",
            "_view_name": "LayoutView",
            "align_content": null,
            "align_items": null,
            "align_self": null,
            "border": null,
            "bottom": null,
            "display": null,
            "flex": null,
            "flex_flow": null,
            "grid_area": null,
            "grid_auto_columns": null,
            "grid_auto_flow": null,
            "grid_auto_rows": null,
            "grid_column": null,
            "grid_gap": null,
            "grid_row": null,
            "grid_template_areas": null,
            "grid_template_columns": null,
            "grid_template_rows": null,
            "height": null,
            "justify_content": null,
            "justify_items": null,
            "left": null,
            "margin": null,
            "max_height": null,
            "max_width": null,
            "min_height": null,
            "min_width": null,
            "object_fit": null,
            "object_position": null,
            "order": null,
            "overflow": null,
            "overflow_x": null,
            "overflow_y": null,
            "padding": null,
            "right": null,
            "top": null,
            "visibility": "hidden",
            "width": null
          }
        },
        "28e3bb13a84a45a492ae07a999b8f391": {
          "model_module": "@jupyter-widgets/base",
          "model_name": "LayoutModel",
          "model_module_version": "1.2.0",
          "state": {
            "_model_module": "@jupyter-widgets/base",
            "_model_module_version": "1.2.0",
            "_model_name": "LayoutModel",
            "_view_count": null,
            "_view_module": "@jupyter-widgets/base",
            "_view_module_version": "1.2.0",
            "_view_name": "LayoutView",
            "align_content": null,
            "align_items": null,
            "align_self": null,
            "border": null,
            "bottom": null,
            "display": null,
            "flex": null,
            "flex_flow": null,
            "grid_area": null,
            "grid_auto_columns": null,
            "grid_auto_flow": null,
            "grid_auto_rows": null,
            "grid_column": null,
            "grid_gap": null,
            "grid_row": null,
            "grid_template_areas": null,
            "grid_template_columns": null,
            "grid_template_rows": null,
            "height": null,
            "justify_content": null,
            "justify_items": null,
            "left": null,
            "margin": null,
            "max_height": null,
            "max_width": null,
            "min_height": null,
            "min_width": null,
            "object_fit": null,
            "object_position": null,
            "order": null,
            "overflow": null,
            "overflow_x": null,
            "overflow_y": null,
            "padding": null,
            "right": null,
            "top": null,
            "visibility": null,
            "width": null
          }
        },
        "4e7edced928241189e556ebd778c92b9": {
          "model_module": "@jupyter-widgets/controls",
          "model_name": "DescriptionStyleModel",
          "model_module_version": "1.5.0",
          "state": {
            "_model_module": "@jupyter-widgets/controls",
            "_model_module_version": "1.5.0",
            "_model_name": "DescriptionStyleModel",
            "_view_count": null,
            "_view_module": "@jupyter-widgets/base",
            "_view_module_version": "1.2.0",
            "_view_name": "StyleView",
            "description_width": ""
          }
        },
        "7d4203c6ec5f4309b751c67434dffb0e": {
          "model_module": "@jupyter-widgets/base",
          "model_name": "LayoutModel",
          "model_module_version": "1.2.0",
          "state": {
            "_model_module": "@jupyter-widgets/base",
            "_model_module_version": "1.2.0",
            "_model_name": "LayoutModel",
            "_view_count": null,
            "_view_module": "@jupyter-widgets/base",
            "_view_module_version": "1.2.0",
            "_view_name": "LayoutView",
            "align_content": null,
            "align_items": null,
            "align_self": null,
            "border": null,
            "bottom": null,
            "display": null,
            "flex": null,
            "flex_flow": null,
            "grid_area": null,
            "grid_auto_columns": null,
            "grid_auto_flow": null,
            "grid_auto_rows": null,
            "grid_column": null,
            "grid_gap": null,
            "grid_row": null,
            "grid_template_areas": null,
            "grid_template_columns": null,
            "grid_template_rows": null,
            "height": null,
            "justify_content": null,
            "justify_items": null,
            "left": null,
            "margin": null,
            "max_height": null,
            "max_width": null,
            "min_height": null,
            "min_width": null,
            "object_fit": null,
            "object_position": null,
            "order": null,
            "overflow": null,
            "overflow_x": null,
            "overflow_y": null,
            "padding": null,
            "right": null,
            "top": null,
            "visibility": null,
            "width": null
          }
        },
        "8bc5cd59664c449fa4f4c35bc4ec1a3b": {
          "model_module": "@jupyter-widgets/controls",
          "model_name": "ProgressStyleModel",
          "model_module_version": "1.5.0",
          "state": {
            "_model_module": "@jupyter-widgets/controls",
            "_model_module_version": "1.5.0",
            "_model_name": "ProgressStyleModel",
            "_view_count": null,
            "_view_module": "@jupyter-widgets/base",
            "_view_module_version": "1.2.0",
            "_view_name": "StyleView",
            "bar_color": null,
            "description_width": ""
          }
        },
        "cb7892c2154447ee9057df9c898e8510": {
          "model_module": "@jupyter-widgets/base",
          "model_name": "LayoutModel",
          "model_module_version": "1.2.0",
          "state": {
            "_model_module": "@jupyter-widgets/base",
            "_model_module_version": "1.2.0",
            "_model_name": "LayoutModel",
            "_view_count": null,
            "_view_module": "@jupyter-widgets/base",
            "_view_module_version": "1.2.0",
            "_view_name": "LayoutView",
            "align_content": null,
            "align_items": null,
            "align_self": null,
            "border": null,
            "bottom": null,
            "display": null,
            "flex": null,
            "flex_flow": null,
            "grid_area": null,
            "grid_auto_columns": null,
            "grid_auto_flow": null,
            "grid_auto_rows": null,
            "grid_column": null,
            "grid_gap": null,
            "grid_row": null,
            "grid_template_areas": null,
            "grid_template_columns": null,
            "grid_template_rows": null,
            "height": null,
            "justify_content": null,
            "justify_items": null,
            "left": null,
            "margin": null,
            "max_height": null,
            "max_width": null,
            "min_height": null,
            "min_width": null,
            "object_fit": null,
            "object_position": null,
            "order": null,
            "overflow": null,
            "overflow_x": null,
            "overflow_y": null,
            "padding": null,
            "right": null,
            "top": null,
            "visibility": null,
            "width": null
          }
        },
        "4c3a6f62f6cb45a289d9408074ccbc5c": {
          "model_module": "@jupyter-widgets/controls",
          "model_name": "DescriptionStyleModel",
          "model_module_version": "1.5.0",
          "state": {
            "_model_module": "@jupyter-widgets/controls",
            "_model_module_version": "1.5.0",
            "_model_name": "DescriptionStyleModel",
            "_view_count": null,
            "_view_module": "@jupyter-widgets/base",
            "_view_module_version": "1.2.0",
            "_view_name": "StyleView",
            "description_width": ""
          }
        },
        "2fece90c5e014ebeb75e9da766bcad05": {
          "model_module": "@jupyter-widgets/controls",
          "model_name": "HBoxModel",
          "model_module_version": "1.5.0",
          "state": {
            "_dom_classes": [],
            "_model_module": "@jupyter-widgets/controls",
            "_model_module_version": "1.5.0",
            "_model_name": "HBoxModel",
            "_view_count": null,
            "_view_module": "@jupyter-widgets/controls",
            "_view_module_version": "1.5.0",
            "_view_name": "HBoxView",
            "box_style": "",
            "children": [
              "IPY_MODEL_a831dd6f27834cc880c96a86db44cfce",
              "IPY_MODEL_e17da21e337740ecbaf10be36347740c",
              "IPY_MODEL_24b51643454e450fb2c02a21e11256b7"
            ],
            "layout": "IPY_MODEL_069a0983279c483d86ed55c4accd730a"
          }
        },
        "a831dd6f27834cc880c96a86db44cfce": {
          "model_module": "@jupyter-widgets/controls",
          "model_name": "HTMLModel",
          "model_module_version": "1.5.0",
          "state": {
            "_dom_classes": [],
            "_model_module": "@jupyter-widgets/controls",
            "_model_module_version": "1.5.0",
            "_model_name": "HTMLModel",
            "_view_count": null,
            "_view_module": "@jupyter-widgets/controls",
            "_view_module_version": "1.5.0",
            "_view_name": "HTMLView",
            "description": "",
            "description_tooltip": null,
            "layout": "IPY_MODEL_c8a9fc9e49c2472e9b5debc338ba79e6",
            "placeholder": "​",
            "style": "IPY_MODEL_81c35b2201bb4df3b1f0edb4a3ca489a",
            "value": "Downloading pytorch_model.bin: 100%"
          }
        },
        "e17da21e337740ecbaf10be36347740c": {
          "model_module": "@jupyter-widgets/controls",
          "model_name": "FloatProgressModel",
          "model_module_version": "1.5.0",
          "state": {
            "_dom_classes": [],
            "_model_module": "@jupyter-widgets/controls",
            "_model_module_version": "1.5.0",
            "_model_name": "FloatProgressModel",
            "_view_count": null,
            "_view_module": "@jupyter-widgets/controls",
            "_view_module_version": "1.5.0",
            "_view_name": "ProgressView",
            "bar_style": "success",
            "description": "",
            "description_tooltip": null,
            "layout": "IPY_MODEL_1de10fdd2f0049e7b88296f0031a60b2",
            "max": 267967963,
            "min": 0,
            "orientation": "horizontal",
            "style": "IPY_MODEL_9dc6448583974c14aaa02b581f326029",
            "value": 267967963
          }
        },
        "24b51643454e450fb2c02a21e11256b7": {
          "model_module": "@jupyter-widgets/controls",
          "model_name": "HTMLModel",
          "model_module_version": "1.5.0",
          "state": {
            "_dom_classes": [],
            "_model_module": "@jupyter-widgets/controls",
            "_model_module_version": "1.5.0",
            "_model_name": "HTMLModel",
            "_view_count": null,
            "_view_module": "@jupyter-widgets/controls",
            "_view_module_version": "1.5.0",
            "_view_name": "HTMLView",
            "description": "",
            "description_tooltip": null,
            "layout": "IPY_MODEL_79232010879c40f6950167d085c5f80f",
            "placeholder": "​",
            "style": "IPY_MODEL_e2af2c3227d74d1f869e155d24f508a0",
            "value": " 268M/268M [00:01&lt;00:00, 237MB/s]"
          }
        },
        "069a0983279c483d86ed55c4accd730a": {
          "model_module": "@jupyter-widgets/base",
          "model_name": "LayoutModel",
          "model_module_version": "1.2.0",
          "state": {
            "_model_module": "@jupyter-widgets/base",
            "_model_module_version": "1.2.0",
            "_model_name": "LayoutModel",
            "_view_count": null,
            "_view_module": "@jupyter-widgets/base",
            "_view_module_version": "1.2.0",
            "_view_name": "LayoutView",
            "align_content": null,
            "align_items": null,
            "align_self": null,
            "border": null,
            "bottom": null,
            "display": null,
            "flex": null,
            "flex_flow": null,
            "grid_area": null,
            "grid_auto_columns": null,
            "grid_auto_flow": null,
            "grid_auto_rows": null,
            "grid_column": null,
            "grid_gap": null,
            "grid_row": null,
            "grid_template_areas": null,
            "grid_template_columns": null,
            "grid_template_rows": null,
            "height": null,
            "justify_content": null,
            "justify_items": null,
            "left": null,
            "margin": null,
            "max_height": null,
            "max_width": null,
            "min_height": null,
            "min_width": null,
            "object_fit": null,
            "object_position": null,
            "order": null,
            "overflow": null,
            "overflow_x": null,
            "overflow_y": null,
            "padding": null,
            "right": null,
            "top": null,
            "visibility": null,
            "width": null
          }
        },
        "c8a9fc9e49c2472e9b5debc338ba79e6": {
          "model_module": "@jupyter-widgets/base",
          "model_name": "LayoutModel",
          "model_module_version": "1.2.0",
          "state": {
            "_model_module": "@jupyter-widgets/base",
            "_model_module_version": "1.2.0",
            "_model_name": "LayoutModel",
            "_view_count": null,
            "_view_module": "@jupyter-widgets/base",
            "_view_module_version": "1.2.0",
            "_view_name": "LayoutView",
            "align_content": null,
            "align_items": null,
            "align_self": null,
            "border": null,
            "bottom": null,
            "display": null,
            "flex": null,
            "flex_flow": null,
            "grid_area": null,
            "grid_auto_columns": null,
            "grid_auto_flow": null,
            "grid_auto_rows": null,
            "grid_column": null,
            "grid_gap": null,
            "grid_row": null,
            "grid_template_areas": null,
            "grid_template_columns": null,
            "grid_template_rows": null,
            "height": null,
            "justify_content": null,
            "justify_items": null,
            "left": null,
            "margin": null,
            "max_height": null,
            "max_width": null,
            "min_height": null,
            "min_width": null,
            "object_fit": null,
            "object_position": null,
            "order": null,
            "overflow": null,
            "overflow_x": null,
            "overflow_y": null,
            "padding": null,
            "right": null,
            "top": null,
            "visibility": null,
            "width": null
          }
        },
        "81c35b2201bb4df3b1f0edb4a3ca489a": {
          "model_module": "@jupyter-widgets/controls",
          "model_name": "DescriptionStyleModel",
          "model_module_version": "1.5.0",
          "state": {
            "_model_module": "@jupyter-widgets/controls",
            "_model_module_version": "1.5.0",
            "_model_name": "DescriptionStyleModel",
            "_view_count": null,
            "_view_module": "@jupyter-widgets/base",
            "_view_module_version": "1.2.0",
            "_view_name": "StyleView",
            "description_width": ""
          }
        },
        "1de10fdd2f0049e7b88296f0031a60b2": {
          "model_module": "@jupyter-widgets/base",
          "model_name": "LayoutModel",
          "model_module_version": "1.2.0",
          "state": {
            "_model_module": "@jupyter-widgets/base",
            "_model_module_version": "1.2.0",
            "_model_name": "LayoutModel",
            "_view_count": null,
            "_view_module": "@jupyter-widgets/base",
            "_view_module_version": "1.2.0",
            "_view_name": "LayoutView",
            "align_content": null,
            "align_items": null,
            "align_self": null,
            "border": null,
            "bottom": null,
            "display": null,
            "flex": null,
            "flex_flow": null,
            "grid_area": null,
            "grid_auto_columns": null,
            "grid_auto_flow": null,
            "grid_auto_rows": null,
            "grid_column": null,
            "grid_gap": null,
            "grid_row": null,
            "grid_template_areas": null,
            "grid_template_columns": null,
            "grid_template_rows": null,
            "height": null,
            "justify_content": null,
            "justify_items": null,
            "left": null,
            "margin": null,
            "max_height": null,
            "max_width": null,
            "min_height": null,
            "min_width": null,
            "object_fit": null,
            "object_position": null,
            "order": null,
            "overflow": null,
            "overflow_x": null,
            "overflow_y": null,
            "padding": null,
            "right": null,
            "top": null,
            "visibility": null,
            "width": null
          }
        },
        "9dc6448583974c14aaa02b581f326029": {
          "model_module": "@jupyter-widgets/controls",
          "model_name": "ProgressStyleModel",
          "model_module_version": "1.5.0",
          "state": {
            "_model_module": "@jupyter-widgets/controls",
            "_model_module_version": "1.5.0",
            "_model_name": "ProgressStyleModel",
            "_view_count": null,
            "_view_module": "@jupyter-widgets/base",
            "_view_module_version": "1.2.0",
            "_view_name": "StyleView",
            "bar_color": null,
            "description_width": ""
          }
        },
        "79232010879c40f6950167d085c5f80f": {
          "model_module": "@jupyter-widgets/base",
          "model_name": "LayoutModel",
          "model_module_version": "1.2.0",
          "state": {
            "_model_module": "@jupyter-widgets/base",
            "_model_module_version": "1.2.0",
            "_model_name": "LayoutModel",
            "_view_count": null,
            "_view_module": "@jupyter-widgets/base",
            "_view_module_version": "1.2.0",
            "_view_name": "LayoutView",
            "align_content": null,
            "align_items": null,
            "align_self": null,
            "border": null,
            "bottom": null,
            "display": null,
            "flex": null,
            "flex_flow": null,
            "grid_area": null,
            "grid_auto_columns": null,
            "grid_auto_flow": null,
            "grid_auto_rows": null,
            "grid_column": null,
            "grid_gap": null,
            "grid_row": null,
            "grid_template_areas": null,
            "grid_template_columns": null,
            "grid_template_rows": null,
            "height": null,
            "justify_content": null,
            "justify_items": null,
            "left": null,
            "margin": null,
            "max_height": null,
            "max_width": null,
            "min_height": null,
            "min_width": null,
            "object_fit": null,
            "object_position": null,
            "order": null,
            "overflow": null,
            "overflow_x": null,
            "overflow_y": null,
            "padding": null,
            "right": null,
            "top": null,
            "visibility": null,
            "width": null
          }
        },
        "e2af2c3227d74d1f869e155d24f508a0": {
          "model_module": "@jupyter-widgets/controls",
          "model_name": "DescriptionStyleModel",
          "model_module_version": "1.5.0",
          "state": {
            "_model_module": "@jupyter-widgets/controls",
            "_model_module_version": "1.5.0",
            "_model_name": "DescriptionStyleModel",
            "_view_count": null,
            "_view_module": "@jupyter-widgets/base",
            "_view_module_version": "1.2.0",
            "_view_name": "StyleView",
            "description_width": ""
          }
        },
        "adb4468fd7b44fc8baf3c306e7df6b6c": {
          "model_module": "@jupyter-widgets/controls",
          "model_name": "HBoxModel",
          "model_module_version": "1.5.0",
          "state": {
            "_dom_classes": [],
            "_model_module": "@jupyter-widgets/controls",
            "_model_module_version": "1.5.0",
            "_model_name": "HBoxModel",
            "_view_count": null,
            "_view_module": "@jupyter-widgets/controls",
            "_view_module_version": "1.5.0",
            "_view_name": "HBoxView",
            "box_style": "",
            "children": [
              "IPY_MODEL_615406be793d44c0a4311f2c21cfd27d",
              "IPY_MODEL_a6dc21abb1b644998cd13e2f87f35eeb",
              "IPY_MODEL_e3fc89bbf394486c80c62aeaa95ebb8c"
            ],
            "layout": "IPY_MODEL_c1b04f9c92514a20ab4999c432778b63"
          }
        },
        "615406be793d44c0a4311f2c21cfd27d": {
          "model_module": "@jupyter-widgets/controls",
          "model_name": "HTMLModel",
          "model_module_version": "1.5.0",
          "state": {
            "_dom_classes": [],
            "_model_module": "@jupyter-widgets/controls",
            "_model_module_version": "1.5.0",
            "_model_name": "HTMLModel",
            "_view_count": null,
            "_view_module": "@jupyter-widgets/controls",
            "_view_module_version": "1.5.0",
            "_view_name": "HTMLView",
            "description": "",
            "description_tooltip": null,
            "layout": "IPY_MODEL_d9553eb7755c4267817758182fdda35a",
            "placeholder": "​",
            "style": "IPY_MODEL_1b9a3451d4ae4c828cd65d2f07508474",
            "value": "Map:   6%"
          }
        },
        "a6dc21abb1b644998cd13e2f87f35eeb": {
          "model_module": "@jupyter-widgets/controls",
          "model_name": "FloatProgressModel",
          "model_module_version": "1.5.0",
          "state": {
            "_dom_classes": [],
            "_model_module": "@jupyter-widgets/controls",
            "_model_module_version": "1.5.0",
            "_model_name": "FloatProgressModel",
            "_view_count": null,
            "_view_module": "@jupyter-widgets/controls",
            "_view_module_version": "1.5.0",
            "_view_name": "ProgressView",
            "bar_style": "danger",
            "description": "",
            "description_tooltip": null,
            "layout": "IPY_MODEL_fee394d20bef449aacf714539deac5ed",
            "max": 4501,
            "min": 0,
            "orientation": "horizontal",
            "style": "IPY_MODEL_30a92fb4d6c242c5b658dcc68a3995e9",
            "value": 256
          }
        },
        "e3fc89bbf394486c80c62aeaa95ebb8c": {
          "model_module": "@jupyter-widgets/controls",
          "model_name": "HTMLModel",
          "model_module_version": "1.5.0",
          "state": {
            "_dom_classes": [],
            "_model_module": "@jupyter-widgets/controls",
            "_model_module_version": "1.5.0",
            "_model_name": "HTMLModel",
            "_view_count": null,
            "_view_module": "@jupyter-widgets/controls",
            "_view_module_version": "1.5.0",
            "_view_name": "HTMLView",
            "description": "",
            "description_tooltip": null,
            "layout": "IPY_MODEL_65f3c8684d1f41c88f093f89b616959c",
            "placeholder": "​",
            "style": "IPY_MODEL_988e8cda22a0411faf02726d2a593ca4",
            "value": " 256/4501 [11:41&lt;1:53:45,  1.61s/ examples]"
          }
        },
        "c1b04f9c92514a20ab4999c432778b63": {
          "model_module": "@jupyter-widgets/base",
          "model_name": "LayoutModel",
          "model_module_version": "1.2.0",
          "state": {
            "_model_module": "@jupyter-widgets/base",
            "_model_module_version": "1.2.0",
            "_model_name": "LayoutModel",
            "_view_count": null,
            "_view_module": "@jupyter-widgets/base",
            "_view_module_version": "1.2.0",
            "_view_name": "LayoutView",
            "align_content": null,
            "align_items": null,
            "align_self": null,
            "border": null,
            "bottom": null,
            "display": null,
            "flex": null,
            "flex_flow": null,
            "grid_area": null,
            "grid_auto_columns": null,
            "grid_auto_flow": null,
            "grid_auto_rows": null,
            "grid_column": null,
            "grid_gap": null,
            "grid_row": null,
            "grid_template_areas": null,
            "grid_template_columns": null,
            "grid_template_rows": null,
            "height": null,
            "justify_content": null,
            "justify_items": null,
            "left": null,
            "margin": null,
            "max_height": null,
            "max_width": null,
            "min_height": null,
            "min_width": null,
            "object_fit": null,
            "object_position": null,
            "order": null,
            "overflow": null,
            "overflow_x": null,
            "overflow_y": null,
            "padding": null,
            "right": null,
            "top": null,
            "visibility": null,
            "width": null
          }
        },
        "d9553eb7755c4267817758182fdda35a": {
          "model_module": "@jupyter-widgets/base",
          "model_name": "LayoutModel",
          "model_module_version": "1.2.0",
          "state": {
            "_model_module": "@jupyter-widgets/base",
            "_model_module_version": "1.2.0",
            "_model_name": "LayoutModel",
            "_view_count": null,
            "_view_module": "@jupyter-widgets/base",
            "_view_module_version": "1.2.0",
            "_view_name": "LayoutView",
            "align_content": null,
            "align_items": null,
            "align_self": null,
            "border": null,
            "bottom": null,
            "display": null,
            "flex": null,
            "flex_flow": null,
            "grid_area": null,
            "grid_auto_columns": null,
            "grid_auto_flow": null,
            "grid_auto_rows": null,
            "grid_column": null,
            "grid_gap": null,
            "grid_row": null,
            "grid_template_areas": null,
            "grid_template_columns": null,
            "grid_template_rows": null,
            "height": null,
            "justify_content": null,
            "justify_items": null,
            "left": null,
            "margin": null,
            "max_height": null,
            "max_width": null,
            "min_height": null,
            "min_width": null,
            "object_fit": null,
            "object_position": null,
            "order": null,
            "overflow": null,
            "overflow_x": null,
            "overflow_y": null,
            "padding": null,
            "right": null,
            "top": null,
            "visibility": null,
            "width": null
          }
        },
        "1b9a3451d4ae4c828cd65d2f07508474": {
          "model_module": "@jupyter-widgets/controls",
          "model_name": "DescriptionStyleModel",
          "model_module_version": "1.5.0",
          "state": {
            "_model_module": "@jupyter-widgets/controls",
            "_model_module_version": "1.5.0",
            "_model_name": "DescriptionStyleModel",
            "_view_count": null,
            "_view_module": "@jupyter-widgets/base",
            "_view_module_version": "1.2.0",
            "_view_name": "StyleView",
            "description_width": ""
          }
        },
        "fee394d20bef449aacf714539deac5ed": {
          "model_module": "@jupyter-widgets/base",
          "model_name": "LayoutModel",
          "model_module_version": "1.2.0",
          "state": {
            "_model_module": "@jupyter-widgets/base",
            "_model_module_version": "1.2.0",
            "_model_name": "LayoutModel",
            "_view_count": null,
            "_view_module": "@jupyter-widgets/base",
            "_view_module_version": "1.2.0",
            "_view_name": "LayoutView",
            "align_content": null,
            "align_items": null,
            "align_self": null,
            "border": null,
            "bottom": null,
            "display": null,
            "flex": null,
            "flex_flow": null,
            "grid_area": null,
            "grid_auto_columns": null,
            "grid_auto_flow": null,
            "grid_auto_rows": null,
            "grid_column": null,
            "grid_gap": null,
            "grid_row": null,
            "grid_template_areas": null,
            "grid_template_columns": null,
            "grid_template_rows": null,
            "height": null,
            "justify_content": null,
            "justify_items": null,
            "left": null,
            "margin": null,
            "max_height": null,
            "max_width": null,
            "min_height": null,
            "min_width": null,
            "object_fit": null,
            "object_position": null,
            "order": null,
            "overflow": null,
            "overflow_x": null,
            "overflow_y": null,
            "padding": null,
            "right": null,
            "top": null,
            "visibility": null,
            "width": null
          }
        },
        "30a92fb4d6c242c5b658dcc68a3995e9": {
          "model_module": "@jupyter-widgets/controls",
          "model_name": "ProgressStyleModel",
          "model_module_version": "1.5.0",
          "state": {
            "_model_module": "@jupyter-widgets/controls",
            "_model_module_version": "1.5.0",
            "_model_name": "ProgressStyleModel",
            "_view_count": null,
            "_view_module": "@jupyter-widgets/base",
            "_view_module_version": "1.2.0",
            "_view_name": "StyleView",
            "bar_color": null,
            "description_width": ""
          }
        },
        "65f3c8684d1f41c88f093f89b616959c": {
          "model_module": "@jupyter-widgets/base",
          "model_name": "LayoutModel",
          "model_module_version": "1.2.0",
          "state": {
            "_model_module": "@jupyter-widgets/base",
            "_model_module_version": "1.2.0",
            "_model_name": "LayoutModel",
            "_view_count": null,
            "_view_module": "@jupyter-widgets/base",
            "_view_module_version": "1.2.0",
            "_view_name": "LayoutView",
            "align_content": null,
            "align_items": null,
            "align_self": null,
            "border": null,
            "bottom": null,
            "display": null,
            "flex": null,
            "flex_flow": null,
            "grid_area": null,
            "grid_auto_columns": null,
            "grid_auto_flow": null,
            "grid_auto_rows": null,
            "grid_column": null,
            "grid_gap": null,
            "grid_row": null,
            "grid_template_areas": null,
            "grid_template_columns": null,
            "grid_template_rows": null,
            "height": null,
            "justify_content": null,
            "justify_items": null,
            "left": null,
            "margin": null,
            "max_height": null,
            "max_width": null,
            "min_height": null,
            "min_width": null,
            "object_fit": null,
            "object_position": null,
            "order": null,
            "overflow": null,
            "overflow_x": null,
            "overflow_y": null,
            "padding": null,
            "right": null,
            "top": null,
            "visibility": null,
            "width": null
          }
        },
        "988e8cda22a0411faf02726d2a593ca4": {
          "model_module": "@jupyter-widgets/controls",
          "model_name": "DescriptionStyleModel",
          "model_module_version": "1.5.0",
          "state": {
            "_model_module": "@jupyter-widgets/controls",
            "_model_module_version": "1.5.0",
            "_model_name": "DescriptionStyleModel",
            "_view_count": null,
            "_view_module": "@jupyter-widgets/base",
            "_view_module_version": "1.2.0",
            "_view_name": "StyleView",
            "description_width": ""
          }
        }
      }
    }
  },
  "nbformat": 4,
  "nbformat_minor": 0
}