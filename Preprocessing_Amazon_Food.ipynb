{
  "cells": [
    {
      "cell_type": "markdown",
      "metadata": {
        "id": "view-in-github",
        "colab_type": "text"
      },
      "source": [
        "<a href=\"https://colab.research.google.com/github/MarioAvolio/proj-data-an/blob/main/Preprocessing_Amazon_Food.ipynb\" target=\"_parent\"><img src=\"https://colab.research.google.com/assets/colab-badge.svg\" alt=\"Open In Colab\"/></a>"
      ]
    },
    {
      "cell_type": "code",
      "execution_count": 8,
      "metadata": {
        "id": "GsRizD7zFJ3V"
      },
      "outputs": [],
      "source": [
        "import pandas as pd\n",
        "import os\n",
        "import matplotlib.pyplot as plt # plotting\n",
        "import numpy as np"
      ]
    },
    {
      "cell_type": "code",
      "execution_count": 9,
      "metadata": {
        "colab": {
          "base_uri": "https://localhost:8080/"
        },
        "id": "fJ6-kXG-0p7V",
        "outputId": "3540f9b1-d84d-41bb-b5a0-3848b39cccbb"
      },
      "outputs": [
        {
          "output_type": "stream",
          "name": "stdout",
          "text": [
            "Mounted at /content/drive\n"
          ]
        }
      ],
      "source": [
        "from google.colab import drive\n",
        "drive.mount('/content/drive', force_remount=True)"
      ]
    },
    {
      "cell_type": "code",
      "execution_count": 10,
      "metadata": {
        "id": "WeWarxz8ZuPB",
        "colab": {
          "base_uri": "https://localhost:8080/"
        },
        "outputId": "2160ff65-c47e-4a8c-d168-6a7cb093e76a"
      },
      "outputs": [
        {
          "output_type": "stream",
          "name": "stderr",
          "text": [
            "[nltk_data] Downloading package punkt to /root/nltk_data...\n",
            "[nltk_data]   Unzipping tokenizers/punkt.zip.\n",
            "[nltk_data] Downloading package stopwords to /root/nltk_data...\n",
            "[nltk_data]   Unzipping corpora/stopwords.zip.\n"
          ]
        }
      ],
      "source": [
        "import nltk\n",
        "#https://www.nltk.org/\n",
        "\n",
        "#NLTK is a leading platform for building Python programs to work with human language data. \n",
        "#It provides easy-to-use interfaces to over 50 corpora and lexical resources such as WordNet, \n",
        "#along with a suite of text processing libraries for classification, tokenization, \n",
        "#stemming, tagging, parsing, and semantic reasoning, wrappers for industrial-strength \n",
        "#NLP libraries, and an active discussion forum.\n",
        "\n",
        "nltk.download('punkt') \n",
        "\n",
        "nltk.download('stopwords')\n",
        "# Downloading stop words from NLTK nltk.download ('stopwords')\n",
        "\n",
        "\n",
        "from nltk.tokenize import word_tokenize\n",
        "#Tokenizers divide strings into lists of substrings. For example, tokenizers can \n",
        "#be used to find the words and punctuation in a string"
      ]
    },
    {
      "cell_type": "markdown",
      "metadata": {
        "id": "MfUllriJXH6V"
      },
      "source": [
        "# Constants and Methods"
      ]
    },
    {
      "cell_type": "code",
      "execution_count": 11,
      "metadata": {
        "id": "_hhFPP6_GZvC"
      },
      "outputs": [],
      "source": [
        "PATH_PROJ = \"/content/drive/MyDrive/data-proj/\"\n",
        "# if not os.path.exists(PATH_PROJ):\n",
        "#   PATH_PROJ = \"/content/drive/MyDrive/shared/data-proj/\""
      ]
    },
    {
      "cell_type": "code",
      "execution_count": 12,
      "metadata": {
        "id": "bdKztsPGwGat"
      },
      "outputs": [],
      "source": [
        "# Distribution graphs (histogram/bar graph) of column data\n",
        "def plotPerColumnDistribution(df, nGraphShown, nGraphPerRow):\n",
        "    nunique = df.nunique()\n",
        "    df = df[[col for col in df if nunique[col] > 1 and nunique[col] < 50]] # For displaying purposes, pick columns that have between 1 and 50 unique values\n",
        "    nRow, nCol = df.shape\n",
        "    columnNames = list(df)\n",
        "    nGraphRow = (nCol + nGraphPerRow - 1) / nGraphPerRow\n",
        "    plt.figure(num = None, figsize = (6 * nGraphPerRow, 8 * nGraphRow), dpi = 80, facecolor = 'w', edgecolor = 'k')\n",
        "    for i in range(min(nCol, nGraphShown)):\n",
        "        plt.subplot(nGraphRow, nGraphPerRow, i + 1)\n",
        "        columnDf = df.iloc[:, i]\n",
        "        if (not np.issubdtype(type(columnDf.iloc[0]), np.number)):\n",
        "            valueCounts = columnDf.value_counts()\n",
        "            valueCounts.plot.bar()\n",
        "        else:\n",
        "            columnDf.hist()\n",
        "        plt.ylabel('Number of sentences')\n",
        "        plt.xticks(rotation = 90)\n",
        "        plt.title(f'{columnNames[i]} (column {i})')\n",
        "    plt.tight_layout(pad = 1.0, w_pad = 1.0, h_pad = 1.0)\n",
        "    plt.show()"
      ]
    },
    {
      "cell_type": "markdown",
      "metadata": {
        "id": "D98neBGpTn_h"
      },
      "source": [
        "# Pipeline"
      ]
    },
    {
      "cell_type": "markdown",
      "metadata": {
        "id": "qo_fkDxzTuhY"
      },
      "source": [
        "We would normally\n",
        "walk through the requirements and break the problem down into several subproblems, then try to develop a step-by-step procedure to solve them. Since language\n",
        "processing is involved, we would also list all the forms of text processing needed at\n",
        "each step. This step-by-step processing of text is known as a pipeline. It is the series of\n",
        "steps involved in building any NLP model. These steps are common in every NLP\n",
        "project"
      ]
    },
    {
      "cell_type": "markdown",
      "metadata": {
        "id": "Iw_O4Vb9KxUw"
      },
      "source": [
        "![image.png](data:image/png;base64,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)"
      ]
    },
    {
      "cell_type": "markdown",
      "metadata": {
        "id": "NK3lpEuNTyjW"
      },
      "source": [
        "The first step in the process of developing any NLP system is to collect data relevant\n",
        "to the given task. Even if we’re building a rule-based system, we still need some data\n",
        "to design and test our rules. The data we get is seldom clean, and this is where text\n",
        "cleaning comes into play. After cleaning, text data often has a lot of variations and\n",
        "needs to be converted into a canonical form. This is done in the pre-processing step.\n",
        "This is followed by feature engineering, where we carve out indicators that are most\n",
        "suitable for the task at hand. These indicators are converted into a format that is\n",
        "understandable by modeling algorithms. Then comes the modeling and evaluation\n",
        "phase, where we build one or more models and compare and contrast them using a\n",
        "relevant evaluation metric(s). Once the best model among the ones evaluated is\n",
        "chosen, we move toward deploying this model in production. Finally, we regularly\n",
        "monitor the performance of the model and, if need be, update it to keep up its\n",
        "performance.\n"
      ]
    },
    {
      "cell_type": "markdown",
      "metadata": {
        "id": "bcr0tZ5tKrtb"
      },
      "source": [
        "# Data Acquisition"
      ]
    },
    {
      "cell_type": "code",
      "execution_count": 13,
      "metadata": {
        "id": "jSVbqUpWFRdd"
      },
      "outputs": [],
      "source": [
        "# Read TSV file into DataFrame\n",
        "# df = pd.read_table(PATH_PROJ+'food.tsv', encoding='latin-1')\n",
        "# print(df)"
      ]
    },
    {
      "cell_type": "code",
      "execution_count": 14,
      "metadata": {
        "id": "IJar8wRnGxx5"
      },
      "outputs": [],
      "source": [
        "df = pd.read_csv(PATH_PROJ+'food.csv')"
      ]
    },
    {
      "cell_type": "code",
      "execution_count": 15,
      "metadata": {
        "id": "Kg6Q0J9gHdqq",
        "colab": {
          "base_uri": "https://localhost:8080/",
          "height": 424
        },
        "outputId": "17cd256e-ecb3-414d-dc59-cc4edbbea6c8"
      },
      "outputs": [
        {
          "output_type": "execute_result",
          "data": {
            "text/plain": [
              "        productid          userid  score  \\\n",
              "0      B001E4KFG0  A3SGXH7AUHU8GW    5.0   \n",
              "1      B00813GRG4  A1D87F6ZCVE5NK    1.0   \n",
              "2      B000LQOCH0   ABXLMWJIXXAIN    4.0   \n",
              "3      B000UA0QIQ  A395BORC6FGVXV    2.0   \n",
              "4      B006K2ZZ7K  A1UQRSCLF8GW1T    5.0   \n",
              "...           ...             ...    ...   \n",
              "35167  B000E1DSQS  A2QG0Z96HULRW7    5.0   \n",
              "35168  B000E1DSQS  A3F653OGB0ZF4X    5.0   \n",
              "35169  B000E1DSQS   AJD41FBJD9010    5.0   \n",
              "35170  B000E1DSQS  A33R5P618X7MG7    5.0   \n",
              "35171  B001ATMQK2  A3ECJIHDTDY3AM    5.0   \n",
              "\n",
              "                                                    text  \n",
              "0      I have bought several of the Vitality canned d...  \n",
              "1      Product arrived labeled as Jumbo Salted Peanut...  \n",
              "2      This is a confection that has been around a fe...  \n",
              "3      If you are looking for the secret ingredient i...  \n",
              "4      Great taffy at a great price.  There was a wid...  \n",
              "...                                                  ...  \n",
              "35167  Once I tasted Hazelnut coffee, I was hooked! N...  \n",
              "35168  Has Maxwell House quit making this coffee?  I ...  \n",
              "35169  Nutty, smooth, subtle, with a WONDERFUL aroma-...  \n",
              "35170  Price was right and the taste very good.  We w...  \n",
              "35171  This sauce gives you authentic tonkatsu flavor...  \n",
              "\n",
              "[35172 rows x 4 columns]"
            ],
            "text/html": [
              "\n",
              "  <div id=\"df-e1960f8d-bc20-4519-a4c6-25753772e99f\">\n",
              "    <div class=\"colab-df-container\">\n",
              "      <div>\n",
              "<style scoped>\n",
              "    .dataframe tbody tr th:only-of-type {\n",
              "        vertical-align: middle;\n",
              "    }\n",
              "\n",
              "    .dataframe tbody tr th {\n",
              "        vertical-align: top;\n",
              "    }\n",
              "\n",
              "    .dataframe thead th {\n",
              "        text-align: right;\n",
              "    }\n",
              "</style>\n",
              "<table border=\"1\" class=\"dataframe\">\n",
              "  <thead>\n",
              "    <tr style=\"text-align: right;\">\n",
              "      <th></th>\n",
              "      <th>productid</th>\n",
              "      <th>userid</th>\n",
              "      <th>score</th>\n",
              "      <th>text</th>\n",
              "    </tr>\n",
              "  </thead>\n",
              "  <tbody>\n",
              "    <tr>\n",
              "      <th>0</th>\n",
              "      <td>B001E4KFG0</td>\n",
              "      <td>A3SGXH7AUHU8GW</td>\n",
              "      <td>5.0</td>\n",
              "      <td>I have bought several of the Vitality canned d...</td>\n",
              "    </tr>\n",
              "    <tr>\n",
              "      <th>1</th>\n",
              "      <td>B00813GRG4</td>\n",
              "      <td>A1D87F6ZCVE5NK</td>\n",
              "      <td>1.0</td>\n",
              "      <td>Product arrived labeled as Jumbo Salted Peanut...</td>\n",
              "    </tr>\n",
              "    <tr>\n",
              "      <th>2</th>\n",
              "      <td>B000LQOCH0</td>\n",
              "      <td>ABXLMWJIXXAIN</td>\n",
              "      <td>4.0</td>\n",
              "      <td>This is a confection that has been around a fe...</td>\n",
              "    </tr>\n",
              "    <tr>\n",
              "      <th>3</th>\n",
              "      <td>B000UA0QIQ</td>\n",
              "      <td>A395BORC6FGVXV</td>\n",
              "      <td>2.0</td>\n",
              "      <td>If you are looking for the secret ingredient i...</td>\n",
              "    </tr>\n",
              "    <tr>\n",
              "      <th>4</th>\n",
              "      <td>B006K2ZZ7K</td>\n",
              "      <td>A1UQRSCLF8GW1T</td>\n",
              "      <td>5.0</td>\n",
              "      <td>Great taffy at a great price.  There was a wid...</td>\n",
              "    </tr>\n",
              "    <tr>\n",
              "      <th>...</th>\n",
              "      <td>...</td>\n",
              "      <td>...</td>\n",
              "      <td>...</td>\n",
              "      <td>...</td>\n",
              "    </tr>\n",
              "    <tr>\n",
              "      <th>35167</th>\n",
              "      <td>B000E1DSQS</td>\n",
              "      <td>A2QG0Z96HULRW7</td>\n",
              "      <td>5.0</td>\n",
              "      <td>Once I tasted Hazelnut coffee, I was hooked! N...</td>\n",
              "    </tr>\n",
              "    <tr>\n",
              "      <th>35168</th>\n",
              "      <td>B000E1DSQS</td>\n",
              "      <td>A3F653OGB0ZF4X</td>\n",
              "      <td>5.0</td>\n",
              "      <td>Has Maxwell House quit making this coffee?  I ...</td>\n",
              "    </tr>\n",
              "    <tr>\n",
              "      <th>35169</th>\n",
              "      <td>B000E1DSQS</td>\n",
              "      <td>AJD41FBJD9010</td>\n",
              "      <td>5.0</td>\n",
              "      <td>Nutty, smooth, subtle, with a WONDERFUL aroma-...</td>\n",
              "    </tr>\n",
              "    <tr>\n",
              "      <th>35170</th>\n",
              "      <td>B000E1DSQS</td>\n",
              "      <td>A33R5P618X7MG7</td>\n",
              "      <td>5.0</td>\n",
              "      <td>Price was right and the taste very good.  We w...</td>\n",
              "    </tr>\n",
              "    <tr>\n",
              "      <th>35171</th>\n",
              "      <td>B001ATMQK2</td>\n",
              "      <td>A3ECJIHDTDY3AM</td>\n",
              "      <td>5.0</td>\n",
              "      <td>This sauce gives you authentic tonkatsu flavor...</td>\n",
              "    </tr>\n",
              "  </tbody>\n",
              "</table>\n",
              "<p>35172 rows × 4 columns</p>\n",
              "</div>\n",
              "      <button class=\"colab-df-convert\" onclick=\"convertToInteractive('df-e1960f8d-bc20-4519-a4c6-25753772e99f')\"\n",
              "              title=\"Convert this dataframe to an interactive table.\"\n",
              "              style=\"display:none;\">\n",
              "        \n",
              "  <svg xmlns=\"http://www.w3.org/2000/svg\" height=\"24px\"viewBox=\"0 0 24 24\"\n",
              "       width=\"24px\">\n",
              "    <path d=\"M0 0h24v24H0V0z\" fill=\"none\"/>\n",
              "    <path d=\"M18.56 5.44l.94 2.06.94-2.06 2.06-.94-2.06-.94-.94-2.06-.94 2.06-2.06.94zm-11 1L8.5 8.5l.94-2.06 2.06-.94-2.06-.94L8.5 2.5l-.94 2.06-2.06.94zm10 10l.94 2.06.94-2.06 2.06-.94-2.06-.94-.94-2.06-.94 2.06-2.06.94z\"/><path d=\"M17.41 7.96l-1.37-1.37c-.4-.4-.92-.59-1.43-.59-.52 0-1.04.2-1.43.59L10.3 9.45l-7.72 7.72c-.78.78-.78 2.05 0 2.83L4 21.41c.39.39.9.59 1.41.59.51 0 1.02-.2 1.41-.59l7.78-7.78 2.81-2.81c.8-.78.8-2.07 0-2.86zM5.41 20L4 18.59l7.72-7.72 1.47 1.35L5.41 20z\"/>\n",
              "  </svg>\n",
              "      </button>\n",
              "      \n",
              "  <style>\n",
              "    .colab-df-container {\n",
              "      display:flex;\n",
              "      flex-wrap:wrap;\n",
              "      gap: 12px;\n",
              "    }\n",
              "\n",
              "    .colab-df-convert {\n",
              "      background-color: #E8F0FE;\n",
              "      border: none;\n",
              "      border-radius: 50%;\n",
              "      cursor: pointer;\n",
              "      display: none;\n",
              "      fill: #1967D2;\n",
              "      height: 32px;\n",
              "      padding: 0 0 0 0;\n",
              "      width: 32px;\n",
              "    }\n",
              "\n",
              "    .colab-df-convert:hover {\n",
              "      background-color: #E2EBFA;\n",
              "      box-shadow: 0px 1px 2px rgba(60, 64, 67, 0.3), 0px 1px 3px 1px rgba(60, 64, 67, 0.15);\n",
              "      fill: #174EA6;\n",
              "    }\n",
              "\n",
              "    [theme=dark] .colab-df-convert {\n",
              "      background-color: #3B4455;\n",
              "      fill: #D2E3FC;\n",
              "    }\n",
              "\n",
              "    [theme=dark] .colab-df-convert:hover {\n",
              "      background-color: #434B5C;\n",
              "      box-shadow: 0px 1px 3px 1px rgba(0, 0, 0, 0.15);\n",
              "      filter: drop-shadow(0px 1px 2px rgba(0, 0, 0, 0.3));\n",
              "      fill: #FFFFFF;\n",
              "    }\n",
              "  </style>\n",
              "\n",
              "      <script>\n",
              "        const buttonEl =\n",
              "          document.querySelector('#df-e1960f8d-bc20-4519-a4c6-25753772e99f button.colab-df-convert');\n",
              "        buttonEl.style.display =\n",
              "          google.colab.kernel.accessAllowed ? 'block' : 'none';\n",
              "\n",
              "        async function convertToInteractive(key) {\n",
              "          const element = document.querySelector('#df-e1960f8d-bc20-4519-a4c6-25753772e99f');\n",
              "          const dataTable =\n",
              "            await google.colab.kernel.invokeFunction('convertToInteractive',\n",
              "                                                     [key], {});\n",
              "          if (!dataTable) return;\n",
              "\n",
              "          const docLinkHtml = 'Like what you see? Visit the ' +\n",
              "            '<a target=\"_blank\" href=https://colab.research.google.com/notebooks/data_table.ipynb>data table notebook</a>'\n",
              "            + ' to learn more about interactive tables.';\n",
              "          element.innerHTML = '';\n",
              "          dataTable['output_type'] = 'display_data';\n",
              "          await google.colab.output.renderOutput(dataTable, element);\n",
              "          const docLink = document.createElement('div');\n",
              "          docLink.innerHTML = docLinkHtml;\n",
              "          element.appendChild(docLink);\n",
              "        }\n",
              "      </script>\n",
              "    </div>\n",
              "  </div>\n",
              "  "
            ]
          },
          "metadata": {},
          "execution_count": 15
        }
      ],
      "source": [
        "df"
      ]
    },
    {
      "cell_type": "code",
      "execution_count": 16,
      "metadata": {
        "id": "Tn4JjIG-U28s",
        "colab": {
          "base_uri": "https://localhost:8080/"
        },
        "outputId": "9421a535-0434-4c12-dab4-dbf71def140d"
      },
      "outputs": [
        {
          "output_type": "stream",
          "name": "stdout",
          "text": [
            "<class 'pandas.core.frame.DataFrame'>\n",
            "(35172, 4)\n"
          ]
        }
      ],
      "source": [
        "print(type(df))\n",
        "print(df.shape)"
      ]
    },
    {
      "cell_type": "code",
      "execution_count": 17,
      "metadata": {
        "id": "sW6X_tR7-zSj",
        "colab": {
          "base_uri": "https://localhost:8080/"
        },
        "outputId": "4c86f6df-a6fd-4984-fcd1-119732e93920"
      },
      "outputs": [
        {
          "output_type": "stream",
          "name": "stdout",
          "text": [
            "Index(['productid', 'userid', 'score', 'text'], dtype='object')\n"
          ]
        }
      ],
      "source": [
        "print(df.columns)"
      ]
    },
    {
      "cell_type": "code",
      "execution_count": 18,
      "metadata": {
        "id": "izZwz73VvNBz",
        "colab": {
          "base_uri": "https://localhost:8080/"
        },
        "outputId": "e65871ea-aea6-4898-e361-b759735aefa9"
      },
      "outputs": [
        {
          "output_type": "stream",
          "name": "stdout",
          "text": [
            "There are 35172 rows and 4 columns\n"
          ]
        }
      ],
      "source": [
        "nRow, nCol = df.shape\n",
        "print(f'There are {nRow} rows and {nCol} columns')"
      ]
    },
    {
      "cell_type": "code",
      "execution_count": 19,
      "metadata": {
        "id": "0leB5LqdYwuD",
        "colab": {
          "base_uri": "https://localhost:8080/",
          "height": 238
        },
        "outputId": "4b527074-1943-4681-c062-44d0e9c98e04"
      },
      "outputs": [
        {
          "output_type": "execute_result",
          "data": {
            "text/plain": [
              "    productid          userid  score  \\\n",
              "0  B001E4KFG0  A3SGXH7AUHU8GW    5.0   \n",
              "1  B00813GRG4  A1D87F6ZCVE5NK    1.0   \n",
              "2  B000LQOCH0   ABXLMWJIXXAIN    4.0   \n",
              "3  B000UA0QIQ  A395BORC6FGVXV    2.0   \n",
              "4  B006K2ZZ7K  A1UQRSCLF8GW1T    5.0   \n",
              "5  B006K2ZZ7K   ADT0SRK1MGOEU    4.0   \n",
              "\n",
              "                                                text  \n",
              "0  I have bought several of the Vitality canned d...  \n",
              "1  Product arrived labeled as Jumbo Salted Peanut...  \n",
              "2  This is a confection that has been around a fe...  \n",
              "3  If you are looking for the secret ingredient i...  \n",
              "4  Great taffy at a great price.  There was a wid...  \n",
              "5  I got a wild hair for taffy and ordered this f...  "
            ],
            "text/html": [
              "\n",
              "  <div id=\"df-54bf4c8b-9408-46ce-b1b8-88ddc7fb9614\">\n",
              "    <div class=\"colab-df-container\">\n",
              "      <div>\n",
              "<style scoped>\n",
              "    .dataframe tbody tr th:only-of-type {\n",
              "        vertical-align: middle;\n",
              "    }\n",
              "\n",
              "    .dataframe tbody tr th {\n",
              "        vertical-align: top;\n",
              "    }\n",
              "\n",
              "    .dataframe thead th {\n",
              "        text-align: right;\n",
              "    }\n",
              "</style>\n",
              "<table border=\"1\" class=\"dataframe\">\n",
              "  <thead>\n",
              "    <tr style=\"text-align: right;\">\n",
              "      <th></th>\n",
              "      <th>productid</th>\n",
              "      <th>userid</th>\n",
              "      <th>score</th>\n",
              "      <th>text</th>\n",
              "    </tr>\n",
              "  </thead>\n",
              "  <tbody>\n",
              "    <tr>\n",
              "      <th>0</th>\n",
              "      <td>B001E4KFG0</td>\n",
              "      <td>A3SGXH7AUHU8GW</td>\n",
              "      <td>5.0</td>\n",
              "      <td>I have bought several of the Vitality canned d...</td>\n",
              "    </tr>\n",
              "    <tr>\n",
              "      <th>1</th>\n",
              "      <td>B00813GRG4</td>\n",
              "      <td>A1D87F6ZCVE5NK</td>\n",
              "      <td>1.0</td>\n",
              "      <td>Product arrived labeled as Jumbo Salted Peanut...</td>\n",
              "    </tr>\n",
              "    <tr>\n",
              "      <th>2</th>\n",
              "      <td>B000LQOCH0</td>\n",
              "      <td>ABXLMWJIXXAIN</td>\n",
              "      <td>4.0</td>\n",
              "      <td>This is a confection that has been around a fe...</td>\n",
              "    </tr>\n",
              "    <tr>\n",
              "      <th>3</th>\n",
              "      <td>B000UA0QIQ</td>\n",
              "      <td>A395BORC6FGVXV</td>\n",
              "      <td>2.0</td>\n",
              "      <td>If you are looking for the secret ingredient i...</td>\n",
              "    </tr>\n",
              "    <tr>\n",
              "      <th>4</th>\n",
              "      <td>B006K2ZZ7K</td>\n",
              "      <td>A1UQRSCLF8GW1T</td>\n",
              "      <td>5.0</td>\n",
              "      <td>Great taffy at a great price.  There was a wid...</td>\n",
              "    </tr>\n",
              "    <tr>\n",
              "      <th>5</th>\n",
              "      <td>B006K2ZZ7K</td>\n",
              "      <td>ADT0SRK1MGOEU</td>\n",
              "      <td>4.0</td>\n",
              "      <td>I got a wild hair for taffy and ordered this f...</td>\n",
              "    </tr>\n",
              "  </tbody>\n",
              "</table>\n",
              "</div>\n",
              "      <button class=\"colab-df-convert\" onclick=\"convertToInteractive('df-54bf4c8b-9408-46ce-b1b8-88ddc7fb9614')\"\n",
              "              title=\"Convert this dataframe to an interactive table.\"\n",
              "              style=\"display:none;\">\n",
              "        \n",
              "  <svg xmlns=\"http://www.w3.org/2000/svg\" height=\"24px\"viewBox=\"0 0 24 24\"\n",
              "       width=\"24px\">\n",
              "    <path d=\"M0 0h24v24H0V0z\" fill=\"none\"/>\n",
              "    <path d=\"M18.56 5.44l.94 2.06.94-2.06 2.06-.94-2.06-.94-.94-2.06-.94 2.06-2.06.94zm-11 1L8.5 8.5l.94-2.06 2.06-.94-2.06-.94L8.5 2.5l-.94 2.06-2.06.94zm10 10l.94 2.06.94-2.06 2.06-.94-2.06-.94-.94-2.06-.94 2.06-2.06.94z\"/><path d=\"M17.41 7.96l-1.37-1.37c-.4-.4-.92-.59-1.43-.59-.52 0-1.04.2-1.43.59L10.3 9.45l-7.72 7.72c-.78.78-.78 2.05 0 2.83L4 21.41c.39.39.9.59 1.41.59.51 0 1.02-.2 1.41-.59l7.78-7.78 2.81-2.81c.8-.78.8-2.07 0-2.86zM5.41 20L4 18.59l7.72-7.72 1.47 1.35L5.41 20z\"/>\n",
              "  </svg>\n",
              "      </button>\n",
              "      \n",
              "  <style>\n",
              "    .colab-df-container {\n",
              "      display:flex;\n",
              "      flex-wrap:wrap;\n",
              "      gap: 12px;\n",
              "    }\n",
              "\n",
              "    .colab-df-convert {\n",
              "      background-color: #E8F0FE;\n",
              "      border: none;\n",
              "      border-radius: 50%;\n",
              "      cursor: pointer;\n",
              "      display: none;\n",
              "      fill: #1967D2;\n",
              "      height: 32px;\n",
              "      padding: 0 0 0 0;\n",
              "      width: 32px;\n",
              "    }\n",
              "\n",
              "    .colab-df-convert:hover {\n",
              "      background-color: #E2EBFA;\n",
              "      box-shadow: 0px 1px 2px rgba(60, 64, 67, 0.3), 0px 1px 3px 1px rgba(60, 64, 67, 0.15);\n",
              "      fill: #174EA6;\n",
              "    }\n",
              "\n",
              "    [theme=dark] .colab-df-convert {\n",
              "      background-color: #3B4455;\n",
              "      fill: #D2E3FC;\n",
              "    }\n",
              "\n",
              "    [theme=dark] .colab-df-convert:hover {\n",
              "      background-color: #434B5C;\n",
              "      box-shadow: 0px 1px 3px 1px rgba(0, 0, 0, 0.15);\n",
              "      filter: drop-shadow(0px 1px 2px rgba(0, 0, 0, 0.3));\n",
              "      fill: #FFFFFF;\n",
              "    }\n",
              "  </style>\n",
              "\n",
              "      <script>\n",
              "        const buttonEl =\n",
              "          document.querySelector('#df-54bf4c8b-9408-46ce-b1b8-88ddc7fb9614 button.colab-df-convert');\n",
              "        buttonEl.style.display =\n",
              "          google.colab.kernel.accessAllowed ? 'block' : 'none';\n",
              "\n",
              "        async function convertToInteractive(key) {\n",
              "          const element = document.querySelector('#df-54bf4c8b-9408-46ce-b1b8-88ddc7fb9614');\n",
              "          const dataTable =\n",
              "            await google.colab.kernel.invokeFunction('convertToInteractive',\n",
              "                                                     [key], {});\n",
              "          if (!dataTable) return;\n",
              "\n",
              "          const docLinkHtml = 'Like what you see? Visit the ' +\n",
              "            '<a target=\"_blank\" href=https://colab.research.google.com/notebooks/data_table.ipynb>data table notebook</a>'\n",
              "            + ' to learn more about interactive tables.';\n",
              "          element.innerHTML = '';\n",
              "          dataTable['output_type'] = 'display_data';\n",
              "          await google.colab.output.renderOutput(dataTable, element);\n",
              "          const docLink = document.createElement('div');\n",
              "          docLink.innerHTML = docLinkHtml;\n",
              "          element.appendChild(docLink);\n",
              "        }\n",
              "      </script>\n",
              "    </div>\n",
              "  </div>\n",
              "  "
            ]
          },
          "metadata": {},
          "execution_count": 19
        }
      ],
      "source": [
        "df.head(6)"
      ]
    },
    {
      "cell_type": "markdown",
      "metadata": {
        "id": "PDHROSt0_h7L"
      },
      "source": [
        "Let's isolate the useful columns to our end. "
      ]
    },
    {
      "cell_type": "code",
      "execution_count": 20,
      "metadata": {
        "id": "oXzoLMTS_hvJ"
      },
      "outputs": [],
      "source": [
        "df = df[[\"text\",\"score\"]]"
      ]
    },
    {
      "cell_type": "code",
      "execution_count": 21,
      "metadata": {
        "id": "aGYoq1n9Hwgm",
        "colab": {
          "base_uri": "https://localhost:8080/",
          "height": 363
        },
        "outputId": "9279437e-00b4-4388-bf92-f81449a230ef"
      },
      "outputs": [
        {
          "output_type": "execute_result",
          "data": {
            "text/plain": [
              "                                                 text  score\n",
              "30  I have never been a huge coffee fan. However, ...    5.0\n",
              "31  This offer is a great price and a great taste,...    5.0\n",
              "32  McCann's Instant Oatmeal is great if you must ...    4.0\n",
              "33  This is a good instant oatmeal from the best o...    4.0\n",
              "34  Instant oatmeal can become soggy the minute th...    5.0\n",
              "35  McCann's Instant Irish Oatmeal, Variety Pack o...    4.0\n",
              "36  For those of us with celiac disease this produ...    5.0\n",
              "37  What else do you need to know? Oatmeal, instan...    5.0\n",
              "38  I WAS VISITING MY FRIEND NATE THE OTHER MORNIN...    4.0\n",
              "39  I ordered this for my wife as it was reccomend...    5.0"
            ],
            "text/html": [
              "\n",
              "  <div id=\"df-3fb88da6-c93d-4853-b5da-8f15b97ab700\">\n",
              "    <div class=\"colab-df-container\">\n",
              "      <div>\n",
              "<style scoped>\n",
              "    .dataframe tbody tr th:only-of-type {\n",
              "        vertical-align: middle;\n",
              "    }\n",
              "\n",
              "    .dataframe tbody tr th {\n",
              "        vertical-align: top;\n",
              "    }\n",
              "\n",
              "    .dataframe thead th {\n",
              "        text-align: right;\n",
              "    }\n",
              "</style>\n",
              "<table border=\"1\" class=\"dataframe\">\n",
              "  <thead>\n",
              "    <tr style=\"text-align: right;\">\n",
              "      <th></th>\n",
              "      <th>text</th>\n",
              "      <th>score</th>\n",
              "    </tr>\n",
              "  </thead>\n",
              "  <tbody>\n",
              "    <tr>\n",
              "      <th>30</th>\n",
              "      <td>I have never been a huge coffee fan. However, ...</td>\n",
              "      <td>5.0</td>\n",
              "    </tr>\n",
              "    <tr>\n",
              "      <th>31</th>\n",
              "      <td>This offer is a great price and a great taste,...</td>\n",
              "      <td>5.0</td>\n",
              "    </tr>\n",
              "    <tr>\n",
              "      <th>32</th>\n",
              "      <td>McCann's Instant Oatmeal is great if you must ...</td>\n",
              "      <td>4.0</td>\n",
              "    </tr>\n",
              "    <tr>\n",
              "      <th>33</th>\n",
              "      <td>This is a good instant oatmeal from the best o...</td>\n",
              "      <td>4.0</td>\n",
              "    </tr>\n",
              "    <tr>\n",
              "      <th>34</th>\n",
              "      <td>Instant oatmeal can become soggy the minute th...</td>\n",
              "      <td>5.0</td>\n",
              "    </tr>\n",
              "    <tr>\n",
              "      <th>35</th>\n",
              "      <td>McCann's Instant Irish Oatmeal, Variety Pack o...</td>\n",
              "      <td>4.0</td>\n",
              "    </tr>\n",
              "    <tr>\n",
              "      <th>36</th>\n",
              "      <td>For those of us with celiac disease this produ...</td>\n",
              "      <td>5.0</td>\n",
              "    </tr>\n",
              "    <tr>\n",
              "      <th>37</th>\n",
              "      <td>What else do you need to know? Oatmeal, instan...</td>\n",
              "      <td>5.0</td>\n",
              "    </tr>\n",
              "    <tr>\n",
              "      <th>38</th>\n",
              "      <td>I WAS VISITING MY FRIEND NATE THE OTHER MORNIN...</td>\n",
              "      <td>4.0</td>\n",
              "    </tr>\n",
              "    <tr>\n",
              "      <th>39</th>\n",
              "      <td>I ordered this for my wife as it was reccomend...</td>\n",
              "      <td>5.0</td>\n",
              "    </tr>\n",
              "  </tbody>\n",
              "</table>\n",
              "</div>\n",
              "      <button class=\"colab-df-convert\" onclick=\"convertToInteractive('df-3fb88da6-c93d-4853-b5da-8f15b97ab700')\"\n",
              "              title=\"Convert this dataframe to an interactive table.\"\n",
              "              style=\"display:none;\">\n",
              "        \n",
              "  <svg xmlns=\"http://www.w3.org/2000/svg\" height=\"24px\"viewBox=\"0 0 24 24\"\n",
              "       width=\"24px\">\n",
              "    <path d=\"M0 0h24v24H0V0z\" fill=\"none\"/>\n",
              "    <path d=\"M18.56 5.44l.94 2.06.94-2.06 2.06-.94-2.06-.94-.94-2.06-.94 2.06-2.06.94zm-11 1L8.5 8.5l.94-2.06 2.06-.94-2.06-.94L8.5 2.5l-.94 2.06-2.06.94zm10 10l.94 2.06.94-2.06 2.06-.94-2.06-.94-.94-2.06-.94 2.06-2.06.94z\"/><path d=\"M17.41 7.96l-1.37-1.37c-.4-.4-.92-.59-1.43-.59-.52 0-1.04.2-1.43.59L10.3 9.45l-7.72 7.72c-.78.78-.78 2.05 0 2.83L4 21.41c.39.39.9.59 1.41.59.51 0 1.02-.2 1.41-.59l7.78-7.78 2.81-2.81c.8-.78.8-2.07 0-2.86zM5.41 20L4 18.59l7.72-7.72 1.47 1.35L5.41 20z\"/>\n",
              "  </svg>\n",
              "      </button>\n",
              "      \n",
              "  <style>\n",
              "    .colab-df-container {\n",
              "      display:flex;\n",
              "      flex-wrap:wrap;\n",
              "      gap: 12px;\n",
              "    }\n",
              "\n",
              "    .colab-df-convert {\n",
              "      background-color: #E8F0FE;\n",
              "      border: none;\n",
              "      border-radius: 50%;\n",
              "      cursor: pointer;\n",
              "      display: none;\n",
              "      fill: #1967D2;\n",
              "      height: 32px;\n",
              "      padding: 0 0 0 0;\n",
              "      width: 32px;\n",
              "    }\n",
              "\n",
              "    .colab-df-convert:hover {\n",
              "      background-color: #E2EBFA;\n",
              "      box-shadow: 0px 1px 2px rgba(60, 64, 67, 0.3), 0px 1px 3px 1px rgba(60, 64, 67, 0.15);\n",
              "      fill: #174EA6;\n",
              "    }\n",
              "\n",
              "    [theme=dark] .colab-df-convert {\n",
              "      background-color: #3B4455;\n",
              "      fill: #D2E3FC;\n",
              "    }\n",
              "\n",
              "    [theme=dark] .colab-df-convert:hover {\n",
              "      background-color: #434B5C;\n",
              "      box-shadow: 0px 1px 3px 1px rgba(0, 0, 0, 0.15);\n",
              "      filter: drop-shadow(0px 1px 2px rgba(0, 0, 0, 0.3));\n",
              "      fill: #FFFFFF;\n",
              "    }\n",
              "  </style>\n",
              "\n",
              "      <script>\n",
              "        const buttonEl =\n",
              "          document.querySelector('#df-3fb88da6-c93d-4853-b5da-8f15b97ab700 button.colab-df-convert');\n",
              "        buttonEl.style.display =\n",
              "          google.colab.kernel.accessAllowed ? 'block' : 'none';\n",
              "\n",
              "        async function convertToInteractive(key) {\n",
              "          const element = document.querySelector('#df-3fb88da6-c93d-4853-b5da-8f15b97ab700');\n",
              "          const dataTable =\n",
              "            await google.colab.kernel.invokeFunction('convertToInteractive',\n",
              "                                                     [key], {});\n",
              "          if (!dataTable) return;\n",
              "\n",
              "          const docLinkHtml = 'Like what you see? Visit the ' +\n",
              "            '<a target=\"_blank\" href=https://colab.research.google.com/notebooks/data_table.ipynb>data table notebook</a>'\n",
              "            + ' to learn more about interactive tables.';\n",
              "          element.innerHTML = '';\n",
              "          dataTable['output_type'] = 'display_data';\n",
              "          await google.colab.output.renderOutput(dataTable, element);\n",
              "          const docLink = document.createElement('div');\n",
              "          docLink.innerHTML = docLinkHtml;\n",
              "          element.appendChild(docLink);\n",
              "        }\n",
              "      </script>\n",
              "    </div>\n",
              "  </div>\n",
              "  "
            ]
          },
          "metadata": {},
          "execution_count": 21
        }
      ],
      "source": [
        "df.iloc[30:40]"
      ]
    },
    {
      "cell_type": "markdown",
      "metadata": {
        "id": "pn4qZJlAK58i"
      },
      "source": [
        "# Text Extraction and Cleanup\n",
        "Text extraction and cleanup refers to the process of extracting raw text from the input\n",
        "data by removing all the other non-textual information, such as markup, metadata,\n",
        "etc., and converting the text to the required encoding format"
      ]
    },
    {
      "cell_type": "code",
      "execution_count": 22,
      "metadata": {
        "id": "PwmdBm3Z9aMb"
      },
      "outputs": [],
      "source": [
        "from bs4 import BeautifulSoup\n",
        "\n",
        "def clean_html_tags(row):\n",
        "  soupified = BeautifulSoup(row, \"html.parser\")\n",
        "  for linebreak in soupified.find_all('br'): #remove br\n",
        "    linebreak.extract()\n",
        "\n",
        "  span_tags = soupified.find_all('span') # remove span\n",
        "  for span in span_tags:\n",
        "      span.unwrap()\n",
        "      \n",
        "  return str(str(soupified).encode(\"utf-8\")).replace(\"&lt;a href=\\\"http\\'\",\"\") # utf-8 conversion"
      ]
    },
    {
      "cell_type": "code",
      "execution_count": 23,
      "metadata": {
        "id": "nl4uZ4QTK8pg",
        "colab": {
          "base_uri": "https://localhost:8080/"
        },
        "outputId": "1cc4f692-1a69-4672-f23b-82227af2fecb"
      },
      "outputs": [
        {
          "output_type": "stream",
          "name": "stdout",
          "text": [
            "HEY! These are GREAT Waffles and Pancakes! We have to add 50% more mix, tho, as the recipies on the bag are VERY thin. But we have a lot of fun with this Arrowhead Mills Buttermilk Pancake & Waffle Mix! We serve them \"as is\" with fried eggs and REAL maple syrup, <a href=\"http\n",
            "b'HEY! These are GREAT Waffles and Pancakes! We have to add 50% more mix, tho, as the recipies on the bag are VERY thin. But we have a lot of fun with this Arrowhead Mills Buttermilk Pancake &amp; Waffle Mix! We serve them \"as is\" with fried eggs and REAL maple syrup, \n"
          ]
        }
      ],
      "source": [
        "# for i in range(len(r)):\n",
        "print(df.text.iloc[398])\n",
        "\n",
        "print(clean_html_tags(df.text.iloc[398]))\n",
        "  "
      ]
    },
    {
      "cell_type": "code",
      "execution_count": 24,
      "metadata": {
        "id": "MOU3to5i9Biz",
        "colab": {
          "base_uri": "https://localhost:8080/"
        },
        "outputId": "51ec4ee9-7ea4-4607-8d7f-92e0cb89a905"
      },
      "outputs": [
        {
          "output_type": "stream",
          "name": "stderr",
          "text": [
            "<ipython-input-22-f2d0826e7115>:4: MarkupResemblesLocatorWarning: The input looks more like a filename than markup. You may want to open this file and pass the filehandle into Beautiful Soup.\n",
            "  soupified = BeautifulSoup(row, \"html.parser\")\n",
            "<ipython-input-22-f2d0826e7115>:4: MarkupResemblesLocatorWarning: The input looks more like a filename than markup. You may want to open this file and pass the filehandle into Beautiful Soup.\n",
            "  soupified = BeautifulSoup(row, \"html.parser\")\n",
            "<ipython-input-24-39a0850c92a0>:1: SettingWithCopyWarning: \n",
            "A value is trying to be set on a copy of a slice from a DataFrame.\n",
            "Try using .loc[row_indexer,col_indexer] = value instead\n",
            "\n",
            "See the caveats in the documentation: https://pandas.pydata.org/pandas-docs/stable/user_guide/indexing.html#returning-a-view-versus-a-copy\n",
            "  df['text'] = df['text'].apply(clean_html_tags)\n"
          ]
        }
      ],
      "source": [
        "df['text'] = df['text'].apply(clean_html_tags)"
      ]
    },
    {
      "cell_type": "code",
      "execution_count": 25,
      "metadata": {
        "id": "WV1lX5rc1z0H",
        "colab": {
          "base_uri": "https://localhost:8080/",
          "height": 424
        },
        "outputId": "66286df1-c551-4f63-f5b6-cc28a80a5bdc"
      },
      "outputs": [
        {
          "output_type": "execute_result",
          "data": {
            "text/plain": [
              "                                                    text  score\n",
              "0      b'I have bought several of the Vitality canned...    5.0\n",
              "1      b'Product arrived labeled as Jumbo Salted Pean...    1.0\n",
              "2      b'This is a confection that has been around a ...    4.0\n",
              "3      b'If you are looking for the secret ingredient...    2.0\n",
              "4      b'Great taffy at a great price.  There was a w...    5.0\n",
              "...                                                  ...    ...\n",
              "35167  b\"Once I tasted Hazelnut coffee, I was hooked!...    5.0\n",
              "35168  b\"Has Maxwell House quit making this coffee?  ...    5.0\n",
              "35169  b\"Nutty, smooth, subtle, with a WONDERFUL arom...    5.0\n",
              "35170  b'Price was right and the taste very good.  We...    5.0\n",
              "35171  b'This sauce gives you authentic tonkatsu flav...    5.0\n",
              "\n",
              "[35172 rows x 2 columns]"
            ],
            "text/html": [
              "\n",
              "  <div id=\"df-b2654e18-de29-4619-b62c-41605b31a077\">\n",
              "    <div class=\"colab-df-container\">\n",
              "      <div>\n",
              "<style scoped>\n",
              "    .dataframe tbody tr th:only-of-type {\n",
              "        vertical-align: middle;\n",
              "    }\n",
              "\n",
              "    .dataframe tbody tr th {\n",
              "        vertical-align: top;\n",
              "    }\n",
              "\n",
              "    .dataframe thead th {\n",
              "        text-align: right;\n",
              "    }\n",
              "</style>\n",
              "<table border=\"1\" class=\"dataframe\">\n",
              "  <thead>\n",
              "    <tr style=\"text-align: right;\">\n",
              "      <th></th>\n",
              "      <th>text</th>\n",
              "      <th>score</th>\n",
              "    </tr>\n",
              "  </thead>\n",
              "  <tbody>\n",
              "    <tr>\n",
              "      <th>0</th>\n",
              "      <td>b'I have bought several of the Vitality canned...</td>\n",
              "      <td>5.0</td>\n",
              "    </tr>\n",
              "    <tr>\n",
              "      <th>1</th>\n",
              "      <td>b'Product arrived labeled as Jumbo Salted Pean...</td>\n",
              "      <td>1.0</td>\n",
              "    </tr>\n",
              "    <tr>\n",
              "      <th>2</th>\n",
              "      <td>b'This is a confection that has been around a ...</td>\n",
              "      <td>4.0</td>\n",
              "    </tr>\n",
              "    <tr>\n",
              "      <th>3</th>\n",
              "      <td>b'If you are looking for the secret ingredient...</td>\n",
              "      <td>2.0</td>\n",
              "    </tr>\n",
              "    <tr>\n",
              "      <th>4</th>\n",
              "      <td>b'Great taffy at a great price.  There was a w...</td>\n",
              "      <td>5.0</td>\n",
              "    </tr>\n",
              "    <tr>\n",
              "      <th>...</th>\n",
              "      <td>...</td>\n",
              "      <td>...</td>\n",
              "    </tr>\n",
              "    <tr>\n",
              "      <th>35167</th>\n",
              "      <td>b\"Once I tasted Hazelnut coffee, I was hooked!...</td>\n",
              "      <td>5.0</td>\n",
              "    </tr>\n",
              "    <tr>\n",
              "      <th>35168</th>\n",
              "      <td>b\"Has Maxwell House quit making this coffee?  ...</td>\n",
              "      <td>5.0</td>\n",
              "    </tr>\n",
              "    <tr>\n",
              "      <th>35169</th>\n",
              "      <td>b\"Nutty, smooth, subtle, with a WONDERFUL arom...</td>\n",
              "      <td>5.0</td>\n",
              "    </tr>\n",
              "    <tr>\n",
              "      <th>35170</th>\n",
              "      <td>b'Price was right and the taste very good.  We...</td>\n",
              "      <td>5.0</td>\n",
              "    </tr>\n",
              "    <tr>\n",
              "      <th>35171</th>\n",
              "      <td>b'This sauce gives you authentic tonkatsu flav...</td>\n",
              "      <td>5.0</td>\n",
              "    </tr>\n",
              "  </tbody>\n",
              "</table>\n",
              "<p>35172 rows × 2 columns</p>\n",
              "</div>\n",
              "      <button class=\"colab-df-convert\" onclick=\"convertToInteractive('df-b2654e18-de29-4619-b62c-41605b31a077')\"\n",
              "              title=\"Convert this dataframe to an interactive table.\"\n",
              "              style=\"display:none;\">\n",
              "        \n",
              "  <svg xmlns=\"http://www.w3.org/2000/svg\" height=\"24px\"viewBox=\"0 0 24 24\"\n",
              "       width=\"24px\">\n",
              "    <path d=\"M0 0h24v24H0V0z\" fill=\"none\"/>\n",
              "    <path d=\"M18.56 5.44l.94 2.06.94-2.06 2.06-.94-2.06-.94-.94-2.06-.94 2.06-2.06.94zm-11 1L8.5 8.5l.94-2.06 2.06-.94-2.06-.94L8.5 2.5l-.94 2.06-2.06.94zm10 10l.94 2.06.94-2.06 2.06-.94-2.06-.94-.94-2.06-.94 2.06-2.06.94z\"/><path d=\"M17.41 7.96l-1.37-1.37c-.4-.4-.92-.59-1.43-.59-.52 0-1.04.2-1.43.59L10.3 9.45l-7.72 7.72c-.78.78-.78 2.05 0 2.83L4 21.41c.39.39.9.59 1.41.59.51 0 1.02-.2 1.41-.59l7.78-7.78 2.81-2.81c.8-.78.8-2.07 0-2.86zM5.41 20L4 18.59l7.72-7.72 1.47 1.35L5.41 20z\"/>\n",
              "  </svg>\n",
              "      </button>\n",
              "      \n",
              "  <style>\n",
              "    .colab-df-container {\n",
              "      display:flex;\n",
              "      flex-wrap:wrap;\n",
              "      gap: 12px;\n",
              "    }\n",
              "\n",
              "    .colab-df-convert {\n",
              "      background-color: #E8F0FE;\n",
              "      border: none;\n",
              "      border-radius: 50%;\n",
              "      cursor: pointer;\n",
              "      display: none;\n",
              "      fill: #1967D2;\n",
              "      height: 32px;\n",
              "      padding: 0 0 0 0;\n",
              "      width: 32px;\n",
              "    }\n",
              "\n",
              "    .colab-df-convert:hover {\n",
              "      background-color: #E2EBFA;\n",
              "      box-shadow: 0px 1px 2px rgba(60, 64, 67, 0.3), 0px 1px 3px 1px rgba(60, 64, 67, 0.15);\n",
              "      fill: #174EA6;\n",
              "    }\n",
              "\n",
              "    [theme=dark] .colab-df-convert {\n",
              "      background-color: #3B4455;\n",
              "      fill: #D2E3FC;\n",
              "    }\n",
              "\n",
              "    [theme=dark] .colab-df-convert:hover {\n",
              "      background-color: #434B5C;\n",
              "      box-shadow: 0px 1px 3px 1px rgba(0, 0, 0, 0.15);\n",
              "      filter: drop-shadow(0px 1px 2px rgba(0, 0, 0, 0.3));\n",
              "      fill: #FFFFFF;\n",
              "    }\n",
              "  </style>\n",
              "\n",
              "      <script>\n",
              "        const buttonEl =\n",
              "          document.querySelector('#df-b2654e18-de29-4619-b62c-41605b31a077 button.colab-df-convert');\n",
              "        buttonEl.style.display =\n",
              "          google.colab.kernel.accessAllowed ? 'block' : 'none';\n",
              "\n",
              "        async function convertToInteractive(key) {\n",
              "          const element = document.querySelector('#df-b2654e18-de29-4619-b62c-41605b31a077');\n",
              "          const dataTable =\n",
              "            await google.colab.kernel.invokeFunction('convertToInteractive',\n",
              "                                                     [key], {});\n",
              "          if (!dataTable) return;\n",
              "\n",
              "          const docLinkHtml = 'Like what you see? Visit the ' +\n",
              "            '<a target=\"_blank\" href=https://colab.research.google.com/notebooks/data_table.ipynb>data table notebook</a>'\n",
              "            + ' to learn more about interactive tables.';\n",
              "          element.innerHTML = '';\n",
              "          dataTable['output_type'] = 'display_data';\n",
              "          await google.colab.output.renderOutput(dataTable, element);\n",
              "          const docLink = document.createElement('div');\n",
              "          docLink.innerHTML = docLinkHtml;\n",
              "          element.appendChild(docLink);\n",
              "        }\n",
              "      </script>\n",
              "    </div>\n",
              "  </div>\n",
              "  "
            ]
          },
          "metadata": {},
          "execution_count": 25
        }
      ],
      "source": [
        "df"
      ]
    },
    {
      "cell_type": "markdown",
      "source": [
        "## Spelling Correction\n",
        "In the world of fast typing and fat-finger typing, incoming text data often has\n",
        "spelling errors. This can be prevalent in search engines, text-based chatbots deployed\n",
        "on mobile devices, social media, and many other sources. While we remove HTML\n",
        "tags and handle Unicode characters, this remains a unique problem that may hurt the\n",
        "linguistic understanding of the data, and shorthand text messages in social micro‐\n",
        "blogs often hinder language processing and context understanding\n",
        "\n",
        "from: https://learn.microsoft.com/en-us/bing/search-apis/bing-spell-check/overview"
      ],
      "metadata": {
        "id": "6-96XoBZo4zB"
      }
    },
    {
      "cell_type": "code",
      "source": [
        "import requests\n",
        "import json"
      ],
      "metadata": {
        "id": "qHhNT-Pko6i4"
      },
      "execution_count": 26,
      "outputs": []
    },
    {
      "cell_type": "code",
      "source": [
        "def spelling_correction(example_text):\n",
        "  api_key = \"b104cefaeaf14858b97b8823375f53c7\"  # TODO: Davide prova a far funzionare questo, segui le indicazioni qui https://learn.microsoft.com/en-us/bing/search-apis/bing-spell-check/overview\n",
        "  example_text = \"Hollo, wrld\"\n",
        "  endpoint = \"https://api.bing.microsoft.com/v7.0/SpellCheck\"\n",
        "\n",
        "  # Create a new dictionary with text as the key, and your text as the value.\n",
        "  data = {'text': example_text}\n",
        "\n",
        "  # Add the parameters for your request:\n",
        "  #   a. Assign your market code to the mkt parameter with the = operator. The market code is the code of the country/region you make the request from.\n",
        "  #   b. Add the mode parameter with the & operator, and then assign the spell-check mode. The mode can be either proof (catches most spelling/grammar errors) or spell (catches most spelling errors, but not as many grammar errors).\n",
        "\n",
        "  params = {\n",
        "    'mkt':'en-us',\n",
        "    'mode':'proof'\n",
        "    }\n",
        "\n",
        "  # Add a Content-Type header and your subscription key to the Ocp-Apim-Subscription-Key header.\n",
        "  headers = {\n",
        "    'Content-Type': 'application/x-www-form-urlencoded',\n",
        "    'Ocp-Apim-Subscription-Key': api_key,\n",
        "    }\n",
        "\n",
        "  # Send the POST request by using the requests library.\n",
        "  response = requests.post(endpoint, headers=headers, params=params, data=data)\n",
        "\n",
        "  # Get the JSON response\n",
        "  json_response = response.json()\n",
        "  print(json.dumps(json_response, indent=4))\n",
        "  return json.dumps(json_response, indent=4)\n",
        "  "
      ],
      "metadata": {
        "id": "1nKObnRZpznB"
      },
      "execution_count": 29,
      "outputs": []
    },
    {
      "cell_type": "code",
      "source": [
        "spelling_correction(df.text.iloc[10])"
      ],
      "metadata": {
        "id": "kOjSfHuNrRyX",
        "colab": {
          "base_uri": "https://localhost:8080/",
          "height": 177
        },
        "outputId": "e55e20cd-6eb1-40ce-978f-e12b74d33040"
      },
      "execution_count": 30,
      "outputs": [
        {
          "output_type": "stream",
          "name": "stdout",
          "text": [
            "{\n",
            "    \"error\": {\n",
            "        \"code\": \"401\",\n",
            "        \"message\": \"Access denied due to invalid subscription key or wrong API endpoint. Make sure to provide a valid key for an active subscription and use a correct regional API endpoint for your resource.\"\n",
            "    }\n",
            "}\n"
          ]
        },
        {
          "output_type": "execute_result",
          "data": {
            "text/plain": [
              "'{\\n    \"error\": {\\n        \"code\": \"401\",\\n        \"message\": \"Access denied due to invalid subscription key or wrong API endpoint. Make sure to provide a valid key for an active subscription and use a correct regional API endpoint for your resource.\"\\n    }\\n}'"
            ],
            "application/vnd.google.colaboratory.intrinsic+json": {
              "type": "string"
            }
          },
          "metadata": {},
          "execution_count": 30
        }
      ]
    },
    {
      "cell_type": "markdown",
      "metadata": {
        "id": "AkXA1PGLam3a"
      },
      "source": [
        "# Pre-Processing\n",
        "Our text-extraction step removed all this and gave us the plain text of the\n",
        "article we need. However, all NLP software typically works at the sentence level and\n",
        "expects a separation of words at the minimum. So, we need some way to split a text\n",
        "into words and sentences before proceeding further in a processing pipeline. Some‐\n",
        "times, we need to remove special characters and digits, and sometimes, we don’t care\n",
        "whether a word is in upper or lowercase and want everything in lowercase. Many\n",
        "more decisions like this are made while processing text. Such decisions are addressed\n",
        "during the pre-processing step of the NLP pipeline. Here are some common preprocessing steps used in NLP software:\n",
        "\n",
        "- Preliminaries: Sentence segmentation and word tokenization.\n",
        "- Frequent steps: Stop word removal, stemming and lemmatization, removing digits/punctuation,\n",
        "lowercasing, etc.\n",
        "- Other steps: Normalization, language detection, code mixing, transliteration, etc.\n",
        "- Advanced processing: POS tagging, parsing, coreference resolution, etc."
      ]
    },
    {
      "cell_type": "markdown",
      "source": [
        "## Preliminaries"
      ],
      "metadata": {
        "id": "-JEmRsaE8FC9"
      }
    },
    {
      "cell_type": "markdown",
      "source": [
        "As mentioned earlier, NLP software typically analyzes text by breaking it up into\n",
        "words (tokens) and sentences. Hence, any NLP pipeline has to start with a reliable\n",
        "system to split the text into sentences (sentence segmentation) and further split a sentence into words (word tokenization)"
      ],
      "metadata": {
        "id": "iJ28pslE8QPU"
      }
    },
    {
      "cell_type": "markdown",
      "source": [
        "### Sentence segmentation"
      ],
      "metadata": {
        "id": "oKlpszgF8uSg"
      }
    },
    {
      "cell_type": "markdown",
      "source": [
        "As a simple rule, we can do sentence segmentation by breaking up text into sentences\n",
        "at the appearance of full stops and question marks. However, there may be abbrevia‐\n",
        "tions, forms of addresses (Dr., Mr., etc.), or ellipses (...) that may break the simple\n",
        "rule."
      ],
      "metadata": {
        "id": "RMMom7Iy8z3k"
      }
    },
    {
      "cell_type": "code",
      "source": [
        "from nltk.tokenize import sent_tokenize, word_tokenize"
      ],
      "metadata": {
        "id": "jt-mloAp8GMv"
      },
      "execution_count": 31,
      "outputs": []
    },
    {
      "cell_type": "code",
      "source": [
        "df.text.iloc[4]"
      ],
      "metadata": {
        "colab": {
          "base_uri": "https://localhost:8080/",
          "height": 35
        },
        "id": "6qLKP25H9tnk",
        "outputId": "db2000a4-703c-4844-d10c-9ccdf841e7f2"
      },
      "execution_count": 32,
      "outputs": [
        {
          "output_type": "execute_result",
          "data": {
            "text/plain": [
              "\"b'Great taffy at a great price.  There was a wide assortment of yummy taffy.  Delivery was very quick.  If your a taffy lover, this is a deal.'\""
            ],
            "application/vnd.google.colaboratory.intrinsic+json": {
              "type": "string"
            }
          },
          "metadata": {},
          "execution_count": 32
        }
      ]
    },
    {
      "cell_type": "code",
      "source": [
        "sent_tokenize(df.text.iloc[4])"
      ],
      "metadata": {
        "colab": {
          "base_uri": "https://localhost:8080/"
        },
        "id": "7u6-YQd8qLav",
        "outputId": "2d3ce2c7-c955-414c-fc25-7a41faac00de"
      },
      "execution_count": 33,
      "outputs": [
        {
          "output_type": "execute_result",
          "data": {
            "text/plain": [
              "[\"b'Great taffy at a great price.\",\n",
              " 'There was a wide assortment of yummy taffy.',\n",
              " 'Delivery was very quick.',\n",
              " \"If your a taffy lover, this is a deal.'\"]"
            ]
          },
          "metadata": {},
          "execution_count": 33
        }
      ]
    },
    {
      "cell_type": "code",
      "source": [
        "df.text = df.text.apply(sent_tokenize)"
      ],
      "metadata": {
        "colab": {
          "base_uri": "https://localhost:8080/",
          "height": 311
        },
        "id": "Cvt8685t85C3",
        "outputId": "d8ec0316-2a17-4be0-ec78-3d1e34dc86cf"
      },
      "execution_count": 35,
      "outputs": [
        {
          "output_type": "error",
          "ename": "TypeError",
          "evalue": "ignored",
          "traceback": [
            "\u001b[0;31m---------------------------------------------------------------------------\u001b[0m",
            "\u001b[0;31mTypeError\u001b[0m                                 Traceback (most recent call last)",
            "\u001b[0;32m<ipython-input-35-567c2ed03fd2>\u001b[0m in \u001b[0;36m<cell line: 1>\u001b[0;34m()\u001b[0m\n\u001b[0;32m----> 1\u001b[0;31m \u001b[0mdf\u001b[0m\u001b[0;34m.\u001b[0m\u001b[0mtext\u001b[0m \u001b[0;34m=\u001b[0m \u001b[0mdf\u001b[0m\u001b[0;34m.\u001b[0m\u001b[0mtext\u001b[0m\u001b[0;34m.\u001b[0m\u001b[0mapply\u001b[0m\u001b[0;34m(\u001b[0m\u001b[0msent_tokenize\u001b[0m\u001b[0;34m)\u001b[0m\u001b[0;34m\u001b[0m\u001b[0;34m\u001b[0m\u001b[0m\n\u001b[0m",
            "\u001b[0;32m/usr/local/lib/python3.10/dist-packages/pandas/core/series.py\u001b[0m in \u001b[0;36mapply\u001b[0;34m(self, func, convert_dtype, args, **kwargs)\u001b[0m\n\u001b[1;32m   4769\u001b[0m         \u001b[0mdtype\u001b[0m\u001b[0;34m:\u001b[0m \u001b[0mfloat64\u001b[0m\u001b[0;34m\u001b[0m\u001b[0;34m\u001b[0m\u001b[0m\n\u001b[1;32m   4770\u001b[0m         \"\"\"\n\u001b[0;32m-> 4771\u001b[0;31m         \u001b[0;32mreturn\u001b[0m \u001b[0mSeriesApply\u001b[0m\u001b[0;34m(\u001b[0m\u001b[0mself\u001b[0m\u001b[0;34m,\u001b[0m \u001b[0mfunc\u001b[0m\u001b[0;34m,\u001b[0m \u001b[0mconvert_dtype\u001b[0m\u001b[0;34m,\u001b[0m \u001b[0margs\u001b[0m\u001b[0;34m,\u001b[0m \u001b[0mkwargs\u001b[0m\u001b[0;34m)\u001b[0m\u001b[0;34m.\u001b[0m\u001b[0mapply\u001b[0m\u001b[0;34m(\u001b[0m\u001b[0;34m)\u001b[0m\u001b[0;34m\u001b[0m\u001b[0;34m\u001b[0m\u001b[0m\n\u001b[0m\u001b[1;32m   4772\u001b[0m \u001b[0;34m\u001b[0m\u001b[0m\n\u001b[1;32m   4773\u001b[0m     def _reduce(\n",
            "\u001b[0;32m/usr/local/lib/python3.10/dist-packages/pandas/core/apply.py\u001b[0m in \u001b[0;36mapply\u001b[0;34m(self)\u001b[0m\n\u001b[1;32m   1121\u001b[0m \u001b[0;34m\u001b[0m\u001b[0m\n\u001b[1;32m   1122\u001b[0m         \u001b[0;31m# self.f is Callable\u001b[0m\u001b[0;34m\u001b[0m\u001b[0;34m\u001b[0m\u001b[0m\n\u001b[0;32m-> 1123\u001b[0;31m         \u001b[0;32mreturn\u001b[0m \u001b[0mself\u001b[0m\u001b[0;34m.\u001b[0m\u001b[0mapply_standard\u001b[0m\u001b[0;34m(\u001b[0m\u001b[0;34m)\u001b[0m\u001b[0;34m\u001b[0m\u001b[0;34m\u001b[0m\u001b[0m\n\u001b[0m\u001b[1;32m   1124\u001b[0m \u001b[0;34m\u001b[0m\u001b[0m\n\u001b[1;32m   1125\u001b[0m     \u001b[0;32mdef\u001b[0m \u001b[0magg\u001b[0m\u001b[0;34m(\u001b[0m\u001b[0mself\u001b[0m\u001b[0;34m)\u001b[0m\u001b[0;34m:\u001b[0m\u001b[0;34m\u001b[0m\u001b[0;34m\u001b[0m\u001b[0m\n",
            "\u001b[0;32m/usr/local/lib/python3.10/dist-packages/pandas/core/apply.py\u001b[0m in \u001b[0;36mapply_standard\u001b[0;34m(self)\u001b[0m\n\u001b[1;32m   1172\u001b[0m             \u001b[0;32melse\u001b[0m\u001b[0;34m:\u001b[0m\u001b[0;34m\u001b[0m\u001b[0;34m\u001b[0m\u001b[0m\n\u001b[1;32m   1173\u001b[0m                 \u001b[0mvalues\u001b[0m \u001b[0;34m=\u001b[0m \u001b[0mobj\u001b[0m\u001b[0;34m.\u001b[0m\u001b[0mastype\u001b[0m\u001b[0;34m(\u001b[0m\u001b[0mobject\u001b[0m\u001b[0;34m)\u001b[0m\u001b[0;34m.\u001b[0m\u001b[0m_values\u001b[0m\u001b[0;34m\u001b[0m\u001b[0;34m\u001b[0m\u001b[0m\n\u001b[0;32m-> 1174\u001b[0;31m                 mapped = lib.map_infer(\n\u001b[0m\u001b[1;32m   1175\u001b[0m                     \u001b[0mvalues\u001b[0m\u001b[0;34m,\u001b[0m\u001b[0;34m\u001b[0m\u001b[0;34m\u001b[0m\u001b[0m\n\u001b[1;32m   1176\u001b[0m                     \u001b[0mf\u001b[0m\u001b[0;34m,\u001b[0m\u001b[0;34m\u001b[0m\u001b[0;34m\u001b[0m\u001b[0m\n",
            "\u001b[0;32m/usr/local/lib/python3.10/dist-packages/pandas/_libs/lib.pyx\u001b[0m in \u001b[0;36mpandas._libs.lib.map_infer\u001b[0;34m()\u001b[0m\n",
            "\u001b[0;32m/usr/local/lib/python3.10/dist-packages/nltk/tokenize/__init__.py\u001b[0m in \u001b[0;36msent_tokenize\u001b[0;34m(text, language)\u001b[0m\n\u001b[1;32m    105\u001b[0m     \"\"\"\n\u001b[1;32m    106\u001b[0m     \u001b[0mtokenizer\u001b[0m \u001b[0;34m=\u001b[0m \u001b[0mload\u001b[0m\u001b[0;34m(\u001b[0m\u001b[0;34mf\"tokenizers/punkt/{language}.pickle\"\u001b[0m\u001b[0;34m)\u001b[0m\u001b[0;34m\u001b[0m\u001b[0;34m\u001b[0m\u001b[0m\n\u001b[0;32m--> 107\u001b[0;31m     \u001b[0;32mreturn\u001b[0m \u001b[0mtokenizer\u001b[0m\u001b[0;34m.\u001b[0m\u001b[0mtokenize\u001b[0m\u001b[0;34m(\u001b[0m\u001b[0mtext\u001b[0m\u001b[0;34m)\u001b[0m\u001b[0;34m\u001b[0m\u001b[0;34m\u001b[0m\u001b[0m\n\u001b[0m\u001b[1;32m    108\u001b[0m \u001b[0;34m\u001b[0m\u001b[0m\n\u001b[1;32m    109\u001b[0m \u001b[0;34m\u001b[0m\u001b[0m\n",
            "\u001b[0;32m/usr/local/lib/python3.10/dist-packages/nltk/tokenize/punkt.py\u001b[0m in \u001b[0;36mtokenize\u001b[0;34m(self, text, realign_boundaries)\u001b[0m\n\u001b[1;32m   1279\u001b[0m         \u001b[0mGiven\u001b[0m \u001b[0ma\u001b[0m \u001b[0mtext\u001b[0m\u001b[0;34m,\u001b[0m \u001b[0mreturns\u001b[0m \u001b[0ma\u001b[0m \u001b[0mlist\u001b[0m \u001b[0mof\u001b[0m \u001b[0mthe\u001b[0m \u001b[0msentences\u001b[0m \u001b[0;32min\u001b[0m \u001b[0mthat\u001b[0m \u001b[0mtext\u001b[0m\u001b[0;34m.\u001b[0m\u001b[0;34m\u001b[0m\u001b[0;34m\u001b[0m\u001b[0m\n\u001b[1;32m   1280\u001b[0m         \"\"\"\n\u001b[0;32m-> 1281\u001b[0;31m         \u001b[0;32mreturn\u001b[0m \u001b[0mlist\u001b[0m\u001b[0;34m(\u001b[0m\u001b[0mself\u001b[0m\u001b[0;34m.\u001b[0m\u001b[0msentences_from_text\u001b[0m\u001b[0;34m(\u001b[0m\u001b[0mtext\u001b[0m\u001b[0;34m,\u001b[0m \u001b[0mrealign_boundaries\u001b[0m\u001b[0;34m)\u001b[0m\u001b[0;34m)\u001b[0m\u001b[0;34m\u001b[0m\u001b[0;34m\u001b[0m\u001b[0m\n\u001b[0m\u001b[1;32m   1282\u001b[0m \u001b[0;34m\u001b[0m\u001b[0m\n\u001b[1;32m   1283\u001b[0m     \u001b[0;32mdef\u001b[0m \u001b[0mdebug_decisions\u001b[0m\u001b[0;34m(\u001b[0m\u001b[0mself\u001b[0m\u001b[0;34m,\u001b[0m \u001b[0mtext\u001b[0m\u001b[0;34m:\u001b[0m \u001b[0mstr\u001b[0m\u001b[0;34m)\u001b[0m \u001b[0;34m->\u001b[0m \u001b[0mIterator\u001b[0m\u001b[0;34m[\u001b[0m\u001b[0mDict\u001b[0m\u001b[0;34m[\u001b[0m\u001b[0mstr\u001b[0m\u001b[0;34m,\u001b[0m \u001b[0mAny\u001b[0m\u001b[0;34m]\u001b[0m\u001b[0;34m]\u001b[0m\u001b[0;34m:\u001b[0m\u001b[0;34m\u001b[0m\u001b[0;34m\u001b[0m\u001b[0m\n",
            "\u001b[0;32m/usr/local/lib/python3.10/dist-packages/nltk/tokenize/punkt.py\u001b[0m in \u001b[0;36msentences_from_text\u001b[0;34m(self, text, realign_boundaries)\u001b[0m\n\u001b[1;32m   1339\u001b[0m         \u001b[0mfollows\u001b[0m \u001b[0mthe\u001b[0m \u001b[0mperiod\u001b[0m\u001b[0;34m.\u001b[0m\u001b[0;34m\u001b[0m\u001b[0;34m\u001b[0m\u001b[0m\n\u001b[1;32m   1340\u001b[0m         \"\"\"\n\u001b[0;32m-> 1341\u001b[0;31m         \u001b[0;32mreturn\u001b[0m \u001b[0;34m[\u001b[0m\u001b[0mtext\u001b[0m\u001b[0;34m[\u001b[0m\u001b[0ms\u001b[0m\u001b[0;34m:\u001b[0m\u001b[0me\u001b[0m\u001b[0;34m]\u001b[0m \u001b[0;32mfor\u001b[0m \u001b[0ms\u001b[0m\u001b[0;34m,\u001b[0m \u001b[0me\u001b[0m \u001b[0;32min\u001b[0m \u001b[0mself\u001b[0m\u001b[0;34m.\u001b[0m\u001b[0mspan_tokenize\u001b[0m\u001b[0;34m(\u001b[0m\u001b[0mtext\u001b[0m\u001b[0;34m,\u001b[0m \u001b[0mrealign_boundaries\u001b[0m\u001b[0;34m)\u001b[0m\u001b[0;34m]\u001b[0m\u001b[0;34m\u001b[0m\u001b[0;34m\u001b[0m\u001b[0m\n\u001b[0m\u001b[1;32m   1342\u001b[0m \u001b[0;34m\u001b[0m\u001b[0m\n\u001b[1;32m   1343\u001b[0m     \u001b[0;32mdef\u001b[0m \u001b[0m_get_last_whitespace_index\u001b[0m\u001b[0;34m(\u001b[0m\u001b[0mself\u001b[0m\u001b[0;34m,\u001b[0m \u001b[0mtext\u001b[0m\u001b[0;34m:\u001b[0m \u001b[0mstr\u001b[0m\u001b[0;34m)\u001b[0m \u001b[0;34m->\u001b[0m \u001b[0mint\u001b[0m\u001b[0;34m:\u001b[0m\u001b[0;34m\u001b[0m\u001b[0;34m\u001b[0m\u001b[0m\n",
            "\u001b[0;32m/usr/local/lib/python3.10/dist-packages/nltk/tokenize/punkt.py\u001b[0m in \u001b[0;36m<listcomp>\u001b[0;34m(.0)\u001b[0m\n\u001b[1;32m   1339\u001b[0m         \u001b[0mfollows\u001b[0m \u001b[0mthe\u001b[0m \u001b[0mperiod\u001b[0m\u001b[0;34m.\u001b[0m\u001b[0;34m\u001b[0m\u001b[0;34m\u001b[0m\u001b[0m\n\u001b[1;32m   1340\u001b[0m         \"\"\"\n\u001b[0;32m-> 1341\u001b[0;31m         \u001b[0;32mreturn\u001b[0m \u001b[0;34m[\u001b[0m\u001b[0mtext\u001b[0m\u001b[0;34m[\u001b[0m\u001b[0ms\u001b[0m\u001b[0;34m:\u001b[0m\u001b[0me\u001b[0m\u001b[0;34m]\u001b[0m \u001b[0;32mfor\u001b[0m \u001b[0ms\u001b[0m\u001b[0;34m,\u001b[0m \u001b[0me\u001b[0m \u001b[0;32min\u001b[0m \u001b[0mself\u001b[0m\u001b[0;34m.\u001b[0m\u001b[0mspan_tokenize\u001b[0m\u001b[0;34m(\u001b[0m\u001b[0mtext\u001b[0m\u001b[0;34m,\u001b[0m \u001b[0mrealign_boundaries\u001b[0m\u001b[0;34m)\u001b[0m\u001b[0;34m]\u001b[0m\u001b[0;34m\u001b[0m\u001b[0;34m\u001b[0m\u001b[0m\n\u001b[0m\u001b[1;32m   1342\u001b[0m \u001b[0;34m\u001b[0m\u001b[0m\n\u001b[1;32m   1343\u001b[0m     \u001b[0;32mdef\u001b[0m \u001b[0m_get_last_whitespace_index\u001b[0m\u001b[0;34m(\u001b[0m\u001b[0mself\u001b[0m\u001b[0;34m,\u001b[0m \u001b[0mtext\u001b[0m\u001b[0;34m:\u001b[0m \u001b[0mstr\u001b[0m\u001b[0;34m)\u001b[0m \u001b[0;34m->\u001b[0m \u001b[0mint\u001b[0m\u001b[0;34m:\u001b[0m\u001b[0;34m\u001b[0m\u001b[0;34m\u001b[0m\u001b[0m\n",
            "\u001b[0;32m/usr/local/lib/python3.10/dist-packages/nltk/tokenize/punkt.py\u001b[0m in \u001b[0;36mspan_tokenize\u001b[0;34m(self, text, realign_boundaries)\u001b[0m\n\u001b[1;32m   1327\u001b[0m         \u001b[0;32mif\u001b[0m \u001b[0mrealign_boundaries\u001b[0m\u001b[0;34m:\u001b[0m\u001b[0;34m\u001b[0m\u001b[0;34m\u001b[0m\u001b[0m\n\u001b[1;32m   1328\u001b[0m             \u001b[0mslices\u001b[0m \u001b[0;34m=\u001b[0m \u001b[0mself\u001b[0m\u001b[0;34m.\u001b[0m\u001b[0m_realign_boundaries\u001b[0m\u001b[0;34m(\u001b[0m\u001b[0mtext\u001b[0m\u001b[0;34m,\u001b[0m \u001b[0mslices\u001b[0m\u001b[0;34m)\u001b[0m\u001b[0;34m\u001b[0m\u001b[0;34m\u001b[0m\u001b[0m\n\u001b[0;32m-> 1329\u001b[0;31m         \u001b[0;32mfor\u001b[0m \u001b[0msentence\u001b[0m \u001b[0;32min\u001b[0m \u001b[0mslices\u001b[0m\u001b[0;34m:\u001b[0m\u001b[0;34m\u001b[0m\u001b[0;34m\u001b[0m\u001b[0m\n\u001b[0m\u001b[1;32m   1330\u001b[0m             \u001b[0;32myield\u001b[0m \u001b[0;34m(\u001b[0m\u001b[0msentence\u001b[0m\u001b[0;34m.\u001b[0m\u001b[0mstart\u001b[0m\u001b[0;34m,\u001b[0m \u001b[0msentence\u001b[0m\u001b[0;34m.\u001b[0m\u001b[0mstop\u001b[0m\u001b[0;34m)\u001b[0m\u001b[0;34m\u001b[0m\u001b[0;34m\u001b[0m\u001b[0m\n\u001b[1;32m   1331\u001b[0m \u001b[0;34m\u001b[0m\u001b[0m\n",
            "\u001b[0;32m/usr/local/lib/python3.10/dist-packages/nltk/tokenize/punkt.py\u001b[0m in \u001b[0;36m_realign_boundaries\u001b[0;34m(self, text, slices)\u001b[0m\n\u001b[1;32m   1457\u001b[0m         \"\"\"\n\u001b[1;32m   1458\u001b[0m         \u001b[0mrealign\u001b[0m \u001b[0;34m=\u001b[0m \u001b[0;36m0\u001b[0m\u001b[0;34m\u001b[0m\u001b[0;34m\u001b[0m\u001b[0m\n\u001b[0;32m-> 1459\u001b[0;31m         \u001b[0;32mfor\u001b[0m \u001b[0msentence1\u001b[0m\u001b[0;34m,\u001b[0m \u001b[0msentence2\u001b[0m \u001b[0;32min\u001b[0m \u001b[0m_pair_iter\u001b[0m\u001b[0;34m(\u001b[0m\u001b[0mslices\u001b[0m\u001b[0;34m)\u001b[0m\u001b[0;34m:\u001b[0m\u001b[0;34m\u001b[0m\u001b[0;34m\u001b[0m\u001b[0m\n\u001b[0m\u001b[1;32m   1460\u001b[0m             \u001b[0msentence1\u001b[0m \u001b[0;34m=\u001b[0m \u001b[0mslice\u001b[0m\u001b[0;34m(\u001b[0m\u001b[0msentence1\u001b[0m\u001b[0;34m.\u001b[0m\u001b[0mstart\u001b[0m \u001b[0;34m+\u001b[0m \u001b[0mrealign\u001b[0m\u001b[0;34m,\u001b[0m \u001b[0msentence1\u001b[0m\u001b[0;34m.\u001b[0m\u001b[0mstop\u001b[0m\u001b[0;34m)\u001b[0m\u001b[0;34m\u001b[0m\u001b[0;34m\u001b[0m\u001b[0m\n\u001b[1;32m   1461\u001b[0m             \u001b[0;32mif\u001b[0m \u001b[0;32mnot\u001b[0m \u001b[0msentence2\u001b[0m\u001b[0;34m:\u001b[0m\u001b[0;34m\u001b[0m\u001b[0;34m\u001b[0m\u001b[0m\n",
            "\u001b[0;32m/usr/local/lib/python3.10/dist-packages/nltk/tokenize/punkt.py\u001b[0m in \u001b[0;36m_pair_iter\u001b[0;34m(iterator)\u001b[0m\n\u001b[1;32m    319\u001b[0m     \u001b[0miterator\u001b[0m \u001b[0;34m=\u001b[0m \u001b[0miter\u001b[0m\u001b[0;34m(\u001b[0m\u001b[0miterator\u001b[0m\u001b[0;34m)\u001b[0m\u001b[0;34m\u001b[0m\u001b[0;34m\u001b[0m\u001b[0m\n\u001b[1;32m    320\u001b[0m     \u001b[0;32mtry\u001b[0m\u001b[0;34m:\u001b[0m\u001b[0;34m\u001b[0m\u001b[0;34m\u001b[0m\u001b[0m\n\u001b[0;32m--> 321\u001b[0;31m         \u001b[0mprev\u001b[0m \u001b[0;34m=\u001b[0m \u001b[0mnext\u001b[0m\u001b[0;34m(\u001b[0m\u001b[0miterator\u001b[0m\u001b[0;34m)\u001b[0m\u001b[0;34m\u001b[0m\u001b[0;34m\u001b[0m\u001b[0m\n\u001b[0m\u001b[1;32m    322\u001b[0m     \u001b[0;32mexcept\u001b[0m \u001b[0mStopIteration\u001b[0m\u001b[0;34m:\u001b[0m\u001b[0;34m\u001b[0m\u001b[0;34m\u001b[0m\u001b[0m\n\u001b[1;32m    323\u001b[0m         \u001b[0;32mreturn\u001b[0m\u001b[0;34m\u001b[0m\u001b[0;34m\u001b[0m\u001b[0m\n",
            "\u001b[0;32m/usr/local/lib/python3.10/dist-packages/nltk/tokenize/punkt.py\u001b[0m in \u001b[0;36m_slices_from_text\u001b[0;34m(self, text)\u001b[0m\n\u001b[1;32m   1429\u001b[0m     \u001b[0;32mdef\u001b[0m \u001b[0m_slices_from_text\u001b[0m\u001b[0;34m(\u001b[0m\u001b[0mself\u001b[0m\u001b[0;34m,\u001b[0m \u001b[0mtext\u001b[0m\u001b[0;34m:\u001b[0m \u001b[0mstr\u001b[0m\u001b[0;34m)\u001b[0m \u001b[0;34m->\u001b[0m \u001b[0mIterator\u001b[0m\u001b[0;34m[\u001b[0m\u001b[0mslice\u001b[0m\u001b[0;34m]\u001b[0m\u001b[0;34m:\u001b[0m\u001b[0;34m\u001b[0m\u001b[0;34m\u001b[0m\u001b[0m\n\u001b[1;32m   1430\u001b[0m         \u001b[0mlast_break\u001b[0m \u001b[0;34m=\u001b[0m \u001b[0;36m0\u001b[0m\u001b[0;34m\u001b[0m\u001b[0;34m\u001b[0m\u001b[0m\n\u001b[0;32m-> 1431\u001b[0;31m         \u001b[0;32mfor\u001b[0m \u001b[0mmatch\u001b[0m\u001b[0;34m,\u001b[0m \u001b[0mcontext\u001b[0m \u001b[0;32min\u001b[0m \u001b[0mself\u001b[0m\u001b[0;34m.\u001b[0m\u001b[0m_match_potential_end_contexts\u001b[0m\u001b[0;34m(\u001b[0m\u001b[0mtext\u001b[0m\u001b[0;34m)\u001b[0m\u001b[0;34m:\u001b[0m\u001b[0;34m\u001b[0m\u001b[0;34m\u001b[0m\u001b[0m\n\u001b[0m\u001b[1;32m   1432\u001b[0m             \u001b[0;32mif\u001b[0m \u001b[0mself\u001b[0m\u001b[0;34m.\u001b[0m\u001b[0mtext_contains_sentbreak\u001b[0m\u001b[0;34m(\u001b[0m\u001b[0mcontext\u001b[0m\u001b[0;34m)\u001b[0m\u001b[0;34m:\u001b[0m\u001b[0;34m\u001b[0m\u001b[0;34m\u001b[0m\u001b[0m\n\u001b[1;32m   1433\u001b[0m                 \u001b[0;32myield\u001b[0m \u001b[0mslice\u001b[0m\u001b[0;34m(\u001b[0m\u001b[0mlast_break\u001b[0m\u001b[0;34m,\u001b[0m \u001b[0mmatch\u001b[0m\u001b[0;34m.\u001b[0m\u001b[0mend\u001b[0m\u001b[0;34m(\u001b[0m\u001b[0;34m)\u001b[0m\u001b[0;34m)\u001b[0m\u001b[0;34m\u001b[0m\u001b[0;34m\u001b[0m\u001b[0m\n",
            "\u001b[0;32m/usr/local/lib/python3.10/dist-packages/nltk/tokenize/punkt.py\u001b[0m in \u001b[0;36m_match_potential_end_contexts\u001b[0;34m(self, text)\u001b[0m\n\u001b[1;32m   1393\u001b[0m         \u001b[0mprevious_slice\u001b[0m \u001b[0;34m=\u001b[0m \u001b[0mslice\u001b[0m\u001b[0;34m(\u001b[0m\u001b[0;36m0\u001b[0m\u001b[0;34m,\u001b[0m \u001b[0;36m0\u001b[0m\u001b[0;34m)\u001b[0m\u001b[0;34m\u001b[0m\u001b[0;34m\u001b[0m\u001b[0m\n\u001b[1;32m   1394\u001b[0m         \u001b[0mprevious_match\u001b[0m \u001b[0;34m=\u001b[0m \u001b[0;32mNone\u001b[0m\u001b[0;34m\u001b[0m\u001b[0;34m\u001b[0m\u001b[0m\n\u001b[0;32m-> 1395\u001b[0;31m         \u001b[0;32mfor\u001b[0m \u001b[0mmatch\u001b[0m \u001b[0;32min\u001b[0m \u001b[0mself\u001b[0m\u001b[0;34m.\u001b[0m\u001b[0m_lang_vars\u001b[0m\u001b[0;34m.\u001b[0m\u001b[0mperiod_context_re\u001b[0m\u001b[0;34m(\u001b[0m\u001b[0;34m)\u001b[0m\u001b[0;34m.\u001b[0m\u001b[0mfinditer\u001b[0m\u001b[0;34m(\u001b[0m\u001b[0mtext\u001b[0m\u001b[0;34m)\u001b[0m\u001b[0;34m:\u001b[0m\u001b[0;34m\u001b[0m\u001b[0;34m\u001b[0m\u001b[0m\n\u001b[0m\u001b[1;32m   1396\u001b[0m \u001b[0;34m\u001b[0m\u001b[0m\n\u001b[1;32m   1397\u001b[0m             \u001b[0;31m# Get the slice of the previous word\u001b[0m\u001b[0;34m\u001b[0m\u001b[0;34m\u001b[0m\u001b[0m\n",
            "\u001b[0;31mTypeError\u001b[0m: expected string or bytes-like object"
          ]
        }
      ]
    },
    {
      "cell_type": "markdown",
      "source": [
        "### Word tokenization\n",
        "While readily available solutions work for most of our needs and most NLP libraries\n",
        "will have a tokenizer and sentence splitter bundled with them, it’s important to\n",
        "remember that they’re far from perfect. For example, consider this sentence: “Mr. Jack\n",
        "O’Neil works at Melitas Marg, located at 245 Yonge Avenue, Austin, 70272.” If we run\n",
        "this through the NLTK tokenizer, O, ‘, and Neil are identified as three separate tokens.\n",
        "Similarly, if we run the sentence: “There are \\$10,000 and €1000 which are there just\n",
        "for testing a tokenizer” through this tokenizer, while $ and 10,000 are identified as\n",
        "separate tokens, €1000 is identified as a single token. In another scenario, if we want\n",
        "to tokenize tweets, this tokenizer will separate a hashtag into two tokens: a “#” sign\n",
        "and the string that follows it. In such cases, we may need to use a custom tokenizer\n",
        "built for our purpose"
      ],
      "metadata": {
        "id": "xxU0aPPeDGsc"
      }
    },
    {
      "cell_type": "code",
      "source": [
        "def word_tokenize_custom(list_of_sent):\n",
        "  list_of_word = []\n",
        "  for sent in list_of_sent:\n",
        "    list_of_word.append(word_tokenize(sent))\n",
        "\n",
        "  return list_of_word"
      ],
      "metadata": {
        "id": "MiQeNnGuF-IF"
      },
      "execution_count": 36,
      "outputs": []
    },
    {
      "cell_type": "code",
      "source": [
        "df.text.iloc[4]"
      ],
      "metadata": {
        "colab": {
          "base_uri": "https://localhost:8080/"
        },
        "id": "KqcseiGyeEiN",
        "outputId": "c67fb052-1b7c-422d-b010-2d46eb5634a0"
      },
      "execution_count": 37,
      "outputs": [
        {
          "output_type": "execute_result",
          "data": {
            "text/plain": [
              "[\"b'Great taffy at a great price.\",\n",
              " 'There was a wide assortment of yummy taffy.',\n",
              " 'Delivery was very quick.',\n",
              " \"If your a taffy lover, this is a deal.'\"]"
            ]
          },
          "metadata": {},
          "execution_count": 37
        }
      ]
    },
    {
      "cell_type": "code",
      "source": [
        "word_tokenize_custom(df.text.iloc[4])"
      ],
      "metadata": {
        "colab": {
          "base_uri": "https://localhost:8080/"
        },
        "id": "7WhS0AE4q8cA",
        "outputId": "e2598ab1-6b21-4da3-ce12-bd48bdb194b8"
      },
      "execution_count": 38,
      "outputs": [
        {
          "output_type": "execute_result",
          "data": {
            "text/plain": [
              "[[\"b'Great\", 'taffy', 'at', 'a', 'great', 'price', '.'],\n",
              " ['There', 'was', 'a', 'wide', 'assortment', 'of', 'yummy', 'taffy', '.'],\n",
              " ['Delivery', 'was', 'very', 'quick', '.'],\n",
              " ['If',\n",
              "  'your',\n",
              "  'a',\n",
              "  'taffy',\n",
              "  'lover',\n",
              "  ',',\n",
              "  'this',\n",
              "  'is',\n",
              "  'a',\n",
              "  'deal',\n",
              "  '.',\n",
              "  \"'\"]]"
            ]
          },
          "metadata": {},
          "execution_count": 38
        }
      ]
    },
    {
      "cell_type": "code",
      "source": [
        "df.text = df.text.apply(word_tokenize_custom) # TODO: da migliroare"
      ],
      "metadata": {
        "colab": {
          "base_uri": "https://localhost:8080/"
        },
        "id": "Im0x6fvtDI3s",
        "outputId": "7ec8bec1-4a7a-417e-f2aa-9dbfabed36d4"
      },
      "execution_count": 39,
      "outputs": [
        {
          "output_type": "stream",
          "name": "stderr",
          "text": [
            "<ipython-input-39-6dce8133e54f>:1: SettingWithCopyWarning: \n",
            "A value is trying to be set on a copy of a slice from a DataFrame.\n",
            "Try using .loc[row_indexer,col_indexer] = value instead\n",
            "\n",
            "See the caveats in the documentation: https://pandas.pydata.org/pandas-docs/stable/user_guide/indexing.html#returning-a-view-versus-a-copy\n",
            "  df.text = df.text.apply(word_tokenize_custom) # TODO: da migliroare\n"
          ]
        }
      ]
    },
    {
      "cell_type": "markdown",
      "source": [
        "## Frequent Steps\n",
        "Some of\n",
        "the frequently used words in English, such as a, an, the, of, in, etc., are not particu‐\n",
        "larly useful for this task, as they don’t carry any content on their own to separate\n",
        "between the four categories. Such words are called stop words and are typically\n",
        "(though not always) removed from further analysis in such problem scenarios. There\n",
        "is no standard list of stop words for English, though. There are some popular lists\n",
        "(NLTK has one, for example), although what a stop word is can vary depending on what we’re working on.\n",
        "\n",
        "Similarly, in some cases, upper or lowercase may not make a difference for the problem. So, all text is lowercased (or uppercased, although lowercasing is more common). Removing punctuation and/or numbers is also a common step for many NLP\n",
        "problems, such as text classification, information retrieval,\n",
        "and social media analytics\n"
      ],
      "metadata": {
        "id": "EUPpoYDGHFev"
      }
    },
    {
      "cell_type": "code",
      "source": [
        "from nltk.corpus import stopwords\n",
        "from string import punctuation\n",
        "\n",
        "def preprocess_corpus(texts):\n",
        "  '''\n",
        "  Remove stop words, digits, and punctuation and lowercase a given collection of texts\n",
        "  '''\n",
        "  mystopwords = set(stopwords.words(\"english\"))\n",
        "  \n",
        "  def remove_stops_digits(tokens):\n",
        "    return [token.lower() for token in tokens if token not in mystopwords and not token.isdigit() and token not in punctuation]\n",
        "  \n",
        "  return [remove_stops_digits(text) for text in texts]\n",
        "\n"
      ],
      "metadata": {
        "id": "v0U81C-tHH7t"
      },
      "execution_count": 40,
      "outputs": []
    },
    {
      "cell_type": "code",
      "source": [
        "df.text.iloc[4]"
      ],
      "metadata": {
        "colab": {
          "base_uri": "https://localhost:8080/"
        },
        "id": "xAievS72oW7v",
        "outputId": "61927c60-97ee-4dc5-fc2c-9cf036af97ab"
      },
      "execution_count": 41,
      "outputs": [
        {
          "output_type": "execute_result",
          "data": {
            "text/plain": [
              "[[\"b'Great\", 'taffy', 'at', 'a', 'great', 'price', '.'],\n",
              " ['There', 'was', 'a', 'wide', 'assortment', 'of', 'yummy', 'taffy', '.'],\n",
              " ['Delivery', 'was', 'very', 'quick', '.'],\n",
              " ['If',\n",
              "  'your',\n",
              "  'a',\n",
              "  'taffy',\n",
              "  'lover',\n",
              "  ',',\n",
              "  'this',\n",
              "  'is',\n",
              "  'a',\n",
              "  'deal',\n",
              "  '.',\n",
              "  \"'\"]]"
            ]
          },
          "metadata": {},
          "execution_count": 41
        }
      ]
    },
    {
      "cell_type": "code",
      "source": [
        "preprocess_corpus(df.text.iloc[4])"
      ],
      "metadata": {
        "colab": {
          "base_uri": "https://localhost:8080/"
        },
        "id": "79de52SlrRhs",
        "outputId": "466a4cc3-080a-4a3f-e69c-27e15df70c4f"
      },
      "execution_count": 42,
      "outputs": [
        {
          "output_type": "execute_result",
          "data": {
            "text/plain": [
              "[[\"b'great\", 'taffy', 'great', 'price'],\n",
              " ['there', 'wide', 'assortment', 'yummy', 'taffy'],\n",
              " ['delivery', 'quick'],\n",
              " ['if', 'taffy', 'lover', 'deal']]"
            ]
          },
          "metadata": {},
          "execution_count": 42
        }
      ]
    },
    {
      "cell_type": "code",
      "source": [
        "df.text = df.text.apply(preprocess_corpus)"
      ],
      "metadata": {
        "colab": {
          "base_uri": "https://localhost:8080/"
        },
        "id": "HJnptpbhP5Xq",
        "outputId": "a68b1e1b-1f60-4a27-908c-89b6cffa56ab"
      },
      "execution_count": 43,
      "outputs": [
        {
          "output_type": "stream",
          "name": "stderr",
          "text": [
            "<ipython-input-43-e56b900d9fd9>:1: SettingWithCopyWarning: \n",
            "A value is trying to be set on a copy of a slice from a DataFrame.\n",
            "Try using .loc[row_indexer,col_indexer] = value instead\n",
            "\n",
            "See the caveats in the documentation: https://pandas.pydata.org/pandas-docs/stable/user_guide/indexing.html#returning-a-view-versus-a-copy\n",
            "  df.text = df.text.apply(preprocess_corpus)\n"
          ]
        }
      ]
    },
    {
      "cell_type": "markdown",
      "source": [
        "### Stemming and lemmatization\n",
        "\n",
        "Stemming refers to the process of removing suffixes and reducing a word to some\n",
        "base form such that all different variants of that word can be represented by the same form (e.g., “car” and “cars” are both reduced to “car”). This is accomplished by applying a fixed set of rules (e.g., if the word ends in “-es,” remove “-es”). Although such rules may not always end up in a linguistically correct base form, stemming is commonly used in search engines to match user queries to relevant documents and in text classification to reduce the feature space to train machine learning models.\n",
        "\n",
        "\n",
        "Lemmatization is the process of mapping all the different forms of a word to its base\n",
        "word, or lemma. While this seems close to the definition of stemming, they are, in\n",
        "fact, different. For example, the adjective “better,” when stemmed, remains the same.\n",
        "However, upon lemmatization, this should become “good.\n",
        "\n",
        "![image.png](data:image/png;base64,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)"
      ],
      "metadata": {
        "id": "wA6InY3AMxP8"
      }
    },
    {
      "cell_type": "code",
      "source": [
        "from nltk.stem.porter import PorterStemmer\n",
        "\n",
        "def make_stemming(list_of_sent):\n",
        "  stemmer = PorterStemmer()\n",
        "  stemmed_list_of_sent = []\n",
        "  for sent in list_of_sent:\n",
        "    stemmed_sentence = []\n",
        "    for word in sent:\n",
        "      stemmed_word = stemmer.stem(word)\n",
        "      stemmed_sentence.append(stemmed_word)\n",
        "    \n",
        "    stemmed_list_of_sent.append(stemmed_sentence)\n",
        "\n",
        "  return stemmed_list_of_sent"
      ],
      "metadata": {
        "id": "8DEgr-ToMyZ1"
      },
      "execution_count": 44,
      "outputs": []
    },
    {
      "cell_type": "code",
      "source": [
        "df.text.iloc[4]"
      ],
      "metadata": {
        "colab": {
          "base_uri": "https://localhost:8080/"
        },
        "id": "zYjs8wzQt-DS",
        "outputId": "3abdbf0e-cf4f-4de5-cff5-d7359bb6d30c"
      },
      "execution_count": 45,
      "outputs": [
        {
          "output_type": "execute_result",
          "data": {
            "text/plain": [
              "[[\"b'great\", 'taffy', 'great', 'price'],\n",
              " ['there', 'wide', 'assortment', 'yummy', 'taffy'],\n",
              " ['delivery', 'quick'],\n",
              " ['if', 'taffy', 'lover', 'deal']]"
            ]
          },
          "metadata": {},
          "execution_count": 45
        }
      ]
    },
    {
      "cell_type": "code",
      "source": [
        "make_stemming(df.text.iloc[4])"
      ],
      "metadata": {
        "colab": {
          "base_uri": "https://localhost:8080/"
        },
        "id": "rQDoPPBut5Ml",
        "outputId": "4c4fb700-cc42-4be4-991f-ae238a8d79a4"
      },
      "execution_count": 46,
      "outputs": [
        {
          "output_type": "execute_result",
          "data": {
            "text/plain": [
              "[[\"b'great\", 'taffi', 'great', 'price'],\n",
              " ['there', 'wide', 'assort', 'yummi', 'taffi'],\n",
              " ['deliveri', 'quick'],\n",
              " ['if', 'taffi', 'lover', 'deal']]"
            ]
          },
          "metadata": {},
          "execution_count": 46
        }
      ]
    },
    {
      "cell_type": "code",
      "source": [
        "df.text = df.text.apply(make_stemming)"
      ],
      "metadata": {
        "colab": {
          "base_uri": "https://localhost:8080/"
        },
        "id": "uFlSHEtFOPhX",
        "outputId": "d986d6e4-ce52-4849-a433-e3723c3ff7a9"
      },
      "execution_count": 47,
      "outputs": [
        {
          "output_type": "stream",
          "name": "stderr",
          "text": [
            "<ipython-input-47-537e78d757aa>:1: SettingWithCopyWarning: \n",
            "A value is trying to be set on a copy of a slice from a DataFrame.\n",
            "Try using .loc[row_indexer,col_indexer] = value instead\n",
            "\n",
            "See the caveats in the documentation: https://pandas.pydata.org/pandas-docs/stable/user_guide/indexing.html#returning-a-view-versus-a-copy\n",
            "  df.text = df.text.apply(make_stemming)\n"
          ]
        }
      ]
    },
    {
      "cell_type": "code",
      "source": [
        "import spacy\n",
        "\n",
        "def make_lemmatization(list_of_sentences):\n",
        "  sp = spacy.load('en_core_web_sm')\n",
        "\n",
        "  list_of_lemmatize_sentences = []\n",
        "  for sentence in list_of_sentences:\n",
        "    list_of_lemmatize_words = []\n",
        "    for word in sentence:\n",
        "      token = sp(word) # The ‘u’ in front of a string means the string is a Unicode string.\n",
        "      list_of_lemmatize_words.append(token[0].lemma_)\n",
        "    list_of_lemmatize_sentences.append(list_of_lemmatize_words)\n",
        "  \n",
        "  return list_of_lemmatize_sentences"
      ],
      "metadata": {
        "id": "7lgPdC1MPb0c"
      },
      "execution_count": 48,
      "outputs": []
    },
    {
      "cell_type": "code",
      "source": [
        "df.text.iloc[10]"
      ],
      "metadata": {
        "colab": {
          "base_uri": "https://localhost:8080/"
        },
        "id": "zxS97fT8vSJE",
        "outputId": "ea6827b7-a362-4c2e-9e54-5b1de72b5d78"
      },
      "execution_count": 49,
      "outputs": [
        {
          "output_type": "execute_result",
          "data": {
            "text/plain": [
              "[['b',\n",
              "  \"''\",\n",
              "  'i',\n",
              "  \"n't\",\n",
              "  'know',\n",
              "  \"'s\",\n",
              "  'cactu',\n",
              "  'tequila',\n",
              "  'uniqu',\n",
              "  'combin',\n",
              "  'ingredi',\n",
              "  'flavour',\n",
              "  'hot',\n",
              "  'sauc',\n",
              "  'make',\n",
              "  'one',\n",
              "  'kind'],\n",
              " ['we',\n",
              "  'pick',\n",
              "  'bottl',\n",
              "  'trip',\n",
              "  'brought',\n",
              "  'back',\n",
              "  'home',\n",
              "  'us',\n",
              "  'total',\n",
              "  'blown',\n",
              "  'away'],\n",
              " ['when',\n",
              "  'realiz',\n",
              "  'simpli',\n",
              "  'could',\n",
              "  \"n't\",\n",
              "  'find',\n",
              "  'anywher',\n",
              "  'citi',\n",
              "  'bummed.now',\n",
              "  'magic',\n",
              "  'internet',\n",
              "  'case',\n",
              "  'sauc',\n",
              "  'ecstat',\n",
              "  'it.if',\n",
              "  'love',\n",
              "  'hot',\n",
              "  'sauc',\n",
              "  '..',\n",
              "  'i',\n",
              "  'mean',\n",
              "  'realli',\n",
              "  'love',\n",
              "  'hot',\n",
              "  'sauc',\n",
              "  \"n't\",\n",
              "  'want',\n",
              "  'sauc',\n",
              "  'tastelessli',\n",
              "  'burn',\n",
              "  'throat',\n",
              "  'grab',\n",
              "  'bottl',\n",
              "  'tequila',\n",
              "  'picant',\n",
              "  'gourmet',\n",
              "  'de',\n",
              "  'inclan'],\n",
              " ['just',\n",
              "  'realiz',\n",
              "  'tast',\n",
              "  'never',\n",
              "  'want',\n",
              "  'use',\n",
              "  'sauce.thank',\n",
              "  'person',\n",
              "  'incred',\n",
              "  'servic',\n",
              "  \"''\"]]"
            ]
          },
          "metadata": {},
          "execution_count": 49
        }
      ]
    },
    {
      "cell_type": "code",
      "source": [
        "make_lemmatization(df.text.iloc[10])"
      ],
      "metadata": {
        "colab": {
          "base_uri": "https://localhost:8080/"
        },
        "id": "Xi7b-3vMwkso",
        "outputId": "cdb39232-90e9-4541-8fcc-8df31e97677c"
      },
      "execution_count": 50,
      "outputs": [
        {
          "output_type": "execute_result",
          "data": {
            "text/plain": [
              "[['b',\n",
              "  \"''\",\n",
              "  'I',\n",
              "  'not',\n",
              "  'know',\n",
              "  'be',\n",
              "  'cactu',\n",
              "  'tequila',\n",
              "  'uniqu',\n",
              "  'combin',\n",
              "  'ingredi',\n",
              "  'flavour',\n",
              "  'hot',\n",
              "  'sauc',\n",
              "  'make',\n",
              "  'one',\n",
              "  'kind'],\n",
              " ['we',\n",
              "  'pick',\n",
              "  'bottl',\n",
              "  'trip',\n",
              "  'bring',\n",
              "  'back',\n",
              "  'home',\n",
              "  'we',\n",
              "  'total',\n",
              "  'blow',\n",
              "  'away'],\n",
              " ['when',\n",
              "  'realiz',\n",
              "  'simpli',\n",
              "  'could',\n",
              "  'not',\n",
              "  'find',\n",
              "  'anywher',\n",
              "  'citi',\n",
              "  'bummed.now',\n",
              "  'magic',\n",
              "  'internet',\n",
              "  'case',\n",
              "  'sauc',\n",
              "  'ecstat',\n",
              "  'it.if',\n",
              "  'love',\n",
              "  'hot',\n",
              "  'sauc',\n",
              "  '..',\n",
              "  'I',\n",
              "  'mean',\n",
              "  'realli',\n",
              "  'love',\n",
              "  'hot',\n",
              "  'sauc',\n",
              "  'not',\n",
              "  'want',\n",
              "  'sauc',\n",
              "  'tastelessli',\n",
              "  'burn',\n",
              "  'throat',\n",
              "  'grab',\n",
              "  'bottl',\n",
              "  'tequila',\n",
              "  'picant',\n",
              "  'gourmet',\n",
              "  'de',\n",
              "  'inclan'],\n",
              " ['just',\n",
              "  'realiz',\n",
              "  'tast',\n",
              "  'never',\n",
              "  'want',\n",
              "  'use',\n",
              "  'sauce.thank',\n",
              "  'person',\n",
              "  'incred',\n",
              "  'servic',\n",
              "  \"''\"]]"
            ]
          },
          "metadata": {},
          "execution_count": 50
        }
      ]
    },
    {
      "cell_type": "code",
      "source": [
        "df.text = df.text.apply(make_lemmatization)"
      ],
      "metadata": {
        "id": "h79MCrjxR-RW"
      },
      "execution_count": null,
      "outputs": []
    }
  ],
  "metadata": {
    "colab": {
      "toc_visible": true,
      "provenance": [],
      "collapsed_sections": [
        "UElwkRQLSD14"
      ],
      "include_colab_link": true
    },
    "kernelspec": {
      "display_name": "Python 3",
      "name": "python3"
    },
    "language_info": {
      "name": "python"
    }
  },
  "nbformat": 4,
  "nbformat_minor": 0
}