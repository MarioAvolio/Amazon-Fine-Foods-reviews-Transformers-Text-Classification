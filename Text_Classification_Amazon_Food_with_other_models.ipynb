{
  "cells": [
    {
      "cell_type": "markdown",
      "metadata": {
        "id": "view-in-github",
        "colab_type": "text"
      },
      "source": [
        "<a href=\"https://colab.research.google.com/github/MarioAvolio/Amazon-Fine-Foods-reviews-Transformers-Text-Classification/blob/main/Text_Classification_Amazon_Food_with_other_models.ipynb\" target=\"_parent\"><img src=\"https://colab.research.google.com/assets/colab-badge.svg\" alt=\"Open In Colab\"/></a>"
      ]
    },
    {
      "cell_type": "markdown",
      "metadata": {
        "id": "owaHBQRxPfPD"
      },
      "source": [
        "# Credits\n",
        "- https://www.oreilly.com/library/view/practical-natural-language/9781492054047/"
      ]
    },
    {
      "cell_type": "code",
      "execution_count": 115,
      "metadata": {
        "id": "GsRizD7zFJ3V"
      },
      "outputs": [],
      "source": [
        "import pandas as pd\n",
        "import os\n",
        "import matplotlib.pyplot as plt # plotting\n",
        "import numpy as np"
      ]
    },
    {
      "cell_type": "code",
      "execution_count": 116,
      "metadata": {
        "colab": {
          "base_uri": "https://localhost:8080/"
        },
        "id": "fJ6-kXG-0p7V",
        "outputId": "89e7ec95-f084-4091-a6b6-5c4f55abcde9"
      },
      "outputs": [
        {
          "output_type": "stream",
          "name": "stdout",
          "text": [
            "Mounted at /content/drive\n"
          ]
        }
      ],
      "source": [
        "from google.colab import drive\n",
        "drive.mount('/content/drive', force_remount=True)"
      ]
    },
    {
      "cell_type": "code",
      "execution_count": 117,
      "metadata": {
        "colab": {
          "base_uri": "https://localhost:8080/"
        },
        "id": "WeWarxz8ZuPB",
        "outputId": "aea3786f-ca0b-4aa5-f48f-3408fa8e980b"
      },
      "outputs": [
        {
          "output_type": "stream",
          "name": "stderr",
          "text": [
            "[nltk_data] Downloading package punkt to /root/nltk_data...\n",
            "[nltk_data]   Package punkt is already up-to-date!\n",
            "[nltk_data] Downloading package stopwords to /root/nltk_data...\n",
            "[nltk_data]   Package stopwords is already up-to-date!\n"
          ]
        }
      ],
      "source": [
        "import nltk\n",
        "#https://www.nltk.org/\n",
        "\n",
        "#NLTK is a leading platform for building Python programs to work with human language data. \n",
        "#It provides easy-to-use interfaces to over 50 corpora and lexical resources such as WordNet, \n",
        "#along with a suite of text processing libraries for classification, tokenization, \n",
        "#stemming, tagging, parsing, and semantic reasoning, wrappers for industrial-strength \n",
        "#NLP libraries, and an active discussion forum.\n",
        "\n",
        "nltk.download('punkt') \n",
        "\n",
        "nltk.download('stopwords')\n",
        "# Downloading stop words from NLTK nltk.download ('stopwords')\n",
        "\n",
        "\n",
        "from nltk.tokenize import word_tokenize\n",
        "#Tokenizers divide strings into lists of substrings. For example, tokenizers can \n",
        "#be used to find the words and punctuation in a string"
      ]
    },
    {
      "cell_type": "markdown",
      "metadata": {
        "id": "MfUllriJXH6V"
      },
      "source": [
        "# Constants and Methods"
      ]
    },
    {
      "cell_type": "code",
      "execution_count": 118,
      "metadata": {
        "id": "_hhFPP6_GZvC"
      },
      "outputs": [],
      "source": [
        "PATH_PROJ = \"/content/drive/MyDrive/data-proj/\"\n",
        "# if not os.path.exists(PATH_PROJ):\n",
        "#   PATH_PROJ = \"/content/drive/MyDrive/shared/data-proj/\"\n",
        "\n",
        "PATH_DATASET = PATH_PROJ+\"food.csv\""
      ]
    },
    {
      "cell_type": "code",
      "execution_count": 119,
      "metadata": {
        "id": "bdKztsPGwGat"
      },
      "outputs": [],
      "source": [
        "# Distribution graphs (histogram/bar graph) of column data\n",
        "def plotPerColumnDistribution(df, nGraphShown, nGraphPerRow):\n",
        "    nunique = df.nunique()\n",
        "    df = df[[col for col in df if nunique[col] > 1 and nunique[col] < 50]] # For displaying purposes, pick columns that have between 1 and 50 unique values\n",
        "    nRow, nCol = df.shape\n",
        "    columnNames = list(df)\n",
        "    nGraphRow = (nCol + nGraphPerRow - 1) / nGraphPerRow\n",
        "    plt.figure(num = None, figsize = (6 * nGraphPerRow, 8 * nGraphRow), dpi = 80, facecolor = 'w', edgecolor = 'k')\n",
        "    for i in range(min(nCol, nGraphShown)):\n",
        "        plt.subplot(nGraphRow, nGraphPerRow, i + 1)\n",
        "        columnDf = df.iloc[:, i]\n",
        "        if (not np.issubdtype(type(columnDf.iloc[0]), np.number)):\n",
        "            valueCounts = columnDf.value_counts()\n",
        "            valueCounts.plot.bar()\n",
        "        else:\n",
        "            columnDf.hist()\n",
        "        plt.ylabel('Number of sentences')\n",
        "        plt.xticks(rotation = 90)\n",
        "        plt.title(f'{columnNames[i]} (column {i})')\n",
        "    plt.tight_layout(pad = 1.0, w_pad = 1.0, h_pad = 1.0)\n",
        "    plt.show()"
      ]
    },
    {
      "cell_type": "markdown",
      "metadata": {
        "id": "D98neBGpTn_h"
      },
      "source": [
        "# Pipeline"
      ]
    },
    {
      "cell_type": "markdown",
      "metadata": {
        "id": "qo_fkDxzTuhY"
      },
      "source": [
        "We would normally\n",
        "walk through the requirements and break the problem down into several subproblems, then try to develop a step-by-step procedure to solve them. Since language\n",
        "processing is involved, we would also list all the forms of text processing needed at\n",
        "each step. This step-by-step processing of text is known as a pipeline. It is the series of\n",
        "steps involved in building any NLP model. These steps are common in every NLP\n",
        "project"
      ]
    },
    {
      "cell_type": "markdown",
      "metadata": {
        "id": "Iw_O4Vb9KxUw"
      },
      "source": [
        "![image.png](data:image/png;base64,iVBORw0KGgoAAAANSUhEUgAABQgAAAGZCAYAAADFFdybAAAgAElEQVR4nOzdfXhU9Z3//1dURAUDY9uFXaHQJCoG69AN7ZJiid0mxLqKbWGitrvQFU260lKQ1cRqREyrCYpRLLVEcCXd7Q2BLUQvdUy+24Y1C1ayEqtp0SSSihbLTwMhKMJKfn/EczgzmZlM5u7MzHk+rouLuTk373Mm85nPeZ/PTcbAwMCAAAAAAAAAADjSaXYHAAAAAAAAAMA+JAgBAAAAAAAAByNBCAAAAAAAADjYGf4vrFy5UvX19WJoQsC5srOz9dRTT+nss8+2O5SUtm3bNt166606ceKE3aEAsMm4ceP0y1/+UhdffLHdoaS0P/zhD7ruuut0+PBhu0MBYJNRo0appqZG3/jGN+wOJaV98MEHuuqqq9TV1WV3KABskpGRoYULF2rVqlU+rw9JENbX12vfvn0JCwxA8unp6dHevXs1Y8YMu0NJadu2bVNnZ6fdYQCwWVNTEwnCKDU1Nenll1+2OwwANmtsbCRBGKW9e/fqv/7rv+wOA4DN6uvrh08QGi0Hbyz/oT4z7ZLERAYgaVTd/E0d++B9u8NIK39/zXX6yteuszsMAAm2ofoOvbH3VZ08edLuUFKecQ4/c9F03VjxI5ujAZBo/2/bL/Vf239pdxhp5ayzz1HlT35udxgAEuyNP76iDTV3Buw1PCRBaPjMtEv02c/PjmtgAJLPaacHLRYQoQnnT6Y8BRxozLnj7A4h7Yw5dxzlKeBAr7zYancIaee008+gPAXgg0lKAAAAAAAAAAcjQQgAAAAAAAA4GAlCAAAAAAAAwMFIEAIAAAAAAAAORoIQAAAAAAAAcDAShAAAAAAAAICDkSAEAAAAAAAAHIwEIQAAAAAAAOBgJAgBAAAAAAAAByNBCAAAAAAAADgYCUIAAAAAAADAwUgQAgAAAAAAAA5GghAAAAAAAABwMBKEAAAAAAAAgIORIAQAAAAAAAAcjAQhAAAAAAAA4GAkCAEAAAAAAAAHI0EIAAAAAAAAOBgJQgAAAAAAAMDBSBACAAAAAAAADkaCEAAAAAAAAHAwEoQAAAAAAACAg5EgBAAAAAAAAByMBCEAAAAAAADgYGfYHQAAAAAAAEAqmXfJp0a0/KLllZq/eGmcogGiR4IQAAAAAADAAbZuXGs+JmEJKxKEAAAAAAAAEVq0vHLYZXJy3QmIZHibaqvMxyQIYUWCEAAAAAAAIEIk2pAOmKQEAAAAAAAAcDAShAAAAAAAAICD0cUYAAAAAAAggfr7DsnbUK89u3aofWeLJGnipCnKnu7WjFkFKvYsDLpeq7dRnR3tOrC/R++8uU8H9vfInV+gsZnjdMWChXLnF/is076zRZU3LRiyLf+ZmBtfORjwPevrobbhv5zxnju/QFWPbdGB/T3yNtSr1btdB/b3qOqxLUNijfS8IHokCAEAAAAAABKkfWeLalbcqP6+Qz6vH9jfowP7e9TqbdSeXS0qX7NxyLrehnqfiUas25SkVm+jij0LtWTlmvgEH6FWb6PWrVox5JitojkviB4JQgAAAAAAgATo7Gj3SYJNnDTFbBXX2dGuVm+jpMGE2qZJVQFnSJ44aYomTJ6qGbPmSBpMoLXvbNGB/T2SBpOIObluc7sTJk81t2NNLoYz+3IsdL3arpqdi83nRqvBMePGm6/F4rwgOiQIAQAAAAAAEmBTbZWZBAvU0s87q17rVq2QJG3duFbFnoWaOGmK+X6xZ2HQWZNrViw2E2nPP9doJtgmTppirmNNECZq9uX+vkNmwjJYF+FozwuixyQlAAAAAAAAcdbZ0e4zrl6gbsD+SbRW73af98dmjvdfxWRN+Bn7SRYPbm4OmhyMxXlB9EgQAgAAAAAAxJk1aRdqso0Zs05N3NHZ0R729nNy3ZEFZrN4nxeEhy7GAAAAAAAAEfKfDdhq0fJKs2Xfnl07zNdDJfMmTD7Vdba/73AMIkxunJfkQAtCAAAAAACAODt6+NTsvNnTgyfCrEmyZOsqHA+cl+RAC0IAAAAAAIAIhZpR15rUsnaLDTWWYLj6+w6p69V2dXa0q7/vcMp2u431eUFkSBACAAAAAABEKJLZgEN1Sx5Oq7dRWzeuTdmEYCjRnBdEhwQhAAAAAABACli3aoW8DfU+r+XkujVm3HjNmDVHm2qrbIoMqY4EIQAAMWC929n4ykEbIwEAAECyC9UtOZj2nS1mcnBs5ngtWl45ZNbfVE8QRnJeEBskCAEAAAAAABIokm7Jz2451XIwUHIwHURyXhAbtiQIQ/UptzaNnV18jSZOmhJ02XRmPUezi+epfM1GG6NJjHi0vonVNmkZhHTWvrNFlTctiHj9qse2yJ1fEMOI7NfZ0a5Wb6M5rkv7zhZNnDRFEyZP1cRJUzRjVoFmF8+zOcrEohwEBqVrPTZdjyuVUe4C6cedX2DOvtu+s2XEdej2nTvMx+mUHIz2vCA2kq4FofVibFNtlYo9C7VoeWVcZ7LZunGt+TgZstWt3sahz9fYFEyaS7bPHvZ57bXX9PTTT2vJkiUaNWqU3eFgBGL5Pe7saNem2iqzgmJ1YH+PDuzvUbskb0O9Zj/njJs3QCTuuOMOrVixQuedd57doSSUfz12/uKladFVKl2PC0gFNTU1mj9/vnJycuwOBTGQk+s265mdHe0jToT19x2KR1i2i/a8IDZsTxBaKxfGtNxdr7abf/jehnq1eht1z4YtPtODx5K1j34yJIkCzUTU6m10XGuVREi2zx72ef/997V8+XL99Kc/VW1trb761a/aHVLCTJg8NeiFnvU7EmyZCZOnxiWucMXqe9y+s0U1K270qXjl5LqVPd2tiZOmDPmN6u87HFXcQDpbt26dHn30UVVVVamsrExnnGF7lTMu/MvFzo52te/cYZYjWzeuVX/fIS1ZmVp3etP1uIBU9Mwzz6iyslLLly/XHXfcoczMTLtDQhRmzJpj3tzeuvERFXsWRtwY6sD+nrRp0R3L84LI2V5bC3Yx522o16baqo8vwg7pJ3ev0D0btjjij6TVu33Ia50d7WmfIKx6bEvSbjMesSE57d27V1deeaWuvPJKPfjgg7rooovsDinuJk6aErQsdkoS/cD+Hp/kYE6uW4uWVwa9ezl4sTy0lWE6oxzESPX29uq73/2uHn30UdXW1qqoqMjukGIuWLlonWHS21CvYs/CuN3ojod0Pa5UQ7kLw4kTJ7R69Wo98cQTuu+++/Ttb39bp512mt1hIQLu/ALl5LrV2TF4w/muGxfo5rvXBC1LjTLX6E5s7Yrb6t0+pLw+sL9n2BjGZo4367yhuvMacUqDN4b899Xfd2jIbMqRiva8IDZsTxAGU+xZqOzpbt114wL19x1SZ0e7vA31aX2BKp3qwiYNVs6MLHqrd3vad+WIRzPiWG2TJs7O8/TTT6upqUnf/e53tXLlSo0bN87ukBBH61at8EkODndDKifX7biLYspBROrVV1/V3Llzdc0112jNmjXKzs62O6S4W7JyjbpebTcvrFq9jWlRZqTrcSUryl34+8tf/qLFixdr3bp1Wrt2rWbPnm13SIjAzXev8clz3FJSqJxct9z5BRqbOW5IrxVrHuCyufPMBOGm2ip1drSb5fCB/T1DhisLxJ0/x1yuZsWNmr/4e+b61hs/s4vnmeX9ptoq7dm1QzNmzTHji/XN8mjOC2IjqW875OS6zT9WabCpabqzth6cMWuO2WTYmjgEkBgnTpxQbW2tLrjgAtXV1enkyZN2h4Q48K/g3Hz3Gke0VgcSbfv27crNzVV5ebmOHDlidzhxZ+35EWj4mFSVrscFpJL//d//1WWXXabrr79eb775pt3hYISMm9HW7sGdHe3aunGtNtVWaevGtWrf2aL+vkMamzne50ZMsWehTznc6m3UptoqbaqtkrehXhMnTRn2xs0VC061uuvvO+Sz/tHDp4ba8W8lboxDa8Q3NnO8Fi2vjNmNomjOC2IjaVsQGoo9C80ubv19h4aMxWe81tnRrgP7e/TOm/t0YH+PmWW+YsHCgHffgs3a6T+Dm3XGsEj3NRLWilb29MFs+YGPm88GakIciBHnnl0t6nq13UwsGmNpXTZ3XtA4vQ31ZlbeGos7v8AsbGYXzxty8RzuLGuhlgtnGwf292jrxrU+8U2cNEXZ092aMatgSBPjQNuM5LMP9/i8DfV6/rlGn3E03fkFmjFrTshxFIztu/MLVPXYFrO5dmdHu955s8e8M5Q93a35i5emzVgTqeLgwYMqKyvTT37yE61du1Zz5syxO6SkZPzd7tm1w0y4hfp+SlLlTQvMZY2//0Csyy1ZuUYTJ00Z8fc4GOudVqN7Q7xEco6M9SL9/YlV+RJO+R2LMmzw/LSov+/wsHemFy2vTPueBenm+PHjWr16tTZt2qT77rtPixYtSttucv4XVQb/78uB/T0fj7m9XQf29wScGT7SsiMegh2XFNmxSZHXnwyR1n2jOa8jrZNGsg7lLobzy1/+Utu3b9dtt92m8vJynX322XaHhDDl5LpV9+xu83t7YH+P+f3LyXVrwuQpmjGrIOC1d/majfLOqjfXlQbLkmLPQhV7Fvq8HohRbjy7pd6sB0+cNEWzi69R9vRTZfzYzPG6Z8MWs5zserVdYzPHKXv6YE8ao3w+sL8nZjeMojkviF7SJwjHZo7X7OJ55h+u/1h8xliF/k71y29UsWdhTAZRTsS+jOPMyXWbWXHvx++F86Xr7GjX6lsWB2xt2NnRbnbV9q9kdHa06yd3rwi6j/adLYMzd2qwefHP/+f1kRxWTHgb6rVu1YohrxutK1u9jZo4aYot3TFCnff2nS1q39mirRsfGXaynaOHD2nrxrXauvGRITNUGZ9fq7dRD25uJklog/b2dhUUFMjj8Wj16tWaOtXeyTmSSaAJPiTf7+eeXS1DZv1dcMP3zDLU+K74f4etLfyMyk8suzRYy70Zs+KX/I30HEmx+f1JRPkSzT6M8WZokeQM77zzjm644Qazm9wXv/hFu0OyRau30WeIg0CiKTvsFM6xxaL+FGndN9oyeaR10njVYyl38cEHH2jVqlV6/PHHtXr1al177bXKyMiwOyxHCOdG9HCKPQtVHOl6QW5izF+8dNhEvju/YLC8GSZ1MTZz/LDbW7JyTdA6aKTnKNLzgugkfYJQGkyWWROE/iZOmqIJk6eaF3ZGltmoKHgb6s0Mt8E6a2c4s3RGs69w+bdisf5vvh/iC9zZ0W722ZdOJVeNyoD/DHQGo3IQbL0D+3t87nTaMbV6+84Wn0qV0ZJxMJ7Bu53hVm4i/eyDCXT+Bu+mjDMrfMZkO3fduGDYSq5xHEZLprGZ43zubPf3DVYEmTnQPg0NDXryySd16623qry8XGPGjLE7JFt1drT7XGQZSTzjPaNsa/U2atOkKp/vmju/wLzTKUlbHn9kyMWRdfBjo3ISy++xNdkYr9aD0ZwjQ7S/P4koX6LZh/UiddHySs0uvkYTJ035uBzdPmTCnLGZ4+hakgba2to0e/ZsXX/99Vq9erUmTZpkd0gJ0/Vqu2p2LjafG2XfmHGnWkTEouywQzjHFov6U6R132jOayR10ljWY/1R7sLw5ptv6vrrr9e6dev08MMP62//9m/tDglAikmJBOHESada6Vj7xEuDmeVg2eyaFYvNH/jnn2v0uWiyztoZ7iydke4rXIFasUycNMX8oZY0pIu1lTHrsxHrouWVAZvd+s80ZF0v1OD8/l33EunZLadiDti1YXll2GM0RvLZh2K9O+7OL1D5mg0+52/R8kqtW7XCrOhuqq0KOSvdouWVQ7rTGBPWGPE6bfbUZHTs2DFVVVXp8ccfV01Njb75zW869m6tf9njfwHinXWq1cTWjWtV7Fno04ph/uKlZrnk34rQ6J4m+V7Axep77H/RaO1WEUvRnqNY/f4konyJZB/WrjD+x2p81ta/hbGZ4+jilmZ+8YtfaNu2baqoqNCtt96aFt3krPWSQEmV/r5DZlI/2Pc22rIjHoY7Lim8Y4tF/SkWdd+RntdI6qSxrMcGQrkLq+eff14zZ87UDTfcoB/96EeaMGGC3SEBSBEpMejL2MxTs4f6310L1e/c+iMWi4RKvPdlnaDE2oJmdvE15uNgdxf9u+AFqyBJvlOB+/7wjx925k67tO/cYT4OVjkxkqmJZJ0pamzm+CGVW+P1JStPTXow3F3iwTu0Qz8D63EzYU3yeOutt/SP//iPmj17tl588UW7w0k4/7InUMsz/wtEa1lnrGd9f8vjpyakMmZylyJP4ofS9Wr4vymRisU5itXvTyLKl0j28fxzp1rQB0sm+J6f4WfoQ+r54IMPtHLlSk2bNk2/+tWvNDAwYHdIUfEfVzqQBzc3h2z1G23ZEQ/hHJcU+thiUX+KtO4b7XmNpE4a73os5S78DQwMaOPGjbrgggt0//336/jx43aHBCAFpEQLwkglsgl8tPuyzlLs373Ouu1W7/aA3UesP9rhDOZs3V4k6yWaHd2awxHu+TO6zRjJjvadLUnfReM//uM/9Nvf/tbuMBLmrbfeimr9nTt36u/+7u+0cOFCVVdXa+LEiTGKLLlZE1KhWq7NmFVg3owIlCAP1Iowe/qp4SX8k4ipJFbnKJhkL0vCEU43b+vrqTZeVkuL81p9f/jhhxGv+6c//UnXXXed2U3uc5/7XAwjSwxj3DvDZXMD9/4IJd5lRyRicVxSbOpPkdZ9oz2vkdRJk7Eem6rlbkdHhx566CG7w0io/fv3R7zukSNHdNttt6murk4PPvigrr766hhGBiDdpHWCMJVYK0r+g+S78089NxKJ/ncYrT/aI7lYTNTg/NGydrMONImBXUZy/mbMmmNWcPfs2pH03TQeeOABu0NIOQMDA9q0aZO2bt2qO+64Qx999JHdIcXdnl2nWkWEKnsmTD5VZvX3HR7yvpEAtI5FOGPWHPOiKtm/L6HE6hwhdW3btk3btm2zO4yU89///d/Ky8vT4sWLNWVKakzMZYzdtnXjqZbQObnuiOotyVR2xPK4pNjUnyKt+0Z7XiOpkyZrPTYVvfjii47ssRGtzs5OzZs3T3PnzlVZWZnd4QBIUiQIk4S1kuNfaTBmMzaWafVuH3Kx/M6b+4KuH8o7b57qbhCvsbdiwZ1foAMfJw5qVtxojrViN2v3xOHOu/V9/26NSC/9/f26/fbbde6559odStxZx4UNVYZYL8KCdYOdv3ipOdZU+84W83uSyq0HpdieI8BpBgYGtGHDBp111ll2hxLQcOMzT5w0RfdsCD7ucCh2lh3xPC4pNvWnSOu+0Z7XSOqkyVqPhfM899xzam5utjsMAEkqrRKE/X2HzNl2+/sOx7UpfKz3ZYxNYiQD/bnzC8x9BNpXpGNGWbeVrN2LJfm0LOrvO6R1q1Zo68a1ml18TUIG5A4m0vOejF1NEFvTpk3TpEmT0r4SFssyZHBQ9O+ZA6qnQ+tBKfblbCJ/6xLF9yZY4Mm4Qt1IQ3pzuVz6+7//e23dutXuUEYk1KQZ4YhF2WEdx9XKmK02EtEelxSb+pNddd9I6qTJWI+l3HWmUaNG6Zvf/KY2bdpkdygAklDKJQgD/ZC3ehu1dePahFwkxWNf7TtbLLO4Be5mYe1e0eptlIaOp5zWcnLdWrJyjc+scwf292jrxrXm7HLRVlbh68ILL0yLWSTD9cEHH+i1116Lejvjx4/XypUrtWTJEt10000xiCx1xGKm88Gxph4xv+ep3nrQXzTnKJG/dYlmvQn27Jb6gBeq1kRHMg+JEcjf/M3f6FOfiv77kUpeeeWVqIdZOP300/Wd73xH99xzj+rr65MyQRhoXOicXLeyp7tjWieJtOywzvJulZPrDpmUStRx2S2S8xpJnTQZ67GpWu6ed955mjx5st1hJFRXV5f6+/uj3s7VV1+tBx98UP39/SQIAQSUEglC6x1C/64A61at8BksWRr8ER4zbrxmzJoTtGIUiXjtyzoWSn/f4aB3e62C3elLZ8WehXLnF2jrxrVmN0SDt6FeXa+2J+0szKnoV7/6lWbMmGF3GAmzZ8+eqAbCP+2003TTTTepqqrKcYmAWOrvO+zz3Taex+t77f+bEmiM12SQyN86Oxita4zu5ZU3LdBlc+eZ43Y9/1yj2cXPmLQgldx6661atmyZ3WEk1Pjx43X4cOTj4RUWFuqhhx7S9OnTYxhV7KV6C+dg0vW4YiWSOmmy1WNTtdy9+uqr9cQTT9gdRkJdfvnlUU12lZubq9raWs2dO1fSYJ0XAAJJiQSh9QfUeuHWvrPFvGAamzk+4Hgesbpoiue+rOOaGLN3Dqezo91xCUJp8PNfsnKNlqxcI29DvU/lxZhZj0otEq2goEBr167VpZdeancotgrU4mSk/G+Q9Pcd0qbaKi1ZGZ9m0/4XYu+8uS+uCcJIzlEif+vsYpTt61atMC9WA/0Wjs0cz42gNJedna01a9bommuusTuUpBJp+dr4ysEYR5JeovndiqROmkz1WMrd9OdyubRq1Sr9y7/8i844IyUu+wHYLCVKCmt3KuuF27NbTrWmiPdgv/Ha14H9PRF1F2v1bvep1IzNHG8mUuPZ2iaZFHsWqtiz0KdlTau3MaEJQut5H06wRDdS19SpU/XAAw9o/vz5doeSFKL97lkTYTm5bh3Y36P+vkPmBVO8vjfWcZg6O9rjOs5SJOcokb91dsqe7jbLyZzcwcdGD4KcXLdmF89TsWehI37fnOjcc8/VHXfcoeXLl+vMM8+0O5ykk243P2NRf4pF3TdW5zWSOmky1GMpd9PT6aefrrKyMt1zzz36xCc+YXc4CTXSYQPc+QWqeizyCZdizRo/N3g4H3Y4ze4AhtPfd2hwzL2PzS4+dUfZmNhDUtwvmOK1L+udukXLK9X4ysGg/37+P6+byx7Y3xO06/VIZsi1ToiSquNaWROliT4G63kfruWn9XOZMHlq3GJC/I0ZM0Y//OEP9Yc//MHxyUFrMi3a2TO3PP6I+XjR8krNX/w983k4Qy9EynoM1t+beGw/knOUyN86OxkXyBMnTdGDm5tV9+xu8/fvwc3Nmr94KRepaSgjI0P//M//rNdee03l5eUkBy1iWb4mm1jUnyKt+8bzvEZSJ7WzHku5m36+8pWv6KWXXtK6desclxwEEL2kTxBax1xy5xf43DlM5Eyw8drXnl2nKibDtVrxn+G41bvdfGx93Tqm4XAmTD51PkdSuUomdlZcRnLere8ny0DPGLl/+qd/0t69e3XHHXforLPOsjsc28XqJoO1a5M7v0Du/AKfZJi3oT7iGSuHY/0+dna0x/yCMdpz5JRZz43fNG6gOMcXv/hF/e53v9Pjjz+uiRMn2h1O0kmHm7jBxKL+FGndN57nNZI6qZ31WMrd9JGVlaVf//rXam5u1mc/+1m7w0kKi5ZXDvvvsrnOG7ILCCWpE4SdHe3auvFUi5IFN3wv6LLxunCM976MliH+yb9grOMOWis11nWNAYfDYV3v+edi33ImEayfR6K77lo/j1Dn3egmeWo9xlZKNV/4whe0c+dO1dfX6/zzz7c7nKRhvVizzj48UtYx9Iyy3n9Q9Hi1InTnF/iUhdZZJmMhVudISuxvXaIZx9b1anvaJUPga9KkSfr5z3+u559/XjNnzrQ7nKQVy7Ij2cSi/hRp3Tee5zWSOqmd9VjK3dQ3duxY3Xfffero6NDXvvY1u8NJKvMXLx32X7L1zKh6bIv5D5wPOyRtgrDV26i7blxg/mgbM39Z+XYL2y5/4V5IWe/cBWs5Eqt9WbXvbDGPz50fXouyYF3hZhfPMysV/X2HVLPixqAVHm9DvVkJsBaK7Ttbgl6A+8+e6c9aSQu0jf6+Q1Fd3Ifav3W7Ix07LJzPPpScXLe5z/6+Qz5/swb/162fFZLfX//1X2vTpk3atWuXZs2aZXc4SceaXDP+1kNdZHgb6od8n61lktF60GAdiylYK8Jov8fS0C5ed924IOS22ne2mAO7DyfacxSP359kZC1Lbykp1LxLPjXk3ze/eIFqViwe9jcJyemss87SXXfdpb179+r6669XRkaG3SEltViUr8kqFvWnSOu+0Z7XSOqk8arHRotyN3VlZGRo0aJFev3111VRUaHRo0fbHRJiwKgHJ7osSFacj8SzfZIS/6TRnl071PVqu88PfE6uO+AsY5fNnWdewG2qrVJnR7v5g39gf0/YY0m58+eYy9asuNEc9+rA/h4VexYqJ9cds335H6thxqzw/uhzct0+gzK3ehvNu7BLVq5R5U0LJA1evJZe8XmfytNg17kd6u87ZGbhjRkxjdY7m2qr5G2o1+ziazQ2c5z6+w6r1bt92AvQ2cXzzMrVptoq7dm1QzNmzVF/3+GYdNlbt2qFNtVWKXu627zzGyi2kQ7sHM5nP5xFyyt118d/s50d7T7nvb/vsM9d7cHzfdeIYoQ9Ro8erVtuuUU/+MEPNHbsWLvDSWo3373GvIjr7GjXLSWF5sWfUY50drSbZbt/eW79HfBvKT5x0hQVexaaFybrVq0YchcxFt9jd36BOZujNFheVt60QDm5bmVPd5vfZ+txSAp7duVozlE8fn+S0aLllVr95r6QvzfGuMSt3kY9/1wjd5RTSElJie6//359+tOftjuUlBJt+ZrMYlF/iqTuK0V3XiOpk8arHhstyt3UlJ+fr4cfflif//zn7Q4FQJqxPUFo7VYWyOBA9YF/LIs9C7VnV4t5cWT8eBkGL6CmDNtk/ooFC831+vsO+cRkjEsQq31ZWZNmI8mKzy6eZ14sd3a0mwlC4wLX6B7n3y3Dasy4Uy1u5i9eqgP7e8xlD+zvGZK4nThpSsjKQ7Fn8Bwax28dT0warNjNX/w9n2VGqr/v0JDtWre/aHnliFvmhfPZDycn1617NmwxK5rBzvvESVN024MbaT2YAr7+9a9rzZo1+sxnPmN3KCnB+A6svmWxWU50dgTuroKM8hcAACAASURBVOQ/nMLWjWvNdYLdIZy/eKn5nTLKAOtysfgeSzJnatxUe8+wxyGNrCtYNOcoHr8/yejo4UNy5xfoQEN90N9Ea/lvtHpPt9ld083nPvc5Pfzww/rSl75kdygpKZqyI9nFov4Uad032vMaSZ00HvXYaFHuppbzzz9fq1evpgV2nBgz5hozGxvlSWdHu955s8e8QZs93a35i5eG/L56G+q1Z1eL+vsOD9tQxprvGG7W3ljGaKy7Z9cOM8aJk6Z8fCOjYNju15Gu738MRh7CuGFS9dgWszwKdT6S4fNKR7YnCP3l5Lo1YfIU5eS6zYu1UMrXbJR3Vr1P1wGjxYnR6mS4iybjj+rZLfXmRdfESVM0u/ganxnSYrEvw4H9PeayObnuEV9oej9+3Ord7nNXs9iz0EwgWr+sxnEa59V/f0tWrtGMWQV6/rnt5p3WsZnj5c6fY37BQ00bPzZzvO7ZsMXcb9er7RqbOU7Z090+n6X1uEei7tndavVuH9LC1LjbG+iYwhHuZz+cnFy36p59cch5H5s5XtnTB1ugzi6ex0xwSe6zn/2sHn74YX35y1+2O5SUM/gd2G2Wgwf295jfA6NcnzGrwOd7MDj0wPDjzPq3Itzy+CM+FzKx+h5LgzdgjDI00HGMGTd4oZiT6/YZQysckZwjQyx/f5LRulUr5G2o19jM8Xpwc3PQJIeRADb+Flq9jWldSUtlEyZM0AMPPKAbbrhBp52WtCPapIRoyo5kF4v6U6R130jPayR10njVY6NBuZs6zj77bFVWVqq8vFxjxoyxO5y0d/Tw4NBYgcYoNW4ktHob9eDm5oA3AoYbtsDuGKXBZH+gYRkO7O8xe6fs2dWi8jUbA+4/2vUNrd7GsIfsCSYVPq9UkjEwMDBgfWHq1Knq6enRj/5tmz77+dl2xYUkNNwdDaSH62Zl6/3+Pr300kuaMWOG3eEkzLFjxzRq1CidfvrpMdvmt7/9bW3atEnX33yrrr/5tphtF0gnWzeuNVt9lq/ZOGzitb/vkL75xQvM58n8e/SDb1+jV3b/j2pra7Vs2TK7w0moo0ePxvRC9qGHHtLy5ct1ycwv6t4nho7FCSB8qVju/uInq/WLn9yvRYsW6Yknnkj4/u3U398f0+Fu9uzZo8997nM6Z2ymfrmrK2bbTQbRXK8Gagxj3GQYmzluyA2IYs/CIUPN3FJSaCabFi2v1Ozia8yeeK3e7T69XOYvXqqxmeN8xmQNtwVhNDEaY20byTTjhrPxnrWXyvzFS4cMXRHt+sYxWIdNM47DOG/GDYtwWhBGcy6i/bxS1e9fbNUd//w1TZkyRfv27fN5L+laEAKAHc466yy7QwAcyXeG0uFbZaZaCymnopULkLwod1MLY2En3qLllUN6M85fvNQnue7fFdV/IlBrS9uJk6YMGdZrbOa4qFrjRhKjJHNIBiNO/6SZd1a9OSb31o1rh7RwjnZ9Q3/fIbOFd7SzSafC55Uq6PMBAABsYx3fNpwZmSMdvxcAMIhyFwhtsLXY0MS4NUHk/915/rlTLeeCJbysr0c7yVwkMVonD504aUrAyfb8E3at3u0xW9/fg5ubo04OSqnxeaUKWhACAADb5OS6zTu461atUPmaDUFbq3R2tEc8CQ0AYBDlLpzAf9JNq7GZ42OSmLKyJtKDjelpfd2Oce/8u9wGM2NWgc+kqLFaP5mkwudlBxKEAADANvMXL1XNisWSBitrpVd8Xu78OT6VMmNWOWvlLBZdUgDAiSh34QTWxLY/Y3Igp9mza4f5ONSs9xMmn+oS3N93OGbrI/mRIAQAALaZXTxPS/rWmGPa9PcdUqu3MWRXjvmLl2r+4sCzXgMAQqPcBZzp6OFTk4JkTw+e4LMm/6wt7aJdH8mPBCEAALBVsWehZhfPU6u3UXt2teidN3t8Wq1MnDRFEyZP1YxZc8wZ5gAAkaPcRbpL9Gzb1q77rd7GgBMAWb9jdoznad1/JJMPRbt+MkmFz8sOJAgRtkQXsgAA5zDGA3Jilx8AsAPlLhA77vwCM6H07Jb6gAkn67iIM2bNSVhsgcy75FO2rm+3VPu8EoUEIQAAAAAAQISKPQvlbahXf98hte9sUeVNC3TZ3HmaOGmKDuzv0fPPNZrdbeMxSQpGhs8rMBKEAAAAAAAAEZo4aYqWrFyjdatWmEmnQOPvjc0cr3s2bLG9i+6i5ZW2rm+3VPu8EoUEIQAAAAAAQBSyp7vV3zc4kUdO7uDjA/t7zOezi+ep2LMwKZJN8xcvtXX9ZJBKn1eikCAEAAAAAACIgrehXtJg67QHNzfbHM1Q7vwCs5Vc+86WEU+8Ee36ySbZPy87nGZ3AAAAAAAAAKms1btdkjRh8lSbIwksJ9dtPrbO0Juo9ZNNsn9ediBBCAAAAAAAEAWje2rXq+1JmUCzzsS7deMjZvfaRK2fbJL987IDXYwBAAAAAACiYHTB7e87pFtKCgMuMzZzvNz5czRjVkHCZ8Z15xcoJ9etzo529fcd0l03LtDNd6/xaRloZXTBNeKMdv1kk+yflx1IEAIAAAAAgLSxdePasJaL5WQbi5ZXavWb+8yWaYH09x1Sq7dRrd5GPf9co6oe2xKz/Yfj5rvX6K4bF6i/75A6O9p1S0mhcnLdcucXaGzmOPX3HVZnR7u6Xh1MAvrPVhzt+skkFT6vRCNBCAAAAAAA0sam2qqwlotlgvDo4UNy5xfoQEN90Ak8jEk+jMdbN65N6IzAOblu3bNhi1bfsthMjHV2BO5iOzZz/JDWgdGun0xS4fNKNBKEAAAAAAAAEVq3aoW8DfUamzleD25uDpoY6+87pE21VWb321ZvY8ITTjm5btU9u1vehnp1drTrwP4eMxGWk+vWhMlTNGNWgWYXz9PYzPExXz8ZpNLnlUgkCAEAAAAAQEprfOVg3NcNtNzWjWvNBNKSlcHH5JMGW9UtWl5pLm9teTdcDNHEGEixZ6GKw1oyduuP5DMKtWwyfF7piFmMAQAAAAAAImAkjyRpdvG8YZdP1lZ1TsHnFRwJQgAAAAAAgAhYJ7kINeGFwTquXbCx7xA/fF7BkSAEAAAAAACIgLWL6rpVK9Tfdyjosp0d7T4TqFw2d/gWbIgtPq/gGIMQAAAAAAAgAvMXL1XNisWSBlublV7xebnz5/gkovr7Dqt9Z4vPGHbFnoUq9ixMeLxOx+cVHAlCAAAAAACACMwunqclfWu0qbZK/X2H1N93SK3eRrV6G4OuM3/xUs1f/L0ERgkDn1dwJAgBAAAAAAAiVOxZqNnF89TqbdSeXS16580en9ZnEydN0YTJUzVj1hzNLr5GEydNsTFa8HkFRoIQAAAAAAAgCmMzxzuiG2q64PMaiklKAAAAAAAAAAcjQQgAAAAAAAA4GAlCAAAAAAAAwMFIEAIAAAAAAAAORoIQAAAAAAAAcDAShAAAAAAAAICDkSAEAAAAAAAAHIwEIQAAAAAAAOBgJAgBAAAAAAAAByNBCAAAAAAAADgYCUIAAAAAAADAwUgQAgAAAAAAAA5GghAAAAAAAABwMBKEAAAAAAAAgIORIAQAAAAAAAAcjAQhAAAAAAAA4GAkCAEAAAAAAAAHI0EIAAAAAAAAOBgJQgAAAAAAAMDBSBACAAAAAAAADnZGsDfu/9ebdObosxIZC4Ak8MHRI3aHkHa216/X/9v2S7vDAJBgvf/fO3aHkHb2vrxbN879W7vDAJBg/X2H7Q4h7Xxw9AjlKeBAxz88FvS9IQnC888/Xz09PTr07sG4BgUgeZ1++un65Cc/aXcYKW/ChAmSpPf7+/R+f5/N0QCwy6c//Wm7Q0h5xjk8cfy4/vL2mzZHA8Aun/rUp+wOIeV98pOf1Omnn66PPvqI8hRwsPPPP3/IaxkDAwMD1hd6e3vV3t6esKCQXPbt26fFixfrhhtu0Le+9S27w4FNzj//fF1wwQV2h5HyTpw4oV27dumjjz6yOxQANhk7dqxmzpxpdxhpYffu3erv77c7DNjkBz/4gV5//XX97Gc/01ln0cvJiU4//XTNmjVLo0aNsjuUlPf666/rrbfesjsM2GDZsmU++Z4lS5ZowYIFNkYEu7jdbrlcLp/XhiQI4WxFRUVqbm7WmDFjtHfv3oBZZQAAACBRvF6vrrjiCklSZWWl7rnnHpsjAoDUdPnll6ulpcV8Xltbq2XLltkYEZIJk5TAtG3bNjU3N0uSjh49qttvv93miAAAAOBk//d//+dz8Xr//fdr3759NkYEAEB6IkEISdKHH36of/3Xf/V57Wc/+5l27dplU0QAAABwunXr1umPf/yj+fzYsWO67bbbbIwIAID0RIIQkqSHHnpIXV1dQ15ftmyZ6IUOAACARHv33Xd19913D3m9oaFBO3bssCEiAADSFwlC6MCBA/rhD38Y8L0XXnhBP/vZzxIcEQAAAJzuzjvv1KFDhwK+t3TpUp08eTLBEQEAkL5IEEK33357yFkBKyoqmDUQAAAACfPyyy/rscceC/p+e3u7NmzYkMCIAABIbyQIHW737t3atGlTyGX+/Oc/6957701QRAAAAHC6ZcuW6aOPPgq5zJ133qnDhw8nKCIAANIbCUIHGxgY0NKlS8MaY/DBBx/UG2+8kYCoAAAA4GT/+Z//qd/85jfDLnfw4EGtWrUqAREBAJD+SBA62C9+8Qvt3LkzrGUDzXIMAAAAxNKxY8e0YsWKsJf/8Y9/rL1798YxIgAAnIEEoUO9//77uu2220a0Trh3cwEAAIBI1NbWat++fWEvf+LECd1yyy1xjAgAAGcgQehQ1dXVeuutt0a83ve///1hx4MBAAAARurtt9/Wj370oxGv9/TTT+uZZ56JQ0QAADgHCUIH6unp0f333x/Rur///e9VV1cX44gAAADgdLfffruOHj0a0bq33HKLTpw4EeOIAABwDhKEDnTbbbfp2LFjEa9fWVmp3t7eGEYEAAAAJ3vhhRdUX18f8fp//OMftW7duhhGBACAs5AgdJgdO3Zo8+bNUW3j3XffZcY4AAAAxMTAwIC+//3vR72du+++WwcPHoxBRAAAOA8JQgc5efJkTCpf0uCMcX/4wx9isi0AAAA417//+7/rhRdeiHo7hw8fVmVlZQwiAgDAeUgQOsiGDRu0Z8+emGzro48+0vLly2OyLQAAADjT0aNHVVFREbPtPfbYY3r55Zdjtj0AAJyCBKFDHD58WHfeeWdMt+n1evXUU0/FdJsAAABwjnvvvVdvv/12zLZ38uRJLV26NGbbAwDAKUgQOsQ999wTlzFZbrnlFh0/fjzm2wUAAEB6e+ONN7RmzZqYb7elpUVbtmyJ+XYBAEhnJAgd4LXXXtMjjzwSl22//vrrWrt2bVy2DQAAgPR166236sMPP4zbto8dOxaXbQMAkI7OsDsAxN+//du/KTc3d9jljh8/rr179+rkyZOSpPPPP1+f/OQnh13vySef1M0336xzzjkn6lgBAACQ/v74xz+qs7NTbrd72GX/9Kc/qbe3V5I0evRoXXTRRcrIyBh2vV//+te6/vrro44VAAAnIEHoAPfdd5/uu+++sJZ97bXX9Mwzzyg3N1dFRUVxjgwAAABONG3atLAnzztx4oS2bt2qw4cPa8GCBfrEJz4R5+gAAHAeEoTwceGFF+rCCy+0OwwAAABAkjRq1Chdd911docBAEBaYwxCAAAAAAAAwMFIEAIAAAAAAAAORoIQAAAAAAAAcDAShAAAAAAAAICDkSAEAAAAAAAAHIwEIQAAAAAAAOBgJAjh49ixY3rxxRd18OBBu0MBAAAAJEk9PT16+eWXNTAwYHcoAACkJRKEML333ntyu936whe+oMmTJ6upqcnukAAAAOBw1dXVmjp1qtxut772ta+RJAQAIA5IEMK0fft2vfbaa5KkDz/8UGvXrrU5IgAAADjd6tWrzceNjY3q6OiwMRoAANITCUKYDh8+7PP8yJEjNkUCAAAADOrt7fV5zlA4AADEHglCAAAAAAAAwMFIEAIAAAAAAAAORoIQAAAAAAAAcDAShAAAAAAAAICDkSAEAAAAAAAAHIwEIQAAAAAAAOBgJAgBAAAAAAAAByNBCAAAAAAAADgYCUIAAAAAAADAwUgQAgAAAAAAAA5GghAAAAAAAABwMBKEMI0ePdrn+ahRo2yKBAAAABh01lln+Tw/99xzbYoEAID0RYIQpuLiYo0ZM8Z8/vWvf93GaAAAABCNjIwM818qKykpMR9fdNFFuvTSS22MBgCA9HSG3QEgeWRlZWnPnj169tlndfHFF+srX/mK3SEBAADA4TZs2KArr7xShw8f1oIFC+jlAgBAHJAghI+cnBx997vftTsMAAAcw9q6a2BgwMZInIXznjpGjRqla6+91u4wAABIayQIAQAAgBRSU1NjPi4vL7cxEgAAkC5IEAIAAAAppKKiwnxMghAAAMQCCUIAAAA4TlNTk90hAAAAJA0ShAAAAHCcwsJCu0MAAABIGqfZHQAAAAAAAAAA+5AgBAAASFIZGRnKyMhQUVGRJKm3t1d1dXUqKSlRdna2MjIyNHPmTJWVlam7u9tcr7u7WxUVFSoqKtJ5552n7OxslZWVqa2tLaz9NDc3q6yszNxHRkaGSkpKVFdXN6J4jTiM7TQ3Nw9Zp66uzozTun5NTY16e3uHLF9WVmYuV1ZWFjKe7u5uc9ns7OyAsVpnMw52HL29vaqpqVFJSYlmzpwZ9LwHYnxeRUVFPvsM9M86+Yi/5ubmgPH6byOUQMdRVFQU1nEY61qPIzs7O6y/CwAAkAIGAIsPPvhg4He/+93AX/7yF7tDAQDAESSZ/4K9l5eXN1BdXT3gcrl8lrf+c7lcA01NTQOlpaUhl+nq6gq5H4/HE3R9Y5n33nsv5LEUFhYObN68eUi8TU1N5rK7d+8eyMrKCrkvl8s1sHv3bp99bN682Xw/Kysr5Lldv369uWx5eXncznugc/ree+8N5OXlhTw+/3/V1dVBj6WpqSmsbQQ7xkiPw9h3qHUlDXg8npCfRbQ6OzsHXnrppYGTJ0/GdT8AkM4KCgp8yu7a2lq7Q0ISyRgYGBgIL5WIdPfuu+8qPz9fr7/+us4880w9+eSTmjt3rt1hAQCQ1qytvvyrZYFahBUWFiovL08ul0vNzc0BW+W5XC5zuba2NjU0NJjvlZaWav369SH3k5WVpcLCQmVlZUmSGhoafFoflpeXq7q6OuixuFwun9Z/xnh/1dXVysvLU29vr7Kzs81lXC6XSktL5XK51N3drYaGBp/3mpqalJeXFzDerq4uM05/ZWVlZuu2zZs3y+PxBNxGtOc90DmdOXOmec6qq6vl8XiUlZVlHp//TMQul0t5eXlBx0Y01pN8ZzH2/xyssxrH4jja2tpUVFRkfh5ZWVkqLS0137P+bQX7u4hWdXW1br/9dknSVVddpcbGxmFbSwIAhrr88svV0tJiPq+trdWyZctsjAhJxd78JJLJxo0bfe4mXHXVVXaHBABA2lOQ1l/+71VXVwdsuVddXT3sctaWdIFa3VnXX79+fcA4/fcTqiWiPm59F2xb1laKhYWFQ+J97733hiwTbP1Qre6MVm8ulytkrKHeC+e8+59T6/kuLS0NGJu1pWeoYwgkVOyxPI6BgYGBwsLCkMdiPdZgfxfR8m+9+Morr8R8HwDgBLQgRCgkCGGqra31KSwKCgrsDgkAgLQXbqIq0m3Ecj/WZFGgpFY42+nq6vLp1hqsu/J7773nkxiydjW2JrWCdW3dvXt3yGXied6t58m/i3Sg+PLy8kLuJ9bxhbucNcZQ3bmjSXaGwxqfpIHf/OY3Md8HADgBCUKEwiQlAAAACIu1i26wCU+G49/d2eVyBVzO6HZssHaFtcYRqIu1/+vBuu3Gi3Xf1q7RVtbXIz2X8ebf/TgY6/lN1mMBAAChkSAEAABAWKxJreFmvQ3GmkAaLnFnfd+arMrKyjLHHezt7Q2YlBrJfhBYOIlOST5jQAaaeRoAACQ/EoQAAAAISyxavUWaIPTf33CtCI3X8vLygk5igtCsyb5QCULre8FadAIAgORGghAAAAAJE2nLQ/+WacFaFxrPjeXtaD1oTZhZu1RbpUILR2uMwbqCAwCA9ECCEAAAACmnsLDQTFr5JwjtTr5Z91lXVxdwmZqamoDLJ6uMjIyQ/wAAQGojQQgAAICUZE2sWVvqGQlDl8tlS/LNOvlKc3OzioqKVFdXp+bmZtXV1amoqMiM138yFgAAADucYXcAAAAAQCQKCwvNRFtbW5s8Ho96e3vNBKFdLfOysrK0fv16lZWVmfEEGpvP5XKpqakpJbrvVldX2x0CAACIIxKEAAAACIt1HMBIJ/5wuVxhz3Q73P48Ho/KysoknWo1aE3E2dl1Ny8vz4zfeGyMv5iXlyePx+PT0jDZlZeX2x0CAACII7oYAwAAICzWsf0iTRCOZMbb4fbncrnM7bW1tam3t9f28QcNxtiDWVlZ2r17t7q6ujQwMKCBgQHt3r1b5eXlSZ8cDDURDAAASC8kCAEAABCWWCTfRpIgDKc1oMfj8VneWCcvLy/iJGYsGF2f7YwhWtbPyvrZAwCA9EOCEAAAAMPq7e31mZE30gShNaFXV1cXtLux//6s61lZ4+ju7jYTWXbPDGx0J25ra0vZ5Jr1HNbU1ITdNRwAAKQeEoQwjR492uf5qFGjbIoEAADYxUhsWfX29qqiosJ8Lysry6d12Ujk5eWZiafe3l4VFRUNSTz5v+7xeIK2xMvLyzO76lZUVJivB0soJor1GGfOnKmMjIwh/8477zyVlJT4JELDYe2aHM+uv4WFhebnbHwmoZKddXV1Iz6WcJxzzjk+z88999yY7wMAAKfLGBgYGLA7CCSH7u5uzZgxQ0eOHJEk/fSnPzUH/gYAAPGRkZFhPvavloV6b6TLhbsf6VQSz5hQpKGhwSdx2NTUFLCFXrjxtrW1+SQAXS6XmQQ0Wg5a39u9e3fIrrplZWU+iSmXy6X33nsv6PLDxRqL897W1qaSkpKACddACgsL1dTUFNayJSUlZhdml8tlTiDS3d2t0tJSM6kXq+PwT+L6/30YrSR7e3tVXV0d8wlNFi1apPr6eknSRRddpN///vfcyAaACFx++eVqaWkxn9fW1mrZsmU2RoRkQoIQPrq7u/XMM88oNzdXX/7yl+0OBwCAtJeMCcJgXC6XqqurVVpaGnEchkCJJ39ZWVnavHnzsK0VGxoaVFJSYj4vLS3V+vXrQ64T7/Pe3NyshoYG1dXVBe3u7N/6L9zkWnNzs4qKigK+Z03exurvJ9xkp8vl0ubNm2PevfvEiRPatm2b+vr69I1vfCPpJ3cBgGRFghChnGF3AEguWVlZWrJkid1hAAAAmzQ1NamhoUHNzc1mQshoMVZaWhqzSTfy8vLU1dWluro6n8lFjJmJPR6PPB5PWMkg/4RUpN2fY8Vo0Wi0fgwWj9F122j92NDQEFaC0GhtWFdX5zMZisfjicuxWz+rtrY2dXd3D5kMprCwMOzPa6RGjRple5dxAADSHS0IAQAAHG4kLf8QWk1NjTkW4ubNm4dNbPX29uq8884zn3P+AQDxQgtChMIkJQAAAECMhDPzshXdZQEAQDIgQQgAAADEiHWcvnAmKLGOQxjrsfsAAADCRYIQAAAAiBHrGIBlZWUhJ2Fpa2szuyNL4bU4BAAAiAcmKQEAAABipLy83JxRubm5WdnZ2SosLPRJHPb29qq5uVltbW3ma6WlpUFnhwYAAIg3EoQAAABAjHg8Hq1fv14VFRXq7e1Vb2+vGhoazNmGAykvLw9r9mIAAIB4IUEIH8eOHdOePXuUlZWlv/qrv7I7HAAAgJRTWloqj8ejhoYGNTc3q7u726e1YFZWlrKyslRYWCiPx6OsrCwbo00NXV1d6uvr04wZM3xm3QYAALFBghCmd999V7NmzVJnZ6fOPPNMPfnkk5o7d67dYQEAgDgbGBiwO4S043K56DYcI/fee6/uuOMOSdKVV16pp556iiQhAAAxxiQlMG3btk2dnZ2SpOPHj+uRRx6xOSIAAAA43QMPPGA+fvrpp9XR0WFjNAAApCdaEMJ05MiRkM8BAACcxNpKLdatLOO57XTjPxP0wYMHbYoEAID0RQtCAAAAAAAAwMFIEAIAAAAAAAAORoIQAAAAAAAAcDAShAAAAAAAAICDkSAEAAAAAAAAHIwEIQAAAAAAAOBgJAgBAAAAAAAAByNBCAAAgKhlZGQoIyNDRUVFkqTe3l7V1dWppKRE2dnZysjI0MyZM1VWVqbu7m5zve7ublVUVKioqEjnnXeesrOzVVZWpra2tmH3WVdXZ65n3X9NTY16e3uHXb+3t1c1NTUqKioy18/OzlZJSYnq6urCOu5YbAMAAMBuGQMDAwN2B4Hk8NBDD2n58uXm84KCAv32t7+1MSIAAJAqMjIyJEl5eXnyeDwhk3Qul0ubN29WQ0ND0CSay+XS7t27lZWVNeS9trY2lZSU+CQaA63f1NSkvLy8gO83NDSorKwsrESiJAWqMjc3N6ukpCTkNjwejzZv3jzkdeN8Bds2TrGeK0n6zW9+o8svv9ymaAAgdV1++eVqaWkxn9fW1mrZsmU2RoRkcobdAQAAACB9tLW1ma3/CgsLlZeXJ5fLpebmZjU3N0sabHVntDR0uVzmcm1tbWpoaDCXqamp0fr16322b6xrJOVcLpdKS0vlcrnU3d2thoYG9fb2mssFShK2tbX5JAezsrJUWFhoJiOtsYY6TmtyMCsrS6WlpeZ7xnE0NDSooqJC1dXVEZxNAACAxCBBCAAAgJiqrq42k3aG8vJy1dTUqKKiIuRydXV1Kisrk6SASTprYq+wsFCbN2/2Wb+6ulplZWVmorCiokJNTU0+26ioqDC3UVpaqurq6iGx9vb26rzzzgt6jP7b8E9kWo+jpqZGpaWlAVtDAgAAJAPGLejplgAAIABJREFUIIRp9OjRPs/PPPNMmyIBAACprLy83CfhZn19uOWMVniShnQhNloISqe6Kfuv73K5tH79evP15uZmn/EM29razMRjVlaWz7L+2wkm0Db8lZaW+hyLETdG7pxzzvF5fu6559oUCQAA6YsEIUzFxcU+Fa758+fbGA0AAIAva5LNv+WhldHt2GBtiWh9bF1mJMLdRmFhofk4nElXEJjH4zEfT5s2TZdeeqmN0QAAkJ5IEMKUlZWlPXv26NFHH9Vvf/tbs1sMAABAMrAm2azJt0Cs71sTetZtBJvAZDjW7YXahrVLcbiToWCoDRs2aPPmzXr88ce1c+dOjRo1yu6QAABIO4xBCB9ZWVn6zne+Y3cYAAAAQ0SaILSuZ+22HGmC0JrsC7UN63vDTXqC4M444wyfVoQAACD2aEEIAACAlOA/JmG4rAk9a7Iw1DiDocRiGwAAAMmEFoQAAABAhDIyMuwOAQAAIGq0IAQAAAAAAAAcjBaEAAAAQISqq6vtDgEAACBqJAgBAACQElwuV9izAVuXs84m7L9MtGMIlpeXR7U+AABAMqCLMQAAAFLCSGYFtk4kYk0QBpvdeCSs22B2YgAAkA5IEMLHsWPHtGvXLr3zzjt2hwIAAOBjJAlC6/vWhJ41WRhpgtAaR6TbwMi8/vrramtr08mTJ+0OBQCAtESCEKZ3331Xl1xyifLz8/XpT39azzzzjN0hAQAAmDwej/m4rq4uaHfj3t5e1dXVBVzPmtwLtY1QrAnHmpqaiLaB8P3oRz/ShRdeqJkzZ+rqq6/WwMCA3SEBAJB2SBDCtG3bNnV1dUmSjh8/rnXr1tkcEQAAwCl5eXlmcq63t1dFRUVDknP+r3s8Hp9Wgx6Pxxx3sLu7WxUVFQETfDU1NUHjKCwsNBONxv5CtSSsq6vzSVhiZNasWWM+fvrpp9XR0WFjNAAApCcmKYHpyJEjPs/7+/ttigQAACCw6upqMwHY1tam7OxsMwlotBw0En4ul2vILMMul0vl5eWqqKiQNJi8a25uNhOH3d3dam5uVnd3d8g41q9f7xPHzJkzzQSmMZlKW1ub2tra1Nvby2zHUfBP4B48eNCmSAAASF8kCAEAAJAy8vLy1NTUZCbn/LsTG7KysrR58+aAMxiXl5eru7vbXK+7u3tIi8HCwkIzyRcqjpKSEjOZaCQE/blcLp+uzQAAAMmGLsYAAABIKXl5eerq6lJ1dbXPeIAul0uFhYVav369du/eHTIpt379ejU1Nfl0OXa5XPJ4POZ7wyX1jDjWr1+v0tJSn1jy8vLMbXV1dfm8BwAAkGxoQQgAAICohTtxRDjLhbOM0VW4vLw8rP0GUlhYGDJxt379eq1fv37Y7ZSWlo5430y0AQAAkgktCAEAAAAAAAAHI0EIAAAAAAAAOBgJQgAAAAAAAMDBSBACAAAAAAAADkaCEAAAAAAAAHAwEoQAAAAAAACAg5EgBAAAAAAAAByMBCEAAAAAAADgYCQIYRo9enTI5wAAAECinXPOOT7Pzz33XJsiAQAgfZEghKm4uFiZmZnmc4/HY2M0AAAAgHTttdeajy+++GJdeumlNkYDAEB6OsPuAJA8srKy9NJLL6mpqUnTpk1TQUGB3SEBAADA4erq6vQP//AP6uvr0ze+8Q2NGjXK7pAAAEg7JAjhIysrS2VlZXaHAQAAAEiSzjjjDM2fP9/uMAAASGt0MQYAAAAAAAAcjAQhAAAAAAAA4GAkCAEAAAAAAAAHI0EIAAAAAAAAOBgJQgAAAAAAAMDBSBACAAAAAAAADkaCED4++OADtba26s9//rPdoQAAAACSpNdff11tbW06efKk3aEAAJCWSBDC9O677+qSSy7RZZddpqlTp+qZZ56xOyQAAAA4XFVVlS688ELNnDlTV155pQYGBuwOCQCAtEOCEKZt27apu7tbknT8+HH9+Mc/tjkiAAAAOF1tba352Ov1qqOjw8ZoAABITyQIYTpy5IjP86NHj9oUCQAAADCot7fX5/nBgwdtigQAgPRFghAAAAAAAABwMBKEAAAAAAAAgIORIAQAAAAAAAAcjAQhAAAAAAAA4GAkCAEAAAAAAAAHO8PuAAAAAAAAADByx44d01e/+tUhM74H0tXV5fP8/vvv1xNPPDHseldddZV++MMfRhwjUgMJQgAAAAAAgBR01lln6ZprrtHy5ctHvO7bb7+tt99+O+QyZ555prZs2RJpeEghdDEGAAAAAABIUUuWLNG0adPisu1ly5YpJycnLttGciFBCAAAAAAAkKJGjRql2tramG93woQJuuOOO2K+XSQnEoQAAAAAAAAp7IorrtCVV14Z023ee++9yszMjOk2kbxIEAIAAAAAAKS42tpajRo1KibbysvL07e//e2YbAupgQQhTGeffbbP89GjR9sUCQAAADDonHPO8Xl+7rnn2hQJACS3Cy+8UN/73vdisq2HH35Yp51GyshJ+LRhmjt3rk/z4ZKSEhujAQAAAKRrr73WfDx9+nRdeumlNkYDAMntrrvu0qc+9amotnHddddp9uzZMYoIqSJjYGBgwO4gkDzeeOMNNTc366KLLtKcOXPsDgcAAAAO99FHH6mxsVFHjhzRNddco3HjxtkdEgAktbq6OpWVlUW07tlnn629e/dq8uTJMY4KyY4EIQAAAAAAQJo4efKk8vLytGfPnhGve/fdd2vlypVxiArJjgQhAAAAAABAGtmxY4cKCgpGtM7kyZO1d+/eIfMTwBkYgxAAAAAAACCNzJkzZ8TzCtx///0kBx2MFoQAAAAAAABpZt++fbr44ot17NixYZe97LLLtGPHDmVkZCQgMiQjWhACAAAAAACkmalTp+rWW28ddrmMjAw9/PDDJAcdjhaEAAAAAAAAaej999/XhRdeqLfeeivoMosXL9aGDRsSGBWSEQlCAAAAAACANPXzn/9c3/rWtwK+l5mZqddee00TJkxIcFRINnQxho/3339fzz//vP785z/bHQoAAAAgSdq7d69eeOEFnTx50u5QACDlXH/99crPzw/43p133klyEJJIEMLi3Xff1SWXXKIvfelLmjJlip566im7QwIAAIDDVVVVadq0aZo1a5auvPJK0QEKAEYm2BiDF1xwgb7//e/bFBWSDQlCmLZt26Y33nhDknTixAk9+uijNkcEAAAAp3vggQfMx16vVx0dHTZGAwCp6fOf/7wWLVrk89qaNWt05pln2hQRkg0JQpiOHDni8/zo0aM2RQIAAAAM6uv7/9u7/9iozjPR4w+03bTJ1HZ1bxZXcdZocVLJtB1XIpIds1iKWoZd7Q7RGme3VLKz1yFXGzYGYxaapg4Fp0HQGlKyRErAbXC3aYjtbJmtdhkWVRnExE6TtJ4uWCE1Kl47uUbkbsbTIcktIdw/hnN4z8yZmTPj4zlnZr4fKYqZH2eec8Z+58xznvd9YoZ/X7p0yaFIAKC47d69Wzwej4iIrF69Wv7qr/7K4YjgJp9MvuG9996TSCTiRCxw2OTkpOHf0WhUXn75ZYeigZNuu+02ueOOO5wOo+hduXJFxsbG5OrVq06HAsAhHo9HVqxY4XQYJeH111+XeDzudBhwgfHxcadDgAM+8YlPSGNjo3zqU59yOpSi99vf/jZjR1uUtvXr18vhw4dl/fr1fN8vY16vVz73uc8ZbkvpYtzc3CyvvPJKQQMD4C6f+MQn5MKFC1JTU+N0KEVt+/btsnfvXqfDAOCwkZER+eu//munwyhqL730krS2tjodBgCHbd26Vb73ve85HUZRm5mZkaVLl3IBGyhzd999t4TDYcNtKRWE2pWEqv9xq/zRTZ8uTGQAXOPS/5mRq1evyrvvvkuCcJ4uXrwoIiI3eyrEU1HpcDQACu29dy/KlT/8Qf7rv/7L6VCKnnYMP/VHfySf+590WgTKTTw2J+/HY0wvt8G7774rV69elUWLFsmtn+dcHyg3f/h/H0r0/14yrSJOSRBq/vH7h+RLdzUvaGAA3OdvG5fJ+/FY9gfCsrXt/1u+/tA2p8MAUGDfun+tnHmdWRl2+sKXV8gTzx1zOgwABfbTp/fKT5+mctBOn7nls3L4xK+cDgNAgf3na2F59O/uNb2PJiUAAAAAAABAGSNBCAAAAAAAAJQxEoQAAAAAAABAGSNBCAAAAAAAAJQxEoQAAAAAAABAGSNBCAAAAAAAAJQxEoQAAAAAAABAGSNBCAAAAAAAAJQxEoQAAAAAAABAGSNBCAAAAAAAAJQxEoQAAAAAAABAGSNBCAAAAAAAAJQxEoQAAAAAAABAGSNBCAAAAAAAAJQxEoQAAAAAAABAGSNBCAAAAAAAAJQxEoQAAAAAAABAGSNBCAAAAAAAAJQxEoQAAAAAAABAGSNBCAAAAAAAAJQxEoQAAAAAAABAGSNBCAAAAAAAAJSxTzodAAAj/xdv1X8OnLnkYCQAAAAAAKAcUEEIAAAAAAAAlDFXVRCqlVOa51/5rXgqqiw9f/3dd0g8FjXc5tYKrGKtEivWuAEAAAAAAGDOVQlCM5HRU9Ls82d93OREJCU5WOxGBg7oP7d2djkYCQAAAAAAAEqV6xOE42MhSwnCyGioANEU1pH9ffrPJAgBAAAAAACwEFyZIKyr98rkRERErCf+xsdOmT7frfoODTsdQl6KNW4AAAAAAACYc2WC8JbKKj3JNzszJbMzU1JdU5vxOVoi0dvUIhenLxQizHnxNrU4HUJeijVuAAAAAAAAmHNlF+OL0xdk2XKv/u9sVYTq/XX1XpmdmVqw2AAAAAAAAIBS4soKwtmZKWmt90rw+r8nJyLiy/B4dTpxXb03wyONgkODcvpEQM6fvdHgxNvUIg2Nq8TX1p62e7LWydfb1CJ9h4YlHotKcGhQJicicnF6SiYnIlJX75Vly73S2tllWv2YrhtwZDQkvRvWZXx88nPmuz9m+zQ7MyXBoUEJB4/J7MyU9B0aFm9TS9YuxnYcG3V/xsdCEo/NZU0Sd3T3Zl2nMR6LSjgY0CtTL05fkNmZKfE2tYinolLWrGtPWyFp535pzx0fO6XvV3VNrSxb7pWGRio0AQAAAABAYbkyQShinMoaDgZk447+tI9V1x/0Nq3Kuu3JiYjs3dJpWmkYGQ1JZDQkIwNPya7DwxkTjpfnojIycEBGBp5K6aA8ORGRyYmIhIMB2ffiyaxTpOfDrv3RhIMBObizZ15doedzbOKxqDz2wDrb15EMDg0aGr9otCRdOBgQX1t7xt+1+b7n6Y6tNpU+HAzks2sAAAAAAAB5c22CsLqmVqpramV2ZkrisaheoWVGS/DU1XszVsmJ3Eg+aQkaT0XV9eq6Sj1BE49F9cdlSqppCSGRREIz8fqVhsqweCyRUMqUdFItuX2pdHT3ioixi7F220Luj4jI+bMR2TPaqf9bS9TeUpn5uCabz7FRk4Md3b3S7Fur/y6Eg8dSujt7KiotV45W19TKktuXSkNjIpE8OzMlkdGQnlwNDg1KXb1XfG3ttu/X5ETEkBysrqkVb1OLnkhUtwEAAAAAAFAork0QiiQSMLNDgyKSSAKaJYHUhIqVBhpqgsbb1CLb+w8bkood3b1ycGePnlg7sr8vY+feju7elOm7rZ1dMjJwQE9k5ZL0qa6p1afKJifCCrE/8VhUT5ClS5JZlc+x0abtioj42toN+60dG236s4iIp6Iy69RiTfL2VHt6OvXqvdMnAhn3Pd/3/Mj+Pv298rW1S0d3b8o24rGorL/7Dkv7AwAAAAAAYAdXNinRqAnBdNNN1enF2arI1CmcnoqqlGSadvvGHf367ZHRUMaprokKttTqOjURtVBNUxZif0RE9r14ct7JQZH8js3pEzem2KaLQb09lym5mapL1ZiyJXTz2a/JiYhhvUH1PbEaIwAAAAAAwEJwdYJQrQiMjJ4yfYyazGn2+TNuLxw8pv+cqWmHNk3X7DXcpNT2RyS1I7UZK4njXOXS3CYf6n7ZkXwFAAAAAACwi6sThNU1tXriJh6LpiS2tLUJRaxNL1aTSdoadOmo96tVim5SavtTyvLttA0AAAAAALDQXJ0gFDEm/pKrxdSqwmwJMpFEAw6z7WZ7XfV5blJq+1PKLk7fmHK8bDkJQgAAAAAA4B6ublIiYqy2Gh87ZVjnTU0YWqkgzHctQK2xhNuU2v6IJN5v7X0NBwOm08Zzfd/NxGNROX820ZE4HpuzbapyOur2WWcQAAAAAAC4iesThN6mG5WByVOMtX97KqqYtlkivE0tejLt+PCgaYJwZOCA/rOVylFVOBiQkYEDC54QBAAAAAAAKBauTxB6KqrE29SiJwMjoyHxNrUkrT+YW5II7uVra5fg0KC+5mTvhnWycrVfqmtqZXZmSk6fCBgSw7k0/Di4s0eCQ4OG2+rqvXJLZZU0NK6SI/v7bN0XAAAAAACAYuD6BKFIokpMSwpNTkSuJwzV9Qfzm2YK96muqZWNO/rl4M4ePUlo1nXZU1Eluw4PW56uGxkN6clBT0WVdHT3piQXSRAC5cX/xVv1nwNnLjkYCQCUHsZYAHDWQo/DjPOlx/VNSkSM68xpHXjzWYcul7Xf1HX6qmtqLT+vkEptfzTLlnv1eOvqvYZ46+q90tHdK88efy2naeXHh29UDpolBwvJzWtAAgAAAACA8lMUFYR19V7xVFTpFWUiNxKE1TW1lhNey5Z7U6Yqp6N2+l1y+9J8Q19QpbY/Gq3Sr7qmVva9eNKWbaoVp04kB9Vp8ufPRvJurgI4Rb1CmEydqt/sW+v6ixAAUGwyjcFmvE0t0ndoeIGiKT9UyQDlwWysff6V31ouzFl/9x0pxSDlOmYwbhanoqggFDGuMzg5EdGTLc2+tZa3kdwRORP1/lwbYRRKqe2PJhw8JiL2JjKdrtpTEybl2iAlHo87HQIWiDYmH9nfJw+uWaEvEQDkYmTggP4fMnv//fedDgEoCYw7uHr1qnz44YdOhwEXUwtNMpmciHD+i6JXFBWEIolkWDgYEBHR/6/dblWzz6+fAASHBqW182HTqwHxWNTQzCKXJGQhldr+aGZnpkQkUWk3ORGxvUP17MxUwSuc6uq9Erz+c3BoUHxt7TlNES9m8Xhcdu/eLW+88YYcP37c6XBgg47uXv3neGxOJicicv7sjZOi4NCghIMB2XV4mA7zsExdB7a1s8vBSNzr448/lueee0727Nkj586dczocOEQdg9Mpl3OM+WLcKW8vv/yybN68WZ577jlpaGhwOhy41PhYSJp9/qyPM1s3Hyg2RZMgbPat1T/EtQozkdw6GNfVe/WpnvFYVB57YF1Kowvtdu2LbrPP79h0OW1atYj5FOJi2x+r1H3act9XTR+T6G69ShoaWyxNGVan+IaDx1JOArWk5EJp9vnlyP4+iceiMjszJUf290lHd2/KCXwpXcG+du2a/PjHP5ZHHnlE3nnnHWlpYVp1qUj3JSo4NKj/nsdjUXn6Oz05NRMCkF44HJZNmzbJG2+8IZWVlU6HAweRyCo8pmuXlt/97neybds2GR7mfYW5unqvPuvLauJPnbGnPr9cMW4Wp6JJEGprDc7OTOnJHG1twlx0dPfKY9crXSYnIvLgmrv0pFk8NifBoUE9mZbodvuY7ftilbdplV4tuafnAWntfFhEEsksX1u73rCjWPbHqo7uXtk7fSFj0i4ei0o4GJBwMCCnTwSyDkArV/v1wf3I/j5DZeLszJShKnUheCqqpLXzYT3JHRwalMhoSJp9a8VTUSmzM1MSGQ0teKKyUMbGxmTz5s3y6quvOh0KCsjX1i7Llnv1ixKTE5Hr1c18mQXyNT09Ldu2bZMXXnjB6VCAssXa0aXh8uXL8sQTT8i+ffuYVoyMbqms0pN8Wv4hW5GN9l3T29QiF6cvFCJMV2PcLE5FkyAUSfySzRqmymYv9U1WV++VXYeH9S+wydNvNdU1tbJt34Cj1XZr1rXriat4LGqYBrFydWLfi2l/rLo8F9Xf63QDi3olJzIakpGBAxmTEL62dhkfCxmmqadOVa9d0Cs9rZ1dMjszpb8/szNTKRWD3qYWuTwXLdorTu+8845885vflB//+MdOhwKH1NV7DcnwkYGnSBACefjggw9kz549snfvXvnggw+cDgcAita1a9fkJz/5iWzfvl3eeecdp8NBEbg4fUG8TS2GKsLqDLPW1O+mdfVephujaBVVgrChscWQ/Mp3bau6eq88e/w1CQ4NyvjYKf0P2FNRJcuWe2Xlar80+/yOT4vTOtAdHx7Uk1nVNbXS7Fsry5bf2Pdi2R8rDu7skeDQoHgqqmTfiyfTvsdawlT7fQgHA1mTENv7ByTYOCjBoUFDF2xfW7v42toNty+UjTv6ZeVqvxwfHpTI6CmJx6Ip06UP7uwpugThhx9+KPv27ZMnnnhCLl++7HQ4cJivrV1PEGrVvuku6GgXNdSxq7qmVpYt92ZcQkDrjKaNk5HRkJw+ETBU4jb7/JaXIcgkODQop08EDOsseptapKFxlel6olvu+6r+N9za2ZVxvbDIaEh6N6wTkcRYrnVuT94/7TiOj4Xk/NnE1ey6eq8sW+6V1s4u/eKPdhFCWxfSU1Ep3qYWveo8E7veC207kxMRuTg9pVdsJ8eavP9m29SUU/e7a9euydGjR2Xbtm0yPT3tdDgoYto5lUhiXN64oz/tY2dnpuTBNStEJPF3/+zx10XkxhiuVdFcvD7Dw9vUIp6KSlmzrj2vKhGr3S0zPS7f2PIZd6zGm+vnRfL28xlHkdkvf/lL6erqYlYLcjI7MyWtyhrykxMR8WV4vPrdLZccRb5jhibbuZtV+Z4DZpJp3LRzzEvEHZJ4bC5rYraju5fChSxclSDM9gWg2eeXgC/7lwQrXyQSUz678voFsfpFJdPjrG7D29SSOLlJf04nIvPbn1ziyfa4+WxnZOCAfiK7cUd/xsE1MV26V3+81YSalgw0k+n42XV8RJT3NI2NO/oznsS7zcjIiGzdulUuXKCUHgmeiipp9vn1CxuTExHTBGFkNCR7eh5I6fimTeXQEmLb+wfSvtbluajs6ek0XSZAqxQODg3mtRbi5ERE9m7pNJ36HxkNXa9efiqlGUuzz29ctyZDglBdr8ZsXLg8F73eYfOplOM0OZFo5BQOBmR7/2E5fSKQUkEej0Vl9nrTmH0vnkx7gmXXe2El1kxxlLtf/epXsmnTJjl9+rTToaAEqBfWs31pUu9Xm9lpa8ume3w4GMiafFwoboot38+LZIyj9nnnnXfkkUcekcHB1JlVgBXqeVk4GMg4lhjP57L3SLBjzAgHA3JwZ0/Gczcr7DgHzNd8xjyt10KxFda4nasShChvxk7L2aePF0NFZCn7zW9+I11dXRIKUUKPVGrnebMP7smJiOFkRKvm1e5TlwM4UtOXtgpPO3morqkVb1OLfvKgVZVojxkZeMpS509NcoMnT0XV9Su5lfrJkrasg9YgSjuBU5tqaZUtmRJzGrNxT9s/kcSJamLt3UrDFd54LKpXw2gVydq6OeoyFSMDB0xPbu1+L7LFqsax5Pal+vbUL/q5vFel4OLFi/Loo4/KD3/4Q7l27ZrT4aBENPv8Ij2Jn7OtoZWp+qW6plaW3L5UGhpX6dtSq7WDQ4NSV++dd7V2PvKJze5xZz6fF8nyGUdh9OGHH8r+/fvlu9/9LrNaMC9qDwRtbe10f7va36eVHgl2jBmTExFDcjD5PFgdMzKx6xwwX/MZ89TkYEd3rzT71urvVzh4LKVLvaeiMu8ZqOWEBCFcQ72CkstCsCIsglpIly5dkt7eXjl06JB8/PHHTocDl6quWar/fHkumnK/1u1YxHzqW7BxUA7uTHyzHRk4IL629rRjwsYd/SlfTFs7u2Rk4ICyFmLmbSRTT7q8TS2yvf+w4YSvo7tXDu7s0U/ijuzv05slqSeUIuad00VEP9kUSZwcpjtp6ejuTZlmkrx/6R6nHsd0J4p2vhdWYlXjqK6p1Y9N8olcOfjDH/4gP/jBD6Svr09+//vfOx0OSpBazZ1uLErcl3iMVgGu8bW1p32OWr19+kSg4AnCfGOze9yZz+eFmVzHUdzw0ksvSU9PD7NaYBu1B0JkNGR6rpbrd1I7xozkc7eO7t6UMSMei8r6u+/IGIud54D5ymfMU5cGS/4s0MZ4de1/T0Vl2ZxbztdipwMANOqAa1YurZqciJg2bcHCuXLlijz55JNy5513yjPPPENyEBl5Kir1n5MrCCcnIob1TcyqIJKXAwgHj6V9rUzLBhinh6TfhkqdluGpqEo5cdNu37ijX789Mhoy7Kc6RS/d1Ad16kemqunEVc/Uq9HJJzpmj1OPjdk0FrvfCyuxlkq39vkKBAKyfPly2bZtG8lBLBj13CrdWDQ5oa59ZZwal6kSRv27diJh5YbY7Pi8SMY4mrvf/OY3cs8990hrayvJQdjKyhiqTi/OVqFmx5hhdu5mNmZkq2S0+xwwX/mMeadP3DiHTvc9wBi3tenWoIIQLtLa2SV7ejpFJDEQPrjmLn2qnEZbfFQdJDOtKwh7/Pu//7ts2bJF3nzzTadDQQlQv6xl+ttV18/Kd32Rlav9+utZ3YZ68pNpgWhtSojWjVy9stzs8+u3h4MB03Vk1XhyWUjaToV8L5AwMTEh3d3dcuLECadDQZHSxhYz2rikUZc8iIyeMn2OOg7kMha5eapWoWKz4/MC+Xv33Xf1WS1Xr151OhyUIPVCs5UxNNsyWXaMGVbP3bIp5nPA5K7RZqwkd5GKBCFco9nnl42xfr3UWetOlynjn2gs8nABoywv586dky1btsi//du/zXtbb7zxhjQ0NNgQVfGgA6k5q1dal9x+YwpDPDaX12upHd8vTluruDAm7jIvNN3QuEo/eRsfO6Vf7ayr9yZNM07t5GyckpJ9QeuFUMj3oty99957smPHDnn66afn/UU2Ho+X3Xh66VL5dLIlR22EAAAbAklEQVTOxqwxh0brWq6xsoaWOuaxZEtu7Pi8QO4++ugj+ad/+ifZuXOnRKPpZxxZ9Td/8zfymc98xobIisMHH3zgdAhFo7qmVl/XOR6LSmQ0ZBgn1eVirIyfdowZ+XZMTsY5IMyQIISr+Nra9fVyxsdCeptzjboYtbYQKRZGf3+/HD16VK5cuWLL9uLxuEQiXL2BcU1CNYGXTD1ZyXeKWD5XD8+ftf5lWb1ffZ5IonLnxoldyJAg1JqXJB7nd6zpUiHfi3IWDoelr69P/vu//9uW7V29epXxFJapY5FZ5ZpWFaNd2IB1dn1ewLq3335bvvSlL9k6q+Wtt96ybVsoPd6mFkPju3RVhdkSfiL2jBnqBe9M527ZcA4IMyQI4TpaSTXThp31/PPPs84gFoSaqHNjN/J813ZKXjdVnWacfEJlZWpEIbj9vSgVP//5z+XDDz90OgyUiMCZ3KopM1WuRUZDhsXyM4nHonL+bOR6Jc2cq6ZsORWbXZ8XsO7VV19l3VYUlHqeljyG5lqBbceYYde5WzGfA2pVnSLms3REqI7PFwlCAKaOHj0qzzzzjJw8edLpUFDkMp10+L94awEjKSx1mvHszJRhap86rUNtaOKkUn4vnPboo4/K9PS0HD58mAsvKDhvU4t4Kqr06XEqK9PdwsGAjAwccFVCUOPm2LAw7r33Xlm+fLl897vfJVGIglCXgUl3wddTUVXU64oW2zmgWtV5fHjQNEGortdrpboTCSQIAZiqq6uT//iP/5Cf/exnsnXrVjl//vy8trds2TL5h3/4B5uiKw7PP/+8vPbaa06H4Qj1Cul8pj8UO29Ti8xeX9jZbIFppvSVB4/HI88884z8/d//vWzevFlCoflN0fn0pz8tu3fvtim64hAKheRnP/uZ02EULW/TKn1NZ7XaQrtY4amoMq2wOLizR1+cXlNX75VbKqukoXFVxvUQF5qbY8PCWbx4sWzfvl3uv/9+eeSRR+S5556Ta9euzWubW7duldtuu82mCN3v7bfflu9///tOh1E0tPFRO3fT1iE0rj9IAqqQfG3tEhwa1C989W5YJytX+/UL86dPBAzJW2YmWkeC0EZq5j3X6R9ObtutynGf3ejee++VP//zP5cnn3xSHn/8cYnH43ltp6amRjZv3mxzdO42Pj5etglCdSpEpgRYR3dvIcJxjNr5LRwMSGtnl6HxkpumPJT6e+EGDQ0N8vLLL8vQ0JBs27ZNLly4kNd2brrpprIbT0WEBOE8NDS26GPP5EREmn1+Q0Wh2ZfbyGhIH788FVXS0d2b8iXLqSScm2NDYSxZskR++MMfykMPPSSbNm2SV155Je9tfeMb3yirxk/j4+MkCHPU0LhKHy+1dQiN6w+653wuH8V2DlhdUysbd/TLwZ09+meZ2fqInooq2XV4uOimUDuJBCGArG666SbZvn27dHR0yCOPPCJHjhyZ99ValLbk5kLpLHQXR6uJSpU2Fc+O7Tf7/OLZWaVfZdamGqv3uwUdNQunra1N/vIv/1L6+/tl9+7d8v777zsdEkpcs88vB3f2iMj1Cubu3qxfbo8P36jOM0vAOcktsdn5eYH8rFixQk6fPi0vvPCCbNu2TWZmZpwOCSXI29Qicv2ig7YOYT5r3Nk9ZsRjUVuSX8V4DrhsuVc/RnX1iZ+1GUx19V5p9vnF19ZOcjBHi516Yf8Xb035L5cFe9fffUfK82GUz7HheKbimNxQXV0tP/rRj+SXv/ylNDU1OR0OXCoeixqq5JLX2DN2f1vYbmhq17clty+19Bx1SnS2+KxsX00Cqlc43bBeTSHfCxh95jOfkW9/+9vy1ltvyTe+8Q2nw0GJU8ebRCOPaNYvt2oC0U3JQRH3xGb35wXys2jRIvn6178u586dkx07dsinP/1pp0NCiamr9+qJJrWSUCSRvLOa9LdjzLCrI3qxnwNqVeTVNbWy78WT8uzx1yVw5pIEzlySfS+elNbOLpKDeXAsQWhG/bDPRDuxAeZjZOCA/h9ys2LFCgmHw/KTn/ykrNZsgTXqmlDeppaUkyY1KbbQC8tbWYA/WXK3ukzU+9NtX63MGR8L6TG5oXqwkO8FzN12223yz//8zzI6Oip33XWX0+GghBkvVpzKuhaqm8+13RKb3Z8XmJ+bb75ZvvOd78i5c+fkvvvuczoclBh1KYbJiYg+hubSbM6OMUMdr+dz7lbs54Dh4DER4YKL3VyVIBwfs5a5LsYMN9znyP4+/T/kbtGiRbJ+/Xp56623pLe3l6u1EJHECcbIwFP6v9f9r4dTHqOe5IwMPLVgX/TisWhKstIK9Uu0tgCyle2nO0Fs9vn1K5hqZaUb1qsp1HuB7BobG+XVV1+VH/3oR/L5z3/e6XBQgtQxcHbmgrK4fvaxSG085TZOxmb35wXs8Sd/8idy9OhROXXqlHzlK19xOhyUCDWhpp7P5TIbxI4xQ329TNvIptjPAbWx//zZSFEmON3K8QSh+gtuNfGnZtOdnp6F0td3aFj/D6luvvlm2bVrl7z55ptcrS1z4WBAHntgnX6C4WtrN/3i6W1q0cfueCwqjz2wLuMHe3BoMKVTpcrsy2E8FpUj+/v0+6prai1/XtTVe/W4tfiST5qSb2/2+TNOLzGrFnRDxzu734v5UKeBlOuFwEWLFsn9998v586dk29+85ty0003OR0SSog6RU69OJqumlkdv7VKDdV8EnPqeGw2kyMei2ac4WFXbPMddxbi8wL2+bM/+zN5/fXX5dChQ/LHf/zHToeDIqcm6dRxJ5fzOTvGDPXC8+zMlBzZ32ea3Ms2S85N54D5UI/jlvu+arqE3fq775A9PZ2uitvtHG9ScktlYk0UbfH22ZmprB+aNzqutcjF6fw6AAJWuanLqJvV1tbK0aNHZePGjbJp0yYZHx93OiQskOQTjvGxU3L+rHHph7p6b8aOaA99p18/+ZmciMiW+76qnzR5KiolHpuTyYmIvt1M23pwzYqU54aDxwxfEDfu6M9pHzu6e+WxszfW6XpwzV36CVo8Nme4YpvooPlYxu2p3YxFjCd3TrPzvZgPb9Mq/Yr8np4HpLUzUX06OzMlvrb2srog+NnPflZ2794tGzZskK1bt8q//Mu/OB0SXMTq0ihmi843+/yGsSjTWqgrV/v1c+4j+/tkciKiP3Z2ZspQQZOrZp9f/yJ6ZH+fjI+dkobGVfp4ky1ZZ1dsdow7dn9ewF6LFy+WBx54QNra2uTxxx+XH/zgB3LlyhWnw0IR0tYa1HIWIsYLL1bNd8zwVFRJa+fD+oWe4NCgREZD0uxbK56KSpmdmZLIaMjShRK3nAPmo6O7V/ZOX8i4n9q66OFgQE6fCFDwY4HjCcKL0xfE29SinyRERkNSnWGxYfWEoa7eW7ZVBoBbrVq1St544w0ZGBiQRx99VC5duuR0SLBZtmn5Hd29Wbuh1dV7ZdfhYdm7pVP/YJ+cMJ8iYKWZR6bndnT35pzo1+LTTpqSp3poqmtqZdu+gawXtpKvLrsp2WX3e5GvNeva9S/qWgWoZuVq59drdMKf/umfyksvvSS/+MUvZNOmTXLmzBmnQ4ILWF0axWwcNrtYkY6vrV3Gx0L636X2JUuTGAtq85ra5WtL/L2r5//qOb32BVh9zELEZse4Y/fnBRZGZWWlfO9735MNGzZIT0+P/PznP3c6JBQhb1OLzFocQ9OxY8xo7eyS2Zkp/XmzM1MpF4+8TS1yeS6acRx0yzlgPi7PRfX3I915vvq5EhkNycjAgaLs2FxIjicIZ2empLXeK8Hr/56ciIgvw+PVX9ZcfkGDQ4Ny+kTAUOXibWqRhsZVlttfa3+842M3FnaurqmVZcu9lteSyrYNt3WJS6Z18vU2tUjfoWGJjIbk9ImA4SpFs89vaV/mezy1KwJa9enF61cQtCsea9alTm+MjIakd8O6tPulCZy5ZHqfert6n3Y8tH2anIjIxekp/Yr2suVeae3synhSmDgWIYnH5rImvq0kYJy0ePFi2bBhg9x3332ya9cueeqpp7I/CUWrrt4rS25PTOG1Op5qz3v2+Ov634x2xVPdZkNjS9Zqu75DwynjkHb109fWnveXsUR8r6WMU56KKlm23CsrV/stVwJ6KqrE29SS14LWhWDXezEf2jh6fHhQ/8JeXVMrzb61hq5/5eiee+6RX//613Lo0CH59re/LVevXnU6JBSpXC9WbO8fkGDjoD42iCT+Ln1t7eJrazfcngtPRZXsOjysj6/nz0bEU1Epy5Z7DZ8lszNTabdvR2x2jTt2fl5gYd15553yr//6rxIMBmXz5s3y5ptvOh0SikjyRZZ8E2Z2jBkbd/TLytV+OT48KJHRUxKPRa+fb67Sv4sf3NmTdRx0wzlgrg7u7JHg0KB4Kqpk34sn074P2oUf7T0LBwOu/g7tBouuXbt2Tb1h6dKlMjU1Jd/90c/kS3c1L9gLq0mXZ4+/Lg+uWSEiiT+K51/5bdrn9W5Yp//CPv/Kb2X93Xfo9yUnb0QSCUU1I25GO0nJ9AceDgbk4M4ey4t3msUSGQ3Jnp4HMm6j2eeX7f0DKbdnSlKlsxDP0e7XBotMUzi0KxJmA4kdx3Nk4EDWq+i+tnbD1MJ0CcJMr2clQVhX75Vmnz/jAq/aAJacrLCy5kOyhUwQ/m3jMnk/HpNf//rX0tDQYMs233rrLRkeHpZvfetbtmyvWNx///1y5MgR+fpD/yhff2ib0+GUlHzGNyfFY1H986qu3iv7XjzpcEQohG/dv1bOvP6K7N+/XzZv3mzLNt977z3p7++Xxx9/3JbtFYsnn3xSuru75Ysr7pYnnktdcw5Aafvp03vlp09/Tzo6OuS5556zZZsfffSRHDx4UP7iL/5C7rjjjuxPKBHj4+Pyla98RW72VMgLY+edDgfIiZoD2N4/kLWKUz0HFymO7w0L7T9fC8ujf3ev1NbWyoULxiX7HK8gFDHO59fmv6dL1qnZ7GwZ7OQFPj0VVdevSFbq65NoZb2PPbAubZJwciJiSGZV19SKt6lFT/SoWf90JicihuSgdoVTu0+dInGkps9V8/vNaKXHycdCnQqidTNN3hc7jqemuqZWlty+VO/ClLzmQnBoUL8SLZJog67FoyYX53u81VJsbcFXT0WlYV+0BbeT10JTk4Md3b3S7Fur/z2Eg8cMcbZ2domnotJV5d1W3HnnnWWXHARU6sUU1jXFfHzuc58ru+QgACyET37yk7Jp0yanwwCQA6vLZGjcUvVYLFyRIBQxzuePjIZMEyBq0sjKFyw1CeVtapHt/YcNvyAd3b1ycGePnig8sr/PdOFKtTOQr61dOrp7Ddtp7exKyUxn20ZykijYOCgHd/aISCIrPp9pcYWycUd/yjTi1s4uQ1bfbF/sOJ7ac9NV0e3p6dS/kJ8+EdDjrK6p1Z+TnHibr47u3pTplcnHIznxqU5/Sd4fLVZ1fQlPRSVl0UARGh+78befz3o1AAAAQLlTZ4bm0uBWhIv0Vix2OgCNmhBMN9VyfOyU6ePNqB3MPBVVKclB7faNO/r12yOjoZTXVjupVdfUGh6fvK10zLaRTFsvRaO2TnerdGsMtnZ2Gf741H2x43haeYyaRCtUI5tEdV9qTGosyVPdT5+4UVWU7ngafy/y7xgIwBmR0ZBhbatiqwAGAAAA3EA9j862ZNnkRISmdzlyVQWhJjJ6yvQxaqInWwWGmpTKtGi+Nu1Y6/qTXL2ovma+DUSsbkNd9DSfBZ/dZOVqv77f6r7YcTytKJYv4Mlduc1YSZ4DcA/1QohaASxiT7UyAAAAUI5aO7tkT0+niCS+Sz+45i7xNq0yfGfWmn6q352TC7JgzjUJQq2qYnIi0WU4MhoyJA21tQlFrJWGqr8M2vp06TQ0rtIThONjpwxf4PLtmqyyWvm45PYb5bHx2Fxer+UWaue3i9M3qubsOJ4A4GaX56KmDZQ4MQEAAADy1+zzy8ZYv75sWTwWlXAwkHGmXWtnl7R2PlzAKIuXaxKEIonEn9rgIl1VYbaEn4jI+bM3ElHZEorq/erzRIzJLTXplYvLczfKXjNtI13lYjFKV/Vmx/EEADdbcvtSafb5JTJ6SuKxqN4oieQgAAAAMD++tnZp9vklHAzI+FhILk5PGXIOaiNTrQEorHFVglBNKmWq5LNSQZi81ptVyXPY1dfNtwOOHdsoFQt1LOKxqJw/G7legTpXNFNxtapZkcT6gmZT53P93QfKQeDMJadDSKu6pla29w84HQYAAABQkrSl4rgAby9XJQi9TTcqA5Mr6LR/eyqqinpqqv+LtzodQkkJBwMyMnCgaBKCydSq2ePDg6YJQm36u4i16lkAAAAAAIBcuCpB6KmoEm9Ti54M1NYhNK4/SIIECQd39hgW/xdJVOTdUlklDY2rTNcAcxtfW7sEhwb1dTd7N6yTlav9Ul1TK7MzU3L6RMCQHOcKCQAAAAAAsJurEoQiiQoptfttImGorj9Y3FMsO7p7nQ6hJERGQ3py0FNRJR3dvSnJs2JIEFbX1MrGHf16i/bIaMh0/UlPRZXsOjxc9lPUAQAAAACA/VyXIPQ2tYhcT+xo6xDmswabp6IqZT3BdNTHZVrAMh6LzjtBo66rWMqsHNP5HM/jwzcqB82Sg8Vk2XKvfrzq6hM/a2to1tV7pdnnF19bO8lBAAAAAACwIBY7HUCyunqvnghRKwlFEokmqx1o1A652ToCq52Ll9y+1HBfpg7HVhm7MReuO7GaULLStEV9zHyTUemOqR3HU8TY1bqYk4MioldCVtfUyr4XT8qzx1+XwJlLEjhzSfa9eFJaO7tIDgIAAAAAgAXjugShiHGdwcmJiJ5Ua/attbyN5I7Imaj3JzeBUBOS+TbCUGMpZDONXJKkIsaEnfrcfKj7qR5TO46nSGq36WIWDh4TkdTkNAAAAAAAQCG4MkGoJtTCwYDp7dmo3WC1JhBm4rGoodFFchJSfc1M28lETZCNDDxVsOSW+rrJzTzMqNN259MtN/mYqlWDdhzPZFaqI91Mi//82UjRdmMGAAAAAADFy5UJQjVJp1VXieTWwbiu3qsnpuKxqDz2wLqUZFTy7c0+f8oU5mafX5/eOTszJUf295kmtUYGDqSNxdvUoifGtNfMlAgKDg1aSuhlo65bNzkR0RthmDmyvy/nbrlmibl4LCpH9vfp91XX1BqSgnYcTxFj0lH9HckUWzJ12m4hp34nU39Pt9z3VfF/8daU/9bffYfs6em05fcCAAAAAABA5bomJSI31hqcnZkyNGvIdR22ju5eeexsROKxqExOROTBNXfpScB4bM5QwZbohPtYyjY8FVXS2vmw3hE3ODQokdGQNPvWiqeiUmZnpiQyGsqakHroO/16MnJyIiJb7vuqnsT0VFRKPDYnkxMROX89Xju6HWvdfQ/u7NFjDwcD4m1apSfttNdU4+/o7rV0rB9csyJlH8LBY4ZtbdzRnxKTHcdz5Wq/ntQ7sr9PJici+j7NzkwZKk/T8Tat0h+3p+cBae18WH++r609p4rV+ejo7pW90xcy7nM8FpVwMCDhYEBOnwhI36HhgsQGAAAAAABKnysThCKJqqpZw9Rff4ZHm6ur98quw8N6Yi556qumuqZWtu0bSNsApbWzS2ZnpvTnzs5MpVS4eZta5PJcNG1loBbL3i2deiJocsJ8Sqmnosq25JRWCahV6qmJJrPXzbUjcKZ96OjuNe06bcfx9LW1y/hYSN+P5H1KHL/ajJWaa9a168/RKh81K1fn/vuWr8tzUf33PV2XbrXCMTIakpGBA2XTERsAAAAAACws1yYIGxpbDMm8fBNmdfVeefb4axIcGpTxsVOGabTLlntl5Wq/YdprOht39MvK1X45PjwokdFTEo9FxVNRJd6mVdLQ2CK+tnY5uLMnY0IqEcvrEhwalMmJiF4tp9235PZaaWhssRRPLnxt7dLs8+uvG4/N6Q1Jli33iqeiUurqvYYpyVb0HRqW0ycChoo/raLQ19aeseO0Hcdze/+ABBsH9f0SSSR7fW3t4mtrN9xuxtvUIn2HhuX48KCeKKyuqZVm39p5N2mx6uDOHgkODYqnokr2vXgy7e+5lsDU/ibCwQAJQgAAAAAAYAvHEoSBM5cy3t/s80vAl/kxVrYjok1r7Zp3QsXb1JK2wkskkfRKnlJrxtfWLr4cX9vKfmaiHQM7ZTse832+leOpJQPNWHnP9RgyvEymY2/1fTF73MjAAT3ht3FHf8YkuFaRqT2eZiYAAAAAAMAurmxSApSDYI5T6O2sKgUAAAAAANCQIAQcojYlsdJ1WV2HcD6VmwAAAAAAACoShIBD1CnFB3f26B21zUxORBxrogIAAAAAAEqba5uUAKWutbNL9vR0ikiiOvDBNXeJt2mVIXEYj81JZDRkWHMw07qLAAAAAAAAuSJBCDik2eeXjbF+ObK/T+KxqMRjUQkHA3pHZTOJxisPFzBKAAAAAABQ6kgQAg7ytbVLs88v4WBAxsdCcnF6ylAtWF1TK0tuXyoNjauk2bdWqmtqHYwWAAAAAACUIhKEyEngzCWnQyg5nooqpg0DAAAAAADH0KQEAAAAAAAAKGMkCAEAAAAAAIAyRoIQAAAAAAAAKGMkCAEAAAAAAIAyRoIQAAAAAAAAKGMkCAEAAAAAAIAyRoIQAAAAAAAAKGMkCAEAAAAAAIAyRoIQAAAAAAAAKGMkCAEAAAAAAIAyRoIQAAAAAAAAKGMkCAEAAAAAAIAyRoIQAAAAAAAAKGMkCAEAAAAAAIAyRoIQAAAAAAAAKGMkCAEAAAAAAIAyRoIQAAAAAAAAKGMkCAEAAAAAAIAyRoIQAAAAAAAAKGOfTHfH7948U8g4ALjEx1c/cjqEknPx7Wn5z9fCTocBoMAu/37O6RBKzuXfzzGeAmXo4tvTTodQcj6++hHjKVCGMuX6UhKEixYtEhGRw3u+vXARAUAZ+cWxF+QXx15wOgwADlm8mAkb86Udw9+dOyuP/t29DkcDAMXvww/eZzwFypiW+1OlJAjb29tlcHBQrl27VpCgALjPsmXL5Atf+ILTYRS9tWvXSjgclitXrjgdCgCHVFZWyte+9jWnwyh6X/va1+TLX/6yzM1RlQmUq0996lPi9/udDqPofeELX5B77rlHzp8/73QoAByyaNEiaW9vT739GplAAAAAAAAAoGwx5wUAAAAAAAAoYyQIAQAAAAAAgDJGghAAAAAAAAAoY/8fvrh5T7E4WfUAAAAASUVORK5CYII=)"
      ]
    },
    {
      "cell_type": "markdown",
      "metadata": {
        "id": "NK3lpEuNTyjW"
      },
      "source": [
        "The first step in the process of developing any NLP system is to collect data relevant\n",
        "to the given task. Even if we’re building a rule-based system, we still need some data\n",
        "to design and test our rules. The data we get is seldom clean, and this is where text\n",
        "cleaning comes into play. After cleaning, text data often has a lot of variations and\n",
        "needs to be converted into a canonical form. This is done in the pre-processing step.\n",
        "This is followed by feature engineering, where we carve out indicators that are most\n",
        "suitable for the task at hand. These indicators are converted into a format that is\n",
        "understandable by modeling algorithms. Then comes the modeling and evaluation\n",
        "phase, where we build one or more models and compare and contrast them using a\n",
        "relevant evaluation metric(s). Once the best model among the ones evaluated is\n",
        "chosen, we move toward deploying this model in production. Finally, we regularly\n",
        "monitor the performance of the model and, if need be, update it to keep up its\n",
        "performance.\n"
      ]
    },
    {
      "cell_type": "markdown",
      "metadata": {
        "id": "bcr0tZ5tKrtb"
      },
      "source": [
        "# Data "
      ]
    },
    {
      "cell_type": "code",
      "execution_count": 120,
      "metadata": {
        "id": "IJar8wRnGxx5"
      },
      "outputs": [],
      "source": [
        "df = pd.read_csv(PATH_DATASET)"
      ]
    },
    {
      "cell_type": "code",
      "execution_count": 121,
      "metadata": {
        "colab": {
          "base_uri": "https://localhost:8080/",
          "height": 424
        },
        "id": "Kg6Q0J9gHdqq",
        "outputId": "49e991e8-d77b-460f-b799-06152c34fee8"
      },
      "outputs": [
        {
          "output_type": "execute_result",
          "data": {
            "text/plain": [
              "        productid          userid  score  \\\n",
              "0      B001E4KFG0  A3SGXH7AUHU8GW    5.0   \n",
              "1      B00813GRG4  A1D87F6ZCVE5NK    1.0   \n",
              "2      B000LQOCH0   ABXLMWJIXXAIN    4.0   \n",
              "3      B000UA0QIQ  A395BORC6FGVXV    2.0   \n",
              "4      B006K2ZZ7K  A1UQRSCLF8GW1T    5.0   \n",
              "...           ...             ...    ...   \n",
              "35167  B000E1DSQS  A2QG0Z96HULRW7    5.0   \n",
              "35168  B000E1DSQS  A3F653OGB0ZF4X    5.0   \n",
              "35169  B000E1DSQS   AJD41FBJD9010    5.0   \n",
              "35170  B000E1DSQS  A33R5P618X7MG7    5.0   \n",
              "35171  B001ATMQK2  A3ECJIHDTDY3AM    5.0   \n",
              "\n",
              "                                                    text  \n",
              "0      I have bought several of the Vitality canned d...  \n",
              "1      Product arrived labeled as Jumbo Salted Peanut...  \n",
              "2      This is a confection that has been around a fe...  \n",
              "3      If you are looking for the secret ingredient i...  \n",
              "4      Great taffy at a great price.  There was a wid...  \n",
              "...                                                  ...  \n",
              "35167  Once I tasted Hazelnut coffee, I was hooked! N...  \n",
              "35168  Has Maxwell House quit making this coffee?  I ...  \n",
              "35169  Nutty, smooth, subtle, with a WONDERFUL aroma-...  \n",
              "35170  Price was right and the taste very good.  We w...  \n",
              "35171  This sauce gives you authentic tonkatsu flavor...  \n",
              "\n",
              "[35172 rows x 4 columns]"
            ],
            "text/html": [
              "\n",
              "  <div id=\"df-5ae99205-5b65-44b8-910c-5025e2199e95\">\n",
              "    <div class=\"colab-df-container\">\n",
              "      <div>\n",
              "<style scoped>\n",
              "    .dataframe tbody tr th:only-of-type {\n",
              "        vertical-align: middle;\n",
              "    }\n",
              "\n",
              "    .dataframe tbody tr th {\n",
              "        vertical-align: top;\n",
              "    }\n",
              "\n",
              "    .dataframe thead th {\n",
              "        text-align: right;\n",
              "    }\n",
              "</style>\n",
              "<table border=\"1\" class=\"dataframe\">\n",
              "  <thead>\n",
              "    <tr style=\"text-align: right;\">\n",
              "      <th></th>\n",
              "      <th>productid</th>\n",
              "      <th>userid</th>\n",
              "      <th>score</th>\n",
              "      <th>text</th>\n",
              "    </tr>\n",
              "  </thead>\n",
              "  <tbody>\n",
              "    <tr>\n",
              "      <th>0</th>\n",
              "      <td>B001E4KFG0</td>\n",
              "      <td>A3SGXH7AUHU8GW</td>\n",
              "      <td>5.0</td>\n",
              "      <td>I have bought several of the Vitality canned d...</td>\n",
              "    </tr>\n",
              "    <tr>\n",
              "      <th>1</th>\n",
              "      <td>B00813GRG4</td>\n",
              "      <td>A1D87F6ZCVE5NK</td>\n",
              "      <td>1.0</td>\n",
              "      <td>Product arrived labeled as Jumbo Salted Peanut...</td>\n",
              "    </tr>\n",
              "    <tr>\n",
              "      <th>2</th>\n",
              "      <td>B000LQOCH0</td>\n",
              "      <td>ABXLMWJIXXAIN</td>\n",
              "      <td>4.0</td>\n",
              "      <td>This is a confection that has been around a fe...</td>\n",
              "    </tr>\n",
              "    <tr>\n",
              "      <th>3</th>\n",
              "      <td>B000UA0QIQ</td>\n",
              "      <td>A395BORC6FGVXV</td>\n",
              "      <td>2.0</td>\n",
              "      <td>If you are looking for the secret ingredient i...</td>\n",
              "    </tr>\n",
              "    <tr>\n",
              "      <th>4</th>\n",
              "      <td>B006K2ZZ7K</td>\n",
              "      <td>A1UQRSCLF8GW1T</td>\n",
              "      <td>5.0</td>\n",
              "      <td>Great taffy at a great price.  There was a wid...</td>\n",
              "    </tr>\n",
              "    <tr>\n",
              "      <th>...</th>\n",
              "      <td>...</td>\n",
              "      <td>...</td>\n",
              "      <td>...</td>\n",
              "      <td>...</td>\n",
              "    </tr>\n",
              "    <tr>\n",
              "      <th>35167</th>\n",
              "      <td>B000E1DSQS</td>\n",
              "      <td>A2QG0Z96HULRW7</td>\n",
              "      <td>5.0</td>\n",
              "      <td>Once I tasted Hazelnut coffee, I was hooked! N...</td>\n",
              "    </tr>\n",
              "    <tr>\n",
              "      <th>35168</th>\n",
              "      <td>B000E1DSQS</td>\n",
              "      <td>A3F653OGB0ZF4X</td>\n",
              "      <td>5.0</td>\n",
              "      <td>Has Maxwell House quit making this coffee?  I ...</td>\n",
              "    </tr>\n",
              "    <tr>\n",
              "      <th>35169</th>\n",
              "      <td>B000E1DSQS</td>\n",
              "      <td>AJD41FBJD9010</td>\n",
              "      <td>5.0</td>\n",
              "      <td>Nutty, smooth, subtle, with a WONDERFUL aroma-...</td>\n",
              "    </tr>\n",
              "    <tr>\n",
              "      <th>35170</th>\n",
              "      <td>B000E1DSQS</td>\n",
              "      <td>A33R5P618X7MG7</td>\n",
              "      <td>5.0</td>\n",
              "      <td>Price was right and the taste very good.  We w...</td>\n",
              "    </tr>\n",
              "    <tr>\n",
              "      <th>35171</th>\n",
              "      <td>B001ATMQK2</td>\n",
              "      <td>A3ECJIHDTDY3AM</td>\n",
              "      <td>5.0</td>\n",
              "      <td>This sauce gives you authentic tonkatsu flavor...</td>\n",
              "    </tr>\n",
              "  </tbody>\n",
              "</table>\n",
              "<p>35172 rows × 4 columns</p>\n",
              "</div>\n",
              "      <button class=\"colab-df-convert\" onclick=\"convertToInteractive('df-5ae99205-5b65-44b8-910c-5025e2199e95')\"\n",
              "              title=\"Convert this dataframe to an interactive table.\"\n",
              "              style=\"display:none;\">\n",
              "        \n",
              "  <svg xmlns=\"http://www.w3.org/2000/svg\" height=\"24px\"viewBox=\"0 0 24 24\"\n",
              "       width=\"24px\">\n",
              "    <path d=\"M0 0h24v24H0V0z\" fill=\"none\"/>\n",
              "    <path d=\"M18.56 5.44l.94 2.06.94-2.06 2.06-.94-2.06-.94-.94-2.06-.94 2.06-2.06.94zm-11 1L8.5 8.5l.94-2.06 2.06-.94-2.06-.94L8.5 2.5l-.94 2.06-2.06.94zm10 10l.94 2.06.94-2.06 2.06-.94-2.06-.94-.94-2.06-.94 2.06-2.06.94z\"/><path d=\"M17.41 7.96l-1.37-1.37c-.4-.4-.92-.59-1.43-.59-.52 0-1.04.2-1.43.59L10.3 9.45l-7.72 7.72c-.78.78-.78 2.05 0 2.83L4 21.41c.39.39.9.59 1.41.59.51 0 1.02-.2 1.41-.59l7.78-7.78 2.81-2.81c.8-.78.8-2.07 0-2.86zM5.41 20L4 18.59l7.72-7.72 1.47 1.35L5.41 20z\"/>\n",
              "  </svg>\n",
              "      </button>\n",
              "      \n",
              "  <style>\n",
              "    .colab-df-container {\n",
              "      display:flex;\n",
              "      flex-wrap:wrap;\n",
              "      gap: 12px;\n",
              "    }\n",
              "\n",
              "    .colab-df-convert {\n",
              "      background-color: #E8F0FE;\n",
              "      border: none;\n",
              "      border-radius: 50%;\n",
              "      cursor: pointer;\n",
              "      display: none;\n",
              "      fill: #1967D2;\n",
              "      height: 32px;\n",
              "      padding: 0 0 0 0;\n",
              "      width: 32px;\n",
              "    }\n",
              "\n",
              "    .colab-df-convert:hover {\n",
              "      background-color: #E2EBFA;\n",
              "      box-shadow: 0px 1px 2px rgba(60, 64, 67, 0.3), 0px 1px 3px 1px rgba(60, 64, 67, 0.15);\n",
              "      fill: #174EA6;\n",
              "    }\n",
              "\n",
              "    [theme=dark] .colab-df-convert {\n",
              "      background-color: #3B4455;\n",
              "      fill: #D2E3FC;\n",
              "    }\n",
              "\n",
              "    [theme=dark] .colab-df-convert:hover {\n",
              "      background-color: #434B5C;\n",
              "      box-shadow: 0px 1px 3px 1px rgba(0, 0, 0, 0.15);\n",
              "      filter: drop-shadow(0px 1px 2px rgba(0, 0, 0, 0.3));\n",
              "      fill: #FFFFFF;\n",
              "    }\n",
              "  </style>\n",
              "\n",
              "      <script>\n",
              "        const buttonEl =\n",
              "          document.querySelector('#df-5ae99205-5b65-44b8-910c-5025e2199e95 button.colab-df-convert');\n",
              "        buttonEl.style.display =\n",
              "          google.colab.kernel.accessAllowed ? 'block' : 'none';\n",
              "\n",
              "        async function convertToInteractive(key) {\n",
              "          const element = document.querySelector('#df-5ae99205-5b65-44b8-910c-5025e2199e95');\n",
              "          const dataTable =\n",
              "            await google.colab.kernel.invokeFunction('convertToInteractive',\n",
              "                                                     [key], {});\n",
              "          if (!dataTable) return;\n",
              "\n",
              "          const docLinkHtml = 'Like what you see? Visit the ' +\n",
              "            '<a target=\"_blank\" href=https://colab.research.google.com/notebooks/data_table.ipynb>data table notebook</a>'\n",
              "            + ' to learn more about interactive tables.';\n",
              "          element.innerHTML = '';\n",
              "          dataTable['output_type'] = 'display_data';\n",
              "          await google.colab.output.renderOutput(dataTable, element);\n",
              "          const docLink = document.createElement('div');\n",
              "          docLink.innerHTML = docLinkHtml;\n",
              "          element.appendChild(docLink);\n",
              "        }\n",
              "      </script>\n",
              "    </div>\n",
              "  </div>\n",
              "  "
            ]
          },
          "metadata": {},
          "execution_count": 121
        }
      ],
      "source": [
        "\n",
        "df"
      ]
    },
    {
      "cell_type": "code",
      "execution_count": 122,
      "metadata": {
        "colab": {
          "base_uri": "https://localhost:8080/"
        },
        "id": "Tn4JjIG-U28s",
        "outputId": "c8295078-bb5b-4977-c944-d96d3bf9698e"
      },
      "outputs": [
        {
          "output_type": "stream",
          "name": "stdout",
          "text": [
            "<class 'pandas.core.frame.DataFrame'>\n",
            "(35172, 4)\n"
          ]
        }
      ],
      "source": [
        "print(type(df))\n",
        "print(df.shape)"
      ]
    },
    {
      "cell_type": "code",
      "execution_count": 123,
      "metadata": {
        "colab": {
          "base_uri": "https://localhost:8080/"
        },
        "id": "sW6X_tR7-zSj",
        "outputId": "f9858f75-0cd5-456a-d6e7-6c34c451d14f"
      },
      "outputs": [
        {
          "output_type": "stream",
          "name": "stdout",
          "text": [
            "Index(['productid', 'userid', 'score', 'text'], dtype='object')\n"
          ]
        }
      ],
      "source": [
        "print(df.columns)"
      ]
    },
    {
      "cell_type": "code",
      "execution_count": 124,
      "metadata": {
        "colab": {
          "base_uri": "https://localhost:8080/"
        },
        "id": "izZwz73VvNBz",
        "outputId": "28eccf26-938a-48dd-de9c-05c9f3445557"
      },
      "outputs": [
        {
          "output_type": "stream",
          "name": "stdout",
          "text": [
            "There are 35172 rows and 4 columns\n"
          ]
        }
      ],
      "source": [
        "nRow, nCol = df.shape\n",
        "print(f'There are {nRow} rows and {nCol} columns')"
      ]
    },
    {
      "cell_type": "code",
      "execution_count": 125,
      "metadata": {
        "colab": {
          "base_uri": "https://localhost:8080/",
          "height": 238
        },
        "id": "0leB5LqdYwuD",
        "outputId": "e51ba901-71e3-4956-b273-d1f76262ff10"
      },
      "outputs": [
        {
          "output_type": "execute_result",
          "data": {
            "text/plain": [
              "    productid          userid  score  \\\n",
              "0  B001E4KFG0  A3SGXH7AUHU8GW    5.0   \n",
              "1  B00813GRG4  A1D87F6ZCVE5NK    1.0   \n",
              "2  B000LQOCH0   ABXLMWJIXXAIN    4.0   \n",
              "3  B000UA0QIQ  A395BORC6FGVXV    2.0   \n",
              "4  B006K2ZZ7K  A1UQRSCLF8GW1T    5.0   \n",
              "5  B006K2ZZ7K   ADT0SRK1MGOEU    4.0   \n",
              "\n",
              "                                                text  \n",
              "0  I have bought several of the Vitality canned d...  \n",
              "1  Product arrived labeled as Jumbo Salted Peanut...  \n",
              "2  This is a confection that has been around a fe...  \n",
              "3  If you are looking for the secret ingredient i...  \n",
              "4  Great taffy at a great price.  There was a wid...  \n",
              "5  I got a wild hair for taffy and ordered this f...  "
            ],
            "text/html": [
              "\n",
              "  <div id=\"df-283df9f8-a027-47b7-80ab-06c31cb5aaf6\">\n",
              "    <div class=\"colab-df-container\">\n",
              "      <div>\n",
              "<style scoped>\n",
              "    .dataframe tbody tr th:only-of-type {\n",
              "        vertical-align: middle;\n",
              "    }\n",
              "\n",
              "    .dataframe tbody tr th {\n",
              "        vertical-align: top;\n",
              "    }\n",
              "\n",
              "    .dataframe thead th {\n",
              "        text-align: right;\n",
              "    }\n",
              "</style>\n",
              "<table border=\"1\" class=\"dataframe\">\n",
              "  <thead>\n",
              "    <tr style=\"text-align: right;\">\n",
              "      <th></th>\n",
              "      <th>productid</th>\n",
              "      <th>userid</th>\n",
              "      <th>score</th>\n",
              "      <th>text</th>\n",
              "    </tr>\n",
              "  </thead>\n",
              "  <tbody>\n",
              "    <tr>\n",
              "      <th>0</th>\n",
              "      <td>B001E4KFG0</td>\n",
              "      <td>A3SGXH7AUHU8GW</td>\n",
              "      <td>5.0</td>\n",
              "      <td>I have bought several of the Vitality canned d...</td>\n",
              "    </tr>\n",
              "    <tr>\n",
              "      <th>1</th>\n",
              "      <td>B00813GRG4</td>\n",
              "      <td>A1D87F6ZCVE5NK</td>\n",
              "      <td>1.0</td>\n",
              "      <td>Product arrived labeled as Jumbo Salted Peanut...</td>\n",
              "    </tr>\n",
              "    <tr>\n",
              "      <th>2</th>\n",
              "      <td>B000LQOCH0</td>\n",
              "      <td>ABXLMWJIXXAIN</td>\n",
              "      <td>4.0</td>\n",
              "      <td>This is a confection that has been around a fe...</td>\n",
              "    </tr>\n",
              "    <tr>\n",
              "      <th>3</th>\n",
              "      <td>B000UA0QIQ</td>\n",
              "      <td>A395BORC6FGVXV</td>\n",
              "      <td>2.0</td>\n",
              "      <td>If you are looking for the secret ingredient i...</td>\n",
              "    </tr>\n",
              "    <tr>\n",
              "      <th>4</th>\n",
              "      <td>B006K2ZZ7K</td>\n",
              "      <td>A1UQRSCLF8GW1T</td>\n",
              "      <td>5.0</td>\n",
              "      <td>Great taffy at a great price.  There was a wid...</td>\n",
              "    </tr>\n",
              "    <tr>\n",
              "      <th>5</th>\n",
              "      <td>B006K2ZZ7K</td>\n",
              "      <td>ADT0SRK1MGOEU</td>\n",
              "      <td>4.0</td>\n",
              "      <td>I got a wild hair for taffy and ordered this f...</td>\n",
              "    </tr>\n",
              "  </tbody>\n",
              "</table>\n",
              "</div>\n",
              "      <button class=\"colab-df-convert\" onclick=\"convertToInteractive('df-283df9f8-a027-47b7-80ab-06c31cb5aaf6')\"\n",
              "              title=\"Convert this dataframe to an interactive table.\"\n",
              "              style=\"display:none;\">\n",
              "        \n",
              "  <svg xmlns=\"http://www.w3.org/2000/svg\" height=\"24px\"viewBox=\"0 0 24 24\"\n",
              "       width=\"24px\">\n",
              "    <path d=\"M0 0h24v24H0V0z\" fill=\"none\"/>\n",
              "    <path d=\"M18.56 5.44l.94 2.06.94-2.06 2.06-.94-2.06-.94-.94-2.06-.94 2.06-2.06.94zm-11 1L8.5 8.5l.94-2.06 2.06-.94-2.06-.94L8.5 2.5l-.94 2.06-2.06.94zm10 10l.94 2.06.94-2.06 2.06-.94-2.06-.94-.94-2.06-.94 2.06-2.06.94z\"/><path d=\"M17.41 7.96l-1.37-1.37c-.4-.4-.92-.59-1.43-.59-.52 0-1.04.2-1.43.59L10.3 9.45l-7.72 7.72c-.78.78-.78 2.05 0 2.83L4 21.41c.39.39.9.59 1.41.59.51 0 1.02-.2 1.41-.59l7.78-7.78 2.81-2.81c.8-.78.8-2.07 0-2.86zM5.41 20L4 18.59l7.72-7.72 1.47 1.35L5.41 20z\"/>\n",
              "  </svg>\n",
              "      </button>\n",
              "      \n",
              "  <style>\n",
              "    .colab-df-container {\n",
              "      display:flex;\n",
              "      flex-wrap:wrap;\n",
              "      gap: 12px;\n",
              "    }\n",
              "\n",
              "    .colab-df-convert {\n",
              "      background-color: #E8F0FE;\n",
              "      border: none;\n",
              "      border-radius: 50%;\n",
              "      cursor: pointer;\n",
              "      display: none;\n",
              "      fill: #1967D2;\n",
              "      height: 32px;\n",
              "      padding: 0 0 0 0;\n",
              "      width: 32px;\n",
              "    }\n",
              "\n",
              "    .colab-df-convert:hover {\n",
              "      background-color: #E2EBFA;\n",
              "      box-shadow: 0px 1px 2px rgba(60, 64, 67, 0.3), 0px 1px 3px 1px rgba(60, 64, 67, 0.15);\n",
              "      fill: #174EA6;\n",
              "    }\n",
              "\n",
              "    [theme=dark] .colab-df-convert {\n",
              "      background-color: #3B4455;\n",
              "      fill: #D2E3FC;\n",
              "    }\n",
              "\n",
              "    [theme=dark] .colab-df-convert:hover {\n",
              "      background-color: #434B5C;\n",
              "      box-shadow: 0px 1px 3px 1px rgba(0, 0, 0, 0.15);\n",
              "      filter: drop-shadow(0px 1px 2px rgba(0, 0, 0, 0.3));\n",
              "      fill: #FFFFFF;\n",
              "    }\n",
              "  </style>\n",
              "\n",
              "      <script>\n",
              "        const buttonEl =\n",
              "          document.querySelector('#df-283df9f8-a027-47b7-80ab-06c31cb5aaf6 button.colab-df-convert');\n",
              "        buttonEl.style.display =\n",
              "          google.colab.kernel.accessAllowed ? 'block' : 'none';\n",
              "\n",
              "        async function convertToInteractive(key) {\n",
              "          const element = document.querySelector('#df-283df9f8-a027-47b7-80ab-06c31cb5aaf6');\n",
              "          const dataTable =\n",
              "            await google.colab.kernel.invokeFunction('convertToInteractive',\n",
              "                                                     [key], {});\n",
              "          if (!dataTable) return;\n",
              "\n",
              "          const docLinkHtml = 'Like what you see? Visit the ' +\n",
              "            '<a target=\"_blank\" href=https://colab.research.google.com/notebooks/data_table.ipynb>data table notebook</a>'\n",
              "            + ' to learn more about interactive tables.';\n",
              "          element.innerHTML = '';\n",
              "          dataTable['output_type'] = 'display_data';\n",
              "          await google.colab.output.renderOutput(dataTable, element);\n",
              "          const docLink = document.createElement('div');\n",
              "          docLink.innerHTML = docLinkHtml;\n",
              "          element.appendChild(docLink);\n",
              "        }\n",
              "      </script>\n",
              "    </div>\n",
              "  </div>\n",
              "  "
            ]
          },
          "metadata": {},
          "execution_count": 125
        }
      ],
      "source": [
        "df.head(6)"
      ]
    },
    {
      "cell_type": "markdown",
      "metadata": {
        "id": "PDHROSt0_h7L"
      },
      "source": [
        "Let's isolate the useful columns to our end. "
      ]
    },
    {
      "cell_type": "code",
      "execution_count": 126,
      "metadata": {
        "id": "oXzoLMTS_hvJ"
      },
      "outputs": [],
      "source": [
        "df = df[[\"text\",\"score\"]]"
      ]
    },
    {
      "cell_type": "code",
      "execution_count": 127,
      "metadata": {
        "colab": {
          "base_uri": "https://localhost:8080/",
          "height": 363
        },
        "id": "aGYoq1n9Hwgm",
        "outputId": "bc851b56-370a-4a60-a8b7-b5cf11e3c7af"
      },
      "outputs": [
        {
          "output_type": "execute_result",
          "data": {
            "text/plain": [
              "                                                 text  score\n",
              "30  I have never been a huge coffee fan. However, ...    5.0\n",
              "31  This offer is a great price and a great taste,...    5.0\n",
              "32  McCann's Instant Oatmeal is great if you must ...    4.0\n",
              "33  This is a good instant oatmeal from the best o...    4.0\n",
              "34  Instant oatmeal can become soggy the minute th...    5.0\n",
              "35  McCann's Instant Irish Oatmeal, Variety Pack o...    4.0\n",
              "36  For those of us with celiac disease this produ...    5.0\n",
              "37  What else do you need to know? Oatmeal, instan...    5.0\n",
              "38  I WAS VISITING MY FRIEND NATE THE OTHER MORNIN...    4.0\n",
              "39  I ordered this for my wife as it was reccomend...    5.0"
            ],
            "text/html": [
              "\n",
              "  <div id=\"df-d7f543da-2165-4765-8482-3836cf998a2c\">\n",
              "    <div class=\"colab-df-container\">\n",
              "      <div>\n",
              "<style scoped>\n",
              "    .dataframe tbody tr th:only-of-type {\n",
              "        vertical-align: middle;\n",
              "    }\n",
              "\n",
              "    .dataframe tbody tr th {\n",
              "        vertical-align: top;\n",
              "    }\n",
              "\n",
              "    .dataframe thead th {\n",
              "        text-align: right;\n",
              "    }\n",
              "</style>\n",
              "<table border=\"1\" class=\"dataframe\">\n",
              "  <thead>\n",
              "    <tr style=\"text-align: right;\">\n",
              "      <th></th>\n",
              "      <th>text</th>\n",
              "      <th>score</th>\n",
              "    </tr>\n",
              "  </thead>\n",
              "  <tbody>\n",
              "    <tr>\n",
              "      <th>30</th>\n",
              "      <td>I have never been a huge coffee fan. However, ...</td>\n",
              "      <td>5.0</td>\n",
              "    </tr>\n",
              "    <tr>\n",
              "      <th>31</th>\n",
              "      <td>This offer is a great price and a great taste,...</td>\n",
              "      <td>5.0</td>\n",
              "    </tr>\n",
              "    <tr>\n",
              "      <th>32</th>\n",
              "      <td>McCann's Instant Oatmeal is great if you must ...</td>\n",
              "      <td>4.0</td>\n",
              "    </tr>\n",
              "    <tr>\n",
              "      <th>33</th>\n",
              "      <td>This is a good instant oatmeal from the best o...</td>\n",
              "      <td>4.0</td>\n",
              "    </tr>\n",
              "    <tr>\n",
              "      <th>34</th>\n",
              "      <td>Instant oatmeal can become soggy the minute th...</td>\n",
              "      <td>5.0</td>\n",
              "    </tr>\n",
              "    <tr>\n",
              "      <th>35</th>\n",
              "      <td>McCann's Instant Irish Oatmeal, Variety Pack o...</td>\n",
              "      <td>4.0</td>\n",
              "    </tr>\n",
              "    <tr>\n",
              "      <th>36</th>\n",
              "      <td>For those of us with celiac disease this produ...</td>\n",
              "      <td>5.0</td>\n",
              "    </tr>\n",
              "    <tr>\n",
              "      <th>37</th>\n",
              "      <td>What else do you need to know? Oatmeal, instan...</td>\n",
              "      <td>5.0</td>\n",
              "    </tr>\n",
              "    <tr>\n",
              "      <th>38</th>\n",
              "      <td>I WAS VISITING MY FRIEND NATE THE OTHER MORNIN...</td>\n",
              "      <td>4.0</td>\n",
              "    </tr>\n",
              "    <tr>\n",
              "      <th>39</th>\n",
              "      <td>I ordered this for my wife as it was reccomend...</td>\n",
              "      <td>5.0</td>\n",
              "    </tr>\n",
              "  </tbody>\n",
              "</table>\n",
              "</div>\n",
              "      <button class=\"colab-df-convert\" onclick=\"convertToInteractive('df-d7f543da-2165-4765-8482-3836cf998a2c')\"\n",
              "              title=\"Convert this dataframe to an interactive table.\"\n",
              "              style=\"display:none;\">\n",
              "        \n",
              "  <svg xmlns=\"http://www.w3.org/2000/svg\" height=\"24px\"viewBox=\"0 0 24 24\"\n",
              "       width=\"24px\">\n",
              "    <path d=\"M0 0h24v24H0V0z\" fill=\"none\"/>\n",
              "    <path d=\"M18.56 5.44l.94 2.06.94-2.06 2.06-.94-2.06-.94-.94-2.06-.94 2.06-2.06.94zm-11 1L8.5 8.5l.94-2.06 2.06-.94-2.06-.94L8.5 2.5l-.94 2.06-2.06.94zm10 10l.94 2.06.94-2.06 2.06-.94-2.06-.94-.94-2.06-.94 2.06-2.06.94z\"/><path d=\"M17.41 7.96l-1.37-1.37c-.4-.4-.92-.59-1.43-.59-.52 0-1.04.2-1.43.59L10.3 9.45l-7.72 7.72c-.78.78-.78 2.05 0 2.83L4 21.41c.39.39.9.59 1.41.59.51 0 1.02-.2 1.41-.59l7.78-7.78 2.81-2.81c.8-.78.8-2.07 0-2.86zM5.41 20L4 18.59l7.72-7.72 1.47 1.35L5.41 20z\"/>\n",
              "  </svg>\n",
              "      </button>\n",
              "      \n",
              "  <style>\n",
              "    .colab-df-container {\n",
              "      display:flex;\n",
              "      flex-wrap:wrap;\n",
              "      gap: 12px;\n",
              "    }\n",
              "\n",
              "    .colab-df-convert {\n",
              "      background-color: #E8F0FE;\n",
              "      border: none;\n",
              "      border-radius: 50%;\n",
              "      cursor: pointer;\n",
              "      display: none;\n",
              "      fill: #1967D2;\n",
              "      height: 32px;\n",
              "      padding: 0 0 0 0;\n",
              "      width: 32px;\n",
              "    }\n",
              "\n",
              "    .colab-df-convert:hover {\n",
              "      background-color: #E2EBFA;\n",
              "      box-shadow: 0px 1px 2px rgba(60, 64, 67, 0.3), 0px 1px 3px 1px rgba(60, 64, 67, 0.15);\n",
              "      fill: #174EA6;\n",
              "    }\n",
              "\n",
              "    [theme=dark] .colab-df-convert {\n",
              "      background-color: #3B4455;\n",
              "      fill: #D2E3FC;\n",
              "    }\n",
              "\n",
              "    [theme=dark] .colab-df-convert:hover {\n",
              "      background-color: #434B5C;\n",
              "      box-shadow: 0px 1px 3px 1px rgba(0, 0, 0, 0.15);\n",
              "      filter: drop-shadow(0px 1px 2px rgba(0, 0, 0, 0.3));\n",
              "      fill: #FFFFFF;\n",
              "    }\n",
              "  </style>\n",
              "\n",
              "      <script>\n",
              "        const buttonEl =\n",
              "          document.querySelector('#df-d7f543da-2165-4765-8482-3836cf998a2c button.colab-df-convert');\n",
              "        buttonEl.style.display =\n",
              "          google.colab.kernel.accessAllowed ? 'block' : 'none';\n",
              "\n",
              "        async function convertToInteractive(key) {\n",
              "          const element = document.querySelector('#df-d7f543da-2165-4765-8482-3836cf998a2c');\n",
              "          const dataTable =\n",
              "            await google.colab.kernel.invokeFunction('convertToInteractive',\n",
              "                                                     [key], {});\n",
              "          if (!dataTable) return;\n",
              "\n",
              "          const docLinkHtml = 'Like what you see? Visit the ' +\n",
              "            '<a target=\"_blank\" href=https://colab.research.google.com/notebooks/data_table.ipynb>data table notebook</a>'\n",
              "            + ' to learn more about interactive tables.';\n",
              "          element.innerHTML = '';\n",
              "          dataTable['output_type'] = 'display_data';\n",
              "          await google.colab.output.renderOutput(dataTable, element);\n",
              "          const docLink = document.createElement('div');\n",
              "          docLink.innerHTML = docLinkHtml;\n",
              "          element.appendChild(docLink);\n",
              "        }\n",
              "      </script>\n",
              "    </div>\n",
              "  </div>\n",
              "  "
            ]
          },
          "metadata": {},
          "execution_count": 127
        }
      ],
      "source": [
        "df.iloc[30:40]"
      ]
    },
    {
      "cell_type": "markdown",
      "metadata": {
        "id": "dnLD62LKpEBg"
      },
      "source": [
        "## Looking at the Class Distribution\n"
      ]
    },
    {
      "cell_type": "code",
      "execution_count": 128,
      "metadata": {
        "colab": {
          "base_uri": "https://localhost:8080/",
          "height": 452
        },
        "id": "FJH7CXZhpFHD",
        "outputId": "5d2e7d2b-e263-48ca-f9c4-65aff7348a7e"
      },
      "outputs": [
        {
          "output_type": "display_data",
          "data": {
            "text/plain": [
              "<Figure size 640x480 with 1 Axes>"
            ],
            "image/png": "[encoded data removed]"
          },
          "metadata": {}
        }
      ],
      "source": [
        "import matplotlib.pyplot as plt\n",
        "df[\"score\"].value_counts(ascending=True).plot.barh()\n",
        "plt.title(\"Frequency of Classes\")\n",
        "plt.show()"
      ]
    },
    {
      "cell_type": "markdown",
      "metadata": {
        "id": "myBZ7TWDpsMS"
      },
      "source": [
        "In this case, we can see that the dataset is heavily imbalanced; There are several ways to deal with imbalanced data, including:\n",
        "- Randomly oversample the minority class.\n",
        "- Randomly undersample the majority class.\n",
        "- Gather more labeled data from the underrepresented classes."
      ]
    },
    {
      "cell_type": "markdown",
      "metadata": {
        "id": "T5fkmgYirZVn"
      },
      "source": [
        "## How Long Are Our Review?\n",
        "Transformer models have a maximum input sequence length that is referred to as the\n",
        "maximum context size. For applications using DistilBERT, the maximum context size\n",
        "is 512 tokens, which amounts to a few paragraphs of text. "
      ]
    },
    {
      "cell_type": "code",
      "execution_count": 129,
      "metadata": {
        "colab": {
          "base_uri": "https://localhost:8080/",
          "height": 547
        },
        "id": "GIFpYQlpraj8",
        "outputId": "36394139-ca9b-43ea-a0ff-c5fa77c3ef39"
      },
      "outputs": [
        {
          "output_type": "stream",
          "name": "stderr",
          "text": [
            "<ipython-input-129-bd572601d4ba>:1: SettingWithCopyWarning: \n",
            "A value is trying to be set on a copy of a slice from a DataFrame.\n",
            "Try using .loc[row_indexer,col_indexer] = value instead\n",
            "\n",
            "See the caveats in the documentation: https://pandas.pydata.org/pandas-docs/stable/user_guide/indexing.html#returning-a-view-versus-a-copy\n",
            "  df[\"Words Per Review\"] = df[\"text\"].str.split().apply(len)\n"
          ]
        },
        {
          "output_type": "display_data",
          "data": {
            "text/plain": [
              "<Figure size 640x480 with 1 Axes>"
            ],
            "image/png": "[encoded data removed]"
          },
          "metadata": {}
        }
      ],
      "source": [
        "df[\"Words Per Review\"] = df[\"text\"].str.split().apply(len)\n",
        "df.boxplot(\"Words Per Review\", by=\"score\", grid=False,\n",
        "showfliers=False, color=\"black\")\n",
        "plt.suptitle(\"\")\n",
        "plt.xlabel(\"\")\n",
        "plt.show()"
      ]
    },
    {
      "cell_type": "markdown",
      "metadata": {
        "id": "B4I5bRyRsUUE"
      },
      "source": [
        "From the plot we see that for each emotion, most tweets are around 60 words long\n",
        "and the longest tweets are well below DistilBERT’s maximum context size. Texts that\n",
        "are longer than a model’s context size need to be truncated, which can lead to a loss in\n",
        "performance if the truncated text contains crucial information; in this case, it looks\n",
        "like that won’t be an issue."
      ]
    },
    {
      "cell_type": "markdown",
      "metadata": {
        "id": "a_5j94dWJLSc"
      },
      "source": [
        "Map target label to String\n",
        "1. VERY NEGATIVE\n",
        "2. NEGATIVE\n",
        "3. NEUTRAL\n",
        "4. POSITIVE\n",
        "5. EXCELLENT\n"
      ]
    },
    {
      "cell_type": "markdown",
      "metadata": {
        "id": "pn4qZJlAK58i"
      },
      "source": [
        "# Text Extraction and Cleanup\n",
        "Text extraction and cleanup refers to the process of extracting raw text from the input\n",
        "data by removing all the other non-textual information, such as markup, metadata,\n",
        "etc., and converting the text to the required encoding format"
      ]
    },
    {
      "cell_type": "code",
      "execution_count": 130,
      "metadata": {
        "id": "PwmdBm3Z9aMb"
      },
      "outputs": [],
      "source": [
        "from bs4 import BeautifulSoup\n",
        "\n",
        "def clean_html_tags(row):\n",
        "  soupified = BeautifulSoup(row, \"html.parser\")\n",
        "  for linebreak in soupified.find_all('br'): #remove br\n",
        "    linebreak.replace_with(\" \")\n",
        "\n",
        "  span_tags = soupified.find_all('span') # remove span\n",
        "  for span in span_tags:\n",
        "      span.unwrap()\n",
        "  \n",
        "  # string = str(str(soupified).encode(\"utf-8\"))\n",
        "  # return str(string(soupified).replace(\"&lt;a href=\\\"http\\'\",\"\").replace(\"...\",\" \"))\n",
        "  stri = str(str(soupified).replace(\"a href=\\\"http\\'\",\"\").replace(\"...\",\" \")).replace(\"<a href=\\\"http\",\"\")\n",
        "  return str(str(stri).encode(\"utf-8\")).replace(\"\\\\;&lt\\;;xefxbfxbd;\\xef\\xbf\\xbdt\",\"\").replace(\"&amp\\;\",\"&\")\n",
        " # return str(str(soupified).encode(\"utf-8\")).replace(\"&lt;a href=\\\"http\\'\",\"\") # utf-8 conversion"
      ]
    },
    {
      "cell_type": "code",
      "execution_count": 131,
      "metadata": {
        "colab": {
          "base_uri": "https://localhost:8080/"
        },
        "id": "nl4uZ4QTK8pg",
        "outputId": "cd3dd491-7982-411a-c856-47a157d3c893"
      },
      "outputs": [
        {
          "output_type": "stream",
          "name": "stdout",
          "text": [
            "I have bought several of the Vitality canned dog food products and have found them all to be of good quality. The product looks more like a stew than a processed meat and it smells better. My Labrador is finicky and she appreciates this product better than  most.\n",
            "b'I have bought several of the Vitality canned dog food products and have found them all to be of good quality. The product looks more like a stew than a processed meat and it smells better. My Labrador is finicky and she appreciates this product better than  most.'\n",
            "Product arrived labeled as Jumbo Salted Peanuts...the peanuts were actually small sized unsalted. Not sure if this was an error or if the vendor intended to represent the product as \"Jumbo\".\n",
            "b'Product arrived labeled as Jumbo Salted Peanuts the peanuts were actually small sized unsalted. Not sure if this was an error or if the vendor intended to represent the product as \"Jumbo\".'\n",
            "This is a confection that has been around a few centuries.  It is a light, pillowy citrus gelatin with nuts - in this case Filberts. And it is cut into tiny squares and then liberally coated with powdered sugar.  And it is a tiny mouthful of heaven.  Not too chewy, and very flavorful.  I highly recommend this yummy treat.  If you are familiar with the story of C.S. Lewis' \"The Lion, The Witch, and The Wardrobe\" - this is the treat that seduces Edmund into selling out his Brother and Sisters to the Witch.\n",
            "b'This is a confection that has been around a few centuries.  It is a light, pillowy citrus gelatin with nuts - in this case Filberts. And it is cut into tiny squares and then liberally coated with powdered sugar.  And it is a tiny mouthful of heaven.  Not too chewy, and very flavorful.  I highly recommend this yummy treat.  If you are familiar with the story of C.S. Lewis\\' \"The Lion, The Witch, and The Wardrobe\" - this is the treat that seduces Edmund into selling out his Brother and Sisters to the Witch.'\n",
            "If you are looking for the secret ingredient in Robitussin I believe I have found it.  I got this in addition to the Root Beer Extract I ordered (which was good) and made some cherry soda.  The flavor is very medicinal.\n",
            "b'If you are looking for the secret ingredient in Robitussin I believe I have found it.  I got this in addition to the Root Beer Extract I ordered (which was good) and made some cherry soda.  The flavor is very medicinal.'\n",
            "Great taffy at a great price.  There was a wide assortment of yummy taffy.  Delivery was very quick.  If your a taffy lover, this is a deal.\n",
            "b'Great taffy at a great price.  There was a wide assortment of yummy taffy.  Delivery was very quick.  If your a taffy lover, this is a deal.'\n",
            "I got a wild hair for taffy and ordered this five pound bag. The taffy was all very enjoyable with many flavors\n",
            "b'I got a wild hair for taffy and ordered this five pound bag. The taffy was all very enjoyable with many flavors'\n",
            "This saltwater taffy had great flavors and was very soft and chewy.  Each candy was individually wrapped well.  None of the candies were stuck together, which did happen in the expensive version, Fralinger's.  Would highly recommend this candy!  I served it at a beach-themed party and everyone loved it!\n",
            "b\"This saltwater taffy had great flavors and was very soft and chewy.  Each candy was individually wrapped well.  None of the candies were stuck together, which did happen in the expensive version, Fralinger's.  Would highly recommend this candy!  I served it at a beach-themed party and everyone loved it!\"\n",
            "This taffy is so good.  It is very soft and chewy.  The flavors are amazing.  I would definitely recommend you buying it.  Very satisfying!!\n",
            "b'This taffy is so good.  It is very soft and chewy.  The flavors are amazing.  I would definitely recommend you buying it.  Very satisfying!!'\n",
            "Right now I'm mostly just sprouting this so my cats can eat the grass. They love it. I rotate it around with Wheatgrass and Rye too\n",
            "b\"Right now I'm mostly just sprouting this so my cats can eat the grass. They love it. I rotate it around with Wheatgrass and Rye too\"\n",
            "This is a very healthy dog food. Good for their digestion. Also good for small puppies. My dog eats her required amount at every feeding.\n",
            "b'This is a very healthy dog food. Good for their digestion. Also good for small puppies. My dog eats her required amount at every feeding.'\n",
            "I don't know if it's the cactus or the tequila or just the unique combination of ingredients, but the flavour of this hot sauce makes it one of a kind!  We picked up a bottle once on a trip we were on and brought it back home with us and were totally blown away!  When we realized that we simply couldn't find it anywhere in our city we were bummed.<br /><br />Now, because of the magic of the internet, we have a case of the sauce and are ecstatic because of it.<br /><br />If you love hot sauce..I mean really love hot sauce, but don't want a sauce that tastelessly burns your throat, grab a bottle of Tequila Picante Gourmet de Inclan.  Just realize that once you taste it, you will never want to use any other sauce.<br /><br />Thank you for the personal, incredible service!\n",
            "b\"I don't know if it's the cactus or the tequila or just the unique combination of ingredients, but the flavour of this hot sauce makes it one of a kind!  We picked up a bottle once on a trip we were on and brought it back home with us and were totally blown away!  When we realized that we simply couldn't find it anywhere in our city we were bummed.  Now, because of the magic of the internet, we have a case of the sauce and are ecstatic because of it.  If you love hot sauce..I mean really love hot sauce, but don't want a sauce that tastelessly burns your throat, grab a bottle of Tequila Picante Gourmet de Inclan.  Just realize that once you taste it, you will never want to use any other sauce.  Thank you for the personal, incredible service!\"\n",
            "One of my boys needed to lose some weight and the other didn't.  I put this food on the floor for the chubby guy, and the protein-rich, no by-product food up higher where only my skinny boy can jump.  The higher food sits going stale.  They both really go for this food.  And my chubby boy has been losing about an ounce a week.\n",
            "b\"One of my boys needed to lose some weight and the other didn't.  I put this food on the floor for the chubby guy, and the protein-rich, no by-product food up higher where only my skinny boy can jump.  The higher food sits going stale.  They both really go for this food.  And my chubby boy has been losing about an ounce a week.\"\n",
            "My cats have been happily eating Felidae Platinum for more than two years. I just got a new bag and the shape of the food is different. They tried the new food when I first put it in their bowls and now the bowls sit full and the kitties will not touch the food. I've noticed similar reviews related to formula changes in the past. Unfortunately, I now need to find a new food that my cats will eat.\n",
            "b\"My cats have been happily eating Felidae Platinum for more than two years. I just got a new bag and the shape of the food is different. They tried the new food when I first put it in their bowls and now the bowls sit full and the kitties will not touch the food. I've noticed similar reviews related to formula changes in the past. Unfortunately, I now need to find a new food that my cats will eat.\"\n",
            "good flavor! these came securely packed... they were fresh and delicious! i love these Twizzlers!\n",
            "b'good flavor! these came securely packed  they were fresh and delicious! i love these Twizzlers!'\n",
            "The Strawberry Twizzlers are my guilty pleasure - yummy. Six pounds will be around for a while with my son and I.\n",
            "b'The Strawberry Twizzlers are my guilty pleasure - yummy. Six pounds will be around for a while with my son and I.'\n",
            "My daughter loves twizzlers and this shipment of six pounds really hit the spot. It's exactly what you would expect...six packages of strawberry twizzlers.\n",
            "b\"My daughter loves twizzlers and this shipment of six pounds really hit the spot. It's exactly what you would expect six packages of strawberry twizzlers.\"\n",
            "I love eating them and they are good for watching TV and looking at movies! It is not too sweet. I like to transfer them to a zip lock baggie so they stay fresh so I can take my time eating them.\n",
            "b'I love eating them and they are good for watching TV and looking at movies! It is not too sweet. I like to transfer them to a zip lock baggie so they stay fresh so I can take my time eating them.'\n",
            "I am very satisfied with my Twizzler purchase.  I shared these with others and we have all enjoyed them.  I will definitely be ordering more.\n",
            "b'I am very satisfied with my Twizzler purchase.  I shared these with others and we have all enjoyed them.  I will definitely be ordering more.'\n",
            "Twizzlers, Strawberry my childhood favorite candy, made in Lancaster Pennsylvania by Y & S Candies, Inc. one of the oldest confectionery Firms in the United States, now a Subsidiary of the Hershey Company, the Company was established in 1845 as Young and Smylie, they also make Apple Licorice Twists, Green Color and Blue Raspberry Licorice Twists, I like them all<br /><br />I keep it in a dry cool place because is not recommended it to put it in the fridge. According to the Guinness Book of Records, the longest Licorice Twist ever made measured 1.200 Feet (370 M) and weighted 100 Pounds (45 Kg) and was made by Y & S Candies, Inc. This Record-Breaking Twist became a Guinness World Record on July 19, 1998. This Product is Kosher! Thank You\n",
            "b'Twizzlers, Strawberry my childhood favorite candy, made in Lancaster Pennsylvania by Y &amp; S Candies, Inc. one of the oldest confectionery Firms in the United States, now a Subsidiary of the Hershey Company, the Company was established in 1845 as Young and Smylie, they also make Apple Licorice Twists, Green Color and Blue Raspberry Licorice Twists, I like them all  I keep it in a dry cool place because is not recommended it to put it in the fridge. According to the Guinness Book of Records, the longest Licorice Twist ever made measured 1.200 Feet (370 M) and weighted 100 Pounds (45 Kg) and was made by Y &amp; S Candies, Inc. This Record-Breaking Twist became a Guinness World Record on July 19, 1998. This Product is Kosher! Thank You'\n",
            "Candy was delivered very fast and was purchased at a reasonable price.  I was home bound and unable to get to a store so this was perfect for me.\n",
            "b'Candy was delivered very fast and was purchased at a reasonable price.  I was home bound and unable to get to a store so this was perfect for me.'\n",
            "My husband is a Twizzlers addict.  We've bought these many times from Amazon because we're government employees living overseas and can't get them in the country we are assigned to.  They've always been fresh and tasty, packed well and arrive in a timely manner.\n",
            "b\"My husband is a Twizzlers addict.  We've bought these many times from Amazon because we're government employees living overseas and can't get them in the country we are assigned to.  They've always been fresh and tasty, packed well and arrive in a timely manner.\"\n",
            "I bought these for my husband who is currently overseas. He loves these, and apparently his staff likes them also.<br />There are generous amounts of Twizzlers in each 16-ounce bag, and this was well worth the price. <a href=\"http\n",
            "b'I bought these for my husband who is currently overseas. He loves these, and apparently his staff likes them also. There are generous amounts of Twizzlers in each 16-ounce bag, and this was well worth the price. &lt;a href=\"http'\n",
            "I can remember buying this candy as a kid and the quality hasn't dropped in all these years. Still a superb product you won't be disappointed with.\n",
            "b\"I can remember buying this candy as a kid and the quality hasn't dropped in all these years. Still a superb product you won't be disappointed with.\"\n",
            "I love this candy.  After weight watchers I had to cut back but still have a craving for it.\n",
            "b'I love this candy.  After weight watchers I had to cut back but still have a craving for it.'\n",
            "I have lived out of the US for over 7 yrs now, and I so miss my Twizzlers!!  When I go back to visit or someone visits me, I always stock up.  All I can say is YUM!<br />Sell these in Mexico and you will have a faithful buyer, more often than I'm able to buy them right now.\n",
            "b\"I have lived out of the US for over 7 yrs now, and I so miss my Twizzlers!!  When I go back to visit or someone visits me, I always stock up.  All I can say is YUM! Sell these in Mexico and you will have a faithful buyer, more often than I'm able to buy them right now.\"\n",
            "Product received is as advertised.<br /><br /><a href=\"http\n",
            "b'Product received is as advertised.  &lt;a href=\"http'\n",
            "The candy is just red , No flavor . Just  plan and chewy .  I would never buy them again\n",
            "b'The candy is just red , No flavor . Just  plan and chewy .  I would never buy them again'\n",
            "I was so glad Amazon carried these batteries.  I have a hard time finding them elsewhere because they are such a unique size.  I need them for my garage door opener.<br />Great deal for the price.\n",
            "b'I was so glad Amazon carried these batteries.  I have a hard time finding them elsewhere because they are such a unique size.  I need them for my garage door opener. Great deal for the price.'\n",
            "I got this for my Mum who is not diabetic but needs to watch her sugar intake, and my father who simply chooses to limit unnecessary sugar intake - she's the one with the sweet tooth - they both LOVED these toffees, you would never guess that they're sugar-free and it's so great that you can eat them pretty much guilt free!  i was so impressed that i've ordered some for myself (w dark chocolate) to take to the office so i'll eat them instead of snacking on sugary sweets.<br />These are just EXCELLENT!\n",
            "b\"I got this for my Mum who is not diabetic but needs to watch her sugar intake, and my father who simply chooses to limit unnecessary sugar intake - she's the one with the sweet tooth - they both LOVED these toffees, you would never guess that they're sugar-free and it's so great that you can eat them pretty much guilt free!  i was so impressed that i've ordered some for myself (w dark chocolate) to take to the office so i'll eat them instead of snacking on sugary sweets. These are just EXCELLENT!\"\n",
            "I don't know if it's the cactus or the tequila or just the unique combination of ingredients, but the flavour of this hot sauce makes it one of a kind!  We picked up a bottle once on a trip we were on and brought it back home with us and were totally blown away!  When we realized that we simply couldn't find it anywhere in our city we were bummed.<br /><br />Now, because of the magic of the internet, we have a case of the sauce and are ecstatic because of it.<br /><br />If you love hot sauce..I mean really love hot sauce, but don't want a sauce that tastelessly burns your throat, grab a bottle of Tequila Picante Gourmet de Inclan.  Just realize that once you taste it, you will never want to use any other sauce.<br /><br />Thank you for the personal, incredible service!\n",
            "b\"I don't know if it's the cactus or the tequila or just the unique combination of ingredients, but the flavour of this hot sauce makes it one of a kind!  We picked up a bottle once on a trip we were on and brought it back home with us and were totally blown away!  When we realized that we simply couldn't find it anywhere in our city we were bummed.  Now, because of the magic of the internet, we have a case of the sauce and are ecstatic because of it.  If you love hot sauce..I mean really love hot sauce, but don't want a sauce that tastelessly burns your throat, grab a bottle of Tequila Picante Gourmet de Inclan.  Just realize that once you taste it, you will never want to use any other sauce.  Thank you for the personal, incredible service!\"\n",
            "I have never been a huge coffee fan. However, my mother purchased this little machine and talked me into trying the Latte Macciato. No Coffee Shop has a better one and I like most of the other products, too (as a usually non-coffee drinker!).<br />The little Dolche Guesto Machine is super easy to use and prepares a really good Coffee/Latte/Cappuccino/etc in less than a minute (if water is heated up). I would recommend the Dolce Gusto to anyone. Too good for the price and I'am getting one myself!\n",
            "b\"I have never been a huge coffee fan. However, my mother purchased this little machine and talked me into trying the Latte Macciato. No Coffee Shop has a better one and I like most of the other products, too (as a usually non-coffee drinker!). The little Dolche Guesto Machine is super easy to use and prepares a really good Coffee/Latte/Cappuccino/etc in less than a minute (if water is heated up). I would recommend the Dolce Gusto to anyone. Too good for the price and I'am getting one myself!\"\n",
            "This offer is a great price and a great taste, thanks Amazon for selling this product.<br /><br />Staral\n",
            "b'This offer is a great price and a great taste, thanks Amazon for selling this product.  Staral'\n",
            "McCann's Instant Oatmeal is great if you must have your oatmeal but can only scrape together two or three minutes to prepare it. There is no escaping the fact, however, that even the best instant oatmeal is nowhere near as good as even a store brand of oatmeal requiring stovetop preparation.  Still, the McCann's is as good as it gets for instant oatmeal. It's even better than the organic, all-natural brands I have tried.  All the varieties in the McCann's variety pack taste good.  It can be prepared in the microwave or by adding boiling water so it is convenient in the extreme when time is an issue.<br /><br />McCann's use of actual cane sugar instead of high fructose corn syrup helped me decide to buy this product.  Real sugar tastes better and is not as harmful as the other stuff. One thing I do not like, though, is McCann's use of thickeners.  Oats plus water plus heat should make a creamy, tasty oatmeal without the need for guar gum. But this is a convenience product.  Maybe the guar gum is why, after sitting in the bowl a while, the instant McCann's becomes too thick and gluey.\n",
            "b\"McCann's Instant Oatmeal is great if you must have your oatmeal but can only scrape together two or three minutes to prepare it. There is no escaping the fact, however, that even the best instant oatmeal is nowhere near as good as even a store brand of oatmeal requiring stovetop preparation.  Still, the McCann's is as good as it gets for instant oatmeal. It's even better than the organic, all-natural brands I have tried.  All the varieties in the McCann's variety pack taste good.  It can be prepared in the microwave or by adding boiling water so it is convenient in the extreme when time is an issue.  McCann's use of actual cane sugar instead of high fructose corn syrup helped me decide to buy this product.  Real sugar tastes better and is not as harmful as the other stuff. One thing I do not like, though, is McCann's use of thickeners.  Oats plus water plus heat should make a creamy, tasty oatmeal without the need for guar gum. But this is a convenience product.  Maybe the guar gum is why, after sitting in the bowl a while, the instant McCann's becomes too thick and gluey.\"\n",
            "This is a good instant oatmeal from the best oatmeal brand.  It uses cane sugar instead of high fructouse corn syrup, so not only does it have a better sweetness, but some doctors now say that this form of sugar is better for you.  Great on a cold morning when you don't have time to make McCann's Steel Cut Oats.  The apple cinnamon is the best but the maple and brown sugar or the regular are good too.  Plus they don't require doctoring to actually tell the three flavors apart.\n",
            "b\"This is a good instant oatmeal from the best oatmeal brand.  It uses cane sugar instead of high fructouse corn syrup, so not only does it have a better sweetness, but some doctors now say that this form of sugar is better for you.  Great on a cold morning when you don't have time to make McCann's Steel Cut Oats.  The apple cinnamon is the best but the maple and brown sugar or the regular are good too.  Plus they don't require doctoring to actually tell the three flavors apart.\"\n",
            "Instant oatmeal can become soggy the minute the water hits the bowl. McCann's Instant Oatmeal holds its texture, has excellent flavor, and is good for you all at the same time. McCann's regular oat meal is excellent, too, but may take a bit longer to prepare than most have time for in the morning. This is the best instant brand I've ever eaten, and a very close second to the non-instant variety.<br /><br />McCann's Instant Irish Oatmeal, Variety Pack of Regular, Apples & Cinnamon, and Maple & Brown Sugar, 10-Count Boxes (Pack of 6)\n",
            "b\"Instant oatmeal can become soggy the minute the water hits the bowl. McCann's Instant Oatmeal holds its texture, has excellent flavor, and is good for you all at the same time. McCann's regular oat meal is excellent, too, but may take a bit longer to prepare than most have time for in the morning. This is the best instant brand I've ever eaten, and a very close second to the non-instant variety.  McCann's Instant Irish Oatmeal, Variety Pack of Regular, Apples &amp; Cinnamon, and Maple &amp; Brown Sugar, 10-Count Boxes (Pack of 6)\"\n",
            "McCann's Instant Irish Oatmeal, Variety Pack of Regular, Apples & Cinnamon, and Maple & Brown Sugar, 10-Count Boxes (Pack of 6)<br /><br />I'm a fan of the McCann's steel-cut oats, so I thought I'd give the instant variety a try. I found it to be a hardy meal, not too sweet, and great for folks like me (post-bariatric surgery) who need food that is palatable, easily digestible, with fiber but won't make you bloat.\n",
            "b\"McCann's Instant Irish Oatmeal, Variety Pack of Regular, Apples &amp; Cinnamon, and Maple &amp; Brown Sugar, 10-Count Boxes (Pack of 6)  I'm a fan of the McCann's steel-cut oats, so I thought I'd give the instant variety a try. I found it to be a hardy meal, not too sweet, and great for folks like me (post-bariatric surgery) who need food that is palatable, easily digestible, with fiber but won't make you bloat.\"\n",
            "For those of us with celiac disease this product is a lifesaver and what could be better than getting it at almost half the price of the grocery or health food store!  I love McCann's instant oatmeal - all flavors!!!<br /><br />Thanks,<br />Abby\n",
            "b\"For those of us with celiac disease this product is a lifesaver and what could be better than getting it at almost half the price of the grocery or health food store!  I love McCann's instant oatmeal - all flavors!!!  Thanks, Abby\"\n",
            "What else do you need to know? Oatmeal, instant (make it with a half cup of low-fat milk and add raisins;nuke for 90 seconds). More expensive than Kroger store brand oatmeal and maybe a little tastier or better texture or something. It's still just oatmeal. Mmm, convenient!\n",
            "b\"What else do you need to know? Oatmeal, instant (make it with a half cup of low-fat milk and add raisins;nuke for 90 seconds). More expensive than Kroger store brand oatmeal and maybe a little tastier or better texture or something. It's still just oatmeal. Mmm, convenient!\"\n",
            "I WAS VISITING MY FRIEND NATE THE OTHER MORNING FOR COFFEE , HE CAME OUT OF HIS STORAGE ROOM WITH ( A PACKET OF McCANNS INSTANT IRISH OATMEAL .) HE SUGGESTED THAT I TRY IT FOR MY OWN USE ,IN MY STASH . SOMETIMES NATE DOSE NOT GIVE YOU A CHANCE TO SAY NO , SO I ENDED UP TRYING THE APPLE AND CINN . FOUND IT TO BE VERY TASTEFULL WHEN MADE WITH WATER OR POWDERED MILK . IT GOES GOOD WITH O.J. AND COFFEE AND A SLICE OF TOAST AND YOUR READY TO TAKE ON THE WORLD...OR THE DAY AT LEAST..  JERRY REITH...\n",
            "b'I WAS VISITING MY FRIEND NATE THE OTHER MORNING FOR COFFEE , HE CAME OUT OF HIS STORAGE ROOM WITH ( A PACKET OF McCANNS INSTANT IRISH OATMEAL .) HE SUGGESTED THAT I TRY IT FOR MY OWN USE ,IN MY STASH . SOMETIMES NATE DOSE NOT GIVE YOU A CHANCE TO SAY NO , SO I ENDED UP TRYING THE APPLE AND CINN . FOUND IT TO BE VERY TASTEFULL WHEN MADE WITH WATER OR POWDERED MILK . IT GOES GOOD WITH O.J. AND COFFEE AND A SLICE OF TOAST AND YOUR READY TO TAKE ON THE WORLD OR THE DAY AT LEAST..  JERRY REITH '\n",
            "I ordered this for my wife as it was reccomended by our daughter.  She has this almost every morning and likes all flavors.  She's happy, I'm happy!!!<br /><a href=\"http\n",
            "b'I ordered this for my wife as it was reccomended by our daughter.  She has this almost every morning and likes all flavors.  She\\'s happy, I\\'m happy!!! &lt;a href=\"http'\n",
            "The variety packs taste great!<br /><br />I have them every morning. At $0.30 cents per meal, I don't understand why everyone on earth isn't buying this stuff up.<br /><br />Maple and brown sugar is terrific, followed by apples and cinnamon, followed by regular. You don't get tired of the same ole thing, and they taste great.<br /><br />I just boil water from a small pot, empty the packet or 2 in a bowl, pour in boiling water, and watch it expand to 2x its size!<br /><br />Taste really good and takes minutes to prepare.<br /><br />Not sure why everyone on earth isn't this. Convenient, healthy, very quick, excellent quality, and extremely cheap...\n",
            "b\"The variety packs taste great!  I have them every morning. At $0.30 cents per meal, I don't understand why everyone on earth isn't buying this stuff up.  Maple and brown sugar is terrific, followed by apples and cinnamon, followed by regular. You don't get tired of the same ole thing, and they taste great.  I just boil water from a small pot, empty the packet or 2 in a bowl, pour in boiling water, and watch it expand to 2x its size!  Taste really good and takes minutes to prepare.  Not sure why everyone on earth isn't this. Convenient, healthy, very quick, excellent quality, and extremely cheap \"\n",
            "McCann's makes oatmeal for every oatmeal connoisseur, whether one likes it from the raw pellet state that cooks for half an hour, to the sloth addled instant, which can be done in the microwave for under three minutes. It's all good, that's for sure, and the beauty of the instant variety is that it is available in different flavors as well as regular.<br />  This variety pack allows different tastes to be explored, as well as giving you a chance to experience the difference between McCann's and other well-known oatmeals. What I personally like about McCann's is that it cooks up thicker and with more body than the top brand here in America. The Apples & Cinnamon, though, tends to be a little liquidy so you may want to experiment with the amount of water you add. In my 1300watt microwave the oatmeal cooks up in about one minute and twenty-seven seconds, so you should also watch that to get a handle on how much time and water to use.<br />  The only bad thing -- if you can consider it a bad thing -- about this offering is that you have to buy in lot so you'll end up with six ten-count boxes. This is good if you have a whole family of oatmeal-eaters, but if you're a single person alone -- well, love oatmeal.\n",
            "b\"McCann's makes oatmeal for every oatmeal connoisseur, whether one likes it from the raw pellet state that cooks for half an hour, to the sloth addled instant, which can be done in the microwave for under three minutes. It's all good, that's for sure, and the beauty of the instant variety is that it is available in different flavors as well as regular.   This variety pack allows different tastes to be explored, as well as giving you a chance to experience the difference between McCann's and other well-known oatmeals. What I personally like about McCann's is that it cooks up thicker and with more body than the top brand here in America. The Apples &amp; Cinnamon, though, tends to be a little liquidy so you may want to experiment with the amount of water you add. In my 1300watt microwave the oatmeal cooks up in about one minute and twenty-seven seconds, so you should also watch that to get a handle on how much time and water to use.   The only bad thing -- if you can consider it a bad thing -- about this offering is that you have to buy in lot so you'll end up with six ten-count boxes. This is good if you have a whole family of oatmeal-eaters, but if you're a single person alone -- well, love oatmeal.\"\n",
            "I have McCann's Oatmeal every morning and by ordering it from Amazon I am able to save almost $3.00 per box.<br />It is a great product. Tastes great and very healthy\n",
            "b\"I have McCann's Oatmeal every morning and by ordering it from Amazon I am able to save almost $3.00 per box. It is a great product. Tastes great and very healthy\"\n",
            "McCann's Oatmeal is a good quality choice.  Our favorite is the Apples and Cinnamon, but we find that none of these are overly sugary.  For a good hot breakfast in 2 minutes, this is excellent.\n",
            "b\"McCann's Oatmeal is a good quality choice.  Our favorite is the Apples and Cinnamon, but we find that none of these are overly sugary.  For a good hot breakfast in 2 minutes, this is excellent.\"\n",
            "We really like the McCann's steel cut oats but find we don't cook it up too often.<br />This tastes much better to me than the grocery store brands and is just as convenient.<br />Anything that keeps me eating oatmeal regularly is a good thing.\n",
            "b\"We really like the McCann's steel cut oats but find we don't cook it up too often. This tastes much better to me than the grocery store brands and is just as convenient. Anything that keeps me eating oatmeal regularly is a good thing.\"\n",
            "This seems a little more wholesome than some of the supermarket brands, but it is somewhat mushy and doesn't have quite as much flavor either.  It didn't pass muster with my kids, so I probably won't buy it again.\n",
            "b\"This seems a little more wholesome than some of the supermarket brands, but it is somewhat mushy and doesn't have quite as much flavor either.  It didn't pass muster with my kids, so I probably won't buy it again.\"\n",
            "Good oatmeal.  I like the apple cinnamon the best.  Though I wouldn't follow the directions on the package since it always comes out too soupy for my taste.  That could just be me since I like my oatmeal really thick to add some milk on top of.\n",
            "b\"Good oatmeal.  I like the apple cinnamon the best.  Though I wouldn't follow the directions on the package since it always comes out too soupy for my taste.  That could just be me since I like my oatmeal really thick to add some milk on top of.\"\n",
            "The flavors are good.  However, I do not see any differce between this and Oaker Oats brand - they are both mushy.\n",
            "b'The flavors are good.  However, I do not see any differce between this and Oaker Oats brand - they are both mushy.'\n",
            "I really like the Maple and Brown Sugar flavor. The regular is fine with brown sugar added. The Apples and Cinnamon flavor is OK. This is a very quick, easy and satisfying breakfast and I'll order this brand again, but not the variety. I'll get all Maple and Brown Sugar.\n",
            "b\"I really like the Maple and Brown Sugar flavor. The regular is fine with brown sugar added. The Apples and Cinnamon flavor is OK. This is a very quick, easy and satisfying breakfast and I'll order this brand again, but not the variety. I'll get all Maple and Brown Sugar.\"\n",
            "This is the same stuff you can buy at the big box stores.  There is nothing healthy about it.  It is just carbs and sugars.  Save your money and get something that at least has some taste.\n",
            "b'This is the same stuff you can buy at the big box stores.  There is nothing healthy about it.  It is just carbs and sugars.  Save your money and get something that at least has some taste.'\n",
            "This oatmeal is not good. Its mushy, soft, I don't like it. Quaker Oats is the way to go.\n",
            "b\"This oatmeal is not good. Its mushy, soft, I don't like it. Quaker Oats is the way to go.\"\n",
            "Got a free package of these with a bottle of bloody mary mix I bought from the seller, and the advertising worked..lol,  I tried them, and shared them with 2 buddies, and we all loved them...  So im here to buy more, and noticed there were no reviews yet,...  well now there is.  They are Hot,  but not \"burn your mouth forever hot\"  its a nice temp...  Perfect for us..\n",
            "b'Got a free package of these with a bottle of bloody mary mix I bought from the seller, and the advertising worked..lol,  I tried them, and shared them with 2 buddies, and we all loved them   So im here to buy more, and noticed there were no reviews yet,   well now there is.  They are Hot,  but not \"burn your mouth forever hot\"  its a nice temp   Perfect for us..'\n",
            "This wasn't in stock the last time I looked. I had to go to the Vermont Country Store in Weston to find it along with a jaw harp, Cranberry Horseradish Sauce, Fartless Black Bean Salsa, Apple Cider Jelly, Newton's Cradle Art in Motion and the staple Vermont Maple Syrup.<br /><br />Back to the Ass Kickin Peanuts. They are hot. They will activate the perspiration glands behind your ears and under your arms. It requires a beverage as advertised, a glass of very cold milk, and a box of Kleenex since it will make your nose run. They look like ordinary peanuts which is already giving me ideas for work. I suspect that some people have been hitting my goodies in my absence, especially my colleague Greg. I'm going to take this to work at earliest opportunity and empty the contents of this can into an ordinary Planters Peanuts can, and then see whose crying or whose nose is running when I return.<br /><br />The can should be shaken to ensure the spices are evenly distributed. It is important to wash your hands after consumption and not touch the eyes.<br /><br />You'll go nuts over these Ass-Kickin' Peanuts.<br /><br />P.S. I'm not sharing the peanuts, not deliberately, and I'll probably give Greg the jaw harp for Christmas. He'll be so insulted.\n",
            "b\"This wasn't in stock the last time I looked. I had to go to the Vermont Country Store in Weston to find it along with a jaw harp, Cranberry Horseradish Sauce, Fartless Black Bean Salsa, Apple Cider Jelly, Newton's Cradle Art in Motion and the staple Vermont Maple Syrup.  Back to the Ass Kickin Peanuts. They are hot. They will activate the perspiration glands behind your ears and under your arms. It requires a beverage as advertised, a glass of very cold milk, and a box of Kleenex since it will make your nose run. They look like ordinary peanuts which is already giving me ideas for work. I suspect that some people have been hitting my goodies in my absence, especially my colleague Greg. I'm going to take this to work at earliest opportunity and empty the contents of this can into an ordinary Planters Peanuts can, and then see whose crying or whose nose is running when I return.  The can should be shaken to ensure the spices are evenly distributed. It is important to wash your hands after consumption and not touch the eyes.  You'll go nuts over these Ass-Kickin' Peanuts.  P.S. I'm not sharing the peanuts, not deliberately, and I'll probably give Greg the jaw harp for Christmas. He'll be so insulted.\"\n",
            "we're used to spicy foods down here in south texas and these are not at all spicy.  doubt very much habanero is used at all.  could take it up a notch or two.\n",
            "b\"we're used to spicy foods down here in south texas and these are not at all spicy.  doubt very much habanero is used at all.  could take it up a notch or two.\"\n",
            "I roast at home with a stove-top popcorn popper (but I do it outside, of course). These beans (Coffee Bean Direct Green Mexican Altura) seem to be well-suited for this method. The first and second cracks are distinct, and I've roasted the beans from medium to slightly dark with great results every time. The aroma is strong and persistent. The taste is smooth, velvety, yet lively.\n",
            "b\"I roast at home with a stove-top popcorn popper (but I do it outside, of course). These beans (Coffee Bean Direct Green Mexican Altura) seem to be well-suited for this method. The first and second cracks are distinct, and I've roasted the beans from medium to slightly dark with great results every time. The aroma is strong and persistent. The taste is smooth, velvety, yet lively.\"\n",
            "We roast these in a large cast iron pan on the grill (about 1/3 of the bag at a time).  The smell is wonderful and the roasted beans taste delicious too.  More importantly, the coffee is smooth; no bitter aftertaste.  On numerous occasions, we've had to send the roasted beans home with friends because they like it so much.\n",
            "b\"We roast these in a large cast iron pan on the grill (about 1/3 of the bag at a time).  The smell is wonderful and the roasted beans taste delicious too.  More importantly, the coffee is smooth; no bitter aftertaste.  On numerous occasions, we've had to send the roasted beans home with friends because they like it so much.\"\n",
            "Deal was awesome!  Arrived before Halloween as indicated and was enough to satisfy trick or treaters.  I love the quality of this product and it was much less expensive than the local store's candy.\n",
            "b\"Deal was awesome!  Arrived before Halloween as indicated and was enough to satisfy trick or treaters.  I love the quality of this product and it was much less expensive than the local store's candy.\"\n",
            "It is chocolate, what can I say.  Great variety of everything our family loves.  With a family of six it goes fast here.  Perfect variety.  Kit Kat, Reeses, take five and more.\n",
            "b'It is chocolate, what can I say.  Great variety of everything our family loves.  With a family of six it goes fast here.  Perfect variety.  Kit Kat, Reeses, take five and more.'\n",
            "Great product, nice combination of chocolates and perfect size!  The bags had plenty, and they were shipped promptly.  The kids in the neighborhood liked our candies!\n",
            "b'Great product, nice combination of chocolates and perfect size!  The bags had plenty, and they were shipped promptly.  The kids in the neighborhood liked our candies!'\n",
            "Halloween is over but, I sent a bag to my daughters class for her share. The chocolate was fresh and enjoyed by many.\n",
            "b'Halloween is over but, I sent a bag to my daughters class for her share. The chocolate was fresh and enjoyed by many.'\n",
            "Watch your prices with this.  While the assortment was good, and I did get this on a gold box purchase, the price for this was<br />$3-4 less at Target.\n",
            "b'Watch your prices with this.  While the assortment was good, and I did get this on a gold box purchase, the price for this was $3-4 less at Target.'\n",
            "This bag of candy online is pretty expensive, it should be cheaper in order to compete with grocery stores, other than that, its a good combination of my favorite candy\n",
            "b'This bag of candy online is pretty expensive, it should be cheaper in order to compete with grocery stores, other than that, its a good combination of my favorite candy'\n",
            "Arrived in 6 days and were so stale i could not eat any of the 6 bags!!\n",
            "b'Arrived in 6 days and were so stale i could not eat any of the 6 bags!!'\n",
            "I have used the endurolyte product for several years in both pill and powder form.  Long desert rides on the dirt bike always found my camelbak water heavily laced with the endurolyte powder, not overly tasty, but quite effective, as I never got a cramp on these several hundred mile rides.  Same for desert racing in the buggy, the camelbaks were always laced with the powder.  Now we have the Fizz...what a great product!  Firstly, its Hammer's endurolyte product so it's great, endurance athlete's the world over use their products. Second its convenient, handly tablets that dissovle in a fizz.  Third it tastes great! Imagine getting a nice cool drink when your body is starving for hydration and electrolytes and rather than getting a \"salty\" taste, you get a refreshing lemon-lime or mango!  The camelbaks always get the Fizz now.  I also drop a tablet in my bottled water whenever I exercise and have a nice flavored water chock full of electrolytes. I cannot recommend this product or any hammer product highly enough.\n",
            "b'I have used the endurolyte product for several years in both pill and powder form.  Long desert rides on the dirt bike always found my camelbak water heavily laced with the endurolyte powder, not overly tasty, but quite effective, as I never got a cramp on these several hundred mile rides.  Same for desert racing in the buggy, the camelbaks were always laced with the powder.  Now we have the Fizz what a great product!  Firstly, its Hammer\\'s endurolyte product so it\\'s great, endurance athlete\\'s the world over use their products. Second its convenient, handly tablets that dissovle in a fizz.  Third it tastes great! Imagine getting a nice cool drink when your body is starving for hydration and electrolytes and rather than getting a \"salty\" taste, you get a refreshing lemon-lime or mango!  The camelbaks always get the Fizz now.  I also drop a tablet in my bottled water whenever I exercise and have a nice flavored water chock full of electrolytes. I cannot recommend this product or any hammer product highly enough.'\n",
            "This product serves me well as a source of electrolytes during and after a long run or bike ride.<br />I have tried all of the flavors but really do like the grapefruit flavor... no after-taste and I actually like the slight carbonation.<br />I use other Hammer products and really like their whole product line.\n",
            "b'This product serves me well as a source of electrolytes during and after a long run or bike ride. I have tried all of the flavors but really do like the grapefruit flavor  no after-taste and I actually like the slight carbonation. I use other Hammer products and really like their whole product line.'\n",
            "This stuff really works for preventing cramping during the middle to latter stages of your rides. Pop 1 into each water bottle and you're set. Flavor is fine and goes down easy.\n",
            "b\"This stuff really works for preventing cramping during the middle to latter stages of your rides. Pop 1 into each water bottle and you're set. Flavor is fine and goes down easy.\"\n",
            "For those of us on a low carb diet these little tablets are just the thing.<br /><br />Two years ago I started cycling again after many years but was having heart arrhythmia after longer rides in high heat.  I was drinking plain water but did a little research and thought electrolytes might be the issue.  Gatorade wasn't an option because it is so loaded with carbohydrates so I looked around for a low-carb alternative.  The \"zero carb\" sports drinks didn't help so what to do?  One day I ran across these at my bike shop so tried a tube of them.....voila!...problem solved!!<br /><br />I've shared them with two friends in particular whose problems with leg cramps were resolved while using these.<br /><br />These guys got it right -- they are superbly formulated and simply work.....\n",
            "b'For those of us on a low carb diet these little tablets are just the thing.  Two years ago I started cycling again after many years but was having heart arrhythmia after longer rides in high heat.  I was drinking plain water but did a little research and thought electrolytes might be the issue.  Gatorade wasn\\'t an option because it is so loaded with carbohydrates so I looked around for a low-carb alternative.  The \"zero carb\" sports drinks didn\\'t help so what to do?  One day I ran across these at my bike shop so tried a tube of them ..voila! problem solved!!  I\\'ve shared them with two friends in particular whose problems with leg cramps were resolved while using these.  These guys got it right -- they are superbly formulated and simply work ..'\n",
            "I purchased the Mango flavor, and to me it doesn't take like Mango at all.  There is no hint of sweetness, and unfortunately there is a hint or aftertaste almost like licorice.  I've been consuming various sports nutrition products for decades, so I'm familiar and have come to like the taste of the most of the products I've tried.  The mango flavor is one of the least appealing I've tasted.  It's not terrible, but it's bad enough that I notice the bad taste every sip I take.\n",
            "b\"I purchased the Mango flavor, and to me it doesn't take like Mango at all.  There is no hint of sweetness, and unfortunately there is a hint or aftertaste almost like licorice.  I've been consuming various sports nutrition products for decades, so I'm familiar and have come to like the taste of the most of the products I've tried.  The mango flavor is one of the least appealing I've tasted.  It's not terrible, but it's bad enough that I notice the bad taste every sip I take.\"\n",
            "If you're impulsive like me, then $6 is ok. Don't get me wrong, the quality of these babies is very good and I have no complaints. But in retrospect, the price is a little ridiculous (esp. when you add on the shipping).\n",
            "b\"If you're impulsive like me, then $6 is ok. Don't get me wrong, the quality of these babies is very good and I have no complaints. But in retrospect, the price is a little ridiculous (esp. when you add on the shipping).\"\n",
            "this was sooooo deliscious but too bad i ate em too fast and gained 2 pds! my fault\n",
            "b'this was sooooo deliscious but too bad i ate em too fast and gained 2 pds! my fault'\n",
            "These Albanese gummi bears and rings and so on are very good and tasty and high quality. The bears even have little faces. At my local candy store this type of gummi stuff (bears, rings, snakes, balls, worms, whatever) are about $10/lb. These twin packs of 4.5 or 5 pound bags is a screaming deal as far as I'm concerned. I'm probably 50 pounds deep in these friggin' things. Consumed!\n",
            "b\"These Albanese gummi bears and rings and so on are very good and tasty and high quality. The bears even have little faces. At my local candy store this type of gummi stuff (bears, rings, snakes, balls, worms, whatever) are about $10/lb. These twin packs of 4.5 or 5 pound bags is a screaming deal as far as I'm concerned. I'm probably 50 pounds deep in these friggin' things. Consumed!\"\n",
            "Grape gummy bears are hard to find in my area. In fact pretty much anyone I talk to about grape gummy bears they think I'm lying. So I bought 10lbs...\n",
            "b\"Grape gummy bears are hard to find in my area. In fact pretty much anyone I talk to about grape gummy bears they think I'm lying. So I bought 10lbs \"\n",
            "I ordered two of these and two of raspberry latice tarts directly from FantasiCakes website for a dinner party I was hosting. It arrived fresh and intact. Very good size. I froze half for later use. I am a pastry lover and these were the best I've ever tasted. The pastry was soft, the jam was really good and the taste was great. They were gone in no time. My guests were really impressed.\n",
            "b\"I ordered two of these and two of raspberry latice tarts directly from FantasiCakes website for a dinner party I was hosting. It arrived fresh and intact. Very good size. I froze half for later use. I am a pastry lover and these were the best I've ever tasted. The pastry was soft, the jam was really good and the taste was great. They were gone in no time. My guests were really impressed.\"\n",
            "Buyer Beware Please! This sweetener is not for everybody.  Maltitol is an alcohol sugar and can be undigestible in the body.  You will know a short time after consuming it if you are one of the unsuspecting many who cannot digest it by the extreme intestinal bloating and cramping and massive amounts of gas a person can experience. Nausea, diarrhea & headaches can also be experienced. I learned my lesson the hard way years ago when I fell in love with the sugar-free chocolates suzanne sommers used to sell.  I thought I'd found sugar-free chocolate nirvana at first taste but the bliss was short lived when the terrible side effects of maltitol kicked in.  The discomfort was unlike anything I had ever felt before.  I blew up like a balloon and had very painful abdominal cramping.  As the symptoms passed, this too was very unpleasant.  Though hard for me to believe a low calorie sweetener could be the culprit, all symptoms were gone when I stopped eating the chocolate. My hunch it had something to do with the maltitol were unfortunately confirmed for me about a year later when I purchased some delicious sugar-free popcorn at my local market.  The taste was amazing and while I was looking at the label wondering what could possibly make this yummy, new sugarfree treat taste so good, my heart sank when I followed the little asterisk next to sugarfree sweetener* down to the very bottom of the label and read \"maltitol\" in tiny little letters! Thank goodness I'd eaten only a little. I still ended up with all the same side-effects but for a much shorter duration. Some people can use maltitol to their heart's content but others, like me, can have a bad reaction to it. In case you're like me, ... it's not you ...it's the maltitol!\n",
            "b'Buyer Beware Please! This sweetener is not for everybody.  Maltitol is an alcohol sugar and can be undigestible in the body.  You will know a short time after consuming it if you are one of the unsuspecting many who cannot digest it by the extreme intestinal bloating and cramping and massive amounts of gas a person can experience. Nausea, diarrhea &amp; headaches can also be experienced. I learned my lesson the hard way years ago when I fell in love with the sugar-free chocolates suzanne sommers used to sell.  I thought I\\'d found sugar-free chocolate nirvana at first taste but the bliss was short lived when the terrible side effects of maltitol kicked in.  The discomfort was unlike anything I had ever felt before.  I blew up like a balloon and had very painful abdominal cramping.  As the symptoms passed, this too was very unpleasant.  Though hard for me to believe a low calorie sweetener could be the culprit, all symptoms were gone when I stopped eating the chocolate. My hunch it had something to do with the maltitol were unfortunately confirmed for me about a year later when I purchased some delicious sugar-free popcorn at my local market.  The taste was amazing and while I was looking at the label wondering what could possibly make this yummy, new sugarfree treat taste so good, my heart sank when I followed the little asterisk next to sugarfree sweetener* down to the very bottom of the label and read \"maltitol\" in tiny little letters! Thank goodness I\\'d eaten only a little. I still ended up with all the same side-effects but for a much shorter duration. Some people can use maltitol to their heart\\'s content but others, like me, can have a bad reaction to it. In case you\\'re like me,   it\\'s not you  it\\'s the maltitol!'\n",
            "It is okay.  I would not go out of my way to buy it again\n",
            "b'It is okay.  I would not go out of my way to buy it again'\n",
            "No tea flavor at all. Just whole brunch of artifial flavors. It is not returnable. I wasted 20+ bucks.\n",
            "b'No tea flavor at all. Just whole brunch of artifial flavors. It is not returnable. I wasted 20+ bucks.'\n",
            "These looked like a perfect snack to through in with my trail mix.  Unfortunately, they arrived in a solid mass of melted chocolate.  I left them in my pantry for a few days, and when I opened them at room temperature they were still gooey.  I through them in the fridge and I've been breaking off hunks ever since.  They taste good to me, but the chocolate is all grainy after melting and then solidifying again.  I won't order them online again, but if I see them in a store I would pick them up.\n",
            "b\"These looked like a perfect snack to through in with my trail mix.  Unfortunately, they arrived in a solid mass of melted chocolate.  I left them in my pantry for a few days, and when I opened them at room temperature they were still gooey.  I through them in the fridge and I've been breaking off hunks ever since.  They taste good to me, but the chocolate is all grainy after melting and then solidifying again.  I won't order them online again, but if I see them in a store I would pick them up.\"\n",
            "These taste really good. I have been purchasing a different brand and these are very similar in taste and texture. I agree with the other reviewer regarding ordering in the summer. There is no insulating packaging with ice packs so they will melt in warm weather like all chocolate food items. Order in cold weather and buy enough to last!!!\n",
            "b'These taste really good. I have been purchasing a different brand and these are very similar in taste and texture. I agree with the other reviewer regarding ordering in the summer. There is no insulating packaging with ice packs so they will melt in warm weather like all chocolate food items. Order in cold weather and buy enough to last!!!'\n",
            "The taste was great, but the berries had melted.  May order again in winter. If you order in cold weather you should enjoy flavor.\n",
            "b'The taste was great, but the berries had melted.  May order again in winter. If you order in cold weather you should enjoy flavor.'\n",
            "i know i cannot make tea this good.  granted, i am not from the south but i know i have never enjoyed tea that was this sweet without being too sweet.  it tastes crisp.\n",
            "b'i know i cannot make tea this good.  granted, i am not from the south but i know i have never enjoyed tea that was this sweet without being too sweet.  it tastes crisp.'\n",
            "This peppermint stick is delicious and fun to eat.  My dad got me one for Christmas because he remembered me having a similar one when I was a little girl.  I'm 30 now and I love it!\n",
            "b\"This peppermint stick is delicious and fun to eat.  My dad got me one for Christmas because he remembered me having a similar one when I was a little girl.  I'm 30 now and I love it!\"\n",
            "Great gift for all ages! I purchased these giant canes before and the recipients loved them so much, they kept them and would not eat them.\n",
            "b'Great gift for all ages! I purchased these giant canes before and the recipients loved them so much, they kept them and would not eat them.'\n",
            "I know the product title says Molecular Gastronomy, but don't let that scare you off.  I have been looking for this for a while now, not for food science, but for something more down to earth.  I use it to make my own coffee creamer.<br /><br />I have to have my coffee blonde and sweet - but the flavored creamers are full of the bad kinds of fat, and honestly, I hate to use manufactured \"food\" items.  I really don't think they are good for the body.  On the other hand, I hate using cold milk or cream, because I like HOT coffee.<br /><br />I stumbled across this on Amazon one day and got the idea of making my own creamer.  I also bought low-fat (non-instant) milk powder and regular milk powder. The non-instant lowfat milk is a little sweeter and tastes fresher than regular instant low-fat milk, but does not dissolve good in cold water - which is not a problem for hot coffee.  You will have to play with the ratios - I would not do just the heavy cream, it made the coffee too rich. Also, I think the powder is too expensive to just use on it's own. I like mixing 1/3 of each together.<br /><br />For flavoring, I bough cocoa bean powder, vanilla bean powder, and caster (superfine) sugar.  I mix up small batches along with spices like cinnamon and nutmeg to make my own flavored creamers.  If you wanted, you could use a fake sweetner powder instead.  I make up small amounts that I store in jelly canning jars. I also use my little food chopper/food processor to blend everything, so the sugar is not heavier and sinks to the bottom.  Let it settle for a bit before opening the top though.<br /><br />This stuff tastes WAY better than the storebought creamers and it is fun to experiment and come up with your own flavors.  I am going to try using some essential oils next and see if I can get a good chocolate/orange mix.<br /><br />All of the ingredients I mentioned are here online.  Take the time to experiment.  Maybe you don't use any low-fat milk. Or don't add any flavorings.  It is up to you.  Also, would make great housewarming/host(ess) gifts.<br /><br />I am sure other molecular people will be able to tell you more of what you can do with it, and I am sure I will experiment with it in cooking - but the main reason I bought it was to make my own creamer and it worked out great.\n",
            "b'I know the product title says Molecular Gastronomy, but don\\'t let that scare you off.  I have been looking for this for a while now, not for food science, but for something more down to earth.  I use it to make my own coffee creamer.  I have to have my coffee blonde and sweet - but the flavored creamers are full of the bad kinds of fat, and honestly, I hate to use manufactured \"food\" items.  I really don\\'t think they are good for the body.  On the other hand, I hate using cold milk or cream, because I like HOT coffee.  I stumbled across this on Amazon one day and got the idea of making my own creamer.  I also bought low-fat (non-instant) milk powder and regular milk powder. The non-instant lowfat milk is a little sweeter and tastes fresher than regular instant low-fat milk, but does not dissolve good in cold water - which is not a problem for hot coffee.  You will have to play with the ratios - I would not do just the heavy cream, it made the coffee too rich. Also, I think the powder is too expensive to just use on it\\'s own. I like mixing 1/3 of each together.  For flavoring, I bough cocoa bean powder, vanilla bean powder, and caster (superfine) sugar.  I mix up small batches along with spices like cinnamon and nutmeg to make my own flavored creamers.  If you wanted, you could use a fake sweetner powder instead.  I make up small amounts that I store in jelly canning jars. I also use my little food chopper/food processor to blend everything, so the sugar is not heavier and sinks to the bottom.  Let it settle for a bit before opening the top though.  This stuff tastes WAY better than the storebought creamers and it is fun to experiment and come up with your own flavors.  I am going to try using some essential oils next and see if I can get a good chocolate/orange mix.  All of the ingredients I mentioned are here online.  Take the time to experiment.  Maybe you don\\'t use any low-fat milk. Or don\\'t add any flavorings.  It is up to you.  Also, would make great housewarming/host(ess) gifts.  I am sure other molecular people will be able to tell you more of what you can do with it, and I am sure I will experiment with it in cooking - but the main reason I bought it was to make my own creamer and it worked out great.'\n",
            "While my dogs like all of the flavors that we have tried of this dog food, for some reason their itching increased when I tried the lamb and rice. I have some very itchy dogs and am giving them a limited ingredient dog food to try to help. The duck and sweet potato cut down on the itching significantly, but when we tried lamb and rice they started itching more once again. I like Natural Balance for the quality ingredients.\n",
            "b'While my dogs like all of the flavors that we have tried of this dog food, for some reason their itching increased when I tried the lamb and rice. I have some very itchy dogs and am giving them a limited ingredient dog food to try to help. The duck and sweet potato cut down on the itching significantly, but when we tried lamb and rice they started itching more once again. I like Natural Balance for the quality ingredients.'\n",
            "Awesome dog food. However, when given to my \"Boston\", who has severe reactions to some food ingredients; his itching increased to violent jumping out of bed at night, scratching. As soon as I changed to a different formula, the scratching stopped. So glad Natural Balance has other choices. I guess you have to try each, until you find what's best for your pet.\n",
            "b'Awesome dog food. However, when given to my \"Boston\", who has severe reactions to some food ingredients; his itching increased to violent jumping out of bed at night, scratching. As soon as I changed to a different formula, the scratching stopped. So glad Natural Balance has other choices. I guess you have to try each, until you find what\\'s best for your pet.'\n",
            "We have three dogs and all of them love this food!  We bought it specifically for one of our dogs who has food allergies and it works great for him, no more hot spots or tummy problems.<br />I LOVE that it ships right to our door with free shipping.\n",
            "b'We have three dogs and all of them love this food!  We bought it specifically for one of our dogs who has food allergies and it works great for him, no more hot spots or tummy problems. I LOVE that it ships right to our door with free shipping.'\n",
            "My dog has a ton of allergies both environmental and food. She was on a prescription dog food before we had her tested to see what allergies she has. After we got the test back, we learned she was allergic to something in the prescription brand. So I finally found this dog food and she has done so well on this! She still has her environmental triggers, but I am happy she can finally eat something I know won't cause her pain.\n",
            "b\"My dog has a ton of allergies both environmental and food. She was on a prescription dog food before we had her tested to see what allergies she has. After we got the test back, we learned she was allergic to something in the prescription brand. So I finally found this dog food and she has done so well on this! She still has her environmental triggers, but I am happy she can finally eat something I know won't cause her pain.\"\n",
            "My shepherd/collie mix has IBS.  Our vet recommended a limited ingredient food.  This has really helped her symptoms and she likes it.  I will always buy it from Amazon...it's $10 cheaper and free shipping!\n",
            "b\"My shepherd/collie mix has IBS.  Our vet recommended a limited ingredient food.  This has really helped her symptoms and she likes it.  I will always buy it from Amazon it's $10 cheaper and free shipping!\"\n",
            "Natural Balance Dry Dog Food Lamb Meal and Brown Rice Recipe did wonders for my Jack Russell. She has awful food allergy's and this food was our last hope because it was the last food we could find that didn't have SOMETHING in it that she was allergic to. She has no problem eating it dry but normally I mix the Natural Balance Dry Lamb and Brown Rice with the Natural Balance Wet Lamb and Brown Rice.. she seems to like that better. We started feeding it to our other dog (a Bichon) too and she loves it. If your dog has allergy's or stomach issue.. or if you want your dog to eat better food-- this is it! You will see a difference in your pet.\n",
            "b\"Natural Balance Dry Dog Food Lamb Meal and Brown Rice Recipe did wonders for my Jack Russell. She has awful food allergy's and this food was our last hope because it was the last food we could find that didn't have SOMETHING in it that she was allergic to. She has no problem eating it dry but normally I mix the Natural Balance Dry Lamb and Brown Rice with the Natural Balance Wet Lamb and Brown Rice.. she seems to like that better. We started feeding it to our other dog (a Bichon) too and she loves it. If your dog has allergy's or stomach issue.. or if you want your dog to eat better food-- this is it! You will see a difference in your pet.\"\n",
            "Great food! I love the idea of one food for all ages & breeds. �t's a real convenience as well as a really good product.  My 3 dogs eat less, have almost no gas, their poop is regular and a perfect consistency, what else can a mom ask for!!\n",
            "b\"Great food! I love the idea of one food for all ages &amp; breeds. \\xef\\xbf\\xbdt's a real convenience as well as a really good product.  My 3 dogs eat less, have almost no gas, their poop is regular and a perfect consistency, what else can a mom ask for!!\"\n"
          ]
        },
        {
          "output_type": "stream",
          "name": "stderr",
          "text": [
            "<ipython-input-130-859bd3fc9381>:4: MarkupResemblesLocatorWarning: The input looks more like a filename than markup. You may want to open this file and pass the filehandle into Beautiful Soup.\n",
            "  soupified = BeautifulSoup(row, \"html.parser\")\n"
          ]
        }
      ],
      "source": [
        "for i in range(90):\n",
        "  print(df.text.iloc[i])\n",
        "  print(clean_html_tags(df.text.iloc[i]))\n",
        "  "
      ]
    },
    {
      "cell_type": "code",
      "execution_count": 132,
      "metadata": {
        "colab": {
          "base_uri": "https://localhost:8080/"
        },
        "id": "MOU3to5i9Biz",
        "outputId": "756081f5-2b19-4efb-e938-7060f631e0f6"
      },
      "outputs": [
        {
          "output_type": "stream",
          "name": "stderr",
          "text": [
            "<ipython-input-130-859bd3fc9381>:4: MarkupResemblesLocatorWarning: The input looks more like a filename than markup. You may want to open this file and pass the filehandle into Beautiful Soup.\n",
            "  soupified = BeautifulSoup(row, \"html.parser\")\n",
            "<ipython-input-130-859bd3fc9381>:4: MarkupResemblesLocatorWarning: The input looks more like a filename than markup. You may want to open this file and pass the filehandle into Beautiful Soup.\n",
            "  soupified = BeautifulSoup(row, \"html.parser\")\n",
            "<ipython-input-130-859bd3fc9381>:4: MarkupResemblesLocatorWarning: The input looks more like a filename than markup. You may want to open this file and pass the filehandle into Beautiful Soup.\n",
            "  soupified = BeautifulSoup(row, \"html.parser\")\n",
            "<ipython-input-130-859bd3fc9381>:4: MarkupResemblesLocatorWarning: The input looks more like a filename than markup. You may want to open this file and pass the filehandle into Beautiful Soup.\n",
            "  soupified = BeautifulSoup(row, \"html.parser\")\n",
            "<ipython-input-130-859bd3fc9381>:4: MarkupResemblesLocatorWarning: The input looks more like a filename than markup. You may want to open this file and pass the filehandle into Beautiful Soup.\n",
            "  soupified = BeautifulSoup(row, \"html.parser\")\n",
            "<ipython-input-130-859bd3fc9381>:4: MarkupResemblesLocatorWarning: The input looks more like a filename than markup. You may want to open this file and pass the filehandle into Beautiful Soup.\n",
            "  soupified = BeautifulSoup(row, \"html.parser\")\n",
            "<ipython-input-130-859bd3fc9381>:4: MarkupResemblesLocatorWarning: The input looks more like a filename than markup. You may want to open this file and pass the filehandle into Beautiful Soup.\n",
            "  soupified = BeautifulSoup(row, \"html.parser\")\n",
            "<ipython-input-132-39a0850c92a0>:1: SettingWithCopyWarning: \n",
            "A value is trying to be set on a copy of a slice from a DataFrame.\n",
            "Try using .loc[row_indexer,col_indexer] = value instead\n",
            "\n",
            "See the caveats in the documentation: https://pandas.pydata.org/pandas-docs/stable/user_guide/indexing.html#returning-a-view-versus-a-copy\n",
            "  df['text'] = df['text'].apply(clean_html_tags)\n"
          ]
        }
      ],
      "source": [
        "df['text'] = df['text'].apply(clean_html_tags)"
      ]
    },
    {
      "cell_type": "code",
      "execution_count": 133,
      "metadata": {
        "colab": {
          "base_uri": "https://localhost:8080/",
          "height": 424
        },
        "id": "WV1lX5rc1z0H",
        "outputId": "5ee2b8a2-0375-4aa9-940a-d3bf7faaea51"
      },
      "outputs": [
        {
          "output_type": "execute_result",
          "data": {
            "text/plain": [
              "                                                    text  score  \\\n",
              "0      b'I have bought several of the Vitality canned...    5.0   \n",
              "1      b'Product arrived labeled as Jumbo Salted Pean...    1.0   \n",
              "2      b'This is a confection that has been around a ...    4.0   \n",
              "3      b'If you are looking for the secret ingredient...    2.0   \n",
              "4      b'Great taffy at a great price.  There was a w...    5.0   \n",
              "...                                                  ...    ...   \n",
              "35167  b\"Once I tasted Hazelnut coffee, I was hooked!...    5.0   \n",
              "35168  b\"Has Maxwell House quit making this coffee?  ...    5.0   \n",
              "35169  b\"Nutty, smooth, subtle, with a WONDERFUL arom...    5.0   \n",
              "35170  b'Price was right and the taste very good.  We...    5.0   \n",
              "35171  b'This sauce gives you authentic tonkatsu flav...    5.0   \n",
              "\n",
              "       Words Per Review  \n",
              "0                    48  \n",
              "1                    31  \n",
              "2                    94  \n",
              "3                    41  \n",
              "4                    27  \n",
              "...                 ...  \n",
              "35167                56  \n",
              "35168                24  \n",
              "35169                52  \n",
              "35170                26  \n",
              "35171                29  \n",
              "\n",
              "[35172 rows x 3 columns]"
            ],
            "text/html": [
              "\n",
              "  <div id=\"df-db26b639-a5ca-4643-8aa8-7b63c4b83517\">\n",
              "    <div class=\"colab-df-container\">\n",
              "      <div>\n",
              "<style scoped>\n",
              "    .dataframe tbody tr th:only-of-type {\n",
              "        vertical-align: middle;\n",
              "    }\n",
              "\n",
              "    .dataframe tbody tr th {\n",
              "        vertical-align: top;\n",
              "    }\n",
              "\n",
              "    .dataframe thead th {\n",
              "        text-align: right;\n",
              "    }\n",
              "</style>\n",
              "<table border=\"1\" class=\"dataframe\">\n",
              "  <thead>\n",
              "    <tr style=\"text-align: right;\">\n",
              "      <th></th>\n",
              "      <th>text</th>\n",
              "      <th>score</th>\n",
              "      <th>Words Per Review</th>\n",
              "    </tr>\n",
              "  </thead>\n",
              "  <tbody>\n",
              "    <tr>\n",
              "      <th>0</th>\n",
              "      <td>b'I have bought several of the Vitality canned...</td>\n",
              "      <td>5.0</td>\n",
              "      <td>48</td>\n",
              "    </tr>\n",
              "    <tr>\n",
              "      <th>1</th>\n",
              "      <td>b'Product arrived labeled as Jumbo Salted Pean...</td>\n",
              "      <td>1.0</td>\n",
              "      <td>31</td>\n",
              "    </tr>\n",
              "    <tr>\n",
              "      <th>2</th>\n",
              "      <td>b'This is a confection that has been around a ...</td>\n",
              "      <td>4.0</td>\n",
              "      <td>94</td>\n",
              "    </tr>\n",
              "    <tr>\n",
              "      <th>3</th>\n",
              "      <td>b'If you are looking for the secret ingredient...</td>\n",
              "      <td>2.0</td>\n",
              "      <td>41</td>\n",
              "    </tr>\n",
              "    <tr>\n",
              "      <th>4</th>\n",
              "      <td>b'Great taffy at a great price.  There was a w...</td>\n",
              "      <td>5.0</td>\n",
              "      <td>27</td>\n",
              "    </tr>\n",
              "    <tr>\n",
              "      <th>...</th>\n",
              "      <td>...</td>\n",
              "      <td>...</td>\n",
              "      <td>...</td>\n",
              "    </tr>\n",
              "    <tr>\n",
              "      <th>35167</th>\n",
              "      <td>b\"Once I tasted Hazelnut coffee, I was hooked!...</td>\n",
              "      <td>5.0</td>\n",
              "      <td>56</td>\n",
              "    </tr>\n",
              "    <tr>\n",
              "      <th>35168</th>\n",
              "      <td>b\"Has Maxwell House quit making this coffee?  ...</td>\n",
              "      <td>5.0</td>\n",
              "      <td>24</td>\n",
              "    </tr>\n",
              "    <tr>\n",
              "      <th>35169</th>\n",
              "      <td>b\"Nutty, smooth, subtle, with a WONDERFUL arom...</td>\n",
              "      <td>5.0</td>\n",
              "      <td>52</td>\n",
              "    </tr>\n",
              "    <tr>\n",
              "      <th>35170</th>\n",
              "      <td>b'Price was right and the taste very good.  We...</td>\n",
              "      <td>5.0</td>\n",
              "      <td>26</td>\n",
              "    </tr>\n",
              "    <tr>\n",
              "      <th>35171</th>\n",
              "      <td>b'This sauce gives you authentic tonkatsu flav...</td>\n",
              "      <td>5.0</td>\n",
              "      <td>29</td>\n",
              "    </tr>\n",
              "  </tbody>\n",
              "</table>\n",
              "<p>35172 rows × 3 columns</p>\n",
              "</div>\n",
              "      <button class=\"colab-df-convert\" onclick=\"convertToInteractive('df-db26b639-a5ca-4643-8aa8-7b63c4b83517')\"\n",
              "              title=\"Convert this dataframe to an interactive table.\"\n",
              "              style=\"display:none;\">\n",
              "        \n",
              "  <svg xmlns=\"http://www.w3.org/2000/svg\" height=\"24px\"viewBox=\"0 0 24 24\"\n",
              "       width=\"24px\">\n",
              "    <path d=\"M0 0h24v24H0V0z\" fill=\"none\"/>\n",
              "    <path d=\"M18.56 5.44l.94 2.06.94-2.06 2.06-.94-2.06-.94-.94-2.06-.94 2.06-2.06.94zm-11 1L8.5 8.5l.94-2.06 2.06-.94-2.06-.94L8.5 2.5l-.94 2.06-2.06.94zm10 10l.94 2.06.94-2.06 2.06-.94-2.06-.94-.94-2.06-.94 2.06-2.06.94z\"/><path d=\"M17.41 7.96l-1.37-1.37c-.4-.4-.92-.59-1.43-.59-.52 0-1.04.2-1.43.59L10.3 9.45l-7.72 7.72c-.78.78-.78 2.05 0 2.83L4 21.41c.39.39.9.59 1.41.59.51 0 1.02-.2 1.41-.59l7.78-7.78 2.81-2.81c.8-.78.8-2.07 0-2.86zM5.41 20L4 18.59l7.72-7.72 1.47 1.35L5.41 20z\"/>\n",
              "  </svg>\n",
              "      </button>\n",
              "      \n",
              "  <style>\n",
              "    .colab-df-container {\n",
              "      display:flex;\n",
              "      flex-wrap:wrap;\n",
              "      gap: 12px;\n",
              "    }\n",
              "\n",
              "    .colab-df-convert {\n",
              "      background-color: #E8F0FE;\n",
              "      border: none;\n",
              "      border-radius: 50%;\n",
              "      cursor: pointer;\n",
              "      display: none;\n",
              "      fill: #1967D2;\n",
              "      height: 32px;\n",
              "      padding: 0 0 0 0;\n",
              "      width: 32px;\n",
              "    }\n",
              "\n",
              "    .colab-df-convert:hover {\n",
              "      background-color: #E2EBFA;\n",
              "      box-shadow: 0px 1px 2px rgba(60, 64, 67, 0.3), 0px 1px 3px 1px rgba(60, 64, 67, 0.15);\n",
              "      fill: #174EA6;\n",
              "    }\n",
              "\n",
              "    [theme=dark] .colab-df-convert {\n",
              "      background-color: #3B4455;\n",
              "      fill: #D2E3FC;\n",
              "    }\n",
              "\n",
              "    [theme=dark] .colab-df-convert:hover {\n",
              "      background-color: #434B5C;\n",
              "      box-shadow: 0px 1px 3px 1px rgba(0, 0, 0, 0.15);\n",
              "      filter: drop-shadow(0px 1px 2px rgba(0, 0, 0, 0.3));\n",
              "      fill: #FFFFFF;\n",
              "    }\n",
              "  </style>\n",
              "\n",
              "      <script>\n",
              "        const buttonEl =\n",
              "          document.querySelector('#df-db26b639-a5ca-4643-8aa8-7b63c4b83517 button.colab-df-convert');\n",
              "        buttonEl.style.display =\n",
              "          google.colab.kernel.accessAllowed ? 'block' : 'none';\n",
              "\n",
              "        async function convertToInteractive(key) {\n",
              "          const element = document.querySelector('#df-db26b639-a5ca-4643-8aa8-7b63c4b83517');\n",
              "          const dataTable =\n",
              "            await google.colab.kernel.invokeFunction('convertToInteractive',\n",
              "                                                     [key], {});\n",
              "          if (!dataTable) return;\n",
              "\n",
              "          const docLinkHtml = 'Like what you see? Visit the ' +\n",
              "            '<a target=\"_blank\" href=https://colab.research.google.com/notebooks/data_table.ipynb>data table notebook</a>'\n",
              "            + ' to learn more about interactive tables.';\n",
              "          element.innerHTML = '';\n",
              "          dataTable['output_type'] = 'display_data';\n",
              "          await google.colab.output.renderOutput(dataTable, element);\n",
              "          const docLink = document.createElement('div');\n",
              "          docLink.innerHTML = docLinkHtml;\n",
              "          element.appendChild(docLink);\n",
              "        }\n",
              "      </script>\n",
              "    </div>\n",
              "  </div>\n",
              "  "
            ]
          },
          "metadata": {},
          "execution_count": 133
        }
      ],
      "source": [
        "df"
      ]
    },
    {
      "cell_type": "code",
      "execution_count": 134,
      "metadata": {
        "id": "8ZW-9EWiBjlq"
      },
      "outputs": [],
      "source": [
        "# df.to_csv(PATH_PREPROCESSED_DATASET, index=False)"
      ]
    },
    {
      "cell_type": "markdown",
      "metadata": {
        "id": "6-96XoBZo4zB"
      },
      "source": [
        "## Spelling Correction\n",
        "In the world of fast typing and fat-finger typing, incoming text data often has\n",
        "spelling errors. This can be prevalent in search engines, text-based chatbots deployed\n",
        "on mobile devices, social media, and many other sources. While we remove HTML\n",
        "tags and handle Unicode characters, this remains a unique problem that may hurt the\n",
        "linguistic understanding of the data, and shorthand text messages in social micro‐\n",
        "blogs often hinder language processing and context understanding\n",
        "\n",
        "from: https://learn.microsoft.com/en-us/bing/search-apis/bing-spell-check/overview"
      ]
    },
    {
      "cell_type": "code",
      "execution_count": 135,
      "metadata": {
        "id": "qHhNT-Pko6i4"
      },
      "outputs": [],
      "source": [
        "import requests\n",
        "import json"
      ]
    },
    {
      "cell_type": "code",
      "execution_count": 136,
      "metadata": {
        "id": "1nKObnRZpznB"
      },
      "outputs": [],
      "source": [
        "def spelling_correction(example_text):\n",
        "  api_key = \"b104cefaeaf14858b97b8823375f53c7\"  # TODO: Davide prova a far funzionare questo, segui le indicazioni qui https://learn.microsoft.com/en-us/bing/search-apis/bing-spell-check/overview\n",
        "  example_text = \"Hollo, wrld\"\n",
        "  endpoint = \"https://api.bing.microsoft.com/v7.0/spellcheck?\"\n",
        "\n",
        "  # Create a new dictionary with text as the key, and your text as the value.\n",
        "  data = {'text': example_text}\n",
        "\n",
        "  # Add the parameters for your request:\n",
        "  #   a. Assign your market code to the mkt parameter with the = operator. The market code is the code of the country/region you make the request from.\n",
        "  #   b. Add the mode parameter with the & operator, and then assign the spell-check mode. The mode can be either proof (catches most spelling/grammar errors) or spell (catches most spelling errors, but not as many grammar errors).\n",
        "\n",
        "  params = {\n",
        "    'mkt':'en-us',\n",
        "    'mode':'proof'\n",
        "    }\n",
        "\n",
        "  # Add a Content-Type header and your subscription key to the Ocp-Apim-Subscription-Key header.\n",
        "  headers = {\n",
        "    'Content-Type': 'application/x-www-form-urlencoded',\n",
        "    'Ocp-Apim-Subscription-Key': api_key,\n",
        "    }\n",
        "\n",
        "  # Send the POST request by using the requests library.\n",
        "  response = requests.post(endpoint, headers=headers, params=params, data=data)\n",
        "\n",
        "  # Get the JSON response\n",
        "  json_response = response.json()\n",
        "  print(json.dumps(json_response, indent=4))\n",
        "  return json.dumps(json_response, indent=4)\n",
        "  "
      ]
    },
    {
      "cell_type": "code",
      "execution_count": 137,
      "metadata": {
        "colab": {
          "base_uri": "https://localhost:8080/",
          "height": 177
        },
        "id": "kOjSfHuNrRyX",
        "outputId": "c69256b5-7b49-4986-cc77-fa7748327c8d"
      },
      "outputs": [
        {
          "output_type": "stream",
          "name": "stdout",
          "text": [
            "{\n",
            "    \"error\": {\n",
            "        \"code\": \"401\",\n",
            "        \"message\": \"Access denied due to invalid subscription key or wrong API endpoint. Make sure to provide a valid key for an active subscription and use a correct regional API endpoint for your resource.\"\n",
            "    }\n",
            "}\n"
          ]
        },
        {
          "output_type": "execute_result",
          "data": {
            "text/plain": [
              "'{\\n    \"error\": {\\n        \"code\": \"401\",\\n        \"message\": \"Access denied due to invalid subscription key or wrong API endpoint. Make sure to provide a valid key for an active subscription and use a correct regional API endpoint for your resource.\"\\n    }\\n}'"
            ],
            "application/vnd.google.colaboratory.intrinsic+json": {
              "type": "string"
            }
          },
          "metadata": {},
          "execution_count": 137
        }
      ],
      "source": [
        "spelling_correction(df.text.iloc[10])"
      ]
    },
    {
      "cell_type": "markdown",
      "metadata": {
        "id": "AkXA1PGLam3a"
      },
      "source": [
        "# Pre-Processing\n",
        "Our text-extraction step removed all this and gave us the plain text of the\n",
        "article we need. However, all NLP software typically works at the sentence level and\n",
        "expects a separation of words at the minimum. So, we need some way to split a text\n",
        "into words and sentences before proceeding further in a processing pipeline. Some‐\n",
        "times, we need to remove special characters and digits, and sometimes, we don’t care\n",
        "whether a word is in upper or lowercase and want everything in lowercase. Many\n",
        "more decisions like this are made while processing text. Such decisions are addressed\n",
        "during the pre-processing step of the NLP pipeline. Here are some common preprocessing steps used in NLP software:\n",
        "\n",
        "- Preliminaries: Sentence segmentation and word tokenization.\n",
        "- Frequent steps: Stop word removal, stemming and lemmatization, removing digits/punctuation,\n",
        "lowercasing, etc.\n",
        "- Other steps: Normalization, language detection, code mixing, transliteration, etc.\n",
        "- Advanced processing: POS tagging, parsing, coreference resolution, etc."
      ]
    },
    {
      "cell_type": "markdown",
      "metadata": {
        "id": "-JEmRsaE8FC9"
      },
      "source": [
        "## Preliminaries"
      ]
    },
    {
      "cell_type": "markdown",
      "metadata": {
        "id": "iJ28pslE8QPU"
      },
      "source": [
        "As mentioned earlier, NLP software typically analyzes text by breaking it up into\n",
        "words (tokens) and sentences. Hence, any NLP pipeline has to start with a reliable\n",
        "system to split the text into sentences (sentence segmentation) and further split a sentence into words (word tokenization)"
      ]
    },
    {
      "cell_type": "markdown",
      "metadata": {
        "id": "oKlpszgF8uSg"
      },
      "source": [
        "### Sentence segmentation"
      ]
    },
    {
      "cell_type": "markdown",
      "metadata": {
        "id": "RMMom7Iy8z3k"
      },
      "source": [
        "As a simple rule, we can do sentence segmentation by breaking up text into sentences\n",
        "at the appearance of full stops and question marks. However, there may be abbrevia‐\n",
        "tions, forms of addresses (Dr., Mr., etc.), or ellipses (...) that may break the simple\n",
        "rule."
      ]
    },
    {
      "cell_type": "code",
      "execution_count": 138,
      "metadata": {
        "id": "jt-mloAp8GMv"
      },
      "outputs": [],
      "source": [
        "from nltk.tokenize import sent_tokenize, word_tokenize"
      ]
    },
    {
      "cell_type": "code",
      "execution_count": 139,
      "metadata": {
        "colab": {
          "base_uri": "https://localhost:8080/",
          "height": 35
        },
        "id": "6qLKP25H9tnk",
        "outputId": "cc9d0f50-42ad-4e09-c395-ac24d86501fc"
      },
      "outputs": [
        {
          "output_type": "execute_result",
          "data": {
            "text/plain": [
              "\"b'Great taffy at a great price.  There was a wide assortment of yummy taffy.  Delivery was very quick.  If your a taffy lover, this is a deal.'\""
            ],
            "application/vnd.google.colaboratory.intrinsic+json": {
              "type": "string"
            }
          },
          "metadata": {},
          "execution_count": 139
        }
      ],
      "source": [
        "df.text.iloc[4]"
      ]
    },
    {
      "cell_type": "code",
      "execution_count": 140,
      "metadata": {
        "colab": {
          "base_uri": "https://localhost:8080/"
        },
        "id": "7u6-YQd8qLav",
        "outputId": "30b07816-64ca-4b20-bd91-2993f3256a08"
      },
      "outputs": [
        {
          "output_type": "execute_result",
          "data": {
            "text/plain": [
              "[\"b'Great taffy at a great price.\",\n",
              " 'There was a wide assortment of yummy taffy.',\n",
              " 'Delivery was very quick.',\n",
              " \"If your a taffy lover, this is a deal.'\"]"
            ]
          },
          "metadata": {},
          "execution_count": 140
        }
      ],
      "source": [
        "sent_tokenize(df.text.iloc[4])"
      ]
    },
    {
      "cell_type": "code",
      "execution_count": 141,
      "metadata": {
        "colab": {
          "base_uri": "https://localhost:8080/"
        },
        "id": "Cvt8685t85C3",
        "outputId": "8a3e5c67-52f1-4c58-bc9b-8f7a6b8f359a"
      },
      "outputs": [
        {
          "output_type": "stream",
          "name": "stderr",
          "text": [
            "<ipython-input-141-567c2ed03fd2>:1: SettingWithCopyWarning: \n",
            "A value is trying to be set on a copy of a slice from a DataFrame.\n",
            "Try using .loc[row_indexer,col_indexer] = value instead\n",
            "\n",
            "See the caveats in the documentation: https://pandas.pydata.org/pandas-docs/stable/user_guide/indexing.html#returning-a-view-versus-a-copy\n",
            "  df.text = df.text.apply(sent_tokenize)\n"
          ]
        }
      ],
      "source": [
        "df.text = df.text.apply(sent_tokenize)"
      ]
    },
    {
      "cell_type": "markdown",
      "metadata": {
        "id": "xxU0aPPeDGsc"
      },
      "source": [
        "### Word tokenization\n",
        "While readily available solutions work for most of our needs and most NLP libraries\n",
        "will have a tokenizer and sentence splitter bundled with them, it’s important to\n",
        "remember that they’re far from perfect. For example, consider this sentence: “Mr. Jack\n",
        "O’Neil works at Melitas Marg, located at 245 Yonge Avenue, Austin, 70272.” If we run\n",
        "this through the NLTK tokenizer, O, ‘, and Neil are identified as three separate tokens.\n",
        "Similarly, if we run the sentence: “There are \\$10,000 and €1000 which are there just\n",
        "for testing a tokenizer” through this tokenizer, while $ and 10,000 are identified as\n",
        "separate tokens, €1000 is identified as a single token. In another scenario, if we want\n",
        "to tokenize tweets, this tokenizer will separate a hashtag into two tokens: a “#” sign\n",
        "and the string that follows it. In such cases, we may need to use a custom tokenizer\n",
        "built for our purpose"
      ]
    },
    {
      "cell_type": "code",
      "execution_count": 142,
      "metadata": {
        "id": "MiQeNnGuF-IF"
      },
      "outputs": [],
      "source": [
        "def word_tokenize_custom(list_of_sent):\n",
        "  list_of_word = []\n",
        "  for sent in list_of_sent:\n",
        "    list_of_word.extend(word_tokenize(sent))\n",
        "\n",
        "  return list_of_word"
      ]
    },
    {
      "cell_type": "code",
      "execution_count": 143,
      "metadata": {
        "colab": {
          "base_uri": "https://localhost:8080/"
        },
        "id": "KqcseiGyeEiN",
        "outputId": "c9b0f514-d4bf-4d23-fb54-46618ee08882"
      },
      "outputs": [
        {
          "output_type": "execute_result",
          "data": {
            "text/plain": [
              "[\"b'Great taffy at a great price.\",\n",
              " 'There was a wide assortment of yummy taffy.',\n",
              " 'Delivery was very quick.',\n",
              " \"If your a taffy lover, this is a deal.'\"]"
            ]
          },
          "metadata": {},
          "execution_count": 143
        }
      ],
      "source": [
        "df.text.iloc[4]"
      ]
    },
    {
      "cell_type": "code",
      "execution_count": 144,
      "metadata": {
        "colab": {
          "base_uri": "https://localhost:8080/"
        },
        "id": "7WhS0AE4q8cA",
        "outputId": "c42f42f2-881d-4e6d-ff83-04460d941425"
      },
      "outputs": [
        {
          "output_type": "execute_result",
          "data": {
            "text/plain": [
              "[\"b'Great\",\n",
              " 'taffy',\n",
              " 'at',\n",
              " 'a',\n",
              " 'great',\n",
              " 'price',\n",
              " '.',\n",
              " 'There',\n",
              " 'was',\n",
              " 'a',\n",
              " 'wide',\n",
              " 'assortment',\n",
              " 'of',\n",
              " 'yummy',\n",
              " 'taffy',\n",
              " '.',\n",
              " 'Delivery',\n",
              " 'was',\n",
              " 'very',\n",
              " 'quick',\n",
              " '.',\n",
              " 'If',\n",
              " 'your',\n",
              " 'a',\n",
              " 'taffy',\n",
              " 'lover',\n",
              " ',',\n",
              " 'this',\n",
              " 'is',\n",
              " 'a',\n",
              " 'deal',\n",
              " '.',\n",
              " \"'\"]"
            ]
          },
          "metadata": {},
          "execution_count": 144
        }
      ],
      "source": [
        "word_tokenize_custom(df.text.iloc[4])"
      ]
    },
    {
      "cell_type": "code",
      "execution_count": 145,
      "metadata": {
        "colab": {
          "base_uri": "https://localhost:8080/"
        },
        "id": "Im0x6fvtDI3s",
        "outputId": "07b03d69-1e6b-4a80-e895-f659b245fe14"
      },
      "outputs": [
        {
          "output_type": "stream",
          "name": "stderr",
          "text": [
            "<ipython-input-145-6dce8133e54f>:1: SettingWithCopyWarning: \n",
            "A value is trying to be set on a copy of a slice from a DataFrame.\n",
            "Try using .loc[row_indexer,col_indexer] = value instead\n",
            "\n",
            "See the caveats in the documentation: https://pandas.pydata.org/pandas-docs/stable/user_guide/indexing.html#returning-a-view-versus-a-copy\n",
            "  df.text = df.text.apply(word_tokenize_custom) # TODO: da migliroare\n"
          ]
        }
      ],
      "source": [
        "df.text = df.text.apply(word_tokenize_custom) # TODO: da migliroare"
      ]
    },
    {
      "cell_type": "markdown",
      "metadata": {
        "id": "EUPpoYDGHFev"
      },
      "source": [
        "## Frequent Steps\n",
        "Some of\n",
        "the frequently used words in English, such as a, an, the, of, in, etc., are not particularly useful for this task, as they don’t carry any content on their own to separate\n",
        "between the four categories. Such words are called stop words and are typically\n",
        "(though not always) removed from further analysis in such problem scenarios. There\n",
        "is no standard list of stop words for English, though. There are some popular lists\n",
        "(NLTK has one, for example), although what a stop word is can vary depending on what we’re working on.\n",
        "\n",
        "Similarly, in some cases, upper or lowercase may not make a difference for the problem. So, all text is lowercased (or uppercased, although lowercasing is more common). Removing punctuation and/or numbers is also a common step for many NLP\n",
        "problems, such as text classification, information retrieval,\n",
        "and social media analytics\n"
      ]
    },
    {
      "cell_type": "code",
      "execution_count": 146,
      "metadata": {
        "id": "v0U81C-tHH7t"
      },
      "outputs": [],
      "source": [
        "from nltk.corpus import stopwords\n",
        "from string import punctuation\n",
        " \n",
        "def preprocess_corpus(texts):\n",
        "  '''\n",
        "  Remove stop words, digits, and punctuation and lowercase a given collection of texts\n",
        "  '''\n",
        "  mystopwords = set(stopwords.words(\"english\"))\n",
        "  \n",
        "  def remove_stops_digits(tokens):\n",
        "    return [token.lower() for token in tokens if token not in mystopwords and not token.isdigit() and token not in punctuation]\n",
        "  \n",
        "  return [remove_stops_digits(text) for text in texts]\n",
        "  # TODO: this method doesn't remove the points '.'! pls check and fix!\n",
        "\n"
      ]
    },
    {
      "cell_type": "code",
      "execution_count": 147,
      "metadata": {
        "colab": {
          "base_uri": "https://localhost:8080/"
        },
        "id": "xAievS72oW7v",
        "outputId": "28db368d-fba4-4b0a-ddf1-cf5d7bc02b85"
      },
      "outputs": [
        {
          "output_type": "execute_result",
          "data": {
            "text/plain": [
              "[\"b'Great\",\n",
              " 'taffy',\n",
              " 'at',\n",
              " 'a',\n",
              " 'great',\n",
              " 'price',\n",
              " '.',\n",
              " 'There',\n",
              " 'was',\n",
              " 'a',\n",
              " 'wide',\n",
              " 'assortment',\n",
              " 'of',\n",
              " 'yummy',\n",
              " 'taffy',\n",
              " '.',\n",
              " 'Delivery',\n",
              " 'was',\n",
              " 'very',\n",
              " 'quick',\n",
              " '.',\n",
              " 'If',\n",
              " 'your',\n",
              " 'a',\n",
              " 'taffy',\n",
              " 'lover',\n",
              " ',',\n",
              " 'this',\n",
              " 'is',\n",
              " 'a',\n",
              " 'deal',\n",
              " '.',\n",
              " \"'\"]"
            ]
          },
          "metadata": {},
          "execution_count": 147
        }
      ],
      "source": [
        "df.text.iloc[4]"
      ]
    },
    {
      "cell_type": "code",
      "execution_count": 148,
      "metadata": {
        "colab": {
          "base_uri": "https://localhost:8080/"
        },
        "id": "79de52SlrRhs",
        "outputId": "7415f286-b2cb-4b1d-cb41-4f992cc5e065"
      },
      "outputs": [
        {
          "output_type": "execute_result",
          "data": {
            "text/plain": [
              "[['b', 'g', 'r', 'e'],\n",
              " ['f', 'f'],\n",
              " [],\n",
              " [],\n",
              " ['g', 'r', 'e'],\n",
              " ['p', 'r', 'c', 'e'],\n",
              " [],\n",
              " ['t', 'h', 'e', 'r', 'e'],\n",
              " ['w'],\n",
              " [],\n",
              " ['w', 'e'],\n",
              " ['r', 'e', 'n'],\n",
              " ['f'],\n",
              " ['u'],\n",
              " ['f', 'f'],\n",
              " [],\n",
              " ['d', 'e', 'l', 'v', 'e', 'r'],\n",
              " ['w'],\n",
              " ['v', 'e', 'r'],\n",
              " ['q', 'u', 'c', 'k'],\n",
              " [],\n",
              " ['i', 'f'],\n",
              " ['u', 'r'],\n",
              " [],\n",
              " ['f', 'f'],\n",
              " ['l', 'v', 'e', 'r'],\n",
              " [],\n",
              " ['h'],\n",
              " [],\n",
              " [],\n",
              " ['e', 'l'],\n",
              " [],\n",
              " []]"
            ]
          },
          "metadata": {},
          "execution_count": 148
        }
      ],
      "source": [
        "preprocess_corpus(df.text.iloc[4])"
      ]
    },
    {
      "cell_type": "code",
      "execution_count": 149,
      "metadata": {
        "id": "HJnptpbhP5Xq"
      },
      "outputs": [],
      "source": [
        "# df.text = df.text.apply(preprocess_corpus)"
      ]
    },
    {
      "cell_type": "markdown",
      "metadata": {
        "id": "wA6InY3AMxP8"
      },
      "source": [
        "### Stemming and lemmatization\n",
        "\n",
        "Stemming refers to the process of removing suffixes and reducing a word to some\n",
        "base form such that all different variants of that word can be represented by the same form (e.g., “car” and “cars” are both reduced to “car”). This is accomplished by applying a fixed set of rules (e.g., if the word ends in “-es,” remove “-es”). Although such rules may not always end up in a linguistically correct base form, stemming is commonly used in search engines to match user queries to relevant documents and in text classification to reduce the feature space to train machine learning models.\n",
        "\n",
        "\n",
        "Lemmatization is the process of mapping all the different forms of a word to its base\n",
        "word, or lemma. While this seems close to the definition of stemming, they are, in\n",
        "fact, different. For example, the adjective “better,” when stemmed, remains the same.\n",
        "However, upon lemmatization, this should become “good.\n",
        "\n",
        "![image.png](data:image/png;base64,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)"
      ]
    },
    {
      "cell_type": "code",
      "execution_count": 150,
      "metadata": {
        "id": "8DEgr-ToMyZ1"
      },
      "outputs": [],
      "source": [
        "from nltk.stem.porter import PorterStemmer\n",
        "\n",
        "def make_stemming(sent):\n",
        "  stemmer = PorterStemmer()\n",
        "  stemmed_sentence = []\n",
        "  for word in sent:\n",
        "    stemmed_word = stemmer.stem(word)\n",
        "    stemmed_sentence.append(stemmed_word)\n",
        "  \n",
        "  return stemmed_sentence"
      ]
    },
    {
      "cell_type": "code",
      "execution_count": 151,
      "metadata": {
        "colab": {
          "base_uri": "https://localhost:8080/"
        },
        "id": "zYjs8wzQt-DS",
        "outputId": "a6719e95-c890-44ba-b61a-d7ea3a4c8b96"
      },
      "outputs": [
        {
          "output_type": "execute_result",
          "data": {
            "text/plain": [
              "[\"b'Great\",\n",
              " 'taffy',\n",
              " 'at',\n",
              " 'a',\n",
              " 'great',\n",
              " 'price',\n",
              " '.',\n",
              " 'There',\n",
              " 'was',\n",
              " 'a',\n",
              " 'wide',\n",
              " 'assortment',\n",
              " 'of',\n",
              " 'yummy',\n",
              " 'taffy',\n",
              " '.',\n",
              " 'Delivery',\n",
              " 'was',\n",
              " 'very',\n",
              " 'quick',\n",
              " '.',\n",
              " 'If',\n",
              " 'your',\n",
              " 'a',\n",
              " 'taffy',\n",
              " 'lover',\n",
              " ',',\n",
              " 'this',\n",
              " 'is',\n",
              " 'a',\n",
              " 'deal',\n",
              " '.',\n",
              " \"'\"]"
            ]
          },
          "metadata": {},
          "execution_count": 151
        }
      ],
      "source": [
        "df.text.iloc[4]"
      ]
    },
    {
      "cell_type": "code",
      "execution_count": 152,
      "metadata": {
        "colab": {
          "base_uri": "https://localhost:8080/"
        },
        "id": "rQDoPPBut5Ml",
        "outputId": "b9d8c77a-c285-482e-c466-77985d09c80d"
      },
      "outputs": [
        {
          "output_type": "execute_result",
          "data": {
            "text/plain": [
              "[\"b'great\",\n",
              " 'taffi',\n",
              " 'at',\n",
              " 'a',\n",
              " 'great',\n",
              " 'price',\n",
              " '.',\n",
              " 'there',\n",
              " 'wa',\n",
              " 'a',\n",
              " 'wide',\n",
              " 'assort',\n",
              " 'of',\n",
              " 'yummi',\n",
              " 'taffi',\n",
              " '.',\n",
              " 'deliveri',\n",
              " 'wa',\n",
              " 'veri',\n",
              " 'quick',\n",
              " '.',\n",
              " 'if',\n",
              " 'your',\n",
              " 'a',\n",
              " 'taffi',\n",
              " 'lover',\n",
              " ',',\n",
              " 'thi',\n",
              " 'is',\n",
              " 'a',\n",
              " 'deal',\n",
              " '.',\n",
              " \"'\"]"
            ]
          },
          "metadata": {},
          "execution_count": 152
        }
      ],
      "source": [
        "make_stemming(df.text.iloc[4])"
      ]
    },
    {
      "cell_type": "code",
      "execution_count": 153,
      "metadata": {
        "colab": {
          "base_uri": "https://localhost:8080/"
        },
        "id": "uFlSHEtFOPhX",
        "outputId": "1a84da9c-1aa1-4638-e0ae-202eb19be59b"
      },
      "outputs": [
        {
          "output_type": "stream",
          "name": "stderr",
          "text": [
            "<ipython-input-153-537e78d757aa>:1: SettingWithCopyWarning: \n",
            "A value is trying to be set on a copy of a slice from a DataFrame.\n",
            "Try using .loc[row_indexer,col_indexer] = value instead\n",
            "\n",
            "See the caveats in the documentation: https://pandas.pydata.org/pandas-docs/stable/user_guide/indexing.html#returning-a-view-versus-a-copy\n",
            "  df.text = df.text.apply(make_stemming)\n"
          ]
        }
      ],
      "source": [
        "df.text = df.text.apply(make_stemming)"
      ]
    },
    {
      "cell_type": "code",
      "execution_count": 154,
      "metadata": {
        "id": "7lgPdC1MPb0c"
      },
      "outputs": [],
      "source": [
        "import spacy\n",
        "\n",
        "def make_lemmatization(sentence):\n",
        "  sp = spacy.load('en_core_web_sm')\n",
        "\n",
        "  list_of_lemmatize_words = []\n",
        "  for word in sentence:\n",
        "    token = sp(word) # The ‘u’ in front of a string means the string is a Unicode string.\n",
        "    list_of_lemmatize_words.append(token[0].lemma_)\n",
        "  \n",
        "  return list_of_lemmatize_words"
      ]
    },
    {
      "cell_type": "code",
      "execution_count": 155,
      "metadata": {
        "colab": {
          "base_uri": "https://localhost:8080/"
        },
        "id": "zxS97fT8vSJE",
        "outputId": "0098a480-d336-4916-e9c5-c715f82cc3a3"
      },
      "outputs": [
        {
          "output_type": "execute_result",
          "data": {
            "text/plain": [
              "['b',\n",
              " \"''\",\n",
              " 'i',\n",
              " 'do',\n",
              " \"n't\",\n",
              " 'know',\n",
              " 'if',\n",
              " 'it',\n",
              " \"'s\",\n",
              " 'the',\n",
              " 'cactu',\n",
              " 'or',\n",
              " 'the',\n",
              " 'tequila',\n",
              " 'or',\n",
              " 'just',\n",
              " 'the',\n",
              " 'uniqu',\n",
              " 'combin',\n",
              " 'of',\n",
              " 'ingredi',\n",
              " ',',\n",
              " 'but',\n",
              " 'the',\n",
              " 'flavour',\n",
              " 'of',\n",
              " 'thi',\n",
              " 'hot',\n",
              " 'sauc',\n",
              " 'make',\n",
              " 'it',\n",
              " 'one',\n",
              " 'of',\n",
              " 'a',\n",
              " 'kind',\n",
              " '!',\n",
              " 'we',\n",
              " 'pick',\n",
              " 'up',\n",
              " 'a',\n",
              " 'bottl',\n",
              " 'onc',\n",
              " 'on',\n",
              " 'a',\n",
              " 'trip',\n",
              " 'we',\n",
              " 'were',\n",
              " 'on',\n",
              " 'and',\n",
              " 'brought',\n",
              " 'it',\n",
              " 'back',\n",
              " 'home',\n",
              " 'with',\n",
              " 'us',\n",
              " 'and',\n",
              " 'were',\n",
              " 'total',\n",
              " 'blown',\n",
              " 'away',\n",
              " '!',\n",
              " 'when',\n",
              " 'we',\n",
              " 'realiz',\n",
              " 'that',\n",
              " 'we',\n",
              " 'simpli',\n",
              " 'could',\n",
              " \"n't\",\n",
              " 'find',\n",
              " 'it',\n",
              " 'anywher',\n",
              " 'in',\n",
              " 'our',\n",
              " 'citi',\n",
              " 'we',\n",
              " 'were',\n",
              " 'bum',\n",
              " '.',\n",
              " 'now',\n",
              " ',',\n",
              " 'becaus',\n",
              " 'of',\n",
              " 'the',\n",
              " 'magic',\n",
              " 'of',\n",
              " 'the',\n",
              " 'internet',\n",
              " ',',\n",
              " 'we',\n",
              " 'have',\n",
              " 'a',\n",
              " 'case',\n",
              " 'of',\n",
              " 'the',\n",
              " 'sauc',\n",
              " 'and',\n",
              " 'are',\n",
              " 'ecstat',\n",
              " 'becaus',\n",
              " 'of',\n",
              " 'it',\n",
              " '.',\n",
              " 'if',\n",
              " 'you',\n",
              " 'love',\n",
              " 'hot',\n",
              " 'sauc',\n",
              " '..',\n",
              " 'i',\n",
              " 'mean',\n",
              " 'realli',\n",
              " 'love',\n",
              " 'hot',\n",
              " 'sauc',\n",
              " ',',\n",
              " 'but',\n",
              " 'do',\n",
              " \"n't\",\n",
              " 'want',\n",
              " 'a',\n",
              " 'sauc',\n",
              " 'that',\n",
              " 'tastelessli',\n",
              " 'burn',\n",
              " 'your',\n",
              " 'throat',\n",
              " ',',\n",
              " 'grab',\n",
              " 'a',\n",
              " 'bottl',\n",
              " 'of',\n",
              " 'tequila',\n",
              " 'picant',\n",
              " 'gourmet',\n",
              " 'de',\n",
              " 'inclan',\n",
              " '.',\n",
              " 'just',\n",
              " 'realiz',\n",
              " 'that',\n",
              " 'onc',\n",
              " 'you',\n",
              " 'tast',\n",
              " 'it',\n",
              " ',',\n",
              " 'you',\n",
              " 'will',\n",
              " 'never',\n",
              " 'want',\n",
              " 'to',\n",
              " 'use',\n",
              " 'ani',\n",
              " 'other',\n",
              " 'sauc',\n",
              " '.',\n",
              " 'thank',\n",
              " 'you',\n",
              " 'for',\n",
              " 'the',\n",
              " 'person',\n",
              " ',',\n",
              " 'incred',\n",
              " 'servic',\n",
              " '!',\n",
              " \"''\"]"
            ]
          },
          "metadata": {},
          "execution_count": 155
        }
      ],
      "source": [
        "df.text.iloc[10]"
      ]
    },
    {
      "cell_type": "code",
      "execution_count": 156,
      "metadata": {
        "colab": {
          "base_uri": "https://localhost:8080/"
        },
        "id": "Xi7b-3vMwkso",
        "outputId": "6636f5a9-3149-49a1-9b1b-df48c74851ea"
      },
      "outputs": [
        {
          "output_type": "execute_result",
          "data": {
            "text/plain": [
              "['b',\n",
              " \"''\",\n",
              " 'I',\n",
              " 'do',\n",
              " 'not',\n",
              " 'know',\n",
              " 'if',\n",
              " 'it',\n",
              " 'be',\n",
              " 'the',\n",
              " 'cactu',\n",
              " 'or',\n",
              " 'the',\n",
              " 'tequila',\n",
              " 'or',\n",
              " 'just',\n",
              " 'the',\n",
              " 'uniqu',\n",
              " 'combin',\n",
              " 'of',\n",
              " 'ingredi',\n",
              " ',',\n",
              " 'but',\n",
              " 'the',\n",
              " 'flavour',\n",
              " 'of',\n",
              " 'thi',\n",
              " 'hot',\n",
              " 'sauc',\n",
              " 'make',\n",
              " 'it',\n",
              " 'one',\n",
              " 'of',\n",
              " 'a',\n",
              " 'kind',\n",
              " '!',\n",
              " 'we',\n",
              " 'pick',\n",
              " 'up',\n",
              " 'a',\n",
              " 'bottl',\n",
              " 'onc',\n",
              " 'on',\n",
              " 'a',\n",
              " 'trip',\n",
              " 'we',\n",
              " 'be',\n",
              " 'on',\n",
              " 'and',\n",
              " 'bring',\n",
              " 'it',\n",
              " 'back',\n",
              " 'home',\n",
              " 'with',\n",
              " 'we',\n",
              " 'and',\n",
              " 'be',\n",
              " 'total',\n",
              " 'blow',\n",
              " 'away',\n",
              " '!',\n",
              " 'when',\n",
              " 'we',\n",
              " 'realiz',\n",
              " 'that',\n",
              " 'we',\n",
              " 'simpli',\n",
              " 'could',\n",
              " 'not',\n",
              " 'find',\n",
              " 'it',\n",
              " 'anywher',\n",
              " 'in',\n",
              " 'our',\n",
              " 'citi',\n",
              " 'we',\n",
              " 'be',\n",
              " 'bum',\n",
              " '.',\n",
              " 'now',\n",
              " ',',\n",
              " 'becaus',\n",
              " 'of',\n",
              " 'the',\n",
              " 'magic',\n",
              " 'of',\n",
              " 'the',\n",
              " 'internet',\n",
              " ',',\n",
              " 'we',\n",
              " 'have',\n",
              " 'a',\n",
              " 'case',\n",
              " 'of',\n",
              " 'the',\n",
              " 'sauc',\n",
              " 'and',\n",
              " 'be',\n",
              " 'ecstat',\n",
              " 'becaus',\n",
              " 'of',\n",
              " 'it',\n",
              " '.',\n",
              " 'if',\n",
              " 'you',\n",
              " 'love',\n",
              " 'hot',\n",
              " 'sauc',\n",
              " '..',\n",
              " 'I',\n",
              " 'mean',\n",
              " 'realli',\n",
              " 'love',\n",
              " 'hot',\n",
              " 'sauc',\n",
              " ',',\n",
              " 'but',\n",
              " 'do',\n",
              " 'not',\n",
              " 'want',\n",
              " 'a',\n",
              " 'sauc',\n",
              " 'that',\n",
              " 'tastelessli',\n",
              " 'burn',\n",
              " 'your',\n",
              " 'throat',\n",
              " ',',\n",
              " 'grab',\n",
              " 'a',\n",
              " 'bottl',\n",
              " 'of',\n",
              " 'tequila',\n",
              " 'picant',\n",
              " 'gourmet',\n",
              " 'de',\n",
              " 'inclan',\n",
              " '.',\n",
              " 'just',\n",
              " 'realiz',\n",
              " 'that',\n",
              " 'onc',\n",
              " 'you',\n",
              " 'tast',\n",
              " 'it',\n",
              " ',',\n",
              " 'you',\n",
              " 'will',\n",
              " 'never',\n",
              " 'want',\n",
              " 'to',\n",
              " 'use',\n",
              " 'ani',\n",
              " 'other',\n",
              " 'sauc',\n",
              " '.',\n",
              " 'thank',\n",
              " 'you',\n",
              " 'for',\n",
              " 'the',\n",
              " 'person',\n",
              " ',',\n",
              " 'incred',\n",
              " 'servic',\n",
              " '!',\n",
              " \"''\"]"
            ]
          },
          "metadata": {},
          "execution_count": 156
        }
      ],
      "source": [
        "make_lemmatization(df.text.iloc[10])"
      ]
    },
    {
      "cell_type": "code",
      "execution_count": 157,
      "metadata": {
        "id": "h79MCrjxR-RW"
      },
      "outputs": [],
      "source": [
        "#df.text = df.text.apply(make_lemmatization) # too much expensive"
      ]
    },
    {
      "cell_type": "code",
      "execution_count": 158,
      "metadata": {
        "id": "6RxPp9Irtig0"
      },
      "outputs": [],
      "source": [
        "# df.to_csv(PATH_PREPROCESSED_DATASET, index=False)"
      ]
    },
    {
      "cell_type": "markdown",
      "metadata": {
        "id": "yGtVCXZW1PVM"
      },
      "source": [
        "# Model - Text Classification\n",
        "\n",
        "The challenge of text classification is to “learn” this categorization from a\n",
        "collection of examples for each of these categories and predict the categories for new,\n",
        "unseen products and new customer reviews.\n",
        "\n",
        "![image.png](data:image/png;base64,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)"
      ]
    },
    {
      "cell_type": "markdown",
      "metadata": {
        "id": "5ylG1eR-ebSl"
      },
      "source": [
        "## A Simple Classifier Without the Text Classification Pipeline: lexicon-based sentiment analysis\n",
        "\n",
        "The **AFINN** lexicon is a list of **English terms** manually rated for valence with an integer between -5 (negative) and +5 (positive) by Finn Årup Nielsen between 2009 and 2011.\n",
        "\n",
        "https://arxiv.org/pdf/1103.2903.pdf\n"
      ]
    },
    {
      "cell_type": "code",
      "execution_count": 160,
      "metadata": {
        "colab": {
          "base_uri": "https://localhost:8080/"
        },
        "id": "XxpueRQ-y2Np",
        "outputId": "f09d56e7-5461-4390-f9d8-758875f8fc83"
      },
      "outputs": [
        {
          "output_type": "stream",
          "name": "stdout",
          "text": [
            "Looking in indexes: https://pypi.org/simple, https://us-python.pkg.dev/colab-wheels/public/simple/\n",
            "Requirement already satisfied: afinn in /usr/local/lib/python3.10/dist-packages (0.1)\n"
          ]
        }
      ],
      "source": [
        "!pip install afinn\n",
        "from afinn import Afinn\n",
        "afinn = Afinn(emoticons=True)"
      ]
    },
    {
      "cell_type": "code",
      "execution_count": 161,
      "metadata": {
        "id": "20-GwoObheKJ"
      },
      "outputs": [],
      "source": [
        "def apply_afinn(row):\n",
        "  score = 0\n",
        "  for word in row:\n",
        "    score += afinn.score(word)\n",
        "\n",
        "  return score"
      ]
    },
    {
      "cell_type": "code",
      "execution_count": 162,
      "metadata": {
        "colab": {
          "base_uri": "https://localhost:8080/",
          "height": 363
        },
        "id": "MgtA4r4_nsDg",
        "outputId": "e47c363e-7828-40a0-f0de-62176bca8b13"
      },
      "outputs": [
        {
          "output_type": "execute_result",
          "data": {
            "text/plain": [
              "   score  afinn                                               text\n",
              "0    5.0    9.0  [b, ', i, have, bought, sever, of, the, vital,...\n",
              "1    1.0   -2.0  [b'product, arriv, label, as, jumbo, salt, pea...\n",
              "2    4.0    5.0  [b'thi, is, a, confect, that, ha, been, around...\n",
              "3    2.0    3.0  [b'if, you, are, look, for, the, secret, ingre...\n",
              "4    5.0    6.0  [b'great, taffi, at, a, great, price, ., there...\n",
              "5    4.0    2.0  [b, ', i, got, a, wild, hair, for, taffi, and,...\n",
              "6    5.0    6.0  [b, '', thi, saltwat, taffi, had, great, flavo...\n",
              "7    5.0    5.0  [b'thi, taffi, is, so, good, ., it, is, veri, ...\n",
              "8    5.0    3.0  [b, '', right, now, i, 'm, mostli, just, sprou...\n",
              "9    5.0    6.0  [b'thi, is, a, veri, healthi, dog, food, ., go..."
            ],
            "text/html": [
              "\n",
              "  <div id=\"df-b5426811-e9bc-41b2-b5f9-dc9f79363b46\">\n",
              "    <div class=\"colab-df-container\">\n",
              "      <div>\n",
              "<style scoped>\n",
              "    .dataframe tbody tr th:only-of-type {\n",
              "        vertical-align: middle;\n",
              "    }\n",
              "\n",
              "    .dataframe tbody tr th {\n",
              "        vertical-align: top;\n",
              "    }\n",
              "\n",
              "    .dataframe thead th {\n",
              "        text-align: right;\n",
              "    }\n",
              "</style>\n",
              "<table border=\"1\" class=\"dataframe\">\n",
              "  <thead>\n",
              "    <tr style=\"text-align: right;\">\n",
              "      <th></th>\n",
              "      <th>score</th>\n",
              "      <th>afinn</th>\n",
              "      <th>text</th>\n",
              "    </tr>\n",
              "  </thead>\n",
              "  <tbody>\n",
              "    <tr>\n",
              "      <th>0</th>\n",
              "      <td>5.0</td>\n",
              "      <td>9.0</td>\n",
              "      <td>[b, ', i, have, bought, sever, of, the, vital,...</td>\n",
              "    </tr>\n",
              "    <tr>\n",
              "      <th>1</th>\n",
              "      <td>1.0</td>\n",
              "      <td>-2.0</td>\n",
              "      <td>[b'product, arriv, label, as, jumbo, salt, pea...</td>\n",
              "    </tr>\n",
              "    <tr>\n",
              "      <th>2</th>\n",
              "      <td>4.0</td>\n",
              "      <td>5.0</td>\n",
              "      <td>[b'thi, is, a, confect, that, ha, been, around...</td>\n",
              "    </tr>\n",
              "    <tr>\n",
              "      <th>3</th>\n",
              "      <td>2.0</td>\n",
              "      <td>3.0</td>\n",
              "      <td>[b'if, you, are, look, for, the, secret, ingre...</td>\n",
              "    </tr>\n",
              "    <tr>\n",
              "      <th>4</th>\n",
              "      <td>5.0</td>\n",
              "      <td>6.0</td>\n",
              "      <td>[b'great, taffi, at, a, great, price, ., there...</td>\n",
              "    </tr>\n",
              "    <tr>\n",
              "      <th>5</th>\n",
              "      <td>4.0</td>\n",
              "      <td>2.0</td>\n",
              "      <td>[b, ', i, got, a, wild, hair, for, taffi, and,...</td>\n",
              "    </tr>\n",
              "    <tr>\n",
              "      <th>6</th>\n",
              "      <td>5.0</td>\n",
              "      <td>6.0</td>\n",
              "      <td>[b, '', thi, saltwat, taffi, had, great, flavo...</td>\n",
              "    </tr>\n",
              "    <tr>\n",
              "      <th>7</th>\n",
              "      <td>5.0</td>\n",
              "      <td>5.0</td>\n",
              "      <td>[b'thi, taffi, is, so, good, ., it, is, veri, ...</td>\n",
              "    </tr>\n",
              "    <tr>\n",
              "      <th>8</th>\n",
              "      <td>5.0</td>\n",
              "      <td>3.0</td>\n",
              "      <td>[b, '', right, now, i, 'm, mostli, just, sprou...</td>\n",
              "    </tr>\n",
              "    <tr>\n",
              "      <th>9</th>\n",
              "      <td>5.0</td>\n",
              "      <td>6.0</td>\n",
              "      <td>[b'thi, is, a, veri, healthi, dog, food, ., go...</td>\n",
              "    </tr>\n",
              "  </tbody>\n",
              "</table>\n",
              "</div>\n",
              "      <button class=\"colab-df-convert\" onclick=\"convertToInteractive('df-b5426811-e9bc-41b2-b5f9-dc9f79363b46')\"\n",
              "              title=\"Convert this dataframe to an interactive table.\"\n",
              "              style=\"display:none;\">\n",
              "        \n",
              "  <svg xmlns=\"http://www.w3.org/2000/svg\" height=\"24px\"viewBox=\"0 0 24 24\"\n",
              "       width=\"24px\">\n",
              "    <path d=\"M0 0h24v24H0V0z\" fill=\"none\"/>\n",
              "    <path d=\"M18.56 5.44l.94 2.06.94-2.06 2.06-.94-2.06-.94-.94-2.06-.94 2.06-2.06.94zm-11 1L8.5 8.5l.94-2.06 2.06-.94-2.06-.94L8.5 2.5l-.94 2.06-2.06.94zm10 10l.94 2.06.94-2.06 2.06-.94-2.06-.94-.94-2.06-.94 2.06-2.06.94z\"/><path d=\"M17.41 7.96l-1.37-1.37c-.4-.4-.92-.59-1.43-.59-.52 0-1.04.2-1.43.59L10.3 9.45l-7.72 7.72c-.78.78-.78 2.05 0 2.83L4 21.41c.39.39.9.59 1.41.59.51 0 1.02-.2 1.41-.59l7.78-7.78 2.81-2.81c.8-.78.8-2.07 0-2.86zM5.41 20L4 18.59l7.72-7.72 1.47 1.35L5.41 20z\"/>\n",
              "  </svg>\n",
              "      </button>\n",
              "      \n",
              "  <style>\n",
              "    .colab-df-container {\n",
              "      display:flex;\n",
              "      flex-wrap:wrap;\n",
              "      gap: 12px;\n",
              "    }\n",
              "\n",
              "    .colab-df-convert {\n",
              "      background-color: #E8F0FE;\n",
              "      border: none;\n",
              "      border-radius: 50%;\n",
              "      cursor: pointer;\n",
              "      display: none;\n",
              "      fill: #1967D2;\n",
              "      height: 32px;\n",
              "      padding: 0 0 0 0;\n",
              "      width: 32px;\n",
              "    }\n",
              "\n",
              "    .colab-df-convert:hover {\n",
              "      background-color: #E2EBFA;\n",
              "      box-shadow: 0px 1px 2px rgba(60, 64, 67, 0.3), 0px 1px 3px 1px rgba(60, 64, 67, 0.15);\n",
              "      fill: #174EA6;\n",
              "    }\n",
              "\n",
              "    [theme=dark] .colab-df-convert {\n",
              "      background-color: #3B4455;\n",
              "      fill: #D2E3FC;\n",
              "    }\n",
              "\n",
              "    [theme=dark] .colab-df-convert:hover {\n",
              "      background-color: #434B5C;\n",
              "      box-shadow: 0px 1px 3px 1px rgba(0, 0, 0, 0.15);\n",
              "      filter: drop-shadow(0px 1px 2px rgba(0, 0, 0, 0.3));\n",
              "      fill: #FFFFFF;\n",
              "    }\n",
              "  </style>\n",
              "\n",
              "      <script>\n",
              "        const buttonEl =\n",
              "          document.querySelector('#df-b5426811-e9bc-41b2-b5f9-dc9f79363b46 button.colab-df-convert');\n",
              "        buttonEl.style.display =\n",
              "          google.colab.kernel.accessAllowed ? 'block' : 'none';\n",
              "\n",
              "        async function convertToInteractive(key) {\n",
              "          const element = document.querySelector('#df-b5426811-e9bc-41b2-b5f9-dc9f79363b46');\n",
              "          const dataTable =\n",
              "            await google.colab.kernel.invokeFunction('convertToInteractive',\n",
              "                                                     [key], {});\n",
              "          if (!dataTable) return;\n",
              "\n",
              "          const docLinkHtml = 'Like what you see? Visit the ' +\n",
              "            '<a target=\"_blank\" href=https://colab.research.google.com/notebooks/data_table.ipynb>data table notebook</a>'\n",
              "            + ' to learn more about interactive tables.';\n",
              "          element.innerHTML = '';\n",
              "          dataTable['output_type'] = 'display_data';\n",
              "          await google.colab.output.renderOutput(dataTable, element);\n",
              "          const docLink = document.createElement('div');\n",
              "          docLink.innerHTML = docLinkHtml;\n",
              "          element.appendChild(docLink);\n",
              "        }\n",
              "      </script>\n",
              "    </div>\n",
              "  </div>\n",
              "  "
            ]
          },
          "metadata": {},
          "execution_count": 162
        }
      ],
      "source": [
        "df['afinn'] = df[\"text\"].apply(apply_afinn) #new attribute/column \n",
        "#check out how apply works\n",
        "\n",
        "df[['score', 'afinn', 'text']].head(10)"
      ]
    },
    {
      "cell_type": "code",
      "execution_count": 163,
      "metadata": {
        "colab": {
          "base_uri": "https://localhost:8080/"
        },
        "id": "APU_kpMKNcbj",
        "outputId": "e67ca61d-8f1b-414d-92d3-137c9f7573e9"
      },
      "outputs": [
        {
          "output_type": "execute_result",
          "data": {
            "text/plain": [
              "text                [b, ', i, have, bought, sever, of, the, vital,...\n",
              "score                                                             5.0\n",
              "Words Per Review                                                   48\n",
              "afinn                                                             9.0\n",
              "Name: 0, dtype: object"
            ]
          },
          "metadata": {},
          "execution_count": 163
        }
      ],
      "source": [
        "df.iloc[0]"
      ]
    },
    {
      "cell_type": "code",
      "execution_count": 164,
      "metadata": {
        "colab": {
          "base_uri": "https://localhost:8080/"
        },
        "id": "Kc-TWJwTqKno",
        "outputId": "c151bc21-97c5-4126-f5dc-df8898d4cae8"
      },
      "outputs": [
        {
          "output_type": "execute_result",
          "data": {
            "text/plain": [
              " 3.0     3211\n",
              " 5.0     3062\n",
              " 6.0     2925\n",
              " 0.0     2583\n",
              " 2.0     2508\n",
              "         ... \n",
              " 65.0       1\n",
              " 48.0       1\n",
              " 47.0       1\n",
              " 52.0       1\n",
              "-21.0       1\n",
              "Name: afinn, Length: 80, dtype: int64"
            ]
          },
          "metadata": {},
          "execution_count": 164
        }
      ],
      "source": [
        "df.afinn.value_counts() # df. column_name .value_counts()"
      ]
    },
    {
      "cell_type": "code",
      "execution_count": 165,
      "metadata": {
        "id": "5VGnyF500brV"
      },
      "outputs": [],
      "source": [
        "#let's compute the range of afinn scores in this dataset"
      ]
    },
    {
      "cell_type": "code",
      "execution_count": 166,
      "metadata": {
        "colab": {
          "base_uri": "https://localhost:8080/"
        },
        "id": "1ApyIWfZhJuE",
        "outputId": "6789b18e-fdfb-456e-bbc4-67ec9b6a0f8d"
      },
      "outputs": [
        {
          "output_type": "execute_result",
          "data": {
            "text/plain": [
              "104"
            ]
          },
          "metadata": {},
          "execution_count": 166
        }
      ],
      "source": [
        "abs(min(df.afinn.value_counts().index.astype(int)) - max(df.afinn.value_counts().index.astype(int)))"
      ]
    },
    {
      "cell_type": "code",
      "execution_count": 167,
      "metadata": {
        "id": "hJZYRjCXwnuG"
      },
      "outputs": [],
      "source": [
        "#let's visualize the histogram of frequencies"
      ]
    },
    {
      "cell_type": "code",
      "execution_count": 168,
      "metadata": {
        "colab": {
          "base_uri": "https://localhost:8080/",
          "height": 742
        },
        "id": "orPvcK1IwrbI",
        "outputId": "3e3448e7-6028-44eb-d036-92aacbc06cab"
      },
      "outputs": [
        {
          "output_type": "display_data",
          "data": {
            "text/plain": [
              "<Figure size 1200x800 with 1 Axes>"
            ],
            "image/png": "[encoded data removed]"
          },
          "metadata": {}
        }
      ],
      "source": [
        "df.afinn.plot(kind='hist', #takes the column name as input\n",
        "        alpha=0.7,\n",
        "        bins = abs(min(df.afinn.value_counts().index.astype(int)) - max(df.afinn.value_counts().index.astype(int)))-1,\n",
        "        title='Histogram Of Afinn scores',\n",
        "        rot=45,\n",
        "        grid=True,\n",
        "        figsize=(12,8),\n",
        "        fontsize=12, \n",
        "        color=['#364F6B'])\n",
        "plt.xlabel('Afinn Scores')\n",
        "plt.ylabel(\"Number of Sentences\");"
      ]
    },
    {
      "cell_type": "code",
      "execution_count": 169,
      "metadata": {
        "id": "6_e6JBqW03Hd"
      },
      "outputs": [],
      "source": [
        "#let's check the distribution of sentiment values"
      ]
    },
    {
      "cell_type": "code",
      "execution_count": 170,
      "metadata": {
        "colab": {
          "base_uri": "https://localhost:8080/"
        },
        "id": "4XMrnzDAflOh",
        "outputId": "7711bd64-a4f2-43c6-9a3b-02dd2e3e6551"
      },
      "outputs": [
        {
          "output_type": "execute_result",
          "data": {
            "text/plain": [
              "5.0    22017\n",
              "4.0     5071\n",
              "1.0     3218\n",
              "3.0     2860\n",
              "2.0     2006\n",
              "Name: score, dtype: int64"
            ]
          },
          "metadata": {},
          "execution_count": 170
        }
      ],
      "source": [
        "df.score.value_counts() #df. column_name .value_counts()"
      ]
    },
    {
      "cell_type": "code",
      "execution_count": 171,
      "metadata": {
        "colab": {
          "base_uri": "https://localhost:8080/",
          "height": 267
        },
        "id": "QKtIvTlep4J0",
        "outputId": "a15f63cc-7541-44d0-eb31-adb215c09f4d"
      },
      "outputs": [
        {
          "output_type": "execute_result",
          "data": {
            "text/plain": [
              "afinn  -31.0  -21.0  -19.0  -18.0  -17.0  -16.0  -15.0  -14.0  -13.0  -12.0  \\\n",
              "score                                                                         \n",
              "1.0        1      1      3      1      3      8      1      2      2     11   \n",
              "2.0        0      0      0      0      0      0      0      0      0      1   \n",
              "3.0        0      0      0      0      0      0      0      0      0      0   \n",
              "4.0        0      0      0      0      0      1      1      1      0      0   \n",
              "5.0        0      0      0      0      0      0      0      1      3      1   \n",
              "\n",
              "afinn  ...   51.0   52.0   53.0   56.0   57.0   58.0   65.0   67.0   70.0  \\\n",
              "score  ...                                                                  \n",
              "1.0    ...      0      0      0      0      0      0      0      0      0   \n",
              "2.0    ...      0      0      0      0      0      0      0      0      0   \n",
              "3.0    ...      0      0      0      1      0      0      0      0      0   \n",
              "4.0    ...      0      1      0      0      0      0      0      0      0   \n",
              "5.0    ...      3      0      2      0      1      1      1      1      1   \n",
              "\n",
              "afinn   73.0  \n",
              "score         \n",
              "1.0        0  \n",
              "2.0        0  \n",
              "3.0        0  \n",
              "4.0        0  \n",
              "5.0        1  \n",
              "\n",
              "[5 rows x 80 columns]"
            ],
            "text/html": [
              "\n",
              "  <div id=\"df-e0dc27b2-0dd0-47e2-9d97-2b8310838157\">\n",
              "    <div class=\"colab-df-container\">\n",
              "      <div>\n",
              "<style scoped>\n",
              "    .dataframe tbody tr th:only-of-type {\n",
              "        vertical-align: middle;\n",
              "    }\n",
              "\n",
              "    .dataframe tbody tr th {\n",
              "        vertical-align: top;\n",
              "    }\n",
              "\n",
              "    .dataframe thead th {\n",
              "        text-align: right;\n",
              "    }\n",
              "</style>\n",
              "<table border=\"1\" class=\"dataframe\">\n",
              "  <thead>\n",
              "    <tr style=\"text-align: right;\">\n",
              "      <th>afinn</th>\n",
              "      <th>-31.0</th>\n",
              "      <th>-21.0</th>\n",
              "      <th>-19.0</th>\n",
              "      <th>-18.0</th>\n",
              "      <th>-17.0</th>\n",
              "      <th>-16.0</th>\n",
              "      <th>-15.0</th>\n",
              "      <th>-14.0</th>\n",
              "      <th>-13.0</th>\n",
              "      <th>-12.0</th>\n",
              "      <th>...</th>\n",
              "      <th>51.0</th>\n",
              "      <th>52.0</th>\n",
              "      <th>53.0</th>\n",
              "      <th>56.0</th>\n",
              "      <th>57.0</th>\n",
              "      <th>58.0</th>\n",
              "      <th>65.0</th>\n",
              "      <th>67.0</th>\n",
              "      <th>70.0</th>\n",
              "      <th>73.0</th>\n",
              "    </tr>\n",
              "    <tr>\n",
              "      <th>score</th>\n",
              "      <th></th>\n",
              "      <th></th>\n",
              "      <th></th>\n",
              "      <th></th>\n",
              "      <th></th>\n",
              "      <th></th>\n",
              "      <th></th>\n",
              "      <th></th>\n",
              "      <th></th>\n",
              "      <th></th>\n",
              "      <th></th>\n",
              "      <th></th>\n",
              "      <th></th>\n",
              "      <th></th>\n",
              "      <th></th>\n",
              "      <th></th>\n",
              "      <th></th>\n",
              "      <th></th>\n",
              "      <th></th>\n",
              "      <th></th>\n",
              "      <th></th>\n",
              "    </tr>\n",
              "  </thead>\n",
              "  <tbody>\n",
              "    <tr>\n",
              "      <th>1.0</th>\n",
              "      <td>1</td>\n",
              "      <td>1</td>\n",
              "      <td>3</td>\n",
              "      <td>1</td>\n",
              "      <td>3</td>\n",
              "      <td>8</td>\n",
              "      <td>1</td>\n",
              "      <td>2</td>\n",
              "      <td>2</td>\n",
              "      <td>11</td>\n",
              "      <td>...</td>\n",
              "      <td>0</td>\n",
              "      <td>0</td>\n",
              "      <td>0</td>\n",
              "      <td>0</td>\n",
              "      <td>0</td>\n",
              "      <td>0</td>\n",
              "      <td>0</td>\n",
              "      <td>0</td>\n",
              "      <td>0</td>\n",
              "      <td>0</td>\n",
              "    </tr>\n",
              "    <tr>\n",
              "      <th>2.0</th>\n",
              "      <td>0</td>\n",
              "      <td>0</td>\n",
              "      <td>0</td>\n",
              "      <td>0</td>\n",
              "      <td>0</td>\n",
              "      <td>0</td>\n",
              "      <td>0</td>\n",
              "      <td>0</td>\n",
              "      <td>0</td>\n",
              "      <td>1</td>\n",
              "      <td>...</td>\n",
              "      <td>0</td>\n",
              "      <td>0</td>\n",
              "      <td>0</td>\n",
              "      <td>0</td>\n",
              "      <td>0</td>\n",
              "      <td>0</td>\n",
              "      <td>0</td>\n",
              "      <td>0</td>\n",
              "      <td>0</td>\n",
              "      <td>0</td>\n",
              "    </tr>\n",
              "    <tr>\n",
              "      <th>3.0</th>\n",
              "      <td>0</td>\n",
              "      <td>0</td>\n",
              "      <td>0</td>\n",
              "      <td>0</td>\n",
              "      <td>0</td>\n",
              "      <td>0</td>\n",
              "      <td>0</td>\n",
              "      <td>0</td>\n",
              "      <td>0</td>\n",
              "      <td>0</td>\n",
              "      <td>...</td>\n",
              "      <td>0</td>\n",
              "      <td>0</td>\n",
              "      <td>0</td>\n",
              "      <td>1</td>\n",
              "      <td>0</td>\n",
              "      <td>0</td>\n",
              "      <td>0</td>\n",
              "      <td>0</td>\n",
              "      <td>0</td>\n",
              "      <td>0</td>\n",
              "    </tr>\n",
              "    <tr>\n",
              "      <th>4.0</th>\n",
              "      <td>0</td>\n",
              "      <td>0</td>\n",
              "      <td>0</td>\n",
              "      <td>0</td>\n",
              "      <td>0</td>\n",
              "      <td>1</td>\n",
              "      <td>1</td>\n",
              "      <td>1</td>\n",
              "      <td>0</td>\n",
              "      <td>0</td>\n",
              "      <td>...</td>\n",
              "      <td>0</td>\n",
              "      <td>1</td>\n",
              "      <td>0</td>\n",
              "      <td>0</td>\n",
              "      <td>0</td>\n",
              "      <td>0</td>\n",
              "      <td>0</td>\n",
              "      <td>0</td>\n",
              "      <td>0</td>\n",
              "      <td>0</td>\n",
              "    </tr>\n",
              "    <tr>\n",
              "      <th>5.0</th>\n",
              "      <td>0</td>\n",
              "      <td>0</td>\n",
              "      <td>0</td>\n",
              "      <td>0</td>\n",
              "      <td>0</td>\n",
              "      <td>0</td>\n",
              "      <td>0</td>\n",
              "      <td>1</td>\n",
              "      <td>3</td>\n",
              "      <td>1</td>\n",
              "      <td>...</td>\n",
              "      <td>3</td>\n",
              "      <td>0</td>\n",
              "      <td>2</td>\n",
              "      <td>0</td>\n",
              "      <td>1</td>\n",
              "      <td>1</td>\n",
              "      <td>1</td>\n",
              "      <td>1</td>\n",
              "      <td>1</td>\n",
              "      <td>1</td>\n",
              "    </tr>\n",
              "  </tbody>\n",
              "</table>\n",
              "<p>5 rows × 80 columns</p>\n",
              "</div>\n",
              "      <button class=\"colab-df-convert\" onclick=\"convertToInteractive('df-e0dc27b2-0dd0-47e2-9d97-2b8310838157')\"\n",
              "              title=\"Convert this dataframe to an interactive table.\"\n",
              "              style=\"display:none;\">\n",
              "        \n",
              "  <svg xmlns=\"http://www.w3.org/2000/svg\" height=\"24px\"viewBox=\"0 0 24 24\"\n",
              "       width=\"24px\">\n",
              "    <path d=\"M0 0h24v24H0V0z\" fill=\"none\"/>\n",
              "    <path d=\"M18.56 5.44l.94 2.06.94-2.06 2.06-.94-2.06-.94-.94-2.06-.94 2.06-2.06.94zm-11 1L8.5 8.5l.94-2.06 2.06-.94-2.06-.94L8.5 2.5l-.94 2.06-2.06.94zm10 10l.94 2.06.94-2.06 2.06-.94-2.06-.94-.94-2.06-.94 2.06-2.06.94z\"/><path d=\"M17.41 7.96l-1.37-1.37c-.4-.4-.92-.59-1.43-.59-.52 0-1.04.2-1.43.59L10.3 9.45l-7.72 7.72c-.78.78-.78 2.05 0 2.83L4 21.41c.39.39.9.59 1.41.59.51 0 1.02-.2 1.41-.59l7.78-7.78 2.81-2.81c.8-.78.8-2.07 0-2.86zM5.41 20L4 18.59l7.72-7.72 1.47 1.35L5.41 20z\"/>\n",
              "  </svg>\n",
              "      </button>\n",
              "      \n",
              "  <style>\n",
              "    .colab-df-container {\n",
              "      display:flex;\n",
              "      flex-wrap:wrap;\n",
              "      gap: 12px;\n",
              "    }\n",
              "\n",
              "    .colab-df-convert {\n",
              "      background-color: #E8F0FE;\n",
              "      border: none;\n",
              "      border-radius: 50%;\n",
              "      cursor: pointer;\n",
              "      display: none;\n",
              "      fill: #1967D2;\n",
              "      height: 32px;\n",
              "      padding: 0 0 0 0;\n",
              "      width: 32px;\n",
              "    }\n",
              "\n",
              "    .colab-df-convert:hover {\n",
              "      background-color: #E2EBFA;\n",
              "      box-shadow: 0px 1px 2px rgba(60, 64, 67, 0.3), 0px 1px 3px 1px rgba(60, 64, 67, 0.15);\n",
              "      fill: #174EA6;\n",
              "    }\n",
              "\n",
              "    [theme=dark] .colab-df-convert {\n",
              "      background-color: #3B4455;\n",
              "      fill: #D2E3FC;\n",
              "    }\n",
              "\n",
              "    [theme=dark] .colab-df-convert:hover {\n",
              "      background-color: #434B5C;\n",
              "      box-shadow: 0px 1px 3px 1px rgba(0, 0, 0, 0.15);\n",
              "      filter: drop-shadow(0px 1px 2px rgba(0, 0, 0, 0.3));\n",
              "      fill: #FFFFFF;\n",
              "    }\n",
              "  </style>\n",
              "\n",
              "      <script>\n",
              "        const buttonEl =\n",
              "          document.querySelector('#df-e0dc27b2-0dd0-47e2-9d97-2b8310838157 button.colab-df-convert');\n",
              "        buttonEl.style.display =\n",
              "          google.colab.kernel.accessAllowed ? 'block' : 'none';\n",
              "\n",
              "        async function convertToInteractive(key) {\n",
              "          const element = document.querySelector('#df-e0dc27b2-0dd0-47e2-9d97-2b8310838157');\n",
              "          const dataTable =\n",
              "            await google.colab.kernel.invokeFunction('convertToInteractive',\n",
              "                                                     [key], {});\n",
              "          if (!dataTable) return;\n",
              "\n",
              "          const docLinkHtml = 'Like what you see? Visit the ' +\n",
              "            '<a target=\"_blank\" href=https://colab.research.google.com/notebooks/data_table.ipynb>data table notebook</a>'\n",
              "            + ' to learn more about interactive tables.';\n",
              "          element.innerHTML = '';\n",
              "          dataTable['output_type'] = 'display_data';\n",
              "          await google.colab.output.renderOutput(dataTable, element);\n",
              "          const docLink = document.createElement('div');\n",
              "          docLink.innerHTML = docLinkHtml;\n",
              "          element.appendChild(docLink);\n",
              "        }\n",
              "      </script>\n",
              "    </div>\n",
              "  </div>\n",
              "  "
            ]
          },
          "metadata": {},
          "execution_count": 171
        }
      ],
      "source": [
        "pd.crosstab(df.score, df.afinn) #confusion matrix"
      ]
    },
    {
      "cell_type": "code",
      "execution_count": 172,
      "metadata": {
        "id": "fTtvkbyATh-S"
      },
      "outputs": [],
      "source": [
        "#how can we compute a 3-class confusion matrix?\n",
        "#positive (+1) neutral (0) negative (-1)"
      ]
    },
    {
      "cell_type": "markdown",
      "metadata": {
        "id": "yFuA0zI0jHpy"
      },
      "source": [
        "compute a 3-class confusion matrix \n",
        "- positive (+1) \n",
        "- neutral (0) \n",
        "- negative (-1)"
      ]
    },
    {
      "cell_type": "code",
      "execution_count": 173,
      "metadata": {
        "colab": {
          "base_uri": "https://localhost:8080/",
          "height": 175
        },
        "id": "YsPqlljUrEEw",
        "outputId": "6e9b50e8-598f-4d14-ae15-8ebb0c2bab61"
      },
      "outputs": [
        {
          "output_type": "execute_result",
          "data": {
            "text/plain": [
              "afinn  -1.0   0.0    1.0\n",
              "score                   \n",
              "-1.0   1290   660   3274\n",
              " 0.0    277   300   2283\n",
              " 1.0   1044  1623  24421"
            ],
            "text/html": [
              "\n",
              "  <div id=\"df-3a30e207-4cc3-4d71-96cb-214ec9b30032\">\n",
              "    <div class=\"colab-df-container\">\n",
              "      <div>\n",
              "<style scoped>\n",
              "    .dataframe tbody tr th:only-of-type {\n",
              "        vertical-align: middle;\n",
              "    }\n",
              "\n",
              "    .dataframe tbody tr th {\n",
              "        vertical-align: top;\n",
              "    }\n",
              "\n",
              "    .dataframe thead th {\n",
              "        text-align: right;\n",
              "    }\n",
              "</style>\n",
              "<table border=\"1\" class=\"dataframe\">\n",
              "  <thead>\n",
              "    <tr style=\"text-align: right;\">\n",
              "      <th>afinn</th>\n",
              "      <th>-1.0</th>\n",
              "      <th>0.0</th>\n",
              "      <th>1.0</th>\n",
              "    </tr>\n",
              "    <tr>\n",
              "      <th>score</th>\n",
              "      <th></th>\n",
              "      <th></th>\n",
              "      <th></th>\n",
              "    </tr>\n",
              "  </thead>\n",
              "  <tbody>\n",
              "    <tr>\n",
              "      <th>-1.0</th>\n",
              "      <td>1290</td>\n",
              "      <td>660</td>\n",
              "      <td>3274</td>\n",
              "    </tr>\n",
              "    <tr>\n",
              "      <th>0.0</th>\n",
              "      <td>277</td>\n",
              "      <td>300</td>\n",
              "      <td>2283</td>\n",
              "    </tr>\n",
              "    <tr>\n",
              "      <th>1.0</th>\n",
              "      <td>1044</td>\n",
              "      <td>1623</td>\n",
              "      <td>24421</td>\n",
              "    </tr>\n",
              "  </tbody>\n",
              "</table>\n",
              "</div>\n",
              "      <button class=\"colab-df-convert\" onclick=\"convertToInteractive('df-3a30e207-4cc3-4d71-96cb-214ec9b30032')\"\n",
              "              title=\"Convert this dataframe to an interactive table.\"\n",
              "              style=\"display:none;\">\n",
              "        \n",
              "  <svg xmlns=\"http://www.w3.org/2000/svg\" height=\"24px\"viewBox=\"0 0 24 24\"\n",
              "       width=\"24px\">\n",
              "    <path d=\"M0 0h24v24H0V0z\" fill=\"none\"/>\n",
              "    <path d=\"M18.56 5.44l.94 2.06.94-2.06 2.06-.94-2.06-.94-.94-2.06-.94 2.06-2.06.94zm-11 1L8.5 8.5l.94-2.06 2.06-.94-2.06-.94L8.5 2.5l-.94 2.06-2.06.94zm10 10l.94 2.06.94-2.06 2.06-.94-2.06-.94-.94-2.06-.94 2.06-2.06.94z\"/><path d=\"M17.41 7.96l-1.37-1.37c-.4-.4-.92-.59-1.43-.59-.52 0-1.04.2-1.43.59L10.3 9.45l-7.72 7.72c-.78.78-.78 2.05 0 2.83L4 21.41c.39.39.9.59 1.41.59.51 0 1.02-.2 1.41-.59l7.78-7.78 2.81-2.81c.8-.78.8-2.07 0-2.86zM5.41 20L4 18.59l7.72-7.72 1.47 1.35L5.41 20z\"/>\n",
              "  </svg>\n",
              "      </button>\n",
              "      \n",
              "  <style>\n",
              "    .colab-df-container {\n",
              "      display:flex;\n",
              "      flex-wrap:wrap;\n",
              "      gap: 12px;\n",
              "    }\n",
              "\n",
              "    .colab-df-convert {\n",
              "      background-color: #E8F0FE;\n",
              "      border: none;\n",
              "      border-radius: 50%;\n",
              "      cursor: pointer;\n",
              "      display: none;\n",
              "      fill: #1967D2;\n",
              "      height: 32px;\n",
              "      padding: 0 0 0 0;\n",
              "      width: 32px;\n",
              "    }\n",
              "\n",
              "    .colab-df-convert:hover {\n",
              "      background-color: #E2EBFA;\n",
              "      box-shadow: 0px 1px 2px rgba(60, 64, 67, 0.3), 0px 1px 3px 1px rgba(60, 64, 67, 0.15);\n",
              "      fill: #174EA6;\n",
              "    }\n",
              "\n",
              "    [theme=dark] .colab-df-convert {\n",
              "      background-color: #3B4455;\n",
              "      fill: #D2E3FC;\n",
              "    }\n",
              "\n",
              "    [theme=dark] .colab-df-convert:hover {\n",
              "      background-color: #434B5C;\n",
              "      box-shadow: 0px 1px 3px 1px rgba(0, 0, 0, 0.15);\n",
              "      filter: drop-shadow(0px 1px 2px rgba(0, 0, 0, 0.3));\n",
              "      fill: #FFFFFF;\n",
              "    }\n",
              "  </style>\n",
              "\n",
              "      <script>\n",
              "        const buttonEl =\n",
              "          document.querySelector('#df-3a30e207-4cc3-4d71-96cb-214ec9b30032 button.colab-df-convert');\n",
              "        buttonEl.style.display =\n",
              "          google.colab.kernel.accessAllowed ? 'block' : 'none';\n",
              "\n",
              "        async function convertToInteractive(key) {\n",
              "          const element = document.querySelector('#df-3a30e207-4cc3-4d71-96cb-214ec9b30032');\n",
              "          const dataTable =\n",
              "            await google.colab.kernel.invokeFunction('convertToInteractive',\n",
              "                                                     [key], {});\n",
              "          if (!dataTable) return;\n",
              "\n",
              "          const docLinkHtml = 'Like what you see? Visit the ' +\n",
              "            '<a target=\"_blank\" href=https://colab.research.google.com/notebooks/data_table.ipynb>data table notebook</a>'\n",
              "            + ' to learn more about interactive tables.';\n",
              "          element.innerHTML = '';\n",
              "          dataTable['output_type'] = 'display_data';\n",
              "          await google.colab.output.renderOutput(dataTable, element);\n",
              "          const docLink = document.createElement('div');\n",
              "          docLink.innerHTML = docLinkHtml;\n",
              "          element.appendChild(docLink);\n",
              "        }\n",
              "      </script>\n",
              "    </div>\n",
              "  </div>\n",
              "  "
            ]
          },
          "metadata": {},
          "execution_count": 173
        }
      ],
      "source": [
        "# Compute 3-class confusion matrix\n",
        "confusion = pd.crosstab(np.sign(df.score - 3), \n",
        "                        np.sign(df.afinn))\n",
        "confusion"
      ]
    },
    {
      "cell_type": "code",
      "execution_count": 174,
      "metadata": {
        "colab": {
          "base_uri": "https://localhost:8080/",
          "height": 435
        },
        "id": "U7SisYdJrSzc",
        "outputId": "a76bf9b1-1b6d-4ec3-944b-b55e65c2158a"
      },
      "outputs": [
        {
          "output_type": "display_data",
          "data": {
            "text/plain": [
              "<Figure size 640x480 with 2 Axes>"
            ],
            "image/png": "[encoded data removed]"
          },
          "metadata": {}
        }
      ],
      "source": [
        "shw = plt.imshow(confusion)\n",
        "bar = plt.colorbar(shw)"
      ]
    },
    {
      "cell_type": "code",
      "execution_count": 175,
      "metadata": {
        "colab": {
          "base_uri": "https://localhost:8080/"
        },
        "id": "oi4hM95-rzXu",
        "outputId": "445d7745-4fa1-45f7-d1b0-9afc7c162224"
      },
      "outputs": [
        {
          "output_type": "execute_result",
          "data": {
            "text/plain": [
              "0.7395371318093938"
            ]
          },
          "metadata": {},
          "execution_count": 175
        }
      ],
      "source": [
        "accuracy_3_class = np.sum(np.diag(confusion)) / np.sum(confusion.values)\n",
        "accuracy_3_class"
      ]
    },
    {
      "cell_type": "markdown",
      "metadata": {
        "id": "e-UNZ6WdjUhT"
      },
      "source": [
        " we compute a 2-class confusion matrix excluding neutral sentiments"
      ]
    },
    {
      "cell_type": "code",
      "execution_count": 176,
      "metadata": {
        "colab": {
          "base_uri": "https://localhost:8080/",
          "height": 143
        },
        "id": "bN9wD-81sAUP",
        "outputId": "033043df-3c60-4794-ddbf-aa407b982a20"
      },
      "outputs": [
        {
          "output_type": "execute_result",
          "data": {
            "text/plain": [
              "afinn  -1.0    1.0\n",
              "score             \n",
              "-1.0   1290   3274\n",
              " 1.0   1044  24421"
            ],
            "text/html": [
              "\n",
              "  <div id=\"df-4a86de93-5fc0-4abd-b423-360e45fe1061\">\n",
              "    <div class=\"colab-df-container\">\n",
              "      <div>\n",
              "<style scoped>\n",
              "    .dataframe tbody tr th:only-of-type {\n",
              "        vertical-align: middle;\n",
              "    }\n",
              "\n",
              "    .dataframe tbody tr th {\n",
              "        vertical-align: top;\n",
              "    }\n",
              "\n",
              "    .dataframe thead th {\n",
              "        text-align: right;\n",
              "    }\n",
              "</style>\n",
              "<table border=\"1\" class=\"dataframe\">\n",
              "  <thead>\n",
              "    <tr style=\"text-align: right;\">\n",
              "      <th>afinn</th>\n",
              "      <th>-1.0</th>\n",
              "      <th>1.0</th>\n",
              "    </tr>\n",
              "    <tr>\n",
              "      <th>score</th>\n",
              "      <th></th>\n",
              "      <th></th>\n",
              "    </tr>\n",
              "  </thead>\n",
              "  <tbody>\n",
              "    <tr>\n",
              "      <th>-1.0</th>\n",
              "      <td>1290</td>\n",
              "      <td>3274</td>\n",
              "    </tr>\n",
              "    <tr>\n",
              "      <th>1.0</th>\n",
              "      <td>1044</td>\n",
              "      <td>24421</td>\n",
              "    </tr>\n",
              "  </tbody>\n",
              "</table>\n",
              "</div>\n",
              "      <button class=\"colab-df-convert\" onclick=\"convertToInteractive('df-4a86de93-5fc0-4abd-b423-360e45fe1061')\"\n",
              "              title=\"Convert this dataframe to an interactive table.\"\n",
              "              style=\"display:none;\">\n",
              "        \n",
              "  <svg xmlns=\"http://www.w3.org/2000/svg\" height=\"24px\"viewBox=\"0 0 24 24\"\n",
              "       width=\"24px\">\n",
              "    <path d=\"M0 0h24v24H0V0z\" fill=\"none\"/>\n",
              "    <path d=\"M18.56 5.44l.94 2.06.94-2.06 2.06-.94-2.06-.94-.94-2.06-.94 2.06-2.06.94zm-11 1L8.5 8.5l.94-2.06 2.06-.94-2.06-.94L8.5 2.5l-.94 2.06-2.06.94zm10 10l.94 2.06.94-2.06 2.06-.94-2.06-.94-.94-2.06-.94 2.06-2.06.94z\"/><path d=\"M17.41 7.96l-1.37-1.37c-.4-.4-.92-.59-1.43-.59-.52 0-1.04.2-1.43.59L10.3 9.45l-7.72 7.72c-.78.78-.78 2.05 0 2.83L4 21.41c.39.39.9.59 1.41.59.51 0 1.02-.2 1.41-.59l7.78-7.78 2.81-2.81c.8-.78.8-2.07 0-2.86zM5.41 20L4 18.59l7.72-7.72 1.47 1.35L5.41 20z\"/>\n",
              "  </svg>\n",
              "      </button>\n",
              "      \n",
              "  <style>\n",
              "    .colab-df-container {\n",
              "      display:flex;\n",
              "      flex-wrap:wrap;\n",
              "      gap: 12px;\n",
              "    }\n",
              "\n",
              "    .colab-df-convert {\n",
              "      background-color: #E8F0FE;\n",
              "      border: none;\n",
              "      border-radius: 50%;\n",
              "      cursor: pointer;\n",
              "      display: none;\n",
              "      fill: #1967D2;\n",
              "      height: 32px;\n",
              "      padding: 0 0 0 0;\n",
              "      width: 32px;\n",
              "    }\n",
              "\n",
              "    .colab-df-convert:hover {\n",
              "      background-color: #E2EBFA;\n",
              "      box-shadow: 0px 1px 2px rgba(60, 64, 67, 0.3), 0px 1px 3px 1px rgba(60, 64, 67, 0.15);\n",
              "      fill: #174EA6;\n",
              "    }\n",
              "\n",
              "    [theme=dark] .colab-df-convert {\n",
              "      background-color: #3B4455;\n",
              "      fill: #D2E3FC;\n",
              "    }\n",
              "\n",
              "    [theme=dark] .colab-df-convert:hover {\n",
              "      background-color: #434B5C;\n",
              "      box-shadow: 0px 1px 3px 1px rgba(0, 0, 0, 0.15);\n",
              "      filter: drop-shadow(0px 1px 2px rgba(0, 0, 0, 0.3));\n",
              "      fill: #FFFFFF;\n",
              "    }\n",
              "  </style>\n",
              "\n",
              "      <script>\n",
              "        const buttonEl =\n",
              "          document.querySelector('#df-4a86de93-5fc0-4abd-b423-360e45fe1061 button.colab-df-convert');\n",
              "        buttonEl.style.display =\n",
              "          google.colab.kernel.accessAllowed ? 'block' : 'none';\n",
              "\n",
              "        async function convertToInteractive(key) {\n",
              "          const element = document.querySelector('#df-4a86de93-5fc0-4abd-b423-360e45fe1061');\n",
              "          const dataTable =\n",
              "            await google.colab.kernel.invokeFunction('convertToInteractive',\n",
              "                                                     [key], {});\n",
              "          if (!dataTable) return;\n",
              "\n",
              "          const docLinkHtml = 'Like what you see? Visit the ' +\n",
              "            '<a target=\"_blank\" href=https://colab.research.google.com/notebooks/data_table.ipynb>data table notebook</a>'\n",
              "            + ' to learn more about interactive tables.';\n",
              "          element.innerHTML = '';\n",
              "          dataTable['output_type'] = 'display_data';\n",
              "          await google.colab.output.renderOutput(dataTable, element);\n",
              "          const docLink = document.createElement('div');\n",
              "          docLink.innerHTML = docLinkHtml;\n",
              "          element.appendChild(docLink);\n",
              "        }\n",
              "      </script>\n",
              "    </div>\n",
              "  </div>\n",
              "  "
            ]
          },
          "metadata": {},
          "execution_count": 176
        }
      ],
      "source": [
        "# Compute 2-class confusion matrix\n",
        "confusion_2_class = confusion.iloc[[0, 2], [0, 2]] #beware! \n",
        "confusion_2_class"
      ]
    },
    {
      "cell_type": "code",
      "execution_count": 177,
      "metadata": {
        "colab": {
          "base_uri": "https://localhost:8080/",
          "height": 435
        },
        "id": "aydmSAe4jYf3",
        "outputId": "ae762ebe-c339-46a3-8414-fad0557134da"
      },
      "outputs": [
        {
          "output_type": "display_data",
          "data": {
            "text/plain": [
              "<Figure size 640x480 with 2 Axes>"
            ],
            "image/png": "[encoded data removed]"
          },
          "metadata": {}
        }
      ],
      "source": [
        "shw = plt.imshow(confusion_2_class)\n",
        "bar = plt.colorbar(shw)"
      ]
    },
    {
      "cell_type": "markdown",
      "metadata": {
        "id": "kjg-N_5zHCHC"
      },
      "source": [
        "How much is the accuracy?"
      ]
    },
    {
      "cell_type": "code",
      "execution_count": 178,
      "metadata": {
        "colab": {
          "base_uri": "https://localhost:8080/"
        },
        "id": "NrGmlnZtsCTq",
        "outputId": "2bcef426-66bd-4664-b2c6-1f43c19da81f"
      },
      "outputs": [
        {
          "output_type": "execute_result",
          "data": {
            "text/plain": [
              "0.8562056678544074"
            ]
          },
          "metadata": {},
          "execution_count": 178
        }
      ],
      "source": [
        "accuracy_2_class = np.sum(np.diag(confusion_2_class)) / np.sum(confusion_2_class.values)\n",
        "accuracy_2_class"
      ]
    },
    {
      "cell_type": "markdown",
      "metadata": {
        "id": "FrM01sKPt3IP"
      },
      "source": [
        "Use as **baseline** the most frequent class: it gives better results"
      ]
    },
    {
      "cell_type": "code",
      "execution_count": 179,
      "metadata": {
        "colab": {
          "base_uri": "https://localhost:8080/"
        },
        "id": "sLw_jy27sD5-",
        "outputId": "37d245f8-53a1-4cc9-c663-58c9500d6144"
      },
      "outputs": [
        {
          "output_type": "execute_result",
          "data": {
            "text/plain": [
              "0.9222751340370975"
            ]
          },
          "metadata": {},
          "execution_count": 179
        }
      ],
      "source": [
        "accuracy_2_class_baseline = confusion_2_class.sum().max() / np.sum(confusion_2_class.values)\n",
        "accuracy_2_class_baseline"
      ]
    },
    {
      "cell_type": "markdown",
      "metadata": {
        "id": "5Fe_5tGKj-4R"
      },
      "source": [
        "### Custom lexicon\n"
      ]
    },
    {
      "cell_type": "code",
      "execution_count": 180,
      "metadata": {
        "colab": {
          "base_uri": "https://localhost:8080/"
        },
        "id": "7sd7rLk-j_lg",
        "outputId": "f2a144cd-9ea4-4d7c-e74f-6bc9657e3d20"
      },
      "outputs": [
        {
          "output_type": "stream",
          "name": "stdout",
          "text": [
            "fatal: destination path 'NRC-Persian-Lexicon' already exists and is not an empty directory.\n",
            "mv: cannot stat '/content/NRC-Persian-Lexicon/NRC-Emotion-Lexicon-v0.92-InManyLanguages-web.xlsx': No such file or directory\n"
          ]
        }
      ],
      "source": [
        "!git clone https://github.com/mhbashari/NRC-Persian-Lexicon\n",
        "!mv \"/content/NRC-Persian-Lexicon/NRC-Emotion-Lexicon-v0.92-InManyLanguages-web.xlsx\" \"/content/NRC-Emotion-Lexicon-v0.92-InManyLanguages-web.xlsx\""
      ]
    },
    {
      "cell_type": "code",
      "execution_count": 181,
      "metadata": {
        "colab": {
          "base_uri": "https://localhost:8080/",
          "height": 578
        },
        "id": "X3CqttQBzlw1",
        "outputId": "ea55d769-5479-4afd-aafc-61315bcff14d"
      },
      "outputs": [
        {
          "output_type": "execute_result",
          "data": {
            "text/plain": [
              "  English Word Arabic Translation (Google Translate)  \\\n",
              "0        aback                            الى الوراء   \n",
              "1       abacus                             طبلية تاج   \n",
              "2      abandon                                  تخلى   \n",
              "3    abandoned                                 مهجور   \n",
              "4  abandonment                                   هجر   \n",
              "5        abate                                 انحسر   \n",
              "6    abatement                                انحسار   \n",
              "7         abba                                   أبا   \n",
              "8        abbot                            رئيس الدير   \n",
              "9   abbreviate                                 اختصر   \n",
              "\n",
              "  Basque Translation (Google Translate)  \\\n",
              "0                                 aback   \n",
              "1                                 abako   \n",
              "2                      alde batera utzi   \n",
              "3                            abandonatu   \n",
              "4                              abandono   \n",
              "5                                 abate   \n",
              "6                            murrizteko   \n",
              "7                                  abba   \n",
              "8                                 abade   \n",
              "9                               laburtu   \n",
              "\n",
              "  Bengali Translation (Google Translate)  \\\n",
              "0                                পশ্চাতে   \n",
              "1                       গণনা-যন্ত্রবিশেষ   \n",
              "2                             বর্জিত করা   \n",
              "3                              পরিত্যক্ত   \n",
              "4                                বিসর্জন   \n",
              "5                       প্রকোপ হ্রাস করা   \n",
              "6                                   উপশম   \n",
              "7                                   Abba   \n",
              "8                              মঠাধ্যক্ষ   \n",
              "9                                খাট করা   \n",
              "\n",
              "  Catalan Translation (Google Translate)  \\\n",
              "0                                darrere   \n",
              "1                                   àbac   \n",
              "2                              abandonar   \n",
              "3                              abandonat   \n",
              "4                           abandonament   \n",
              "5                              disminuir   \n",
              "6                             disminució   \n",
              "7                                   abba   \n",
              "8                                   abat   \n",
              "9                               abreujar   \n",
              "\n",
              "  Chinese (simplified) Translation (Google Translate)  \\\n",
              "0                                               吓了一跳    \n",
              "1                                                 算盘    \n",
              "2                                                 放弃    \n",
              "3                                                  弃    \n",
              "4                                                 放弃    \n",
              "5                                                  杀    \n",
              "6                                                 减排    \n",
              "7                                               ABBA    \n",
              "8                                                 方丈    \n",
              "9                                                 简略    \n",
              "\n",
              "  Chinese (traditional) Translation (Google Translate)  \\\n",
              "0                                               嚇了一跳     \n",
              "1                                                 算盤     \n",
              "2                                                 放棄     \n",
              "3                                                  棄     \n",
              "4                                                 放棄     \n",
              "5                                                  殺     \n",
              "6                                                 減排     \n",
              "7                                               ABBA     \n",
              "8                                                 方丈     \n",
              "9                                                 簡略     \n",
              "\n",
              "  Danish Translation (Google Translate) Dutch Translation (Google Translate)  \\\n",
              "0                            overrasket                              verrast   \n",
              "1                                abacus                               abacus   \n",
              "2                                opgive                             verlaten   \n",
              "3                              forladte                             verlaten   \n",
              "4                             opgivelse                         verlatenheid   \n",
              "5                                aftage                          verminderen   \n",
              "6                            nedskæring                         vermindering   \n",
              "7                                  abba                                 abba   \n",
              "8                                 abbed                                  abt   \n",
              "9                              forkorte                             afkorten   \n",
              "\n",
              "  Esperanto Translation (Google Translate)  ... Positive Negative Anger  \\\n",
              "0                               surprizita  ...        0        0     0   \n",
              "1                                    abako  ...        0        0     0   \n",
              "2                                 forlasos  ...        0        1     0   \n",
              "3                                forlasita  ...        0        1     1   \n",
              "4                                 forlasas  ...        0        1     1   \n",
              "5                                    Abate  ...        0        0     0   \n",
              "6                                abatement  ...        0        0     0   \n",
              "7                                     ABBA  ...        1        0     0   \n",
              "8                                    abato  ...        0        0     0   \n",
              "9                               mallongigi  ...        0        0     0   \n",
              "\n",
              "  Anticipation Disgust Fear Joy Sadness Surprise Trust  \n",
              "0            0       0    0   0       0        0     0  \n",
              "1            0       0    0   0       0        0     1  \n",
              "2            0       0    1   0       1        0     0  \n",
              "3            0       0    1   0       1        0     0  \n",
              "4            0       0    1   0       1        1     0  \n",
              "5            0       0    0   0       0        0     0  \n",
              "6            0       0    0   0       0        0     0  \n",
              "7            0       0    0   0       0        0     0  \n",
              "8            0       0    0   0       0        0     1  \n",
              "9            0       0    0   0       0        0     0  \n",
              "\n",
              "[10 rows x 51 columns]"
            ],
            "text/html": [
              "\n",
              "  <div id=\"df-d07860e5-6e62-45d2-8e1e-5bbf3a824f15\">\n",
              "    <div class=\"colab-df-container\">\n",
              "      <div>\n",
              "<style scoped>\n",
              "    .dataframe tbody tr th:only-of-type {\n",
              "        vertical-align: middle;\n",
              "    }\n",
              "\n",
              "    .dataframe tbody tr th {\n",
              "        vertical-align: top;\n",
              "    }\n",
              "\n",
              "    .dataframe thead th {\n",
              "        text-align: right;\n",
              "    }\n",
              "</style>\n",
              "<table border=\"1\" class=\"dataframe\">\n",
              "  <thead>\n",
              "    <tr style=\"text-align: right;\">\n",
              "      <th></th>\n",
              "      <th>English Word</th>\n",
              "      <th>Arabic Translation (Google Translate)</th>\n",
              "      <th>Basque Translation (Google Translate)</th>\n",
              "      <th>Bengali Translation (Google Translate)</th>\n",
              "      <th>Catalan Translation (Google Translate)</th>\n",
              "      <th>Chinese (simplified) Translation (Google Translate)</th>\n",
              "      <th>Chinese (traditional) Translation (Google Translate)</th>\n",
              "      <th>Danish Translation (Google Translate)</th>\n",
              "      <th>Dutch Translation (Google Translate)</th>\n",
              "      <th>Esperanto Translation (Google Translate)</th>\n",
              "      <th>...</th>\n",
              "      <th>Positive</th>\n",
              "      <th>Negative</th>\n",
              "      <th>Anger</th>\n",
              "      <th>Anticipation</th>\n",
              "      <th>Disgust</th>\n",
              "      <th>Fear</th>\n",
              "      <th>Joy</th>\n",
              "      <th>Sadness</th>\n",
              "      <th>Surprise</th>\n",
              "      <th>Trust</th>\n",
              "    </tr>\n",
              "  </thead>\n",
              "  <tbody>\n",
              "    <tr>\n",
              "      <th>0</th>\n",
              "      <td>aback</td>\n",
              "      <td>الى الوراء</td>\n",
              "      <td>aback</td>\n",
              "      <td>পশ্চাতে</td>\n",
              "      <td>darrere</td>\n",
              "      <td>吓了一跳</td>\n",
              "      <td>嚇了一跳</td>\n",
              "      <td>overrasket</td>\n",
              "      <td>verrast</td>\n",
              "      <td>surprizita</td>\n",
              "      <td>...</td>\n",
              "      <td>0</td>\n",
              "      <td>0</td>\n",
              "      <td>0</td>\n",
              "      <td>0</td>\n",
              "      <td>0</td>\n",
              "      <td>0</td>\n",
              "      <td>0</td>\n",
              "      <td>0</td>\n",
              "      <td>0</td>\n",
              "      <td>0</td>\n",
              "    </tr>\n",
              "    <tr>\n",
              "      <th>1</th>\n",
              "      <td>abacus</td>\n",
              "      <td>طبلية تاج</td>\n",
              "      <td>abako</td>\n",
              "      <td>গণনা-যন্ত্রবিশেষ</td>\n",
              "      <td>àbac</td>\n",
              "      <td>算盘</td>\n",
              "      <td>算盤</td>\n",
              "      <td>abacus</td>\n",
              "      <td>abacus</td>\n",
              "      <td>abako</td>\n",
              "      <td>...</td>\n",
              "      <td>0</td>\n",
              "      <td>0</td>\n",
              "      <td>0</td>\n",
              "      <td>0</td>\n",
              "      <td>0</td>\n",
              "      <td>0</td>\n",
              "      <td>0</td>\n",
              "      <td>0</td>\n",
              "      <td>0</td>\n",
              "      <td>1</td>\n",
              "    </tr>\n",
              "    <tr>\n",
              "      <th>2</th>\n",
              "      <td>abandon</td>\n",
              "      <td>تخلى</td>\n",
              "      <td>alde batera utzi</td>\n",
              "      <td>বর্জিত করা</td>\n",
              "      <td>abandonar</td>\n",
              "      <td>放弃</td>\n",
              "      <td>放棄</td>\n",
              "      <td>opgive</td>\n",
              "      <td>verlaten</td>\n",
              "      <td>forlasos</td>\n",
              "      <td>...</td>\n",
              "      <td>0</td>\n",
              "      <td>1</td>\n",
              "      <td>0</td>\n",
              "      <td>0</td>\n",
              "      <td>0</td>\n",
              "      <td>1</td>\n",
              "      <td>0</td>\n",
              "      <td>1</td>\n",
              "      <td>0</td>\n",
              "      <td>0</td>\n",
              "    </tr>\n",
              "    <tr>\n",
              "      <th>3</th>\n",
              "      <td>abandoned</td>\n",
              "      <td>مهجور</td>\n",
              "      <td>abandonatu</td>\n",
              "      <td>পরিত্যক্ত</td>\n",
              "      <td>abandonat</td>\n",
              "      <td>弃</td>\n",
              "      <td>棄</td>\n",
              "      <td>forladte</td>\n",
              "      <td>verlaten</td>\n",
              "      <td>forlasita</td>\n",
              "      <td>...</td>\n",
              "      <td>0</td>\n",
              "      <td>1</td>\n",
              "      <td>1</td>\n",
              "      <td>0</td>\n",
              "      <td>0</td>\n",
              "      <td>1</td>\n",
              "      <td>0</td>\n",
              "      <td>1</td>\n",
              "      <td>0</td>\n",
              "      <td>0</td>\n",
              "    </tr>\n",
              "    <tr>\n",
              "      <th>4</th>\n",
              "      <td>abandonment</td>\n",
              "      <td>هجر</td>\n",
              "      <td>abandono</td>\n",
              "      <td>বিসর্জন</td>\n",
              "      <td>abandonament</td>\n",
              "      <td>放弃</td>\n",
              "      <td>放棄</td>\n",
              "      <td>opgivelse</td>\n",
              "      <td>verlatenheid</td>\n",
              "      <td>forlasas</td>\n",
              "      <td>...</td>\n",
              "      <td>0</td>\n",
              "      <td>1</td>\n",
              "      <td>1</td>\n",
              "      <td>0</td>\n",
              "      <td>0</td>\n",
              "      <td>1</td>\n",
              "      <td>0</td>\n",
              "      <td>1</td>\n",
              "      <td>1</td>\n",
              "      <td>0</td>\n",
              "    </tr>\n",
              "    <tr>\n",
              "      <th>5</th>\n",
              "      <td>abate</td>\n",
              "      <td>انحسر</td>\n",
              "      <td>abate</td>\n",
              "      <td>প্রকোপ হ্রাস করা</td>\n",
              "      <td>disminuir</td>\n",
              "      <td>杀</td>\n",
              "      <td>殺</td>\n",
              "      <td>aftage</td>\n",
              "      <td>verminderen</td>\n",
              "      <td>Abate</td>\n",
              "      <td>...</td>\n",
              "      <td>0</td>\n",
              "      <td>0</td>\n",
              "      <td>0</td>\n",
              "      <td>0</td>\n",
              "      <td>0</td>\n",
              "      <td>0</td>\n",
              "      <td>0</td>\n",
              "      <td>0</td>\n",
              "      <td>0</td>\n",
              "      <td>0</td>\n",
              "    </tr>\n",
              "    <tr>\n",
              "      <th>6</th>\n",
              "      <td>abatement</td>\n",
              "      <td>انحسار</td>\n",
              "      <td>murrizteko</td>\n",
              "      <td>উপশম</td>\n",
              "      <td>disminució</td>\n",
              "      <td>减排</td>\n",
              "      <td>減排</td>\n",
              "      <td>nedskæring</td>\n",
              "      <td>vermindering</td>\n",
              "      <td>abatement</td>\n",
              "      <td>...</td>\n",
              "      <td>0</td>\n",
              "      <td>0</td>\n",
              "      <td>0</td>\n",
              "      <td>0</td>\n",
              "      <td>0</td>\n",
              "      <td>0</td>\n",
              "      <td>0</td>\n",
              "      <td>0</td>\n",
              "      <td>0</td>\n",
              "      <td>0</td>\n",
              "    </tr>\n",
              "    <tr>\n",
              "      <th>7</th>\n",
              "      <td>abba</td>\n",
              "      <td>أبا</td>\n",
              "      <td>abba</td>\n",
              "      <td>Abba</td>\n",
              "      <td>abba</td>\n",
              "      <td>ABBA</td>\n",
              "      <td>ABBA</td>\n",
              "      <td>abba</td>\n",
              "      <td>abba</td>\n",
              "      <td>ABBA</td>\n",
              "      <td>...</td>\n",
              "      <td>1</td>\n",
              "      <td>0</td>\n",
              "      <td>0</td>\n",
              "      <td>0</td>\n",
              "      <td>0</td>\n",
              "      <td>0</td>\n",
              "      <td>0</td>\n",
              "      <td>0</td>\n",
              "      <td>0</td>\n",
              "      <td>0</td>\n",
              "    </tr>\n",
              "    <tr>\n",
              "      <th>8</th>\n",
              "      <td>abbot</td>\n",
              "      <td>رئيس الدير</td>\n",
              "      <td>abade</td>\n",
              "      <td>মঠাধ্যক্ষ</td>\n",
              "      <td>abat</td>\n",
              "      <td>方丈</td>\n",
              "      <td>方丈</td>\n",
              "      <td>abbed</td>\n",
              "      <td>abt</td>\n",
              "      <td>abato</td>\n",
              "      <td>...</td>\n",
              "      <td>0</td>\n",
              "      <td>0</td>\n",
              "      <td>0</td>\n",
              "      <td>0</td>\n",
              "      <td>0</td>\n",
              "      <td>0</td>\n",
              "      <td>0</td>\n",
              "      <td>0</td>\n",
              "      <td>0</td>\n",
              "      <td>1</td>\n",
              "    </tr>\n",
              "    <tr>\n",
              "      <th>9</th>\n",
              "      <td>abbreviate</td>\n",
              "      <td>اختصر</td>\n",
              "      <td>laburtu</td>\n",
              "      <td>খাট করা</td>\n",
              "      <td>abreujar</td>\n",
              "      <td>简略</td>\n",
              "      <td>簡略</td>\n",
              "      <td>forkorte</td>\n",
              "      <td>afkorten</td>\n",
              "      <td>mallongigi</td>\n",
              "      <td>...</td>\n",
              "      <td>0</td>\n",
              "      <td>0</td>\n",
              "      <td>0</td>\n",
              "      <td>0</td>\n",
              "      <td>0</td>\n",
              "      <td>0</td>\n",
              "      <td>0</td>\n",
              "      <td>0</td>\n",
              "      <td>0</td>\n",
              "      <td>0</td>\n",
              "    </tr>\n",
              "  </tbody>\n",
              "</table>\n",
              "<p>10 rows × 51 columns</p>\n",
              "</div>\n",
              "      <button class=\"colab-df-convert\" onclick=\"convertToInteractive('df-d07860e5-6e62-45d2-8e1e-5bbf3a824f15')\"\n",
              "              title=\"Convert this dataframe to an interactive table.\"\n",
              "              style=\"display:none;\">\n",
              "        \n",
              "  <svg xmlns=\"http://www.w3.org/2000/svg\" height=\"24px\"viewBox=\"0 0 24 24\"\n",
              "       width=\"24px\">\n",
              "    <path d=\"M0 0h24v24H0V0z\" fill=\"none\"/>\n",
              "    <path d=\"M18.56 5.44l.94 2.06.94-2.06 2.06-.94-2.06-.94-.94-2.06-.94 2.06-2.06.94zm-11 1L8.5 8.5l.94-2.06 2.06-.94-2.06-.94L8.5 2.5l-.94 2.06-2.06.94zm10 10l.94 2.06.94-2.06 2.06-.94-2.06-.94-.94-2.06-.94 2.06-2.06.94z\"/><path d=\"M17.41 7.96l-1.37-1.37c-.4-.4-.92-.59-1.43-.59-.52 0-1.04.2-1.43.59L10.3 9.45l-7.72 7.72c-.78.78-.78 2.05 0 2.83L4 21.41c.39.39.9.59 1.41.59.51 0 1.02-.2 1.41-.59l7.78-7.78 2.81-2.81c.8-.78.8-2.07 0-2.86zM5.41 20L4 18.59l7.72-7.72 1.47 1.35L5.41 20z\"/>\n",
              "  </svg>\n",
              "      </button>\n",
              "      \n",
              "  <style>\n",
              "    .colab-df-container {\n",
              "      display:flex;\n",
              "      flex-wrap:wrap;\n",
              "      gap: 12px;\n",
              "    }\n",
              "\n",
              "    .colab-df-convert {\n",
              "      background-color: #E8F0FE;\n",
              "      border: none;\n",
              "      border-radius: 50%;\n",
              "      cursor: pointer;\n",
              "      display: none;\n",
              "      fill: #1967D2;\n",
              "      height: 32px;\n",
              "      padding: 0 0 0 0;\n",
              "      width: 32px;\n",
              "    }\n",
              "\n",
              "    .colab-df-convert:hover {\n",
              "      background-color: #E2EBFA;\n",
              "      box-shadow: 0px 1px 2px rgba(60, 64, 67, 0.3), 0px 1px 3px 1px rgba(60, 64, 67, 0.15);\n",
              "      fill: #174EA6;\n",
              "    }\n",
              "\n",
              "    [theme=dark] .colab-df-convert {\n",
              "      background-color: #3B4455;\n",
              "      fill: #D2E3FC;\n",
              "    }\n",
              "\n",
              "    [theme=dark] .colab-df-convert:hover {\n",
              "      background-color: #434B5C;\n",
              "      box-shadow: 0px 1px 3px 1px rgba(0, 0, 0, 0.15);\n",
              "      filter: drop-shadow(0px 1px 2px rgba(0, 0, 0, 0.3));\n",
              "      fill: #FFFFFF;\n",
              "    }\n",
              "  </style>\n",
              "\n",
              "      <script>\n",
              "        const buttonEl =\n",
              "          document.querySelector('#df-d07860e5-6e62-45d2-8e1e-5bbf3a824f15 button.colab-df-convert');\n",
              "        buttonEl.style.display =\n",
              "          google.colab.kernel.accessAllowed ? 'block' : 'none';\n",
              "\n",
              "        async function convertToInteractive(key) {\n",
              "          const element = document.querySelector('#df-d07860e5-6e62-45d2-8e1e-5bbf3a824f15');\n",
              "          const dataTable =\n",
              "            await google.colab.kernel.invokeFunction('convertToInteractive',\n",
              "                                                     [key], {});\n",
              "          if (!dataTable) return;\n",
              "\n",
              "          const docLinkHtml = 'Like what you see? Visit the ' +\n",
              "            '<a target=\"_blank\" href=https://colab.research.google.com/notebooks/data_table.ipynb>data table notebook</a>'\n",
              "            + ' to learn more about interactive tables.';\n",
              "          element.innerHTML = '';\n",
              "          dataTable['output_type'] = 'display_data';\n",
              "          await google.colab.output.renderOutput(dataTable, element);\n",
              "          const docLink = document.createElement('div');\n",
              "          docLink.innerHTML = docLinkHtml;\n",
              "          element.appendChild(docLink);\n",
              "        }\n",
              "      </script>\n",
              "    </div>\n",
              "  </div>\n",
              "  "
            ]
          },
          "metadata": {},
          "execution_count": 181
        }
      ],
      "source": [
        "import pandas as pd\n",
        "# import the lexicon\n",
        "lexicon_df = pd.read_excel(\"NRC-Emotion-Lexicon-v0.92-InManyLanguages-web.xlsx\", engine=\"openpyxl\")\n",
        "\n",
        "#many languages\n",
        "#8 emotion types\n",
        "#https://github.com/sebastianruder/emotion_proposition_store/tree/master/NRC-Emotion-Lexicon-v0.92\n",
        "\n",
        "\n",
        "#The NRC emotion lexicon is a list of words and their associations with\n",
        "#eight emotions (anger, fear, anticipation, trust, surprise, sadness,\n",
        "#joy, and disgust) and two sentiments (negative and positive). The\n",
        "#annotations were manually done through Amazon's Mechanical Turk. Refer\n",
        "#to publications below for more details: http://saifmohammad.com/WebPages/NRC-Emotion-Lexicon.htm \n",
        "\n",
        "\n",
        "lexicon_df.head(10)"
      ]
    },
    {
      "cell_type": "code",
      "execution_count": 182,
      "metadata": {
        "id": "Oz5x4uUQ0lpx"
      },
      "outputs": [],
      "source": [
        "# create a dict mapping word to value\n",
        "lexicon = {}\n",
        "\n",
        "#https://www.w3schools.com/python/ref_func_zip.asp\n",
        "\n",
        "for word, pos, neg in zip(lexicon_df[\"English Word\"], lexicon_df[\"Positive\"], lexicon_df[\"Negative\"]):\n",
        "  if pos:\n",
        "    value = 1\n",
        "  elif neg:\n",
        "    value = -1 #i do not consider 0's \n",
        "  else:\n",
        "    continue\n",
        "  lexicon[str(word).lower()] = value #lower case"
      ]
    },
    {
      "cell_type": "code",
      "execution_count": 183,
      "metadata": {
        "id": "qDMGrQYy1byb"
      },
      "outputs": [],
      "source": [
        "# this custom function will return the sentiment associated to a sentence via the sum of single words\n",
        "def myscore(sentence):\n",
        "  sentiment = 0\n",
        "  for word in sentence: \n",
        "    sentiment += lexicon.get(word.lower()) if lexicon.get(word.lower()) is not None else 0 #+= operator\n",
        "  return sentiment"
      ]
    },
    {
      "cell_type": "code",
      "execution_count": 184,
      "metadata": {
        "colab": {
          "base_uri": "https://localhost:8080/",
          "height": 990
        },
        "id": "K7x_-cuZ2AxO",
        "outputId": "90f2a0f7-761c-4498-d68a-c20d68fc01d9"
      },
      "outputs": [
        {
          "output_type": "execute_result",
          "data": {
            "text/plain": [
              "       score  afinn  myscore  \\\n",
              "35142    5.0    4.0        0   \n",
              "35143    5.0    4.0        1   \n",
              "35144    3.0    8.0        2   \n",
              "35145    5.0    3.0        1   \n",
              "35146    5.0   10.0        7   \n",
              "35147    3.0   18.0       10   \n",
              "35148    5.0    7.0        4   \n",
              "35149    5.0   12.0        7   \n",
              "35150    5.0    7.0        2   \n",
              "35151    5.0    8.0        2   \n",
              "35152    5.0    3.0        5   \n",
              "35153    4.0    8.0        2   \n",
              "35154    5.0    5.0        4   \n",
              "35155    5.0    6.0        3   \n",
              "35156    2.0   -4.0        2   \n",
              "35157    5.0    9.0        4   \n",
              "35158    5.0    3.0        1   \n",
              "35159    5.0   29.0       11   \n",
              "35160    5.0    9.0        3   \n",
              "35161    5.0    8.0        2   \n",
              "35162    5.0    2.0        0   \n",
              "35163    5.0    8.0        2   \n",
              "35164    5.0    6.0        2   \n",
              "35165    5.0   14.0        4   \n",
              "35166    5.0    3.0        4   \n",
              "35167    5.0    4.0        3   \n",
              "35168    5.0    1.0       -1   \n",
              "35169    5.0   12.0        5   \n",
              "35170    5.0    7.0        3   \n",
              "35171    5.0    3.0        1   \n",
              "\n",
              "                                                    text  \n",
              "35142  [b, '', hi, buy, thi, oil, for, all, your, sti...  \n",
              "35143  [b'thi, peanut, oil, is, clear, odorless, high...  \n",
              "35144  [b, ', i, am, give, it, a, 3, star, review, be...  \n",
              "35145  [b, ', i, use, these, to, make, my, own, raw, ...  \n",
              "35146  [b, '', have, live, in, spain, for, almost, si...  \n",
              "35147  [b, '', these, cracker, are, made, by, back, t...  \n",
              "35148  [b'mi, son, is, absout, addict, to, these, thi...  \n",
              "35149  [b, '', my, 14, month, daughter, love, these, ...  \n",
              "35150  [b, '', out, of, all, the, snack, out, there, ...  \n",
              "35151  [b'bought, thi, for, my, great-nephew, and, he...  \n",
              "35152  [b, '', we, 've, been, give, our, babi, differ...  \n",
              "35153  [b, ', i, love, love, yogi, tea, !, i, drink, ...  \n",
              "35154  [b'veri, happi, with, the, season, packet, ., ...  \n",
              "35155  [b, ', i, have, just, put, my, 3rd, paella, in...  \n",
              "35156  [b, '', i, made, paella, with, thi, spice, pac...  \n",
              "35157  [b, '', thi, is, our, daughter, 's, favorit, s...  \n",
              "35158  [b'our, son, love, these, ,, and, ask, for, th...  \n",
              "35159  [b, '', my, 4, 1/2, month, old, 3.7lb, yorkshi...  \n",
              "35160  [b, '', thi, is, a, great, product, !, your, d...  \n",
              "35161  [b, ', i, must, say, ,, these, were, the, best...  \n",
              "35162  [b, '', i, did, a, research, project, on, diff...  \n",
              "35163  [b, '', thi, is, what, we, brew, at, work, ., ...  \n",
              "35164  [b'the, coffe, wa, (, and, still, is, ), my, f...  \n",
              "35165  [b, ', i, love, love, love, thi, coffe, ., gre...  \n",
              "35166  [b'price, is, veri, close, to, what, i, found,...  \n",
              "35167  [b, '', onc, i, tast, hazelnut, coffe, ,, i, w...  \n",
              "35168  [b, '', ha, maxwel, hous, quit, make, thi, cof...  \n",
              "35169  [b, '', nutti, ,, smooth, ,, subtl, ,, with, a...  \n",
              "35170  [b'price, wa, right, and, the, tast, veri, goo...  \n",
              "35171  [b'thi, sauc, give, you, authent, tonkatsu, fl...  "
            ],
            "text/html": [
              "\n",
              "  <div id=\"df-065c45c4-8605-4d21-bd65-d2869d8399d5\">\n",
              "    <div class=\"colab-df-container\">\n",
              "      <div>\n",
              "<style scoped>\n",
              "    .dataframe tbody tr th:only-of-type {\n",
              "        vertical-align: middle;\n",
              "    }\n",
              "\n",
              "    .dataframe tbody tr th {\n",
              "        vertical-align: top;\n",
              "    }\n",
              "\n",
              "    .dataframe thead th {\n",
              "        text-align: right;\n",
              "    }\n",
              "</style>\n",
              "<table border=\"1\" class=\"dataframe\">\n",
              "  <thead>\n",
              "    <tr style=\"text-align: right;\">\n",
              "      <th></th>\n",
              "      <th>score</th>\n",
              "      <th>afinn</th>\n",
              "      <th>myscore</th>\n",
              "      <th>text</th>\n",
              "    </tr>\n",
              "  </thead>\n",
              "  <tbody>\n",
              "    <tr>\n",
              "      <th>35142</th>\n",
              "      <td>5.0</td>\n",
              "      <td>4.0</td>\n",
              "      <td>0</td>\n",
              "      <td>[b, '', hi, buy, thi, oil, for, all, your, sti...</td>\n",
              "    </tr>\n",
              "    <tr>\n",
              "      <th>35143</th>\n",
              "      <td>5.0</td>\n",
              "      <td>4.0</td>\n",
              "      <td>1</td>\n",
              "      <td>[b'thi, peanut, oil, is, clear, odorless, high...</td>\n",
              "    </tr>\n",
              "    <tr>\n",
              "      <th>35144</th>\n",
              "      <td>3.0</td>\n",
              "      <td>8.0</td>\n",
              "      <td>2</td>\n",
              "      <td>[b, ', i, am, give, it, a, 3, star, review, be...</td>\n",
              "    </tr>\n",
              "    <tr>\n",
              "      <th>35145</th>\n",
              "      <td>5.0</td>\n",
              "      <td>3.0</td>\n",
              "      <td>1</td>\n",
              "      <td>[b, ', i, use, these, to, make, my, own, raw, ...</td>\n",
              "    </tr>\n",
              "    <tr>\n",
              "      <th>35146</th>\n",
              "      <td>5.0</td>\n",
              "      <td>10.0</td>\n",
              "      <td>7</td>\n",
              "      <td>[b, '', have, live, in, spain, for, almost, si...</td>\n",
              "    </tr>\n",
              "    <tr>\n",
              "      <th>35147</th>\n",
              "      <td>3.0</td>\n",
              "      <td>18.0</td>\n",
              "      <td>10</td>\n",
              "      <td>[b, '', these, cracker, are, made, by, back, t...</td>\n",
              "    </tr>\n",
              "    <tr>\n",
              "      <th>35148</th>\n",
              "      <td>5.0</td>\n",
              "      <td>7.0</td>\n",
              "      <td>4</td>\n",
              "      <td>[b'mi, son, is, absout, addict, to, these, thi...</td>\n",
              "    </tr>\n",
              "    <tr>\n",
              "      <th>35149</th>\n",
              "      <td>5.0</td>\n",
              "      <td>12.0</td>\n",
              "      <td>7</td>\n",
              "      <td>[b, '', my, 14, month, daughter, love, these, ...</td>\n",
              "    </tr>\n",
              "    <tr>\n",
              "      <th>35150</th>\n",
              "      <td>5.0</td>\n",
              "      <td>7.0</td>\n",
              "      <td>2</td>\n",
              "      <td>[b, '', out, of, all, the, snack, out, there, ...</td>\n",
              "    </tr>\n",
              "    <tr>\n",
              "      <th>35151</th>\n",
              "      <td>5.0</td>\n",
              "      <td>8.0</td>\n",
              "      <td>2</td>\n",
              "      <td>[b'bought, thi, for, my, great-nephew, and, he...</td>\n",
              "    </tr>\n",
              "    <tr>\n",
              "      <th>35152</th>\n",
              "      <td>5.0</td>\n",
              "      <td>3.0</td>\n",
              "      <td>5</td>\n",
              "      <td>[b, '', we, 've, been, give, our, babi, differ...</td>\n",
              "    </tr>\n",
              "    <tr>\n",
              "      <th>35153</th>\n",
              "      <td>4.0</td>\n",
              "      <td>8.0</td>\n",
              "      <td>2</td>\n",
              "      <td>[b, ', i, love, love, yogi, tea, !, i, drink, ...</td>\n",
              "    </tr>\n",
              "    <tr>\n",
              "      <th>35154</th>\n",
              "      <td>5.0</td>\n",
              "      <td>5.0</td>\n",
              "      <td>4</td>\n",
              "      <td>[b'veri, happi, with, the, season, packet, ., ...</td>\n",
              "    </tr>\n",
              "    <tr>\n",
              "      <th>35155</th>\n",
              "      <td>5.0</td>\n",
              "      <td>6.0</td>\n",
              "      <td>3</td>\n",
              "      <td>[b, ', i, have, just, put, my, 3rd, paella, in...</td>\n",
              "    </tr>\n",
              "    <tr>\n",
              "      <th>35156</th>\n",
              "      <td>2.0</td>\n",
              "      <td>-4.0</td>\n",
              "      <td>2</td>\n",
              "      <td>[b, '', i, made, paella, with, thi, spice, pac...</td>\n",
              "    </tr>\n",
              "    <tr>\n",
              "      <th>35157</th>\n",
              "      <td>5.0</td>\n",
              "      <td>9.0</td>\n",
              "      <td>4</td>\n",
              "      <td>[b, '', thi, is, our, daughter, 's, favorit, s...</td>\n",
              "    </tr>\n",
              "    <tr>\n",
              "      <th>35158</th>\n",
              "      <td>5.0</td>\n",
              "      <td>3.0</td>\n",
              "      <td>1</td>\n",
              "      <td>[b'our, son, love, these, ,, and, ask, for, th...</td>\n",
              "    </tr>\n",
              "    <tr>\n",
              "      <th>35159</th>\n",
              "      <td>5.0</td>\n",
              "      <td>29.0</td>\n",
              "      <td>11</td>\n",
              "      <td>[b, '', my, 4, 1/2, month, old, 3.7lb, yorkshi...</td>\n",
              "    </tr>\n",
              "    <tr>\n",
              "      <th>35160</th>\n",
              "      <td>5.0</td>\n",
              "      <td>9.0</td>\n",
              "      <td>3</td>\n",
              "      <td>[b, '', thi, is, a, great, product, !, your, d...</td>\n",
              "    </tr>\n",
              "    <tr>\n",
              "      <th>35161</th>\n",
              "      <td>5.0</td>\n",
              "      <td>8.0</td>\n",
              "      <td>2</td>\n",
              "      <td>[b, ', i, must, say, ,, these, were, the, best...</td>\n",
              "    </tr>\n",
              "    <tr>\n",
              "      <th>35162</th>\n",
              "      <td>5.0</td>\n",
              "      <td>2.0</td>\n",
              "      <td>0</td>\n",
              "      <td>[b, '', i, did, a, research, project, on, diff...</td>\n",
              "    </tr>\n",
              "    <tr>\n",
              "      <th>35163</th>\n",
              "      <td>5.0</td>\n",
              "      <td>8.0</td>\n",
              "      <td>2</td>\n",
              "      <td>[b, '', thi, is, what, we, brew, at, work, ., ...</td>\n",
              "    </tr>\n",
              "    <tr>\n",
              "      <th>35164</th>\n",
              "      <td>5.0</td>\n",
              "      <td>6.0</td>\n",
              "      <td>2</td>\n",
              "      <td>[b'the, coffe, wa, (, and, still, is, ), my, f...</td>\n",
              "    </tr>\n",
              "    <tr>\n",
              "      <th>35165</th>\n",
              "      <td>5.0</td>\n",
              "      <td>14.0</td>\n",
              "      <td>4</td>\n",
              "      <td>[b, ', i, love, love, love, thi, coffe, ., gre...</td>\n",
              "    </tr>\n",
              "    <tr>\n",
              "      <th>35166</th>\n",
              "      <td>5.0</td>\n",
              "      <td>3.0</td>\n",
              "      <td>4</td>\n",
              "      <td>[b'price, is, veri, close, to, what, i, found,...</td>\n",
              "    </tr>\n",
              "    <tr>\n",
              "      <th>35167</th>\n",
              "      <td>5.0</td>\n",
              "      <td>4.0</td>\n",
              "      <td>3</td>\n",
              "      <td>[b, '', onc, i, tast, hazelnut, coffe, ,, i, w...</td>\n",
              "    </tr>\n",
              "    <tr>\n",
              "      <th>35168</th>\n",
              "      <td>5.0</td>\n",
              "      <td>1.0</td>\n",
              "      <td>-1</td>\n",
              "      <td>[b, '', ha, maxwel, hous, quit, make, thi, cof...</td>\n",
              "    </tr>\n",
              "    <tr>\n",
              "      <th>35169</th>\n",
              "      <td>5.0</td>\n",
              "      <td>12.0</td>\n",
              "      <td>5</td>\n",
              "      <td>[b, '', nutti, ,, smooth, ,, subtl, ,, with, a...</td>\n",
              "    </tr>\n",
              "    <tr>\n",
              "      <th>35170</th>\n",
              "      <td>5.0</td>\n",
              "      <td>7.0</td>\n",
              "      <td>3</td>\n",
              "      <td>[b'price, wa, right, and, the, tast, veri, goo...</td>\n",
              "    </tr>\n",
              "    <tr>\n",
              "      <th>35171</th>\n",
              "      <td>5.0</td>\n",
              "      <td>3.0</td>\n",
              "      <td>1</td>\n",
              "      <td>[b'thi, sauc, give, you, authent, tonkatsu, fl...</td>\n",
              "    </tr>\n",
              "  </tbody>\n",
              "</table>\n",
              "</div>\n",
              "      <button class=\"colab-df-convert\" onclick=\"convertToInteractive('df-065c45c4-8605-4d21-bd65-d2869d8399d5')\"\n",
              "              title=\"Convert this dataframe to an interactive table.\"\n",
              "              style=\"display:none;\">\n",
              "        \n",
              "  <svg xmlns=\"http://www.w3.org/2000/svg\" height=\"24px\"viewBox=\"0 0 24 24\"\n",
              "       width=\"24px\">\n",
              "    <path d=\"M0 0h24v24H0V0z\" fill=\"none\"/>\n",
              "    <path d=\"M18.56 5.44l.94 2.06.94-2.06 2.06-.94-2.06-.94-.94-2.06-.94 2.06-2.06.94zm-11 1L8.5 8.5l.94-2.06 2.06-.94-2.06-.94L8.5 2.5l-.94 2.06-2.06.94zm10 10l.94 2.06.94-2.06 2.06-.94-2.06-.94-.94-2.06-.94 2.06-2.06.94z\"/><path d=\"M17.41 7.96l-1.37-1.37c-.4-.4-.92-.59-1.43-.59-.52 0-1.04.2-1.43.59L10.3 9.45l-7.72 7.72c-.78.78-.78 2.05 0 2.83L4 21.41c.39.39.9.59 1.41.59.51 0 1.02-.2 1.41-.59l7.78-7.78 2.81-2.81c.8-.78.8-2.07 0-2.86zM5.41 20L4 18.59l7.72-7.72 1.47 1.35L5.41 20z\"/>\n",
              "  </svg>\n",
              "      </button>\n",
              "      \n",
              "  <style>\n",
              "    .colab-df-container {\n",
              "      display:flex;\n",
              "      flex-wrap:wrap;\n",
              "      gap: 12px;\n",
              "    }\n",
              "\n",
              "    .colab-df-convert {\n",
              "      background-color: #E8F0FE;\n",
              "      border: none;\n",
              "      border-radius: 50%;\n",
              "      cursor: pointer;\n",
              "      display: none;\n",
              "      fill: #1967D2;\n",
              "      height: 32px;\n",
              "      padding: 0 0 0 0;\n",
              "      width: 32px;\n",
              "    }\n",
              "\n",
              "    .colab-df-convert:hover {\n",
              "      background-color: #E2EBFA;\n",
              "      box-shadow: 0px 1px 2px rgba(60, 64, 67, 0.3), 0px 1px 3px 1px rgba(60, 64, 67, 0.15);\n",
              "      fill: #174EA6;\n",
              "    }\n",
              "\n",
              "    [theme=dark] .colab-df-convert {\n",
              "      background-color: #3B4455;\n",
              "      fill: #D2E3FC;\n",
              "    }\n",
              "\n",
              "    [theme=dark] .colab-df-convert:hover {\n",
              "      background-color: #434B5C;\n",
              "      box-shadow: 0px 1px 3px 1px rgba(0, 0, 0, 0.15);\n",
              "      filter: drop-shadow(0px 1px 2px rgba(0, 0, 0, 0.3));\n",
              "      fill: #FFFFFF;\n",
              "    }\n",
              "  </style>\n",
              "\n",
              "      <script>\n",
              "        const buttonEl =\n",
              "          document.querySelector('#df-065c45c4-8605-4d21-bd65-d2869d8399d5 button.colab-df-convert');\n",
              "        buttonEl.style.display =\n",
              "          google.colab.kernel.accessAllowed ? 'block' : 'none';\n",
              "\n",
              "        async function convertToInteractive(key) {\n",
              "          const element = document.querySelector('#df-065c45c4-8605-4d21-bd65-d2869d8399d5');\n",
              "          const dataTable =\n",
              "            await google.colab.kernel.invokeFunction('convertToInteractive',\n",
              "                                                     [key], {});\n",
              "          if (!dataTable) return;\n",
              "\n",
              "          const docLinkHtml = 'Like what you see? Visit the ' +\n",
              "            '<a target=\"_blank\" href=https://colab.research.google.com/notebooks/data_table.ipynb>data table notebook</a>'\n",
              "            + ' to learn more about interactive tables.';\n",
              "          element.innerHTML = '';\n",
              "          dataTable['output_type'] = 'display_data';\n",
              "          await google.colab.output.renderOutput(dataTable, element);\n",
              "          const docLink = document.createElement('div');\n",
              "          docLink.innerHTML = docLinkHtml;\n",
              "          element.appendChild(docLink);\n",
              "        }\n",
              "      </script>\n",
              "    </div>\n",
              "  </div>\n",
              "  "
            ]
          },
          "metadata": {},
          "execution_count": 184
        }
      ],
      "source": [
        "# apply myscore function\n",
        "df['myscore'] = df[\"text\"].apply(myscore)\n",
        "df[['score', 'afinn','myscore', 'text']].tail(30)"
      ]
    },
    {
      "cell_type": "code",
      "execution_count": 185,
      "metadata": {
        "colab": {
          "base_uri": "https://localhost:8080/",
          "height": 143
        },
        "id": "dgwFu6j82_dU",
        "outputId": "870ceaf1-17d7-45a4-e58c-80617ee866fb"
      },
      "outputs": [
        {
          "output_type": "execute_result",
          "data": {
            "text/plain": [
              "myscore    -1      1\n",
              "score               \n",
              "-1.0     1279   2946\n",
              " 1.0     2171  20931"
            ],
            "text/html": [
              "\n",
              "  <div id=\"df-dd7ca678-d516-4a86-ad20-5b11990fa40d\">\n",
              "    <div class=\"colab-df-container\">\n",
              "      <div>\n",
              "<style scoped>\n",
              "    .dataframe tbody tr th:only-of-type {\n",
              "        vertical-align: middle;\n",
              "    }\n",
              "\n",
              "    .dataframe tbody tr th {\n",
              "        vertical-align: top;\n",
              "    }\n",
              "\n",
              "    .dataframe thead th {\n",
              "        text-align: right;\n",
              "    }\n",
              "</style>\n",
              "<table border=\"1\" class=\"dataframe\">\n",
              "  <thead>\n",
              "    <tr style=\"text-align: right;\">\n",
              "      <th>myscore</th>\n",
              "      <th>-1</th>\n",
              "      <th>1</th>\n",
              "    </tr>\n",
              "    <tr>\n",
              "      <th>score</th>\n",
              "      <th></th>\n",
              "      <th></th>\n",
              "    </tr>\n",
              "  </thead>\n",
              "  <tbody>\n",
              "    <tr>\n",
              "      <th>-1.0</th>\n",
              "      <td>1279</td>\n",
              "      <td>2946</td>\n",
              "    </tr>\n",
              "    <tr>\n",
              "      <th>1.0</th>\n",
              "      <td>2171</td>\n",
              "      <td>20931</td>\n",
              "    </tr>\n",
              "  </tbody>\n",
              "</table>\n",
              "</div>\n",
              "      <button class=\"colab-df-convert\" onclick=\"convertToInteractive('df-dd7ca678-d516-4a86-ad20-5b11990fa40d')\"\n",
              "              title=\"Convert this dataframe to an interactive table.\"\n",
              "              style=\"display:none;\">\n",
              "        \n",
              "  <svg xmlns=\"http://www.w3.org/2000/svg\" height=\"24px\"viewBox=\"0 0 24 24\"\n",
              "       width=\"24px\">\n",
              "    <path d=\"M0 0h24v24H0V0z\" fill=\"none\"/>\n",
              "    <path d=\"M18.56 5.44l.94 2.06.94-2.06 2.06-.94-2.06-.94-.94-2.06-.94 2.06-2.06.94zm-11 1L8.5 8.5l.94-2.06 2.06-.94-2.06-.94L8.5 2.5l-.94 2.06-2.06.94zm10 10l.94 2.06.94-2.06 2.06-.94-2.06-.94-.94-2.06-.94 2.06-2.06.94z\"/><path d=\"M17.41 7.96l-1.37-1.37c-.4-.4-.92-.59-1.43-.59-.52 0-1.04.2-1.43.59L10.3 9.45l-7.72 7.72c-.78.78-.78 2.05 0 2.83L4 21.41c.39.39.9.59 1.41.59.51 0 1.02-.2 1.41-.59l7.78-7.78 2.81-2.81c.8-.78.8-2.07 0-2.86zM5.41 20L4 18.59l7.72-7.72 1.47 1.35L5.41 20z\"/>\n",
              "  </svg>\n",
              "      </button>\n",
              "      \n",
              "  <style>\n",
              "    .colab-df-container {\n",
              "      display:flex;\n",
              "      flex-wrap:wrap;\n",
              "      gap: 12px;\n",
              "    }\n",
              "\n",
              "    .colab-df-convert {\n",
              "      background-color: #E8F0FE;\n",
              "      border: none;\n",
              "      border-radius: 50%;\n",
              "      cursor: pointer;\n",
              "      display: none;\n",
              "      fill: #1967D2;\n",
              "      height: 32px;\n",
              "      padding: 0 0 0 0;\n",
              "      width: 32px;\n",
              "    }\n",
              "\n",
              "    .colab-df-convert:hover {\n",
              "      background-color: #E2EBFA;\n",
              "      box-shadow: 0px 1px 2px rgba(60, 64, 67, 0.3), 0px 1px 3px 1px rgba(60, 64, 67, 0.15);\n",
              "      fill: #174EA6;\n",
              "    }\n",
              "\n",
              "    [theme=dark] .colab-df-convert {\n",
              "      background-color: #3B4455;\n",
              "      fill: #D2E3FC;\n",
              "    }\n",
              "\n",
              "    [theme=dark] .colab-df-convert:hover {\n",
              "      background-color: #434B5C;\n",
              "      box-shadow: 0px 1px 3px 1px rgba(0, 0, 0, 0.15);\n",
              "      filter: drop-shadow(0px 1px 2px rgba(0, 0, 0, 0.3));\n",
              "      fill: #FFFFFF;\n",
              "    }\n",
              "  </style>\n",
              "\n",
              "      <script>\n",
              "        const buttonEl =\n",
              "          document.querySelector('#df-dd7ca678-d516-4a86-ad20-5b11990fa40d button.colab-df-convert');\n",
              "        buttonEl.style.display =\n",
              "          google.colab.kernel.accessAllowed ? 'block' : 'none';\n",
              "\n",
              "        async function convertToInteractive(key) {\n",
              "          const element = document.querySelector('#df-dd7ca678-d516-4a86-ad20-5b11990fa40d');\n",
              "          const dataTable =\n",
              "            await google.colab.kernel.invokeFunction('convertToInteractive',\n",
              "                                                     [key], {});\n",
              "          if (!dataTable) return;\n",
              "\n",
              "          const docLinkHtml = 'Like what you see? Visit the ' +\n",
              "            '<a target=\"_blank\" href=https://colab.research.google.com/notebooks/data_table.ipynb>data table notebook</a>'\n",
              "            + ' to learn more about interactive tables.';\n",
              "          element.innerHTML = '';\n",
              "          dataTable['output_type'] = 'display_data';\n",
              "          await google.colab.output.renderOutput(dataTable, element);\n",
              "          const docLink = document.createElement('div');\n",
              "          docLink.innerHTML = docLinkHtml;\n",
              "          element.appendChild(docLink);\n",
              "        }\n",
              "      </script>\n",
              "    </div>\n",
              "  </div>\n",
              "  "
            ]
          },
          "metadata": {},
          "execution_count": 185
        }
      ],
      "source": [
        "confusion = pd.crosstab(np.sign(df.score - 3), np.sign(df.myscore))\n",
        "confusion_2_class = confusion.iloc[[0, 2], [0, 2]]\n",
        "confusion_2_class"
      ]
    },
    {
      "cell_type": "code",
      "execution_count": 186,
      "metadata": {
        "colab": {
          "base_uri": "https://localhost:8080/",
          "height": 435
        },
        "id": "3oFxBIVYm3R8",
        "outputId": "1c2de04b-6854-4892-dbc3-a3f0491f0f40"
      },
      "outputs": [
        {
          "output_type": "display_data",
          "data": {
            "text/plain": [
              "<Figure size 640x480 with 2 Axes>"
            ],
            "image/png": "[encoded data removed]"
          },
          "metadata": {}
        }
      ],
      "source": [
        "shw = plt.imshow(confusion_2_class)\n",
        "bar = plt.colorbar(shw)"
      ]
    },
    {
      "cell_type": "code",
      "execution_count": 187,
      "metadata": {
        "colab": {
          "base_uri": "https://localhost:8080/"
        },
        "id": "0Tclze142_dc",
        "outputId": "ddf423c5-c891-463f-b700-a7bc73ebd1ec"
      },
      "outputs": [
        {
          "output_type": "execute_result",
          "data": {
            "text/plain": [
              "0.8127492955684854"
            ]
          },
          "metadata": {},
          "execution_count": 187
        }
      ],
      "source": [
        "accuracy_2_class = np.sum(np.diag(confusion_2_class)) / np.sum(confusion_2_class.values)\n",
        "accuracy_2_class"
      ]
    },
    {
      "cell_type": "markdown",
      "metadata": {
        "id": "jk2Q_UYym_Kd"
      },
      "source": [
        "lower than the baseline (0.9219343235862253)! BEWARE\n",
        "\n",
        "what about the confusion matrix between the afinn score and the new score?"
      ]
    },
    {
      "cell_type": "code",
      "execution_count": 188,
      "metadata": {
        "colab": {
          "base_uri": "https://localhost:8080/",
          "height": 143
        },
        "id": "oxm5G2mhnMR4",
        "outputId": "cc7e2800-e063-4f1c-c7d2-5273b8ec50d4"
      },
      "outputs": [
        {
          "output_type": "execute_result",
          "data": {
            "text/plain": [
              "myscore    -1      1\n",
              "afinn               \n",
              "-1.0     2209   4417\n",
              " 1.0     1321  19182"
            ],
            "text/html": [
              "\n",
              "  <div id=\"df-e46b7868-046f-4181-83a0-fa8558705d83\">\n",
              "    <div class=\"colab-df-container\">\n",
              "      <div>\n",
              "<style scoped>\n",
              "    .dataframe tbody tr th:only-of-type {\n",
              "        vertical-align: middle;\n",
              "    }\n",
              "\n",
              "    .dataframe tbody tr th {\n",
              "        vertical-align: top;\n",
              "    }\n",
              "\n",
              "    .dataframe thead th {\n",
              "        text-align: right;\n",
              "    }\n",
              "</style>\n",
              "<table border=\"1\" class=\"dataframe\">\n",
              "  <thead>\n",
              "    <tr style=\"text-align: right;\">\n",
              "      <th>myscore</th>\n",
              "      <th>-1</th>\n",
              "      <th>1</th>\n",
              "    </tr>\n",
              "    <tr>\n",
              "      <th>afinn</th>\n",
              "      <th></th>\n",
              "      <th></th>\n",
              "    </tr>\n",
              "  </thead>\n",
              "  <tbody>\n",
              "    <tr>\n",
              "      <th>-1.0</th>\n",
              "      <td>2209</td>\n",
              "      <td>4417</td>\n",
              "    </tr>\n",
              "    <tr>\n",
              "      <th>1.0</th>\n",
              "      <td>1321</td>\n",
              "      <td>19182</td>\n",
              "    </tr>\n",
              "  </tbody>\n",
              "</table>\n",
              "</div>\n",
              "      <button class=\"colab-df-convert\" onclick=\"convertToInteractive('df-e46b7868-046f-4181-83a0-fa8558705d83')\"\n",
              "              title=\"Convert this dataframe to an interactive table.\"\n",
              "              style=\"display:none;\">\n",
              "        \n",
              "  <svg xmlns=\"http://www.w3.org/2000/svg\" height=\"24px\"viewBox=\"0 0 24 24\"\n",
              "       width=\"24px\">\n",
              "    <path d=\"M0 0h24v24H0V0z\" fill=\"none\"/>\n",
              "    <path d=\"M18.56 5.44l.94 2.06.94-2.06 2.06-.94-2.06-.94-.94-2.06-.94 2.06-2.06.94zm-11 1L8.5 8.5l.94-2.06 2.06-.94-2.06-.94L8.5 2.5l-.94 2.06-2.06.94zm10 10l.94 2.06.94-2.06 2.06-.94-2.06-.94-.94-2.06-.94 2.06-2.06.94z\"/><path d=\"M17.41 7.96l-1.37-1.37c-.4-.4-.92-.59-1.43-.59-.52 0-1.04.2-1.43.59L10.3 9.45l-7.72 7.72c-.78.78-.78 2.05 0 2.83L4 21.41c.39.39.9.59 1.41.59.51 0 1.02-.2 1.41-.59l7.78-7.78 2.81-2.81c.8-.78.8-2.07 0-2.86zM5.41 20L4 18.59l7.72-7.72 1.47 1.35L5.41 20z\"/>\n",
              "  </svg>\n",
              "      </button>\n",
              "      \n",
              "  <style>\n",
              "    .colab-df-container {\n",
              "      display:flex;\n",
              "      flex-wrap:wrap;\n",
              "      gap: 12px;\n",
              "    }\n",
              "\n",
              "    .colab-df-convert {\n",
              "      background-color: #E8F0FE;\n",
              "      border: none;\n",
              "      border-radius: 50%;\n",
              "      cursor: pointer;\n",
              "      display: none;\n",
              "      fill: #1967D2;\n",
              "      height: 32px;\n",
              "      padding: 0 0 0 0;\n",
              "      width: 32px;\n",
              "    }\n",
              "\n",
              "    .colab-df-convert:hover {\n",
              "      background-color: #E2EBFA;\n",
              "      box-shadow: 0px 1px 2px rgba(60, 64, 67, 0.3), 0px 1px 3px 1px rgba(60, 64, 67, 0.15);\n",
              "      fill: #174EA6;\n",
              "    }\n",
              "\n",
              "    [theme=dark] .colab-df-convert {\n",
              "      background-color: #3B4455;\n",
              "      fill: #D2E3FC;\n",
              "    }\n",
              "\n",
              "    [theme=dark] .colab-df-convert:hover {\n",
              "      background-color: #434B5C;\n",
              "      box-shadow: 0px 1px 3px 1px rgba(0, 0, 0, 0.15);\n",
              "      filter: drop-shadow(0px 1px 2px rgba(0, 0, 0, 0.3));\n",
              "      fill: #FFFFFF;\n",
              "    }\n",
              "  </style>\n",
              "\n",
              "      <script>\n",
              "        const buttonEl =\n",
              "          document.querySelector('#df-e46b7868-046f-4181-83a0-fa8558705d83 button.colab-df-convert');\n",
              "        buttonEl.style.display =\n",
              "          google.colab.kernel.accessAllowed ? 'block' : 'none';\n",
              "\n",
              "        async function convertToInteractive(key) {\n",
              "          const element = document.querySelector('#df-e46b7868-046f-4181-83a0-fa8558705d83');\n",
              "          const dataTable =\n",
              "            await google.colab.kernel.invokeFunction('convertToInteractive',\n",
              "                                                     [key], {});\n",
              "          if (!dataTable) return;\n",
              "\n",
              "          const docLinkHtml = 'Like what you see? Visit the ' +\n",
              "            '<a target=\"_blank\" href=https://colab.research.google.com/notebooks/data_table.ipynb>data table notebook</a>'\n",
              "            + ' to learn more about interactive tables.';\n",
              "          element.innerHTML = '';\n",
              "          dataTable['output_type'] = 'display_data';\n",
              "          await google.colab.output.renderOutput(dataTable, element);\n",
              "          const docLink = document.createElement('div');\n",
              "          docLink.innerHTML = docLinkHtml;\n",
              "          element.appendChild(docLink);\n",
              "        }\n",
              "      </script>\n",
              "    </div>\n",
              "  </div>\n",
              "  "
            ]
          },
          "metadata": {},
          "execution_count": 188
        }
      ],
      "source": [
        "confusion = pd.crosstab(np.sign(df.afinn - 3), np.sign(df.myscore))\n",
        "confusion_2_class = confusion.iloc[[0, 2], [0, 2]]\n",
        "confusion_2_class"
      ]
    },
    {
      "cell_type": "code",
      "execution_count": 189,
      "metadata": {
        "colab": {
          "base_uri": "https://localhost:8080/",
          "height": 435
        },
        "id": "O_29-5wLnMR5",
        "outputId": "63930a4f-bad2-4a42-82c0-d7a1fd0c7701"
      },
      "outputs": [
        {
          "output_type": "display_data",
          "data": {
            "text/plain": [
              "<Figure size 640x480 with 2 Axes>"
            ],
            "image/png": "[encoded data removed]"
          },
          "metadata": {}
        }
      ],
      "source": [
        "shw = plt.imshow(confusion_2_class)\n",
        "bar = plt.colorbar(shw)"
      ]
    },
    {
      "cell_type": "code",
      "execution_count": 190,
      "metadata": {
        "colab": {
          "base_uri": "https://localhost:8080/"
        },
        "id": "wIk7KeuTnMR5",
        "outputId": "41e164fa-2d8c-40f7-ab7e-10fd3b25ee2b"
      },
      "outputs": [
        {
          "output_type": "execute_result",
          "data": {
            "text/plain": [
              "0.7884920196100115"
            ]
          },
          "metadata": {},
          "execution_count": 190
        }
      ],
      "source": [
        "accuracy_2_class = np.sum(np.diag(confusion_2_class)) / np.sum(confusion_2_class.values)\n",
        "accuracy_2_class"
      ]
    },
    {
      "cell_type": "markdown",
      "metadata": {
        "id": "t3tAD6YvqHLy"
      },
      "source": [
        "## Feature Engeneering and classification\n"
      ]
    },
    {
      "cell_type": "code",
      "execution_count": 232,
      "metadata": {
        "id": "nZXHf8YSwKQw"
      },
      "outputs": [],
      "source": [
        "from sklearn.model_selection import train_test_split\n",
        "#Step 1: train-test split\n",
        "X = df.text\n",
        "#the column text contains textual data to extract features from.\n",
        "y = df.score\n",
        "#this is the column we are learning to predict.\n",
        "X_train, X_test, y_train, y_test = train_test_split(X, y, random_state=1)\n",
        "#split X and y into training and testing sets. By default, it splits 75% training and 25% test. random_state=1 for reproducibility."
      ]
    },
    {
      "cell_type": "code",
      "execution_count": 233,
      "metadata": {
        "colab": {
          "base_uri": "https://localhost:8080/"
        },
        "id": "7aflChzvwuk7",
        "outputId": "dae2b61c-9081-453e-e919-28cf2083e703"
      },
      "outputs": [
        {
          "output_type": "stream",
          "name": "stdout",
          "text": [
            "(26379, 5000) (8793, 5000)\n"
          ]
        }
      ],
      "source": [
        "from sklearn.feature_extraction.text import CountVectorizer\n",
        "\n",
        "#Step 2-3: Pre-process and Vectorize train and test data\n",
        "vect = CountVectorizer(stop_words=None, lowercase=True, max_features=5000)\n",
        "#clean is a function we defined for pre-processing, seen in the notebook.\n",
        "X_train_dtm = vect.fit_transform(X_train.apply(lambda x: \" \".join(x)))\n",
        "X_test_dtm = vect.transform(X_test.apply(lambda x: \" \".join(x)))\n",
        "print(X_train_dtm.shape, X_test_dtm.shape)"
      ]
    },
    {
      "cell_type": "markdown",
      "source": [
        "### Balacig Data"
      ],
      "metadata": {
        "id": "XLTrH--Q5OaM"
      }
    },
    {
      "cell_type": "markdown",
      "source": [
        "https://imbalanced-learn.org/stable/"
      ],
      "metadata": {
        "id": "mkIu1-Ua5QtX"
      }
    },
    {
      "cell_type": "code",
      "source": [
        "!pip install imbalanced-learn\n",
        "from imblearn.over_sampling import RandomOverSampler\n",
        "import matplotlib.pyplot as plt\n",
        "from sklearn.metrics import confusion_matrix, ConfusionMatrixDisplay, accuracy_score, classification_report\n",
        "\n"
      ],
      "metadata": {
        "colab": {
          "base_uri": "https://localhost:8080/"
        },
        "id": "QWCcoswS5TYB",
        "outputId": "1bc154d0-3a4f-4fe1-8359-715b53d9ef3b"
      },
      "execution_count": 234,
      "outputs": [
        {
          "output_type": "stream",
          "name": "stdout",
          "text": [
            "Looking in indexes: https://pypi.org/simple, https://us-python.pkg.dev/colab-wheels/public/simple/\n",
            "Requirement already satisfied: imbalanced-learn in /usr/local/lib/python3.10/dist-packages (0.10.1)\n",
            "Requirement already satisfied: numpy>=1.17.3 in /usr/local/lib/python3.10/dist-packages (from imbalanced-learn) (1.22.4)\n",
            "Requirement already satisfied: scipy>=1.3.2 in /usr/local/lib/python3.10/dist-packages (from imbalanced-learn) (1.10.1)\n",
            "Requirement already satisfied: scikit-learn>=1.0.2 in /usr/local/lib/python3.10/dist-packages (from imbalanced-learn) (1.2.2)\n",
            "Requirement already satisfied: joblib>=1.1.1 in /usr/local/lib/python3.10/dist-packages (from imbalanced-learn) (1.2.0)\n",
            "Requirement already satisfied: threadpoolctl>=2.0.0 in /usr/local/lib/python3.10/dist-packages (from imbalanced-learn) (3.1.0)\n"
          ]
        }
      ]
    },
    {
      "cell_type": "code",
      "source": [
        "sampling_strategy = \"not majority\"\n",
        "autopct = \"%.2f\"\n",
        "\n",
        "fig, axs = plt.subplots(ncols=2, figsize=(10, 5))\n",
        "df.score.value_counts().plot.pie(autopct=autopct, ax=axs[0])\n",
        "axs[0].set_title(\"Original\")\n",
        "\n",
        "ROS = RandomOverSampler(sampling_strategy=sampling_strategy)\n",
        "X_train_ros, y_train_ros = ROS.fit_resample(X_train_dtm, y_train)\n",
        "y_train_ros.value_counts().plot.pie(autopct=autopct, ax=axs[1])\n",
        "axs[1].set_title(\"Balanced\")\n",
        "fig.tight_layout()"
      ],
      "metadata": {
        "colab": {
          "base_uri": "https://localhost:8080/",
          "height": 517
        },
        "id": "wg3RWwwk5g18",
        "outputId": "0a0c426b-f6e3-4fe7-b0bd-b60a83b5b248"
      },
      "execution_count": 235,
      "outputs": [
        {
          "output_type": "display_data",
          "data": {
            "text/plain": [
              "<Figure size 1000x500 with 2 Axes>"
            ],
            "image/png": "[encoded data removed]"
          },
          "metadata": {}
        }
      ]
    },
    {
      "cell_type": "code",
      "source": [
        "y_train_ros.value_counts()"
      ],
      "metadata": {
        "colab": {
          "base_uri": "https://localhost:8080/"
        },
        "id": "K4Oyy4E4I_Cs",
        "outputId": "83f60928-2d29-4c26-e054-816ac262fc9d"
      },
      "execution_count": 236,
      "outputs": [
        {
          "output_type": "execute_result",
          "data": {
            "text/plain": [
              "2.0    16495\n",
              "1.0    16495\n",
              "5.0    16495\n",
              "3.0    16495\n",
              "4.0    16495\n",
              "Name: score, dtype: int64"
            ]
          },
          "metadata": {},
          "execution_count": 236
        }
      ]
    },
    {
      "cell_type": "code",
      "source": [
        "df.score.value_counts()"
      ],
      "metadata": {
        "colab": {
          "base_uri": "https://localhost:8080/"
        },
        "id": "2k_fnJOAJEAh",
        "outputId": "a8f4a141-ab1c-44bc-8eab-25e21e7bc9e6"
      },
      "execution_count": 237,
      "outputs": [
        {
          "output_type": "execute_result",
          "data": {
            "text/plain": [
              "5.0    22017\n",
              "4.0     5071\n",
              "1.0     3218\n",
              "3.0     2860\n",
              "2.0     2006\n",
              "Name: score, dtype: int64"
            ]
          },
          "metadata": {},
          "execution_count": 237
        }
      ]
    },
    {
      "cell_type": "code",
      "source": [
        "def analisys(y_test, y_pred_class):\n",
        "  print(\"\\n Accuracy: \", accuracy_score(y_test, y_pred_class))\n",
        "  print(\"Report: \\n\",classification_report(y_test, y_pred_class))\n",
        "\n",
        "  cm = confusion_matrix(y_test, y_pred_class)\n",
        "\n",
        "  disp = ConfusionMatrixDisplay(confusion_matrix=cm,\n",
        "                                display_labels=[1,2,3,4,5])\n",
        "\n",
        "  disp.plot()\n",
        "\n",
        "  plt.show()"
      ],
      "metadata": {
        "id": "x-WR2fNeKF2r"
      },
      "execution_count": 238,
      "outputs": []
    },
    {
      "cell_type": "markdown",
      "metadata": {
        "id": "v8Ly1fJ-vHil"
      },
      "source": [
        "### Naive Bayes Classifier\n"
      ]
    },
    {
      "cell_type": "code",
      "execution_count": 227,
      "metadata": {
        "id": "iFi8iND_mVO8",
        "colab": {
          "base_uri": "https://localhost:8080/",
          "height": 675
        },
        "outputId": "47781f19-d532-4b32-821e-470f219df13a"
      },
      "outputs": [
        {
          "output_type": "stream",
          "name": "stdout",
          "text": [
            "Accuracy:  0.5809166382349596\n",
            "Report:                precision    recall  f1-score   support\n",
            "\n",
            "         1.0       0.41      0.56      0.47       806\n",
            "         2.0       0.21      0.32      0.25       502\n",
            "         3.0       0.23      0.34      0.27       697\n",
            "         4.0       0.29      0.35      0.32      1266\n",
            "         5.0       0.87      0.69      0.77      5522\n",
            "\n",
            "    accuracy                           0.58      8793\n",
            "   macro avg       0.40      0.45      0.42      8793\n",
            "weighted avg       0.66      0.58      0.61      8793\n",
            "\n"
          ]
        },
        {
          "output_type": "display_data",
          "data": {
            "text/plain": [
              "<Figure size 640x480 with 2 Axes>"
            ],
            "image/png": "[encoded data removed]"
          },
          "metadata": {}
        }
      ],
      "source": [
        "from sklearn.naive_bayes import MultinomialNB\n",
        "nb = MultinomialNB() #instantiate a Multinomial Naive Bayes classifier\n",
        "nb.fit(X_train_ros, y_train_ros)#train the mode\n",
        "y_pred_class = nb.predict(X_test_dtm)#make class predictions for test data\n",
        "analisys(y_test, y_pred_class)"
      ]
    },
    {
      "cell_type": "markdown",
      "source": [
        "### Logistic Regression\n"
      ],
      "metadata": {
        "id": "C3upTXRZCede"
      }
    },
    {
      "cell_type": "code",
      "execution_count": 228,
      "metadata": {
        "id": "LTKq6yDB3NQV",
        "colab": {
          "base_uri": "https://localhost:8080/",
          "height": 675
        },
        "outputId": "6f5a1b2f-3940-4322-c72a-9f28dc46968f"
      },
      "outputs": [
        {
          "output_type": "stream",
          "name": "stdout",
          "text": [
            "Accuracy:  0.58364608211077\n",
            "Report:                precision    recall  f1-score   support\n",
            "\n",
            "         1.0       0.48      0.56      0.52       806\n",
            "         2.0       0.23      0.34      0.28       502\n",
            "         3.0       0.24      0.34      0.28       697\n",
            "         4.0       0.27      0.36      0.31      1266\n",
            "         5.0       0.86      0.69      0.77      5522\n",
            "\n",
            "    accuracy                           0.58      8793\n",
            "   macro avg       0.42      0.46      0.43      8793\n",
            "weighted avg       0.65      0.58      0.61      8793\n",
            "\n"
          ]
        },
        {
          "output_type": "display_data",
          "data": {
            "text/plain": [
              "<Figure size 640x480 with 2 Axes>"
            ],
            "image/png": "[encoded data removed]"
          },
          "metadata": {}
        }
      ],
      "source": [
        "from sklearn.linear_model import LogisticRegression\n",
        "logreg = LogisticRegression(max_iter=10000)\n",
        "logreg.fit(X_train_ros, y_train_ros)\n",
        "y_pred_class = logreg.predict(X_test_dtm)\n",
        "analisys(y_test, y_pred_class)"
      ]
    },
    {
      "cell_type": "markdown",
      "source": [
        "### Support Vector Machine\n"
      ],
      "metadata": {
        "id": "uTT1qgNTL9-3"
      }
    },
    {
      "cell_type": "code",
      "source": [
        "from sklearn.svm import LinearSVC\n",
        "classifier = LinearSVC(class_weight='balanced') #notice the “balanced” option\n",
        "classifier.fit(X_train_dtm, y_train) #fit the model with training data\n",
        "y_pred_class = classifier.predict(X_test_dtm)\n",
        "analisys(y_test, y_pred_class)"
      ],
      "metadata": {
        "colab": {
          "base_uri": "https://localhost:8080/",
          "height": 744
        },
        "id": "DBL4gCA1L-eg",
        "outputId": "ff920832-ecf7-46d8-946e-a168585eae3a"
      },
      "execution_count": 239,
      "outputs": [
        {
          "output_type": "stream",
          "name": "stdout",
          "text": [
            "\n",
            " Accuracy:  0.6275446377800523\n",
            "Report: \n",
            "               precision    recall  f1-score   support\n",
            "\n",
            "         1.0       0.52      0.54      0.53       806\n",
            "         2.0       0.22      0.29      0.25       502\n",
            "         3.0       0.25      0.33      0.28       697\n",
            "         4.0       0.32      0.30      0.31      1266\n",
            "         5.0       0.83      0.78      0.81      5522\n",
            "\n",
            "    accuracy                           0.63      8793\n",
            "   macro avg       0.43      0.45      0.44      8793\n",
            "weighted avg       0.65      0.63      0.64      8793\n",
            "\n"
          ]
        },
        {
          "output_type": "stream",
          "name": "stderr",
          "text": [
            "/usr/local/lib/python3.10/dist-packages/sklearn/svm/_base.py:1244: ConvergenceWarning: Liblinear failed to converge, increase the number of iterations.\n",
            "  warnings.warn(\n"
          ]
        },
        {
          "output_type": "display_data",
          "data": {
            "text/plain": [
              "<Figure size 640x480 with 2 Axes>"
            ],
            "image/png": "[encoded data removed]"
          },
          "metadata": {}
        }
      ]
    },
    {
      "cell_type": "code",
      "source": [
        " "
      ],
      "metadata": {
        "id": "2yiURyGoXHdC"
      },
      "execution_count": null,
      "outputs": []
    }
  ],
  "metadata": {
    "colab": {
      "toc_visible": true,
      "provenance": [],
      "include_colab_link": true
    },
    "gpuClass": "standard",
    "kernelspec": {
      "display_name": "Python 3",
      "name": "python3"
    },
    "language_info": {
      "name": "python"
    }
  },
  "nbformat": 4,
  "nbformat_minor": 0
}