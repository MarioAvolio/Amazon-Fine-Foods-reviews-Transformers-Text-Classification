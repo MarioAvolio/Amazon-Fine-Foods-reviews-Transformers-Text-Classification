{
  "cells": [
    {
      "cell_type": "markdown",
      "metadata": {
        "id": "view-in-github",
        "colab_type": "text"
      },
      "source": [
        "<a href=\"https://colab.research.google.com/github/MarioAvolio/Amazon-Fine-Foods-reviews-Transformers-Text-Classification/blob/main/Text_Preprocessing_Amazon_Fine_Food.ipynb\" target=\"_parent\"><img src=\"https://colab.research.google.com/assets/colab-badge.svg\" alt=\"Open In Colab\"/></a>"
      ]
    },
    {
      "cell_type": "markdown",
      "metadata": {
        "id": "owaHBQRxPfPD"
      },
      "source": [
        "# Credits\n",
        "\n",
        "\n",
        "**Mario Avolio: 880995 - https://marioavolio.netlify.app/**\n",
        "\n",
        "Credits: \n",
        "- https://www.oreilly.com/library/view/practical-natural-language/9781492054047/\n",
        "\n",
        "Dataset:\n",
        "- https://snap.stanford.edu/data/web-FineFoods.html\n",
        "\n"
      ]
    },
    {
      "cell_type": "code",
      "execution_count": 1,
      "metadata": {
        "id": "GsRizD7zFJ3V"
      },
      "outputs": [],
      "source": [
        "import pandas as pd\n",
        "import os\n",
        "import matplotlib.pyplot as plt # plotting\n",
        "import numpy as np"
      ]
    },
    {
      "cell_type": "code",
      "execution_count": 2,
      "metadata": {
        "colab": {
          "base_uri": "https://localhost:8080/"
        },
        "id": "fJ6-kXG-0p7V",
        "outputId": "809e9bf9-757b-4810-b0d4-3cc5b5f5ea8d"
      },
      "outputs": [
        {
          "output_type": "stream",
          "name": "stdout",
          "text": [
            "Mounted at /content/drive\n"
          ]
        }
      ],
      "source": [
        "from google.colab import drive\n",
        "drive.mount('/content/drive', force_remount=True)"
      ]
    },
    {
      "cell_type": "code",
      "execution_count": 3,
      "metadata": {
        "colab": {
          "base_uri": "https://localhost:8080/"
        },
        "id": "WeWarxz8ZuPB",
        "outputId": "92e26de6-949d-4e0b-fe14-c9287fde6ca9"
      },
      "outputs": [
        {
          "output_type": "stream",
          "name": "stderr",
          "text": [
            "[nltk_data] Downloading package punkt to /root/nltk_data...\n",
            "[nltk_data]   Unzipping tokenizers/punkt.zip.\n",
            "[nltk_data] Downloading package stopwords to /root/nltk_data...\n",
            "[nltk_data]   Unzipping corpora/stopwords.zip.\n"
          ]
        }
      ],
      "source": [
        "import nltk\n",
        "#https://www.nltk.org/\n",
        "\n",
        "#NLTK is a leading platform for building Python programs to work with human language data. \n",
        "#It provides easy-to-use interfaces to over 50 corpora and lexical resources such as WordNet, \n",
        "#along with a suite of text processing libraries for classification, tokenization, \n",
        "#stemming, tagging, parsing, and semantic reasoning, wrappers for industrial-strength \n",
        "#NLP libraries, and an active discussion forum.\n",
        "\n",
        "nltk.download('punkt') \n",
        "\n",
        "nltk.download('stopwords')\n",
        "# Downloading stop words from NLTK nltk.download ('stopwords')\n",
        "\n",
        "\n",
        "from nltk.tokenize import word_tokenize\n",
        "#Tokenizers divide strings into lists of substrings. For example, tokenizers can \n",
        "#be used to find the words and punctuation in a string"
      ]
    },
    {
      "cell_type": "markdown",
      "metadata": {
        "id": "MfUllriJXH6V"
      },
      "source": [
        "# Constants and Methods"
      ]
    },
    {
      "cell_type": "code",
      "execution_count": 4,
      "metadata": {
        "id": "_hhFPP6_GZvC"
      },
      "outputs": [],
      "source": [
        "PATH_PROJ = \"/content/drive/MyDrive/data-proj/\"\n",
        "# if not os.path.exists(PATH_PROJ):\n",
        "#   PATH_PROJ = \"/content/drive/MyDrive/shared/data-proj/\"\n",
        "\n",
        "PATH_DATASET = PATH_PROJ+\"food.csv\""
      ]
    },
    {
      "cell_type": "code",
      "execution_count": 5,
      "metadata": {
        "id": "bdKztsPGwGat"
      },
      "outputs": [],
      "source": [
        "# Distribution graphs (histogram/bar graph) of column data\n",
        "def plotPerColumnDistribution(df, nGraphShown, nGraphPerRow):\n",
        "    nunique = df.nunique()\n",
        "    df = df[[col for col in df if nunique[col] > 1 and nunique[col] < 50]] # For displaying purposes, pick columns that have between 1 and 50 unique values\n",
        "    nRow, nCol = df.shape\n",
        "    columnNames = list(df)\n",
        "    nGraphRow = (nCol + nGraphPerRow - 1) / nGraphPerRow\n",
        "    plt.figure(num = None, figsize = (6 * nGraphPerRow, 8 * nGraphRow), dpi = 80, facecolor = 'w', edgecolor = 'k')\n",
        "    for i in range(min(nCol, nGraphShown)):\n",
        "        plt.subplot(nGraphRow, nGraphPerRow, i + 1)\n",
        "        columnDf = df.iloc[:, i]\n",
        "        if (not np.issubdtype(type(columnDf.iloc[0]), np.number)):\n",
        "            valueCounts = columnDf.value_counts()\n",
        "            valueCounts.plot.bar()\n",
        "        else:\n",
        "            columnDf.hist()\n",
        "        plt.ylabel('Number of sentences')\n",
        "        plt.xticks(rotation = 90)\n",
        "        plt.title(f'{columnNames[i]} (column {i})')\n",
        "    plt.tight_layout(pad = 1.0, w_pad = 1.0, h_pad = 1.0)\n",
        "    plt.show()"
      ]
    },
    {
      "cell_type": "markdown",
      "metadata": {
        "id": "D98neBGpTn_h"
      },
      "source": [
        "# Pipeline"
      ]
    },
    {
      "cell_type": "markdown",
      "metadata": {
        "id": "qo_fkDxzTuhY"
      },
      "source": [
        "We would normally\n",
        "walk through the requirements and break the problem down into several subproblems, then try to develop a step-by-step procedure to solve them. Since language\n",
        "processing is involved, we would also list all the forms of text processing needed at\n",
        "each step. This step-by-step processing of text is known as a pipeline. It is the series of\n",
        "steps involved in building any NLP model. These steps are common in every NLP\n",
        "project"
      ]
    },
    {
      "cell_type": "markdown",
      "metadata": {
        "id": "NK3lpEuNTyjW"
      },
      "source": [
        "The first step in the process of developing any NLP system is to collect data relevant\n",
        "to the given task. Even if we’re building a rule-based system, we still need some data\n",
        "to design and test our rules. The data we get is seldom clean, and this is where text\n",
        "cleaning comes into play. After cleaning, text data often has a lot of variations and\n",
        "needs to be converted into a canonical form. This is done in the pre-processing step.\n",
        "This is followed by feature engineering, where we carve out indicators that are most\n",
        "suitable for the task at hand. These indicators are converted into a format that is\n",
        "understandable by modeling algorithms. Then comes the modeling and evaluation\n",
        "phase, where we build one or more models and compare and contrast them using a\n",
        "relevant evaluation metric(s). Once the best model among the ones evaluated is\n",
        "chosen, we move toward deploying this model in production. Finally, we regularly\n",
        "monitor the performance of the model and, if need be, update it to keep up its\n",
        "performance.\n"
      ]
    },
    {
      "cell_type": "markdown",
      "metadata": {
        "id": "bcr0tZ5tKrtb"
      },
      "source": [
        "# Data "
      ]
    },
    {
      "cell_type": "code",
      "execution_count": 6,
      "metadata": {
        "id": "IJar8wRnGxx5"
      },
      "outputs": [],
      "source": [
        "df = pd.read_csv(PATH_DATASET)"
      ]
    },
    {
      "cell_type": "code",
      "execution_count": 7,
      "metadata": {
        "colab": {
          "base_uri": "https://localhost:8080/",
          "height": 424
        },
        "id": "Kg6Q0J9gHdqq",
        "outputId": "97cac413-1b24-42f6-8c7b-c4e9ddb12c2d"
      },
      "outputs": [
        {
          "output_type": "execute_result",
          "data": {
            "text/plain": [
              "        productid          userid  score  \\\n",
              "0      B001E4KFG0  A3SGXH7AUHU8GW    5.0   \n",
              "1      B00813GRG4  A1D87F6ZCVE5NK    1.0   \n",
              "2      B000LQOCH0   ABXLMWJIXXAIN    4.0   \n",
              "3      B000UA0QIQ  A395BORC6FGVXV    2.0   \n",
              "4      B006K2ZZ7K  A1UQRSCLF8GW1T    5.0   \n",
              "...           ...             ...    ...   \n",
              "35167  B000E1DSQS  A2QG0Z96HULRW7    5.0   \n",
              "35168  B000E1DSQS  A3F653OGB0ZF4X    5.0   \n",
              "35169  B000E1DSQS   AJD41FBJD9010    5.0   \n",
              "35170  B000E1DSQS  A33R5P618X7MG7    5.0   \n",
              "35171  B001ATMQK2  A3ECJIHDTDY3AM    5.0   \n",
              "\n",
              "                                                    text  \n",
              "0      I have bought several of the Vitality canned d...  \n",
              "1      Product arrived labeled as Jumbo Salted Peanut...  \n",
              "2      This is a confection that has been around a fe...  \n",
              "3      If you are looking for the secret ingredient i...  \n",
              "4      Great taffy at a great price.  There was a wid...  \n",
              "...                                                  ...  \n",
              "35167  Once I tasted Hazelnut coffee, I was hooked! N...  \n",
              "35168  Has Maxwell House quit making this coffee?  I ...  \n",
              "35169  Nutty, smooth, subtle, with a WONDERFUL aroma-...  \n",
              "35170  Price was right and the taste very good.  We w...  \n",
              "35171  This sauce gives you authentic tonkatsu flavor...  \n",
              "\n",
              "[35172 rows x 4 columns]"
            ],
            "text/html": [
              "\n",
              "  <div id=\"df-b886cdb0-8fa4-4867-b19d-f0a0be30c415\">\n",
              "    <div class=\"colab-df-container\">\n",
              "      <div>\n",
              "<style scoped>\n",
              "    .dataframe tbody tr th:only-of-type {\n",
              "        vertical-align: middle;\n",
              "    }\n",
              "\n",
              "    .dataframe tbody tr th {\n",
              "        vertical-align: top;\n",
              "    }\n",
              "\n",
              "    .dataframe thead th {\n",
              "        text-align: right;\n",
              "    }\n",
              "</style>\n",
              "<table border=\"1\" class=\"dataframe\">\n",
              "  <thead>\n",
              "    <tr style=\"text-align: right;\">\n",
              "      <th></th>\n",
              "      <th>productid</th>\n",
              "      <th>userid</th>\n",
              "      <th>score</th>\n",
              "      <th>text</th>\n",
              "    </tr>\n",
              "  </thead>\n",
              "  <tbody>\n",
              "    <tr>\n",
              "      <th>0</th>\n",
              "      <td>B001E4KFG0</td>\n",
              "      <td>A3SGXH7AUHU8GW</td>\n",
              "      <td>5.0</td>\n",
              "      <td>I have bought several of the Vitality canned d...</td>\n",
              "    </tr>\n",
              "    <tr>\n",
              "      <th>1</th>\n",
              "      <td>B00813GRG4</td>\n",
              "      <td>A1D87F6ZCVE5NK</td>\n",
              "      <td>1.0</td>\n",
              "      <td>Product arrived labeled as Jumbo Salted Peanut...</td>\n",
              "    </tr>\n",
              "    <tr>\n",
              "      <th>2</th>\n",
              "      <td>B000LQOCH0</td>\n",
              "      <td>ABXLMWJIXXAIN</td>\n",
              "      <td>4.0</td>\n",
              "      <td>This is a confection that has been around a fe...</td>\n",
              "    </tr>\n",
              "    <tr>\n",
              "      <th>3</th>\n",
              "      <td>B000UA0QIQ</td>\n",
              "      <td>A395BORC6FGVXV</td>\n",
              "      <td>2.0</td>\n",
              "      <td>If you are looking for the secret ingredient i...</td>\n",
              "    </tr>\n",
              "    <tr>\n",
              "      <th>4</th>\n",
              "      <td>B006K2ZZ7K</td>\n",
              "      <td>A1UQRSCLF8GW1T</td>\n",
              "      <td>5.0</td>\n",
              "      <td>Great taffy at a great price.  There was a wid...</td>\n",
              "    </tr>\n",
              "    <tr>\n",
              "      <th>...</th>\n",
              "      <td>...</td>\n",
              "      <td>...</td>\n",
              "      <td>...</td>\n",
              "      <td>...</td>\n",
              "    </tr>\n",
              "    <tr>\n",
              "      <th>35167</th>\n",
              "      <td>B000E1DSQS</td>\n",
              "      <td>A2QG0Z96HULRW7</td>\n",
              "      <td>5.0</td>\n",
              "      <td>Once I tasted Hazelnut coffee, I was hooked! N...</td>\n",
              "    </tr>\n",
              "    <tr>\n",
              "      <th>35168</th>\n",
              "      <td>B000E1DSQS</td>\n",
              "      <td>A3F653OGB0ZF4X</td>\n",
              "      <td>5.0</td>\n",
              "      <td>Has Maxwell House quit making this coffee?  I ...</td>\n",
              "    </tr>\n",
              "    <tr>\n",
              "      <th>35169</th>\n",
              "      <td>B000E1DSQS</td>\n",
              "      <td>AJD41FBJD9010</td>\n",
              "      <td>5.0</td>\n",
              "      <td>Nutty, smooth, subtle, with a WONDERFUL aroma-...</td>\n",
              "    </tr>\n",
              "    <tr>\n",
              "      <th>35170</th>\n",
              "      <td>B000E1DSQS</td>\n",
              "      <td>A33R5P618X7MG7</td>\n",
              "      <td>5.0</td>\n",
              "      <td>Price was right and the taste very good.  We w...</td>\n",
              "    </tr>\n",
              "    <tr>\n",
              "      <th>35171</th>\n",
              "      <td>B001ATMQK2</td>\n",
              "      <td>A3ECJIHDTDY3AM</td>\n",
              "      <td>5.0</td>\n",
              "      <td>This sauce gives you authentic tonkatsu flavor...</td>\n",
              "    </tr>\n",
              "  </tbody>\n",
              "</table>\n",
              "<p>35172 rows × 4 columns</p>\n",
              "</div>\n",
              "      <button class=\"colab-df-convert\" onclick=\"convertToInteractive('df-b886cdb0-8fa4-4867-b19d-f0a0be30c415')\"\n",
              "              title=\"Convert this dataframe to an interactive table.\"\n",
              "              style=\"display:none;\">\n",
              "        \n",
              "  <svg xmlns=\"http://www.w3.org/2000/svg\" height=\"24px\"viewBox=\"0 0 24 24\"\n",
              "       width=\"24px\">\n",
              "    <path d=\"M0 0h24v24H0V0z\" fill=\"none\"/>\n",
              "    <path d=\"M18.56 5.44l.94 2.06.94-2.06 2.06-.94-2.06-.94-.94-2.06-.94 2.06-2.06.94zm-11 1L8.5 8.5l.94-2.06 2.06-.94-2.06-.94L8.5 2.5l-.94 2.06-2.06.94zm10 10l.94 2.06.94-2.06 2.06-.94-2.06-.94-.94-2.06-.94 2.06-2.06.94z\"/><path d=\"M17.41 7.96l-1.37-1.37c-.4-.4-.92-.59-1.43-.59-.52 0-1.04.2-1.43.59L10.3 9.45l-7.72 7.72c-.78.78-.78 2.05 0 2.83L4 21.41c.39.39.9.59 1.41.59.51 0 1.02-.2 1.41-.59l7.78-7.78 2.81-2.81c.8-.78.8-2.07 0-2.86zM5.41 20L4 18.59l7.72-7.72 1.47 1.35L5.41 20z\"/>\n",
              "  </svg>\n",
              "      </button>\n",
              "      \n",
              "  <style>\n",
              "    .colab-df-container {\n",
              "      display:flex;\n",
              "      flex-wrap:wrap;\n",
              "      gap: 12px;\n",
              "    }\n",
              "\n",
              "    .colab-df-convert {\n",
              "      background-color: #E8F0FE;\n",
              "      border: none;\n",
              "      border-radius: 50%;\n",
              "      cursor: pointer;\n",
              "      display: none;\n",
              "      fill: #1967D2;\n",
              "      height: 32px;\n",
              "      padding: 0 0 0 0;\n",
              "      width: 32px;\n",
              "    }\n",
              "\n",
              "    .colab-df-convert:hover {\n",
              "      background-color: #E2EBFA;\n",
              "      box-shadow: 0px 1px 2px rgba(60, 64, 67, 0.3), 0px 1px 3px 1px rgba(60, 64, 67, 0.15);\n",
              "      fill: #174EA6;\n",
              "    }\n",
              "\n",
              "    [theme=dark] .colab-df-convert {\n",
              "      background-color: #3B4455;\n",
              "      fill: #D2E3FC;\n",
              "    }\n",
              "\n",
              "    [theme=dark] .colab-df-convert:hover {\n",
              "      background-color: #434B5C;\n",
              "      box-shadow: 0px 1px 3px 1px rgba(0, 0, 0, 0.15);\n",
              "      filter: drop-shadow(0px 1px 2px rgba(0, 0, 0, 0.3));\n",
              "      fill: #FFFFFF;\n",
              "    }\n",
              "  </style>\n",
              "\n",
              "      <script>\n",
              "        const buttonEl =\n",
              "          document.querySelector('#df-b886cdb0-8fa4-4867-b19d-f0a0be30c415 button.colab-df-convert');\n",
              "        buttonEl.style.display =\n",
              "          google.colab.kernel.accessAllowed ? 'block' : 'none';\n",
              "\n",
              "        async function convertToInteractive(key) {\n",
              "          const element = document.querySelector('#df-b886cdb0-8fa4-4867-b19d-f0a0be30c415');\n",
              "          const dataTable =\n",
              "            await google.colab.kernel.invokeFunction('convertToInteractive',\n",
              "                                                     [key], {});\n",
              "          if (!dataTable) return;\n",
              "\n",
              "          const docLinkHtml = 'Like what you see? Visit the ' +\n",
              "            '<a target=\"_blank\" href=https://colab.research.google.com/notebooks/data_table.ipynb>data table notebook</a>'\n",
              "            + ' to learn more about interactive tables.';\n",
              "          element.innerHTML = '';\n",
              "          dataTable['output_type'] = 'display_data';\n",
              "          await google.colab.output.renderOutput(dataTable, element);\n",
              "          const docLink = document.createElement('div');\n",
              "          docLink.innerHTML = docLinkHtml;\n",
              "          element.appendChild(docLink);\n",
              "        }\n",
              "      </script>\n",
              "    </div>\n",
              "  </div>\n",
              "  "
            ]
          },
          "metadata": {},
          "execution_count": 7
        }
      ],
      "source": [
        "\n",
        "df"
      ]
    },
    {
      "cell_type": "code",
      "execution_count": 8,
      "metadata": {
        "colab": {
          "base_uri": "https://localhost:8080/"
        },
        "id": "Tn4JjIG-U28s",
        "outputId": "a3b89b5c-9148-4a83-92bf-5784b55b5d51"
      },
      "outputs": [
        {
          "output_type": "stream",
          "name": "stdout",
          "text": [
            "<class 'pandas.core.frame.DataFrame'>\n",
            "(35172, 4)\n"
          ]
        }
      ],
      "source": [
        "print(type(df))\n",
        "print(df.shape)"
      ]
    },
    {
      "cell_type": "code",
      "execution_count": 9,
      "metadata": {
        "colab": {
          "base_uri": "https://localhost:8080/"
        },
        "id": "sW6X_tR7-zSj",
        "outputId": "366f4de4-2422-402c-d83c-387fa12f5c29"
      },
      "outputs": [
        {
          "output_type": "stream",
          "name": "stdout",
          "text": [
            "Index(['productid', 'userid', 'score', 'text'], dtype='object')\n"
          ]
        }
      ],
      "source": [
        "print(df.columns)"
      ]
    },
    {
      "cell_type": "code",
      "execution_count": 10,
      "metadata": {
        "colab": {
          "base_uri": "https://localhost:8080/"
        },
        "id": "izZwz73VvNBz",
        "outputId": "f69d3825-c201-4ea3-cff2-9e514161a1be"
      },
      "outputs": [
        {
          "output_type": "stream",
          "name": "stdout",
          "text": [
            "There are 35172 rows and 4 columns\n"
          ]
        }
      ],
      "source": [
        "nRow, nCol = df.shape\n",
        "print(f'There are {nRow} rows and {nCol} columns')"
      ]
    },
    {
      "cell_type": "code",
      "execution_count": 11,
      "metadata": {
        "colab": {
          "base_uri": "https://localhost:8080/",
          "height": 238
        },
        "id": "0leB5LqdYwuD",
        "outputId": "b34b9cdf-4d85-4f01-819f-7340b7023f99"
      },
      "outputs": [
        {
          "output_type": "execute_result",
          "data": {
            "text/plain": [
              "    productid          userid  score  \\\n",
              "0  B001E4KFG0  A3SGXH7AUHU8GW    5.0   \n",
              "1  B00813GRG4  A1D87F6ZCVE5NK    1.0   \n",
              "2  B000LQOCH0   ABXLMWJIXXAIN    4.0   \n",
              "3  B000UA0QIQ  A395BORC6FGVXV    2.0   \n",
              "4  B006K2ZZ7K  A1UQRSCLF8GW1T    5.0   \n",
              "5  B006K2ZZ7K   ADT0SRK1MGOEU    4.0   \n",
              "\n",
              "                                                text  \n",
              "0  I have bought several of the Vitality canned d...  \n",
              "1  Product arrived labeled as Jumbo Salted Peanut...  \n",
              "2  This is a confection that has been around a fe...  \n",
              "3  If you are looking for the secret ingredient i...  \n",
              "4  Great taffy at a great price.  There was a wid...  \n",
              "5  I got a wild hair for taffy and ordered this f...  "
            ],
            "text/html": [
              "\n",
              "  <div id=\"df-cc94559e-365f-4000-9104-ee63af8936e5\">\n",
              "    <div class=\"colab-df-container\">\n",
              "      <div>\n",
              "<style scoped>\n",
              "    .dataframe tbody tr th:only-of-type {\n",
              "        vertical-align: middle;\n",
              "    }\n",
              "\n",
              "    .dataframe tbody tr th {\n",
              "        vertical-align: top;\n",
              "    }\n",
              "\n",
              "    .dataframe thead th {\n",
              "        text-align: right;\n",
              "    }\n",
              "</style>\n",
              "<table border=\"1\" class=\"dataframe\">\n",
              "  <thead>\n",
              "    <tr style=\"text-align: right;\">\n",
              "      <th></th>\n",
              "      <th>productid</th>\n",
              "      <th>userid</th>\n",
              "      <th>score</th>\n",
              "      <th>text</th>\n",
              "    </tr>\n",
              "  </thead>\n",
              "  <tbody>\n",
              "    <tr>\n",
              "      <th>0</th>\n",
              "      <td>B001E4KFG0</td>\n",
              "      <td>A3SGXH7AUHU8GW</td>\n",
              "      <td>5.0</td>\n",
              "      <td>I have bought several of the Vitality canned d...</td>\n",
              "    </tr>\n",
              "    <tr>\n",
              "      <th>1</th>\n",
              "      <td>B00813GRG4</td>\n",
              "      <td>A1D87F6ZCVE5NK</td>\n",
              "      <td>1.0</td>\n",
              "      <td>Product arrived labeled as Jumbo Salted Peanut...</td>\n",
              "    </tr>\n",
              "    <tr>\n",
              "      <th>2</th>\n",
              "      <td>B000LQOCH0</td>\n",
              "      <td>ABXLMWJIXXAIN</td>\n",
              "      <td>4.0</td>\n",
              "      <td>This is a confection that has been around a fe...</td>\n",
              "    </tr>\n",
              "    <tr>\n",
              "      <th>3</th>\n",
              "      <td>B000UA0QIQ</td>\n",
              "      <td>A395BORC6FGVXV</td>\n",
              "      <td>2.0</td>\n",
              "      <td>If you are looking for the secret ingredient i...</td>\n",
              "    </tr>\n",
              "    <tr>\n",
              "      <th>4</th>\n",
              "      <td>B006K2ZZ7K</td>\n",
              "      <td>A1UQRSCLF8GW1T</td>\n",
              "      <td>5.0</td>\n",
              "      <td>Great taffy at a great price.  There was a wid...</td>\n",
              "    </tr>\n",
              "    <tr>\n",
              "      <th>5</th>\n",
              "      <td>B006K2ZZ7K</td>\n",
              "      <td>ADT0SRK1MGOEU</td>\n",
              "      <td>4.0</td>\n",
              "      <td>I got a wild hair for taffy and ordered this f...</td>\n",
              "    </tr>\n",
              "  </tbody>\n",
              "</table>\n",
              "</div>\n",
              "      <button class=\"colab-df-convert\" onclick=\"convertToInteractive('df-cc94559e-365f-4000-9104-ee63af8936e5')\"\n",
              "              title=\"Convert this dataframe to an interactive table.\"\n",
              "              style=\"display:none;\">\n",
              "        \n",
              "  <svg xmlns=\"http://www.w3.org/2000/svg\" height=\"24px\"viewBox=\"0 0 24 24\"\n",
              "       width=\"24px\">\n",
              "    <path d=\"M0 0h24v24H0V0z\" fill=\"none\"/>\n",
              "    <path d=\"M18.56 5.44l.94 2.06.94-2.06 2.06-.94-2.06-.94-.94-2.06-.94 2.06-2.06.94zm-11 1L8.5 8.5l.94-2.06 2.06-.94-2.06-.94L8.5 2.5l-.94 2.06-2.06.94zm10 10l.94 2.06.94-2.06 2.06-.94-2.06-.94-.94-2.06-.94 2.06-2.06.94z\"/><path d=\"M17.41 7.96l-1.37-1.37c-.4-.4-.92-.59-1.43-.59-.52 0-1.04.2-1.43.59L10.3 9.45l-7.72 7.72c-.78.78-.78 2.05 0 2.83L4 21.41c.39.39.9.59 1.41.59.51 0 1.02-.2 1.41-.59l7.78-7.78 2.81-2.81c.8-.78.8-2.07 0-2.86zM5.41 20L4 18.59l7.72-7.72 1.47 1.35L5.41 20z\"/>\n",
              "  </svg>\n",
              "      </button>\n",
              "      \n",
              "  <style>\n",
              "    .colab-df-container {\n",
              "      display:flex;\n",
              "      flex-wrap:wrap;\n",
              "      gap: 12px;\n",
              "    }\n",
              "\n",
              "    .colab-df-convert {\n",
              "      background-color: #E8F0FE;\n",
              "      border: none;\n",
              "      border-radius: 50%;\n",
              "      cursor: pointer;\n",
              "      display: none;\n",
              "      fill: #1967D2;\n",
              "      height: 32px;\n",
              "      padding: 0 0 0 0;\n",
              "      width: 32px;\n",
              "    }\n",
              "\n",
              "    .colab-df-convert:hover {\n",
              "      background-color: #E2EBFA;\n",
              "      box-shadow: 0px 1px 2px rgba(60, 64, 67, 0.3), 0px 1px 3px 1px rgba(60, 64, 67, 0.15);\n",
              "      fill: #174EA6;\n",
              "    }\n",
              "\n",
              "    [theme=dark] .colab-df-convert {\n",
              "      background-color: #3B4455;\n",
              "      fill: #D2E3FC;\n",
              "    }\n",
              "\n",
              "    [theme=dark] .colab-df-convert:hover {\n",
              "      background-color: #434B5C;\n",
              "      box-shadow: 0px 1px 3px 1px rgba(0, 0, 0, 0.15);\n",
              "      filter: drop-shadow(0px 1px 2px rgba(0, 0, 0, 0.3));\n",
              "      fill: #FFFFFF;\n",
              "    }\n",
              "  </style>\n",
              "\n",
              "      <script>\n",
              "        const buttonEl =\n",
              "          document.querySelector('#df-cc94559e-365f-4000-9104-ee63af8936e5 button.colab-df-convert');\n",
              "        buttonEl.style.display =\n",
              "          google.colab.kernel.accessAllowed ? 'block' : 'none';\n",
              "\n",
              "        async function convertToInteractive(key) {\n",
              "          const element = document.querySelector('#df-cc94559e-365f-4000-9104-ee63af8936e5');\n",
              "          const dataTable =\n",
              "            await google.colab.kernel.invokeFunction('convertToInteractive',\n",
              "                                                     [key], {});\n",
              "          if (!dataTable) return;\n",
              "\n",
              "          const docLinkHtml = 'Like what you see? Visit the ' +\n",
              "            '<a target=\"_blank\" href=https://colab.research.google.com/notebooks/data_table.ipynb>data table notebook</a>'\n",
              "            + ' to learn more about interactive tables.';\n",
              "          element.innerHTML = '';\n",
              "          dataTable['output_type'] = 'display_data';\n",
              "          await google.colab.output.renderOutput(dataTable, element);\n",
              "          const docLink = document.createElement('div');\n",
              "          docLink.innerHTML = docLinkHtml;\n",
              "          element.appendChild(docLink);\n",
              "        }\n",
              "      </script>\n",
              "    </div>\n",
              "  </div>\n",
              "  "
            ]
          },
          "metadata": {},
          "execution_count": 11
        }
      ],
      "source": [
        "df.head(6)"
      ]
    },
    {
      "cell_type": "markdown",
      "metadata": {
        "id": "PDHROSt0_h7L"
      },
      "source": [
        "Let's isolate the useful columns to our end. "
      ]
    },
    {
      "cell_type": "code",
      "execution_count": 12,
      "metadata": {
        "id": "oXzoLMTS_hvJ"
      },
      "outputs": [],
      "source": [
        "df = df[[\"text\",\"score\"]]"
      ]
    },
    {
      "cell_type": "code",
      "execution_count": 13,
      "metadata": {
        "colab": {
          "base_uri": "https://localhost:8080/",
          "height": 363
        },
        "id": "aGYoq1n9Hwgm",
        "outputId": "e9edc649-18f8-4a58-d9a1-b18cdaf4fb7c"
      },
      "outputs": [
        {
          "output_type": "execute_result",
          "data": {
            "text/plain": [
              "                                                 text  score\n",
              "30  I have never been a huge coffee fan. However, ...    5.0\n",
              "31  This offer is a great price and a great taste,...    5.0\n",
              "32  McCann's Instant Oatmeal is great if you must ...    4.0\n",
              "33  This is a good instant oatmeal from the best o...    4.0\n",
              "34  Instant oatmeal can become soggy the minute th...    5.0\n",
              "35  McCann's Instant Irish Oatmeal, Variety Pack o...    4.0\n",
              "36  For those of us with celiac disease this produ...    5.0\n",
              "37  What else do you need to know? Oatmeal, instan...    5.0\n",
              "38  I WAS VISITING MY FRIEND NATE THE OTHER MORNIN...    4.0\n",
              "39  I ordered this for my wife as it was reccomend...    5.0"
            ],
            "text/html": [
              "\n",
              "  <div id=\"df-0e467e41-ec8d-4971-955b-74f0380af77c\">\n",
              "    <div class=\"colab-df-container\">\n",
              "      <div>\n",
              "<style scoped>\n",
              "    .dataframe tbody tr th:only-of-type {\n",
              "        vertical-align: middle;\n",
              "    }\n",
              "\n",
              "    .dataframe tbody tr th {\n",
              "        vertical-align: top;\n",
              "    }\n",
              "\n",
              "    .dataframe thead th {\n",
              "        text-align: right;\n",
              "    }\n",
              "</style>\n",
              "<table border=\"1\" class=\"dataframe\">\n",
              "  <thead>\n",
              "    <tr style=\"text-align: right;\">\n",
              "      <th></th>\n",
              "      <th>text</th>\n",
              "      <th>score</th>\n",
              "    </tr>\n",
              "  </thead>\n",
              "  <tbody>\n",
              "    <tr>\n",
              "      <th>30</th>\n",
              "      <td>I have never been a huge coffee fan. However, ...</td>\n",
              "      <td>5.0</td>\n",
              "    </tr>\n",
              "    <tr>\n",
              "      <th>31</th>\n",
              "      <td>This offer is a great price and a great taste,...</td>\n",
              "      <td>5.0</td>\n",
              "    </tr>\n",
              "    <tr>\n",
              "      <th>32</th>\n",
              "      <td>McCann's Instant Oatmeal is great if you must ...</td>\n",
              "      <td>4.0</td>\n",
              "    </tr>\n",
              "    <tr>\n",
              "      <th>33</th>\n",
              "      <td>This is a good instant oatmeal from the best o...</td>\n",
              "      <td>4.0</td>\n",
              "    </tr>\n",
              "    <tr>\n",
              "      <th>34</th>\n",
              "      <td>Instant oatmeal can become soggy the minute th...</td>\n",
              "      <td>5.0</td>\n",
              "    </tr>\n",
              "    <tr>\n",
              "      <th>35</th>\n",
              "      <td>McCann's Instant Irish Oatmeal, Variety Pack o...</td>\n",
              "      <td>4.0</td>\n",
              "    </tr>\n",
              "    <tr>\n",
              "      <th>36</th>\n",
              "      <td>For those of us with celiac disease this produ...</td>\n",
              "      <td>5.0</td>\n",
              "    </tr>\n",
              "    <tr>\n",
              "      <th>37</th>\n",
              "      <td>What else do you need to know? Oatmeal, instan...</td>\n",
              "      <td>5.0</td>\n",
              "    </tr>\n",
              "    <tr>\n",
              "      <th>38</th>\n",
              "      <td>I WAS VISITING MY FRIEND NATE THE OTHER MORNIN...</td>\n",
              "      <td>4.0</td>\n",
              "    </tr>\n",
              "    <tr>\n",
              "      <th>39</th>\n",
              "      <td>I ordered this for my wife as it was reccomend...</td>\n",
              "      <td>5.0</td>\n",
              "    </tr>\n",
              "  </tbody>\n",
              "</table>\n",
              "</div>\n",
              "      <button class=\"colab-df-convert\" onclick=\"convertToInteractive('df-0e467e41-ec8d-4971-955b-74f0380af77c')\"\n",
              "              title=\"Convert this dataframe to an interactive table.\"\n",
              "              style=\"display:none;\">\n",
              "        \n",
              "  <svg xmlns=\"http://www.w3.org/2000/svg\" height=\"24px\"viewBox=\"0 0 24 24\"\n",
              "       width=\"24px\">\n",
              "    <path d=\"M0 0h24v24H0V0z\" fill=\"none\"/>\n",
              "    <path d=\"M18.56 5.44l.94 2.06.94-2.06 2.06-.94-2.06-.94-.94-2.06-.94 2.06-2.06.94zm-11 1L8.5 8.5l.94-2.06 2.06-.94-2.06-.94L8.5 2.5l-.94 2.06-2.06.94zm10 10l.94 2.06.94-2.06 2.06-.94-2.06-.94-.94-2.06-.94 2.06-2.06.94z\"/><path d=\"M17.41 7.96l-1.37-1.37c-.4-.4-.92-.59-1.43-.59-.52 0-1.04.2-1.43.59L10.3 9.45l-7.72 7.72c-.78.78-.78 2.05 0 2.83L4 21.41c.39.39.9.59 1.41.59.51 0 1.02-.2 1.41-.59l7.78-7.78 2.81-2.81c.8-.78.8-2.07 0-2.86zM5.41 20L4 18.59l7.72-7.72 1.47 1.35L5.41 20z\"/>\n",
              "  </svg>\n",
              "      </button>\n",
              "      \n",
              "  <style>\n",
              "    .colab-df-container {\n",
              "      display:flex;\n",
              "      flex-wrap:wrap;\n",
              "      gap: 12px;\n",
              "    }\n",
              "\n",
              "    .colab-df-convert {\n",
              "      background-color: #E8F0FE;\n",
              "      border: none;\n",
              "      border-radius: 50%;\n",
              "      cursor: pointer;\n",
              "      display: none;\n",
              "      fill: #1967D2;\n",
              "      height: 32px;\n",
              "      padding: 0 0 0 0;\n",
              "      width: 32px;\n",
              "    }\n",
              "\n",
              "    .colab-df-convert:hover {\n",
              "      background-color: #E2EBFA;\n",
              "      box-shadow: 0px 1px 2px rgba(60, 64, 67, 0.3), 0px 1px 3px 1px rgba(60, 64, 67, 0.15);\n",
              "      fill: #174EA6;\n",
              "    }\n",
              "\n",
              "    [theme=dark] .colab-df-convert {\n",
              "      background-color: #3B4455;\n",
              "      fill: #D2E3FC;\n",
              "    }\n",
              "\n",
              "    [theme=dark] .colab-df-convert:hover {\n",
              "      background-color: #434B5C;\n",
              "      box-shadow: 0px 1px 3px 1px rgba(0, 0, 0, 0.15);\n",
              "      filter: drop-shadow(0px 1px 2px rgba(0, 0, 0, 0.3));\n",
              "      fill: #FFFFFF;\n",
              "    }\n",
              "  </style>\n",
              "\n",
              "      <script>\n",
              "        const buttonEl =\n",
              "          document.querySelector('#df-0e467e41-ec8d-4971-955b-74f0380af77c button.colab-df-convert');\n",
              "        buttonEl.style.display =\n",
              "          google.colab.kernel.accessAllowed ? 'block' : 'none';\n",
              "\n",
              "        async function convertToInteractive(key) {\n",
              "          const element = document.querySelector('#df-0e467e41-ec8d-4971-955b-74f0380af77c');\n",
              "          const dataTable =\n",
              "            await google.colab.kernel.invokeFunction('convertToInteractive',\n",
              "                                                     [key], {});\n",
              "          if (!dataTable) return;\n",
              "\n",
              "          const docLinkHtml = 'Like what you see? Visit the ' +\n",
              "            '<a target=\"_blank\" href=https://colab.research.google.com/notebooks/data_table.ipynb>data table notebook</a>'\n",
              "            + ' to learn more about interactive tables.';\n",
              "          element.innerHTML = '';\n",
              "          dataTable['output_type'] = 'display_data';\n",
              "          await google.colab.output.renderOutput(dataTable, element);\n",
              "          const docLink = document.createElement('div');\n",
              "          docLink.innerHTML = docLinkHtml;\n",
              "          element.appendChild(docLink);\n",
              "        }\n",
              "      </script>\n",
              "    </div>\n",
              "  </div>\n",
              "  "
            ]
          },
          "metadata": {},
          "execution_count": 13
        }
      ],
      "source": [
        "df.iloc[30:40]"
      ]
    },
    {
      "cell_type": "markdown",
      "metadata": {
        "id": "dnLD62LKpEBg"
      },
      "source": [
        "## Looking at the Class Distribution\n"
      ]
    },
    {
      "cell_type": "code",
      "execution_count": 14,
      "metadata": {
        "colab": {
          "base_uri": "https://localhost:8080/",
          "height": 452
        },
        "id": "FJH7CXZhpFHD",
        "outputId": "bef7a5a8-de0c-4c54-bb00-3a7f6935f5c7"
      },
      "outputs": [
        {
          "output_type": "display_data",
          "data": {
            "text/plain": [
              "<Figure size 640x480 with 1 Axes>"
            ],
            "image/png": "[encoded data removed]"
          },
          "metadata": {}
        }
      ],
      "source": [
        "import matplotlib.pyplot as plt\n",
        "df[\"score\"].value_counts(ascending=True).plot.barh()\n",
        "plt.title(\"Frequency of Classes\")\n",
        "plt.show()"
      ]
    },
    {
      "cell_type": "markdown",
      "metadata": {
        "id": "myBZ7TWDpsMS"
      },
      "source": [
        "In this case, we can see that the dataset is heavily imbalanced; There are several ways to deal with imbalanced data, including:\n",
        "- Randomly oversample the minority class.\n",
        "- Randomly undersample the majority class.\n",
        "- Gather more labeled data from the underrepresented classes."
      ]
    },
    {
      "cell_type": "markdown",
      "metadata": {
        "id": "T5fkmgYirZVn"
      },
      "source": [
        "## How Long Are Our Review?\n",
        "Transformer models have a maximum input sequence length that is referred to as the\n",
        "maximum context size. For applications using DistilBERT, the maximum context size\n",
        "is 512 tokens, which amounts to a few paragraphs of text. "
      ]
    },
    {
      "cell_type": "code",
      "execution_count": 15,
      "metadata": {
        "colab": {
          "base_uri": "https://localhost:8080/",
          "height": 547
        },
        "id": "GIFpYQlpraj8",
        "outputId": "2085dc58-fb5f-41e9-af7f-854aab69dbe6"
      },
      "outputs": [
        {
          "output_type": "stream",
          "name": "stderr",
          "text": [
            "<ipython-input-15-bd572601d4ba>:1: SettingWithCopyWarning: \n",
            "A value is trying to be set on a copy of a slice from a DataFrame.\n",
            "Try using .loc[row_indexer,col_indexer] = value instead\n",
            "\n",
            "See the caveats in the documentation: https://pandas.pydata.org/pandas-docs/stable/user_guide/indexing.html#returning-a-view-versus-a-copy\n",
            "  df[\"Words Per Review\"] = df[\"text\"].str.split().apply(len)\n"
          ]
        },
        {
          "output_type": "display_data",
          "data": {
            "text/plain": [
              "<Figure size 640x480 with 1 Axes>"
            ],
            "image/png": "[encoded data removed]"
          },
          "metadata": {}
        }
      ],
      "source": [
        "df[\"Words Per Review\"] = df[\"text\"].str.split().apply(len)\n",
        "df.boxplot(\"Words Per Review\", by=\"score\", grid=False,\n",
        "showfliers=False, color=\"black\")\n",
        "plt.suptitle(\"\")\n",
        "plt.xlabel(\"\")\n",
        "plt.show()"
      ]
    },
    {
      "cell_type": "markdown",
      "metadata": {
        "id": "B4I5bRyRsUUE"
      },
      "source": [
        "From the plot we see that for each emotion, most tweets are around 60 words long\n",
        "and the longest tweets are well below DistilBERT’s maximum context size. Texts that\n",
        "are longer than a model’s context size need to be truncated, which can lead to a loss in\n",
        "performance if the truncated text contains crucial information; in this case, it looks\n",
        "like that won’t be an issue."
      ]
    },
    {
      "cell_type": "markdown",
      "metadata": {
        "id": "a_5j94dWJLSc"
      },
      "source": [
        "Map target label to String\n",
        "1. VERY NEGATIVE\n",
        "2. NEGATIVE\n",
        "3. NEUTRAL\n",
        "4. POSITIVE\n",
        "5. EXCELLENT\n"
      ]
    },
    {
      "cell_type": "markdown",
      "metadata": {
        "id": "AkXA1PGLam3a"
      },
      "source": [
        "# Pre-Processing\n",
        "Our text-extraction step removed all this and gave us the plain text of the\n",
        "article we need. However, all NLP software typically works at the sentence level and\n",
        "expects a separation of words at the minimum. So, we need some way to split a text\n",
        "into words and sentences before proceeding further in a processing pipeline. Some‐\n",
        "times, we need to remove special characters and digits, and sometimes, we don’t care\n",
        "whether a word is in upper or lowercase and want everything in lowercase. Many\n",
        "more decisions like this are made while processing text. Such decisions are addressed\n",
        "during the pre-processing step of the NLP pipeline. Here are some common preprocessing steps used in NLP software:\n",
        "\n",
        "- Preliminaries: Sentence segmentation and word tokenization.\n",
        "- Frequent steps: Stop word removal, stemming and lemmatization, removing digits/punctuation,\n",
        "lowercasing, etc.\n",
        "- Other steps: Normalization, language detection, code mixing, transliteration, etc.\n",
        "- Advanced processing: POS tagging, parsing, coreference resolution, etc."
      ]
    },
    {
      "cell_type": "markdown",
      "metadata": {
        "id": "pn4qZJlAK58i"
      },
      "source": [
        "## First Cleanup\n",
        "Text extraction and cleanup refers to the process of extracting raw text from the input\n",
        "data by removing all the other non-textual information, such as markup, metadata,\n",
        "etc., and converting the text to the required encoding format"
      ]
    },
    {
      "cell_type": "code",
      "execution_count": 16,
      "metadata": {
        "id": "PwmdBm3Z9aMb"
      },
      "outputs": [],
      "source": [
        "from bs4 import BeautifulSoup\n",
        "\n",
        "def clean_html_tags(row):\n",
        "  soupified = BeautifulSoup(row, \"html.parser\")\n",
        "  for linebreak in soupified.find_all('br'): #remove br\n",
        "    linebreak.replace_with(\" \")\n",
        "\n",
        "  span_tags = soupified.find_all('span') # remove span\n",
        "  for span in span_tags:\n",
        "      span.unwrap()\n",
        "  \n",
        "  return str(str(soupified))\n",
        "  # string = str(str(soupified).encode(\"utf-8\"))\n",
        "#   # return str(string(soupified).replace(\"&lt;a href=\\\"http\\'\",\"\").replace(\"...\",\" \"))\n",
        "#   stri = str(str(soupified).replace(\"a href=\\\"http\\'\",\"\").replace(\"...\",\" \")).replace(\"<a href=\\\"http\",\"\")\n",
        "#   return str(str(stri).encode(\"utf-8\")).replace(\"\\\\;&lt\\;;xefxbfxbd;\\xef\\xbf\\xbdt\",\"\").replace(\"&amp\\;\",\"&\")\n",
        "#  # return str(str(soupified).encode(\"utf-8\")).replace(\"&lt;a href=\\\"http\\'\",\"\") # utf-8 conversion"
      ]
    },
    {
      "cell_type": "code",
      "source": [
        "df.text.iloc[10]"
      ],
      "metadata": {
        "colab": {
          "base_uri": "https://localhost:8080/",
          "height": 105
        },
        "id": "dXq2fWx5D_Kq",
        "outputId": "06f0a207-9126-49a1-c8af-d935dd674906"
      },
      "execution_count": 17,
      "outputs": [
        {
          "output_type": "execute_result",
          "data": {
            "text/plain": [
              "\"I don't know if it's the cactus or the tequila or just the unique combination of ingredients, but the flavour of this hot sauce makes it one of a kind!  We picked up a bottle once on a trip we were on and brought it back home with us and were totally blown away!  When we realized that we simply couldn't find it anywhere in our city we were bummed.<br /><br />Now, because of the magic of the internet, we have a case of the sauce and are ecstatic because of it.<br /><br />If you love hot sauce..I mean really love hot sauce, but don't want a sauce that tastelessly burns your throat, grab a bottle of Tequila Picante Gourmet de Inclan.  Just realize that once you taste it, you will never want to use any other sauce.<br /><br />Thank you for the personal, incredible service!\""
            ],
            "application/vnd.google.colaboratory.intrinsic+json": {
              "type": "string"
            }
          },
          "metadata": {},
          "execution_count": 17
        }
      ]
    },
    {
      "cell_type": "code",
      "execution_count": 18,
      "metadata": {
        "colab": {
          "base_uri": "https://localhost:8080/"
        },
        "id": "nl4uZ4QTK8pg",
        "outputId": "4caf0097-2014-4669-d63d-dbb11ba2b5a7"
      },
      "outputs": [
        {
          "output_type": "stream",
          "name": "stdout",
          "text": [
            " \n",
            " --->  Puroast Low Acid Coffee has clear, bold flavor, no discernible acidity, quite delicious, and we really liked it. Highly recommended for people who need a low-acid coffee but want premium flavor.\n",
            " \n",
            " --->  I bought one of these kits from the Epcot Center Down in Disney World last fall. Right now my tree is doing great! I was able to keep it alive indoors all winter. I potted it recently and now it is outside and is really happy\n",
            " \n",
            " --->  the Caribou Coffee wasgreat from thevery first sip to the last sip!! id buy more! please getsome and see what i mean! thank you.\n",
            " \n",
            " --->  Excellent price on a tea I drink every day.  One of the best Chai teas available.  Thanks!\n",
            " \n",
            " --->  I was having trouble finding pet grass consistently in my area and decided to take a chance using a grow kit. The kit was very easy to use and the grass grew like crazy. Since I have only one cat I am now using about 1/3 of planting soil and seeds at a time and this works out great. I highly recommend this product.\n",
            " \n",
            " --->  These chips taste great! You will not go wrong with them they are low in calories high in fiber. If you eat to much like more than one bag in a sitting, you may become constipated! other than that they are wonderful you will not be sorry.\n",
            " \n",
            " --->  Aspen Mulling eggnog mix does not taste exactly like real eggnog, but pretty darn close. It is a bit sweeter and not as rich as real eggnog, unless you mix with cream and milk (the manufacturer recommends mixing with milk). I add a touch of vanilla and nutmeg to the mix, and use it to make eggnog lattes. Delicious, and now I enjoy eggnog lattes year-round. I find that I can make an eggnog latte using this product that tastes more like eggnog than using real eggnog. When mixed with fat free half and half, you can enjoy the taste of eggnog with no cholesterol, no fat, and low carbohydrates. If you mix with regular half-and-half, even creamier. When mixing, let it stand for 10 to 15 minutes before using. No need to mix and let stand overnight, tends to separate out if left sitting overnight.\n",
            " \n",
            " --->  This is hard to find on grocery shelves.  Thank goodness McCormick is producing it now.  I look forward to using it in several recipes.  I bought it for Chocolate Chile Mole Brownies -- which were received with skepticism until tasted.  Then there were rave reviews.  I've downloaded other dessert recipes using ground ancho chile pepper, but in the meantime, we've learned it really does a good job of flavoring chili without making it unbearably hot.  Good product.\n",
            " \n",
            " --->  All three tastes rich and chocolaty, not chalky at all. We were surprised how good they are, better than any other K-cup cocoa we've tried.\n",
            " \n",
            " --->  Seriously, this is one of the best bar gadgets one could ever find! It just arrived today and I've already put it to the test. It's so easy to use and makes stuffing blue cheese olives quick and easy! It's also extremely well made with a great design. Only thing that could make it better would be a button/feature that dispersed pre-made belvedere martinis\n",
            " \n",
            " --->  After reading reviews I purchased the 2.5 oz. pkgs. of Great Northern Popcorn. It popped up nicely.  Very few \"old maids\". I did notice that a lot of moisture gathered on the sides of our popper (the Waring WPM25 model) during the popping process so I pulled the tray of popcorn out promptly. I could see if you left it in the machine, even for a few minutes, that the popcorn could absorb the moisture and lose its crunchy texture. I will definitely buy this product again.\n",
            " \n",
            " --->  My sweet and genius husband bought me this as one of my Valentine's Day this year! Amazingly, it lasted me a month. And they were delicious!\n",
            " \n",
            " --->  This creamer goes well with my coffee after having it once I could not stop buying it I think it is my favorite it does not need to be cooled it compliments your coffee in a way that make it taste like a  5.00 dollar cup I use it with my k-cup maker you can not go wrong with this creamer!\n",
            " \n",
            " --->  This makes great iced tea. More flavor than regular tea. Refreshing. Recommend it. Hard to find in stores. Get it here.\n",
            " \n",
            " --->  This review is based on my impression of the Newman's dog treats, and the reaction of my two dogs. The variables\n",
            " \n",
            " --->  This is a great cereal and with added Probiotics you can't go wrong. My baby loves it!\n",
            " \n",
            " --->  This is my second favorite of the Bigalow teas I have tried (behing the vanilla chai). It has a great smell and flavor.  I usually have it with honey but have allowed it to cool to luke warm and mixed it with whisky once and found that it is an awesome fat-free/sugar-free mixer as well.\n",
            " \n",
            " --->  My dog has severe allergies, and I'm always looking for superior dog food to try on her.  I ordered Canidae Lamb and Rice canned formula; she really loves it, and she's quite picky.  It arrived quickly, and I'm very pleased, with both the service and the dog food.\n",
            " \n",
            " --->  My husband has acid reflex and this is the only hot drink that the doctor has recommend that he can drink.  Thank you Amazon for carrying this product.\n",
            " \n",
            " --->  This is the only flavor my cat will eat.  She goes crazy over this flavor.  I think because it is easy to eat instead of a big chunk.  This looks like little square slices of beef.  It smells good too.  Whenever I open a can of this, she comes running!  She's meowing at me repeatedly if she sees the can in my hand, and I imagine that she is saying \"Hey, hurry up and open that can! I know what you got there.  You can't fool me. Gimme that yummy food!\"  But of course, she's saying that in cat language.  Because I love her, I can totally understand what she's saying.  What cat lover doesn't? We definitely have that connection with our cats, don't we?  To her, Tender Slices is the ultimate gourmet meal.\n",
            " \n",
            " --->  Panda All Natural Soft Licorice is a great snack for family movie time. We consume it like it was water. It's the best snack next to popcorn.\n",
            " \n",
            " --->  As a long time tea drinker, was happy to come across this iced tea mix.  It serves as my sports drink while exercising or golfing.  I find this iced tea very refreshing.  I really like the flavor and especially the low sugar content.  The plain green is my favorite followed by the raspberry.  The blueberry is good too; it's unsweetened, so I add half a packet of Truvia.\n",
            " \n",
            " --->  This item, though a cute idea, really doesn't live up to its title. The pink is fun, especially if you use a glass mug to see the whole drink. The \"hot chocolate\" part of the title is very disappointing. Of course, I wasn't fully expecting a milk chocolate taste, but I honestly can't even say it tastes remotely like white chocolate...or really any kind of chocolate for that matter.  If you're looking for a novelty drink, this is cute, especially for young girls. However, if you're expecting something akin to hot cocoa as it is generally understood to be, I would look elsewhere.\n",
            " \n",
            " --->  I love this flavor the best for it lightness, but zesty and orange tanginess.  Very refreshing taste and not over powering with no additives; what a plus.  nice carry size, but why should such a good thing be in such a small size.  Good that the product is in a can - recyclable.  there are other similar carbonated-juice out there and this is definitely one that could compete with the low-saturated market.\n",
            " \n",
            " --->  Another great product!  Delicious and nutritious, it makes you feel guilty that you are eating something that is actually good and good for you!\n",
            " \n",
            " --->  I drink this delicious tea almost every day.  I have yet to find anything like it on the market.\n",
            " \n",
            " --->  I make chia gel with this and add a large spoonful to my yogurt and fruit in the morning.  I tried to make cookies with the gel and that was a failure!  Great for subbing in sauces to add bulk without fat.  Easy to sprinkle on top of any food product too since they have virtually no taste.  Very versatile and easy to eat.\n",
            " \n",
            " --->  This is not Bad at all... I was in the mood for some noodles and ordered these.... Use only 75% of the dry flavoring package.\n",
            " \n",
            " --->  Smells great, looks great and tastes great.  As a guy who likes strong espresso type coffee, I was surprised and impressed by the bold flavor with just a hint of Hazelnut.  With just a little half and half its great first thing in the morning.\n",
            " \n",
            " --->  The little grocery store where I shop had a display of Kraft Easy Mac macaroni and cheese in 2.05-ounce cups. So, I thought I'd test a couple. I've always liked their boxes of easy-to-fix macaroni and cheese and these would be really handy to have in the pantry shelves. Well, on the first one I really screwed up on the instructions. It was my own fault. I put the cheese powder into the water before microwaveing, not after. It was a disaster. The mixture boiled over and filled the microwave tray. What a mess, but I earned it. The next time I carefully followed the instructions and all turned out well. In 3 1/2 minutes, it was done to perfection, and quite easy, I might add. The mac and cheese tasted rather bland, not nearly as good as the brand I had been using. But, it certainly was quick and easy and in a nice one-serve container. Very handy.  Gary Peterson\n"
          ]
        }
      ],
      "source": [
        "for elem in df.text.sample(30).to_numpy():\n",
        "  print(\" \\n ---> \",clean_html_tags(elem))\n",
        "  "
      ]
    },
    {
      "cell_type": "code",
      "execution_count": 19,
      "metadata": {
        "colab": {
          "base_uri": "https://localhost:8080/"
        },
        "id": "MOU3to5i9Biz",
        "outputId": "8b5dce49-6524-48dd-9ee2-3f880be3e818"
      },
      "outputs": [
        {
          "output_type": "stream",
          "name": "stderr",
          "text": [
            "<ipython-input-16-87e6eb9ab461>:4: MarkupResemblesLocatorWarning: The input looks more like a filename than markup. You may want to open this file and pass the filehandle into Beautiful Soup.\n",
            "  soupified = BeautifulSoup(row, \"html.parser\")\n",
            "<ipython-input-19-39a0850c92a0>:1: SettingWithCopyWarning: \n",
            "A value is trying to be set on a copy of a slice from a DataFrame.\n",
            "Try using .loc[row_indexer,col_indexer] = value instead\n",
            "\n",
            "See the caveats in the documentation: https://pandas.pydata.org/pandas-docs/stable/user_guide/indexing.html#returning-a-view-versus-a-copy\n",
            "  df['text'] = df['text'].apply(clean_html_tags)\n"
          ]
        }
      ],
      "source": [
        "df['text'] = df['text'].apply(clean_html_tags)"
      ]
    },
    {
      "cell_type": "markdown",
      "metadata": {
        "id": "-JEmRsaE8FC9"
      },
      "source": [
        "## Preliminaries"
      ]
    },
    {
      "cell_type": "markdown",
      "metadata": {
        "id": "iJ28pslE8QPU"
      },
      "source": [
        "As mentioned earlier, NLP software typically analyzes text by breaking it up into\n",
        "words (tokens) and sentences. Hence, any NLP pipeline has to start with a reliable\n",
        "system to split the text into sentences (sentence segmentation) and further split a sentence into words (word tokenization)"
      ]
    },
    {
      "cell_type": "markdown",
      "metadata": {
        "id": "oKlpszgF8uSg"
      },
      "source": [
        "### Sentence segmentation"
      ]
    },
    {
      "cell_type": "markdown",
      "metadata": {
        "id": "RMMom7Iy8z3k"
      },
      "source": [
        "As a simple rule, we can do sentence segmentation by breaking up text into sentences\n",
        "at the appearance of full stops and question marks. However, there may be abbrevia‐\n",
        "tions, forms of addresses (Dr., Mr., etc.), or ellipses (...) that may break the simple\n",
        "rule."
      ]
    },
    {
      "cell_type": "code",
      "execution_count": 20,
      "metadata": {
        "id": "jt-mloAp8GMv"
      },
      "outputs": [],
      "source": [
        "from nltk.tokenize import sent_tokenize, word_tokenize"
      ]
    },
    {
      "cell_type": "code",
      "execution_count": 21,
      "metadata": {
        "colab": {
          "base_uri": "https://localhost:8080/",
          "height": 87
        },
        "id": "6qLKP25H9tnk",
        "outputId": "31ec20ae-ea48-43c6-fa4b-66fb016d8253"
      },
      "outputs": [
        {
          "output_type": "execute_result",
          "data": {
            "text/plain": [
              "\"I don't know if it's the cactus or the tequila or just the unique combination of ingredients, but the flavour of this hot sauce makes it one of a kind!  We picked up a bottle once on a trip we were on and brought it back home with us and were totally blown away!  When we realized that we simply couldn't find it anywhere in our city we were bummed.  Now, because of the magic of the internet, we have a case of the sauce and are ecstatic because of it.  If you love hot sauce..I mean really love hot sauce, but don't want a sauce that tastelessly burns your throat, grab a bottle of Tequila Picante Gourmet de Inclan.  Just realize that once you taste it, you will never want to use any other sauce.  Thank you for the personal, incredible service!\""
            ],
            "application/vnd.google.colaboratory.intrinsic+json": {
              "type": "string"
            }
          },
          "metadata": {},
          "execution_count": 21
        }
      ],
      "source": [
        "df.text.iloc[10]"
      ]
    },
    {
      "cell_type": "code",
      "execution_count": 22,
      "metadata": {
        "colab": {
          "base_uri": "https://localhost:8080/"
        },
        "id": "7u6-YQd8qLav",
        "outputId": "db919083-a664-4c76-d300-e6a645082cb3"
      },
      "outputs": [
        {
          "output_type": "execute_result",
          "data": {
            "text/plain": [
              "[\"I don't know if it's the cactus or the tequila or just the unique combination of ingredients, but the flavour of this hot sauce makes it one of a kind!\",\n",
              " 'We picked up a bottle once on a trip we were on and brought it back home with us and were totally blown away!',\n",
              " \"When we realized that we simply couldn't find it anywhere in our city we were bummed.\",\n",
              " 'Now, because of the magic of the internet, we have a case of the sauce and are ecstatic because of it.',\n",
              " \"If you love hot sauce..I mean really love hot sauce, but don't want a sauce that tastelessly burns your throat, grab a bottle of Tequila Picante Gourmet de Inclan.\",\n",
              " 'Just realize that once you taste it, you will never want to use any other sauce.',\n",
              " 'Thank you for the personal, incredible service!']"
            ]
          },
          "metadata": {},
          "execution_count": 22
        }
      ],
      "source": [
        "sent_tokenize(df.text.iloc[10])"
      ]
    },
    {
      "cell_type": "code",
      "execution_count": 23,
      "metadata": {
        "colab": {
          "base_uri": "https://localhost:8080/"
        },
        "id": "Cvt8685t85C3",
        "outputId": "99a7ac4e-82f9-4907-ab73-ed8f59e36a79"
      },
      "outputs": [
        {
          "output_type": "stream",
          "name": "stderr",
          "text": [
            "<ipython-input-23-567c2ed03fd2>:1: SettingWithCopyWarning: \n",
            "A value is trying to be set on a copy of a slice from a DataFrame.\n",
            "Try using .loc[row_indexer,col_indexer] = value instead\n",
            "\n",
            "See the caveats in the documentation: https://pandas.pydata.org/pandas-docs/stable/user_guide/indexing.html#returning-a-view-versus-a-copy\n",
            "  df.text = df.text.apply(sent_tokenize)\n"
          ]
        }
      ],
      "source": [
        "df.text = df.text.apply(sent_tokenize)"
      ]
    },
    {
      "cell_type": "markdown",
      "metadata": {
        "id": "xxU0aPPeDGsc"
      },
      "source": [
        "### Word tokenization\n",
        "While readily available solutions work for most of our needs and most NLP libraries\n",
        "will have a tokenizer and sentence splitter bundled with them, it’s important to\n",
        "remember that they’re far from perfect. For example, consider this sentence: “Mr. Jack\n",
        "O’Neil works at Melitas Marg, located at 245 Yonge Avenue, Austin, 70272.” If we run\n",
        "this through the NLTK tokenizer, O, ‘, and Neil are identified as three separate tokens.\n",
        "Similarly, if we run the sentence: “There are \\$10,000 and €1000 which are there just\n",
        "for testing a tokenizer” through this tokenizer, while $ and 10,000 are identified as\n",
        "separate tokens, €1000 is identified as a single token. In another scenario, if we want\n",
        "to tokenize tweets, this tokenizer will separate a hashtag into two tokens: a “#” sign\n",
        "and the string that follows it. In such cases, we may need to use a custom tokenizer\n",
        "built for our purpose"
      ]
    },
    {
      "cell_type": "code",
      "execution_count": 24,
      "metadata": {
        "id": "MiQeNnGuF-IF"
      },
      "outputs": [],
      "source": [
        "def word_tokenize_custom(list_of_sent):\n",
        "  list_of_word = []\n",
        "  for sent in list_of_sent:\n",
        "    list_of_word.extend(word_tokenize(sent))\n",
        "\n",
        "  return list_of_word"
      ]
    },
    {
      "cell_type": "code",
      "execution_count": 29,
      "metadata": {
        "id": "jqSCfXTLZZN5",
        "colab": {
          "base_uri": "https://localhost:8080/"
        },
        "outputId": "061da2d5-e072-424d-9bac-86fdaf29e5bd"
      },
      "outputs": [
        {
          "output_type": "stream",
          "name": "stdout",
          "text": [
            "[\"I don't know if it's the cactus or the tequila or just the unique combination of ingredients, but the flavour of this hot sauce makes it one of a kind!\", 'We picked up a bottle once on a trip we were on and brought it back home with us and were totally blown away!', \"When we realized that we simply couldn't find it anywhere in our city we were bummed.\", 'Now, because of the magic of the internet, we have a case of the sauce and are ecstatic because of it.', \"If you love hot sauce..I mean really love hot sauce, but don't want a sauce that tastelessly burns your throat, grab a bottle of Tequila Picante Gourmet de Inclan.\", 'Just realize that once you taste it, you will never want to use any other sauce.', 'Thank you for the personal, incredible service!']\n",
            "['I', 'do', \"n't\", 'know', 'if', 'it', \"'s\", 'the', 'cactus', 'or', 'the', 'tequila', 'or', 'just', 'the', 'unique', 'combination', 'of', 'ingredients', ',', 'but', 'the', 'flavour', 'of', 'this', 'hot', 'sauce', 'makes', 'it', 'one', 'of', 'a', 'kind', '!', 'We', 'picked', 'up', 'a', 'bottle', 'once', 'on', 'a', 'trip', 'we', 'were', 'on', 'and', 'brought', 'it', 'back', 'home', 'with', 'us', 'and', 'were', 'totally', 'blown', 'away', '!', 'When', 'we', 'realized', 'that', 'we', 'simply', 'could', \"n't\", 'find', 'it', 'anywhere', 'in', 'our', 'city', 'we', 'were', 'bummed', '.', 'Now', ',', 'because', 'of', 'the', 'magic', 'of', 'the', 'internet', ',', 'we', 'have', 'a', 'case', 'of', 'the', 'sauce', 'and', 'are', 'ecstatic', 'because', 'of', 'it', '.', 'If', 'you', 'love', 'hot', 'sauce', '..', 'I', 'mean', 'really', 'love', 'hot', 'sauce', ',', 'but', 'do', \"n't\", 'want', 'a', 'sauce', 'that', 'tastelessly', 'burns', 'your', 'throat', ',', 'grab', 'a', 'bottle', 'of', 'Tequila', 'Picante', 'Gourmet', 'de', 'Inclan', '.', 'Just', 'realize', 'that', 'once', 'you', 'taste', 'it', ',', 'you', 'will', 'never', 'want', 'to', 'use', 'any', 'other', 'sauce', '.', 'Thank', 'you', 'for', 'the', 'personal', ',', 'incredible', 'service', '!']\n"
          ]
        }
      ],
      "source": [
        "#word_tokenize function\n",
        "\n",
        "print(df.text.iloc[10])\n",
        "print(word_tokenize_custom(df.text.iloc[10]))"
      ]
    },
    {
      "cell_type": "markdown",
      "metadata": {
        "id": "w4aX4EEuavdi"
      },
      "source": [
        "When dealing with social media text, we usually want to identify urls, hashtags, smileys as separate objects and do not tokenize it to individual characters."
      ]
    },
    {
      "cell_type": "code",
      "execution_count": 39,
      "metadata": {
        "id": "yFbsdEe1andO"
      },
      "outputs": [],
      "source": [
        "import re\n",
        " \n",
        "emoticons_str = r\"\"\"\n",
        "    (?:\n",
        "        [:=;] # Eyes\n",
        "        [oO\\-]? # Nose (optional)\n",
        "        [D\\)\\]\\(\\]/\\\\OpP] # Mouth\n",
        "    )\"\"\"\n",
        " \n",
        "regex_str = [\n",
        "    emoticons_str,\n",
        "    r'<[^>]+>', # HTML tags\n",
        "    r'(?:@[\\w_]+)', # @-mentions\n",
        "    r\"(?:\\#+[\\w_]+[\\w\\'_\\-]*[\\w_]+)\", # hash-tags\n",
        "    r'http[s]?://(?:[a-z]|[0-9]|[$-_@.&amp;+]|[!*\\(\\),]|(?:%[0-9a-f][0-9a-f]))+', # URLs\n",
        "    r'(?:(?:\\d+,?)+(?:\\.?\\d+)?)', # numbers\n",
        "    r\"(?:[a-z][a-z'\\-_]+[a-z])\", # words with - and '\n",
        "    r'(?:[\\w_]+)', # other words\n",
        "    r'(?:\\S)' # anything else\n",
        "]\n",
        "    \n",
        "tokens_re = re.compile(r'('+'|'.join(regex_str)+')', re.VERBOSE | re.IGNORECASE)\n",
        "emoticon_re = re.compile(r'^'+emoticons_str+'$', re.VERBOSE | re.IGNORECASE)\n",
        " \n",
        "def tokenize(s):\n",
        "    return tokens_re.findall(s)\n",
        " \n",
        "def preprocess(list_of_sentences):\n",
        "  sentence = []\n",
        "  for sent in list_of_sentences:\n",
        "    sentence.extend(tokenize(sent))\n",
        "  \n",
        "  return sentence"
      ]
    },
    {
      "cell_type": "code",
      "source": [
        "preprocess(df.text.iloc[10])"
      ],
      "metadata": {
        "colab": {
          "base_uri": "https://localhost:8080/"
        },
        "id": "X8udWfSQEmxJ",
        "outputId": "1d0bca90-1428-4494-a469-545be9e16277"
      },
      "execution_count": 40,
      "outputs": [
        {
          "output_type": "execute_result",
          "data": {
            "text/plain": [
              "['I',\n",
              " \"don't\",\n",
              " 'know',\n",
              " 'if',\n",
              " \"it's\",\n",
              " 'the',\n",
              " 'cactus',\n",
              " 'or',\n",
              " 'the',\n",
              " 'tequila',\n",
              " 'or',\n",
              " 'just',\n",
              " 'the',\n",
              " 'unique',\n",
              " 'combination',\n",
              " 'of',\n",
              " 'ingredients',\n",
              " ',',\n",
              " 'but',\n",
              " 'the',\n",
              " 'flavour',\n",
              " 'of',\n",
              " 'this',\n",
              " 'hot',\n",
              " 'sauce',\n",
              " 'makes',\n",
              " 'it',\n",
              " 'one',\n",
              " 'of',\n",
              " 'a',\n",
              " 'kind',\n",
              " '!',\n",
              " 'We',\n",
              " 'picked',\n",
              " 'up',\n",
              " 'a',\n",
              " 'bottle',\n",
              " 'once',\n",
              " 'on',\n",
              " 'a',\n",
              " 'trip',\n",
              " 'we',\n",
              " 'were',\n",
              " 'on',\n",
              " 'and',\n",
              " 'brought',\n",
              " 'it',\n",
              " 'back',\n",
              " 'home',\n",
              " 'with',\n",
              " 'us',\n",
              " 'and',\n",
              " 'were',\n",
              " 'totally',\n",
              " 'blown',\n",
              " 'away',\n",
              " '!',\n",
              " 'When',\n",
              " 'we',\n",
              " 'realized',\n",
              " 'that',\n",
              " 'we',\n",
              " 'simply',\n",
              " \"couldn't\",\n",
              " 'find',\n",
              " 'it',\n",
              " 'anywhere',\n",
              " 'in',\n",
              " 'our',\n",
              " 'city',\n",
              " 'we',\n",
              " 'were',\n",
              " 'bummed',\n",
              " '.',\n",
              " 'Now',\n",
              " ',',\n",
              " 'because',\n",
              " 'of',\n",
              " 'the',\n",
              " 'magic',\n",
              " 'of',\n",
              " 'the',\n",
              " 'internet',\n",
              " ',',\n",
              " 'we',\n",
              " 'have',\n",
              " 'a',\n",
              " 'case',\n",
              " 'of',\n",
              " 'the',\n",
              " 'sauce',\n",
              " 'and',\n",
              " 'are',\n",
              " 'ecstatic',\n",
              " 'because',\n",
              " 'of',\n",
              " 'it',\n",
              " '.',\n",
              " 'If',\n",
              " 'you',\n",
              " 'love',\n",
              " 'hot',\n",
              " 'sauce',\n",
              " '.',\n",
              " '.',\n",
              " 'I',\n",
              " 'mean',\n",
              " 'really',\n",
              " 'love',\n",
              " 'hot',\n",
              " 'sauce',\n",
              " ',',\n",
              " 'but',\n",
              " \"don't\",\n",
              " 'want',\n",
              " 'a',\n",
              " 'sauce',\n",
              " 'that',\n",
              " 'tastelessly',\n",
              " 'burns',\n",
              " 'your',\n",
              " 'throat',\n",
              " ',',\n",
              " 'grab',\n",
              " 'a',\n",
              " 'bottle',\n",
              " 'of',\n",
              " 'Tequila',\n",
              " 'Picante',\n",
              " 'Gourmet',\n",
              " 'de',\n",
              " 'Inclan',\n",
              " '.',\n",
              " 'Just',\n",
              " 'realize',\n",
              " 'that',\n",
              " 'once',\n",
              " 'you',\n",
              " 'taste',\n",
              " 'it',\n",
              " ',',\n",
              " 'you',\n",
              " 'will',\n",
              " 'never',\n",
              " 'want',\n",
              " 'to',\n",
              " 'use',\n",
              " 'any',\n",
              " 'other',\n",
              " 'sauce',\n",
              " '.',\n",
              " 'Thank',\n",
              " 'you',\n",
              " 'for',\n",
              " 'the',\n",
              " 'personal',\n",
              " ',',\n",
              " 'incredible',\n",
              " 'service',\n",
              " '!']"
            ]
          },
          "metadata": {},
          "execution_count": 40
        }
      ]
    },
    {
      "cell_type": "code",
      "execution_count": 41,
      "metadata": {
        "colab": {
          "base_uri": "https://localhost:8080/"
        },
        "id": "Im0x6fvtDI3s",
        "outputId": "03647e99-40ef-459b-a36d-d249b1d1a129"
      },
      "outputs": [
        {
          "output_type": "stream",
          "name": "stderr",
          "text": [
            "<ipython-input-41-e673b1127d1e>:1: SettingWithCopyWarning: \n",
            "A value is trying to be set on a copy of a slice from a DataFrame.\n",
            "Try using .loc[row_indexer,col_indexer] = value instead\n",
            "\n",
            "See the caveats in the documentation: https://pandas.pydata.org/pandas-docs/stable/user_guide/indexing.html#returning-a-view-versus-a-copy\n",
            "  df.text = df.text.apply(preprocess)\n"
          ]
        }
      ],
      "source": [
        "df.text = df.text.apply(preprocess) "
      ]
    },
    {
      "cell_type": "markdown",
      "metadata": {
        "id": "EUPpoYDGHFev"
      },
      "source": [
        "## Frequent Steps\n",
        "Some of\n",
        "the frequently used words in English, such as a, an, the, of, in, etc., are not particularly useful for this task, as they don’t carry any content on their own to separate\n",
        "between the four categories. Such words are called stop words and are typically\n",
        "(though not always) removed from further analysis in such problem scenarios. There\n",
        "is no standard list of stop words for English, though. There are some popular lists\n",
        "(NLTK has one, for example), although what a stop word is can vary depending on what we’re working on.\n",
        "\n",
        "Similarly, in some cases, upper or lowercase may not make a difference for the problem. So, all text is lowercased (or uppercased, although lowercasing is more common). Removing punctuation and/or numbers is also a common step for many NLP\n",
        "problems, such as text classification, information retrieval,\n",
        "and social media analytics\n"
      ]
    },
    {
      "cell_type": "code",
      "execution_count": 43,
      "metadata": {
        "id": "v0U81C-tHH7t"
      },
      "outputs": [],
      "source": [
        "from nltk.corpus import stopwords\n",
        "from string import punctuation\n",
        " \n",
        "def preprocess_corpus(texts):\n",
        "  '''\n",
        "  Remove stop words, digits, and punctuation and lowercase a given collection of texts\n",
        "  '''\n",
        "  mystopwords = set(stopwords.words(\"english\"))\n",
        "  stop = set()\n",
        "  #adding some of the stopwords after observing the tweets\n",
        "  stop.add(\"The\")\n",
        "  stop.add(\"And\")\n",
        "  stop.add(\"I\")\n",
        "  stop.add(\"J\")\n",
        "  stop.add(\"K\")\n",
        "  stop.add(\"I'd\")\n",
        "  stop.add(\"That's\")\n",
        "  stop.add(\"\\x81\")\n",
        "  stop.add(\"It\")\n",
        "  stop.add(\"I'm\")\n",
        "  stop.add(\"...\")\n",
        "  stop.add(\"\\x89\")\n",
        "  stop.add(\"ĚĄ\")\n",
        "  stop.add(\"it's\")\n",
        "  stop.add(\"ă\")\n",
        "  stop.add(\"\\x9d\")\n",
        "  stop.add(\"âÂĺ\")\n",
        "  stop.add(\"Ě\")\n",
        "  stop.add(\"˘\")\n",
        "  stop.add(\"Â\")\n",
        "  stop.add(\"âÂ\")\n",
        "  stop.add(\"Ň\")\n",
        "  stop.add(\"http\")\n",
        "  stop.add(\"https\")\n",
        "  stop.add(\"co\")\n",
        "  stop.add(\"000\")\n",
        "  stop.add(\"Ň\")\n",
        "  stop.add(\"Ň\")\n",
        "  stop.add(\"Ň\")\n",
        "  stop.add(\"ââ\")\n",
        "  stop.add('ě')\n",
        "  stop.add('ň')\n",
        "  stop.add('``')\n",
        "  stop.add(\"''\")\n",
        "  stop.add(\"''\")\n",
        "\n",
        "  stop = list(stop)\n",
        "\n",
        "  \n",
        "  def remove_stops_digits(tokens):\n",
        "    return [token.lower() for token in tokens if token not in mystopwords and not token.isdigit() and token not in punctuation and token not in stop]\n",
        "  \n",
        "  return remove_stops_digits(texts)\n"
      ]
    },
    {
      "cell_type": "code",
      "source": [
        "df.text.iloc[10]"
      ],
      "metadata": {
        "colab": {
          "base_uri": "https://localhost:8080/"
        },
        "id": "jSdw6vof6QqU",
        "outputId": "c67eed50-041d-4050-a634-7d057ea710f7"
      },
      "execution_count": 45,
      "outputs": [
        {
          "output_type": "execute_result",
          "data": {
            "text/plain": [
              "['I',\n",
              " \"don't\",\n",
              " 'know',\n",
              " 'if',\n",
              " \"it's\",\n",
              " 'the',\n",
              " 'cactus',\n",
              " 'or',\n",
              " 'the',\n",
              " 'tequila',\n",
              " 'or',\n",
              " 'just',\n",
              " 'the',\n",
              " 'unique',\n",
              " 'combination',\n",
              " 'of',\n",
              " 'ingredients',\n",
              " ',',\n",
              " 'but',\n",
              " 'the',\n",
              " 'flavour',\n",
              " 'of',\n",
              " 'this',\n",
              " 'hot',\n",
              " 'sauce',\n",
              " 'makes',\n",
              " 'it',\n",
              " 'one',\n",
              " 'of',\n",
              " 'a',\n",
              " 'kind',\n",
              " '!',\n",
              " 'We',\n",
              " 'picked',\n",
              " 'up',\n",
              " 'a',\n",
              " 'bottle',\n",
              " 'once',\n",
              " 'on',\n",
              " 'a',\n",
              " 'trip',\n",
              " 'we',\n",
              " 'were',\n",
              " 'on',\n",
              " 'and',\n",
              " 'brought',\n",
              " 'it',\n",
              " 'back',\n",
              " 'home',\n",
              " 'with',\n",
              " 'us',\n",
              " 'and',\n",
              " 'were',\n",
              " 'totally',\n",
              " 'blown',\n",
              " 'away',\n",
              " '!',\n",
              " 'When',\n",
              " 'we',\n",
              " 'realized',\n",
              " 'that',\n",
              " 'we',\n",
              " 'simply',\n",
              " \"couldn't\",\n",
              " 'find',\n",
              " 'it',\n",
              " 'anywhere',\n",
              " 'in',\n",
              " 'our',\n",
              " 'city',\n",
              " 'we',\n",
              " 'were',\n",
              " 'bummed',\n",
              " '.',\n",
              " 'Now',\n",
              " ',',\n",
              " 'because',\n",
              " 'of',\n",
              " 'the',\n",
              " 'magic',\n",
              " 'of',\n",
              " 'the',\n",
              " 'internet',\n",
              " ',',\n",
              " 'we',\n",
              " 'have',\n",
              " 'a',\n",
              " 'case',\n",
              " 'of',\n",
              " 'the',\n",
              " 'sauce',\n",
              " 'and',\n",
              " 'are',\n",
              " 'ecstatic',\n",
              " 'because',\n",
              " 'of',\n",
              " 'it',\n",
              " '.',\n",
              " 'If',\n",
              " 'you',\n",
              " 'love',\n",
              " 'hot',\n",
              " 'sauce',\n",
              " '.',\n",
              " '.',\n",
              " 'I',\n",
              " 'mean',\n",
              " 'really',\n",
              " 'love',\n",
              " 'hot',\n",
              " 'sauce',\n",
              " ',',\n",
              " 'but',\n",
              " \"don't\",\n",
              " 'want',\n",
              " 'a',\n",
              " 'sauce',\n",
              " 'that',\n",
              " 'tastelessly',\n",
              " 'burns',\n",
              " 'your',\n",
              " 'throat',\n",
              " ',',\n",
              " 'grab',\n",
              " 'a',\n",
              " 'bottle',\n",
              " 'of',\n",
              " 'Tequila',\n",
              " 'Picante',\n",
              " 'Gourmet',\n",
              " 'de',\n",
              " 'Inclan',\n",
              " '.',\n",
              " 'Just',\n",
              " 'realize',\n",
              " 'that',\n",
              " 'once',\n",
              " 'you',\n",
              " 'taste',\n",
              " 'it',\n",
              " ',',\n",
              " 'you',\n",
              " 'will',\n",
              " 'never',\n",
              " 'want',\n",
              " 'to',\n",
              " 'use',\n",
              " 'any',\n",
              " 'other',\n",
              " 'sauce',\n",
              " '.',\n",
              " 'Thank',\n",
              " 'you',\n",
              " 'for',\n",
              " 'the',\n",
              " 'personal',\n",
              " ',',\n",
              " 'incredible',\n",
              " 'service',\n",
              " '!']"
            ]
          },
          "metadata": {},
          "execution_count": 45
        }
      ]
    },
    {
      "cell_type": "code",
      "execution_count": 46,
      "metadata": {
        "colab": {
          "base_uri": "https://localhost:8080/"
        },
        "id": "79de52SlrRhs",
        "outputId": "704719a3-1a08-4d0d-bbb9-324e20e56537"
      },
      "outputs": [
        {
          "output_type": "execute_result",
          "data": {
            "text/plain": [
              "['great',\n",
              " 'taffy',\n",
              " 'great',\n",
              " 'price',\n",
              " 'there',\n",
              " 'wide',\n",
              " 'assortment',\n",
              " 'yummy',\n",
              " 'taffy',\n",
              " 'delivery',\n",
              " 'quick',\n",
              " 'if',\n",
              " 'taffy',\n",
              " 'lover',\n",
              " 'deal']"
            ]
          },
          "metadata": {},
          "execution_count": 46
        }
      ],
      "source": [
        "preprocess_corpus(df.text.iloc[4])"
      ]
    },
    {
      "cell_type": "code",
      "execution_count": 47,
      "metadata": {
        "id": "HJnptpbhP5Xq",
        "colab": {
          "base_uri": "https://localhost:8080/"
        },
        "outputId": "15495e75-3740-488d-db5c-570979ca7a45"
      },
      "outputs": [
        {
          "output_type": "stream",
          "name": "stderr",
          "text": [
            "<ipython-input-47-e56b900d9fd9>:1: SettingWithCopyWarning: \n",
            "A value is trying to be set on a copy of a slice from a DataFrame.\n",
            "Try using .loc[row_indexer,col_indexer] = value instead\n",
            "\n",
            "See the caveats in the documentation: https://pandas.pydata.org/pandas-docs/stable/user_guide/indexing.html#returning-a-view-versus-a-copy\n",
            "  df.text = df.text.apply(preprocess_corpus)\n"
          ]
        }
      ],
      "source": [
        "df.text = df.text.apply(preprocess_corpus)"
      ]
    },
    {
      "cell_type": "code",
      "source": [
        "for elem in df.text.sample(30).to_numpy():\n",
        "  print(\" \\n ---> \",elem)\n",
        "  "
      ],
      "metadata": {
        "colab": {
          "base_uri": "https://localhost:8080/"
        },
        "id": "63K_0S2f7J8w",
        "outputId": "0b80d323-bbf6-4c99-9391-fb96d6508d47"
      },
      "execution_count": 48,
      "outputs": [
        {
          "output_type": "stream",
          "name": "stdout",
          "text": [
            " \n",
            " --->  ['airline', 'excited', 'juice', 'spent', 'month', 'italy', 'bought', 'olives', 'w', 'juice', 'seem', 'hard', 'find', 'usa', 'great', 'since', 'juice', 'take', 'anywhere', 'worry', 'mess', 'super', 'happy', 'flavor', 'pretty', 'bold', 'eat', 'packs', 'week', 'going', 'try', 'another', 'flavor', 'definitely', 'recommend', 'trying', 'love', 'olives', 'great', 'idea']\n",
            " \n",
            " --->  ['bought', 'daughter', 'loved', 'she', 'huge', 'fan', 'japan', 'wonderful', 'culture', 'even', 'though', 'loves', 'real', 'sushi', 'begged', 'get', 'cute', 'reviews', 'great', 'this', 'first', 'popin', 'sets', 'ordered', 'planning', 'try', 'bento', 'one', 'next', \"it's\", 'bit', 'smaller', 'thought', 'would', 'dissapointing', \"it's\", 'easy', 'fun', 'make', 'pretty', 'much', 'jelly', 'like', 'food', 'grape', 'flavor', 'strong', 'sweet', 'sour', 'hate', 'sour', 'stuff', 'could', 'easily', 'eat', 'worries', 'best', 'part', 'think', 'making', 'salmon', 'roe', 'eggs', 'water', 'dropper', 'shipped', 'week', 'getting', 'one', 'day', 'said', 'would', 'if', 'looking', 'buying', 'say', 'wonderful', 'gift', 'activity', 'someone', '=d']\n",
            " \n",
            " --->  ['popchips', 'really', 'really', 'good', \"don't\", 'expect', 'regular', 'old', 'greasy', 'potato', 'chip', 'do', 'expect', 'something', 'equally', 'awesome', 'stands', 'popchips', 'leave', 'funny', 'residue', 'mouth', 'like', 'diet', 'chips', 'lot', 'fat', 'calories', 'cal', 'per', 'single-serve', 'bag', 'got', 'variety', 'pack', 'liked', 'every', 'one', 'six', 'flavors', 'better', 'others', 'big', 'fan', 'cheddar', 'chips', 'any', 'maker', 'good', 'good', 'great', 'even', 'non-dieters', 'tried', 'liked', 'seems', 'like', 'cost', 'bit', 'average', 'bag', 'chips', 'maybe', \"that's\", 'buy', 'case', 'even', \"they're\", 'worth', 'fighting', 'battle', 'bulge', 'want', 'lo-cal', 'indulgence', 'otherwise', 'able', 'enjoy', 'my', 'recommendation']\n",
            " \n",
            " --->  ['grew', 'king', 'syrup', 'virginia', 'its', 'still', 'best', 'still', 'sold', 'stores', 'pa', 'va', 'mine', 'great', 'biscuits', 'along', 'time', 'since', 'syrup', 'biscuits', 'good', 'ol', 'king', 'syrup', 'when', 'kid', 'called', 'lion', 'syrup', 'lol']\n",
            " \n",
            " --->  ['these', 'chips', 'tasty', 'expected', 'low', 'salt', 'item', 'they', 'seem', 'salty', 'regular', 'potato', 'chip', 'also', 'seem', 'excessively', 'greasy', 'by', 'comparison', 'cape', 'cod', 'reduced', 'fat', 'chips', 'less', 'salty', 'least', 'much', 'potato', 'flavor', 'far', 'less', 'greasy']\n",
            " \n",
            " --->  ['these', 'truffles', 'melt', 'slowly', 'mouth', 'wonderful', 'flavor', 'smoothness', 'want', 'one', 'satisfying', 'chocolate', \"i've\", 'ever', 'want', 'now']\n",
            " \n",
            " --->  ['these', 'arrived', 'time', 'packaged', 'green', 'plastic', 'wrap', 'cookies', 'fresh', 'boxes', 'found', 'local', 'grocery', 'store', 'complaints', 'also', 'cookies', 'we', 'ate']\n",
            " \n",
            " --->  ['love', 'love', 'love', 'tart', 'cherry', 'preserves', 'among', 'best', \"i've\", 'ever', 'tasted', 'ingredients']\n",
            " \n",
            " --->  ['coffee', 'good', 'think', 'creme', 'brulee', 'flavor', 'lacking']\n",
            " \n",
            " --->  ['my', 'husband', 'absolutely', 'love', 'tea', 'tastes', 'great', 'especially', 'drop', 'honey', 'relaxing', 'asthma', 'allergies', 'sinus', 'problems', 'tea', 'sort', 'calms', 'whole', 'respiratory', 'system', 'so', 'highly', 'recommend', 'tea', 'sick', 'right', 'drank', 'tea', 'tea', 'bags', 'honey', 'feel', 'better', 'little', 'easier', 'time', 'breathing', 'my', 'husband', 'uses', \"he's\", 'stressed', 'relax', 'calm', 'this', 'tea', 'great', 'througout', 'day', 'wonderful', 'relax', 'night', 'really', 'awesome', 'sick', 'sit', 'sip', 'try', 'feel', 'better']\n",
            " \n",
            " --->  ['this', 'delicious', 'cup', 'coffee', 'weak', 'heart', 'bam', 'emeril', 'maintains', 'reputation', 'brew', 'pack', 'amazon', 'best', 'deal', 'town', 'we', 'definitely', 'buy', 'k-cups', 'keurig', 'brewer']\n",
            " \n",
            " --->  ['jack', \"link's\", 'jerky', 'strips', 'verrrryyyy', 'skinny', 'some', 'inch', 'wide', 'counted', 'one', 'strip', 'if', 'known', 'would', 'not', 'ordered', 'beef', 'jerky', 'strips', 'tasty', 'totally', 'worth', 'money']\n",
            " \n",
            " --->  ['admit', 'coffee', 'snob', \"it's\", 'one', 'vice', 'fell', 'love', 'coffee', 'went', 'venice', 'found', 'little', 'coffee', 'shop', 'grand', 'canal', 'knew', 'moment', 'aromas', 'sights', 'would', 'locked', 'spirit', 'rite', 'passage', 'sense', 'unfortunately', 'back', 'states', 'discovered', 'another', 'world', 'most', 'coffees', 'tasted', 'like', 'something', 'scraped', 'pavement', 'jiffy', 'lube', 'eventually', 'much', 'research', 'found', 'couple', 'great', 'brands', 'bought', 'espresso', 'machine', 'lived', 'happily', 'ever', 'one', 'day', 'read', 'article', \"weaver's\", 'sounded', 'good', 'since', 'happy', 'member', 'amazon', 'prime', 'decided', 'give', 'try', 'amazing', 'even', 'subtle', 'caramel', 'flavor', 'scent', 'rich', 'soothing', \"it's\", 'like', 'finding', 'new', 'close', 'friend', 'share', 'moments', 'sun', \"let's\", 'face']\n",
            " \n",
            " --->  ['was', 'shocked', 'skinny', 'size', 'item', 'they', 'five', 'inches', 'long', 'expected', \"that's\", 'size', 'wanted', 'ordered', \"can't\", 'bigger', 'around', 'even', 'pencil', \"that's\", 'big', 'stretch', 'wow', 'sure', 'disappointed', 'considering', 'cost', 'shipping', \"won't\", 'ordering', 'of', 'course', 'dog', 'likes', 'ok', 'call', 'fav', 'means']\n",
            " \n",
            " --->  ['would', 'recommend', 'buying', 'nuts', 'looking', 'really', 'good', 'tasting', 'nuts', 'these', 'average', 'quality', 'brazil', 'nuts', 'taste', 'plain', 'awful', 'good', 'tasting', 'nut', 'lot', 'almond', 'pecans', 'there', 'barely', 'pecans', 'tons', 'cashews', 'try', 'another', 'brand', 'sure', 'something', 'better']\n",
            " \n",
            " --->  ['received', 'product', 'free', 'quite', 'excited', 'try', 'child', 'variety', 'food', 'intolerances', 'namaste', 'brand', 'products', 'godsend', 'family', 'unfortunately', 'say', 'cheez', 'product', 'terrible', 'child', 'touch', 'normally', 'problem', 'child', 'tries', 'new', 'foods', 'even', 'stomach', 'nothing', 'like', 'mac', 'amp', 'cheese', 'sauce', 'even', 'creamy', 'very', 'disappointing']\n",
            " \n",
            " --->  ['being', 'long', 'time', 'fan', 'piggy', 'skins', 'tried', 'microwave', 'bag', 'version', 'u-cook-em', 'rinds', 'wanted', 'try', 'something', 'drowning', 'packaging', 'happy', 'tasty', 'nuggets', 'find', 'fairly', 'powerful', 'microwave', 'run', 'small', 'plate', 'condensed', 'pieces', \"they're\", 'shipped', 'least']\n",
            " \n",
            " --->  ['ordered', 'past', 'extremely', 'disappointed', 'unlike', 'truffles', 'know', 'hard', 'like', 'huge', 'seed', 'truffle', 'aroma', 'threw', 'contents', 'never', 'order']\n",
            " \n",
            " --->  ['these', 'sprinkles', 'make', 'great', 'presentation', 'tasty', 'used', 'french', 'chocolate', 'balls', 'would', 'recommend', 'highly']\n",
            " \n",
            " --->  ['got', 'drink', 'expecting', 'carbonated', 'taste', 'combined', 'kiwi', 'berries', 'well', 'could', 'taste', 'berries', 'kiwi', 'like', 'carbonation', 'real', 'fruit', 'juices', 'without', 'added', 'sugar', 'low', 'cal', 'think', 'liked', 'drink', 'better', 'tangerine', 'drink', 'still', 'drink', 'way', 'sweet', 'enjoy']\n",
            " \n",
            " --->  ['very', 'pretty', 'drop', 'rose', 'buds', 'cup', 'tea', 'found', 'disappointedly', 'weak', 'rose', 'flavor', 'tea', 'perhaps', 'rose', 'teas', \"i've\", 'infused', 'flavoring', 'not', 'sure']\n",
            " \n",
            " --->  ['very', 'good', 'oatmeal', 'bought', 'find', 'apple', 'cinnamon', 'kashi', 'local', 'store', 'thought', 'maybe', 'would', 'taste', 'good', 'even', 'though', 'anything', 'amazon', 'says', 'raisins', 'description', 'anyways', 'oatmeal', 'good', 'overly', 'sweet', 'like', 'quakers', 'oatmeal', 'still', 'sweet', 'bland', 'add', 'own', 'raisins', 'get', 'extra', 'texture', 'works', 'great', \"it's\", 'way', 'better', 'apple', 'cinnamon', 'kind']\n",
            " \n",
            " --->  ['great', 'tasting', 'coffee', 'little', 'edge', 'like', 'caribou', 'one', 'favorites', 'k-cups', 'look', 'forward', 'trying', 'flavors']\n",
            " \n",
            " --->  ['got', 'sample', 'today', 'excited', 'try', 'fail', 'when', 'brewing', 'smelled', 'great', 'came', 'dark', 'first', 'quickly', 'changed', 'light', 'watery', 'colour', 'very', 'boring', 'taste', 'like', 'dark', 'coffee', 'daily', 'drink', \"timothy's\", 'midnight', 'magic', 'extra', 'bold', 'my', 'wife', 'likes', \"timothy's\", 'morning', 'blend', 'prefers', 'light', 'roast', 'even', 'like', 'coffee', 'said', 'tastes', 'like', 'warm', 'milk']\n",
            " \n",
            " --->  ['product', 'may', 'every', 'bit', 'healthy', 'claim', 'even', \"that's\", 'true', 'could', 'barley', 'get', 'one', 'stuff', 'tastes', 'like', 'sour', 'orange', 'juice', 'carbonation', 'taste', 'anything', 'like', 'orange', 'soda', 'taste', 'pleasant', 'also', 'leaves', 'nasty', 'aftertaste', 'like', 'many', 'sodas', 'leave', 'thirsty', 'started', 'drinking', 'all', 'cannot', 'recommend', 'stay', 'away']\n",
            " \n",
            " --->  ['fan', 'bellini', 'drink', 'white', 'peach', 'puree', 'prosecco', 'italian', 'sparkling', 'wine', 'not', 'disappointed', 'mainly', 'brew', 'ice', 'tea', 'disagree', 'reviewers', 'taste', 'raspberries', 'peaches', 'also', 'taste', 'sparking', 'wine', 'this', 'primary', 'drink', 'summer', 'to', 'give', 'little', 'kick', 'sometimes', 'add', 'peach', 'liquor', 'peach', 'flavored', 'rum', 'recommend', 'highly']\n",
            " \n",
            " --->  ['previously', 'bought', 'mustard', 'seed', 'unbearably', 'bitter', 'mustard', 'made', 'seed', 'tasty', 'mellowing', 'days', 'bitter', 'pleasantly', 'spicy']\n",
            " \n",
            " --->  ['this', 'product', 'cost', 'directly', 'company', 'so', 'ever', 'wrote', 'review', 'incorrect', 'price']\n",
            " \n",
            " --->  ['looking', 'quality', 'low', 'points', 'weight', 'watchers', 'ww', 'crunchy', 'salty', 'snack', 'cannot', 'stay', 'diet', 'feel', 'deprived', \"ww's\", 'website', 'coupon', 'pricey', 'chips', 'never', 'popped', 'chip', 'gave', 'whirl', 'wow', 'best', 'crunch', 'flavor', 'reduced-calorie', 'chips', 'ever', 'tried', 'better', 'brands', 'popped', 'chips', 'tried', 'since', 'need', 'portion', 'control', 'help', 'little', 'bags', 'points', 'variety', 'pack', 'helps', 'break', 'monotony', 'my', 'favorite', 'flavor', 'bbq', 'vinegar', 'kinda', 'guy', 'salt', 'vinegar', 'flavor', 'tastes', 'like', 'feet', 'love', 'rest', 'flavors', 'love', 'salt', 'saltiness', 'right', 'thank', 'goodness', 'blood', 'pressure', 'issue', 'need', 'snackies', 'lost', 'pounds', 'far', 'months', 'eating', 'will', 'probably', 'buy', 'case', 'amazon', 'auto', 'order', 'system', 'save', 'shipping', 'guess', 'plan', 'life-long', 'fan', 'something', 'better', 'comes', 'along']\n",
            " \n",
            " --->  ['got', 'one', 'brother', 'also', 'favorite', 'one', 'non-specialty', 'coffees', 'kona', 'nice', 'bright', 'coffee', 'flavor']\n"
          ]
        }
      ]
    },
    {
      "cell_type": "markdown",
      "metadata": {
        "id": "wA6InY3AMxP8"
      },
      "source": [
        "### Stemming and lemmatization\n",
        "\n",
        "Stemming refers to the process of removing suffixes and reducing a word to some\n",
        "base form such that all different variants of that word can be represented by the same form (e.g., “car” and “cars” are both reduced to “car”). This is accomplished by applying a fixed set of rules (e.g., if the word ends in “-es,” remove “-es”). Although such rules may not always end up in a linguistically correct base form, stemming is commonly used in search engines to match user queries to relevant documents and in text classification to reduce the feature space to train machine learning models.\n",
        "\n",
        "\n",
        "Lemmatization is the process of mapping all the different forms of a word to its base\n",
        "word, or lemma. While this seems close to the definition of stemming, they are, in\n",
        "fact, different. For example, the adjective “better,” when stemmed, remains the same.\n",
        "However, upon lemmatization, this should become “good.\n"
      ]
    },
    {
      "cell_type": "code",
      "execution_count": null,
      "metadata": {
        "id": "8DEgr-ToMyZ1"
      },
      "outputs": [],
      "source": [
        "from nltk.stem.porter import PorterStemmer\n",
        "\n",
        "def make_stemming(sent):\n",
        "  stemmer = PorterStemmer()\n",
        "  stemmed_sentence = []\n",
        "  for word in sent:\n",
        "    stemmed_word = stemmer.stem(word)\n",
        "    stemmed_sentence.append(stemmed_word)\n",
        "  \n",
        "  return stemmed_sentence"
      ]
    },
    {
      "cell_type": "code",
      "execution_count": null,
      "metadata": {
        "id": "zYjs8wzQt-DS"
      },
      "outputs": [],
      "source": [
        "df.text.iloc[10]"
      ]
    },
    {
      "cell_type": "code",
      "execution_count": null,
      "metadata": {
        "id": "rQDoPPBut5Ml"
      },
      "outputs": [],
      "source": [
        "make_stemming(df.text.iloc[10])"
      ]
    },
    {
      "cell_type": "code",
      "execution_count": null,
      "metadata": {
        "id": "uFlSHEtFOPhX"
      },
      "outputs": [],
      "source": [
        "df.text = df.text.apply(make_stemming)"
      ]
    },
    {
      "cell_type": "code",
      "source": [
        "for elem in df.text.sample(30).to_numpy():\n",
        "  print(\" \\n ---> \",elem)\n",
        "  "
      ],
      "metadata": {
        "id": "SmxfCyVz9kAg"
      },
      "execution_count": null,
      "outputs": []
    },
    {
      "cell_type": "code",
      "execution_count": null,
      "metadata": {
        "id": "7lgPdC1MPb0c"
      },
      "outputs": [],
      "source": [
        "import spacy\n",
        "\n",
        "def make_lemmatization(sentence):\n",
        "  sp = spacy.load('en_core_web_sm')\n",
        "\n",
        "  list_of_lemmatize_words = []\n",
        "  for word in sentence:\n",
        "    token = sp(word) # The ‘u’ in front of a string means the string is a Unicode string.\n",
        "    list_of_lemmatize_words.append(token[0].lemma_)\n",
        "  \n",
        "  return list_of_lemmatize_words"
      ]
    },
    {
      "cell_type": "code",
      "execution_count": null,
      "metadata": {
        "id": "zxS97fT8vSJE"
      },
      "outputs": [],
      "source": [
        "df.text.iloc[10]"
      ]
    },
    {
      "cell_type": "code",
      "execution_count": null,
      "metadata": {
        "id": "Xi7b-3vMwkso"
      },
      "outputs": [],
      "source": [
        "make_lemmatization(df.text.iloc[10])"
      ]
    },
    {
      "cell_type": "code",
      "execution_count": null,
      "metadata": {
        "id": "h79MCrjxR-RW"
      },
      "outputs": [],
      "source": [
        "#df.text = df.text.apply(make_lemmatization) # too much expensive"
      ]
    },
    {
      "cell_type": "code",
      "execution_count": null,
      "metadata": {
        "id": "6RxPp9Irtig0"
      },
      "outputs": [],
      "source": [
        "# df.to_csv(PATH_PREPROCESSED_DATASET, index=False)"
      ]
    }
  ],
  "metadata": {
    "colab": {
      "provenance": [],
      "toc_visible": true,
      "include_colab_link": true
    },
    "gpuClass": "standard",
    "kernelspec": {
      "display_name": "Python 3",
      "name": "python3"
    },
    "language_info": {
      "name": "python"
    }
  },
  "nbformat": 4,
  "nbformat_minor": 0
}