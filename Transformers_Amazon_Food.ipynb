{
  "nbformat": 4,
  "nbformat_minor": 0,
  "metadata": {
    "colab": {
      "provenance": [],
      "toc_visible": true,
      "authorship_tag": "ABX9TyPAGvGItAILrscgr/8Hji0h",
      "include_colab_link": true
    },
    "kernelspec": {
      "name": "python3",
      "display_name": "Python 3"
    },
    "language_info": {
      "name": "python"
    },
    "widgets": {
      "application/vnd.jupyter.widget-state+json": {
        "c8ca4c7119bb4f5983cfcbbc20e5cbc1": {
          "model_module": "@jupyter-widgets/controls",
          "model_name": "HBoxModel",
          "model_module_version": "1.5.0",
          "state": {
            "_dom_classes": [],
            "_model_module": "@jupyter-widgets/controls",
            "_model_module_version": "1.5.0",
            "_model_name": "HBoxModel",
            "_view_count": null,
            "_view_module": "@jupyter-widgets/controls",
            "_view_module_version": "1.5.0",
            "_view_name": "HBoxView",
            "box_style": "",
            "children": [
              "IPY_MODEL_13e73f0e864242149066294f32d2a65c",
              "IPY_MODEL_7a7fee15717d4e04a5509736d9061b3f",
              "IPY_MODEL_13cb45cca1df4e81bc27dc6ae5e97eda"
            ],
            "layout": "IPY_MODEL_b7dfd823ca8f41d499f6aa23a7d0a427"
          }
        },
        "13e73f0e864242149066294f32d2a65c": {
          "model_module": "@jupyter-widgets/controls",
          "model_name": "HTMLModel",
          "model_module_version": "1.5.0",
          "state": {
            "_dom_classes": [],
            "_model_module": "@jupyter-widgets/controls",
            "_model_module_version": "1.5.0",
            "_model_name": "HTMLModel",
            "_view_count": null,
            "_view_module": "@jupyter-widgets/controls",
            "_view_module_version": "1.5.0",
            "_view_name": "HTMLView",
            "description": "",
            "description_tooltip": null,
            "layout": "IPY_MODEL_a09a68d2ed484914be8adc38b86c660f",
            "placeholder": "​",
            "style": "IPY_MODEL_81b3a4b83eec4bd887e29a884c7aef90",
            "value": "Downloading (…)lve/main/config.json: 100%"
          }
        },
        "7a7fee15717d4e04a5509736d9061b3f": {
          "model_module": "@jupyter-widgets/controls",
          "model_name": "FloatProgressModel",
          "model_module_version": "1.5.0",
          "state": {
            "_dom_classes": [],
            "_model_module": "@jupyter-widgets/controls",
            "_model_module_version": "1.5.0",
            "_model_name": "FloatProgressModel",
            "_view_count": null,
            "_view_module": "@jupyter-widgets/controls",
            "_view_module_version": "1.5.0",
            "_view_name": "ProgressView",
            "bar_style": "success",
            "description": "",
            "description_tooltip": null,
            "layout": "IPY_MODEL_333fd006707c43aa8b2fd8dd3f90d097",
            "max": 629,
            "min": 0,
            "orientation": "horizontal",
            "style": "IPY_MODEL_0ebf7527b880425798531759f331dd35",
            "value": 629
          }
        },
        "13cb45cca1df4e81bc27dc6ae5e97eda": {
          "model_module": "@jupyter-widgets/controls",
          "model_name": "HTMLModel",
          "model_module_version": "1.5.0",
          "state": {
            "_dom_classes": [],
            "_model_module": "@jupyter-widgets/controls",
            "_model_module_version": "1.5.0",
            "_model_name": "HTMLModel",
            "_view_count": null,
            "_view_module": "@jupyter-widgets/controls",
            "_view_module_version": "1.5.0",
            "_view_name": "HTMLView",
            "description": "",
            "description_tooltip": null,
            "layout": "IPY_MODEL_4edafa90257d43c4ab18c2a41605b1b0",
            "placeholder": "​",
            "style": "IPY_MODEL_72e187aa22994351a05fc66404acaf89",
            "value": " 629/629 [00:00&lt;00:00, 22.7kB/s]"
          }
        },
        "b7dfd823ca8f41d499f6aa23a7d0a427": {
          "model_module": "@jupyter-widgets/base",
          "model_name": "LayoutModel",
          "model_module_version": "1.2.0",
          "state": {
            "_model_module": "@jupyter-widgets/base",
            "_model_module_version": "1.2.0",
            "_model_name": "LayoutModel",
            "_view_count": null,
            "_view_module": "@jupyter-widgets/base",
            "_view_module_version": "1.2.0",
            "_view_name": "LayoutView",
            "align_content": null,
            "align_items": null,
            "align_self": null,
            "border": null,
            "bottom": null,
            "display": null,
            "flex": null,
            "flex_flow": null,
            "grid_area": null,
            "grid_auto_columns": null,
            "grid_auto_flow": null,
            "grid_auto_rows": null,
            "grid_column": null,
            "grid_gap": null,
            "grid_row": null,
            "grid_template_areas": null,
            "grid_template_columns": null,
            "grid_template_rows": null,
            "height": null,
            "justify_content": null,
            "justify_items": null,
            "left": null,
            "margin": null,
            "max_height": null,
            "max_width": null,
            "min_height": null,
            "min_width": null,
            "object_fit": null,
            "object_position": null,
            "order": null,
            "overflow": null,
            "overflow_x": null,
            "overflow_y": null,
            "padding": null,
            "right": null,
            "top": null,
            "visibility": null,
            "width": null
          }
        },
        "a09a68d2ed484914be8adc38b86c660f": {
          "model_module": "@jupyter-widgets/base",
          "model_name": "LayoutModel",
          "model_module_version": "1.2.0",
          "state": {
            "_model_module": "@jupyter-widgets/base",
            "_model_module_version": "1.2.0",
            "_model_name": "LayoutModel",
            "_view_count": null,
            "_view_module": "@jupyter-widgets/base",
            "_view_module_version": "1.2.0",
            "_view_name": "LayoutView",
            "align_content": null,
            "align_items": null,
            "align_self": null,
            "border": null,
            "bottom": null,
            "display": null,
            "flex": null,
            "flex_flow": null,
            "grid_area": null,
            "grid_auto_columns": null,
            "grid_auto_flow": null,
            "grid_auto_rows": null,
            "grid_column": null,
            "grid_gap": null,
            "grid_row": null,
            "grid_template_areas": null,
            "grid_template_columns": null,
            "grid_template_rows": null,
            "height": null,
            "justify_content": null,
            "justify_items": null,
            "left": null,
            "margin": null,
            "max_height": null,
            "max_width": null,
            "min_height": null,
            "min_width": null,
            "object_fit": null,
            "object_position": null,
            "order": null,
            "overflow": null,
            "overflow_x": null,
            "overflow_y": null,
            "padding": null,
            "right": null,
            "top": null,
            "visibility": null,
            "width": null
          }
        },
        "81b3a4b83eec4bd887e29a884c7aef90": {
          "model_module": "@jupyter-widgets/controls",
          "model_name": "DescriptionStyleModel",
          "model_module_version": "1.5.0",
          "state": {
            "_model_module": "@jupyter-widgets/controls",
            "_model_module_version": "1.5.0",
            "_model_name": "DescriptionStyleModel",
            "_view_count": null,
            "_view_module": "@jupyter-widgets/base",
            "_view_module_version": "1.2.0",
            "_view_name": "StyleView",
            "description_width": ""
          }
        },
        "333fd006707c43aa8b2fd8dd3f90d097": {
          "model_module": "@jupyter-widgets/base",
          "model_name": "LayoutModel",
          "model_module_version": "1.2.0",
          "state": {
            "_model_module": "@jupyter-widgets/base",
            "_model_module_version": "1.2.0",
            "_model_name": "LayoutModel",
            "_view_count": null,
            "_view_module": "@jupyter-widgets/base",
            "_view_module_version": "1.2.0",
            "_view_name": "LayoutView",
            "align_content": null,
            "align_items": null,
            "align_self": null,
            "border": null,
            "bottom": null,
            "display": null,
            "flex": null,
            "flex_flow": null,
            "grid_area": null,
            "grid_auto_columns": null,
            "grid_auto_flow": null,
            "grid_auto_rows": null,
            "grid_column": null,
            "grid_gap": null,
            "grid_row": null,
            "grid_template_areas": null,
            "grid_template_columns": null,
            "grid_template_rows": null,
            "height": null,
            "justify_content": null,
            "justify_items": null,
            "left": null,
            "margin": null,
            "max_height": null,
            "max_width": null,
            "min_height": null,
            "min_width": null,
            "object_fit": null,
            "object_position": null,
            "order": null,
            "overflow": null,
            "overflow_x": null,
            "overflow_y": null,
            "padding": null,
            "right": null,
            "top": null,
            "visibility": null,
            "width": null
          }
        },
        "0ebf7527b880425798531759f331dd35": {
          "model_module": "@jupyter-widgets/controls",
          "model_name": "ProgressStyleModel",
          "model_module_version": "1.5.0",
          "state": {
            "_model_module": "@jupyter-widgets/controls",
            "_model_module_version": "1.5.0",
            "_model_name": "ProgressStyleModel",
            "_view_count": null,
            "_view_module": "@jupyter-widgets/base",
            "_view_module_version": "1.2.0",
            "_view_name": "StyleView",
            "bar_color": null,
            "description_width": ""
          }
        },
        "4edafa90257d43c4ab18c2a41605b1b0": {
          "model_module": "@jupyter-widgets/base",
          "model_name": "LayoutModel",
          "model_module_version": "1.2.0",
          "state": {
            "_model_module": "@jupyter-widgets/base",
            "_model_module_version": "1.2.0",
            "_model_name": "LayoutModel",
            "_view_count": null,
            "_view_module": "@jupyter-widgets/base",
            "_view_module_version": "1.2.0",
            "_view_name": "LayoutView",
            "align_content": null,
            "align_items": null,
            "align_self": null,
            "border": null,
            "bottom": null,
            "display": null,
            "flex": null,
            "flex_flow": null,
            "grid_area": null,
            "grid_auto_columns": null,
            "grid_auto_flow": null,
            "grid_auto_rows": null,
            "grid_column": null,
            "grid_gap": null,
            "grid_row": null,
            "grid_template_areas": null,
            "grid_template_columns": null,
            "grid_template_rows": null,
            "height": null,
            "justify_content": null,
            "justify_items": null,
            "left": null,
            "margin": null,
            "max_height": null,
            "max_width": null,
            "min_height": null,
            "min_width": null,
            "object_fit": null,
            "object_position": null,
            "order": null,
            "overflow": null,
            "overflow_x": null,
            "overflow_y": null,
            "padding": null,
            "right": null,
            "top": null,
            "visibility": null,
            "width": null
          }
        },
        "72e187aa22994351a05fc66404acaf89": {
          "model_module": "@jupyter-widgets/controls",
          "model_name": "DescriptionStyleModel",
          "model_module_version": "1.5.0",
          "state": {
            "_model_module": "@jupyter-widgets/controls",
            "_model_module_version": "1.5.0",
            "_model_name": "DescriptionStyleModel",
            "_view_count": null,
            "_view_module": "@jupyter-widgets/base",
            "_view_module_version": "1.2.0",
            "_view_name": "StyleView",
            "description_width": ""
          }
        },
        "878264df49984caaa2dae86e9e1ecc00": {
          "model_module": "@jupyter-widgets/controls",
          "model_name": "HBoxModel",
          "model_module_version": "1.5.0",
          "state": {
            "_dom_classes": [],
            "_model_module": "@jupyter-widgets/controls",
            "_model_module_version": "1.5.0",
            "_model_name": "HBoxModel",
            "_view_count": null,
            "_view_module": "@jupyter-widgets/controls",
            "_view_module_version": "1.5.0",
            "_view_name": "HBoxView",
            "box_style": "",
            "children": [
              "IPY_MODEL_cf4a29bc3a8542969358da9105d17a51",
              "IPY_MODEL_a9cc1a3cfb72442daeb46c184d50b85a",
              "IPY_MODEL_87b08d07cf6d4f3ebabee799c936ec69"
            ],
            "layout": "IPY_MODEL_389dbb0933a84f3a9902bf1270e6005e"
          }
        },
        "cf4a29bc3a8542969358da9105d17a51": {
          "model_module": "@jupyter-widgets/controls",
          "model_name": "HTMLModel",
          "model_module_version": "1.5.0",
          "state": {
            "_dom_classes": [],
            "_model_module": "@jupyter-widgets/controls",
            "_model_module_version": "1.5.0",
            "_model_name": "HTMLModel",
            "_view_count": null,
            "_view_module": "@jupyter-widgets/controls",
            "_view_module_version": "1.5.0",
            "_view_name": "HTMLView",
            "description": "",
            "description_tooltip": null,
            "layout": "IPY_MODEL_58e94d8b7dcf4e4e9e85f01947c885ab",
            "placeholder": "​",
            "style": "IPY_MODEL_48cf9301afab4151a395a319417e0ef3",
            "value": "Downloading pytorch_model.bin: 100%"
          }
        },
        "a9cc1a3cfb72442daeb46c184d50b85a": {
          "model_module": "@jupyter-widgets/controls",
          "model_name": "FloatProgressModel",
          "model_module_version": "1.5.0",
          "state": {
            "_dom_classes": [],
            "_model_module": "@jupyter-widgets/controls",
            "_model_module_version": "1.5.0",
            "_model_name": "FloatProgressModel",
            "_view_count": null,
            "_view_module": "@jupyter-widgets/controls",
            "_view_module_version": "1.5.0",
            "_view_name": "ProgressView",
            "bar_style": "success",
            "description": "",
            "description_tooltip": null,
            "layout": "IPY_MODEL_c375e96b9f71499795b68c332845ea2c",
            "max": 267844284,
            "min": 0,
            "orientation": "horizontal",
            "style": "IPY_MODEL_0cd435ca071b44cc9b488c6c91a4f0a2",
            "value": 267844284
          }
        },
        "87b08d07cf6d4f3ebabee799c936ec69": {
          "model_module": "@jupyter-widgets/controls",
          "model_name": "HTMLModel",
          "model_module_version": "1.5.0",
          "state": {
            "_dom_classes": [],
            "_model_module": "@jupyter-widgets/controls",
            "_model_module_version": "1.5.0",
            "_model_name": "HTMLModel",
            "_view_count": null,
            "_view_module": "@jupyter-widgets/controls",
            "_view_module_version": "1.5.0",
            "_view_name": "HTMLView",
            "description": "",
            "description_tooltip": null,
            "layout": "IPY_MODEL_ac8f39ec466a4beea3898fcd9af89f95",
            "placeholder": "​",
            "style": "IPY_MODEL_8cbe5dfd58b344fa869bb59cd314f024",
            "value": " 268M/268M [00:03&lt;00:00, 125MB/s]"
          }
        },
        "389dbb0933a84f3a9902bf1270e6005e": {
          "model_module": "@jupyter-widgets/base",
          "model_name": "LayoutModel",
          "model_module_version": "1.2.0",
          "state": {
            "_model_module": "@jupyter-widgets/base",
            "_model_module_version": "1.2.0",
            "_model_name": "LayoutModel",
            "_view_count": null,
            "_view_module": "@jupyter-widgets/base",
            "_view_module_version": "1.2.0",
            "_view_name": "LayoutView",
            "align_content": null,
            "align_items": null,
            "align_self": null,
            "border": null,
            "bottom": null,
            "display": null,
            "flex": null,
            "flex_flow": null,
            "grid_area": null,
            "grid_auto_columns": null,
            "grid_auto_flow": null,
            "grid_auto_rows": null,
            "grid_column": null,
            "grid_gap": null,
            "grid_row": null,
            "grid_template_areas": null,
            "grid_template_columns": null,
            "grid_template_rows": null,
            "height": null,
            "justify_content": null,
            "justify_items": null,
            "left": null,
            "margin": null,
            "max_height": null,
            "max_width": null,
            "min_height": null,
            "min_width": null,
            "object_fit": null,
            "object_position": null,
            "order": null,
            "overflow": null,
            "overflow_x": null,
            "overflow_y": null,
            "padding": null,
            "right": null,
            "top": null,
            "visibility": null,
            "width": null
          }
        },
        "58e94d8b7dcf4e4e9e85f01947c885ab": {
          "model_module": "@jupyter-widgets/base",
          "model_name": "LayoutModel",
          "model_module_version": "1.2.0",
          "state": {
            "_model_module": "@jupyter-widgets/base",
            "_model_module_version": "1.2.0",
            "_model_name": "LayoutModel",
            "_view_count": null,
            "_view_module": "@jupyter-widgets/base",
            "_view_module_version": "1.2.0",
            "_view_name": "LayoutView",
            "align_content": null,
            "align_items": null,
            "align_self": null,
            "border": null,
            "bottom": null,
            "display": null,
            "flex": null,
            "flex_flow": null,
            "grid_area": null,
            "grid_auto_columns": null,
            "grid_auto_flow": null,
            "grid_auto_rows": null,
            "grid_column": null,
            "grid_gap": null,
            "grid_row": null,
            "grid_template_areas": null,
            "grid_template_columns": null,
            "grid_template_rows": null,
            "height": null,
            "justify_content": null,
            "justify_items": null,
            "left": null,
            "margin": null,
            "max_height": null,
            "max_width": null,
            "min_height": null,
            "min_width": null,
            "object_fit": null,
            "object_position": null,
            "order": null,
            "overflow": null,
            "overflow_x": null,
            "overflow_y": null,
            "padding": null,
            "right": null,
            "top": null,
            "visibility": null,
            "width": null
          }
        },
        "48cf9301afab4151a395a319417e0ef3": {
          "model_module": "@jupyter-widgets/controls",
          "model_name": "DescriptionStyleModel",
          "model_module_version": "1.5.0",
          "state": {
            "_model_module": "@jupyter-widgets/controls",
            "_model_module_version": "1.5.0",
            "_model_name": "DescriptionStyleModel",
            "_view_count": null,
            "_view_module": "@jupyter-widgets/base",
            "_view_module_version": "1.2.0",
            "_view_name": "StyleView",
            "description_width": ""
          }
        },
        "c375e96b9f71499795b68c332845ea2c": {
          "model_module": "@jupyter-widgets/base",
          "model_name": "LayoutModel",
          "model_module_version": "1.2.0",
          "state": {
            "_model_module": "@jupyter-widgets/base",
            "_model_module_version": "1.2.0",
            "_model_name": "LayoutModel",
            "_view_count": null,
            "_view_module": "@jupyter-widgets/base",
            "_view_module_version": "1.2.0",
            "_view_name": "LayoutView",
            "align_content": null,
            "align_items": null,
            "align_self": null,
            "border": null,
            "bottom": null,
            "display": null,
            "flex": null,
            "flex_flow": null,
            "grid_area": null,
            "grid_auto_columns": null,
            "grid_auto_flow": null,
            "grid_auto_rows": null,
            "grid_column": null,
            "grid_gap": null,
            "grid_row": null,
            "grid_template_areas": null,
            "grid_template_columns": null,
            "grid_template_rows": null,
            "height": null,
            "justify_content": null,
            "justify_items": null,
            "left": null,
            "margin": null,
            "max_height": null,
            "max_width": null,
            "min_height": null,
            "min_width": null,
            "object_fit": null,
            "object_position": null,
            "order": null,
            "overflow": null,
            "overflow_x": null,
            "overflow_y": null,
            "padding": null,
            "right": null,
            "top": null,
            "visibility": null,
            "width": null
          }
        },
        "0cd435ca071b44cc9b488c6c91a4f0a2": {
          "model_module": "@jupyter-widgets/controls",
          "model_name": "ProgressStyleModel",
          "model_module_version": "1.5.0",
          "state": {
            "_model_module": "@jupyter-widgets/controls",
            "_model_module_version": "1.5.0",
            "_model_name": "ProgressStyleModel",
            "_view_count": null,
            "_view_module": "@jupyter-widgets/base",
            "_view_module_version": "1.2.0",
            "_view_name": "StyleView",
            "bar_color": null,
            "description_width": ""
          }
        },
        "ac8f39ec466a4beea3898fcd9af89f95": {
          "model_module": "@jupyter-widgets/base",
          "model_name": "LayoutModel",
          "model_module_version": "1.2.0",
          "state": {
            "_model_module": "@jupyter-widgets/base",
            "_model_module_version": "1.2.0",
            "_model_name": "LayoutModel",
            "_view_count": null,
            "_view_module": "@jupyter-widgets/base",
            "_view_module_version": "1.2.0",
            "_view_name": "LayoutView",
            "align_content": null,
            "align_items": null,
            "align_self": null,
            "border": null,
            "bottom": null,
            "display": null,
            "flex": null,
            "flex_flow": null,
            "grid_area": null,
            "grid_auto_columns": null,
            "grid_auto_flow": null,
            "grid_auto_rows": null,
            "grid_column": null,
            "grid_gap": null,
            "grid_row": null,
            "grid_template_areas": null,
            "grid_template_columns": null,
            "grid_template_rows": null,
            "height": null,
            "justify_content": null,
            "justify_items": null,
            "left": null,
            "margin": null,
            "max_height": null,
            "max_width": null,
            "min_height": null,
            "min_width": null,
            "object_fit": null,
            "object_position": null,
            "order": null,
            "overflow": null,
            "overflow_x": null,
            "overflow_y": null,
            "padding": null,
            "right": null,
            "top": null,
            "visibility": null,
            "width": null
          }
        },
        "8cbe5dfd58b344fa869bb59cd314f024": {
          "model_module": "@jupyter-widgets/controls",
          "model_name": "DescriptionStyleModel",
          "model_module_version": "1.5.0",
          "state": {
            "_model_module": "@jupyter-widgets/controls",
            "_model_module_version": "1.5.0",
            "_model_name": "DescriptionStyleModel",
            "_view_count": null,
            "_view_module": "@jupyter-widgets/base",
            "_view_module_version": "1.2.0",
            "_view_name": "StyleView",
            "description_width": ""
          }
        },
        "d6ab194ec62e40909b71f6f99e46319b": {
          "model_module": "@jupyter-widgets/controls",
          "model_name": "HBoxModel",
          "model_module_version": "1.5.0",
          "state": {
            "_dom_classes": [],
            "_model_module": "@jupyter-widgets/controls",
            "_model_module_version": "1.5.0",
            "_model_name": "HBoxModel",
            "_view_count": null,
            "_view_module": "@jupyter-widgets/controls",
            "_view_module_version": "1.5.0",
            "_view_name": "HBoxView",
            "box_style": "",
            "children": [
              "IPY_MODEL_7051693be7cd4488985b13669b53aaea",
              "IPY_MODEL_5b9b4cbd387a4f318207335fa307ce57",
              "IPY_MODEL_a66ac0a03a5b421f94ab8e61b0169804"
            ],
            "layout": "IPY_MODEL_994998a99f3e4068904cca20d3cec852"
          }
        },
        "7051693be7cd4488985b13669b53aaea": {
          "model_module": "@jupyter-widgets/controls",
          "model_name": "HTMLModel",
          "model_module_version": "1.5.0",
          "state": {
            "_dom_classes": [],
            "_model_module": "@jupyter-widgets/controls",
            "_model_module_version": "1.5.0",
            "_model_name": "HTMLModel",
            "_view_count": null,
            "_view_module": "@jupyter-widgets/controls",
            "_view_module_version": "1.5.0",
            "_view_name": "HTMLView",
            "description": "",
            "description_tooltip": null,
            "layout": "IPY_MODEL_68c0d45b789a4c3fb9c1751e8d9c08d4",
            "placeholder": "​",
            "style": "IPY_MODEL_397ad98cb76848a9a56c52b4cd867b87",
            "value": "Downloading (…)okenizer_config.json: 100%"
          }
        },
        "5b9b4cbd387a4f318207335fa307ce57": {
          "model_module": "@jupyter-widgets/controls",
          "model_name": "FloatProgressModel",
          "model_module_version": "1.5.0",
          "state": {
            "_dom_classes": [],
            "_model_module": "@jupyter-widgets/controls",
            "_model_module_version": "1.5.0",
            "_model_name": "FloatProgressModel",
            "_view_count": null,
            "_view_module": "@jupyter-widgets/controls",
            "_view_module_version": "1.5.0",
            "_view_name": "ProgressView",
            "bar_style": "success",
            "description": "",
            "description_tooltip": null,
            "layout": "IPY_MODEL_d022cc032cab4185b30cc4985f1796d0",
            "max": 48,
            "min": 0,
            "orientation": "horizontal",
            "style": "IPY_MODEL_ba3f0d102e0a495a97a018eb25756224",
            "value": 48
          }
        },
        "a66ac0a03a5b421f94ab8e61b0169804": {
          "model_module": "@jupyter-widgets/controls",
          "model_name": "HTMLModel",
          "model_module_version": "1.5.0",
          "state": {
            "_dom_classes": [],
            "_model_module": "@jupyter-widgets/controls",
            "_model_module_version": "1.5.0",
            "_model_name": "HTMLModel",
            "_view_count": null,
            "_view_module": "@jupyter-widgets/controls",
            "_view_module_version": "1.5.0",
            "_view_name": "HTMLView",
            "description": "",
            "description_tooltip": null,
            "layout": "IPY_MODEL_8f2489bfd78a4e7c9c8ab10dd0fcb00f",
            "placeholder": "​",
            "style": "IPY_MODEL_235163881a544d218295853e739b33ba",
            "value": " 48.0/48.0 [00:00&lt;00:00, 61.9B/s]"
          }
        },
        "994998a99f3e4068904cca20d3cec852": {
          "model_module": "@jupyter-widgets/base",
          "model_name": "LayoutModel",
          "model_module_version": "1.2.0",
          "state": {
            "_model_module": "@jupyter-widgets/base",
            "_model_module_version": "1.2.0",
            "_model_name": "LayoutModel",
            "_view_count": null,
            "_view_module": "@jupyter-widgets/base",
            "_view_module_version": "1.2.0",
            "_view_name": "LayoutView",
            "align_content": null,
            "align_items": null,
            "align_self": null,
            "border": null,
            "bottom": null,
            "display": null,
            "flex": null,
            "flex_flow": null,
            "grid_area": null,
            "grid_auto_columns": null,
            "grid_auto_flow": null,
            "grid_auto_rows": null,
            "grid_column": null,
            "grid_gap": null,
            "grid_row": null,
            "grid_template_areas": null,
            "grid_template_columns": null,
            "grid_template_rows": null,
            "height": null,
            "justify_content": null,
            "justify_items": null,
            "left": null,
            "margin": null,
            "max_height": null,
            "max_width": null,
            "min_height": null,
            "min_width": null,
            "object_fit": null,
            "object_position": null,
            "order": null,
            "overflow": null,
            "overflow_x": null,
            "overflow_y": null,
            "padding": null,
            "right": null,
            "top": null,
            "visibility": null,
            "width": null
          }
        },
        "68c0d45b789a4c3fb9c1751e8d9c08d4": {
          "model_module": "@jupyter-widgets/base",
          "model_name": "LayoutModel",
          "model_module_version": "1.2.0",
          "state": {
            "_model_module": "@jupyter-widgets/base",
            "_model_module_version": "1.2.0",
            "_model_name": "LayoutModel",
            "_view_count": null,
            "_view_module": "@jupyter-widgets/base",
            "_view_module_version": "1.2.0",
            "_view_name": "LayoutView",
            "align_content": null,
            "align_items": null,
            "align_self": null,
            "border": null,
            "bottom": null,
            "display": null,
            "flex": null,
            "flex_flow": null,
            "grid_area": null,
            "grid_auto_columns": null,
            "grid_auto_flow": null,
            "grid_auto_rows": null,
            "grid_column": null,
            "grid_gap": null,
            "grid_row": null,
            "grid_template_areas": null,
            "grid_template_columns": null,
            "grid_template_rows": null,
            "height": null,
            "justify_content": null,
            "justify_items": null,
            "left": null,
            "margin": null,
            "max_height": null,
            "max_width": null,
            "min_height": null,
            "min_width": null,
            "object_fit": null,
            "object_position": null,
            "order": null,
            "overflow": null,
            "overflow_x": null,
            "overflow_y": null,
            "padding": null,
            "right": null,
            "top": null,
            "visibility": null,
            "width": null
          }
        },
        "397ad98cb76848a9a56c52b4cd867b87": {
          "model_module": "@jupyter-widgets/controls",
          "model_name": "DescriptionStyleModel",
          "model_module_version": "1.5.0",
          "state": {
            "_model_module": "@jupyter-widgets/controls",
            "_model_module_version": "1.5.0",
            "_model_name": "DescriptionStyleModel",
            "_view_count": null,
            "_view_module": "@jupyter-widgets/base",
            "_view_module_version": "1.2.0",
            "_view_name": "StyleView",
            "description_width": ""
          }
        },
        "d022cc032cab4185b30cc4985f1796d0": {
          "model_module": "@jupyter-widgets/base",
          "model_name": "LayoutModel",
          "model_module_version": "1.2.0",
          "state": {
            "_model_module": "@jupyter-widgets/base",
            "_model_module_version": "1.2.0",
            "_model_name": "LayoutModel",
            "_view_count": null,
            "_view_module": "@jupyter-widgets/base",
            "_view_module_version": "1.2.0",
            "_view_name": "LayoutView",
            "align_content": null,
            "align_items": null,
            "align_self": null,
            "border": null,
            "bottom": null,
            "display": null,
            "flex": null,
            "flex_flow": null,
            "grid_area": null,
            "grid_auto_columns": null,
            "grid_auto_flow": null,
            "grid_auto_rows": null,
            "grid_column": null,
            "grid_gap": null,
            "grid_row": null,
            "grid_template_areas": null,
            "grid_template_columns": null,
            "grid_template_rows": null,
            "height": null,
            "justify_content": null,
            "justify_items": null,
            "left": null,
            "margin": null,
            "max_height": null,
            "max_width": null,
            "min_height": null,
            "min_width": null,
            "object_fit": null,
            "object_position": null,
            "order": null,
            "overflow": null,
            "overflow_x": null,
            "overflow_y": null,
            "padding": null,
            "right": null,
            "top": null,
            "visibility": null,
            "width": null
          }
        },
        "ba3f0d102e0a495a97a018eb25756224": {
          "model_module": "@jupyter-widgets/controls",
          "model_name": "ProgressStyleModel",
          "model_module_version": "1.5.0",
          "state": {
            "_model_module": "@jupyter-widgets/controls",
            "_model_module_version": "1.5.0",
            "_model_name": "ProgressStyleModel",
            "_view_count": null,
            "_view_module": "@jupyter-widgets/base",
            "_view_module_version": "1.2.0",
            "_view_name": "StyleView",
            "bar_color": null,
            "description_width": ""
          }
        },
        "8f2489bfd78a4e7c9c8ab10dd0fcb00f": {
          "model_module": "@jupyter-widgets/base",
          "model_name": "LayoutModel",
          "model_module_version": "1.2.0",
          "state": {
            "_model_module": "@jupyter-widgets/base",
            "_model_module_version": "1.2.0",
            "_model_name": "LayoutModel",
            "_view_count": null,
            "_view_module": "@jupyter-widgets/base",
            "_view_module_version": "1.2.0",
            "_view_name": "LayoutView",
            "align_content": null,
            "align_items": null,
            "align_self": null,
            "border": null,
            "bottom": null,
            "display": null,
            "flex": null,
            "flex_flow": null,
            "grid_area": null,
            "grid_auto_columns": null,
            "grid_auto_flow": null,
            "grid_auto_rows": null,
            "grid_column": null,
            "grid_gap": null,
            "grid_row": null,
            "grid_template_areas": null,
            "grid_template_columns": null,
            "grid_template_rows": null,
            "height": null,
            "justify_content": null,
            "justify_items": null,
            "left": null,
            "margin": null,
            "max_height": null,
            "max_width": null,
            "min_height": null,
            "min_width": null,
            "object_fit": null,
            "object_position": null,
            "order": null,
            "overflow": null,
            "overflow_x": null,
            "overflow_y": null,
            "padding": null,
            "right": null,
            "top": null,
            "visibility": null,
            "width": null
          }
        },
        "235163881a544d218295853e739b33ba": {
          "model_module": "@jupyter-widgets/controls",
          "model_name": "DescriptionStyleModel",
          "model_module_version": "1.5.0",
          "state": {
            "_model_module": "@jupyter-widgets/controls",
            "_model_module_version": "1.5.0",
            "_model_name": "DescriptionStyleModel",
            "_view_count": null,
            "_view_module": "@jupyter-widgets/base",
            "_view_module_version": "1.2.0",
            "_view_name": "StyleView",
            "description_width": ""
          }
        },
        "dae4897444094018b9609914061e9a69": {
          "model_module": "@jupyter-widgets/controls",
          "model_name": "HBoxModel",
          "model_module_version": "1.5.0",
          "state": {
            "_dom_classes": [],
            "_model_module": "@jupyter-widgets/controls",
            "_model_module_version": "1.5.0",
            "_model_name": "HBoxModel",
            "_view_count": null,
            "_view_module": "@jupyter-widgets/controls",
            "_view_module_version": "1.5.0",
            "_view_name": "HBoxView",
            "box_style": "",
            "children": [
              "IPY_MODEL_fd88947dcb994413ac701aa44ff326e6",
              "IPY_MODEL_473dc2d3049f41c583c548410ec8f330",
              "IPY_MODEL_56ac120399b14352a2a5591c3cac8e69"
            ],
            "layout": "IPY_MODEL_f1b2809661554699971e14f3fe86e39b"
          }
        },
        "fd88947dcb994413ac701aa44ff326e6": {
          "model_module": "@jupyter-widgets/controls",
          "model_name": "HTMLModel",
          "model_module_version": "1.5.0",
          "state": {
            "_dom_classes": [],
            "_model_module": "@jupyter-widgets/controls",
            "_model_module_version": "1.5.0",
            "_model_name": "HTMLModel",
            "_view_count": null,
            "_view_module": "@jupyter-widgets/controls",
            "_view_module_version": "1.5.0",
            "_view_name": "HTMLView",
            "description": "",
            "description_tooltip": null,
            "layout": "IPY_MODEL_db3de29c441d4e588d8b625413677ec3",
            "placeholder": "​",
            "style": "IPY_MODEL_703b19c4fb3443c4b157e6b9a9c14de1",
            "value": "Downloading (…)solve/main/vocab.txt: 100%"
          }
        },
        "473dc2d3049f41c583c548410ec8f330": {
          "model_module": "@jupyter-widgets/controls",
          "model_name": "FloatProgressModel",
          "model_module_version": "1.5.0",
          "state": {
            "_dom_classes": [],
            "_model_module": "@jupyter-widgets/controls",
            "_model_module_version": "1.5.0",
            "_model_name": "FloatProgressModel",
            "_view_count": null,
            "_view_module": "@jupyter-widgets/controls",
            "_view_module_version": "1.5.0",
            "_view_name": "ProgressView",
            "bar_style": "success",
            "description": "",
            "description_tooltip": null,
            "layout": "IPY_MODEL_4aff772dcfaf413096187bde8dc0609b",
            "max": 231508,
            "min": 0,
            "orientation": "horizontal",
            "style": "IPY_MODEL_39b11d753388406781cb8f1036e4e57d",
            "value": 231508
          }
        },
        "56ac120399b14352a2a5591c3cac8e69": {
          "model_module": "@jupyter-widgets/controls",
          "model_name": "HTMLModel",
          "model_module_version": "1.5.0",
          "state": {
            "_dom_classes": [],
            "_model_module": "@jupyter-widgets/controls",
            "_model_module_version": "1.5.0",
            "_model_name": "HTMLModel",
            "_view_count": null,
            "_view_module": "@jupyter-widgets/controls",
            "_view_module_version": "1.5.0",
            "_view_name": "HTMLView",
            "description": "",
            "description_tooltip": null,
            "layout": "IPY_MODEL_698ff638f9fc43d49e44d42dd4b974dc",
            "placeholder": "​",
            "style": "IPY_MODEL_91ea2d277a0f4a9e8e7098bc352ba16c",
            "value": " 232k/232k [00:00&lt;00:00, 277kB/s]"
          }
        },
        "f1b2809661554699971e14f3fe86e39b": {
          "model_module": "@jupyter-widgets/base",
          "model_name": "LayoutModel",
          "model_module_version": "1.2.0",
          "state": {
            "_model_module": "@jupyter-widgets/base",
            "_model_module_version": "1.2.0",
            "_model_name": "LayoutModel",
            "_view_count": null,
            "_view_module": "@jupyter-widgets/base",
            "_view_module_version": "1.2.0",
            "_view_name": "LayoutView",
            "align_content": null,
            "align_items": null,
            "align_self": null,
            "border": null,
            "bottom": null,
            "display": null,
            "flex": null,
            "flex_flow": null,
            "grid_area": null,
            "grid_auto_columns": null,
            "grid_auto_flow": null,
            "grid_auto_rows": null,
            "grid_column": null,
            "grid_gap": null,
            "grid_row": null,
            "grid_template_areas": null,
            "grid_template_columns": null,
            "grid_template_rows": null,
            "height": null,
            "justify_content": null,
            "justify_items": null,
            "left": null,
            "margin": null,
            "max_height": null,
            "max_width": null,
            "min_height": null,
            "min_width": null,
            "object_fit": null,
            "object_position": null,
            "order": null,
            "overflow": null,
            "overflow_x": null,
            "overflow_y": null,
            "padding": null,
            "right": null,
            "top": null,
            "visibility": null,
            "width": null
          }
        },
        "db3de29c441d4e588d8b625413677ec3": {
          "model_module": "@jupyter-widgets/base",
          "model_name": "LayoutModel",
          "model_module_version": "1.2.0",
          "state": {
            "_model_module": "@jupyter-widgets/base",
            "_model_module_version": "1.2.0",
            "_model_name": "LayoutModel",
            "_view_count": null,
            "_view_module": "@jupyter-widgets/base",
            "_view_module_version": "1.2.0",
            "_view_name": "LayoutView",
            "align_content": null,
            "align_items": null,
            "align_self": null,
            "border": null,
            "bottom": null,
            "display": null,
            "flex": null,
            "flex_flow": null,
            "grid_area": null,
            "grid_auto_columns": null,
            "grid_auto_flow": null,
            "grid_auto_rows": null,
            "grid_column": null,
            "grid_gap": null,
            "grid_row": null,
            "grid_template_areas": null,
            "grid_template_columns": null,
            "grid_template_rows": null,
            "height": null,
            "justify_content": null,
            "justify_items": null,
            "left": null,
            "margin": null,
            "max_height": null,
            "max_width": null,
            "min_height": null,
            "min_width": null,
            "object_fit": null,
            "object_position": null,
            "order": null,
            "overflow": null,
            "overflow_x": null,
            "overflow_y": null,
            "padding": null,
            "right": null,
            "top": null,
            "visibility": null,
            "width": null
          }
        },
        "703b19c4fb3443c4b157e6b9a9c14de1": {
          "model_module": "@jupyter-widgets/controls",
          "model_name": "DescriptionStyleModel",
          "model_module_version": "1.5.0",
          "state": {
            "_model_module": "@jupyter-widgets/controls",
            "_model_module_version": "1.5.0",
            "_model_name": "DescriptionStyleModel",
            "_view_count": null,
            "_view_module": "@jupyter-widgets/base",
            "_view_module_version": "1.2.0",
            "_view_name": "StyleView",
            "description_width": ""
          }
        },
        "4aff772dcfaf413096187bde8dc0609b": {
          "model_module": "@jupyter-widgets/base",
          "model_name": "LayoutModel",
          "model_module_version": "1.2.0",
          "state": {
            "_model_module": "@jupyter-widgets/base",
            "_model_module_version": "1.2.0",
            "_model_name": "LayoutModel",
            "_view_count": null,
            "_view_module": "@jupyter-widgets/base",
            "_view_module_version": "1.2.0",
            "_view_name": "LayoutView",
            "align_content": null,
            "align_items": null,
            "align_self": null,
            "border": null,
            "bottom": null,
            "display": null,
            "flex": null,
            "flex_flow": null,
            "grid_area": null,
            "grid_auto_columns": null,
            "grid_auto_flow": null,
            "grid_auto_rows": null,
            "grid_column": null,
            "grid_gap": null,
            "grid_row": null,
            "grid_template_areas": null,
            "grid_template_columns": null,
            "grid_template_rows": null,
            "height": null,
            "justify_content": null,
            "justify_items": null,
            "left": null,
            "margin": null,
            "max_height": null,
            "max_width": null,
            "min_height": null,
            "min_width": null,
            "object_fit": null,
            "object_position": null,
            "order": null,
            "overflow": null,
            "overflow_x": null,
            "overflow_y": null,
            "padding": null,
            "right": null,
            "top": null,
            "visibility": null,
            "width": null
          }
        },
        "39b11d753388406781cb8f1036e4e57d": {
          "model_module": "@jupyter-widgets/controls",
          "model_name": "ProgressStyleModel",
          "model_module_version": "1.5.0",
          "state": {
            "_model_module": "@jupyter-widgets/controls",
            "_model_module_version": "1.5.0",
            "_model_name": "ProgressStyleModel",
            "_view_count": null,
            "_view_module": "@jupyter-widgets/base",
            "_view_module_version": "1.2.0",
            "_view_name": "StyleView",
            "bar_color": null,
            "description_width": ""
          }
        },
        "698ff638f9fc43d49e44d42dd4b974dc": {
          "model_module": "@jupyter-widgets/base",
          "model_name": "LayoutModel",
          "model_module_version": "1.2.0",
          "state": {
            "_model_module": "@jupyter-widgets/base",
            "_model_module_version": "1.2.0",
            "_model_name": "LayoutModel",
            "_view_count": null,
            "_view_module": "@jupyter-widgets/base",
            "_view_module_version": "1.2.0",
            "_view_name": "LayoutView",
            "align_content": null,
            "align_items": null,
            "align_self": null,
            "border": null,
            "bottom": null,
            "display": null,
            "flex": null,
            "flex_flow": null,
            "grid_area": null,
            "grid_auto_columns": null,
            "grid_auto_flow": null,
            "grid_auto_rows": null,
            "grid_column": null,
            "grid_gap": null,
            "grid_row": null,
            "grid_template_areas": null,
            "grid_template_columns": null,
            "grid_template_rows": null,
            "height": null,
            "justify_content": null,
            "justify_items": null,
            "left": null,
            "margin": null,
            "max_height": null,
            "max_width": null,
            "min_height": null,
            "min_width": null,
            "object_fit": null,
            "object_position": null,
            "order": null,
            "overflow": null,
            "overflow_x": null,
            "overflow_y": null,
            "padding": null,
            "right": null,
            "top": null,
            "visibility": null,
            "width": null
          }
        },
        "91ea2d277a0f4a9e8e7098bc352ba16c": {
          "model_module": "@jupyter-widgets/controls",
          "model_name": "DescriptionStyleModel",
          "model_module_version": "1.5.0",
          "state": {
            "_model_module": "@jupyter-widgets/controls",
            "_model_module_version": "1.5.0",
            "_model_name": "DescriptionStyleModel",
            "_view_count": null,
            "_view_module": "@jupyter-widgets/base",
            "_view_module_version": "1.2.0",
            "_view_name": "StyleView",
            "description_width": ""
          }
        },
        "90fb6a7980254f25b1373c4da3e965e7": {
          "model_module": "@jupyter-widgets/controls",
          "model_name": "HBoxModel",
          "model_module_version": "1.5.0",
          "state": {
            "_dom_classes": [],
            "_model_module": "@jupyter-widgets/controls",
            "_model_module_version": "1.5.0",
            "_model_name": "HBoxModel",
            "_view_count": null,
            "_view_module": "@jupyter-widgets/controls",
            "_view_module_version": "1.5.0",
            "_view_name": "HBoxView",
            "box_style": "",
            "children": [
              "IPY_MODEL_358c32ee622f48efb612d98aeb06315c",
              "IPY_MODEL_bc865b0345de4355b23ac41aa02f1404",
              "IPY_MODEL_d7ba627068284f018bc90fc142bc304d"
            ],
            "layout": "IPY_MODEL_47fd31032e0847b9be734297a8fb83d9"
          }
        },
        "358c32ee622f48efb612d98aeb06315c": {
          "model_module": "@jupyter-widgets/controls",
          "model_name": "HTMLModel",
          "model_module_version": "1.5.0",
          "state": {
            "_dom_classes": [],
            "_model_module": "@jupyter-widgets/controls",
            "_model_module_version": "1.5.0",
            "_model_name": "HTMLModel",
            "_view_count": null,
            "_view_module": "@jupyter-widgets/controls",
            "_view_module_version": "1.5.0",
            "_view_name": "HTMLView",
            "description": "",
            "description_tooltip": null,
            "layout": "IPY_MODEL_e6d49286da8e42e08d0140a3e5038493",
            "placeholder": "​",
            "style": "IPY_MODEL_5c0c12bf793c421aa5261e85f947b4a3",
            "value": "Downloading (…)okenizer_config.json: 100%"
          }
        },
        "bc865b0345de4355b23ac41aa02f1404": {
          "model_module": "@jupyter-widgets/controls",
          "model_name": "FloatProgressModel",
          "model_module_version": "1.5.0",
          "state": {
            "_dom_classes": [],
            "_model_module": "@jupyter-widgets/controls",
            "_model_module_version": "1.5.0",
            "_model_name": "FloatProgressModel",
            "_view_count": null,
            "_view_module": "@jupyter-widgets/controls",
            "_view_module_version": "1.5.0",
            "_view_name": "ProgressView",
            "bar_style": "success",
            "description": "",
            "description_tooltip": null,
            "layout": "IPY_MODEL_d9ab2716306d4e40bb4a436329a3358a",
            "max": 28,
            "min": 0,
            "orientation": "horizontal",
            "style": "IPY_MODEL_bfdcc5bcf34f424e8341ba2019465983",
            "value": 28
          }
        },
        "d7ba627068284f018bc90fc142bc304d": {
          "model_module": "@jupyter-widgets/controls",
          "model_name": "HTMLModel",
          "model_module_version": "1.5.0",
          "state": {
            "_dom_classes": [],
            "_model_module": "@jupyter-widgets/controls",
            "_model_module_version": "1.5.0",
            "_model_name": "HTMLModel",
            "_view_count": null,
            "_view_module": "@jupyter-widgets/controls",
            "_view_module_version": "1.5.0",
            "_view_name": "HTMLView",
            "description": "",
            "description_tooltip": null,
            "layout": "IPY_MODEL_c61d20bb61bd4a87b937f697c67e6e0f",
            "placeholder": "​",
            "style": "IPY_MODEL_b5cc8020789c48c19d34fa229c52cf0d",
            "value": " 28.0/28.0 [00:00&lt;00:00, 126B/s]"
          }
        },
        "47fd31032e0847b9be734297a8fb83d9": {
          "model_module": "@jupyter-widgets/base",
          "model_name": "LayoutModel",
          "model_module_version": "1.2.0",
          "state": {
            "_model_module": "@jupyter-widgets/base",
            "_model_module_version": "1.2.0",
            "_model_name": "LayoutModel",
            "_view_count": null,
            "_view_module": "@jupyter-widgets/base",
            "_view_module_version": "1.2.0",
            "_view_name": "LayoutView",
            "align_content": null,
            "align_items": null,
            "align_self": null,
            "border": null,
            "bottom": null,
            "display": null,
            "flex": null,
            "flex_flow": null,
            "grid_area": null,
            "grid_auto_columns": null,
            "grid_auto_flow": null,
            "grid_auto_rows": null,
            "grid_column": null,
            "grid_gap": null,
            "grid_row": null,
            "grid_template_areas": null,
            "grid_template_columns": null,
            "grid_template_rows": null,
            "height": null,
            "justify_content": null,
            "justify_items": null,
            "left": null,
            "margin": null,
            "max_height": null,
            "max_width": null,
            "min_height": null,
            "min_width": null,
            "object_fit": null,
            "object_position": null,
            "order": null,
            "overflow": null,
            "overflow_x": null,
            "overflow_y": null,
            "padding": null,
            "right": null,
            "top": null,
            "visibility": null,
            "width": null
          }
        },
        "e6d49286da8e42e08d0140a3e5038493": {
          "model_module": "@jupyter-widgets/base",
          "model_name": "LayoutModel",
          "model_module_version": "1.2.0",
          "state": {
            "_model_module": "@jupyter-widgets/base",
            "_model_module_version": "1.2.0",
            "_model_name": "LayoutModel",
            "_view_count": null,
            "_view_module": "@jupyter-widgets/base",
            "_view_module_version": "1.2.0",
            "_view_name": "LayoutView",
            "align_content": null,
            "align_items": null,
            "align_self": null,
            "border": null,
            "bottom": null,
            "display": null,
            "flex": null,
            "flex_flow": null,
            "grid_area": null,
            "grid_auto_columns": null,
            "grid_auto_flow": null,
            "grid_auto_rows": null,
            "grid_column": null,
            "grid_gap": null,
            "grid_row": null,
            "grid_template_areas": null,
            "grid_template_columns": null,
            "grid_template_rows": null,
            "height": null,
            "justify_content": null,
            "justify_items": null,
            "left": null,
            "margin": null,
            "max_height": null,
            "max_width": null,
            "min_height": null,
            "min_width": null,
            "object_fit": null,
            "object_position": null,
            "order": null,
            "overflow": null,
            "overflow_x": null,
            "overflow_y": null,
            "padding": null,
            "right": null,
            "top": null,
            "visibility": null,
            "width": null
          }
        },
        "5c0c12bf793c421aa5261e85f947b4a3": {
          "model_module": "@jupyter-widgets/controls",
          "model_name": "DescriptionStyleModel",
          "model_module_version": "1.5.0",
          "state": {
            "_model_module": "@jupyter-widgets/controls",
            "_model_module_version": "1.5.0",
            "_model_name": "DescriptionStyleModel",
            "_view_count": null,
            "_view_module": "@jupyter-widgets/base",
            "_view_module_version": "1.2.0",
            "_view_name": "StyleView",
            "description_width": ""
          }
        },
        "d9ab2716306d4e40bb4a436329a3358a": {
          "model_module": "@jupyter-widgets/base",
          "model_name": "LayoutModel",
          "model_module_version": "1.2.0",
          "state": {
            "_model_module": "@jupyter-widgets/base",
            "_model_module_version": "1.2.0",
            "_model_name": "LayoutModel",
            "_view_count": null,
            "_view_module": "@jupyter-widgets/base",
            "_view_module_version": "1.2.0",
            "_view_name": "LayoutView",
            "align_content": null,
            "align_items": null,
            "align_self": null,
            "border": null,
            "bottom": null,
            "display": null,
            "flex": null,
            "flex_flow": null,
            "grid_area": null,
            "grid_auto_columns": null,
            "grid_auto_flow": null,
            "grid_auto_rows": null,
            "grid_column": null,
            "grid_gap": null,
            "grid_row": null,
            "grid_template_areas": null,
            "grid_template_columns": null,
            "grid_template_rows": null,
            "height": null,
            "justify_content": null,
            "justify_items": null,
            "left": null,
            "margin": null,
            "max_height": null,
            "max_width": null,
            "min_height": null,
            "min_width": null,
            "object_fit": null,
            "object_position": null,
            "order": null,
            "overflow": null,
            "overflow_x": null,
            "overflow_y": null,
            "padding": null,
            "right": null,
            "top": null,
            "visibility": null,
            "width": null
          }
        },
        "bfdcc5bcf34f424e8341ba2019465983": {
          "model_module": "@jupyter-widgets/controls",
          "model_name": "ProgressStyleModel",
          "model_module_version": "1.5.0",
          "state": {
            "_model_module": "@jupyter-widgets/controls",
            "_model_module_version": "1.5.0",
            "_model_name": "ProgressStyleModel",
            "_view_count": null,
            "_view_module": "@jupyter-widgets/base",
            "_view_module_version": "1.2.0",
            "_view_name": "StyleView",
            "bar_color": null,
            "description_width": ""
          }
        },
        "c61d20bb61bd4a87b937f697c67e6e0f": {
          "model_module": "@jupyter-widgets/base",
          "model_name": "LayoutModel",
          "model_module_version": "1.2.0",
          "state": {
            "_model_module": "@jupyter-widgets/base",
            "_model_module_version": "1.2.0",
            "_model_name": "LayoutModel",
            "_view_count": null,
            "_view_module": "@jupyter-widgets/base",
            "_view_module_version": "1.2.0",
            "_view_name": "LayoutView",
            "align_content": null,
            "align_items": null,
            "align_self": null,
            "border": null,
            "bottom": null,
            "display": null,
            "flex": null,
            "flex_flow": null,
            "grid_area": null,
            "grid_auto_columns": null,
            "grid_auto_flow": null,
            "grid_auto_rows": null,
            "grid_column": null,
            "grid_gap": null,
            "grid_row": null,
            "grid_template_areas": null,
            "grid_template_columns": null,
            "grid_template_rows": null,
            "height": null,
            "justify_content": null,
            "justify_items": null,
            "left": null,
            "margin": null,
            "max_height": null,
            "max_width": null,
            "min_height": null,
            "min_width": null,
            "object_fit": null,
            "object_position": null,
            "order": null,
            "overflow": null,
            "overflow_x": null,
            "overflow_y": null,
            "padding": null,
            "right": null,
            "top": null,
            "visibility": null,
            "width": null
          }
        },
        "b5cc8020789c48c19d34fa229c52cf0d": {
          "model_module": "@jupyter-widgets/controls",
          "model_name": "DescriptionStyleModel",
          "model_module_version": "1.5.0",
          "state": {
            "_model_module": "@jupyter-widgets/controls",
            "_model_module_version": "1.5.0",
            "_model_name": "DescriptionStyleModel",
            "_view_count": null,
            "_view_module": "@jupyter-widgets/base",
            "_view_module_version": "1.2.0",
            "_view_name": "StyleView",
            "description_width": ""
          }
        },
        "8c6da3ce97204bca82d205331ec8f92d": {
          "model_module": "@jupyter-widgets/controls",
          "model_name": "HBoxModel",
          "model_module_version": "1.5.0",
          "state": {
            "_dom_classes": [],
            "_model_module": "@jupyter-widgets/controls",
            "_model_module_version": "1.5.0",
            "_model_name": "HBoxModel",
            "_view_count": null,
            "_view_module": "@jupyter-widgets/controls",
            "_view_module_version": "1.5.0",
            "_view_name": "HBoxView",
            "box_style": "",
            "children": [
              "IPY_MODEL_fdba57858b3047b986334f79ecc23a25",
              "IPY_MODEL_38221c458a9a4f84b2ac1e666699df5e",
              "IPY_MODEL_5df4b6db8eca497d96e3ab6e6922fe84"
            ],
            "layout": "IPY_MODEL_754970c8e1044295a8cc28d34fbad736"
          }
        },
        "fdba57858b3047b986334f79ecc23a25": {
          "model_module": "@jupyter-widgets/controls",
          "model_name": "HTMLModel",
          "model_module_version": "1.5.0",
          "state": {
            "_dom_classes": [],
            "_model_module": "@jupyter-widgets/controls",
            "_model_module_version": "1.5.0",
            "_model_name": "HTMLModel",
            "_view_count": null,
            "_view_module": "@jupyter-widgets/controls",
            "_view_module_version": "1.5.0",
            "_view_name": "HTMLView",
            "description": "",
            "description_tooltip": null,
            "layout": "IPY_MODEL_bd6a0d17708b494c83ec37a52f066fa6",
            "placeholder": "​",
            "style": "IPY_MODEL_a4fce70f613b462ab5e055346ce95389",
            "value": "Downloading (…)lve/main/config.json: 100%"
          }
        },
        "38221c458a9a4f84b2ac1e666699df5e": {
          "model_module": "@jupyter-widgets/controls",
          "model_name": "FloatProgressModel",
          "model_module_version": "1.5.0",
          "state": {
            "_dom_classes": [],
            "_model_module": "@jupyter-widgets/controls",
            "_model_module_version": "1.5.0",
            "_model_name": "FloatProgressModel",
            "_view_count": null,
            "_view_module": "@jupyter-widgets/controls",
            "_view_module_version": "1.5.0",
            "_view_name": "ProgressView",
            "bar_style": "success",
            "description": "",
            "description_tooltip": null,
            "layout": "IPY_MODEL_6d8c9723a7284338a7aa565e7e1df379",
            "max": 483,
            "min": 0,
            "orientation": "horizontal",
            "style": "IPY_MODEL_afb4cdeeea57476a91e18585038dec4e",
            "value": 483
          }
        },
        "5df4b6db8eca497d96e3ab6e6922fe84": {
          "model_module": "@jupyter-widgets/controls",
          "model_name": "HTMLModel",
          "model_module_version": "1.5.0",
          "state": {
            "_dom_classes": [],
            "_model_module": "@jupyter-widgets/controls",
            "_model_module_version": "1.5.0",
            "_model_name": "HTMLModel",
            "_view_count": null,
            "_view_module": "@jupyter-widgets/controls",
            "_view_module_version": "1.5.0",
            "_view_name": "HTMLView",
            "description": "",
            "description_tooltip": null,
            "layout": "IPY_MODEL_864c5d17739b43fb84816a510e47d92c",
            "placeholder": "​",
            "style": "IPY_MODEL_3cd577a19dac43cba7f4118930053fc7",
            "value": " 483/483 [00:00&lt;00:00, 17.2kB/s]"
          }
        },
        "754970c8e1044295a8cc28d34fbad736": {
          "model_module": "@jupyter-widgets/base",
          "model_name": "LayoutModel",
          "model_module_version": "1.2.0",
          "state": {
            "_model_module": "@jupyter-widgets/base",
            "_model_module_version": "1.2.0",
            "_model_name": "LayoutModel",
            "_view_count": null,
            "_view_module": "@jupyter-widgets/base",
            "_view_module_version": "1.2.0",
            "_view_name": "LayoutView",
            "align_content": null,
            "align_items": null,
            "align_self": null,
            "border": null,
            "bottom": null,
            "display": null,
            "flex": null,
            "flex_flow": null,
            "grid_area": null,
            "grid_auto_columns": null,
            "grid_auto_flow": null,
            "grid_auto_rows": null,
            "grid_column": null,
            "grid_gap": null,
            "grid_row": null,
            "grid_template_areas": null,
            "grid_template_columns": null,
            "grid_template_rows": null,
            "height": null,
            "justify_content": null,
            "justify_items": null,
            "left": null,
            "margin": null,
            "max_height": null,
            "max_width": null,
            "min_height": null,
            "min_width": null,
            "object_fit": null,
            "object_position": null,
            "order": null,
            "overflow": null,
            "overflow_x": null,
            "overflow_y": null,
            "padding": null,
            "right": null,
            "top": null,
            "visibility": null,
            "width": null
          }
        },
        "bd6a0d17708b494c83ec37a52f066fa6": {
          "model_module": "@jupyter-widgets/base",
          "model_name": "LayoutModel",
          "model_module_version": "1.2.0",
          "state": {
            "_model_module": "@jupyter-widgets/base",
            "_model_module_version": "1.2.0",
            "_model_name": "LayoutModel",
            "_view_count": null,
            "_view_module": "@jupyter-widgets/base",
            "_view_module_version": "1.2.0",
            "_view_name": "LayoutView",
            "align_content": null,
            "align_items": null,
            "align_self": null,
            "border": null,
            "bottom": null,
            "display": null,
            "flex": null,
            "flex_flow": null,
            "grid_area": null,
            "grid_auto_columns": null,
            "grid_auto_flow": null,
            "grid_auto_rows": null,
            "grid_column": null,
            "grid_gap": null,
            "grid_row": null,
            "grid_template_areas": null,
            "grid_template_columns": null,
            "grid_template_rows": null,
            "height": null,
            "justify_content": null,
            "justify_items": null,
            "left": null,
            "margin": null,
            "max_height": null,
            "max_width": null,
            "min_height": null,
            "min_width": null,
            "object_fit": null,
            "object_position": null,
            "order": null,
            "overflow": null,
            "overflow_x": null,
            "overflow_y": null,
            "padding": null,
            "right": null,
            "top": null,
            "visibility": null,
            "width": null
          }
        },
        "a4fce70f613b462ab5e055346ce95389": {
          "model_module": "@jupyter-widgets/controls",
          "model_name": "DescriptionStyleModel",
          "model_module_version": "1.5.0",
          "state": {
            "_model_module": "@jupyter-widgets/controls",
            "_model_module_version": "1.5.0",
            "_model_name": "DescriptionStyleModel",
            "_view_count": null,
            "_view_module": "@jupyter-widgets/base",
            "_view_module_version": "1.2.0",
            "_view_name": "StyleView",
            "description_width": ""
          }
        },
        "6d8c9723a7284338a7aa565e7e1df379": {
          "model_module": "@jupyter-widgets/base",
          "model_name": "LayoutModel",
          "model_module_version": "1.2.0",
          "state": {
            "_model_module": "@jupyter-widgets/base",
            "_model_module_version": "1.2.0",
            "_model_name": "LayoutModel",
            "_view_count": null,
            "_view_module": "@jupyter-widgets/base",
            "_view_module_version": "1.2.0",
            "_view_name": "LayoutView",
            "align_content": null,
            "align_items": null,
            "align_self": null,
            "border": null,
            "bottom": null,
            "display": null,
            "flex": null,
            "flex_flow": null,
            "grid_area": null,
            "grid_auto_columns": null,
            "grid_auto_flow": null,
            "grid_auto_rows": null,
            "grid_column": null,
            "grid_gap": null,
            "grid_row": null,
            "grid_template_areas": null,
            "grid_template_columns": null,
            "grid_template_rows": null,
            "height": null,
            "justify_content": null,
            "justify_items": null,
            "left": null,
            "margin": null,
            "max_height": null,
            "max_width": null,
            "min_height": null,
            "min_width": null,
            "object_fit": null,
            "object_position": null,
            "order": null,
            "overflow": null,
            "overflow_x": null,
            "overflow_y": null,
            "padding": null,
            "right": null,
            "top": null,
            "visibility": null,
            "width": null
          }
        },
        "afb4cdeeea57476a91e18585038dec4e": {
          "model_module": "@jupyter-widgets/controls",
          "model_name": "ProgressStyleModel",
          "model_module_version": "1.5.0",
          "state": {
            "_model_module": "@jupyter-widgets/controls",
            "_model_module_version": "1.5.0",
            "_model_name": "ProgressStyleModel",
            "_view_count": null,
            "_view_module": "@jupyter-widgets/base",
            "_view_module_version": "1.2.0",
            "_view_name": "StyleView",
            "bar_color": null,
            "description_width": ""
          }
        },
        "864c5d17739b43fb84816a510e47d92c": {
          "model_module": "@jupyter-widgets/base",
          "model_name": "LayoutModel",
          "model_module_version": "1.2.0",
          "state": {
            "_model_module": "@jupyter-widgets/base",
            "_model_module_version": "1.2.0",
            "_model_name": "LayoutModel",
            "_view_count": null,
            "_view_module": "@jupyter-widgets/base",
            "_view_module_version": "1.2.0",
            "_view_name": "LayoutView",
            "align_content": null,
            "align_items": null,
            "align_self": null,
            "border": null,
            "bottom": null,
            "display": null,
            "flex": null,
            "flex_flow": null,
            "grid_area": null,
            "grid_auto_columns": null,
            "grid_auto_flow": null,
            "grid_auto_rows": null,
            "grid_column": null,
            "grid_gap": null,
            "grid_row": null,
            "grid_template_areas": null,
            "grid_template_columns": null,
            "grid_template_rows": null,
            "height": null,
            "justify_content": null,
            "justify_items": null,
            "left": null,
            "margin": null,
            "max_height": null,
            "max_width": null,
            "min_height": null,
            "min_width": null,
            "object_fit": null,
            "object_position": null,
            "order": null,
            "overflow": null,
            "overflow_x": null,
            "overflow_y": null,
            "padding": null,
            "right": null,
            "top": null,
            "visibility": null,
            "width": null
          }
        },
        "3cd577a19dac43cba7f4118930053fc7": {
          "model_module": "@jupyter-widgets/controls",
          "model_name": "DescriptionStyleModel",
          "model_module_version": "1.5.0",
          "state": {
            "_model_module": "@jupyter-widgets/controls",
            "_model_module_version": "1.5.0",
            "_model_name": "DescriptionStyleModel",
            "_view_count": null,
            "_view_module": "@jupyter-widgets/base",
            "_view_module_version": "1.2.0",
            "_view_name": "StyleView",
            "description_width": ""
          }
        },
        "370839f4151c4a1f81136c46ad14df56": {
          "model_module": "@jupyter-widgets/controls",
          "model_name": "HBoxModel",
          "model_module_version": "1.5.0",
          "state": {
            "_dom_classes": [],
            "_model_module": "@jupyter-widgets/controls",
            "_model_module_version": "1.5.0",
            "_model_name": "HBoxModel",
            "_view_count": null,
            "_view_module": "@jupyter-widgets/controls",
            "_view_module_version": "1.5.0",
            "_view_name": "HBoxView",
            "box_style": "",
            "children": [
              "IPY_MODEL_f6397833fa5b44cbbf8e0ab2a6a91a00",
              "IPY_MODEL_5069d9455d794cd5baa390cc7a1725c4",
              "IPY_MODEL_6457906fee04467f9f61e03f917bf20c"
            ],
            "layout": "IPY_MODEL_31a2071786444141a2cd5e4c7e343264"
          }
        },
        "f6397833fa5b44cbbf8e0ab2a6a91a00": {
          "model_module": "@jupyter-widgets/controls",
          "model_name": "HTMLModel",
          "model_module_version": "1.5.0",
          "state": {
            "_dom_classes": [],
            "_model_module": "@jupyter-widgets/controls",
            "_model_module_version": "1.5.0",
            "_model_name": "HTMLModel",
            "_view_count": null,
            "_view_module": "@jupyter-widgets/controls",
            "_view_module_version": "1.5.0",
            "_view_name": "HTMLView",
            "description": "",
            "description_tooltip": null,
            "layout": "IPY_MODEL_ff3fb040cfc44633a5da9ff0540e3780",
            "placeholder": "​",
            "style": "IPY_MODEL_5b05ec0d188b4b13a49b4e5198df1815",
            "value": "Downloading (…)solve/main/vocab.txt: 100%"
          }
        },
        "5069d9455d794cd5baa390cc7a1725c4": {
          "model_module": "@jupyter-widgets/controls",
          "model_name": "FloatProgressModel",
          "model_module_version": "1.5.0",
          "state": {
            "_dom_classes": [],
            "_model_module": "@jupyter-widgets/controls",
            "_model_module_version": "1.5.0",
            "_model_name": "FloatProgressModel",
            "_view_count": null,
            "_view_module": "@jupyter-widgets/controls",
            "_view_module_version": "1.5.0",
            "_view_name": "ProgressView",
            "bar_style": "success",
            "description": "",
            "description_tooltip": null,
            "layout": "IPY_MODEL_9ed6fab4c8be4303b792c3163389cebd",
            "max": 231508,
            "min": 0,
            "orientation": "horizontal",
            "style": "IPY_MODEL_f93726b3129844c8981fd69422b97920",
            "value": 231508
          }
        },
        "6457906fee04467f9f61e03f917bf20c": {
          "model_module": "@jupyter-widgets/controls",
          "model_name": "HTMLModel",
          "model_module_version": "1.5.0",
          "state": {
            "_dom_classes": [],
            "_model_module": "@jupyter-widgets/controls",
            "_model_module_version": "1.5.0",
            "_model_name": "HTMLModel",
            "_view_count": null,
            "_view_module": "@jupyter-widgets/controls",
            "_view_module_version": "1.5.0",
            "_view_name": "HTMLView",
            "description": "",
            "description_tooltip": null,
            "layout": "IPY_MODEL_b9b354be52b544f29dc1f23e4676b0d2",
            "placeholder": "​",
            "style": "IPY_MODEL_1e00105a4f3047dab77e9df80f30c25d",
            "value": " 232k/232k [00:00&lt;00:00, 7.76MB/s]"
          }
        },
        "31a2071786444141a2cd5e4c7e343264": {
          "model_module": "@jupyter-widgets/base",
          "model_name": "LayoutModel",
          "model_module_version": "1.2.0",
          "state": {
            "_model_module": "@jupyter-widgets/base",
            "_model_module_version": "1.2.0",
            "_model_name": "LayoutModel",
            "_view_count": null,
            "_view_module": "@jupyter-widgets/base",
            "_view_module_version": "1.2.0",
            "_view_name": "LayoutView",
            "align_content": null,
            "align_items": null,
            "align_self": null,
            "border": null,
            "bottom": null,
            "display": null,
            "flex": null,
            "flex_flow": null,
            "grid_area": null,
            "grid_auto_columns": null,
            "grid_auto_flow": null,
            "grid_auto_rows": null,
            "grid_column": null,
            "grid_gap": null,
            "grid_row": null,
            "grid_template_areas": null,
            "grid_template_columns": null,
            "grid_template_rows": null,
            "height": null,
            "justify_content": null,
            "justify_items": null,
            "left": null,
            "margin": null,
            "max_height": null,
            "max_width": null,
            "min_height": null,
            "min_width": null,
            "object_fit": null,
            "object_position": null,
            "order": null,
            "overflow": null,
            "overflow_x": null,
            "overflow_y": null,
            "padding": null,
            "right": null,
            "top": null,
            "visibility": null,
            "width": null
          }
        },
        "ff3fb040cfc44633a5da9ff0540e3780": {
          "model_module": "@jupyter-widgets/base",
          "model_name": "LayoutModel",
          "model_module_version": "1.2.0",
          "state": {
            "_model_module": "@jupyter-widgets/base",
            "_model_module_version": "1.2.0",
            "_model_name": "LayoutModel",
            "_view_count": null,
            "_view_module": "@jupyter-widgets/base",
            "_view_module_version": "1.2.0",
            "_view_name": "LayoutView",
            "align_content": null,
            "align_items": null,
            "align_self": null,
            "border": null,
            "bottom": null,
            "display": null,
            "flex": null,
            "flex_flow": null,
            "grid_area": null,
            "grid_auto_columns": null,
            "grid_auto_flow": null,
            "grid_auto_rows": null,
            "grid_column": null,
            "grid_gap": null,
            "grid_row": null,
            "grid_template_areas": null,
            "grid_template_columns": null,
            "grid_template_rows": null,
            "height": null,
            "justify_content": null,
            "justify_items": null,
            "left": null,
            "margin": null,
            "max_height": null,
            "max_width": null,
            "min_height": null,
            "min_width": null,
            "object_fit": null,
            "object_position": null,
            "order": null,
            "overflow": null,
            "overflow_x": null,
            "overflow_y": null,
            "padding": null,
            "right": null,
            "top": null,
            "visibility": null,
            "width": null
          }
        },
        "5b05ec0d188b4b13a49b4e5198df1815": {
          "model_module": "@jupyter-widgets/controls",
          "model_name": "DescriptionStyleModel",
          "model_module_version": "1.5.0",
          "state": {
            "_model_module": "@jupyter-widgets/controls",
            "_model_module_version": "1.5.0",
            "_model_name": "DescriptionStyleModel",
            "_view_count": null,
            "_view_module": "@jupyter-widgets/base",
            "_view_module_version": "1.2.0",
            "_view_name": "StyleView",
            "description_width": ""
          }
        },
        "9ed6fab4c8be4303b792c3163389cebd": {
          "model_module": "@jupyter-widgets/base",
          "model_name": "LayoutModel",
          "model_module_version": "1.2.0",
          "state": {
            "_model_module": "@jupyter-widgets/base",
            "_model_module_version": "1.2.0",
            "_model_name": "LayoutModel",
            "_view_count": null,
            "_view_module": "@jupyter-widgets/base",
            "_view_module_version": "1.2.0",
            "_view_name": "LayoutView",
            "align_content": null,
            "align_items": null,
            "align_self": null,
            "border": null,
            "bottom": null,
            "display": null,
            "flex": null,
            "flex_flow": null,
            "grid_area": null,
            "grid_auto_columns": null,
            "grid_auto_flow": null,
            "grid_auto_rows": null,
            "grid_column": null,
            "grid_gap": null,
            "grid_row": null,
            "grid_template_areas": null,
            "grid_template_columns": null,
            "grid_template_rows": null,
            "height": null,
            "justify_content": null,
            "justify_items": null,
            "left": null,
            "margin": null,
            "max_height": null,
            "max_width": null,
            "min_height": null,
            "min_width": null,
            "object_fit": null,
            "object_position": null,
            "order": null,
            "overflow": null,
            "overflow_x": null,
            "overflow_y": null,
            "padding": null,
            "right": null,
            "top": null,
            "visibility": null,
            "width": null
          }
        },
        "f93726b3129844c8981fd69422b97920": {
          "model_module": "@jupyter-widgets/controls",
          "model_name": "ProgressStyleModel",
          "model_module_version": "1.5.0",
          "state": {
            "_model_module": "@jupyter-widgets/controls",
            "_model_module_version": "1.5.0",
            "_model_name": "ProgressStyleModel",
            "_view_count": null,
            "_view_module": "@jupyter-widgets/base",
            "_view_module_version": "1.2.0",
            "_view_name": "StyleView",
            "bar_color": null,
            "description_width": ""
          }
        },
        "b9b354be52b544f29dc1f23e4676b0d2": {
          "model_module": "@jupyter-widgets/base",
          "model_name": "LayoutModel",
          "model_module_version": "1.2.0",
          "state": {
            "_model_module": "@jupyter-widgets/base",
            "_model_module_version": "1.2.0",
            "_model_name": "LayoutModel",
            "_view_count": null,
            "_view_module": "@jupyter-widgets/base",
            "_view_module_version": "1.2.0",
            "_view_name": "LayoutView",
            "align_content": null,
            "align_items": null,
            "align_self": null,
            "border": null,
            "bottom": null,
            "display": null,
            "flex": null,
            "flex_flow": null,
            "grid_area": null,
            "grid_auto_columns": null,
            "grid_auto_flow": null,
            "grid_auto_rows": null,
            "grid_column": null,
            "grid_gap": null,
            "grid_row": null,
            "grid_template_areas": null,
            "grid_template_columns": null,
            "grid_template_rows": null,
            "height": null,
            "justify_content": null,
            "justify_items": null,
            "left": null,
            "margin": null,
            "max_height": null,
            "max_width": null,
            "min_height": null,
            "min_width": null,
            "object_fit": null,
            "object_position": null,
            "order": null,
            "overflow": null,
            "overflow_x": null,
            "overflow_y": null,
            "padding": null,
            "right": null,
            "top": null,
            "visibility": null,
            "width": null
          }
        },
        "1e00105a4f3047dab77e9df80f30c25d": {
          "model_module": "@jupyter-widgets/controls",
          "model_name": "DescriptionStyleModel",
          "model_module_version": "1.5.0",
          "state": {
            "_model_module": "@jupyter-widgets/controls",
            "_model_module_version": "1.5.0",
            "_model_name": "DescriptionStyleModel",
            "_view_count": null,
            "_view_module": "@jupyter-widgets/base",
            "_view_module_version": "1.2.0",
            "_view_name": "StyleView",
            "description_width": ""
          }
        },
        "1c043ab5b1ef4da1aeaa5dbd36eb4840": {
          "model_module": "@jupyter-widgets/controls",
          "model_name": "HBoxModel",
          "model_module_version": "1.5.0",
          "state": {
            "_dom_classes": [],
            "_model_module": "@jupyter-widgets/controls",
            "_model_module_version": "1.5.0",
            "_model_name": "HBoxModel",
            "_view_count": null,
            "_view_module": "@jupyter-widgets/controls",
            "_view_module_version": "1.5.0",
            "_view_name": "HBoxView",
            "box_style": "",
            "children": [
              "IPY_MODEL_443a3af92a404cefb79783a5d94dea7d",
              "IPY_MODEL_edcb3664dd0543d1b0152d81c69d65eb",
              "IPY_MODEL_d4c0f617b9d54d8c9c98661e8d163713"
            ],
            "layout": "IPY_MODEL_95f60a077fb147eca2a7aaa0fe5c9d58"
          }
        },
        "443a3af92a404cefb79783a5d94dea7d": {
          "model_module": "@jupyter-widgets/controls",
          "model_name": "HTMLModel",
          "model_module_version": "1.5.0",
          "state": {
            "_dom_classes": [],
            "_model_module": "@jupyter-widgets/controls",
            "_model_module_version": "1.5.0",
            "_model_name": "HTMLModel",
            "_view_count": null,
            "_view_module": "@jupyter-widgets/controls",
            "_view_module_version": "1.5.0",
            "_view_name": "HTMLView",
            "description": "",
            "description_tooltip": null,
            "layout": "IPY_MODEL_8af61ca00dc74d0b88c4278e417e201c",
            "placeholder": "​",
            "style": "IPY_MODEL_ddf4d60208e94901a5f3fe13699e9023",
            "value": "Downloading (…)/main/tokenizer.json: 100%"
          }
        },
        "edcb3664dd0543d1b0152d81c69d65eb": {
          "model_module": "@jupyter-widgets/controls",
          "model_name": "FloatProgressModel",
          "model_module_version": "1.5.0",
          "state": {
            "_dom_classes": [],
            "_model_module": "@jupyter-widgets/controls",
            "_model_module_version": "1.5.0",
            "_model_name": "FloatProgressModel",
            "_view_count": null,
            "_view_module": "@jupyter-widgets/controls",
            "_view_module_version": "1.5.0",
            "_view_name": "ProgressView",
            "bar_style": "success",
            "description": "",
            "description_tooltip": null,
            "layout": "IPY_MODEL_94402cf86e9747e184dd7bf50e0533d6",
            "max": 466062,
            "min": 0,
            "orientation": "horizontal",
            "style": "IPY_MODEL_c54afb3e2ccf46d8801a54e26bba95d1",
            "value": 466062
          }
        },
        "d4c0f617b9d54d8c9c98661e8d163713": {
          "model_module": "@jupyter-widgets/controls",
          "model_name": "HTMLModel",
          "model_module_version": "1.5.0",
          "state": {
            "_dom_classes": [],
            "_model_module": "@jupyter-widgets/controls",
            "_model_module_version": "1.5.0",
            "_model_name": "HTMLModel",
            "_view_count": null,
            "_view_module": "@jupyter-widgets/controls",
            "_view_module_version": "1.5.0",
            "_view_name": "HTMLView",
            "description": "",
            "description_tooltip": null,
            "layout": "IPY_MODEL_43a596f2c64243a9b0e830f71d0aef3f",
            "placeholder": "​",
            "style": "IPY_MODEL_217d36c676cd44b2a2c539d211e83874",
            "value": " 466k/466k [00:00&lt;00:00, 9.51MB/s]"
          }
        },
        "95f60a077fb147eca2a7aaa0fe5c9d58": {
          "model_module": "@jupyter-widgets/base",
          "model_name": "LayoutModel",
          "model_module_version": "1.2.0",
          "state": {
            "_model_module": "@jupyter-widgets/base",
            "_model_module_version": "1.2.0",
            "_model_name": "LayoutModel",
            "_view_count": null,
            "_view_module": "@jupyter-widgets/base",
            "_view_module_version": "1.2.0",
            "_view_name": "LayoutView",
            "align_content": null,
            "align_items": null,
            "align_self": null,
            "border": null,
            "bottom": null,
            "display": null,
            "flex": null,
            "flex_flow": null,
            "grid_area": null,
            "grid_auto_columns": null,
            "grid_auto_flow": null,
            "grid_auto_rows": null,
            "grid_column": null,
            "grid_gap": null,
            "grid_row": null,
            "grid_template_areas": null,
            "grid_template_columns": null,
            "grid_template_rows": null,
            "height": null,
            "justify_content": null,
            "justify_items": null,
            "left": null,
            "margin": null,
            "max_height": null,
            "max_width": null,
            "min_height": null,
            "min_width": null,
            "object_fit": null,
            "object_position": null,
            "order": null,
            "overflow": null,
            "overflow_x": null,
            "overflow_y": null,
            "padding": null,
            "right": null,
            "top": null,
            "visibility": null,
            "width": null
          }
        },
        "8af61ca00dc74d0b88c4278e417e201c": {
          "model_module": "@jupyter-widgets/base",
          "model_name": "LayoutModel",
          "model_module_version": "1.2.0",
          "state": {
            "_model_module": "@jupyter-widgets/base",
            "_model_module_version": "1.2.0",
            "_model_name": "LayoutModel",
            "_view_count": null,
            "_view_module": "@jupyter-widgets/base",
            "_view_module_version": "1.2.0",
            "_view_name": "LayoutView",
            "align_content": null,
            "align_items": null,
            "align_self": null,
            "border": null,
            "bottom": null,
            "display": null,
            "flex": null,
            "flex_flow": null,
            "grid_area": null,
            "grid_auto_columns": null,
            "grid_auto_flow": null,
            "grid_auto_rows": null,
            "grid_column": null,
            "grid_gap": null,
            "grid_row": null,
            "grid_template_areas": null,
            "grid_template_columns": null,
            "grid_template_rows": null,
            "height": null,
            "justify_content": null,
            "justify_items": null,
            "left": null,
            "margin": null,
            "max_height": null,
            "max_width": null,
            "min_height": null,
            "min_width": null,
            "object_fit": null,
            "object_position": null,
            "order": null,
            "overflow": null,
            "overflow_x": null,
            "overflow_y": null,
            "padding": null,
            "right": null,
            "top": null,
            "visibility": null,
            "width": null
          }
        },
        "ddf4d60208e94901a5f3fe13699e9023": {
          "model_module": "@jupyter-widgets/controls",
          "model_name": "DescriptionStyleModel",
          "model_module_version": "1.5.0",
          "state": {
            "_model_module": "@jupyter-widgets/controls",
            "_model_module_version": "1.5.0",
            "_model_name": "DescriptionStyleModel",
            "_view_count": null,
            "_view_module": "@jupyter-widgets/base",
            "_view_module_version": "1.2.0",
            "_view_name": "StyleView",
            "description_width": ""
          }
        },
        "94402cf86e9747e184dd7bf50e0533d6": {
          "model_module": "@jupyter-widgets/base",
          "model_name": "LayoutModel",
          "model_module_version": "1.2.0",
          "state": {
            "_model_module": "@jupyter-widgets/base",
            "_model_module_version": "1.2.0",
            "_model_name": "LayoutModel",
            "_view_count": null,
            "_view_module": "@jupyter-widgets/base",
            "_view_module_version": "1.2.0",
            "_view_name": "LayoutView",
            "align_content": null,
            "align_items": null,
            "align_self": null,
            "border": null,
            "bottom": null,
            "display": null,
            "flex": null,
            "flex_flow": null,
            "grid_area": null,
            "grid_auto_columns": null,
            "grid_auto_flow": null,
            "grid_auto_rows": null,
            "grid_column": null,
            "grid_gap": null,
            "grid_row": null,
            "grid_template_areas": null,
            "grid_template_columns": null,
            "grid_template_rows": null,
            "height": null,
            "justify_content": null,
            "justify_items": null,
            "left": null,
            "margin": null,
            "max_height": null,
            "max_width": null,
            "min_height": null,
            "min_width": null,
            "object_fit": null,
            "object_position": null,
            "order": null,
            "overflow": null,
            "overflow_x": null,
            "overflow_y": null,
            "padding": null,
            "right": null,
            "top": null,
            "visibility": null,
            "width": null
          }
        },
        "c54afb3e2ccf46d8801a54e26bba95d1": {
          "model_module": "@jupyter-widgets/controls",
          "model_name": "ProgressStyleModel",
          "model_module_version": "1.5.0",
          "state": {
            "_model_module": "@jupyter-widgets/controls",
            "_model_module_version": "1.5.0",
            "_model_name": "ProgressStyleModel",
            "_view_count": null,
            "_view_module": "@jupyter-widgets/base",
            "_view_module_version": "1.2.0",
            "_view_name": "StyleView",
            "bar_color": null,
            "description_width": ""
          }
        },
        "43a596f2c64243a9b0e830f71d0aef3f": {
          "model_module": "@jupyter-widgets/base",
          "model_name": "LayoutModel",
          "model_module_version": "1.2.0",
          "state": {
            "_model_module": "@jupyter-widgets/base",
            "_model_module_version": "1.2.0",
            "_model_name": "LayoutModel",
            "_view_count": null,
            "_view_module": "@jupyter-widgets/base",
            "_view_module_version": "1.2.0",
            "_view_name": "LayoutView",
            "align_content": null,
            "align_items": null,
            "align_self": null,
            "border": null,
            "bottom": null,
            "display": null,
            "flex": null,
            "flex_flow": null,
            "grid_area": null,
            "grid_auto_columns": null,
            "grid_auto_flow": null,
            "grid_auto_rows": null,
            "grid_column": null,
            "grid_gap": null,
            "grid_row": null,
            "grid_template_areas": null,
            "grid_template_columns": null,
            "grid_template_rows": null,
            "height": null,
            "justify_content": null,
            "justify_items": null,
            "left": null,
            "margin": null,
            "max_height": null,
            "max_width": null,
            "min_height": null,
            "min_width": null,
            "object_fit": null,
            "object_position": null,
            "order": null,
            "overflow": null,
            "overflow_x": null,
            "overflow_y": null,
            "padding": null,
            "right": null,
            "top": null,
            "visibility": null,
            "width": null
          }
        },
        "217d36c676cd44b2a2c539d211e83874": {
          "model_module": "@jupyter-widgets/controls",
          "model_name": "DescriptionStyleModel",
          "model_module_version": "1.5.0",
          "state": {
            "_model_module": "@jupyter-widgets/controls",
            "_model_module_version": "1.5.0",
            "_model_name": "DescriptionStyleModel",
            "_view_count": null,
            "_view_module": "@jupyter-widgets/base",
            "_view_module_version": "1.2.0",
            "_view_name": "StyleView",
            "description_width": ""
          }
        },
        "f2bf8442ffc64c2ab6ae1319f88ef854": {
          "model_module": "@jupyter-widgets/controls",
          "model_name": "HBoxModel",
          "model_module_version": "1.5.0",
          "state": {
            "_dom_classes": [],
            "_model_module": "@jupyter-widgets/controls",
            "_model_module_version": "1.5.0",
            "_model_name": "HBoxModel",
            "_view_count": null,
            "_view_module": "@jupyter-widgets/controls",
            "_view_module_version": "1.5.0",
            "_view_name": "HBoxView",
            "box_style": "",
            "children": [
              "IPY_MODEL_5706901984e34d0c891cc5b6eee09128",
              "IPY_MODEL_2fa188a3f69f492fb51afbd62331af99",
              "IPY_MODEL_bd19cccd22eb4abd84e55bd73f6596d4"
            ],
            "layout": "IPY_MODEL_cb67e106bbcb4f1c820a7e2524132287"
          }
        },
        "5706901984e34d0c891cc5b6eee09128": {
          "model_module": "@jupyter-widgets/controls",
          "model_name": "HTMLModel",
          "model_module_version": "1.5.0",
          "state": {
            "_dom_classes": [],
            "_model_module": "@jupyter-widgets/controls",
            "_model_module_version": "1.5.0",
            "_model_name": "HTMLModel",
            "_view_count": null,
            "_view_module": "@jupyter-widgets/controls",
            "_view_module_version": "1.5.0",
            "_view_name": "HTMLView",
            "description": "",
            "description_tooltip": null,
            "layout": "IPY_MODEL_a339209f7e2949f38c72d486318df98d",
            "placeholder": "​",
            "style": "IPY_MODEL_90061d126a0144d799c358b080c77960",
            "value": "Map: 100%"
          }
        },
        "2fa188a3f69f492fb51afbd62331af99": {
          "model_module": "@jupyter-widgets/controls",
          "model_name": "FloatProgressModel",
          "model_module_version": "1.5.0",
          "state": {
            "_dom_classes": [],
            "_model_module": "@jupyter-widgets/controls",
            "_model_module_version": "1.5.0",
            "_model_name": "FloatProgressModel",
            "_view_count": null,
            "_view_module": "@jupyter-widgets/controls",
            "_view_module_version": "1.5.0",
            "_view_name": "ProgressView",
            "bar_style": "",
            "description": "",
            "description_tooltip": null,
            "layout": "IPY_MODEL_efde369b69904413a992d0edc9f3721d",
            "max": 35172,
            "min": 0,
            "orientation": "horizontal",
            "style": "IPY_MODEL_5c14661812f34ff59183a839e0551d19",
            "value": 35172
          }
        },
        "bd19cccd22eb4abd84e55bd73f6596d4": {
          "model_module": "@jupyter-widgets/controls",
          "model_name": "HTMLModel",
          "model_module_version": "1.5.0",
          "state": {
            "_dom_classes": [],
            "_model_module": "@jupyter-widgets/controls",
            "_model_module_version": "1.5.0",
            "_model_name": "HTMLModel",
            "_view_count": null,
            "_view_module": "@jupyter-widgets/controls",
            "_view_module_version": "1.5.0",
            "_view_name": "HTMLView",
            "description": "",
            "description_tooltip": null,
            "layout": "IPY_MODEL_0af2b18079e34db2a98e36f05b3d7f74",
            "placeholder": "​",
            "style": "IPY_MODEL_e67baa87b49948fda1f788528617b873",
            "value": " 35172/35172 [00:29&lt;00:00, 1206.25 examples/s]"
          }
        },
        "cb67e106bbcb4f1c820a7e2524132287": {
          "model_module": "@jupyter-widgets/base",
          "model_name": "LayoutModel",
          "model_module_version": "1.2.0",
          "state": {
            "_model_module": "@jupyter-widgets/base",
            "_model_module_version": "1.2.0",
            "_model_name": "LayoutModel",
            "_view_count": null,
            "_view_module": "@jupyter-widgets/base",
            "_view_module_version": "1.2.0",
            "_view_name": "LayoutView",
            "align_content": null,
            "align_items": null,
            "align_self": null,
            "border": null,
            "bottom": null,
            "display": null,
            "flex": null,
            "flex_flow": null,
            "grid_area": null,
            "grid_auto_columns": null,
            "grid_auto_flow": null,
            "grid_auto_rows": null,
            "grid_column": null,
            "grid_gap": null,
            "grid_row": null,
            "grid_template_areas": null,
            "grid_template_columns": null,
            "grid_template_rows": null,
            "height": null,
            "justify_content": null,
            "justify_items": null,
            "left": null,
            "margin": null,
            "max_height": null,
            "max_width": null,
            "min_height": null,
            "min_width": null,
            "object_fit": null,
            "object_position": null,
            "order": null,
            "overflow": null,
            "overflow_x": null,
            "overflow_y": null,
            "padding": null,
            "right": null,
            "top": null,
            "visibility": "hidden",
            "width": null
          }
        },
        "a339209f7e2949f38c72d486318df98d": {
          "model_module": "@jupyter-widgets/base",
          "model_name": "LayoutModel",
          "model_module_version": "1.2.0",
          "state": {
            "_model_module": "@jupyter-widgets/base",
            "_model_module_version": "1.2.0",
            "_model_name": "LayoutModel",
            "_view_count": null,
            "_view_module": "@jupyter-widgets/base",
            "_view_module_version": "1.2.0",
            "_view_name": "LayoutView",
            "align_content": null,
            "align_items": null,
            "align_self": null,
            "border": null,
            "bottom": null,
            "display": null,
            "flex": null,
            "flex_flow": null,
            "grid_area": null,
            "grid_auto_columns": null,
            "grid_auto_flow": null,
            "grid_auto_rows": null,
            "grid_column": null,
            "grid_gap": null,
            "grid_row": null,
            "grid_template_areas": null,
            "grid_template_columns": null,
            "grid_template_rows": null,
            "height": null,
            "justify_content": null,
            "justify_items": null,
            "left": null,
            "margin": null,
            "max_height": null,
            "max_width": null,
            "min_height": null,
            "min_width": null,
            "object_fit": null,
            "object_position": null,
            "order": null,
            "overflow": null,
            "overflow_x": null,
            "overflow_y": null,
            "padding": null,
            "right": null,
            "top": null,
            "visibility": null,
            "width": null
          }
        },
        "90061d126a0144d799c358b080c77960": {
          "model_module": "@jupyter-widgets/controls",
          "model_name": "DescriptionStyleModel",
          "model_module_version": "1.5.0",
          "state": {
            "_model_module": "@jupyter-widgets/controls",
            "_model_module_version": "1.5.0",
            "_model_name": "DescriptionStyleModel",
            "_view_count": null,
            "_view_module": "@jupyter-widgets/base",
            "_view_module_version": "1.2.0",
            "_view_name": "StyleView",
            "description_width": ""
          }
        },
        "efde369b69904413a992d0edc9f3721d": {
          "model_module": "@jupyter-widgets/base",
          "model_name": "LayoutModel",
          "model_module_version": "1.2.0",
          "state": {
            "_model_module": "@jupyter-widgets/base",
            "_model_module_version": "1.2.0",
            "_model_name": "LayoutModel",
            "_view_count": null,
            "_view_module": "@jupyter-widgets/base",
            "_view_module_version": "1.2.0",
            "_view_name": "LayoutView",
            "align_content": null,
            "align_items": null,
            "align_self": null,
            "border": null,
            "bottom": null,
            "display": null,
            "flex": null,
            "flex_flow": null,
            "grid_area": null,
            "grid_auto_columns": null,
            "grid_auto_flow": null,
            "grid_auto_rows": null,
            "grid_column": null,
            "grid_gap": null,
            "grid_row": null,
            "grid_template_areas": null,
            "grid_template_columns": null,
            "grid_template_rows": null,
            "height": null,
            "justify_content": null,
            "justify_items": null,
            "left": null,
            "margin": null,
            "max_height": null,
            "max_width": null,
            "min_height": null,
            "min_width": null,
            "object_fit": null,
            "object_position": null,
            "order": null,
            "overflow": null,
            "overflow_x": null,
            "overflow_y": null,
            "padding": null,
            "right": null,
            "top": null,
            "visibility": null,
            "width": null
          }
        },
        "5c14661812f34ff59183a839e0551d19": {
          "model_module": "@jupyter-widgets/controls",
          "model_name": "ProgressStyleModel",
          "model_module_version": "1.5.0",
          "state": {
            "_model_module": "@jupyter-widgets/controls",
            "_model_module_version": "1.5.0",
            "_model_name": "ProgressStyleModel",
            "_view_count": null,
            "_view_module": "@jupyter-widgets/base",
            "_view_module_version": "1.2.0",
            "_view_name": "StyleView",
            "bar_color": null,
            "description_width": ""
          }
        },
        "0af2b18079e34db2a98e36f05b3d7f74": {
          "model_module": "@jupyter-widgets/base",
          "model_name": "LayoutModel",
          "model_module_version": "1.2.0",
          "state": {
            "_model_module": "@jupyter-widgets/base",
            "_model_module_version": "1.2.0",
            "_model_name": "LayoutModel",
            "_view_count": null,
            "_view_module": "@jupyter-widgets/base",
            "_view_module_version": "1.2.0",
            "_view_name": "LayoutView",
            "align_content": null,
            "align_items": null,
            "align_self": null,
            "border": null,
            "bottom": null,
            "display": null,
            "flex": null,
            "flex_flow": null,
            "grid_area": null,
            "grid_auto_columns": null,
            "grid_auto_flow": null,
            "grid_auto_rows": null,
            "grid_column": null,
            "grid_gap": null,
            "grid_row": null,
            "grid_template_areas": null,
            "grid_template_columns": null,
            "grid_template_rows": null,
            "height": null,
            "justify_content": null,
            "justify_items": null,
            "left": null,
            "margin": null,
            "max_height": null,
            "max_width": null,
            "min_height": null,
            "min_width": null,
            "object_fit": null,
            "object_position": null,
            "order": null,
            "overflow": null,
            "overflow_x": null,
            "overflow_y": null,
            "padding": null,
            "right": null,
            "top": null,
            "visibility": null,
            "width": null
          }
        },
        "e67baa87b49948fda1f788528617b873": {
          "model_module": "@jupyter-widgets/controls",
          "model_name": "DescriptionStyleModel",
          "model_module_version": "1.5.0",
          "state": {
            "_model_module": "@jupyter-widgets/controls",
            "_model_module_version": "1.5.0",
            "_model_name": "DescriptionStyleModel",
            "_view_count": null,
            "_view_module": "@jupyter-widgets/base",
            "_view_module_version": "1.2.0",
            "_view_name": "StyleView",
            "description_width": ""
          }
        }
      }
    }
  },
  "cells": [
    {
      "cell_type": "markdown",
      "metadata": {
        "id": "view-in-github",
        "colab_type": "text"
      },
      "source": [
        "<a href=\"https://colab.research.google.com/github/MarioAvolio/proj-data-an/blob/main/Transformers_Amazon_Food.ipynb\" target=\"_parent\"><img src=\"https://colab.research.google.com/assets/colab-badge.svg\" alt=\"Open In Colab\"/></a>"
      ]
    },
    {
      "cell_type": "code",
      "execution_count": 1,
      "metadata": {
        "id": "GsRizD7zFJ3V"
      },
      "outputs": [],
      "source": [
        "import pandas as pd\n",
        "import os\n",
        "import matplotlib.pyplot as plt # plotting\n",
        "import numpy as np"
      ]
    },
    {
      "cell_type": "code",
      "execution_count": 3,
      "metadata": {
        "colab": {
          "base_uri": "https://localhost:8080/"
        },
        "id": "fJ6-kXG-0p7V",
        "outputId": "17f177cd-5db0-4087-93bd-f8866b71a60b"
      },
      "outputs": [
        {
          "output_type": "stream",
          "name": "stdout",
          "text": [
            "Mounted at /content/drive\n"
          ]
        }
      ],
      "source": [
        "from google.colab import drive\n",
        "drive.mount('/content/drive', force_remount=True)"
      ]
    },
    {
      "cell_type": "code",
      "execution_count": 4,
      "metadata": {
        "id": "_hhFPP6_GZvC"
      },
      "outputs": [],
      "source": [
        "PATH_PROJ = \"/content/drive/MyDrive/data-proj/\"\n",
        "# if not os.path.exists(PATH_PROJ):\n",
        "#   PATH_PROJ = \"/content/drive/MyDrive/shared/data-proj/\"\n",
        "\n",
        "PATH_PREPROCESSED_DATASET = PATH_PROJ+\"preprocessed.csv\""
      ]
    },
    {
      "cell_type": "code",
      "execution_count": 5,
      "metadata": {
        "id": "IJar8wRnGxx5",
        "colab": {
          "base_uri": "https://localhost:8080/",
          "height": 903
        },
        "outputId": "b8262801-12e8-4d54-928b-4d3b59d05be9"
      },
      "outputs": [
        {
          "output_type": "execute_result",
          "data": {
            "text/plain": [
              "                                                    text  score\n",
              "0      I have bought several of the Vitality canned d...    5.0\n",
              "1      Product arrived labeled as Jumbo Salted Peanut...    1.0\n",
              "2      This is a confection that has been around a fe...    4.0\n",
              "3      If you are looking for the secret ingredient i...    2.0\n",
              "4      Great taffy at a great price.  There was a wid...    5.0\n",
              "...                                                  ...    ...\n",
              "35167  Once I tasted Hazelnut coffee, I was hooked! N...    5.0\n",
              "35168  Has Maxwell House quit making this coffee?  I ...    5.0\n",
              "35169  Nutty, smooth, subtle, with a WONDERFUL aroma-...    5.0\n",
              "35170  Price was right and the taste very good.  We w...    5.0\n",
              "35171  This sauce gives you authentic tonkatsu flavor...    5.0\n",
              "\n",
              "[35172 rows x 2 columns]"
            ],
            "text/html": [
              "\n",
              "  <div id=\"df-044cf571-f35e-4d9f-9348-d6d11d8978e5\">\n",
              "    <div class=\"colab-df-container\">\n",
              "      <div>\n",
              "<style scoped>\n",
              "    .dataframe tbody tr th:only-of-type {\n",
              "        vertical-align: middle;\n",
              "    }\n",
              "\n",
              "    .dataframe tbody tr th {\n",
              "        vertical-align: top;\n",
              "    }\n",
              "\n",
              "    .dataframe thead th {\n",
              "        text-align: right;\n",
              "    }\n",
              "</style>\n",
              "<table border=\"1\" class=\"dataframe\">\n",
              "  <thead>\n",
              "    <tr style=\"text-align: right;\">\n",
              "      <th></th>\n",
              "      <th>text</th>\n",
              "      <th>score</th>\n",
              "    </tr>\n",
              "  </thead>\n",
              "  <tbody>\n",
              "    <tr>\n",
              "      <th>0</th>\n",
              "      <td>I have bought several of the Vitality canned d...</td>\n",
              "      <td>5.0</td>\n",
              "    </tr>\n",
              "    <tr>\n",
              "      <th>1</th>\n",
              "      <td>Product arrived labeled as Jumbo Salted Peanut...</td>\n",
              "      <td>1.0</td>\n",
              "    </tr>\n",
              "    <tr>\n",
              "      <th>2</th>\n",
              "      <td>This is a confection that has been around a fe...</td>\n",
              "      <td>4.0</td>\n",
              "    </tr>\n",
              "    <tr>\n",
              "      <th>3</th>\n",
              "      <td>If you are looking for the secret ingredient i...</td>\n",
              "      <td>2.0</td>\n",
              "    </tr>\n",
              "    <tr>\n",
              "      <th>4</th>\n",
              "      <td>Great taffy at a great price.  There was a wid...</td>\n",
              "      <td>5.0</td>\n",
              "    </tr>\n",
              "    <tr>\n",
              "      <th>...</th>\n",
              "      <td>...</td>\n",
              "      <td>...</td>\n",
              "    </tr>\n",
              "    <tr>\n",
              "      <th>35167</th>\n",
              "      <td>Once I tasted Hazelnut coffee, I was hooked! N...</td>\n",
              "      <td>5.0</td>\n",
              "    </tr>\n",
              "    <tr>\n",
              "      <th>35168</th>\n",
              "      <td>Has Maxwell House quit making this coffee?  I ...</td>\n",
              "      <td>5.0</td>\n",
              "    </tr>\n",
              "    <tr>\n",
              "      <th>35169</th>\n",
              "      <td>Nutty, smooth, subtle, with a WONDERFUL aroma-...</td>\n",
              "      <td>5.0</td>\n",
              "    </tr>\n",
              "    <tr>\n",
              "      <th>35170</th>\n",
              "      <td>Price was right and the taste very good.  We w...</td>\n",
              "      <td>5.0</td>\n",
              "    </tr>\n",
              "    <tr>\n",
              "      <th>35171</th>\n",
              "      <td>This sauce gives you authentic tonkatsu flavor...</td>\n",
              "      <td>5.0</td>\n",
              "    </tr>\n",
              "  </tbody>\n",
              "</table>\n",
              "<p>35172 rows × 2 columns</p>\n",
              "</div>\n",
              "      <button class=\"colab-df-convert\" onclick=\"convertToInteractive('df-044cf571-f35e-4d9f-9348-d6d11d8978e5')\"\n",
              "              title=\"Convert this dataframe to an interactive table.\"\n",
              "              style=\"display:none;\">\n",
              "        \n",
              "  <svg xmlns=\"http://www.w3.org/2000/svg\" height=\"24px\"viewBox=\"0 0 24 24\"\n",
              "       width=\"24px\">\n",
              "    <path d=\"M0 0h24v24H0V0z\" fill=\"none\"/>\n",
              "    <path d=\"M18.56 5.44l.94 2.06.94-2.06 2.06-.94-2.06-.94-.94-2.06-.94 2.06-2.06.94zm-11 1L8.5 8.5l.94-2.06 2.06-.94-2.06-.94L8.5 2.5l-.94 2.06-2.06.94zm10 10l.94 2.06.94-2.06 2.06-.94-2.06-.94-.94-2.06-.94 2.06-2.06.94z\"/><path d=\"M17.41 7.96l-1.37-1.37c-.4-.4-.92-.59-1.43-.59-.52 0-1.04.2-1.43.59L10.3 9.45l-7.72 7.72c-.78.78-.78 2.05 0 2.83L4 21.41c.39.39.9.59 1.41.59.51 0 1.02-.2 1.41-.59l7.78-7.78 2.81-2.81c.8-.78.8-2.07 0-2.86zM5.41 20L4 18.59l7.72-7.72 1.47 1.35L5.41 20z\"/>\n",
              "  </svg>\n",
              "      </button>\n",
              "      \n",
              "  <style>\n",
              "    .colab-df-container {\n",
              "      display:flex;\n",
              "      flex-wrap:wrap;\n",
              "      gap: 12px;\n",
              "    }\n",
              "\n",
              "    .colab-df-convert {\n",
              "      background-color: #E8F0FE;\n",
              "      border: none;\n",
              "      border-radius: 50%;\n",
              "      cursor: pointer;\n",
              "      display: none;\n",
              "      fill: #1967D2;\n",
              "      height: 32px;\n",
              "      padding: 0 0 0 0;\n",
              "      width: 32px;\n",
              "    }\n",
              "\n",
              "    .colab-df-convert:hover {\n",
              "      background-color: #E2EBFA;\n",
              "      box-shadow: 0px 1px 2px rgba(60, 64, 67, 0.3), 0px 1px 3px 1px rgba(60, 64, 67, 0.15);\n",
              "      fill: #174EA6;\n",
              "    }\n",
              "\n",
              "    [theme=dark] .colab-df-convert {\n",
              "      background-color: #3B4455;\n",
              "      fill: #D2E3FC;\n",
              "    }\n",
              "\n",
              "    [theme=dark] .colab-df-convert:hover {\n",
              "      background-color: #434B5C;\n",
              "      box-shadow: 0px 1px 3px 1px rgba(0, 0, 0, 0.15);\n",
              "      filter: drop-shadow(0px 1px 2px rgba(0, 0, 0, 0.3));\n",
              "      fill: #FFFFFF;\n",
              "    }\n",
              "  </style>\n",
              "\n",
              "      <script>\n",
              "        const buttonEl =\n",
              "          document.querySelector('#df-044cf571-f35e-4d9f-9348-d6d11d8978e5 button.colab-df-convert');\n",
              "        buttonEl.style.display =\n",
              "          google.colab.kernel.accessAllowed ? 'block' : 'none';\n",
              "\n",
              "        async function convertToInteractive(key) {\n",
              "          const element = document.querySelector('#df-044cf571-f35e-4d9f-9348-d6d11d8978e5');\n",
              "          const dataTable =\n",
              "            await google.colab.kernel.invokeFunction('convertToInteractive',\n",
              "                                                     [key], {});\n",
              "          if (!dataTable) return;\n",
              "\n",
              "          const docLinkHtml = 'Like what you see? Visit the ' +\n",
              "            '<a target=\"_blank\" href=https://colab.research.google.com/notebooks/data_table.ipynb>data table notebook</a>'\n",
              "            + ' to learn more about interactive tables.';\n",
              "          element.innerHTML = '';\n",
              "          dataTable['output_type'] = 'display_data';\n",
              "          await google.colab.output.renderOutput(dataTable, element);\n",
              "          const docLink = document.createElement('div');\n",
              "          docLink.innerHTML = docLinkHtml;\n",
              "          element.appendChild(docLink);\n",
              "        }\n",
              "      </script>\n",
              "    </div>\n",
              "  </div>\n",
              "  "
            ]
          },
          "metadata": {},
          "execution_count": 5
        },
        {
          "output_type": "stream",
          "name": "stdout",
          "text": [
            "Warning: total number of rows (35172) exceeds max_rows (20000). Limiting to first (20000) rows.\n"
          ]
        }
      ],
      "source": [
        "df = pd.read_csv(PATH_PREPROCESSED_DATASET)\n",
        "df"
      ]
    },
    {
      "cell_type": "markdown",
      "source": [
        "Transformers has a layered API that allows you to\n",
        "interact with the library at various levels of abstraction. In this chapter we’ll start with\n",
        "pipelines, which abstract away all the steps needed to convert raw text into a set of\n",
        "predictions from a fine-tuned model."
      ],
      "metadata": {
        "id": "yEQwypiAoclh"
      }
    },
    {
      "cell_type": "code",
      "source": [
        "!pip install transformers\n",
        "from transformers import pipeline\n",
        "classifier = pipeline(\"text-classification\") \n",
        "# . By default, the text-classification pipeline uses a model\n",
        "# that’s designed for sentiment analysis, but it also supports multiclass and multilabel classification.\n"
      ],
      "metadata": {
        "id": "3BA8-NuVudyc",
        "colab": {
          "base_uri": "https://localhost:8080/",
          "height": 614,
          "referenced_widgets": [
            "c8ca4c7119bb4f5983cfcbbc20e5cbc1",
            "13e73f0e864242149066294f32d2a65c",
            "7a7fee15717d4e04a5509736d9061b3f",
            "13cb45cca1df4e81bc27dc6ae5e97eda",
            "b7dfd823ca8f41d499f6aa23a7d0a427",
            "a09a68d2ed484914be8adc38b86c660f",
            "81b3a4b83eec4bd887e29a884c7aef90",
            "333fd006707c43aa8b2fd8dd3f90d097",
            "0ebf7527b880425798531759f331dd35",
            "4edafa90257d43c4ab18c2a41605b1b0",
            "72e187aa22994351a05fc66404acaf89",
            "878264df49984caaa2dae86e9e1ecc00",
            "cf4a29bc3a8542969358da9105d17a51",
            "a9cc1a3cfb72442daeb46c184d50b85a",
            "87b08d07cf6d4f3ebabee799c936ec69",
            "389dbb0933a84f3a9902bf1270e6005e",
            "58e94d8b7dcf4e4e9e85f01947c885ab",
            "48cf9301afab4151a395a319417e0ef3",
            "c375e96b9f71499795b68c332845ea2c",
            "0cd435ca071b44cc9b488c6c91a4f0a2",
            "ac8f39ec466a4beea3898fcd9af89f95",
            "8cbe5dfd58b344fa869bb59cd314f024",
            "d6ab194ec62e40909b71f6f99e46319b",
            "7051693be7cd4488985b13669b53aaea",
            "5b9b4cbd387a4f318207335fa307ce57",
            "a66ac0a03a5b421f94ab8e61b0169804",
            "994998a99f3e4068904cca20d3cec852",
            "68c0d45b789a4c3fb9c1751e8d9c08d4",
            "397ad98cb76848a9a56c52b4cd867b87",
            "d022cc032cab4185b30cc4985f1796d0",
            "ba3f0d102e0a495a97a018eb25756224",
            "8f2489bfd78a4e7c9c8ab10dd0fcb00f",
            "235163881a544d218295853e739b33ba",
            "dae4897444094018b9609914061e9a69",
            "fd88947dcb994413ac701aa44ff326e6",
            "473dc2d3049f41c583c548410ec8f330",
            "56ac120399b14352a2a5591c3cac8e69",
            "f1b2809661554699971e14f3fe86e39b",
            "db3de29c441d4e588d8b625413677ec3",
            "703b19c4fb3443c4b157e6b9a9c14de1",
            "4aff772dcfaf413096187bde8dc0609b",
            "39b11d753388406781cb8f1036e4e57d",
            "698ff638f9fc43d49e44d42dd4b974dc",
            "91ea2d277a0f4a9e8e7098bc352ba16c"
          ]
        },
        "outputId": "ae10aa00-3bcd-48a0-a035-273dcdf5da52"
      },
      "execution_count": 6,
      "outputs": [
        {
          "output_type": "stream",
          "name": "stdout",
          "text": [
            "Looking in indexes: https://pypi.org/simple, https://us-python.pkg.dev/colab-wheels/public/simple/\n",
            "Collecting transformers\n",
            "  Downloading transformers-4.28.1-py3-none-any.whl (7.0 MB)\n",
            "\u001b[?25l     \u001b[90m━━━━━━━━━━━━━━━━━━━━━━━━━━━━━━━━━━━━━━━━\u001b[0m \u001b[32m0.0/7.0 MB\u001b[0m \u001b[31m?\u001b[0m eta \u001b[36m-:--:--\u001b[0m\r\u001b[2K     \u001b[91m━\u001b[0m\u001b[90m╺\u001b[0m\u001b[90m━━━━━━━━━━━━━━━━━━━━━━━━━━━━━━━━━━━━━━\u001b[0m \u001b[32m0.2/7.0 MB\u001b[0m \u001b[31m7.2 MB/s\u001b[0m eta \u001b[36m0:00:01\u001b[0m\r\u001b[2K     \u001b[91m━━━━━━━━━\u001b[0m\u001b[91m╸\u001b[0m\u001b[90m━━━━━━━━━━━━━━━━━━━━━━━━━━━━━━\u001b[0m \u001b[32m1.7/7.0 MB\u001b[0m \u001b[31m25.2 MB/s\u001b[0m eta \u001b[36m0:00:01\u001b[0m\r\u001b[2K     \u001b[91m━━━━━━━━━━━━━━━━━━━━━━━━━━━━━━━━━━━━━━━\u001b[0m\u001b[91m╸\u001b[0m \u001b[32m6.9/7.0 MB\u001b[0m \u001b[31m68.2 MB/s\u001b[0m eta \u001b[36m0:00:01\u001b[0m\r\u001b[2K     \u001b[90m━━━━━━━━━━━━━━━━━━━━━━━━━━━━━━━━━━━━━━━━\u001b[0m \u001b[32m7.0/7.0 MB\u001b[0m \u001b[31m50.0 MB/s\u001b[0m eta \u001b[36m0:00:00\u001b[0m\n",
            "\u001b[?25hRequirement already satisfied: regex!=2019.12.17 in /usr/local/lib/python3.10/dist-packages (from transformers) (2022.10.31)\n",
            "Requirement already satisfied: tqdm>=4.27 in /usr/local/lib/python3.10/dist-packages (from transformers) (4.65.0)\n",
            "Requirement already satisfied: pyyaml>=5.1 in /usr/local/lib/python3.10/dist-packages (from transformers) (6.0)\n",
            "Requirement already satisfied: packaging>=20.0 in /usr/local/lib/python3.10/dist-packages (from transformers) (23.1)\n",
            "Requirement already satisfied: requests in /usr/local/lib/python3.10/dist-packages (from transformers) (2.27.1)\n",
            "Requirement already satisfied: filelock in /usr/local/lib/python3.10/dist-packages (from transformers) (3.12.0)\n",
            "Requirement already satisfied: numpy>=1.17 in /usr/local/lib/python3.10/dist-packages (from transformers) (1.22.4)\n",
            "Collecting tokenizers!=0.11.3,<0.14,>=0.11.1\n",
            "  Downloading tokenizers-0.13.3-cp310-cp310-manylinux_2_17_x86_64.manylinux2014_x86_64.whl (7.8 MB)\n",
            "\u001b[2K     \u001b[90m━━━━━━━━━━━━━━━━━━━━━━━━━━━━━━━━━━━━━━━━\u001b[0m \u001b[32m7.8/7.8 MB\u001b[0m \u001b[31m65.7 MB/s\u001b[0m eta \u001b[36m0:00:00\u001b[0m\n",
            "\u001b[?25hCollecting huggingface-hub<1.0,>=0.11.0\n",
            "  Downloading huggingface_hub-0.14.1-py3-none-any.whl (224 kB)\n",
            "\u001b[2K     \u001b[90m━━━━━━━━━━━━━━━━━━━━━━━━━━━━━━━━━━━━━━\u001b[0m \u001b[32m224.5/224.5 kB\u001b[0m \u001b[31m21.2 MB/s\u001b[0m eta \u001b[36m0:00:00\u001b[0m\n",
            "\u001b[?25hRequirement already satisfied: fsspec in /usr/local/lib/python3.10/dist-packages (from huggingface-hub<1.0,>=0.11.0->transformers) (2023.4.0)\n",
            "Requirement already satisfied: typing-extensions>=3.7.4.3 in /usr/local/lib/python3.10/dist-packages (from huggingface-hub<1.0,>=0.11.0->transformers) (4.5.0)\n",
            "Requirement already satisfied: charset-normalizer~=2.0.0 in /usr/local/lib/python3.10/dist-packages (from requests->transformers) (2.0.12)\n",
            "Requirement already satisfied: urllib3<1.27,>=1.21.1 in /usr/local/lib/python3.10/dist-packages (from requests->transformers) (1.26.15)\n",
            "Requirement already satisfied: idna<4,>=2.5 in /usr/local/lib/python3.10/dist-packages (from requests->transformers) (3.4)\n",
            "Requirement already satisfied: certifi>=2017.4.17 in /usr/local/lib/python3.10/dist-packages (from requests->transformers) (2022.12.7)\n",
            "Installing collected packages: tokenizers, huggingface-hub, transformers\n",
            "Successfully installed huggingface-hub-0.14.1 tokenizers-0.13.3 transformers-4.28.1\n"
          ]
        },
        {
          "output_type": "stream",
          "name": "stderr",
          "text": [
            "No model was supplied, defaulted to distilbert-base-uncased-finetuned-sst-2-english and revision af0f99b (https://huggingface.co/distilbert-base-uncased-finetuned-sst-2-english).\n",
            "Using a pipeline without specifying a model name and revision in production is not recommended.\n"
          ]
        },
        {
          "output_type": "display_data",
          "data": {
            "text/plain": [
              "Downloading (…)lve/main/config.json:   0%|          | 0.00/629 [00:00<?, ?B/s]"
            ],
            "application/vnd.jupyter.widget-view+json": {
              "version_major": 2,
              "version_minor": 0,
              "model_id": "c8ca4c7119bb4f5983cfcbbc20e5cbc1"
            }
          },
          "metadata": {}
        },
        {
          "output_type": "display_data",
          "data": {
            "text/plain": [
              "Downloading pytorch_model.bin:   0%|          | 0.00/268M [00:00<?, ?B/s]"
            ],
            "application/vnd.jupyter.widget-view+json": {
              "version_major": 2,
              "version_minor": 0,
              "model_id": "878264df49984caaa2dae86e9e1ecc00"
            }
          },
          "metadata": {}
        },
        {
          "output_type": "display_data",
          "data": {
            "text/plain": [
              "Downloading (…)okenizer_config.json:   0%|          | 0.00/48.0 [00:00<?, ?B/s]"
            ],
            "application/vnd.jupyter.widget-view+json": {
              "version_major": 2,
              "version_minor": 0,
              "model_id": "d6ab194ec62e40909b71f6f99e46319b"
            }
          },
          "metadata": {}
        },
        {
          "output_type": "display_data",
          "data": {
            "text/plain": [
              "Downloading (…)solve/main/vocab.txt:   0%|          | 0.00/232k [00:00<?, ?B/s]"
            ],
            "application/vnd.jupyter.widget-view+json": {
              "version_major": 2,
              "version_minor": 0,
              "model_id": "dae4897444094018b9609914061e9a69"
            }
          },
          "metadata": {}
        }
      ]
    },
    {
      "cell_type": "markdown",
      "source": [
        "Now that we have our pipeline, let’s generate some predictions! Each pipeline takes a\n",
        "string of text (or a list of strings) as input and returns a list of predictions. Each pre‐\n",
        "diction is a Python dictionary, so we can use Pandas to display them nicely as a\n",
        "DataFrame:"
      ],
      "metadata": {
        "id": "RGUTsbq0pUOr"
      }
    },
    {
      "cell_type": "code",
      "source": [
        "import pandas as pd\n",
        "print(df.text.iloc[0])\n",
        "outputs = classifier(df.text.iloc[0])\n",
        "pd.DataFrame(outputs)"
      ],
      "metadata": {
        "colab": {
          "base_uri": "https://localhost:8080/",
          "height": 118
        },
        "id": "NIfsluLqbguK",
        "outputId": "a21d1329-18c7-48d6-9fd2-a41a62be9f64"
      },
      "execution_count": 7,
      "outputs": [
        {
          "output_type": "stream",
          "name": "stdout",
          "text": [
            "I have bought several of the Vitality canned dog food products and have found them all to be of good quality. The product looks more like a stew than a processed meat and it smells better. My Labrador is finicky and she appreciates this product better than  most.\n"
          ]
        },
        {
          "output_type": "execute_result",
          "data": {
            "text/plain": [
              "      label     score\n",
              "0  POSITIVE  0.998385"
            ],
            "text/html": [
              "\n",
              "  <div id=\"df-3fae2140-6ea0-4857-8ecb-f657286c8bbc\">\n",
              "    <div class=\"colab-df-container\">\n",
              "      <div>\n",
              "<style scoped>\n",
              "    .dataframe tbody tr th:only-of-type {\n",
              "        vertical-align: middle;\n",
              "    }\n",
              "\n",
              "    .dataframe tbody tr th {\n",
              "        vertical-align: top;\n",
              "    }\n",
              "\n",
              "    .dataframe thead th {\n",
              "        text-align: right;\n",
              "    }\n",
              "</style>\n",
              "<table border=\"1\" class=\"dataframe\">\n",
              "  <thead>\n",
              "    <tr style=\"text-align: right;\">\n",
              "      <th></th>\n",
              "      <th>label</th>\n",
              "      <th>score</th>\n",
              "    </tr>\n",
              "  </thead>\n",
              "  <tbody>\n",
              "    <tr>\n",
              "      <th>0</th>\n",
              "      <td>POSITIVE</td>\n",
              "      <td>0.998385</td>\n",
              "    </tr>\n",
              "  </tbody>\n",
              "</table>\n",
              "</div>\n",
              "      <button class=\"colab-df-convert\" onclick=\"convertToInteractive('df-3fae2140-6ea0-4857-8ecb-f657286c8bbc')\"\n",
              "              title=\"Convert this dataframe to an interactive table.\"\n",
              "              style=\"display:none;\">\n",
              "        \n",
              "  <svg xmlns=\"http://www.w3.org/2000/svg\" height=\"24px\"viewBox=\"0 0 24 24\"\n",
              "       width=\"24px\">\n",
              "    <path d=\"M0 0h24v24H0V0z\" fill=\"none\"/>\n",
              "    <path d=\"M18.56 5.44l.94 2.06.94-2.06 2.06-.94-2.06-.94-.94-2.06-.94 2.06-2.06.94zm-11 1L8.5 8.5l.94-2.06 2.06-.94-2.06-.94L8.5 2.5l-.94 2.06-2.06.94zm10 10l.94 2.06.94-2.06 2.06-.94-2.06-.94-.94-2.06-.94 2.06-2.06.94z\"/><path d=\"M17.41 7.96l-1.37-1.37c-.4-.4-.92-.59-1.43-.59-.52 0-1.04.2-1.43.59L10.3 9.45l-7.72 7.72c-.78.78-.78 2.05 0 2.83L4 21.41c.39.39.9.59 1.41.59.51 0 1.02-.2 1.41-.59l7.78-7.78 2.81-2.81c.8-.78.8-2.07 0-2.86zM5.41 20L4 18.59l7.72-7.72 1.47 1.35L5.41 20z\"/>\n",
              "  </svg>\n",
              "      </button>\n",
              "      \n",
              "  <style>\n",
              "    .colab-df-container {\n",
              "      display:flex;\n",
              "      flex-wrap:wrap;\n",
              "      gap: 12px;\n",
              "    }\n",
              "\n",
              "    .colab-df-convert {\n",
              "      background-color: #E8F0FE;\n",
              "      border: none;\n",
              "      border-radius: 50%;\n",
              "      cursor: pointer;\n",
              "      display: none;\n",
              "      fill: #1967D2;\n",
              "      height: 32px;\n",
              "      padding: 0 0 0 0;\n",
              "      width: 32px;\n",
              "    }\n",
              "\n",
              "    .colab-df-convert:hover {\n",
              "      background-color: #E2EBFA;\n",
              "      box-shadow: 0px 1px 2px rgba(60, 64, 67, 0.3), 0px 1px 3px 1px rgba(60, 64, 67, 0.15);\n",
              "      fill: #174EA6;\n",
              "    }\n",
              "\n",
              "    [theme=dark] .colab-df-convert {\n",
              "      background-color: #3B4455;\n",
              "      fill: #D2E3FC;\n",
              "    }\n",
              "\n",
              "    [theme=dark] .colab-df-convert:hover {\n",
              "      background-color: #434B5C;\n",
              "      box-shadow: 0px 1px 3px 1px rgba(0, 0, 0, 0.15);\n",
              "      filter: drop-shadow(0px 1px 2px rgba(0, 0, 0, 0.3));\n",
              "      fill: #FFFFFF;\n",
              "    }\n",
              "  </style>\n",
              "\n",
              "      <script>\n",
              "        const buttonEl =\n",
              "          document.querySelector('#df-3fae2140-6ea0-4857-8ecb-f657286c8bbc button.colab-df-convert');\n",
              "        buttonEl.style.display =\n",
              "          google.colab.kernel.accessAllowed ? 'block' : 'none';\n",
              "\n",
              "        async function convertToInteractive(key) {\n",
              "          const element = document.querySelector('#df-3fae2140-6ea0-4857-8ecb-f657286c8bbc');\n",
              "          const dataTable =\n",
              "            await google.colab.kernel.invokeFunction('convertToInteractive',\n",
              "                                                     [key], {});\n",
              "          if (!dataTable) return;\n",
              "\n",
              "          const docLinkHtml = 'Like what you see? Visit the ' +\n",
              "            '<a target=\"_blank\" href=https://colab.research.google.com/notebooks/data_table.ipynb>data table notebook</a>'\n",
              "            + ' to learn more about interactive tables.';\n",
              "          element.innerHTML = '';\n",
              "          dataTable['output_type'] = 'display_data';\n",
              "          await google.colab.output.renderOutput(dataTable, element);\n",
              "          const docLink = document.createElement('div');\n",
              "          docLink.innerHTML = docLinkHtml;\n",
              "          element.appendChild(docLink);\n",
              "        }\n",
              "      </script>\n",
              "    </div>\n",
              "  </div>\n",
              "  "
            ]
          },
          "metadata": {},
          "execution_count": 7
        }
      ]
    },
    {
      "cell_type": "markdown",
      "source": [
        "# From Text to Token"
      ],
      "metadata": {
        "id": "WxntrtEg29qC"
      }
    },
    {
      "cell_type": "markdown",
      "source": [
        "## Subword Tokenization"
      ],
      "metadata": {
        "id": "4Hijbp8n3fEG"
      }
    },
    {
      "cell_type": "code",
      "source": [
        "from transformers import AutoTokenizer\n",
        "model_ckpt = \"distilbert-base-uncased\"\n",
        "tokenizer = AutoTokenizer.from_pretrained(model_ckpt)"
      ],
      "metadata": {
        "colab": {
          "base_uri": "https://localhost:8080/",
          "height": 145,
          "referenced_widgets": [
            "90fb6a7980254f25b1373c4da3e965e7",
            "358c32ee622f48efb612d98aeb06315c",
            "bc865b0345de4355b23ac41aa02f1404",
            "d7ba627068284f018bc90fc142bc304d",
            "47fd31032e0847b9be734297a8fb83d9",
            "e6d49286da8e42e08d0140a3e5038493",
            "5c0c12bf793c421aa5261e85f947b4a3",
            "d9ab2716306d4e40bb4a436329a3358a",
            "bfdcc5bcf34f424e8341ba2019465983",
            "c61d20bb61bd4a87b937f697c67e6e0f",
            "b5cc8020789c48c19d34fa229c52cf0d",
            "8c6da3ce97204bca82d205331ec8f92d",
            "fdba57858b3047b986334f79ecc23a25",
            "38221c458a9a4f84b2ac1e666699df5e",
            "5df4b6db8eca497d96e3ab6e6922fe84",
            "754970c8e1044295a8cc28d34fbad736",
            "bd6a0d17708b494c83ec37a52f066fa6",
            "a4fce70f613b462ab5e055346ce95389",
            "6d8c9723a7284338a7aa565e7e1df379",
            "afb4cdeeea57476a91e18585038dec4e",
            "864c5d17739b43fb84816a510e47d92c",
            "3cd577a19dac43cba7f4118930053fc7",
            "370839f4151c4a1f81136c46ad14df56",
            "f6397833fa5b44cbbf8e0ab2a6a91a00",
            "5069d9455d794cd5baa390cc7a1725c4",
            "6457906fee04467f9f61e03f917bf20c",
            "31a2071786444141a2cd5e4c7e343264",
            "ff3fb040cfc44633a5da9ff0540e3780",
            "5b05ec0d188b4b13a49b4e5198df1815",
            "9ed6fab4c8be4303b792c3163389cebd",
            "f93726b3129844c8981fd69422b97920",
            "b9b354be52b544f29dc1f23e4676b0d2",
            "1e00105a4f3047dab77e9df80f30c25d",
            "1c043ab5b1ef4da1aeaa5dbd36eb4840",
            "443a3af92a404cefb79783a5d94dea7d",
            "edcb3664dd0543d1b0152d81c69d65eb",
            "d4c0f617b9d54d8c9c98661e8d163713",
            "95f60a077fb147eca2a7aaa0fe5c9d58",
            "8af61ca00dc74d0b88c4278e417e201c",
            "ddf4d60208e94901a5f3fe13699e9023",
            "94402cf86e9747e184dd7bf50e0533d6",
            "c54afb3e2ccf46d8801a54e26bba95d1",
            "43a596f2c64243a9b0e830f71d0aef3f",
            "217d36c676cd44b2a2c539d211e83874"
          ]
        },
        "id": "tqp-DM4epWzk",
        "outputId": "94bda9be-f825-4e4f-d258-258ff863ffbc"
      },
      "execution_count": 8,
      "outputs": [
        {
          "output_type": "display_data",
          "data": {
            "text/plain": [
              "Downloading (…)okenizer_config.json:   0%|          | 0.00/28.0 [00:00<?, ?B/s]"
            ],
            "application/vnd.jupyter.widget-view+json": {
              "version_major": 2,
              "version_minor": 0,
              "model_id": "90fb6a7980254f25b1373c4da3e965e7"
            }
          },
          "metadata": {}
        },
        {
          "output_type": "display_data",
          "data": {
            "text/plain": [
              "Downloading (…)lve/main/config.json:   0%|          | 0.00/483 [00:00<?, ?B/s]"
            ],
            "application/vnd.jupyter.widget-view+json": {
              "version_major": 2,
              "version_minor": 0,
              "model_id": "8c6da3ce97204bca82d205331ec8f92d"
            }
          },
          "metadata": {}
        },
        {
          "output_type": "display_data",
          "data": {
            "text/plain": [
              "Downloading (…)solve/main/vocab.txt:   0%|          | 0.00/232k [00:00<?, ?B/s]"
            ],
            "application/vnd.jupyter.widget-view+json": {
              "version_major": 2,
              "version_minor": 0,
              "model_id": "370839f4151c4a1f81136c46ad14df56"
            }
          },
          "metadata": {}
        },
        {
          "output_type": "display_data",
          "data": {
            "text/plain": [
              "Downloading (…)/main/tokenizer.json:   0%|          | 0.00/466k [00:00<?, ?B/s]"
            ],
            "application/vnd.jupyter.widget-view+json": {
              "version_major": 2,
              "version_minor": 0,
              "model_id": "1c043ab5b1ef4da1aeaa5dbd36eb4840"
            }
          },
          "metadata": {}
        }
      ]
    },
    {
      "cell_type": "code",
      "source": [
        "encoded_text = tokenizer(df.text.iloc[0])\n",
        "print(encoded_text)"
      ],
      "metadata": {
        "colab": {
          "base_uri": "https://localhost:8080/"
        },
        "id": "p-6MmpJm9PK0",
        "outputId": "a7964d27-d663-4f1b-d4dc-7642be3bbdd4"
      },
      "execution_count": 9,
      "outputs": [
        {
          "output_type": "stream",
          "name": "stdout",
          "text": [
            "{'input_ids': [101, 1045, 2031, 4149, 2195, 1997, 1996, 8995, 3012, 27141, 3899, 2833, 3688, 1998, 2031, 2179, 2068, 2035, 2000, 2022, 1997, 2204, 3737, 1012, 1996, 4031, 3504, 2062, 2066, 1037, 20717, 2084, 1037, 13995, 6240, 1998, 2009, 14747, 2488, 1012, 2026, 18604, 2003, 10346, 6799, 2100, 1998, 2016, 9120, 2015, 2023, 4031, 2488, 2084, 2087, 1012, 102], 'attention_mask': [1, 1, 1, 1, 1, 1, 1, 1, 1, 1, 1, 1, 1, 1, 1, 1, 1, 1, 1, 1, 1, 1, 1, 1, 1, 1, 1, 1, 1, 1, 1, 1, 1, 1, 1, 1, 1, 1, 1, 1, 1, 1, 1, 1, 1, 1, 1, 1, 1, 1, 1, 1, 1, 1, 1, 1, 1]}\n"
          ]
        }
      ]
    },
    {
      "cell_type": "markdown",
      "source": [
        "We can observe three things here. First, some special [CLS] and [SEP] tokens have\n",
        "been added to the start and end of the sequence. These tokens differ from model to\n",
        "model, but their main role is to indicate the start and end of a sequence. Second, the\n",
        "tokens have each been lowercased, which is a feature of this particular checkpoint.\n",
        "\n",
        "Finally, we can see that some words have been split into two tokens,\n",
        "which makes sense since they are not common words. In particular The ## prefix means that the preceding string is not whitespace; any token with this prefix\n",
        "should be merged with the previous token when you convert the tokens back to a\n",
        "string. "
      ],
      "metadata": {
        "id": "f5C05mkC1qGo"
      }
    },
    {
      "cell_type": "code",
      "source": [
        "tokens = tokenizer.convert_ids_to_tokens(encoded_text.input_ids)\n",
        "print(tokens)"
      ],
      "metadata": {
        "colab": {
          "base_uri": "https://localhost:8080/"
        },
        "id": "MZQbPnnS9Ugh",
        "outputId": "5ea8f04c-2515-42bb-ea2c-a62524aec013"
      },
      "execution_count": 10,
      "outputs": [
        {
          "output_type": "stream",
          "name": "stdout",
          "text": [
            "['[CLS]', 'i', 'have', 'bought', 'several', 'of', 'the', 'vital', '##ity', 'canned', 'dog', 'food', 'products', 'and', 'have', 'found', 'them', 'all', 'to', 'be', 'of', 'good', 'quality', '.', 'the', 'product', 'looks', 'more', 'like', 'a', 'stew', 'than', 'a', 'processed', 'meat', 'and', 'it', 'smells', 'better', '.', 'my', 'labrador', 'is', 'fin', '##ick', '##y', 'and', 'she', 'appreciate', '##s', 'this', 'product', 'better', 'than', 'most', '.', '[SEP]']\n"
          ]
        }
      ]
    },
    {
      "cell_type": "code",
      "source": [
        "print(tokenizer.convert_tokens_to_string(tokens))"
      ],
      "metadata": {
        "colab": {
          "base_uri": "https://localhost:8080/"
        },
        "id": "msWi2kxV9W_J",
        "outputId": "d4ab3333-2d94-4c54-c07d-7cab769859cd"
      },
      "execution_count": 11,
      "outputs": [
        {
          "output_type": "stream",
          "name": "stdout",
          "text": [
            "[CLS] i have bought several of the vitality canned dog food products and have found them all to be of good quality. the product looks more like a stew than a processed meat and it smells better. my labrador is finicky and she appreciates this product better than most. [SEP]\n"
          ]
        }
      ]
    },
    {
      "cell_type": "markdown",
      "source": [
        "The AutoTokenizer class also has several attributes that provide information about\n",
        "the tokenizer. For example, we can inspect the vocabulary size:"
      ],
      "metadata": {
        "id": "Gko9hsUx2IiL"
      }
    },
    {
      "cell_type": "code",
      "source": [
        "tokenizer.vocab_size"
      ],
      "metadata": {
        "colab": {
          "base_uri": "https://localhost:8080/"
        },
        "id": "ykyRMI2W9bwz",
        "outputId": "6af9c5dd-34bd-4d73-be79-63fc7409a1f2"
      },
      "execution_count": 18,
      "outputs": [
        {
          "output_type": "execute_result",
          "data": {
            "text/plain": [
              "30522"
            ]
          },
          "metadata": {},
          "execution_count": 18
        }
      ]
    },
    {
      "cell_type": "markdown",
      "source": [
        "and the corresponding model’s maximum context size:\n"
      ],
      "metadata": {
        "id": "bQVkSlvm2Lly"
      }
    },
    {
      "cell_type": "code",
      "source": [
        "tokenizer.model_max_length"
      ],
      "metadata": {
        "colab": {
          "base_uri": "https://localhost:8080/"
        },
        "id": "SBV-hJid9pfX",
        "outputId": "a836c49d-943a-404a-d83f-5d5d7f3c21f0"
      },
      "execution_count": 19,
      "outputs": [
        {
          "output_type": "execute_result",
          "data": {
            "text/plain": [
              "512"
            ]
          },
          "metadata": {},
          "execution_count": 19
        }
      ]
    },
    {
      "cell_type": "markdown",
      "source": [
        "Another interesting attribute to know about is the names of the fields that the model\n",
        "expects in its forward pass:"
      ],
      "metadata": {
        "id": "1GJAC3s02tKg"
      }
    },
    {
      "cell_type": "code",
      "source": [
        "tokenizer.model_input_names"
      ],
      "metadata": {
        "colab": {
          "base_uri": "https://localhost:8080/"
        },
        "id": "HMyS8qa79rGM",
        "outputId": "c5db6a94-7e24-4c5c-df44-2f18426d6eb9"
      },
      "execution_count": 12,
      "outputs": [
        {
          "output_type": "execute_result",
          "data": {
            "text/plain": [
              "['input_ids', 'attention_mask']"
            ]
          },
          "metadata": {},
          "execution_count": 12
        }
      ]
    },
    {
      "cell_type": "markdown",
      "source": [
        "## Tokenizing the Whole Dataset\n",
        "To tokenize the whole corpus, we’ll use the map() method of our DatasetDict object.\n",
        "\n",
        "To get started, the first thing we need is a processing function to tokenize our examples with:"
      ],
      "metadata": {
        "id": "EGVVsiEs3iI7"
      }
    },
    {
      "cell_type": "code",
      "source": [
        "def tokenize(batch):\n",
        "  '''\n",
        "  This function applies the tokenizer to a batch of examples; padding=True will pad the\n",
        "  examples with zeros to the size of the longest one in a batch, and truncation=True\n",
        "  will truncate the examples to the model’s maximum context size.\n",
        "  '''\n",
        "  return tokenizer(batch[\"text\"], padding=True, truncation=True)"
      ],
      "metadata": {
        "id": "3nfCrxmb3lfv"
      },
      "execution_count": 44,
      "outputs": []
    },
    {
      "cell_type": "code",
      "source": [
        "!pip install datasets # https://github.com/huggingface/datasets\n",
        "\n",
        "from datasets import Dataset\n",
        "\n",
        "df_hugging = Dataset.from_pandas(df)\n",
        "df_hugging"
      ],
      "metadata": {
        "colab": {
          "base_uri": "https://localhost:8080/"
        },
        "id": "cI3r9LKH92Qo",
        "outputId": "03f03cef-ddb2-4fb1-807f-2aaca132c636"
      },
      "execution_count": 45,
      "outputs": [
        {
          "output_type": "stream",
          "name": "stdout",
          "text": [
            "Looking in indexes: https://pypi.org/simple, https://us-python.pkg.dev/colab-wheels/public/simple/\n",
            "Requirement already satisfied: datasets in /usr/local/lib/python3.10/dist-packages (2.12.0)\n",
            "Requirement already satisfied: xxhash in /usr/local/lib/python3.10/dist-packages (from datasets) (3.2.0)\n",
            "Requirement already satisfied: aiohttp in /usr/local/lib/python3.10/dist-packages (from datasets) (3.8.4)\n",
            "Requirement already satisfied: dill<0.3.7,>=0.3.0 in /usr/local/lib/python3.10/dist-packages (from datasets) (0.3.6)\n",
            "Requirement already satisfied: fsspec[http]>=2021.11.1 in /usr/local/lib/python3.10/dist-packages (from datasets) (2023.4.0)\n",
            "Requirement already satisfied: responses<0.19 in /usr/local/lib/python3.10/dist-packages (from datasets) (0.18.0)\n",
            "Requirement already satisfied: packaging in /usr/local/lib/python3.10/dist-packages (from datasets) (23.1)\n",
            "Requirement already satisfied: pyarrow>=8.0.0 in /usr/local/lib/python3.10/dist-packages (from datasets) (9.0.0)\n",
            "Requirement already satisfied: pandas in /usr/local/lib/python3.10/dist-packages (from datasets) (1.5.3)\n",
            "Requirement already satisfied: tqdm>=4.62.1 in /usr/local/lib/python3.10/dist-packages (from datasets) (4.65.0)\n",
            "Requirement already satisfied: huggingface-hub<1.0.0,>=0.11.0 in /usr/local/lib/python3.10/dist-packages (from datasets) (0.14.1)\n",
            "Requirement already satisfied: numpy>=1.17 in /usr/local/lib/python3.10/dist-packages (from datasets) (1.22.4)\n",
            "Requirement already satisfied: multiprocess in /usr/local/lib/python3.10/dist-packages (from datasets) (0.70.14)\n",
            "Requirement already satisfied: pyyaml>=5.1 in /usr/local/lib/python3.10/dist-packages (from datasets) (6.0)\n",
            "Requirement already satisfied: requests>=2.19.0 in /usr/local/lib/python3.10/dist-packages (from datasets) (2.27.1)\n",
            "Requirement already satisfied: yarl<2.0,>=1.0 in /usr/local/lib/python3.10/dist-packages (from aiohttp->datasets) (1.9.2)\n",
            "Requirement already satisfied: multidict<7.0,>=4.5 in /usr/local/lib/python3.10/dist-packages (from aiohttp->datasets) (6.0.4)\n",
            "Requirement already satisfied: attrs>=17.3.0 in /usr/local/lib/python3.10/dist-packages (from aiohttp->datasets) (23.1.0)\n",
            "Requirement already satisfied: async-timeout<5.0,>=4.0.0a3 in /usr/local/lib/python3.10/dist-packages (from aiohttp->datasets) (4.0.2)\n",
            "Requirement already satisfied: aiosignal>=1.1.2 in /usr/local/lib/python3.10/dist-packages (from aiohttp->datasets) (1.3.1)\n",
            "Requirement already satisfied: frozenlist>=1.1.1 in /usr/local/lib/python3.10/dist-packages (from aiohttp->datasets) (1.3.3)\n",
            "Requirement already satisfied: charset-normalizer<4.0,>=2.0 in /usr/local/lib/python3.10/dist-packages (from aiohttp->datasets) (2.0.12)\n",
            "Requirement already satisfied: typing-extensions>=3.7.4.3 in /usr/local/lib/python3.10/dist-packages (from huggingface-hub<1.0.0,>=0.11.0->datasets) (4.5.0)\n",
            "Requirement already satisfied: filelock in /usr/local/lib/python3.10/dist-packages (from huggingface-hub<1.0.0,>=0.11.0->datasets) (3.12.0)\n",
            "Requirement already satisfied: urllib3<1.27,>=1.21.1 in /usr/local/lib/python3.10/dist-packages (from requests>=2.19.0->datasets) (1.26.15)\n",
            "Requirement already satisfied: idna<4,>=2.5 in /usr/local/lib/python3.10/dist-packages (from requests>=2.19.0->datasets) (3.4)\n",
            "Requirement already satisfied: certifi>=2017.4.17 in /usr/local/lib/python3.10/dist-packages (from requests>=2.19.0->datasets) (2022.12.7)\n",
            "Requirement already satisfied: pytz>=2020.1 in /usr/local/lib/python3.10/dist-packages (from pandas->datasets) (2022.7.1)\n",
            "Requirement already satisfied: python-dateutil>=2.8.1 in /usr/local/lib/python3.10/dist-packages (from pandas->datasets) (2.8.2)\n",
            "Requirement already satisfied: six>=1.5 in /usr/local/lib/python3.10/dist-packages (from python-dateutil>=2.8.1->pandas->datasets) (1.16.0)\n"
          ]
        },
        {
          "output_type": "execute_result",
          "data": {
            "text/plain": [
              "Dataset({\n",
              "    features: ['text', 'score'],\n",
              "    num_rows: 35172\n",
              "})"
            ]
          },
          "metadata": {},
          "execution_count": 45
        }
      ]
    },
    {
      "cell_type": "code",
      "source": [
        "encoded_text = tokenize(df_hugging[:2])\n",
        "encoded_text"
      ],
      "metadata": {
        "colab": {
          "base_uri": "https://localhost:8080/"
        },
        "id": "CdGjrNvg4Lag",
        "outputId": "5d2d780f-8e77-459c-967a-9ed0cf3f34bf"
      },
      "execution_count": 48,
      "outputs": [
        {
          "output_type": "execute_result",
          "data": {
            "text/plain": [
              "{'input_ids': [[101, 1045, 2031, 4149, 2195, 1997, 1996, 8995, 3012, 27141, 3899, 2833, 3688, 1998, 2031, 2179, 2068, 2035, 2000, 2022, 1997, 2204, 3737, 1012, 1996, 4031, 3504, 2062, 2066, 1037, 20717, 2084, 1037, 13995, 6240, 1998, 2009, 14747, 2488, 1012, 2026, 18604, 2003, 10346, 6799, 2100, 1998, 2016, 9120, 2015, 2023, 4031, 2488, 2084, 2087, 1012, 102], [101, 4031, 3369, 12599, 2004, 18414, 13344, 5474, 2098, 27613, 1012, 1012, 1012, 1996, 27613, 2020, 2941, 2235, 7451, 4895, 12002, 3064, 1012, 2025, 2469, 2065, 2023, 2001, 2019, 7561, 2030, 2065, 1996, 21431, 3832, 2000, 5050, 1996, 4031, 2004, 1000, 18414, 13344, 1000, 1012, 102, 0, 0, 0, 0, 0, 0, 0, 0, 0, 0, 0]], 'attention_mask': [[1, 1, 1, 1, 1, 1, 1, 1, 1, 1, 1, 1, 1, 1, 1, 1, 1, 1, 1, 1, 1, 1, 1, 1, 1, 1, 1, 1, 1, 1, 1, 1, 1, 1, 1, 1, 1, 1, 1, 1, 1, 1, 1, 1, 1, 1, 1, 1, 1, 1, 1, 1, 1, 1, 1, 1, 1], [1, 1, 1, 1, 1, 1, 1, 1, 1, 1, 1, 1, 1, 1, 1, 1, 1, 1, 1, 1, 1, 1, 1, 1, 1, 1, 1, 1, 1, 1, 1, 1, 1, 1, 1, 1, 1, 1, 1, 1, 1, 1, 1, 1, 1, 1, 0, 0, 0, 0, 0, 0, 0, 0, 0, 0, 0]]}"
            ]
          },
          "metadata": {},
          "execution_count": 48
        }
      ]
    },
    {
      "cell_type": "markdown",
      "source": [
        "the first element of input_ids is longer than\n",
        "the second, so zeros have been added to that element to make them the same length.\n",
        "These zeros have a corresponding [PAD] token in the vocabulary, and the set of special tokens also includes the [CLS] and [SEP] tokens that we encountered earlier:"
      ],
      "metadata": {
        "id": "bku-pHMr-osE"
      }
    },
    {
      "cell_type": "code",
      "source": [
        "tokenizer.convert_ids_to_tokens(encoded_text.input_ids[1])"
      ],
      "metadata": {
        "colab": {
          "base_uri": "https://localhost:8080/"
        },
        "id": "Q7FWyrMx4w7H",
        "outputId": "2c92f842-e3d0-4e17-81fe-29e39cf56b06"
      },
      "execution_count": 49,
      "outputs": [
        {
          "output_type": "execute_result",
          "data": {
            "text/plain": [
              "['[CLS]',\n",
              " 'product',\n",
              " 'arrived',\n",
              " 'labeled',\n",
              " 'as',\n",
              " 'ju',\n",
              " '##mbo',\n",
              " 'salt',\n",
              " '##ed',\n",
              " 'peanuts',\n",
              " '.',\n",
              " '.',\n",
              " '.',\n",
              " 'the',\n",
              " 'peanuts',\n",
              " 'were',\n",
              " 'actually',\n",
              " 'small',\n",
              " 'sized',\n",
              " 'un',\n",
              " '##sal',\n",
              " '##ted',\n",
              " '.',\n",
              " 'not',\n",
              " 'sure',\n",
              " 'if',\n",
              " 'this',\n",
              " 'was',\n",
              " 'an',\n",
              " 'error',\n",
              " 'or',\n",
              " 'if',\n",
              " 'the',\n",
              " 'vendor',\n",
              " 'intended',\n",
              " 'to',\n",
              " 'represent',\n",
              " 'the',\n",
              " 'product',\n",
              " 'as',\n",
              " '\"',\n",
              " 'ju',\n",
              " '##mbo',\n",
              " '\"',\n",
              " '.',\n",
              " '[SEP]',\n",
              " '[PAD]',\n",
              " '[PAD]',\n",
              " '[PAD]',\n",
              " '[PAD]',\n",
              " '[PAD]',\n",
              " '[PAD]',\n",
              " '[PAD]',\n",
              " '[PAD]',\n",
              " '[PAD]',\n",
              " '[PAD]',\n",
              " '[PAD]']"
            ]
          },
          "metadata": {},
          "execution_count": 49
        }
      ]
    },
    {
      "cell_type": "markdown",
      "source": [
        "Also note that in addition to returning the encoded tweets as input_ids, the tokenizer returns a list of attention_mask arrays. This is because we do not want the\n",
        "model to get confused by the additional padding tokens: the attention mask allows\n",
        "the model to ignore the padded parts of the input.\n",
        "\n",
        "![image.png](data:image/png;base64,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)"
      ],
      "metadata": {
        "id": "MiAxFDaY-4vS"
      }
    },
    {
      "cell_type": "markdown",
      "source": [
        "Once we’ve defined a processing function, we can apply it across all the splits in the\n",
        "corpus in a single line of code:"
      ],
      "metadata": {
        "id": "H2fDitDE_L08"
      }
    },
    {
      "cell_type": "code",
      "source": [
        "text_encoded = df_hugging.map(tokenize, batched=True, batch_size=None)"
      ],
      "metadata": {
        "colab": {
          "base_uri": "https://localhost:8080/",
          "height": 17,
          "referenced_widgets": [
            "f2bf8442ffc64c2ab6ae1319f88ef854",
            "5706901984e34d0c891cc5b6eee09128",
            "2fa188a3f69f492fb51afbd62331af99",
            "bd19cccd22eb4abd84e55bd73f6596d4",
            "cb67e106bbcb4f1c820a7e2524132287",
            "a339209f7e2949f38c72d486318df98d",
            "90061d126a0144d799c358b080c77960",
            "efde369b69904413a992d0edc9f3721d",
            "5c14661812f34ff59183a839e0551d19",
            "0af2b18079e34db2a98e36f05b3d7f74",
            "e67baa87b49948fda1f788528617b873"
          ]
        },
        "id": "KiNOz0Cf_RBs",
        "outputId": "caf75e74-5ed8-496b-90e9-9e200c467d89"
      },
      "execution_count": 50,
      "outputs": [
        {
          "output_type": "display_data",
          "data": {
            "text/plain": [
              "Map:   0%|          | 0/35172 [00:00<?, ? examples/s]"
            ],
            "application/vnd.jupyter.widget-view+json": {
              "version_major": 2,
              "version_minor": 0,
              "model_id": "f2bf8442ffc64c2ab6ae1319f88ef854"
            }
          },
          "metadata": {}
        }
      ]
    },
    {
      "cell_type": "markdown",
      "source": [
        "By default, the map() method operates individually on every example in the corpus,\n",
        "so setting batched=True will encode the tweets in batches. Because we’ve set\n",
        "batch_size=None, our tokenize() function will be applied on the full dataset as a\n",
        "single batch. This ensures that the input tensors and attention masks have the same\n",
        "shape globally, and we can see that this operation has added new input_ids and\n",
        "attention_mask columns to the dataset"
      ],
      "metadata": {
        "id": "WFfi6FpfIPgU"
      }
    },
    {
      "cell_type": "code",
      "source": [
        "text_encoded.column_names"
      ],
      "metadata": {
        "colab": {
          "base_uri": "https://localhost:8080/"
        },
        "id": "qwRQkl0LG0R-",
        "outputId": "1589210e-35f5-4833-caf5-01da671e111d"
      },
      "execution_count": 55,
      "outputs": [
        {
          "output_type": "execute_result",
          "data": {
            "text/plain": [
              "['text', 'score', 'input_ids', 'attention_mask']"
            ]
          },
          "metadata": {},
          "execution_count": 55
        }
      ]
    },
    {
      "cell_type": "markdown",
      "source": [
        "# Training a Text Classifier\n",
        "First, the text is tokenized and represented as one-hot vectors called token encodings.\n",
        "The size of the tokenizer vocabulary determines the dimension of the token encod‐\n",
        "ings, and it usually consists of 20k–200k unique tokens. Next, these token encodings\n",
        "are converted to token embeddings, which are vectors living in a lower-dimensional\n",
        "space. The token embeddings are then passed through the encoder block layers to\n",
        "yield a hidden state for each input token. For the pretraining objective of language\n",
        "modeling, each hidden state is fed to a layer that predicts the masked input tokens.\n",
        "For the classification task, we replace the language modeling layer with a classification layer"
      ],
      "metadata": {
        "id": "0kVoPVIzIbbP"
      }
    },
    {
      "cell_type": "markdown",
      "source": [
        "![image.png](data:image/png;base64,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)"
      ],
      "metadata": {
        "id": "X6K0aS7MIsSL"
      }
    },
    {
      "cell_type": "code",
      "source": [],
      "metadata": {
        "id": "m9fux-a0HzQO"
      },
      "execution_count": null,
      "outputs": []
    }
  ]
}